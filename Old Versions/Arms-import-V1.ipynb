{
 "cells": [
  {
   "cell_type": "code",
   "execution_count": 28,
   "metadata": {},
   "outputs": [],
   "source": [
    "import pandas as pd\n",
    "import numpy as np\n",
    "from sklearn.model_selection import train_test_split,cross_val_score,KFold\n",
    "from sklearn import metrics\n",
    "from sklearn.metrics import classification_report,confusion_matrix,accuracy_score,f1_score\n",
    "from sklearn.neighbors import KNeighborsClassifier\n",
    "from sklearn.ensemble import RandomForestClassifier\n",
    "from sklearn.ensemble import ExtraTreesClassifier\n",
    "from sklearn import preprocessing\n",
    "\n",
    "\n",
    "#libraries for model performance evaluation\n",
    "from sklearn import metrics\n",
    "from sklearn.metrics import classification_report,confusion_matrix,accuracy_score,f1_score\n",
    "\n",
    "#libraries for visualization\n",
    "import matplotlib.pyplot as plt\n",
    "import seaborn as sns\n",
    "%matplotlib inline\n",
    "from matplotlib.colors import ListedColormap\n",
    "\n",
    "# libraries for computation\n",
    "import pandas as pd\n",
    "import numpy as np\n",
    "\n",
    "#library for train test split\n",
    "from sklearn.model_selection import train_test_split,cross_val_score,KFold\n",
    "\n",
    "#library for preprocessing\n",
    "from sklearn.preprocessing import StandardScaler\n",
    "\n",
    "#library for Dimensionality reduction\n",
    "from sklearn.decomposition import PCA\n",
    "from sklearn.decomposition import TruncatedSVD\n",
    "\n",
    "#Library for feature selection techniques\n",
    "from sklearn.feature_selection import RFE\n",
    "from sklearn.feature_selection import RFECV\n",
    "from sklearn.feature_selection import SelectKBest\n",
    "from sklearn.feature_selection import chi2\n",
    "from sklearn.feature_selection import SelectFromModel\n",
    "\n",
    "#libraries for various ML models \n",
    "from sklearn import svm\n",
    "from sklearn.svm import SVC\n",
    "from sklearn.linear_model import LogisticRegression\n",
    "from sklearn.neural_network import MLPClassifier\n",
    "from sklearn.neighbors import KNeighborsClassifier\n",
    "from sklearn.tree import DecisionTreeClassifier\n",
    "#ensemble models\n",
    "from sklearn.ensemble import BaggingClassifier\n",
    "from sklearn.ensemble import AdaBoostClassifier\n",
    "from sklearn.ensemble import GradientBoostingClassifier\n",
    "from sklearn.ensemble import VotingClassifier\n",
    "from sklearn.ensemble import RandomForestClassifier\n",
    "from sklearn.ensemble import ExtraTreesClassifier\n",
    "from sklearn.ensemble import RandomForestRegressor\n",
    "\n",
    "\n",
    "\n",
    "#libraries for model performance evaluation\n",
    "from sklearn import metrics\n",
    "from sklearn.metrics import classification_report,confusion_matrix,accuracy_score,f1_score\n",
    "\n",
    "#libraries for visualization\n",
    "import matplotlib.pyplot as plt\n",
    "import seaborn as sns\n",
    "%matplotlib inline\n",
    "from matplotlib.colors import ListedColormap\n",
    "\n",
    "import warnings\n",
    "warnings.filterwarnings('ignore')"
   ]
  },
  {
   "cell_type": "markdown",
   "metadata": {},
   "source": [
    "### Read Data from CSV"
   ]
  },
  {
   "cell_type": "code",
   "execution_count": 29,
   "metadata": {},
   "outputs": [],
   "source": [
    "data = pd.read_csv('Arms-import.csv')"
   ]
  },
  {
   "cell_type": "code",
   "execution_count": 30,
   "metadata": {},
   "outputs": [
    {
     "data": {
      "text/html": [
       "<div>\n",
       "<style scoped>\n",
       "    .dataframe tbody tr th:only-of-type {\n",
       "        vertical-align: middle;\n",
       "    }\n",
       "\n",
       "    .dataframe tbody tr th {\n",
       "        vertical-align: top;\n",
       "    }\n",
       "\n",
       "    .dataframe thead th {\n",
       "        text-align: right;\n",
       "    }\n",
       "</style>\n",
       "<table border=\"1\" class=\"dataframe\">\n",
       "  <thead>\n",
       "    <tr style=\"text-align: right;\">\n",
       "      <th></th>\n",
       "      <th>Country or Area</th>\n",
       "      <th>Year</th>\n",
       "      <th>Value</th>\n",
       "      <th>Value Footnotes</th>\n",
       "    </tr>\n",
       "  </thead>\n",
       "  <tbody>\n",
       "    <tr>\n",
       "      <th>0</th>\n",
       "      <td>Afghanistan</td>\n",
       "      <td>2017</td>\n",
       "      <td>250000000.0</td>\n",
       "      <td>NaN</td>\n",
       "    </tr>\n",
       "    <tr>\n",
       "      <th>1</th>\n",
       "      <td>Afghanistan</td>\n",
       "      <td>2016</td>\n",
       "      <td>176000000.0</td>\n",
       "      <td>NaN</td>\n",
       "    </tr>\n",
       "    <tr>\n",
       "      <th>2</th>\n",
       "      <td>Afghanistan</td>\n",
       "      <td>2015</td>\n",
       "      <td>116000000.0</td>\n",
       "      <td>NaN</td>\n",
       "    </tr>\n",
       "    <tr>\n",
       "      <th>3</th>\n",
       "      <td>Afghanistan</td>\n",
       "      <td>2014</td>\n",
       "      <td>288000000.0</td>\n",
       "      <td>NaN</td>\n",
       "    </tr>\n",
       "    <tr>\n",
       "      <th>4</th>\n",
       "      <td>Afghanistan</td>\n",
       "      <td>2013</td>\n",
       "      <td>235000000.0</td>\n",
       "      <td>NaN</td>\n",
       "    </tr>\n",
       "  </tbody>\n",
       "</table>\n",
       "</div>"
      ],
      "text/plain": [
       "  Country or Area  Year        Value  Value Footnotes\n",
       "0     Afghanistan  2017  250000000.0              NaN\n",
       "1     Afghanistan  2016  176000000.0              NaN\n",
       "2     Afghanistan  2015  116000000.0              NaN\n",
       "3     Afghanistan  2014  288000000.0              NaN\n",
       "4     Afghanistan  2013  235000000.0              NaN"
      ]
     },
     "execution_count": 30,
     "metadata": {},
     "output_type": "execute_result"
    }
   ],
   "source": [
    "data.head()"
   ]
  },
  {
   "cell_type": "markdown",
   "metadata": {},
   "source": [
    "#### lets drop extra column Value Footnotes"
   ]
  },
  {
   "cell_type": "code",
   "execution_count": 31,
   "metadata": {},
   "outputs": [
    {
     "data": {
      "text/html": [
       "<div>\n",
       "<style scoped>\n",
       "    .dataframe tbody tr th:only-of-type {\n",
       "        vertical-align: middle;\n",
       "    }\n",
       "\n",
       "    .dataframe tbody tr th {\n",
       "        vertical-align: top;\n",
       "    }\n",
       "\n",
       "    .dataframe thead th {\n",
       "        text-align: right;\n",
       "    }\n",
       "</style>\n",
       "<table border=\"1\" class=\"dataframe\">\n",
       "  <thead>\n",
       "    <tr style=\"text-align: right;\">\n",
       "      <th></th>\n",
       "      <th>Country or Area</th>\n",
       "      <th>Year</th>\n",
       "      <th>Value</th>\n",
       "    </tr>\n",
       "  </thead>\n",
       "  <tbody>\n",
       "    <tr>\n",
       "      <th>0</th>\n",
       "      <td>Afghanistan</td>\n",
       "      <td>2017</td>\n",
       "      <td>250000000.0</td>\n",
       "    </tr>\n",
       "    <tr>\n",
       "      <th>1</th>\n",
       "      <td>Afghanistan</td>\n",
       "      <td>2016</td>\n",
       "      <td>176000000.0</td>\n",
       "    </tr>\n",
       "    <tr>\n",
       "      <th>2</th>\n",
       "      <td>Afghanistan</td>\n",
       "      <td>2015</td>\n",
       "      <td>116000000.0</td>\n",
       "    </tr>\n",
       "    <tr>\n",
       "      <th>3</th>\n",
       "      <td>Afghanistan</td>\n",
       "      <td>2014</td>\n",
       "      <td>288000000.0</td>\n",
       "    </tr>\n",
       "    <tr>\n",
       "      <th>4</th>\n",
       "      <td>Afghanistan</td>\n",
       "      <td>2013</td>\n",
       "      <td>235000000.0</td>\n",
       "    </tr>\n",
       "  </tbody>\n",
       "</table>\n",
       "</div>"
      ],
      "text/plain": [
       "  Country or Area  Year        Value\n",
       "0     Afghanistan  2017  250000000.0\n",
       "1     Afghanistan  2016  176000000.0\n",
       "2     Afghanistan  2015  116000000.0\n",
       "3     Afghanistan  2014  288000000.0\n",
       "4     Afghanistan  2013  235000000.0"
      ]
     },
     "execution_count": 31,
     "metadata": {},
     "output_type": "execute_result"
    }
   ],
   "source": [
    "# Read data from csv and print the head\n",
    "data = data.drop(columns=['Value Footnotes'])\n",
    "data.head(5)"
   ]
  },
  {
   "cell_type": "markdown",
   "metadata": {},
   "source": [
    "#### Get data insights"
   ]
  },
  {
   "cell_type": "code",
   "execution_count": 32,
   "metadata": {
    "scrolled": true
   },
   "outputs": [
    {
     "name": "stdout",
     "output_type": "stream",
     "text": [
      "<class 'pandas.core.frame.DataFrame'>\n",
      "RangeIndex: 8258 entries, 0 to 8257\n",
      "Data columns (total 3 columns):\n",
      "Country or Area    8258 non-null object\n",
      "Year               8258 non-null object\n",
      "Value              8256 non-null float64\n",
      "dtypes: float64(1), object(2)\n",
      "memory usage: 193.6+ KB\n"
     ]
    }
   ],
   "source": [
    "data.info()"
   ]
  },
  {
   "cell_type": "markdown",
   "metadata": {},
   "source": [
    "#### it seems column Value has some missing values or NaN "
   ]
  },
  {
   "cell_type": "code",
   "execution_count": 33,
   "metadata": {},
   "outputs": [],
   "source": [
    "vals = data['Value']"
   ]
  },
  {
   "cell_type": "code",
   "execution_count": 34,
   "metadata": {
    "scrolled": true
   },
   "outputs": [
    {
     "data": {
      "text/html": [
       "<div>\n",
       "<style scoped>\n",
       "    .dataframe tbody tr th:only-of-type {\n",
       "        vertical-align: middle;\n",
       "    }\n",
       "\n",
       "    .dataframe tbody tr th {\n",
       "        vertical-align: top;\n",
       "    }\n",
       "\n",
       "    .dataframe thead th {\n",
       "        text-align: right;\n",
       "    }\n",
       "</style>\n",
       "<table border=\"1\" class=\"dataframe\">\n",
       "  <thead>\n",
       "    <tr style=\"text-align: right;\">\n",
       "      <th></th>\n",
       "      <th>Country or Area</th>\n",
       "      <th>Year</th>\n",
       "      <th>Value</th>\n",
       "    </tr>\n",
       "  </thead>\n",
       "  <tbody>\n",
       "    <tr>\n",
       "      <th>8256</th>\n",
       "      <td>footnoteSeqID</td>\n",
       "      <td>Footnote</td>\n",
       "      <td>NaN</td>\n",
       "    </tr>\n",
       "    <tr>\n",
       "      <th>8257</th>\n",
       "      <td>2</td>\n",
       "      <td>Value of deliveries is less than 0.5 million TIV</td>\n",
       "      <td>NaN</td>\n",
       "    </tr>\n",
       "  </tbody>\n",
       "</table>\n",
       "</div>"
      ],
      "text/plain": [
       "     Country or Area                                              Year  Value\n",
       "8256   footnoteSeqID                                          Footnote    NaN\n",
       "8257               2  Value of deliveries is less than 0.5 million TIV    NaN"
      ]
     },
     "execution_count": 34,
     "metadata": {},
     "output_type": "execute_result"
    }
   ],
   "source": [
    "d = data[ vals.isna() ]\n",
    "d"
   ]
  },
  {
   "cell_type": "markdown",
   "metadata": {},
   "source": [
    "##### lets drop this entries"
   ]
  },
  {
   "cell_type": "code",
   "execution_count": 35,
   "metadata": {},
   "outputs": [],
   "source": [
    "data  = data [0:8256] "
   ]
  },
  {
   "cell_type": "code",
   "execution_count": 36,
   "metadata": {},
   "outputs": [
    {
     "name": "stdout",
     "output_type": "stream",
     "text": [
      "<class 'pandas.core.frame.DataFrame'>\n",
      "RangeIndex: 8256 entries, 0 to 8255\n",
      "Data columns (total 3 columns):\n",
      "Country or Area    8256 non-null object\n",
      "Year               8256 non-null object\n",
      "Value              8256 non-null float64\n",
      "dtypes: float64(1), object(2)\n",
      "memory usage: 193.6+ KB\n"
     ]
    }
   ],
   "source": [
    "data.info()"
   ]
  },
  {
   "cell_type": "code",
   "execution_count": 37,
   "metadata": {},
   "outputs": [
    {
     "data": {
      "text/plain": [
       "232"
      ]
     },
     "execution_count": 37,
     "metadata": {},
     "output_type": "execute_result"
    }
   ],
   "source": [
    "data['Country or Area'].nunique()"
   ]
  },
  {
   "cell_type": "markdown",
   "metadata": {},
   "source": [
    "### Lets normalize data"
   ]
  },
  {
   "cell_type": "code",
   "execution_count": 38,
   "metadata": {},
   "outputs": [],
   "source": [
    "# Normalize the value column and drop old column\n",
    "\n",
    "# Create x, where x the 'Value' column's values as floats\n",
    "x = data[['Value']].values.astype(float)\n",
    "\n",
    "# Create a minimum and maximum processor object\n",
    "min_max_scaler = preprocessing.MinMaxScaler()\n",
    "\n",
    "# Create an object to transform the data to fit minmax processor\n",
    "x_scaled = min_max_scaler.fit_transform(x)\n",
    "\n",
    "# Run the normalizer on the dataframe\n",
    "df_normalized = pd.DataFrame(x_scaled)\n",
    "df_normalized['normalized'] = pd.DataFrame(x_scaled)\n",
    "df_normalized.drop(columns=0,inplace=True)\n",
    "\n",
    "data_new = pd.concat([data,df_normalized ], axis=1)\n",
    "data_new.drop(columns='Value',inplace=True)"
   ]
  },
  {
   "cell_type": "code",
   "execution_count": 39,
   "metadata": {},
   "outputs": [
    {
     "data": {
      "text/html": [
       "<div>\n",
       "<style scoped>\n",
       "    .dataframe tbody tr th:only-of-type {\n",
       "        vertical-align: middle;\n",
       "    }\n",
       "\n",
       "    .dataframe tbody tr th {\n",
       "        vertical-align: top;\n",
       "    }\n",
       "\n",
       "    .dataframe thead th {\n",
       "        text-align: right;\n",
       "    }\n",
       "</style>\n",
       "<table border=\"1\" class=\"dataframe\">\n",
       "  <thead>\n",
       "    <tr style=\"text-align: right;\">\n",
       "      <th></th>\n",
       "      <th>Country or Area</th>\n",
       "      <th>Year</th>\n",
       "      <th>normalized</th>\n",
       "    </tr>\n",
       "  </thead>\n",
       "  <tbody>\n",
       "    <tr>\n",
       "      <th>0</th>\n",
       "      <td>Afghanistan</td>\n",
       "      <td>2017</td>\n",
       "      <td>0.005994</td>\n",
       "    </tr>\n",
       "    <tr>\n",
       "      <th>1</th>\n",
       "      <td>Afghanistan</td>\n",
       "      <td>2016</td>\n",
       "      <td>0.004220</td>\n",
       "    </tr>\n",
       "    <tr>\n",
       "      <th>2</th>\n",
       "      <td>Afghanistan</td>\n",
       "      <td>2015</td>\n",
       "      <td>0.002781</td>\n",
       "    </tr>\n",
       "    <tr>\n",
       "      <th>3</th>\n",
       "      <td>Afghanistan</td>\n",
       "      <td>2014</td>\n",
       "      <td>0.006905</td>\n",
       "    </tr>\n",
       "    <tr>\n",
       "      <th>4</th>\n",
       "      <td>Afghanistan</td>\n",
       "      <td>2013</td>\n",
       "      <td>0.005634</td>\n",
       "    </tr>\n",
       "  </tbody>\n",
       "</table>\n",
       "</div>"
      ],
      "text/plain": [
       "  Country or Area  Year  normalized\n",
       "0     Afghanistan  2017    0.005994\n",
       "1     Afghanistan  2016    0.004220\n",
       "2     Afghanistan  2015    0.002781\n",
       "3     Afghanistan  2014    0.006905\n",
       "4     Afghanistan  2013    0.005634"
      ]
     },
     "execution_count": 39,
     "metadata": {},
     "output_type": "execute_result"
    }
   ],
   "source": [
    "# Check new dataframe with normalized value\n",
    "data_new.head()"
   ]
  },
  {
   "cell_type": "markdown",
   "metadata": {},
   "source": [
    "#### Using tsfresh to extract features from data"
   ]
  },
  {
   "cell_type": "code",
   "execution_count": 40,
   "metadata": {},
   "outputs": [
    {
     "name": "stderr",
     "output_type": "stream",
     "text": [
      "Feature Extraction: 100%|██████████| 10/10 [00:23<00:00,  2.11s/it]\n"
     ]
    }
   ],
   "source": [
    "# Use TSFresh library to extract features from data \n",
    "from tsfresh import extract_features\n",
    "extracted_features = extract_features(data_new, column_id=\"Country or Area\", column_sort=\"Year\")"
   ]
  },
  {
   "cell_type": "code",
   "execution_count": 41,
   "metadata": {},
   "outputs": [
    {
     "data": {
      "text/html": [
       "<div>\n",
       "<style scoped>\n",
       "    .dataframe tbody tr th:only-of-type {\n",
       "        vertical-align: middle;\n",
       "    }\n",
       "\n",
       "    .dataframe tbody tr th {\n",
       "        vertical-align: top;\n",
       "    }\n",
       "\n",
       "    .dataframe thead th {\n",
       "        text-align: right;\n",
       "    }\n",
       "</style>\n",
       "<table border=\"1\" class=\"dataframe\">\n",
       "  <thead>\n",
       "    <tr style=\"text-align: right;\">\n",
       "      <th>variable</th>\n",
       "      <th>normalized__abs_energy</th>\n",
       "      <th>normalized__absolute_sum_of_changes</th>\n",
       "      <th>normalized__agg_autocorrelation__f_agg_\"mean\"</th>\n",
       "      <th>normalized__agg_autocorrelation__f_agg_\"median\"</th>\n",
       "      <th>normalized__agg_autocorrelation__f_agg_\"var\"</th>\n",
       "      <th>normalized__agg_linear_trend__f_agg_\"max\"__chunk_len_10__attr_\"intercept\"</th>\n",
       "      <th>normalized__agg_linear_trend__f_agg_\"max\"__chunk_len_10__attr_\"rvalue\"</th>\n",
       "      <th>normalized__agg_linear_trend__f_agg_\"max\"__chunk_len_10__attr_\"slope\"</th>\n",
       "      <th>normalized__agg_linear_trend__f_agg_\"max\"__chunk_len_10__attr_\"stderr\"</th>\n",
       "      <th>normalized__agg_linear_trend__f_agg_\"max\"__chunk_len_50__attr_\"intercept\"</th>\n",
       "      <th>...</th>\n",
       "      <th>normalized__time_reversal_asymmetry_statistic__lag_1</th>\n",
       "      <th>normalized__time_reversal_asymmetry_statistic__lag_2</th>\n",
       "      <th>normalized__time_reversal_asymmetry_statistic__lag_3</th>\n",
       "      <th>normalized__value_count__value_-inf</th>\n",
       "      <th>normalized__value_count__value_0</th>\n",
       "      <th>normalized__value_count__value_1</th>\n",
       "      <th>normalized__value_count__value_inf</th>\n",
       "      <th>normalized__value_count__value_nan</th>\n",
       "      <th>normalized__variance</th>\n",
       "      <th>normalized__variance_larger_than_standard_deviation</th>\n",
       "    </tr>\n",
       "    <tr>\n",
       "      <th>id</th>\n",
       "      <th></th>\n",
       "      <th></th>\n",
       "      <th></th>\n",
       "      <th></th>\n",
       "      <th></th>\n",
       "      <th></th>\n",
       "      <th></th>\n",
       "      <th></th>\n",
       "      <th></th>\n",
       "      <th></th>\n",
       "      <th></th>\n",
       "      <th></th>\n",
       "      <th></th>\n",
       "      <th></th>\n",
       "      <th></th>\n",
       "      <th></th>\n",
       "      <th></th>\n",
       "      <th></th>\n",
       "      <th></th>\n",
       "      <th></th>\n",
       "      <th></th>\n",
       "    </tr>\n",
       "  </thead>\n",
       "  <tbody>\n",
       "    <tr>\n",
       "      <th>Afghanistan</th>\n",
       "      <td>0.008196</td>\n",
       "      <td>0.177612</td>\n",
       "      <td>-0.034824</td>\n",
       "      <td>-0.060815</td>\n",
       "      <td>0.048577</td>\n",
       "      <td>0.016054</td>\n",
       "      <td>0.075831</td>\n",
       "      <td>0.000937</td>\n",
       "      <td>0.007117</td>\n",
       "      <td>NaN</td>\n",
       "      <td>...</td>\n",
       "      <td>1.541280e-07</td>\n",
       "      <td>5.190910e-07</td>\n",
       "      <td>1.163574e-06</td>\n",
       "      <td>0.0</td>\n",
       "      <td>0.0</td>\n",
       "      <td>0.0</td>\n",
       "      <td>0.0</td>\n",
       "      <td>0.0</td>\n",
       "      <td>0.000121</td>\n",
       "      <td>0.0</td>\n",
       "    </tr>\n",
       "    <tr>\n",
       "      <th>Albania</th>\n",
       "      <td>0.000262</td>\n",
       "      <td>0.028004</td>\n",
       "      <td>-0.060133</td>\n",
       "      <td>-0.056351</td>\n",
       "      <td>0.147890</td>\n",
       "      <td>0.008511</td>\n",
       "      <td>-0.814430</td>\n",
       "      <td>-0.003381</td>\n",
       "      <td>0.002409</td>\n",
       "      <td>NaN</td>\n",
       "      <td>...</td>\n",
       "      <td>1.656633e-10</td>\n",
       "      <td>6.605287e-11</td>\n",
       "      <td>-1.028939e-09</td>\n",
       "      <td>0.0</td>\n",
       "      <td>1.0</td>\n",
       "      <td>0.0</td>\n",
       "      <td>0.0</td>\n",
       "      <td>0.0</td>\n",
       "      <td>0.000006</td>\n",
       "      <td>0.0</td>\n",
       "    </tr>\n",
       "    <tr>\n",
       "      <th>Algeria</th>\n",
       "      <td>0.019031</td>\n",
       "      <td>0.391522</td>\n",
       "      <td>0.055072</td>\n",
       "      <td>0.044231</td>\n",
       "      <td>0.068417</td>\n",
       "      <td>0.018656</td>\n",
       "      <td>0.688800</td>\n",
       "      <td>0.007167</td>\n",
       "      <td>0.003772</td>\n",
       "      <td>0.045506</td>\n",
       "      <td>...</td>\n",
       "      <td>1.900281e-06</td>\n",
       "      <td>9.291907e-07</td>\n",
       "      <td>1.466092e-07</td>\n",
       "      <td>0.0</td>\n",
       "      <td>0.0</td>\n",
       "      <td>0.0</td>\n",
       "      <td>0.0</td>\n",
       "      <td>0.0</td>\n",
       "      <td>0.000179</td>\n",
       "      <td>0.0</td>\n",
       "    </tr>\n",
       "    <tr>\n",
       "      <th>Angola</th>\n",
       "      <td>0.002455</td>\n",
       "      <td>0.097557</td>\n",
       "      <td>-0.040989</td>\n",
       "      <td>-0.061263</td>\n",
       "      <td>0.067736</td>\n",
       "      <td>0.020283</td>\n",
       "      <td>-0.547124</td>\n",
       "      <td>-0.004388</td>\n",
       "      <td>0.004746</td>\n",
       "      <td>NaN</td>\n",
       "      <td>...</td>\n",
       "      <td>5.265793e-08</td>\n",
       "      <td>1.583488e-07</td>\n",
       "      <td>1.709011e-07</td>\n",
       "      <td>0.0</td>\n",
       "      <td>0.0</td>\n",
       "      <td>0.0</td>\n",
       "      <td>0.0</td>\n",
       "      <td>0.0</td>\n",
       "      <td>0.000039</td>\n",
       "      <td>0.0</td>\n",
       "    </tr>\n",
       "    <tr>\n",
       "      <th>Arab World</th>\n",
       "      <td>1.755274</td>\n",
       "      <td>1.643099</td>\n",
       "      <td>0.013193</td>\n",
       "      <td>0.039605</td>\n",
       "      <td>0.301875</td>\n",
       "      <td>0.209934</td>\n",
       "      <td>0.105092</td>\n",
       "      <td>0.006611</td>\n",
       "      <td>0.031280</td>\n",
       "      <td>0.393177</td>\n",
       "      <td>...</td>\n",
       "      <td>5.952909e-04</td>\n",
       "      <td>7.425558e-04</td>\n",
       "      <td>7.641989e-04</td>\n",
       "      <td>0.0</td>\n",
       "      <td>0.0</td>\n",
       "      <td>0.0</td>\n",
       "      <td>0.0</td>\n",
       "      <td>0.0</td>\n",
       "      <td>0.007977</td>\n",
       "      <td>0.0</td>\n",
       "    </tr>\n",
       "  </tbody>\n",
       "</table>\n",
       "<p>5 rows × 794 columns</p>\n",
       "</div>"
      ],
      "text/plain": [
       "variable     normalized__abs_energy  normalized__absolute_sum_of_changes  \\\n",
       "id                                                                         \n",
       "Afghanistan                0.008196                             0.177612   \n",
       "Albania                    0.000262                             0.028004   \n",
       "Algeria                    0.019031                             0.391522   \n",
       "Angola                     0.002455                             0.097557   \n",
       "Arab World                 1.755274                             1.643099   \n",
       "\n",
       "variable     normalized__agg_autocorrelation__f_agg_\"mean\"  \\\n",
       "id                                                           \n",
       "Afghanistan                                      -0.034824   \n",
       "Albania                                          -0.060133   \n",
       "Algeria                                           0.055072   \n",
       "Angola                                           -0.040989   \n",
       "Arab World                                        0.013193   \n",
       "\n",
       "variable     normalized__agg_autocorrelation__f_agg_\"median\"  \\\n",
       "id                                                             \n",
       "Afghanistan                                        -0.060815   \n",
       "Albania                                            -0.056351   \n",
       "Algeria                                             0.044231   \n",
       "Angola                                             -0.061263   \n",
       "Arab World                                          0.039605   \n",
       "\n",
       "variable     normalized__agg_autocorrelation__f_agg_\"var\"  \\\n",
       "id                                                          \n",
       "Afghanistan                                      0.048577   \n",
       "Albania                                          0.147890   \n",
       "Algeria                                          0.068417   \n",
       "Angola                                           0.067736   \n",
       "Arab World                                       0.301875   \n",
       "\n",
       "variable     normalized__agg_linear_trend__f_agg_\"max\"__chunk_len_10__attr_\"intercept\"  \\\n",
       "id                                                                                       \n",
       "Afghanistan                                           0.016054                           \n",
       "Albania                                               0.008511                           \n",
       "Algeria                                               0.018656                           \n",
       "Angola                                                0.020283                           \n",
       "Arab World                                            0.209934                           \n",
       "\n",
       "variable     normalized__agg_linear_trend__f_agg_\"max\"__chunk_len_10__attr_\"rvalue\"  \\\n",
       "id                                                                                    \n",
       "Afghanistan                                           0.075831                        \n",
       "Albania                                              -0.814430                        \n",
       "Algeria                                               0.688800                        \n",
       "Angola                                               -0.547124                        \n",
       "Arab World                                            0.105092                        \n",
       "\n",
       "variable     normalized__agg_linear_trend__f_agg_\"max\"__chunk_len_10__attr_\"slope\"  \\\n",
       "id                                                                                   \n",
       "Afghanistan                                           0.000937                       \n",
       "Albania                                              -0.003381                       \n",
       "Algeria                                               0.007167                       \n",
       "Angola                                               -0.004388                       \n",
       "Arab World                                            0.006611                       \n",
       "\n",
       "variable     normalized__agg_linear_trend__f_agg_\"max\"__chunk_len_10__attr_\"stderr\"  \\\n",
       "id                                                                                    \n",
       "Afghanistan                                           0.007117                        \n",
       "Albania                                               0.002409                        \n",
       "Algeria                                               0.003772                        \n",
       "Angola                                                0.004746                        \n",
       "Arab World                                            0.031280                        \n",
       "\n",
       "variable     normalized__agg_linear_trend__f_agg_\"max\"__chunk_len_50__attr_\"intercept\"  \\\n",
       "id                                                                                       \n",
       "Afghanistan                                                NaN                           \n",
       "Albania                                                    NaN                           \n",
       "Algeria                                               0.045506                           \n",
       "Angola                                                     NaN                           \n",
       "Arab World                                            0.393177                           \n",
       "\n",
       "variable                            ...                           \\\n",
       "id                                  ...                            \n",
       "Afghanistan                         ...                            \n",
       "Albania                             ...                            \n",
       "Algeria                             ...                            \n",
       "Angola                              ...                            \n",
       "Arab World                          ...                            \n",
       "\n",
       "variable     normalized__time_reversal_asymmetry_statistic__lag_1  \\\n",
       "id                                                                  \n",
       "Afghanistan                                       1.541280e-07      \n",
       "Albania                                           1.656633e-10      \n",
       "Algeria                                           1.900281e-06      \n",
       "Angola                                            5.265793e-08      \n",
       "Arab World                                        5.952909e-04      \n",
       "\n",
       "variable     normalized__time_reversal_asymmetry_statistic__lag_2  \\\n",
       "id                                                                  \n",
       "Afghanistan                                       5.190910e-07      \n",
       "Albania                                           6.605287e-11      \n",
       "Algeria                                           9.291907e-07      \n",
       "Angola                                            1.583488e-07      \n",
       "Arab World                                        7.425558e-04      \n",
       "\n",
       "variable     normalized__time_reversal_asymmetry_statistic__lag_3  \\\n",
       "id                                                                  \n",
       "Afghanistan                                       1.163574e-06      \n",
       "Albania                                          -1.028939e-09      \n",
       "Algeria                                           1.466092e-07      \n",
       "Angola                                            1.709011e-07      \n",
       "Arab World                                        7.641989e-04      \n",
       "\n",
       "variable     normalized__value_count__value_-inf  \\\n",
       "id                                                 \n",
       "Afghanistan                                  0.0   \n",
       "Albania                                      0.0   \n",
       "Algeria                                      0.0   \n",
       "Angola                                       0.0   \n",
       "Arab World                                   0.0   \n",
       "\n",
       "variable     normalized__value_count__value_0  \\\n",
       "id                                              \n",
       "Afghanistan                               0.0   \n",
       "Albania                                   1.0   \n",
       "Algeria                                   0.0   \n",
       "Angola                                    0.0   \n",
       "Arab World                                0.0   \n",
       "\n",
       "variable     normalized__value_count__value_1  \\\n",
       "id                                              \n",
       "Afghanistan                               0.0   \n",
       "Albania                                   0.0   \n",
       "Algeria                                   0.0   \n",
       "Angola                                    0.0   \n",
       "Arab World                                0.0   \n",
       "\n",
       "variable     normalized__value_count__value_inf  \\\n",
       "id                                                \n",
       "Afghanistan                                 0.0   \n",
       "Albania                                     0.0   \n",
       "Algeria                                     0.0   \n",
       "Angola                                      0.0   \n",
       "Arab World                                  0.0   \n",
       "\n",
       "variable     normalized__value_count__value_nan  normalized__variance  \\\n",
       "id                                                                      \n",
       "Afghanistan                                 0.0              0.000121   \n",
       "Albania                                     0.0              0.000006   \n",
       "Algeria                                     0.0              0.000179   \n",
       "Angola                                      0.0              0.000039   \n",
       "Arab World                                  0.0              0.007977   \n",
       "\n",
       "variable     normalized__variance_larger_than_standard_deviation  \n",
       "id                                                                \n",
       "Afghanistan                                                0.0    \n",
       "Albania                                                    0.0    \n",
       "Algeria                                                    0.0    \n",
       "Angola                                                     0.0    \n",
       "Arab World                                                 0.0    \n",
       "\n",
       "[5 rows x 794 columns]"
      ]
     },
     "execution_count": 41,
     "metadata": {},
     "output_type": "execute_result"
    }
   ],
   "source": [
    "#Check extracted features\n",
    "extracted_features.head()"
   ]
  },
  {
   "cell_type": "code",
   "execution_count": 42,
   "metadata": {},
   "outputs": [
    {
     "data": {
      "text/plain": [
       "(232, 794)"
      ]
     },
     "execution_count": 42,
     "metadata": {},
     "output_type": "execute_result"
    }
   ],
   "source": [
    "#Check shape of new data with extracted features\n",
    "extracted_features.shape"
   ]
  },
  {
   "cell_type": "code",
   "execution_count": null,
   "metadata": {},
   "outputs": [],
   "source": []
  },
  {
   "cell_type": "code",
   "execution_count": 43,
   "metadata": {},
   "outputs": [
    {
     "data": {
      "text/plain": [
       "548"
      ]
     },
     "execution_count": 43,
     "metadata": {},
     "output_type": "execute_result"
    }
   ],
   "source": [
    "#Check if any columns contains Nan values (null values)\n",
    "list_cols_with_nan = extracted_features.columns[extracted_features.isna().any()].tolist()\n",
    "len(list_cols_with_nan)"
   ]
  },
  {
   "cell_type": "code",
   "execution_count": 44,
   "metadata": {},
   "outputs": [],
   "source": [
    "# it seems 548 columns out of 794 have some null values"
   ]
  },
  {
   "cell_type": "code",
   "execution_count": 45,
   "metadata": {},
   "outputs": [
    {
     "name": "stderr",
     "output_type": "stream",
     "text": [
      "WARNING:tsfresh.utilities.dataframe_functions:The columns ['normalized__fft_coefficient__coeff_30__attr_\"abs\"'\n",
      " 'normalized__fft_coefficient__coeff_30__attr_\"angle\"'\n",
      " 'normalized__fft_coefficient__coeff_30__attr_\"imag\"'\n",
      " 'normalized__fft_coefficient__coeff_30__attr_\"real\"'\n",
      " 'normalized__fft_coefficient__coeff_31__attr_\"abs\"'\n",
      " 'normalized__fft_coefficient__coeff_31__attr_\"angle\"'\n",
      " 'normalized__fft_coefficient__coeff_31__attr_\"imag\"'\n",
      " 'normalized__fft_coefficient__coeff_31__attr_\"real\"'\n",
      " 'normalized__fft_coefficient__coeff_32__attr_\"abs\"'\n",
      " 'normalized__fft_coefficient__coeff_32__attr_\"angle\"'\n",
      " 'normalized__fft_coefficient__coeff_32__attr_\"imag\"'\n",
      " 'normalized__fft_coefficient__coeff_32__attr_\"real\"'\n",
      " 'normalized__fft_coefficient__coeff_33__attr_\"abs\"'\n",
      " 'normalized__fft_coefficient__coeff_33__attr_\"angle\"'\n",
      " 'normalized__fft_coefficient__coeff_33__attr_\"imag\"'\n",
      " 'normalized__fft_coefficient__coeff_33__attr_\"real\"'\n",
      " 'normalized__fft_coefficient__coeff_34__attr_\"abs\"'\n",
      " 'normalized__fft_coefficient__coeff_34__attr_\"angle\"'\n",
      " 'normalized__fft_coefficient__coeff_34__attr_\"imag\"'\n",
      " 'normalized__fft_coefficient__coeff_34__attr_\"real\"'\n",
      " 'normalized__fft_coefficient__coeff_35__attr_\"abs\"'\n",
      " 'normalized__fft_coefficient__coeff_35__attr_\"angle\"'\n",
      " 'normalized__fft_coefficient__coeff_35__attr_\"imag\"'\n",
      " 'normalized__fft_coefficient__coeff_35__attr_\"real\"'\n",
      " 'normalized__fft_coefficient__coeff_36__attr_\"abs\"'\n",
      " 'normalized__fft_coefficient__coeff_36__attr_\"angle\"'\n",
      " 'normalized__fft_coefficient__coeff_36__attr_\"imag\"'\n",
      " 'normalized__fft_coefficient__coeff_36__attr_\"real\"'\n",
      " 'normalized__fft_coefficient__coeff_37__attr_\"abs\"'\n",
      " 'normalized__fft_coefficient__coeff_37__attr_\"angle\"'\n",
      " 'normalized__fft_coefficient__coeff_37__attr_\"imag\"'\n",
      " 'normalized__fft_coefficient__coeff_37__attr_\"real\"'\n",
      " 'normalized__fft_coefficient__coeff_38__attr_\"abs\"'\n",
      " 'normalized__fft_coefficient__coeff_38__attr_\"angle\"'\n",
      " 'normalized__fft_coefficient__coeff_38__attr_\"imag\"'\n",
      " 'normalized__fft_coefficient__coeff_38__attr_\"real\"'\n",
      " 'normalized__fft_coefficient__coeff_39__attr_\"abs\"'\n",
      " 'normalized__fft_coefficient__coeff_39__attr_\"angle\"'\n",
      " 'normalized__fft_coefficient__coeff_39__attr_\"imag\"'\n",
      " 'normalized__fft_coefficient__coeff_39__attr_\"real\"'\n",
      " 'normalized__fft_coefficient__coeff_40__attr_\"abs\"'\n",
      " 'normalized__fft_coefficient__coeff_40__attr_\"angle\"'\n",
      " 'normalized__fft_coefficient__coeff_40__attr_\"imag\"'\n",
      " 'normalized__fft_coefficient__coeff_40__attr_\"real\"'\n",
      " 'normalized__fft_coefficient__coeff_41__attr_\"abs\"'\n",
      " 'normalized__fft_coefficient__coeff_41__attr_\"angle\"'\n",
      " 'normalized__fft_coefficient__coeff_41__attr_\"imag\"'\n",
      " 'normalized__fft_coefficient__coeff_41__attr_\"real\"'\n",
      " 'normalized__fft_coefficient__coeff_42__attr_\"abs\"'\n",
      " 'normalized__fft_coefficient__coeff_42__attr_\"angle\"'\n",
      " 'normalized__fft_coefficient__coeff_42__attr_\"imag\"'\n",
      " 'normalized__fft_coefficient__coeff_42__attr_\"real\"'\n",
      " 'normalized__fft_coefficient__coeff_43__attr_\"abs\"'\n",
      " 'normalized__fft_coefficient__coeff_43__attr_\"angle\"'\n",
      " 'normalized__fft_coefficient__coeff_43__attr_\"imag\"'\n",
      " 'normalized__fft_coefficient__coeff_43__attr_\"real\"'\n",
      " 'normalized__fft_coefficient__coeff_44__attr_\"abs\"'\n",
      " 'normalized__fft_coefficient__coeff_44__attr_\"angle\"'\n",
      " 'normalized__fft_coefficient__coeff_44__attr_\"imag\"'\n",
      " 'normalized__fft_coefficient__coeff_44__attr_\"real\"'\n",
      " 'normalized__fft_coefficient__coeff_45__attr_\"abs\"'\n",
      " 'normalized__fft_coefficient__coeff_45__attr_\"angle\"'\n",
      " 'normalized__fft_coefficient__coeff_45__attr_\"imag\"'\n",
      " 'normalized__fft_coefficient__coeff_45__attr_\"real\"'\n",
      " 'normalized__fft_coefficient__coeff_46__attr_\"abs\"'\n",
      " 'normalized__fft_coefficient__coeff_46__attr_\"angle\"'\n",
      " 'normalized__fft_coefficient__coeff_46__attr_\"imag\"'\n",
      " 'normalized__fft_coefficient__coeff_46__attr_\"real\"'\n",
      " 'normalized__fft_coefficient__coeff_47__attr_\"abs\"'\n",
      " 'normalized__fft_coefficient__coeff_47__attr_\"angle\"'\n",
      " 'normalized__fft_coefficient__coeff_47__attr_\"imag\"'\n",
      " 'normalized__fft_coefficient__coeff_47__attr_\"real\"'\n",
      " 'normalized__fft_coefficient__coeff_48__attr_\"abs\"'\n",
      " 'normalized__fft_coefficient__coeff_48__attr_\"angle\"'\n",
      " 'normalized__fft_coefficient__coeff_48__attr_\"imag\"'\n",
      " 'normalized__fft_coefficient__coeff_48__attr_\"real\"'\n",
      " 'normalized__fft_coefficient__coeff_49__attr_\"abs\"'\n",
      " 'normalized__fft_coefficient__coeff_49__attr_\"angle\"'\n",
      " 'normalized__fft_coefficient__coeff_49__attr_\"imag\"'\n",
      " 'normalized__fft_coefficient__coeff_49__attr_\"real\"'\n",
      " 'normalized__fft_coefficient__coeff_50__attr_\"abs\"'\n",
      " 'normalized__fft_coefficient__coeff_50__attr_\"angle\"'\n",
      " 'normalized__fft_coefficient__coeff_50__attr_\"imag\"'\n",
      " 'normalized__fft_coefficient__coeff_50__attr_\"real\"'\n",
      " 'normalized__fft_coefficient__coeff_51__attr_\"abs\"'\n",
      " 'normalized__fft_coefficient__coeff_51__attr_\"angle\"'\n",
      " 'normalized__fft_coefficient__coeff_51__attr_\"imag\"'\n",
      " 'normalized__fft_coefficient__coeff_51__attr_\"real\"'\n",
      " 'normalized__fft_coefficient__coeff_52__attr_\"abs\"'\n",
      " 'normalized__fft_coefficient__coeff_52__attr_\"angle\"'\n",
      " 'normalized__fft_coefficient__coeff_52__attr_\"imag\"'\n",
      " 'normalized__fft_coefficient__coeff_52__attr_\"real\"'\n",
      " 'normalized__fft_coefficient__coeff_53__attr_\"abs\"'\n",
      " 'normalized__fft_coefficient__coeff_53__attr_\"angle\"'\n",
      " 'normalized__fft_coefficient__coeff_53__attr_\"imag\"'\n",
      " 'normalized__fft_coefficient__coeff_53__attr_\"real\"'\n",
      " 'normalized__fft_coefficient__coeff_54__attr_\"abs\"'\n",
      " 'normalized__fft_coefficient__coeff_54__attr_\"angle\"'\n",
      " 'normalized__fft_coefficient__coeff_54__attr_\"imag\"'\n",
      " 'normalized__fft_coefficient__coeff_54__attr_\"real\"'\n",
      " 'normalized__fft_coefficient__coeff_55__attr_\"abs\"'\n",
      " 'normalized__fft_coefficient__coeff_55__attr_\"angle\"'\n",
      " 'normalized__fft_coefficient__coeff_55__attr_\"imag\"'\n",
      " 'normalized__fft_coefficient__coeff_55__attr_\"real\"'\n",
      " 'normalized__fft_coefficient__coeff_56__attr_\"abs\"'\n",
      " 'normalized__fft_coefficient__coeff_56__attr_\"angle\"'\n",
      " 'normalized__fft_coefficient__coeff_56__attr_\"imag\"'\n",
      " 'normalized__fft_coefficient__coeff_56__attr_\"real\"'\n",
      " 'normalized__fft_coefficient__coeff_57__attr_\"abs\"'\n",
      " 'normalized__fft_coefficient__coeff_57__attr_\"angle\"'\n",
      " 'normalized__fft_coefficient__coeff_57__attr_\"imag\"'\n",
      " 'normalized__fft_coefficient__coeff_57__attr_\"real\"'\n",
      " 'normalized__fft_coefficient__coeff_58__attr_\"abs\"'\n",
      " 'normalized__fft_coefficient__coeff_58__attr_\"angle\"'\n",
      " 'normalized__fft_coefficient__coeff_58__attr_\"imag\"'\n",
      " 'normalized__fft_coefficient__coeff_58__attr_\"real\"'\n",
      " 'normalized__fft_coefficient__coeff_59__attr_\"abs\"'\n",
      " 'normalized__fft_coefficient__coeff_59__attr_\"angle\"'\n",
      " 'normalized__fft_coefficient__coeff_59__attr_\"imag\"'\n",
      " 'normalized__fft_coefficient__coeff_59__attr_\"real\"'\n",
      " 'normalized__fft_coefficient__coeff_60__attr_\"abs\"'\n",
      " 'normalized__fft_coefficient__coeff_60__attr_\"angle\"'\n",
      " 'normalized__fft_coefficient__coeff_60__attr_\"imag\"'\n",
      " 'normalized__fft_coefficient__coeff_60__attr_\"real\"'\n",
      " 'normalized__fft_coefficient__coeff_61__attr_\"abs\"'\n",
      " 'normalized__fft_coefficient__coeff_61__attr_\"angle\"'\n",
      " 'normalized__fft_coefficient__coeff_61__attr_\"imag\"'\n",
      " 'normalized__fft_coefficient__coeff_61__attr_\"real\"'\n",
      " 'normalized__fft_coefficient__coeff_62__attr_\"abs\"'\n",
      " 'normalized__fft_coefficient__coeff_62__attr_\"angle\"'\n",
      " 'normalized__fft_coefficient__coeff_62__attr_\"imag\"'\n",
      " 'normalized__fft_coefficient__coeff_62__attr_\"real\"'\n",
      " 'normalized__fft_coefficient__coeff_63__attr_\"abs\"'\n",
      " 'normalized__fft_coefficient__coeff_63__attr_\"angle\"'\n",
      " 'normalized__fft_coefficient__coeff_63__attr_\"imag\"'\n",
      " 'normalized__fft_coefficient__coeff_63__attr_\"real\"'\n",
      " 'normalized__fft_coefficient__coeff_64__attr_\"abs\"'\n",
      " 'normalized__fft_coefficient__coeff_64__attr_\"angle\"'\n",
      " 'normalized__fft_coefficient__coeff_64__attr_\"imag\"'\n",
      " 'normalized__fft_coefficient__coeff_64__attr_\"real\"'\n",
      " 'normalized__fft_coefficient__coeff_65__attr_\"abs\"'\n",
      " 'normalized__fft_coefficient__coeff_65__attr_\"angle\"'\n",
      " 'normalized__fft_coefficient__coeff_65__attr_\"imag\"'\n",
      " 'normalized__fft_coefficient__coeff_65__attr_\"real\"'\n",
      " 'normalized__fft_coefficient__coeff_66__attr_\"abs\"'\n",
      " 'normalized__fft_coefficient__coeff_66__attr_\"angle\"'\n",
      " 'normalized__fft_coefficient__coeff_66__attr_\"imag\"'\n",
      " 'normalized__fft_coefficient__coeff_66__attr_\"real\"'\n",
      " 'normalized__fft_coefficient__coeff_67__attr_\"abs\"'\n",
      " 'normalized__fft_coefficient__coeff_67__attr_\"angle\"'\n",
      " 'normalized__fft_coefficient__coeff_67__attr_\"imag\"'\n",
      " 'normalized__fft_coefficient__coeff_67__attr_\"real\"'\n",
      " 'normalized__fft_coefficient__coeff_68__attr_\"abs\"'\n",
      " 'normalized__fft_coefficient__coeff_68__attr_\"angle\"'\n",
      " 'normalized__fft_coefficient__coeff_68__attr_\"imag\"'\n",
      " 'normalized__fft_coefficient__coeff_68__attr_\"real\"'\n",
      " 'normalized__fft_coefficient__coeff_69__attr_\"abs\"'\n",
      " 'normalized__fft_coefficient__coeff_69__attr_\"angle\"'\n",
      " 'normalized__fft_coefficient__coeff_69__attr_\"imag\"'\n",
      " 'normalized__fft_coefficient__coeff_69__attr_\"real\"'\n",
      " 'normalized__fft_coefficient__coeff_70__attr_\"abs\"'\n",
      " 'normalized__fft_coefficient__coeff_70__attr_\"angle\"'\n",
      " 'normalized__fft_coefficient__coeff_70__attr_\"imag\"'\n",
      " 'normalized__fft_coefficient__coeff_70__attr_\"real\"'\n",
      " 'normalized__fft_coefficient__coeff_71__attr_\"abs\"'\n",
      " 'normalized__fft_coefficient__coeff_71__attr_\"angle\"'\n",
      " 'normalized__fft_coefficient__coeff_71__attr_\"imag\"'\n",
      " 'normalized__fft_coefficient__coeff_71__attr_\"real\"'\n",
      " 'normalized__fft_coefficient__coeff_72__attr_\"abs\"'\n",
      " 'normalized__fft_coefficient__coeff_72__attr_\"angle\"'\n",
      " 'normalized__fft_coefficient__coeff_72__attr_\"imag\"'\n",
      " 'normalized__fft_coefficient__coeff_72__attr_\"real\"'\n",
      " 'normalized__fft_coefficient__coeff_73__attr_\"abs\"'\n",
      " 'normalized__fft_coefficient__coeff_73__attr_\"angle\"'\n",
      " 'normalized__fft_coefficient__coeff_73__attr_\"imag\"'\n",
      " 'normalized__fft_coefficient__coeff_73__attr_\"real\"'\n",
      " 'normalized__fft_coefficient__coeff_74__attr_\"abs\"'\n",
      " 'normalized__fft_coefficient__coeff_74__attr_\"angle\"'\n",
      " 'normalized__fft_coefficient__coeff_74__attr_\"imag\"'\n",
      " 'normalized__fft_coefficient__coeff_74__attr_\"real\"'\n",
      " 'normalized__fft_coefficient__coeff_75__attr_\"abs\"'\n",
      " 'normalized__fft_coefficient__coeff_75__attr_\"angle\"'\n",
      " 'normalized__fft_coefficient__coeff_75__attr_\"imag\"'\n",
      " 'normalized__fft_coefficient__coeff_75__attr_\"real\"'\n",
      " 'normalized__fft_coefficient__coeff_76__attr_\"abs\"'\n",
      " 'normalized__fft_coefficient__coeff_76__attr_\"angle\"'\n",
      " 'normalized__fft_coefficient__coeff_76__attr_\"imag\"'\n",
      " 'normalized__fft_coefficient__coeff_76__attr_\"real\"'\n",
      " 'normalized__fft_coefficient__coeff_77__attr_\"abs\"'\n",
      " 'normalized__fft_coefficient__coeff_77__attr_\"angle\"'\n",
      " 'normalized__fft_coefficient__coeff_77__attr_\"imag\"'\n",
      " 'normalized__fft_coefficient__coeff_77__attr_\"real\"'\n",
      " 'normalized__fft_coefficient__coeff_78__attr_\"abs\"'\n",
      " 'normalized__fft_coefficient__coeff_78__attr_\"angle\"'\n",
      " 'normalized__fft_coefficient__coeff_78__attr_\"imag\"'\n",
      " 'normalized__fft_coefficient__coeff_78__attr_\"real\"'\n",
      " 'normalized__fft_coefficient__coeff_79__attr_\"abs\"'\n",
      " 'normalized__fft_coefficient__coeff_79__attr_\"angle\"'\n",
      " 'normalized__fft_coefficient__coeff_79__attr_\"imag\"'\n",
      " 'normalized__fft_coefficient__coeff_79__attr_\"real\"'\n",
      " 'normalized__fft_coefficient__coeff_80__attr_\"abs\"'\n",
      " 'normalized__fft_coefficient__coeff_80__attr_\"angle\"'\n",
      " 'normalized__fft_coefficient__coeff_80__attr_\"imag\"'\n",
      " 'normalized__fft_coefficient__coeff_80__attr_\"real\"'\n",
      " 'normalized__fft_coefficient__coeff_81__attr_\"abs\"'\n",
      " 'normalized__fft_coefficient__coeff_81__attr_\"angle\"'\n",
      " 'normalized__fft_coefficient__coeff_81__attr_\"imag\"'\n",
      " 'normalized__fft_coefficient__coeff_81__attr_\"real\"'\n",
      " 'normalized__fft_coefficient__coeff_82__attr_\"abs\"'\n",
      " 'normalized__fft_coefficient__coeff_82__attr_\"angle\"'\n",
      " 'normalized__fft_coefficient__coeff_82__attr_\"imag\"'\n",
      " 'normalized__fft_coefficient__coeff_82__attr_\"real\"'\n",
      " 'normalized__fft_coefficient__coeff_83__attr_\"abs\"'\n",
      " 'normalized__fft_coefficient__coeff_83__attr_\"angle\"'\n",
      " 'normalized__fft_coefficient__coeff_83__attr_\"imag\"'\n",
      " 'normalized__fft_coefficient__coeff_83__attr_\"real\"'\n",
      " 'normalized__fft_coefficient__coeff_84__attr_\"abs\"'\n",
      " 'normalized__fft_coefficient__coeff_84__attr_\"angle\"'\n",
      " 'normalized__fft_coefficient__coeff_84__attr_\"imag\"'\n",
      " 'normalized__fft_coefficient__coeff_84__attr_\"real\"'\n",
      " 'normalized__fft_coefficient__coeff_85__attr_\"abs\"'\n",
      " 'normalized__fft_coefficient__coeff_85__attr_\"angle\"'\n",
      " 'normalized__fft_coefficient__coeff_85__attr_\"imag\"'\n",
      " 'normalized__fft_coefficient__coeff_85__attr_\"real\"'\n",
      " 'normalized__fft_coefficient__coeff_86__attr_\"abs\"'\n",
      " 'normalized__fft_coefficient__coeff_86__attr_\"angle\"'\n",
      " 'normalized__fft_coefficient__coeff_86__attr_\"imag\"'\n",
      " 'normalized__fft_coefficient__coeff_86__attr_\"real\"'\n",
      " 'normalized__fft_coefficient__coeff_87__attr_\"abs\"'\n",
      " 'normalized__fft_coefficient__coeff_87__attr_\"angle\"'\n",
      " 'normalized__fft_coefficient__coeff_87__attr_\"imag\"'\n",
      " 'normalized__fft_coefficient__coeff_87__attr_\"real\"'\n",
      " 'normalized__fft_coefficient__coeff_88__attr_\"abs\"'\n",
      " 'normalized__fft_coefficient__coeff_88__attr_\"angle\"'\n",
      " 'normalized__fft_coefficient__coeff_88__attr_\"imag\"'\n",
      " 'normalized__fft_coefficient__coeff_88__attr_\"real\"'\n",
      " 'normalized__fft_coefficient__coeff_89__attr_\"abs\"'\n",
      " 'normalized__fft_coefficient__coeff_89__attr_\"angle\"'\n",
      " 'normalized__fft_coefficient__coeff_89__attr_\"imag\"'\n",
      " 'normalized__fft_coefficient__coeff_89__attr_\"real\"'\n",
      " 'normalized__fft_coefficient__coeff_90__attr_\"abs\"'\n",
      " 'normalized__fft_coefficient__coeff_90__attr_\"angle\"'\n",
      " 'normalized__fft_coefficient__coeff_90__attr_\"imag\"'\n",
      " 'normalized__fft_coefficient__coeff_90__attr_\"real\"'\n",
      " 'normalized__fft_coefficient__coeff_91__attr_\"abs\"'\n",
      " 'normalized__fft_coefficient__coeff_91__attr_\"angle\"'\n",
      " 'normalized__fft_coefficient__coeff_91__attr_\"imag\"'\n",
      " 'normalized__fft_coefficient__coeff_91__attr_\"real\"'\n",
      " 'normalized__fft_coefficient__coeff_92__attr_\"abs\"'\n",
      " 'normalized__fft_coefficient__coeff_92__attr_\"angle\"'\n",
      " 'normalized__fft_coefficient__coeff_92__attr_\"imag\"'\n",
      " 'normalized__fft_coefficient__coeff_92__attr_\"real\"'\n",
      " 'normalized__fft_coefficient__coeff_93__attr_\"abs\"'\n",
      " 'normalized__fft_coefficient__coeff_93__attr_\"angle\"'\n",
      " 'normalized__fft_coefficient__coeff_93__attr_\"imag\"'\n",
      " 'normalized__fft_coefficient__coeff_93__attr_\"real\"'\n",
      " 'normalized__fft_coefficient__coeff_94__attr_\"abs\"'\n",
      " 'normalized__fft_coefficient__coeff_94__attr_\"angle\"'\n",
      " 'normalized__fft_coefficient__coeff_94__attr_\"imag\"'\n",
      " 'normalized__fft_coefficient__coeff_94__attr_\"real\"'\n",
      " 'normalized__fft_coefficient__coeff_95__attr_\"abs\"'\n",
      " 'normalized__fft_coefficient__coeff_95__attr_\"angle\"'\n",
      " 'normalized__fft_coefficient__coeff_95__attr_\"imag\"'\n",
      " 'normalized__fft_coefficient__coeff_95__attr_\"real\"'\n",
      " 'normalized__fft_coefficient__coeff_96__attr_\"abs\"'\n",
      " 'normalized__fft_coefficient__coeff_96__attr_\"angle\"'\n",
      " 'normalized__fft_coefficient__coeff_96__attr_\"imag\"'\n",
      " 'normalized__fft_coefficient__coeff_96__attr_\"real\"'\n",
      " 'normalized__fft_coefficient__coeff_97__attr_\"abs\"'\n",
      " 'normalized__fft_coefficient__coeff_97__attr_\"angle\"'\n",
      " 'normalized__fft_coefficient__coeff_97__attr_\"imag\"'\n",
      " 'normalized__fft_coefficient__coeff_97__attr_\"real\"'\n",
      " 'normalized__fft_coefficient__coeff_98__attr_\"abs\"'\n",
      " 'normalized__fft_coefficient__coeff_98__attr_\"angle\"'\n",
      " 'normalized__fft_coefficient__coeff_98__attr_\"imag\"'\n",
      " 'normalized__fft_coefficient__coeff_98__attr_\"real\"'\n",
      " 'normalized__fft_coefficient__coeff_99__attr_\"abs\"'\n",
      " 'normalized__fft_coefficient__coeff_99__attr_\"angle\"'\n",
      " 'normalized__fft_coefficient__coeff_99__attr_\"imag\"'\n",
      " 'normalized__fft_coefficient__coeff_99__attr_\"real\"'] did not have any finite values. Filling with zeros.\n"
     ]
    }
   ],
   "source": [
    "#lets replace nan value with 0.0\n",
    "from tsfresh import select_features\n",
    "from tsfresh.utilities.dataframe_functions import impute\n",
    "data_after_impute = impute(extracted_features)"
   ]
  },
  {
   "cell_type": "code",
   "execution_count": 46,
   "metadata": {},
   "outputs": [
    {
     "data": {
      "text/plain": [
       "0"
      ]
     },
     "execution_count": 46,
     "metadata": {},
     "output_type": "execute_result"
    }
   ],
   "source": [
    "#lets check if any column has any nan value\n",
    "list_cols_with_nan_after_impute = data_after_impute.columns[data_after_impute.isna().any()].tolist()\n",
    "len(list_cols_with_nan_after_impute)"
   ]
  },
  {
   "cell_type": "code",
   "execution_count": 47,
   "metadata": {
    "scrolled": false
   },
   "outputs": [],
   "source": [
    "#we dont have any nan values \n",
    "# lets reset the index\n",
    "data_after_impute = data_after_impute.reset_index()"
   ]
  },
  {
   "cell_type": "code",
   "execution_count": 48,
   "metadata": {},
   "outputs": [],
   "source": [
    "# we need to give labels to countries \n",
    "data_countries = pd.read_excel('Developing countries.xlsx')\n",
    "\n",
    "developed_countries = data_countries [data_countries['Value'] == 0]\n",
    "developing_countries = data_countries [data_countries['Value'] == 1] \n",
    "\n",
    "list_developed_countries = developed_countries['Countries']\n",
    "list_developing_countries = developing_countries['Countries']\n",
    "\n",
    "list_developed_countries = list(list_developed_countries)\n",
    "list_developing_countries = list(list_developing_countries)\n",
    "\n",
    "data_after_impute['label'] = -1\n",
    "\n",
    "for i,da in data_after_impute.iterrows():\n",
    "    if da['id'] in list_developed_countries:\n",
    "        val = 0\n",
    "        data_after_impute.at[i,'label'] = val\n",
    "    elif da['id'] not in list_developed_countries:\n",
    "        val = 1\n",
    "        data_after_impute.at[i,'label'] = val"
   ]
  },
  {
   "cell_type": "code",
   "execution_count": 49,
   "metadata": {},
   "outputs": [
    {
     "data": {
      "text/html": [
       "<div>\n",
       "<style scoped>\n",
       "    .dataframe tbody tr th:only-of-type {\n",
       "        vertical-align: middle;\n",
       "    }\n",
       "\n",
       "    .dataframe tbody tr th {\n",
       "        vertical-align: top;\n",
       "    }\n",
       "\n",
       "    .dataframe thead th {\n",
       "        text-align: right;\n",
       "    }\n",
       "</style>\n",
       "<table border=\"1\" class=\"dataframe\">\n",
       "  <thead>\n",
       "    <tr style=\"text-align: right;\">\n",
       "      <th>variable</th>\n",
       "      <th>id</th>\n",
       "      <th>normalized__abs_energy</th>\n",
       "      <th>normalized__absolute_sum_of_changes</th>\n",
       "      <th>normalized__agg_autocorrelation__f_agg_\"mean\"</th>\n",
       "      <th>normalized__agg_autocorrelation__f_agg_\"median\"</th>\n",
       "      <th>normalized__agg_autocorrelation__f_agg_\"var\"</th>\n",
       "      <th>normalized__agg_linear_trend__f_agg_\"max\"__chunk_len_10__attr_\"intercept\"</th>\n",
       "      <th>normalized__agg_linear_trend__f_agg_\"max\"__chunk_len_10__attr_\"rvalue\"</th>\n",
       "      <th>normalized__agg_linear_trend__f_agg_\"max\"__chunk_len_10__attr_\"slope\"</th>\n",
       "      <th>normalized__agg_linear_trend__f_agg_\"max\"__chunk_len_10__attr_\"stderr\"</th>\n",
       "      <th>...</th>\n",
       "      <th>normalized__time_reversal_asymmetry_statistic__lag_2</th>\n",
       "      <th>normalized__time_reversal_asymmetry_statistic__lag_3</th>\n",
       "      <th>normalized__value_count__value_-inf</th>\n",
       "      <th>normalized__value_count__value_0</th>\n",
       "      <th>normalized__value_count__value_1</th>\n",
       "      <th>normalized__value_count__value_inf</th>\n",
       "      <th>normalized__value_count__value_nan</th>\n",
       "      <th>normalized__variance</th>\n",
       "      <th>normalized__variance_larger_than_standard_deviation</th>\n",
       "      <th>label</th>\n",
       "    </tr>\n",
       "  </thead>\n",
       "  <tbody>\n",
       "    <tr>\n",
       "      <th>0</th>\n",
       "      <td>Afghanistan</td>\n",
       "      <td>0.008196</td>\n",
       "      <td>0.177612</td>\n",
       "      <td>-0.034824</td>\n",
       "      <td>-0.060815</td>\n",
       "      <td>0.048577</td>\n",
       "      <td>0.016054</td>\n",
       "      <td>0.075831</td>\n",
       "      <td>0.000937</td>\n",
       "      <td>0.007117</td>\n",
       "      <td>...</td>\n",
       "      <td>5.190910e-07</td>\n",
       "      <td>1.163574e-06</td>\n",
       "      <td>0.0</td>\n",
       "      <td>0.0</td>\n",
       "      <td>0.0</td>\n",
       "      <td>0.0</td>\n",
       "      <td>0.0</td>\n",
       "      <td>0.000121</td>\n",
       "      <td>0.0</td>\n",
       "      <td>1</td>\n",
       "    </tr>\n",
       "    <tr>\n",
       "      <th>1</th>\n",
       "      <td>Albania</td>\n",
       "      <td>0.000262</td>\n",
       "      <td>0.028004</td>\n",
       "      <td>-0.060133</td>\n",
       "      <td>-0.056351</td>\n",
       "      <td>0.147890</td>\n",
       "      <td>0.008511</td>\n",
       "      <td>-0.814430</td>\n",
       "      <td>-0.003381</td>\n",
       "      <td>0.002409</td>\n",
       "      <td>...</td>\n",
       "      <td>6.605287e-11</td>\n",
       "      <td>-1.028939e-09</td>\n",
       "      <td>0.0</td>\n",
       "      <td>1.0</td>\n",
       "      <td>0.0</td>\n",
       "      <td>0.0</td>\n",
       "      <td>0.0</td>\n",
       "      <td>0.000006</td>\n",
       "      <td>0.0</td>\n",
       "      <td>1</td>\n",
       "    </tr>\n",
       "  </tbody>\n",
       "</table>\n",
       "<p>2 rows × 796 columns</p>\n",
       "</div>"
      ],
      "text/plain": [
       "variable           id  normalized__abs_energy  \\\n",
       "0         Afghanistan                0.008196   \n",
       "1             Albania                0.000262   \n",
       "\n",
       "variable  normalized__absolute_sum_of_changes  \\\n",
       "0                                    0.177612   \n",
       "1                                    0.028004   \n",
       "\n",
       "variable  normalized__agg_autocorrelation__f_agg_\"mean\"  \\\n",
       "0                                             -0.034824   \n",
       "1                                             -0.060133   \n",
       "\n",
       "variable  normalized__agg_autocorrelation__f_agg_\"median\"  \\\n",
       "0                                               -0.060815   \n",
       "1                                               -0.056351   \n",
       "\n",
       "variable  normalized__agg_autocorrelation__f_agg_\"var\"  \\\n",
       "0                                             0.048577   \n",
       "1                                             0.147890   \n",
       "\n",
       "variable  normalized__agg_linear_trend__f_agg_\"max\"__chunk_len_10__attr_\"intercept\"  \\\n",
       "0                                                  0.016054                           \n",
       "1                                                  0.008511                           \n",
       "\n",
       "variable  normalized__agg_linear_trend__f_agg_\"max\"__chunk_len_10__attr_\"rvalue\"  \\\n",
       "0                                                  0.075831                        \n",
       "1                                                 -0.814430                        \n",
       "\n",
       "variable  normalized__agg_linear_trend__f_agg_\"max\"__chunk_len_10__attr_\"slope\"  \\\n",
       "0                                                  0.000937                       \n",
       "1                                                 -0.003381                       \n",
       "\n",
       "variable  normalized__agg_linear_trend__f_agg_\"max\"__chunk_len_10__attr_\"stderr\"  \\\n",
       "0                                                  0.007117                        \n",
       "1                                                  0.002409                        \n",
       "\n",
       "variable  ...    normalized__time_reversal_asymmetry_statistic__lag_2  \\\n",
       "0         ...                                         5.190910e-07      \n",
       "1         ...                                         6.605287e-11      \n",
       "\n",
       "variable  normalized__time_reversal_asymmetry_statistic__lag_3  \\\n",
       "0                                              1.163574e-06      \n",
       "1                                             -1.028939e-09      \n",
       "\n",
       "variable  normalized__value_count__value_-inf  \\\n",
       "0                                         0.0   \n",
       "1                                         0.0   \n",
       "\n",
       "variable  normalized__value_count__value_0  normalized__value_count__value_1  \\\n",
       "0                                      0.0                               0.0   \n",
       "1                                      1.0                               0.0   \n",
       "\n",
       "variable  normalized__value_count__value_inf  \\\n",
       "0                                        0.0   \n",
       "1                                        0.0   \n",
       "\n",
       "variable  normalized__value_count__value_nan  normalized__variance  \\\n",
       "0                                        0.0              0.000121   \n",
       "1                                        0.0              0.000006   \n",
       "\n",
       "variable  normalized__variance_larger_than_standard_deviation  label  \n",
       "0                                                       0.0        1  \n",
       "1                                                       0.0        1  \n",
       "\n",
       "[2 rows x 796 columns]"
      ]
     },
     "execution_count": 49,
     "metadata": {},
     "output_type": "execute_result"
    }
   ],
   "source": [
    "# check new df with added column as label \n",
    "data_after_impute.head(2)"
   ]
  },
  {
   "cell_type": "code",
   "execution_count": 50,
   "metadata": {},
   "outputs": [
    {
     "data": {
      "text/plain": [
       "(232, 796)"
      ]
     },
     "execution_count": 50,
     "metadata": {},
     "output_type": "execute_result"
    }
   ],
   "source": [
    "#data_after_impute.to_csv('Arms-extracted-feature.csv')\n",
    "data_after_impute.shape"
   ]
  },
  {
   "cell_type": "code",
   "execution_count": 51,
   "metadata": {},
   "outputs": [],
   "source": [
    "#Split data into X(features),y \n",
    "y = data_after_impute['label']\n",
    "X = data_after_impute.drop(columns=['id','label'])"
   ]
  },
  {
   "cell_type": "code",
   "execution_count": 52,
   "metadata": {},
   "outputs": [
    {
     "data": {
      "text/plain": [
       "1    197\n",
       "0     35\n",
       "Name: label, dtype: int64"
      ]
     },
     "execution_count": 52,
     "metadata": {},
     "output_type": "execute_result"
    }
   ],
   "source": [
    "y.value_counts()"
   ]
  },
  {
   "cell_type": "code",
   "execution_count": 53,
   "metadata": {},
   "outputs": [],
   "source": [
    "# train and test split\n",
    "X_train, X_test, y_train, y_test = train_test_split(X, y, test_size=0.40, random_state=42)"
   ]
  },
  {
   "cell_type": "code",
   "execution_count": 55,
   "metadata": {},
   "outputs": [
    {
     "data": {
      "text/plain": [
       "1    77\n",
       "0    16\n",
       "Name: label, dtype: int64"
      ]
     },
     "execution_count": 55,
     "metadata": {},
     "output_type": "execute_result"
    }
   ],
   "source": [
    "y_test.value_counts()"
   ]
  },
  {
   "cell_type": "markdown",
   "metadata": {},
   "source": [
    "#### Lets try different classifiers on the data"
   ]
  },
  {
   "cell_type": "markdown",
   "metadata": {},
   "source": [
    "##### KNN"
   ]
  },
  {
   "cell_type": "code",
   "execution_count": null,
   "metadata": {},
   "outputs": [],
   "source": []
  },
  {
   "cell_type": "markdown",
   "metadata": {},
   "source": [
    "###### KNN with k ranging from 1 to 15"
   ]
  },
  {
   "cell_type": "code",
   "execution_count": 64,
   "metadata": {},
   "outputs": [
    {
     "name": "stdout",
     "output_type": "stream",
     "text": [
      "[0.7613671889564816, 0.7712799167533819, 0.7617837330432515, 0.7683642085687719, 0.7337582898718691, 0.7282031351211297, 0.7500316255534472, 0.7682198327359617, 0.7682198327359617, 0.7682198327359617, 0.7500316255534472, 0.7500316255534472, 0.7500316255534472, 0.7500316255534472, 0.7500316255534472]\n"
     ]
    },
    {
     "data": {
      "image/png": "[encoded data removed]",
      "text/plain": [
       "<matplotlib.figure.Figure at 0x1c1f2e6f28>"
      ]
     },
     "metadata": {},
     "output_type": "display_data"
    }
   ],
   "source": [
    "#KNN for different k values\n",
    "kVals = [1,2,3,4,5,6,7,8,9,10,11,12,13,14,15]\n",
    "scores = []\n",
    "\n",
    "for k in kVals:\n",
    "    knn = KNeighborsClassifier(n_neighbors=k)\n",
    "    knn.fit(X_train,y_train)\n",
    "    pred = knn.predict(X_test)\n",
    "    scores.append(f1_score(y_test,pred,average='weighted'))\n",
    "    \n",
    "plt.plot(kVals,scores)    \n",
    "print(scores)  "
   ]
  },
  {
   "cell_type": "code",
   "execution_count": 65,
   "metadata": {},
   "outputs": [
    {
     "name": "stdout",
     "output_type": "stream",
     "text": [
      "             precision    recall  f1-score   support\n",
      "\n",
      "          0       0.50      0.06      0.11        16\n",
      "          1       0.84      0.99      0.90        77\n",
      "\n",
      "avg / total       0.78      0.83      0.77        93\n",
      "\n",
      "F1 Score:  0.7682198327359617\n",
      "Accuracy is:  0.8279569892473119\n"
     ]
    }
   ],
   "source": [
    "knn = KNeighborsClassifier(n_neighbors=9)\n",
    "knn.fit(X_train,y_train)\n",
    "pred = knn.predict(X_test)\n",
    "dsf = classification_report(y_test,pred)\n",
    "print(dsf)\n",
    "f1 = f1_score(y_test,pred,average='weighted') \n",
    "print('F1 Score: ',f1)\n",
    "acc = accuracy_score(y_test,pred)\n",
    "print('Accuracy is: ',acc)\n",
    "cm = confusion_matrix(y_test,pred)"
   ]
  },
  {
   "cell_type": "code",
   "execution_count": 66,
   "metadata": {},
   "outputs": [],
   "source": [
    "def plotConfusion(cm):\n",
    "    sns.set_style('white')\n",
    "    plt.clf()\n",
    "    plt.imshow(cm, interpolation='nearest', cmap=plt.cm.Pastel1)\n",
    "    classNames = ['Developed','Developing']\n",
    "    plt.title('Confusion Matrix',fontsize = 15)\n",
    "    plt.ylabel('True label',fontsize=15)\n",
    "    plt.xlabel('Predicted label',fontsize=15)\n",
    "    tick_marks = np.arange(len(classNames))\n",
    "    plt.xticks(tick_marks, classNames,fontsize=12)\n",
    "    plt.yticks(tick_marks, classNames,fontsize=12)\n",
    "    s = [['TP','FN'], ['FP', 'TN']]\n",
    "    for i in range(2):\n",
    "        for j in range(2):\n",
    "            plt.text(j,i, str(s[i][j])+\" = \"+str(cm[i][j]))\n",
    "    plt.show()"
   ]
  },
  {
   "cell_type": "code",
   "execution_count": 67,
   "metadata": {},
   "outputs": [
    {
     "data": {
      "image/png": "[encoded data removed]",
      "text/plain": [
       "<matplotlib.figure.Figure at 0x1a189eb208>"
      ]
     },
     "metadata": {},
     "output_type": "display_data"
    }
   ],
   "source": [
    "plotConfusion(cm)"
   ]
  },
  {
   "cell_type": "code",
   "execution_count": null,
   "metadata": {},
   "outputs": [],
   "source": []
  },
  {
   "cell_type": "markdown",
   "metadata": {},
   "source": [
    "#### Random Forest Classifier"
   ]
  },
  {
   "cell_type": "code",
   "execution_count": 68,
   "metadata": {},
   "outputs": [
    {
     "name": "stdout",
     "output_type": "stream",
     "text": [
      "F1 Score:  0.7971923536439666\n",
      "Accuracy Score:  0.8494623655913979\n"
     ]
    }
   ],
   "source": [
    "rf_classifier = RandomForestClassifier(n_estimators=10, random_state = 42)\n",
    "rf_classifier.fit(X_train,y_train)\n",
    "pred = rf_classifier.predict(X_test)\n",
    "print(\"F1 Score: \", metrics.f1_score(y_test,pred, average='weighted'))\n",
    "print(\"Accuracy Score: \", accuracy_score(y_test,pred))"
   ]
  },
  {
   "cell_type": "markdown",
   "metadata": {},
   "source": [
    "#### Fine tuninng Random Forest for different number of estimators"
   ]
  },
  {
   "cell_type": "code",
   "execution_count": 69,
   "metadata": {},
   "outputs": [
    {
     "name": "stdout",
     "output_type": "stream",
     "text": [
      "5-------0.8713134492048733\n",
      "10-------0.7971923536439666\n",
      "15-------0.7971923536439666\n",
      "20-------0.7825625080969039\n",
      "30-------0.8097421945847908\n",
      "35-------0.7682198327359617\n",
      "40-------0.7971923536439666\n",
      "45-------0.7971923536439666\n",
      "50-------0.7971923536439666\n",
      "100-------0.7971923536439666\n",
      "200-------0.7971923536439666\n",
      "300-------0.7971923536439666\n"
     ]
    },
    {
     "data": {
      "image/png": "[encoded data removed]",
      "text/plain": [
       "<matplotlib.figure.Figure at 0x1c1a668908>"
      ]
     },
     "metadata": {},
     "output_type": "display_data"
    }
   ],
   "source": [
    "#Ensemble Random Forest Classifier Fine Tunning\n",
    "estimators = [5,10,15,20,30,35,40,45,50,100,200,300]\n",
    "f1_scores = []\n",
    "for e in estimators:\n",
    "    rf_classifier = RandomForestClassifier(n_estimators=e, random_state = 42)\n",
    "    rf_classifier.fit(X_train,y_train)\n",
    "    pred = rf_classifier.predict(X_test)\n",
    "    f1_scores.append(f1_score(y_test,pred,average='weighted'))\n",
    "    \n",
    "plt.plot(estimators,f1_scores) \n",
    "for i in range (0,len(estimators)):\n",
    "    print(str(estimators[i]) + \"-------\" + str(f1_scores[i]))"
   ]
  },
  {
   "cell_type": "markdown",
   "metadata": {},
   "source": [
    "#### Lets fine tune for number of features with best number of estimator from above analysis"
   ]
  },
  {
   "cell_type": "code",
   "execution_count": 70,
   "metadata": {},
   "outputs": [
    {
     "name": "stdout",
     "output_type": "stream",
     "text": [
      "F1 Score:  0.8713134492048733\n",
      "Accuracy Score:  0.8924731182795699\n"
     ]
    }
   ],
   "source": [
    "rf_classifier = RandomForestClassifier(n_estimators=5, random_state = 42)\n",
    "rf_classifier.fit(X_train,y_train)\n",
    "pred = rf_classifier.predict(X_test)\n",
    "print(\"F1 Score: \", metrics.f1_score(y_test,pred, average='weighted'))\n",
    "print(\"Accuracy Score: \", accuracy_score(y_test,pred))"
   ]
  },
  {
   "cell_type": "code",
   "execution_count": 72,
   "metadata": {},
   "outputs": [
    {
     "name": "stdout",
     "output_type": "stream",
     "text": [
      "[0.8198388288868225, 0.7754224270353303, 0.8198388288868225, 0.7898091762146334, 0.7754224270353303, 0.7971923536439666, 0.7898091762146334, 0.7553828216090168, 0.7747100367155834, 0.7825625080969039, 0.7683642085687719]\n"
     ]
    },
    {
     "data": {
      "image/png": "[encoded data removed]",
      "text/plain": [
       "<matplotlib.figure.Figure at 0x1c1b09b278>"
      ]
     },
     "metadata": {},
     "output_type": "display_data"
    }
   ],
   "source": [
    "no_of_features = [10,20,30,40,50,100,200,300,400,500,600]\n",
    "f1_scores = []\n",
    "for e in no_of_features:\n",
    "    rf_classifier = RandomForestClassifier(max_features = e ,n_estimators=5,random_state = 42)\n",
    "    rf_classifier.fit(X_train,y_train)\n",
    "    pred = rf_classifier.predict(X_test)\n",
    "    f1_scores.append(f1_score(y_test,pred,average='weighted'))\n",
    "    \n",
    "plt.plot(no_of_features,f1_scores) \n",
    "print(f1_scores)"
   ]
  },
  {
   "cell_type": "code",
   "execution_count": 74,
   "metadata": {},
   "outputs": [
    {
     "name": "stdout",
     "output_type": "stream",
     "text": [
      "F1 Score:  0.8713134492048733\n",
      "Accuracy Score:  0.8924731182795699\n"
     ]
    }
   ],
   "source": [
    "rf_classifier = RandomForestClassifier(n_estimators=5, random_state = 42)\n",
    "rf_classifier.fit(X_train,y_train)\n",
    "pred = rf_classifier.predict(X_test)\n",
    "print(\"F1 Score: \", metrics.f1_score(y_test,pred, average='weighted'))\n",
    "print(\"Accuracy Score: \", accuracy_score(y_test,pred))\n",
    "cr = classification_report(y_test,pred)\n",
    "cm = confusion_matrix(y_test,pred)"
   ]
  },
  {
   "cell_type": "code",
   "execution_count": 75,
   "metadata": {},
   "outputs": [
    {
     "name": "stdout",
     "output_type": "stream",
     "text": [
      "             precision    recall  f1-score   support\n",
      "\n",
      "          0       1.00      0.38      0.55        16\n",
      "          1       0.89      1.00      0.94        77\n",
      "\n",
      "avg / total       0.90      0.89      0.87        93\n",
      "\n"
     ]
    },
    {
     "data": {
      "image/png": "[encoded data removed]",
      "text/plain": [
       "<matplotlib.figure.Figure at 0x1c1a6942b0>"
      ]
     },
     "metadata": {},
     "output_type": "display_data"
    }
   ],
   "source": [
    "print(cr)\n",
    "plotConfusion(cm)"
   ]
  },
  {
   "cell_type": "code",
   "execution_count": null,
   "metadata": {},
   "outputs": [],
   "source": []
  },
  {
   "cell_type": "markdown",
   "metadata": {},
   "source": [
    "#### Logistic regression model"
   ]
  },
  {
   "cell_type": "code",
   "execution_count": 77,
   "metadata": {},
   "outputs": [
    {
     "name": "stdout",
     "output_type": "stream",
     "text": [
      "F1 Score:  0.7877481389578163\n",
      "Accuracy Score:  0.8064516129032258\n",
      "             precision    recall  f1-score   support\n",
      "\n",
      "          0       0.40      0.25      0.31        16\n",
      "          1       0.86      0.92      0.89        77\n",
      "\n",
      "avg / total       0.78      0.81      0.79        93\n",
      "\n"
     ]
    }
   ],
   "source": [
    "#Logistic Regression\n",
    "logmodel = LogisticRegression()\n",
    "logmodel.fit(X_train,y_train)\n",
    "pred = logmodel.predict(X_test)\n",
    "print(\"F1 Score: \", metrics.f1_score(y_test,pred, average='weighted'))\n",
    "print(\"Accuracy Score: \", accuracy_score(y_test,pred))\n",
    "print(classification_report(y_test,pred))"
   ]
  },
  {
   "cell_type": "markdown",
   "metadata": {},
   "source": [
    "#### Extra tree classifier"
   ]
  },
  {
   "cell_type": "code",
   "execution_count": 78,
   "metadata": {},
   "outputs": [
    {
     "name": "stdout",
     "output_type": "stream",
     "text": [
      "F1 Score:  0.7613671889564816\n",
      "Accuracy Score:  0.7956989247311828\n"
     ]
    }
   ],
   "source": [
    "#ExtraTreeClassifier\n",
    "model = ExtraTreesClassifier(n_estimators=5,random_state=42)\n",
    "model.fit(X_train, y_train)\n",
    "pred = model.predict(X_test)\n",
    "print(\"F1 Score: \", metrics.f1_score(y_test,pred, average='weighted'))\n",
    "print(\"Accuracy Score: \", accuracy_score(y_test,pred))"
   ]
  },
  {
   "cell_type": "code",
   "execution_count": 79,
   "metadata": {},
   "outputs": [
    {
     "name": "stdout",
     "output_type": "stream",
     "text": [
      "[0.7613671889564816, 0.8018433179723502, 0.8097421945847908, 0.8097421945847908, 0.7898091762146334, 0.7898091762146334, 0.7825625080969039, 0.7825625080969039, 0.7825625080969039, 0.7825625080969039, 0.7898091762146334, 0.7898091762146334]\n"
     ]
    },
    {
     "data": {
      "image/png": "[encoded data removed]",
      "text/plain": [
       "<matplotlib.figure.Figure at 0x1a189e0ef0>"
      ]
     },
     "metadata": {},
     "output_type": "display_data"
    }
   ],
   "source": [
    "estimators = [5,10,15,20,30,35,40,45,50,100,200,300]\n",
    "f1_scores = []\n",
    "for e in estimators:\n",
    "    model = ExtraTreesClassifier(n_estimators=e,random_state=42)\n",
    "    model.fit(X_train, y_train)\n",
    "    pred = model.predict(X_test)\n",
    "    f1_scores.append(f1_score(y_test,pred,average='weighted'))\n",
    "    \n",
    "plt.plot(estimators,f1_scores) \n",
    "print(f1_scores)"
   ]
  },
  {
   "cell_type": "code",
   "execution_count": 91,
   "metadata": {},
   "outputs": [
    {
     "name": "stdout",
     "output_type": "stream",
     "text": [
      "F1 Score:  0.7941015187277972\n",
      "Accuracy Score:  0.8279569892473119\n"
     ]
    }
   ],
   "source": [
    "model = ExtraTreesClassifier(n_estimators=20,random_state=42)\n",
    "model.fit(X_train, y_train)\n",
    "pred = model.predict(X_test)\n",
    "print(\"F1 Score: \", metrics.f1_score(y_test,pred, average='weighted'))\n",
    "print(\"Accuracy Score: \", accuracy_score(y_test,pred))"
   ]
  },
  {
   "cell_type": "markdown",
   "metadata": {},
   "source": [
    "#### fine tune for max_features"
   ]
  },
  {
   "cell_type": "code",
   "execution_count": 92,
   "metadata": {},
   "outputs": [
    {
     "name": "stdout",
     "output_type": "stream",
     "text": [
      "[0.7747100367155834, 0.8018433179723502, 0.7825625080969039, 0.8178346193860156, 0.7825625080969039, 0.8280897384840037, 0.8097421945847908, 0.7941015187277972, 0.8198388288868225, 0.8097421945847908, 0.8018433179723502]\n"
     ]
    },
    {
     "data": {
      "image/png": "[encoded data removed]",
      "text/plain": [
       "<matplotlib.figure.Figure at 0x1c1ba41748>"
      ]
     },
     "metadata": {},
     "output_type": "display_data"
    }
   ],
   "source": [
    "no_of_features = [10,20,30,40,50,100,200,300,400,500,600]\n",
    "f1_scores = []\n",
    "for e in no_of_features:\n",
    "    model = ExtraTreesClassifier(max_features=e,n_estimators=20,random_state=42)\n",
    "    model.fit(X_train, y_train)\n",
    "    pred = model.predict(X_test)\n",
    "    f1_scores.append(f1_score(y_test,pred,average='weighted'))\n",
    "    \n",
    "plt.plot(no_of_features,f1_scores) \n",
    "print(f1_scores)"
   ]
  },
  {
   "cell_type": "code",
   "execution_count": 95,
   "metadata": {},
   "outputs": [
    {
     "name": "stdout",
     "output_type": "stream",
     "text": [
      "F1 Score:  0.8280897384840037\n",
      "Accuracy Score:  0.8494623655913979\n",
      "             precision    recall  f1-score   support\n",
      "\n",
      "          0       0.62      0.31      0.42        16\n",
      "          1       0.87      0.96      0.91        77\n",
      "\n",
      "avg / total       0.83      0.85      0.83        93\n",
      "\n"
     ]
    }
   ],
   "source": [
    "20,500\n",
    "\n",
    "#ExtraTreeClassifier\n",
    "model = ExtraTreesClassifier(n_estimators=20,max_features=100,random_state=42)\n",
    "model.fit(X_train, y_train)\n",
    "pred = model.predict(X_test)\n",
    "print(\"F1 Score: \", metrics.f1_score(y_test,pred, average='weighted'))\n",
    "print(\"Accuracy Score: \", accuracy_score(y_test,pred))\n",
    "cr = classification_report(y_test,pred)\n",
    "cm = confusion_matrix(y_test,pred)\n",
    "print(classification_report(y_test,pred))"
   ]
  },
  {
   "cell_type": "code",
   "execution_count": 96,
   "metadata": {},
   "outputs": [
    {
     "data": {
      "image/png": "[encoded data removed]",
      "text/plain": [
       "<matplotlib.figure.Figure at 0x1c1d1dc198>"
      ]
     },
     "metadata": {},
     "output_type": "display_data"
    }
   ],
   "source": [
    "plotConfusion(cm)"
   ]
  },
  {
   "cell_type": "markdown",
   "metadata": {},
   "source": [
    "#### Recursive Feature Elimination "
   ]
  },
  {
   "cell_type": "code",
   "execution_count": 98,
   "metadata": {},
   "outputs": [
    {
     "name": "stdout",
     "output_type": "stream",
     "text": [
      "Optimal number of features : 572\n",
      "Best features : Index(['normalized__cid_ce__normalize_True', 'normalized__count_above_mean',\n",
      "       'normalized__count_below_mean',\n",
      "       'normalized__cwt_coefficients__widths_(2, 5, 10, 20)__coeff_0__w_10',\n",
      "       'normalized__cwt_coefficients__widths_(2, 5, 10, 20)__coeff_0__w_2',\n",
      "       'normalized__cwt_coefficients__widths_(2, 5, 10, 20)__coeff_0__w_20',\n",
      "       'normalized__cwt_coefficients__widths_(2, 5, 10, 20)__coeff_0__w_5',\n",
      "       'normalized__cwt_coefficients__widths_(2, 5, 10, 20)__coeff_10__w_10',\n",
      "       'normalized__cwt_coefficients__widths_(2, 5, 10, 20)__coeff_10__w_2',\n",
      "       'normalized__cwt_coefficients__widths_(2, 5, 10, 20)__coeff_10__w_20',\n",
      "       ...\n",
      "       'normalized__symmetry_looking__r_0.9500000000000001',\n",
      "       'normalized__time_reversal_asymmetry_statistic__lag_1',\n",
      "       'normalized__time_reversal_asymmetry_statistic__lag_2',\n",
      "       'normalized__time_reversal_asymmetry_statistic__lag_3',\n",
      "       'normalized__value_count__value_-inf',\n",
      "       'normalized__value_count__value_0', 'normalized__value_count__value_1',\n",
      "       'normalized__value_count__value_inf',\n",
      "       'normalized__value_count__value_nan', 'normalized__variance'],\n",
      "      dtype='object', name='variable', length=572)\n"
     ]
    }
   ],
   "source": [
    "# The \"accuracy\" scoring is proportional to the number of correct classifications\n",
    "clf_rf_4 = RandomForestClassifier() \n",
    "rfecv = RFECV(estimator=clf_rf_4, step=1, cv=5,scoring='accuracy')   #5-fold cross-validation\n",
    "rfecv = rfecv.fit(X_train, y_train)\n",
    "\n",
    "print('Optimal number of features :', rfecv.n_features_)\n",
    "print('Best features :', X_train.columns[rfecv.support_])"
   ]
  },
  {
   "cell_type": "code",
   "execution_count": 99,
   "metadata": {},
   "outputs": [],
   "source": [
    "cols = X_train.columns[rfecv.support_]"
   ]
  },
  {
   "cell_type": "code",
   "execution_count": 100,
   "metadata": {},
   "outputs": [],
   "source": [
    "X = X[cols]"
   ]
  },
  {
   "cell_type": "code",
   "execution_count": 101,
   "metadata": {},
   "outputs": [],
   "source": [
    "X_train, X_test, y_train, y_test = train_test_split(X, y, test_size=0.40, random_state=42)"
   ]
  },
  {
   "cell_type": "code",
   "execution_count": 102,
   "metadata": {},
   "outputs": [
    {
     "name": "stdout",
     "output_type": "stream",
     "text": [
      "             precision    recall  f1-score   support\n",
      "\n",
      "          0       0.50      0.06      0.11        16\n",
      "          1       0.84      0.99      0.90        77\n",
      "\n",
      "avg / total       0.78      0.83      0.77        93\n",
      "\n",
      "Accuracy is:  0.8279569892473119\n"
     ]
    }
   ],
   "source": [
    "knn = KNeighborsClassifier(n_neighbors=10)\n",
    "knn.fit(X_train,y_train)\n",
    "pred = knn.predict(X_test)\n",
    "dsf = classification_report(y_test,pred)\n",
    "acc = accuracy_score(y_test,pred) \n",
    "print(dsf)\n",
    "print('Accuracy is: ',acc)"
   ]
  },
  {
   "cell_type": "code",
   "execution_count": 103,
   "metadata": {},
   "outputs": [
    {
     "name": "stdout",
     "output_type": "stream",
     "text": [
      "[0.7956989247311828, 0.7526881720430108, 0.8172043010752689, 0.8172043010752689, 0.8064516129032258, 0.7849462365591398, 0.8279569892473119, 0.8279569892473119, 0.8279569892473119, 0.8279569892473119, 0.8279569892473119, 0.8279569892473119, 0.8279569892473119, 0.8279569892473119, 0.8279569892473119]\n"
     ]
    },
    {
     "data": {
      "image/png": "[encoded data removed]",
      "text/plain": [
       "<matplotlib.figure.Figure at 0x1c1d7abd68>"
      ]
     },
     "metadata": {},
     "output_type": "display_data"
    }
   ],
   "source": [
    "#KNN for different k values\n",
    "kVals = [1,2,3,4,5,6,7,8,9,10,11,12,13,14,15]\n",
    "scores = []\n",
    "\n",
    "for k in kVals:\n",
    "    knn = KNeighborsClassifier(n_neighbors=k)\n",
    "    knn.fit(X_train,y_train)\n",
    "    pred = knn.predict(X_test)\n",
    "    scores.append(accuracy_score(y_test,pred))\n",
    "    \n",
    "plt.plot(kVals,scores)    \n",
    "print(scores) "
   ]
  },
  {
   "cell_type": "code",
   "execution_count": 43,
   "metadata": {},
   "outputs": [
    {
     "name": "stdout",
     "output_type": "stream",
     "text": [
      "[0.7682198327359617, 0.7747100367155834, 0.7500316255534472, 0.7446713749443278, 0.7446713749443278, 0.7500316255534472, 0.7500316255534472, 0.7500316255534472, 0.7500316255534472, 0.7747100367155834, 0.7747100367155834, 0.7747100367155834]\n"
     ]
    },
    {
     "data": {
      "image/png": "[encoded data removed]",
      "text/plain": [
       "<matplotlib.figure.Figure at 0x1c17be5b70>"
      ]
     },
     "metadata": {},
     "output_type": "display_data"
    }
   ],
   "source": [
    "#Ensemble Random Forest Classifier Fine Tunning\n",
    "estimators = [5,10,15,20,30,35,40,45,50,100,200,300]\n",
    "f1_scores = []\n",
    "for e in estimators:\n",
    "    rf_classifier = RandomForestClassifier(n_estimators=e, random_state = 42)\n",
    "    rf_classifier.fit(X_train,y_train)\n",
    "    pred = rf_classifier.predict(X_test)\n",
    "    f1_scores.append(f1_score(y_test,pred,average='weighted'))\n",
    "    \n",
    "plt.plot(estimators,f1_scores) \n",
    "print(f1_scores)"
   ]
  },
  {
   "cell_type": "code",
   "execution_count": 107,
   "metadata": {},
   "outputs": [
    {
     "name": "stdout",
     "output_type": "stream",
     "text": [
      "             precision    recall  f1-score   support\n",
      "\n",
      "          0       1.00      0.06      0.12        16\n",
      "          1       0.84      1.00      0.91        77\n",
      "\n",
      "avg / total       0.87      0.84      0.77        93\n",
      "\n",
      "Accuracy is:  0.8387096774193549\n"
     ]
    }
   ],
   "source": [
    "rf_classifier = RandomForestClassifier(n_estimators=30, random_state = 42)\n",
    "rf_classifier.fit(X_train,y_train)\n",
    "pred = rf_classifier.predict(X_test)\n",
    "dsf = classification_report(y_test,pred)\n",
    "acc = accuracy_score(y_test,pred) \n",
    "print(dsf)\n",
    "print('Accuracy is: ',acc)\n",
    "cm = confusion_matrix(y_test,pred)"
   ]
  },
  {
   "cell_type": "code",
   "execution_count": 108,
   "metadata": {},
   "outputs": [
    {
     "name": "stdout",
     "output_type": "stream",
     "text": [
      "             precision    recall  f1-score   support\n",
      "\n",
      "          0       1.00      0.06      0.12        16\n",
      "          1       0.84      1.00      0.91        77\n",
      "\n",
      "avg / total       0.87      0.84      0.77        93\n",
      "\n"
     ]
    }
   ],
   "source": [
    "print(classification_report(y_test,pred))"
   ]
  },
  {
   "cell_type": "code",
   "execution_count": 109,
   "metadata": {},
   "outputs": [
    {
     "data": {
      "image/png": "[encoded data removed]",
      "text/plain": [
       "<matplotlib.figure.Figure at 0x1c1fb48828>"
      ]
     },
     "metadata": {},
     "output_type": "display_data"
    }
   ],
   "source": [
    "plotConfusion(cm)"
   ]
  },
  {
   "cell_type": "code",
   "execution_count": null,
   "metadata": {},
   "outputs": [],
   "source": []
  }
 ],
 "metadata": {
  "kernelspec": {
   "display_name": "Python 3",
   "language": "python",
   "name": "python3"
  },
  "language_info": {
   "codemirror_mode": {
    "name": "ipython",
    "version": 3
   },
   "file_extension": ".py",
   "mimetype": "text/x-python",
   "name": "python",
   "nbconvert_exporter": "python",
   "pygments_lexer": "ipython3",
   "version": "3.6.4"
  }
 },
 "nbformat": 4,
 "nbformat_minor": 2
}
