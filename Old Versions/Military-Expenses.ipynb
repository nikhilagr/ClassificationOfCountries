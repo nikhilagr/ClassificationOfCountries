{
 "cells": [
  {
   "cell_type": "code",
   "execution_count": 1,
   "metadata": {},
   "outputs": [
    {
     "name": "stderr",
     "output_type": "stream",
     "text": [
      "/anaconda3/lib/python3.6/site-packages/sklearn/ensemble/weight_boosting.py:29: DeprecationWarning: numpy.core.umath_tests is an internal NumPy module and should not be imported. It will be removed in a future NumPy release.\n",
      "  from numpy.core.umath_tests import inner1d\n"
     ]
    }
   ],
   "source": [
    "import pandas as pd\n",
    "import numpy as np\n",
    "from sklearn.model_selection import train_test_split,cross_val_score,KFold\n",
    "from sklearn import metrics\n",
    "from sklearn.metrics import classification_report,confusion_matrix,accuracy_score,f1_score\n",
    "from sklearn.neighbors import KNeighborsClassifier\n",
    "from sklearn.ensemble import RandomForestClassifier\n",
    "from sklearn.ensemble import ExtraTreesClassifier\n",
    "from sklearn import preprocessing\n",
    "\n",
    "\n",
    "#libraries for model performance evaluation\n",
    "from sklearn import metrics\n",
    "from sklearn.metrics import classification_report,confusion_matrix,accuracy_score,f1_score\n",
    "\n",
    "#libraries for visualization\n",
    "import matplotlib.pyplot as plt\n",
    "import seaborn as sns\n",
    "%matplotlib inline\n",
    "from matplotlib.colors import ListedColormap\n",
    "\n",
    "# libraries for computation\n",
    "import pandas as pd\n",
    "import numpy as np\n",
    "\n",
    "#library for train test split\n",
    "from sklearn.model_selection import train_test_split,cross_val_score,KFold\n",
    "\n",
    "#library for preprocessing\n",
    "from sklearn.preprocessing import StandardScaler\n",
    "\n",
    "#library for Dimensionality reduction\n",
    "from sklearn.decomposition import PCA\n",
    "from sklearn.decomposition import TruncatedSVD\n",
    "\n",
    "#Library for feature selection techniques\n",
    "from sklearn.feature_selection import RFE\n",
    "from sklearn.feature_selection import RFECV\n",
    "from sklearn.feature_selection import SelectKBest\n",
    "from sklearn.feature_selection import chi2\n",
    "from sklearn.feature_selection import SelectFromModel\n",
    "\n",
    "#libraries for various ML models \n",
    "from sklearn import svm\n",
    "from sklearn.svm import SVC\n",
    "from sklearn.linear_model import LogisticRegression\n",
    "from sklearn.neural_network import MLPClassifier\n",
    "from sklearn.neighbors import KNeighborsClassifier\n",
    "from sklearn.tree import DecisionTreeClassifier\n",
    "#ensemble models\n",
    "from sklearn.ensemble import BaggingClassifier\n",
    "from sklearn.ensemble import AdaBoostClassifier\n",
    "from sklearn.ensemble import GradientBoostingClassifier\n",
    "from sklearn.ensemble import VotingClassifier\n",
    "from sklearn.ensemble import RandomForestClassifier\n",
    "from sklearn.ensemble import ExtraTreesClassifier\n",
    "from sklearn.ensemble import RandomForestRegressor\n",
    "\n",
    "\n",
    "\n",
    "#libraries for model performance evaluation\n",
    "from sklearn import metrics\n",
    "from sklearn.metrics import classification_report,confusion_matrix,accuracy_score,f1_score\n",
    "\n",
    "#libraries for visualization\n",
    "import matplotlib.pyplot as plt\n",
    "import seaborn as sns\n",
    "%matplotlib inline\n",
    "from matplotlib.colors import ListedColormap\n",
    "\n",
    "import warnings\n",
    "warnings.filterwarnings('ignore')"
   ]
  },
  {
   "cell_type": "markdown",
   "metadata": {},
   "source": [
    "### Read Data from CSV"
   ]
  },
  {
   "cell_type": "code",
   "execution_count": 2,
   "metadata": {},
   "outputs": [],
   "source": [
    "data = pd.read_csv('military-expenditure.csv')"
   ]
  },
  {
   "cell_type": "code",
   "execution_count": 3,
   "metadata": {},
   "outputs": [
    {
     "data": {
      "text/html": [
       "<div>\n",
       "<style scoped>\n",
       "    .dataframe tbody tr th:only-of-type {\n",
       "        vertical-align: middle;\n",
       "    }\n",
       "\n",
       "    .dataframe tbody tr th {\n",
       "        vertical-align: top;\n",
       "    }\n",
       "\n",
       "    .dataframe thead th {\n",
       "        text-align: right;\n",
       "    }\n",
       "</style>\n",
       "<table border=\"1\" class=\"dataframe\">\n",
       "  <thead>\n",
       "    <tr style=\"text-align: right;\">\n",
       "      <th></th>\n",
       "      <th>Country or Area</th>\n",
       "      <th>Year</th>\n",
       "      <th>Value</th>\n",
       "      <th>Value Footnotes</th>\n",
       "    </tr>\n",
       "  </thead>\n",
       "  <tbody>\n",
       "    <tr>\n",
       "      <th>0</th>\n",
       "      <td>Afghanistan</td>\n",
       "      <td>2017</td>\n",
       "      <td>3.576700</td>\n",
       "      <td>NaN</td>\n",
       "    </tr>\n",
       "    <tr>\n",
       "      <th>1</th>\n",
       "      <td>Afghanistan</td>\n",
       "      <td>2016</td>\n",
       "      <td>3.680251</td>\n",
       "      <td>NaN</td>\n",
       "    </tr>\n",
       "    <tr>\n",
       "      <th>2</th>\n",
       "      <td>Afghanistan</td>\n",
       "      <td>2015</td>\n",
       "      <td>3.833142</td>\n",
       "      <td>NaN</td>\n",
       "    </tr>\n",
       "    <tr>\n",
       "      <th>3</th>\n",
       "      <td>Afghanistan</td>\n",
       "      <td>2014</td>\n",
       "      <td>5.109793</td>\n",
       "      <td>NaN</td>\n",
       "    </tr>\n",
       "    <tr>\n",
       "      <th>4</th>\n",
       "      <td>Afghanistan</td>\n",
       "      <td>2013</td>\n",
       "      <td>4.311764</td>\n",
       "      <td>NaN</td>\n",
       "    </tr>\n",
       "  </tbody>\n",
       "</table>\n",
       "</div>"
      ],
      "text/plain": [
       "  Country or Area  Year     Value  Value Footnotes\n",
       "0     Afghanistan  2017  3.576700              NaN\n",
       "1     Afghanistan  2016  3.680251              NaN\n",
       "2     Afghanistan  2015  3.833142              NaN\n",
       "3     Afghanistan  2014  5.109793              NaN\n",
       "4     Afghanistan  2013  4.311764              NaN"
      ]
     },
     "execution_count": 3,
     "metadata": {},
     "output_type": "execute_result"
    }
   ],
   "source": [
    "data.head()"
   ]
  },
  {
   "cell_type": "code",
   "execution_count": 4,
   "metadata": {},
   "outputs": [
    {
     "data": {
      "text/html": [
       "<div>\n",
       "<style scoped>\n",
       "    .dataframe tbody tr th:only-of-type {\n",
       "        vertical-align: middle;\n",
       "    }\n",
       "\n",
       "    .dataframe tbody tr th {\n",
       "        vertical-align: top;\n",
       "    }\n",
       "\n",
       "    .dataframe thead th {\n",
       "        text-align: right;\n",
       "    }\n",
       "</style>\n",
       "<table border=\"1\" class=\"dataframe\">\n",
       "  <thead>\n",
       "    <tr style=\"text-align: right;\">\n",
       "      <th></th>\n",
       "      <th>Country or Area</th>\n",
       "      <th>Year</th>\n",
       "      <th>Value</th>\n",
       "    </tr>\n",
       "  </thead>\n",
       "  <tbody>\n",
       "    <tr>\n",
       "      <th>0</th>\n",
       "      <td>Afghanistan</td>\n",
       "      <td>2017</td>\n",
       "      <td>3.576700</td>\n",
       "    </tr>\n",
       "    <tr>\n",
       "      <th>1</th>\n",
       "      <td>Afghanistan</td>\n",
       "      <td>2016</td>\n",
       "      <td>3.680251</td>\n",
       "    </tr>\n",
       "    <tr>\n",
       "      <th>2</th>\n",
       "      <td>Afghanistan</td>\n",
       "      <td>2015</td>\n",
       "      <td>3.833142</td>\n",
       "    </tr>\n",
       "    <tr>\n",
       "      <th>3</th>\n",
       "      <td>Afghanistan</td>\n",
       "      <td>2014</td>\n",
       "      <td>5.109793</td>\n",
       "    </tr>\n",
       "    <tr>\n",
       "      <th>4</th>\n",
       "      <td>Afghanistan</td>\n",
       "      <td>2013</td>\n",
       "      <td>4.311764</td>\n",
       "    </tr>\n",
       "  </tbody>\n",
       "</table>\n",
       "</div>"
      ],
      "text/plain": [
       "  Country or Area  Year     Value\n",
       "0     Afghanistan  2017  3.576700\n",
       "1     Afghanistan  2016  3.680251\n",
       "2     Afghanistan  2015  3.833142\n",
       "3     Afghanistan  2014  5.109793\n",
       "4     Afghanistan  2013  4.311764"
      ]
     },
     "execution_count": 4,
     "metadata": {},
     "output_type": "execute_result"
    }
   ],
   "source": [
    "# Read data from csv and print the head\n",
    "data = data.drop(columns=['Value Footnotes'])\n",
    "data.head(5)"
   ]
  },
  {
   "cell_type": "markdown",
   "metadata": {},
   "source": [
    "### Lets normalize data"
   ]
  },
  {
   "cell_type": "code",
   "execution_count": 5,
   "metadata": {},
   "outputs": [],
   "source": [
    "# Normalize the value column and drop old column\n",
    "\n",
    "# Create x, where x the 'Value' column's values as floats\n",
    "x = data[['Value']].values.astype(float)\n",
    "\n",
    "# Create a minimum and maximum processor object\n",
    "min_max_scaler = preprocessing.MinMaxScaler()\n",
    "\n",
    "# Create an object to transform the data to fit minmax processor\n",
    "x_scaled = min_max_scaler.fit_transform(x)\n",
    "\n",
    "# Run the normalizer on the dataframe\n",
    "df_normalized = pd.DataFrame(x_scaled)\n",
    "df_normalized['normalized'] = pd.DataFrame(x_scaled)\n",
    "df_normalized.drop(columns=0,inplace=True)\n",
    "\n",
    "data_new = pd.concat([data,df_normalized ], axis=1)\n",
    "data_new.drop(columns='Value',inplace=True)"
   ]
  },
  {
   "cell_type": "code",
   "execution_count": 6,
   "metadata": {},
   "outputs": [
    {
     "data": {
      "text/html": [
       "<div>\n",
       "<style scoped>\n",
       "    .dataframe tbody tr th:only-of-type {\n",
       "        vertical-align: middle;\n",
       "    }\n",
       "\n",
       "    .dataframe tbody tr th {\n",
       "        vertical-align: top;\n",
       "    }\n",
       "\n",
       "    .dataframe thead th {\n",
       "        text-align: right;\n",
       "    }\n",
       "</style>\n",
       "<table border=\"1\" class=\"dataframe\">\n",
       "  <thead>\n",
       "    <tr style=\"text-align: right;\">\n",
       "      <th></th>\n",
       "      <th>Country or Area</th>\n",
       "      <th>Year</th>\n",
       "      <th>normalized</th>\n",
       "    </tr>\n",
       "  </thead>\n",
       "  <tbody>\n",
       "    <tr>\n",
       "      <th>0</th>\n",
       "      <td>Afghanistan</td>\n",
       "      <td>2017</td>\n",
       "      <td>0.062227</td>\n",
       "    </tr>\n",
       "    <tr>\n",
       "      <th>1</th>\n",
       "      <td>Afghanistan</td>\n",
       "      <td>2016</td>\n",
       "      <td>0.064029</td>\n",
       "    </tr>\n",
       "    <tr>\n",
       "      <th>2</th>\n",
       "      <td>Afghanistan</td>\n",
       "      <td>2015</td>\n",
       "      <td>0.066689</td>\n",
       "    </tr>\n",
       "    <tr>\n",
       "      <th>3</th>\n",
       "      <td>Afghanistan</td>\n",
       "      <td>2014</td>\n",
       "      <td>0.088900</td>\n",
       "    </tr>\n",
       "    <tr>\n",
       "      <th>4</th>\n",
       "      <td>Afghanistan</td>\n",
       "      <td>2013</td>\n",
       "      <td>0.075016</td>\n",
       "    </tr>\n",
       "  </tbody>\n",
       "</table>\n",
       "</div>"
      ],
      "text/plain": [
       "  Country or Area  Year  normalized\n",
       "0     Afghanistan  2017    0.062227\n",
       "1     Afghanistan  2016    0.064029\n",
       "2     Afghanistan  2015    0.066689\n",
       "3     Afghanistan  2014    0.088900\n",
       "4     Afghanistan  2013    0.075016"
      ]
     },
     "execution_count": 6,
     "metadata": {},
     "output_type": "execute_result"
    }
   ],
   "source": [
    "# Check new dataframe with normalized value\n",
    "data_new.head()"
   ]
  },
  {
   "cell_type": "markdown",
   "metadata": {},
   "source": [
    "#### Using tsfresh to extract features from data"
   ]
  },
  {
   "cell_type": "code",
   "execution_count": 7,
   "metadata": {},
   "outputs": [
    {
     "name": "stderr",
     "output_type": "stream",
     "text": [
      "Feature Extraction: 100%|██████████| 10/10 [00:26<00:00,  2.29s/it]\n"
     ]
    }
   ],
   "source": [
    "# Use TSFresh library to extract features from data \n",
    "from tsfresh import extract_features\n",
    "extracted_features = extract_features(data_new, column_id=\"Country or Area\", column_sort=\"Year\")"
   ]
  },
  {
   "cell_type": "code",
   "execution_count": 8,
   "metadata": {},
   "outputs": [
    {
     "data": {
      "text/html": [
       "<div>\n",
       "<style scoped>\n",
       "    .dataframe tbody tr th:only-of-type {\n",
       "        vertical-align: middle;\n",
       "    }\n",
       "\n",
       "    .dataframe tbody tr th {\n",
       "        vertical-align: top;\n",
       "    }\n",
       "\n",
       "    .dataframe thead th {\n",
       "        text-align: right;\n",
       "    }\n",
       "</style>\n",
       "<table border=\"1\" class=\"dataframe\">\n",
       "  <thead>\n",
       "    <tr style=\"text-align: right;\">\n",
       "      <th>variable</th>\n",
       "      <th>normalized__abs_energy</th>\n",
       "      <th>normalized__absolute_sum_of_changes</th>\n",
       "      <th>normalized__agg_autocorrelation__f_agg_\"mean\"</th>\n",
       "      <th>normalized__agg_autocorrelation__f_agg_\"median\"</th>\n",
       "      <th>normalized__agg_autocorrelation__f_agg_\"var\"</th>\n",
       "      <th>normalized__agg_linear_trend__f_agg_\"max\"__chunk_len_10__attr_\"intercept\"</th>\n",
       "      <th>normalized__agg_linear_trend__f_agg_\"max\"__chunk_len_10__attr_\"rvalue\"</th>\n",
       "      <th>normalized__agg_linear_trend__f_agg_\"max\"__chunk_len_10__attr_\"slope\"</th>\n",
       "      <th>normalized__agg_linear_trend__f_agg_\"max\"__chunk_len_10__attr_\"stderr\"</th>\n",
       "      <th>normalized__agg_linear_trend__f_agg_\"max\"__chunk_len_50__attr_\"intercept\"</th>\n",
       "      <th>...</th>\n",
       "      <th>normalized__time_reversal_asymmetry_statistic__lag_1</th>\n",
       "      <th>normalized__time_reversal_asymmetry_statistic__lag_2</th>\n",
       "      <th>normalized__time_reversal_asymmetry_statistic__lag_3</th>\n",
       "      <th>normalized__value_count__value_-inf</th>\n",
       "      <th>normalized__value_count__value_0</th>\n",
       "      <th>normalized__value_count__value_1</th>\n",
       "      <th>normalized__value_count__value_inf</th>\n",
       "      <th>normalized__value_count__value_nan</th>\n",
       "      <th>normalized__variance</th>\n",
       "      <th>normalized__variance_larger_than_standard_deviation</th>\n",
       "    </tr>\n",
       "    <tr>\n",
       "      <th>id</th>\n",
       "      <th></th>\n",
       "      <th></th>\n",
       "      <th></th>\n",
       "      <th></th>\n",
       "      <th></th>\n",
       "      <th></th>\n",
       "      <th></th>\n",
       "      <th></th>\n",
       "      <th></th>\n",
       "      <th></th>\n",
       "      <th></th>\n",
       "      <th></th>\n",
       "      <th></th>\n",
       "      <th></th>\n",
       "      <th></th>\n",
       "      <th></th>\n",
       "      <th></th>\n",
       "      <th></th>\n",
       "      <th></th>\n",
       "      <th></th>\n",
       "      <th></th>\n",
       "    </tr>\n",
       "  </thead>\n",
       "  <tbody>\n",
       "    <tr>\n",
       "      <th>Afghanistan</th>\n",
       "      <td>0.350384</td>\n",
       "      <td>0.301502</td>\n",
       "      <td>-0.588730</td>\n",
       "      <td>-0.571127</td>\n",
       "      <td>0.936081</td>\n",
       "      <td>0.280704</td>\n",
       "      <td>-1.000000</td>\n",
       "      <td>-0.191804</td>\n",
       "      <td>0.000000</td>\n",
       "      <td>NaN</td>\n",
       "      <td>...</td>\n",
       "      <td>-0.001712</td>\n",
       "      <td>-0.002800</td>\n",
       "      <td>-0.004547</td>\n",
       "      <td>0.0</td>\n",
       "      <td>0.0</td>\n",
       "      <td>0.0</td>\n",
       "      <td>0.0</td>\n",
       "      <td>0.0</td>\n",
       "      <td>0.004595</td>\n",
       "      <td>0.0</td>\n",
       "    </tr>\n",
       "    <tr>\n",
       "      <th>Albania</th>\n",
       "      <td>0.016369</td>\n",
       "      <td>0.044826</td>\n",
       "      <td>-0.502664</td>\n",
       "      <td>-0.418869</td>\n",
       "      <td>0.680401</td>\n",
       "      <td>0.047034</td>\n",
       "      <td>-1.000000</td>\n",
       "      <td>-0.022678</td>\n",
       "      <td>0.000000</td>\n",
       "      <td>NaN</td>\n",
       "      <td>...</td>\n",
       "      <td>-0.000009</td>\n",
       "      <td>-0.000022</td>\n",
       "      <td>-0.000030</td>\n",
       "      <td>0.0</td>\n",
       "      <td>0.0</td>\n",
       "      <td>0.0</td>\n",
       "      <td>0.0</td>\n",
       "      <td>0.0</td>\n",
       "      <td>0.000073</td>\n",
       "      <td>0.0</td>\n",
       "    </tr>\n",
       "    <tr>\n",
       "      <th>Algeria</th>\n",
       "      <td>1.007092</td>\n",
       "      <td>0.455701</td>\n",
       "      <td>-0.514044</td>\n",
       "      <td>-0.191397</td>\n",
       "      <td>1.832791</td>\n",
       "      <td>0.210115</td>\n",
       "      <td>0.785825</td>\n",
       "      <td>0.028354</td>\n",
       "      <td>0.022315</td>\n",
       "      <td>NaN</td>\n",
       "      <td>...</td>\n",
       "      <td>0.000988</td>\n",
       "      <td>0.001684</td>\n",
       "      <td>0.002074</td>\n",
       "      <td>0.0</td>\n",
       "      <td>0.0</td>\n",
       "      <td>0.0</td>\n",
       "      <td>0.0</td>\n",
       "      <td>0.0</td>\n",
       "      <td>0.002046</td>\n",
       "      <td>0.0</td>\n",
       "    </tr>\n",
       "    <tr>\n",
       "      <th>Angola</th>\n",
       "      <td>0.961375</td>\n",
       "      <td>1.413493</td>\n",
       "      <td>-0.025930</td>\n",
       "      <td>0.007579</td>\n",
       "      <td>0.040457</td>\n",
       "      <td>0.435317</td>\n",
       "      <td>-0.876504</td>\n",
       "      <td>-0.129176</td>\n",
       "      <td>0.070946</td>\n",
       "      <td>NaN</td>\n",
       "      <td>...</td>\n",
       "      <td>-0.000367</td>\n",
       "      <td>-0.001891</td>\n",
       "      <td>-0.001274</td>\n",
       "      <td>0.0</td>\n",
       "      <td>0.0</td>\n",
       "      <td>0.0</td>\n",
       "      <td>0.0</td>\n",
       "      <td>0.0</td>\n",
       "      <td>0.005286</td>\n",
       "      <td>0.0</td>\n",
       "    </tr>\n",
       "    <tr>\n",
       "      <th>Arab World</th>\n",
       "      <td>3.551196</td>\n",
       "      <td>0.715674</td>\n",
       "      <td>-0.363935</td>\n",
       "      <td>-0.578472</td>\n",
       "      <td>0.472974</td>\n",
       "      <td>0.530846</td>\n",
       "      <td>-0.907461</td>\n",
       "      <td>-0.084208</td>\n",
       "      <td>0.038986</td>\n",
       "      <td>NaN</td>\n",
       "      <td>...</td>\n",
       "      <td>-0.004318</td>\n",
       "      <td>-0.007801</td>\n",
       "      <td>-0.011248</td>\n",
       "      <td>0.0</td>\n",
       "      <td>0.0</td>\n",
       "      <td>0.0</td>\n",
       "      <td>0.0</td>\n",
       "      <td>0.0</td>\n",
       "      <td>0.005224</td>\n",
       "      <td>0.0</td>\n",
       "    </tr>\n",
       "  </tbody>\n",
       "</table>\n",
       "<p>5 rows × 794 columns</p>\n",
       "</div>"
      ],
      "text/plain": [
       "variable     normalized__abs_energy  normalized__absolute_sum_of_changes  \\\n",
       "id                                                                         \n",
       "Afghanistan                0.350384                             0.301502   \n",
       "Albania                    0.016369                             0.044826   \n",
       "Algeria                    1.007092                             0.455701   \n",
       "Angola                     0.961375                             1.413493   \n",
       "Arab World                 3.551196                             0.715674   \n",
       "\n",
       "variable     normalized__agg_autocorrelation__f_agg_\"mean\"  \\\n",
       "id                                                           \n",
       "Afghanistan                                      -0.588730   \n",
       "Albania                                          -0.502664   \n",
       "Algeria                                          -0.514044   \n",
       "Angola                                           -0.025930   \n",
       "Arab World                                       -0.363935   \n",
       "\n",
       "variable     normalized__agg_autocorrelation__f_agg_\"median\"  \\\n",
       "id                                                             \n",
       "Afghanistan                                        -0.571127   \n",
       "Albania                                            -0.418869   \n",
       "Algeria                                            -0.191397   \n",
       "Angola                                              0.007579   \n",
       "Arab World                                         -0.578472   \n",
       "\n",
       "variable     normalized__agg_autocorrelation__f_agg_\"var\"  \\\n",
       "id                                                          \n",
       "Afghanistan                                      0.936081   \n",
       "Albania                                          0.680401   \n",
       "Algeria                                          1.832791   \n",
       "Angola                                           0.040457   \n",
       "Arab World                                       0.472974   \n",
       "\n",
       "variable     normalized__agg_linear_trend__f_agg_\"max\"__chunk_len_10__attr_\"intercept\"  \\\n",
       "id                                                                                       \n",
       "Afghanistan                                           0.280704                           \n",
       "Albania                                               0.047034                           \n",
       "Algeria                                               0.210115                           \n",
       "Angola                                                0.435317                           \n",
       "Arab World                                            0.530846                           \n",
       "\n",
       "variable     normalized__agg_linear_trend__f_agg_\"max\"__chunk_len_10__attr_\"rvalue\"  \\\n",
       "id                                                                                    \n",
       "Afghanistan                                          -1.000000                        \n",
       "Albania                                              -1.000000                        \n",
       "Algeria                                               0.785825                        \n",
       "Angola                                               -0.876504                        \n",
       "Arab World                                           -0.907461                        \n",
       "\n",
       "variable     normalized__agg_linear_trend__f_agg_\"max\"__chunk_len_10__attr_\"slope\"  \\\n",
       "id                                                                                   \n",
       "Afghanistan                                          -0.191804                       \n",
       "Albania                                              -0.022678                       \n",
       "Algeria                                               0.028354                       \n",
       "Angola                                               -0.129176                       \n",
       "Arab World                                           -0.084208                       \n",
       "\n",
       "variable     normalized__agg_linear_trend__f_agg_\"max\"__chunk_len_10__attr_\"stderr\"  \\\n",
       "id                                                                                    \n",
       "Afghanistan                                           0.000000                        \n",
       "Albania                                               0.000000                        \n",
       "Algeria                                               0.022315                        \n",
       "Angola                                                0.070946                        \n",
       "Arab World                                            0.038986                        \n",
       "\n",
       "variable     normalized__agg_linear_trend__f_agg_\"max\"__chunk_len_50__attr_\"intercept\"  \\\n",
       "id                                                                                       \n",
       "Afghanistan                                                NaN                           \n",
       "Albania                                                    NaN                           \n",
       "Algeria                                                    NaN                           \n",
       "Angola                                                     NaN                           \n",
       "Arab World                                                 NaN                           \n",
       "\n",
       "variable                            ...                           \\\n",
       "id                                  ...                            \n",
       "Afghanistan                         ...                            \n",
       "Albania                             ...                            \n",
       "Algeria                             ...                            \n",
       "Angola                              ...                            \n",
       "Arab World                          ...                            \n",
       "\n",
       "variable     normalized__time_reversal_asymmetry_statistic__lag_1  \\\n",
       "id                                                                  \n",
       "Afghanistan                                          -0.001712      \n",
       "Albania                                              -0.000009      \n",
       "Algeria                                               0.000988      \n",
       "Angola                                               -0.000367      \n",
       "Arab World                                           -0.004318      \n",
       "\n",
       "variable     normalized__time_reversal_asymmetry_statistic__lag_2  \\\n",
       "id                                                                  \n",
       "Afghanistan                                          -0.002800      \n",
       "Albania                                              -0.000022      \n",
       "Algeria                                               0.001684      \n",
       "Angola                                               -0.001891      \n",
       "Arab World                                           -0.007801      \n",
       "\n",
       "variable     normalized__time_reversal_asymmetry_statistic__lag_3  \\\n",
       "id                                                                  \n",
       "Afghanistan                                          -0.004547      \n",
       "Albania                                              -0.000030      \n",
       "Algeria                                               0.002074      \n",
       "Angola                                               -0.001274      \n",
       "Arab World                                           -0.011248      \n",
       "\n",
       "variable     normalized__value_count__value_-inf  \\\n",
       "id                                                 \n",
       "Afghanistan                                  0.0   \n",
       "Albania                                      0.0   \n",
       "Algeria                                      0.0   \n",
       "Angola                                       0.0   \n",
       "Arab World                                   0.0   \n",
       "\n",
       "variable     normalized__value_count__value_0  \\\n",
       "id                                              \n",
       "Afghanistan                               0.0   \n",
       "Albania                                   0.0   \n",
       "Algeria                                   0.0   \n",
       "Angola                                    0.0   \n",
       "Arab World                                0.0   \n",
       "\n",
       "variable     normalized__value_count__value_1  \\\n",
       "id                                              \n",
       "Afghanistan                               0.0   \n",
       "Albania                                   0.0   \n",
       "Algeria                                   0.0   \n",
       "Angola                                    0.0   \n",
       "Arab World                                0.0   \n",
       "\n",
       "variable     normalized__value_count__value_inf  \\\n",
       "id                                                \n",
       "Afghanistan                                 0.0   \n",
       "Albania                                     0.0   \n",
       "Algeria                                     0.0   \n",
       "Angola                                      0.0   \n",
       "Arab World                                  0.0   \n",
       "\n",
       "variable     normalized__value_count__value_nan  normalized__variance  \\\n",
       "id                                                                      \n",
       "Afghanistan                                 0.0              0.004595   \n",
       "Albania                                     0.0              0.000073   \n",
       "Algeria                                     0.0              0.002046   \n",
       "Angola                                      0.0              0.005286   \n",
       "Arab World                                  0.0              0.005224   \n",
       "\n",
       "variable     normalized__variance_larger_than_standard_deviation  \n",
       "id                                                                \n",
       "Afghanistan                                                0.0    \n",
       "Albania                                                    0.0    \n",
       "Algeria                                                    0.0    \n",
       "Angola                                                     0.0    \n",
       "Arab World                                                 0.0    \n",
       "\n",
       "[5 rows x 794 columns]"
      ]
     },
     "execution_count": 8,
     "metadata": {},
     "output_type": "execute_result"
    }
   ],
   "source": [
    "#Check extracted features\n",
    "extracted_features.head()"
   ]
  },
  {
   "cell_type": "code",
   "execution_count": 9,
   "metadata": {},
   "outputs": [
    {
     "data": {
      "text/plain": [
       "(206, 794)"
      ]
     },
     "execution_count": 9,
     "metadata": {},
     "output_type": "execute_result"
    }
   ],
   "source": [
    "#Check shape of new data with extracted features\n",
    "extracted_features.shape"
   ]
  },
  {
   "cell_type": "code",
   "execution_count": null,
   "metadata": {},
   "outputs": [],
   "source": []
  },
  {
   "cell_type": "code",
   "execution_count": 10,
   "metadata": {},
   "outputs": [
    {
     "data": {
      "text/plain": [
       "568"
      ]
     },
     "execution_count": 10,
     "metadata": {},
     "output_type": "execute_result"
    }
   ],
   "source": [
    "#Check if any columns contains Nan values (null values)\n",
    "list_cols_with_nan = extracted_features.columns[extracted_features.isna().any()].tolist()\n",
    "len(list_cols_with_nan)"
   ]
  },
  {
   "cell_type": "code",
   "execution_count": 11,
   "metadata": {},
   "outputs": [],
   "source": [
    "# it seems 568 columns out of 794 have some null values"
   ]
  },
  {
   "cell_type": "code",
   "execution_count": 12,
   "metadata": {},
   "outputs": [
    {
     "name": "stderr",
     "output_type": "stream",
     "text": [
      "WARNING:tsfresh.utilities.dataframe_functions:The columns ['normalized__agg_linear_trend__f_agg_\"max\"__chunk_len_50__attr_\"intercept\"'\n",
      " 'normalized__agg_linear_trend__f_agg_\"max\"__chunk_len_50__attr_\"rvalue\"'\n",
      " 'normalized__agg_linear_trend__f_agg_\"max\"__chunk_len_50__attr_\"slope\"'\n",
      " 'normalized__agg_linear_trend__f_agg_\"max\"__chunk_len_50__attr_\"stderr\"'\n",
      " 'normalized__agg_linear_trend__f_agg_\"mean\"__chunk_len_50__attr_\"intercept\"'\n",
      " 'normalized__agg_linear_trend__f_agg_\"mean\"__chunk_len_50__attr_\"rvalue\"'\n",
      " 'normalized__agg_linear_trend__f_agg_\"mean\"__chunk_len_50__attr_\"slope\"'\n",
      " 'normalized__agg_linear_trend__f_agg_\"mean\"__chunk_len_50__attr_\"stderr\"'\n",
      " 'normalized__agg_linear_trend__f_agg_\"min\"__chunk_len_50__attr_\"intercept\"'\n",
      " 'normalized__agg_linear_trend__f_agg_\"min\"__chunk_len_50__attr_\"rvalue\"'\n",
      " 'normalized__agg_linear_trend__f_agg_\"min\"__chunk_len_50__attr_\"slope\"'\n",
      " 'normalized__agg_linear_trend__f_agg_\"min\"__chunk_len_50__attr_\"stderr\"'\n",
      " 'normalized__agg_linear_trend__f_agg_\"var\"__chunk_len_50__attr_\"intercept\"'\n",
      " 'normalized__agg_linear_trend__f_agg_\"var\"__chunk_len_50__attr_\"rvalue\"'\n",
      " 'normalized__agg_linear_trend__f_agg_\"var\"__chunk_len_50__attr_\"slope\"'\n",
      " 'normalized__agg_linear_trend__f_agg_\"var\"__chunk_len_50__attr_\"stderr\"'\n",
      " 'normalized__fft_coefficient__coeff_16__attr_\"abs\"'\n",
      " 'normalized__fft_coefficient__coeff_16__attr_\"angle\"'\n",
      " 'normalized__fft_coefficient__coeff_16__attr_\"imag\"'\n",
      " 'normalized__fft_coefficient__coeff_16__attr_\"real\"'\n",
      " 'normalized__fft_coefficient__coeff_17__attr_\"abs\"'\n",
      " 'normalized__fft_coefficient__coeff_17__attr_\"angle\"'\n",
      " 'normalized__fft_coefficient__coeff_17__attr_\"imag\"'\n",
      " 'normalized__fft_coefficient__coeff_17__attr_\"real\"'\n",
      " 'normalized__fft_coefficient__coeff_18__attr_\"abs\"'\n",
      " 'normalized__fft_coefficient__coeff_18__attr_\"angle\"'\n",
      " 'normalized__fft_coefficient__coeff_18__attr_\"imag\"'\n",
      " 'normalized__fft_coefficient__coeff_18__attr_\"real\"'\n",
      " 'normalized__fft_coefficient__coeff_19__attr_\"abs\"'\n",
      " 'normalized__fft_coefficient__coeff_19__attr_\"angle\"'\n",
      " 'normalized__fft_coefficient__coeff_19__attr_\"imag\"'\n",
      " 'normalized__fft_coefficient__coeff_19__attr_\"real\"'\n",
      " 'normalized__fft_coefficient__coeff_20__attr_\"abs\"'\n",
      " 'normalized__fft_coefficient__coeff_20__attr_\"angle\"'\n",
      " 'normalized__fft_coefficient__coeff_20__attr_\"imag\"'\n",
      " 'normalized__fft_coefficient__coeff_20__attr_\"real\"'\n",
      " 'normalized__fft_coefficient__coeff_21__attr_\"abs\"'\n",
      " 'normalized__fft_coefficient__coeff_21__attr_\"angle\"'\n",
      " 'normalized__fft_coefficient__coeff_21__attr_\"imag\"'\n",
      " 'normalized__fft_coefficient__coeff_21__attr_\"real\"'\n",
      " 'normalized__fft_coefficient__coeff_22__attr_\"abs\"'\n",
      " 'normalized__fft_coefficient__coeff_22__attr_\"angle\"'\n",
      " 'normalized__fft_coefficient__coeff_22__attr_\"imag\"'\n",
      " 'normalized__fft_coefficient__coeff_22__attr_\"real\"'\n",
      " 'normalized__fft_coefficient__coeff_23__attr_\"abs\"'\n",
      " 'normalized__fft_coefficient__coeff_23__attr_\"angle\"'\n",
      " 'normalized__fft_coefficient__coeff_23__attr_\"imag\"'\n",
      " 'normalized__fft_coefficient__coeff_23__attr_\"real\"'\n",
      " 'normalized__fft_coefficient__coeff_24__attr_\"abs\"'\n",
      " 'normalized__fft_coefficient__coeff_24__attr_\"angle\"'\n",
      " 'normalized__fft_coefficient__coeff_24__attr_\"imag\"'\n",
      " 'normalized__fft_coefficient__coeff_24__attr_\"real\"'\n",
      " 'normalized__fft_coefficient__coeff_25__attr_\"abs\"'\n",
      " 'normalized__fft_coefficient__coeff_25__attr_\"angle\"'\n",
      " 'normalized__fft_coefficient__coeff_25__attr_\"imag\"'\n",
      " 'normalized__fft_coefficient__coeff_25__attr_\"real\"'\n",
      " 'normalized__fft_coefficient__coeff_26__attr_\"abs\"'\n",
      " 'normalized__fft_coefficient__coeff_26__attr_\"angle\"'\n",
      " 'normalized__fft_coefficient__coeff_26__attr_\"imag\"'\n",
      " 'normalized__fft_coefficient__coeff_26__attr_\"real\"'\n",
      " 'normalized__fft_coefficient__coeff_27__attr_\"abs\"'\n",
      " 'normalized__fft_coefficient__coeff_27__attr_\"angle\"'\n",
      " 'normalized__fft_coefficient__coeff_27__attr_\"imag\"'\n",
      " 'normalized__fft_coefficient__coeff_27__attr_\"real\"'\n",
      " 'normalized__fft_coefficient__coeff_28__attr_\"abs\"'\n",
      " 'normalized__fft_coefficient__coeff_28__attr_\"angle\"'\n",
      " 'normalized__fft_coefficient__coeff_28__attr_\"imag\"'\n",
      " 'normalized__fft_coefficient__coeff_28__attr_\"real\"'\n",
      " 'normalized__fft_coefficient__coeff_29__attr_\"abs\"'\n",
      " 'normalized__fft_coefficient__coeff_29__attr_\"angle\"'\n",
      " 'normalized__fft_coefficient__coeff_29__attr_\"imag\"'\n",
      " 'normalized__fft_coefficient__coeff_29__attr_\"real\"'\n",
      " 'normalized__fft_coefficient__coeff_30__attr_\"abs\"'\n",
      " 'normalized__fft_coefficient__coeff_30__attr_\"angle\"'\n",
      " 'normalized__fft_coefficient__coeff_30__attr_\"imag\"'\n",
      " 'normalized__fft_coefficient__coeff_30__attr_\"real\"'\n",
      " 'normalized__fft_coefficient__coeff_31__attr_\"abs\"'\n",
      " 'normalized__fft_coefficient__coeff_31__attr_\"angle\"'\n",
      " 'normalized__fft_coefficient__coeff_31__attr_\"imag\"'\n",
      " 'normalized__fft_coefficient__coeff_31__attr_\"real\"'\n",
      " 'normalized__fft_coefficient__coeff_32__attr_\"abs\"'\n",
      " 'normalized__fft_coefficient__coeff_32__attr_\"angle\"'\n",
      " 'normalized__fft_coefficient__coeff_32__attr_\"imag\"'\n",
      " 'normalized__fft_coefficient__coeff_32__attr_\"real\"'\n",
      " 'normalized__fft_coefficient__coeff_33__attr_\"abs\"'\n",
      " 'normalized__fft_coefficient__coeff_33__attr_\"angle\"'\n",
      " 'normalized__fft_coefficient__coeff_33__attr_\"imag\"'\n",
      " 'normalized__fft_coefficient__coeff_33__attr_\"real\"'\n",
      " 'normalized__fft_coefficient__coeff_34__attr_\"abs\"'\n",
      " 'normalized__fft_coefficient__coeff_34__attr_\"angle\"'\n",
      " 'normalized__fft_coefficient__coeff_34__attr_\"imag\"'\n",
      " 'normalized__fft_coefficient__coeff_34__attr_\"real\"'\n",
      " 'normalized__fft_coefficient__coeff_35__attr_\"abs\"'\n",
      " 'normalized__fft_coefficient__coeff_35__attr_\"angle\"'\n",
      " 'normalized__fft_coefficient__coeff_35__attr_\"imag\"'\n",
      " 'normalized__fft_coefficient__coeff_35__attr_\"real\"'\n",
      " 'normalized__fft_coefficient__coeff_36__attr_\"abs\"'\n",
      " 'normalized__fft_coefficient__coeff_36__attr_\"angle\"'\n",
      " 'normalized__fft_coefficient__coeff_36__attr_\"imag\"'\n",
      " 'normalized__fft_coefficient__coeff_36__attr_\"real\"'\n",
      " 'normalized__fft_coefficient__coeff_37__attr_\"abs\"'\n",
      " 'normalized__fft_coefficient__coeff_37__attr_\"angle\"'\n",
      " 'normalized__fft_coefficient__coeff_37__attr_\"imag\"'\n",
      " 'normalized__fft_coefficient__coeff_37__attr_\"real\"'\n",
      " 'normalized__fft_coefficient__coeff_38__attr_\"abs\"'\n",
      " 'normalized__fft_coefficient__coeff_38__attr_\"angle\"'\n",
      " 'normalized__fft_coefficient__coeff_38__attr_\"imag\"'\n",
      " 'normalized__fft_coefficient__coeff_38__attr_\"real\"'\n",
      " 'normalized__fft_coefficient__coeff_39__attr_\"abs\"'\n",
      " 'normalized__fft_coefficient__coeff_39__attr_\"angle\"'\n",
      " 'normalized__fft_coefficient__coeff_39__attr_\"imag\"'\n",
      " 'normalized__fft_coefficient__coeff_39__attr_\"real\"'\n",
      " 'normalized__fft_coefficient__coeff_40__attr_\"abs\"'\n",
      " 'normalized__fft_coefficient__coeff_40__attr_\"angle\"'\n",
      " 'normalized__fft_coefficient__coeff_40__attr_\"imag\"'\n",
      " 'normalized__fft_coefficient__coeff_40__attr_\"real\"'\n",
      " 'normalized__fft_coefficient__coeff_41__attr_\"abs\"'\n",
      " 'normalized__fft_coefficient__coeff_41__attr_\"angle\"'\n",
      " 'normalized__fft_coefficient__coeff_41__attr_\"imag\"'\n",
      " 'normalized__fft_coefficient__coeff_41__attr_\"real\"'\n",
      " 'normalized__fft_coefficient__coeff_42__attr_\"abs\"'\n",
      " 'normalized__fft_coefficient__coeff_42__attr_\"angle\"'\n",
      " 'normalized__fft_coefficient__coeff_42__attr_\"imag\"'\n",
      " 'normalized__fft_coefficient__coeff_42__attr_\"real\"'\n",
      " 'normalized__fft_coefficient__coeff_43__attr_\"abs\"'\n",
      " 'normalized__fft_coefficient__coeff_43__attr_\"angle\"'\n",
      " 'normalized__fft_coefficient__coeff_43__attr_\"imag\"'\n",
      " 'normalized__fft_coefficient__coeff_43__attr_\"real\"'\n",
      " 'normalized__fft_coefficient__coeff_44__attr_\"abs\"'\n",
      " 'normalized__fft_coefficient__coeff_44__attr_\"angle\"'\n",
      " 'normalized__fft_coefficient__coeff_44__attr_\"imag\"'\n",
      " 'normalized__fft_coefficient__coeff_44__attr_\"real\"'\n",
      " 'normalized__fft_coefficient__coeff_45__attr_\"abs\"'\n",
      " 'normalized__fft_coefficient__coeff_45__attr_\"angle\"'\n",
      " 'normalized__fft_coefficient__coeff_45__attr_\"imag\"'\n",
      " 'normalized__fft_coefficient__coeff_45__attr_\"real\"'\n",
      " 'normalized__fft_coefficient__coeff_46__attr_\"abs\"'\n",
      " 'normalized__fft_coefficient__coeff_46__attr_\"angle\"'\n",
      " 'normalized__fft_coefficient__coeff_46__attr_\"imag\"'\n",
      " 'normalized__fft_coefficient__coeff_46__attr_\"real\"'\n",
      " 'normalized__fft_coefficient__coeff_47__attr_\"abs\"'\n",
      " 'normalized__fft_coefficient__coeff_47__attr_\"angle\"'\n",
      " 'normalized__fft_coefficient__coeff_47__attr_\"imag\"'\n",
      " 'normalized__fft_coefficient__coeff_47__attr_\"real\"'\n",
      " 'normalized__fft_coefficient__coeff_48__attr_\"abs\"'\n",
      " 'normalized__fft_coefficient__coeff_48__attr_\"angle\"'\n",
      " 'normalized__fft_coefficient__coeff_48__attr_\"imag\"'\n",
      " 'normalized__fft_coefficient__coeff_48__attr_\"real\"'\n",
      " 'normalized__fft_coefficient__coeff_49__attr_\"abs\"'\n",
      " 'normalized__fft_coefficient__coeff_49__attr_\"angle\"'\n",
      " 'normalized__fft_coefficient__coeff_49__attr_\"imag\"'\n",
      " 'normalized__fft_coefficient__coeff_49__attr_\"real\"'\n",
      " 'normalized__fft_coefficient__coeff_50__attr_\"abs\"'\n",
      " 'normalized__fft_coefficient__coeff_50__attr_\"angle\"'\n",
      " 'normalized__fft_coefficient__coeff_50__attr_\"imag\"'\n",
      " 'normalized__fft_coefficient__coeff_50__attr_\"real\"'\n",
      " 'normalized__fft_coefficient__coeff_51__attr_\"abs\"'\n",
      " 'normalized__fft_coefficient__coeff_51__attr_\"angle\"'\n",
      " 'normalized__fft_coefficient__coeff_51__attr_\"imag\"'\n",
      " 'normalized__fft_coefficient__coeff_51__attr_\"real\"'\n",
      " 'normalized__fft_coefficient__coeff_52__attr_\"abs\"'\n",
      " 'normalized__fft_coefficient__coeff_52__attr_\"angle\"'\n",
      " 'normalized__fft_coefficient__coeff_52__attr_\"imag\"'\n",
      " 'normalized__fft_coefficient__coeff_52__attr_\"real\"'\n",
      " 'normalized__fft_coefficient__coeff_53__attr_\"abs\"'\n",
      " 'normalized__fft_coefficient__coeff_53__attr_\"angle\"'\n",
      " 'normalized__fft_coefficient__coeff_53__attr_\"imag\"'\n",
      " 'normalized__fft_coefficient__coeff_53__attr_\"real\"'\n",
      " 'normalized__fft_coefficient__coeff_54__attr_\"abs\"'\n",
      " 'normalized__fft_coefficient__coeff_54__attr_\"angle\"'\n",
      " 'normalized__fft_coefficient__coeff_54__attr_\"imag\"'\n",
      " 'normalized__fft_coefficient__coeff_54__attr_\"real\"'\n",
      " 'normalized__fft_coefficient__coeff_55__attr_\"abs\"'\n",
      " 'normalized__fft_coefficient__coeff_55__attr_\"angle\"'\n",
      " 'normalized__fft_coefficient__coeff_55__attr_\"imag\"'\n",
      " 'normalized__fft_coefficient__coeff_55__attr_\"real\"'\n",
      " 'normalized__fft_coefficient__coeff_56__attr_\"abs\"'\n",
      " 'normalized__fft_coefficient__coeff_56__attr_\"angle\"'\n",
      " 'normalized__fft_coefficient__coeff_56__attr_\"imag\"'\n",
      " 'normalized__fft_coefficient__coeff_56__attr_\"real\"'\n",
      " 'normalized__fft_coefficient__coeff_57__attr_\"abs\"'\n",
      " 'normalized__fft_coefficient__coeff_57__attr_\"angle\"'\n",
      " 'normalized__fft_coefficient__coeff_57__attr_\"imag\"'\n",
      " 'normalized__fft_coefficient__coeff_57__attr_\"real\"'\n",
      " 'normalized__fft_coefficient__coeff_58__attr_\"abs\"'\n",
      " 'normalized__fft_coefficient__coeff_58__attr_\"angle\"'\n",
      " 'normalized__fft_coefficient__coeff_58__attr_\"imag\"'\n",
      " 'normalized__fft_coefficient__coeff_58__attr_\"real\"'\n",
      " 'normalized__fft_coefficient__coeff_59__attr_\"abs\"'\n",
      " 'normalized__fft_coefficient__coeff_59__attr_\"angle\"'\n",
      " 'normalized__fft_coefficient__coeff_59__attr_\"imag\"'\n",
      " 'normalized__fft_coefficient__coeff_59__attr_\"real\"'\n",
      " 'normalized__fft_coefficient__coeff_60__attr_\"abs\"'\n",
      " 'normalized__fft_coefficient__coeff_60__attr_\"angle\"'\n",
      " 'normalized__fft_coefficient__coeff_60__attr_\"imag\"'\n",
      " 'normalized__fft_coefficient__coeff_60__attr_\"real\"'\n",
      " 'normalized__fft_coefficient__coeff_61__attr_\"abs\"'\n",
      " 'normalized__fft_coefficient__coeff_61__attr_\"angle\"'\n",
      " 'normalized__fft_coefficient__coeff_61__attr_\"imag\"'\n",
      " 'normalized__fft_coefficient__coeff_61__attr_\"real\"'\n",
      " 'normalized__fft_coefficient__coeff_62__attr_\"abs\"'\n",
      " 'normalized__fft_coefficient__coeff_62__attr_\"angle\"'\n",
      " 'normalized__fft_coefficient__coeff_62__attr_\"imag\"'\n",
      " 'normalized__fft_coefficient__coeff_62__attr_\"real\"'\n",
      " 'normalized__fft_coefficient__coeff_63__attr_\"abs\"'\n",
      " 'normalized__fft_coefficient__coeff_63__attr_\"angle\"'\n",
      " 'normalized__fft_coefficient__coeff_63__attr_\"imag\"'\n",
      " 'normalized__fft_coefficient__coeff_63__attr_\"real\"'\n",
      " 'normalized__fft_coefficient__coeff_64__attr_\"abs\"'\n",
      " 'normalized__fft_coefficient__coeff_64__attr_\"angle\"'\n",
      " 'normalized__fft_coefficient__coeff_64__attr_\"imag\"'\n",
      " 'normalized__fft_coefficient__coeff_64__attr_\"real\"'\n",
      " 'normalized__fft_coefficient__coeff_65__attr_\"abs\"'\n",
      " 'normalized__fft_coefficient__coeff_65__attr_\"angle\"'\n",
      " 'normalized__fft_coefficient__coeff_65__attr_\"imag\"'\n",
      " 'normalized__fft_coefficient__coeff_65__attr_\"real\"'\n",
      " 'normalized__fft_coefficient__coeff_66__attr_\"abs\"'\n",
      " 'normalized__fft_coefficient__coeff_66__attr_\"angle\"'\n",
      " 'normalized__fft_coefficient__coeff_66__attr_\"imag\"'\n",
      " 'normalized__fft_coefficient__coeff_66__attr_\"real\"'\n",
      " 'normalized__fft_coefficient__coeff_67__attr_\"abs\"'\n",
      " 'normalized__fft_coefficient__coeff_67__attr_\"angle\"'\n",
      " 'normalized__fft_coefficient__coeff_67__attr_\"imag\"'\n",
      " 'normalized__fft_coefficient__coeff_67__attr_\"real\"'\n",
      " 'normalized__fft_coefficient__coeff_68__attr_\"abs\"'\n",
      " 'normalized__fft_coefficient__coeff_68__attr_\"angle\"'\n",
      " 'normalized__fft_coefficient__coeff_68__attr_\"imag\"'\n",
      " 'normalized__fft_coefficient__coeff_68__attr_\"real\"'\n",
      " 'normalized__fft_coefficient__coeff_69__attr_\"abs\"'\n",
      " 'normalized__fft_coefficient__coeff_69__attr_\"angle\"'\n",
      " 'normalized__fft_coefficient__coeff_69__attr_\"imag\"'\n",
      " 'normalized__fft_coefficient__coeff_69__attr_\"real\"'\n",
      " 'normalized__fft_coefficient__coeff_70__attr_\"abs\"'\n",
      " 'normalized__fft_coefficient__coeff_70__attr_\"angle\"'\n",
      " 'normalized__fft_coefficient__coeff_70__attr_\"imag\"'\n",
      " 'normalized__fft_coefficient__coeff_70__attr_\"real\"'\n",
      " 'normalized__fft_coefficient__coeff_71__attr_\"abs\"'\n",
      " 'normalized__fft_coefficient__coeff_71__attr_\"angle\"'\n",
      " 'normalized__fft_coefficient__coeff_71__attr_\"imag\"'\n",
      " 'normalized__fft_coefficient__coeff_71__attr_\"real\"'\n",
      " 'normalized__fft_coefficient__coeff_72__attr_\"abs\"'\n",
      " 'normalized__fft_coefficient__coeff_72__attr_\"angle\"'\n",
      " 'normalized__fft_coefficient__coeff_72__attr_\"imag\"'\n",
      " 'normalized__fft_coefficient__coeff_72__attr_\"real\"'\n",
      " 'normalized__fft_coefficient__coeff_73__attr_\"abs\"'\n",
      " 'normalized__fft_coefficient__coeff_73__attr_\"angle\"'\n",
      " 'normalized__fft_coefficient__coeff_73__attr_\"imag\"'\n",
      " 'normalized__fft_coefficient__coeff_73__attr_\"real\"'\n",
      " 'normalized__fft_coefficient__coeff_74__attr_\"abs\"'\n",
      " 'normalized__fft_coefficient__coeff_74__attr_\"angle\"'\n",
      " 'normalized__fft_coefficient__coeff_74__attr_\"imag\"'\n",
      " 'normalized__fft_coefficient__coeff_74__attr_\"real\"'\n",
      " 'normalized__fft_coefficient__coeff_75__attr_\"abs\"'\n",
      " 'normalized__fft_coefficient__coeff_75__attr_\"angle\"'\n",
      " 'normalized__fft_coefficient__coeff_75__attr_\"imag\"'\n",
      " 'normalized__fft_coefficient__coeff_75__attr_\"real\"'\n",
      " 'normalized__fft_coefficient__coeff_76__attr_\"abs\"'\n",
      " 'normalized__fft_coefficient__coeff_76__attr_\"angle\"'\n",
      " 'normalized__fft_coefficient__coeff_76__attr_\"imag\"'\n",
      " 'normalized__fft_coefficient__coeff_76__attr_\"real\"'\n",
      " 'normalized__fft_coefficient__coeff_77__attr_\"abs\"'\n",
      " 'normalized__fft_coefficient__coeff_77__attr_\"angle\"'\n",
      " 'normalized__fft_coefficient__coeff_77__attr_\"imag\"'\n",
      " 'normalized__fft_coefficient__coeff_77__attr_\"real\"'\n",
      " 'normalized__fft_coefficient__coeff_78__attr_\"abs\"'\n",
      " 'normalized__fft_coefficient__coeff_78__attr_\"angle\"'\n",
      " 'normalized__fft_coefficient__coeff_78__attr_\"imag\"'\n",
      " 'normalized__fft_coefficient__coeff_78__attr_\"real\"'\n",
      " 'normalized__fft_coefficient__coeff_79__attr_\"abs\"'\n",
      " 'normalized__fft_coefficient__coeff_79__attr_\"angle\"'\n",
      " 'normalized__fft_coefficient__coeff_79__attr_\"imag\"'\n",
      " 'normalized__fft_coefficient__coeff_79__attr_\"real\"'\n",
      " 'normalized__fft_coefficient__coeff_80__attr_\"abs\"'\n",
      " 'normalized__fft_coefficient__coeff_80__attr_\"angle\"'\n",
      " 'normalized__fft_coefficient__coeff_80__attr_\"imag\"'\n",
      " 'normalized__fft_coefficient__coeff_80__attr_\"real\"'\n",
      " 'normalized__fft_coefficient__coeff_81__attr_\"abs\"'\n",
      " 'normalized__fft_coefficient__coeff_81__attr_\"angle\"'\n",
      " 'normalized__fft_coefficient__coeff_81__attr_\"imag\"'\n",
      " 'normalized__fft_coefficient__coeff_81__attr_\"real\"'\n",
      " 'normalized__fft_coefficient__coeff_82__attr_\"abs\"'\n",
      " 'normalized__fft_coefficient__coeff_82__attr_\"angle\"'\n",
      " 'normalized__fft_coefficient__coeff_82__attr_\"imag\"'\n",
      " 'normalized__fft_coefficient__coeff_82__attr_\"real\"'\n",
      " 'normalized__fft_coefficient__coeff_83__attr_\"abs\"'\n",
      " 'normalized__fft_coefficient__coeff_83__attr_\"angle\"'\n",
      " 'normalized__fft_coefficient__coeff_83__attr_\"imag\"'\n",
      " 'normalized__fft_coefficient__coeff_83__attr_\"real\"'\n",
      " 'normalized__fft_coefficient__coeff_84__attr_\"abs\"'\n",
      " 'normalized__fft_coefficient__coeff_84__attr_\"angle\"'\n",
      " 'normalized__fft_coefficient__coeff_84__attr_\"imag\"'\n",
      " 'normalized__fft_coefficient__coeff_84__attr_\"real\"'\n",
      " 'normalized__fft_coefficient__coeff_85__attr_\"abs\"'\n",
      " 'normalized__fft_coefficient__coeff_85__attr_\"angle\"'\n",
      " 'normalized__fft_coefficient__coeff_85__attr_\"imag\"'\n",
      " 'normalized__fft_coefficient__coeff_85__attr_\"real\"'\n",
      " 'normalized__fft_coefficient__coeff_86__attr_\"abs\"'\n",
      " 'normalized__fft_coefficient__coeff_86__attr_\"angle\"'\n",
      " 'normalized__fft_coefficient__coeff_86__attr_\"imag\"'\n",
      " 'normalized__fft_coefficient__coeff_86__attr_\"real\"'\n",
      " 'normalized__fft_coefficient__coeff_87__attr_\"abs\"'\n",
      " 'normalized__fft_coefficient__coeff_87__attr_\"angle\"'\n",
      " 'normalized__fft_coefficient__coeff_87__attr_\"imag\"'\n",
      " 'normalized__fft_coefficient__coeff_87__attr_\"real\"'\n",
      " 'normalized__fft_coefficient__coeff_88__attr_\"abs\"'\n",
      " 'normalized__fft_coefficient__coeff_88__attr_\"angle\"'\n",
      " 'normalized__fft_coefficient__coeff_88__attr_\"imag\"'\n",
      " 'normalized__fft_coefficient__coeff_88__attr_\"real\"'\n",
      " 'normalized__fft_coefficient__coeff_89__attr_\"abs\"'\n",
      " 'normalized__fft_coefficient__coeff_89__attr_\"angle\"'\n",
      " 'normalized__fft_coefficient__coeff_89__attr_\"imag\"'\n",
      " 'normalized__fft_coefficient__coeff_89__attr_\"real\"'\n",
      " 'normalized__fft_coefficient__coeff_90__attr_\"abs\"'\n",
      " 'normalized__fft_coefficient__coeff_90__attr_\"angle\"'\n",
      " 'normalized__fft_coefficient__coeff_90__attr_\"imag\"'\n",
      " 'normalized__fft_coefficient__coeff_90__attr_\"real\"'\n",
      " 'normalized__fft_coefficient__coeff_91__attr_\"abs\"'\n",
      " 'normalized__fft_coefficient__coeff_91__attr_\"angle\"'\n",
      " 'normalized__fft_coefficient__coeff_91__attr_\"imag\"'\n",
      " 'normalized__fft_coefficient__coeff_91__attr_\"real\"'\n",
      " 'normalized__fft_coefficient__coeff_92__attr_\"abs\"'\n",
      " 'normalized__fft_coefficient__coeff_92__attr_\"angle\"'\n",
      " 'normalized__fft_coefficient__coeff_92__attr_\"imag\"'\n",
      " 'normalized__fft_coefficient__coeff_92__attr_\"real\"'\n",
      " 'normalized__fft_coefficient__coeff_93__attr_\"abs\"'\n",
      " 'normalized__fft_coefficient__coeff_93__attr_\"angle\"'\n",
      " 'normalized__fft_coefficient__coeff_93__attr_\"imag\"'\n",
      " 'normalized__fft_coefficient__coeff_93__attr_\"real\"'\n",
      " 'normalized__fft_coefficient__coeff_94__attr_\"abs\"'\n",
      " 'normalized__fft_coefficient__coeff_94__attr_\"angle\"'\n",
      " 'normalized__fft_coefficient__coeff_94__attr_\"imag\"'\n",
      " 'normalized__fft_coefficient__coeff_94__attr_\"real\"'\n",
      " 'normalized__fft_coefficient__coeff_95__attr_\"abs\"'\n",
      " 'normalized__fft_coefficient__coeff_95__attr_\"angle\"'\n",
      " 'normalized__fft_coefficient__coeff_95__attr_\"imag\"'\n",
      " 'normalized__fft_coefficient__coeff_95__attr_\"real\"'\n",
      " 'normalized__fft_coefficient__coeff_96__attr_\"abs\"'\n",
      " 'normalized__fft_coefficient__coeff_96__attr_\"angle\"'\n",
      " 'normalized__fft_coefficient__coeff_96__attr_\"imag\"'\n",
      " 'normalized__fft_coefficient__coeff_96__attr_\"real\"'\n",
      " 'normalized__fft_coefficient__coeff_97__attr_\"abs\"'\n",
      " 'normalized__fft_coefficient__coeff_97__attr_\"angle\"'\n",
      " 'normalized__fft_coefficient__coeff_97__attr_\"imag\"'\n",
      " 'normalized__fft_coefficient__coeff_97__attr_\"real\"'\n",
      " 'normalized__fft_coefficient__coeff_98__attr_\"abs\"'\n",
      " 'normalized__fft_coefficient__coeff_98__attr_\"angle\"'\n",
      " 'normalized__fft_coefficient__coeff_98__attr_\"imag\"'\n",
      " 'normalized__fft_coefficient__coeff_98__attr_\"real\"'\n",
      " 'normalized__fft_coefficient__coeff_99__attr_\"abs\"'\n",
      " 'normalized__fft_coefficient__coeff_99__attr_\"angle\"'\n",
      " 'normalized__fft_coefficient__coeff_99__attr_\"imag\"'\n",
      " 'normalized__fft_coefficient__coeff_99__attr_\"real\"'] did not have any finite values. Filling with zeros.\n"
     ]
    }
   ],
   "source": [
    "#lets replace nan value with 0.0\n",
    "from tsfresh import select_features\n",
    "from tsfresh.utilities.dataframe_functions import impute\n",
    "data_after_impute = impute(extracted_features)"
   ]
  },
  {
   "cell_type": "code",
   "execution_count": 13,
   "metadata": {},
   "outputs": [
    {
     "data": {
      "text/plain": [
       "0"
      ]
     },
     "execution_count": 13,
     "metadata": {},
     "output_type": "execute_result"
    }
   ],
   "source": [
    "#lets check if any column has any nan value\n",
    "list_cols_with_nan_after_impute = data_after_impute.columns[data_after_impute.isna().any()].tolist()\n",
    "len(list_cols_with_nan_after_impute)"
   ]
  },
  {
   "cell_type": "code",
   "execution_count": 14,
   "metadata": {
    "scrolled": false
   },
   "outputs": [],
   "source": [
    "#we dont have any nan values \n",
    "# lets reset the index\n",
    "data_after_impute = data_after_impute.reset_index()"
   ]
  },
  {
   "cell_type": "code",
   "execution_count": null,
   "metadata": {},
   "outputs": [],
   "source": []
  },
  {
   "cell_type": "code",
   "execution_count": 15,
   "metadata": {},
   "outputs": [],
   "source": [
    "# #Creating new Csv\n",
    "# data_after_impute.to_csv('new.csv')"
   ]
  },
  {
   "cell_type": "code",
   "execution_count": 16,
   "metadata": {},
   "outputs": [],
   "source": [
    "# # read from new csv file \n",
    "# df = pd.read_csv('new.csv')\n",
    "# df.head()"
   ]
  },
  {
   "cell_type": "code",
   "execution_count": 17,
   "metadata": {},
   "outputs": [],
   "source": [
    "# we need to give labels to countries \n",
    "data_countries = pd.read_excel('Developing countries.xlsx')\n",
    "\n",
    "developed_countries = data_countries [data_countries['Value'] == 0]\n",
    "developing_countries = data_countries [data_countries['Value'] == 1] \n",
    "\n",
    "list_developed_countries = developed_countries['Countries']\n",
    "list_developing_countries = developing_countries['Countries']\n",
    "\n",
    "list_developed_countries = list(list_developed_countries)\n",
    "list_developing_countries = list(list_developing_countries)\n",
    "\n",
    "data_after_impute['label'] = -1\n",
    "\n",
    "for i,da in data_after_impute.iterrows():\n",
    "    if da['id'] in list_developed_countries:\n",
    "        val = 0\n",
    "        data_after_impute.at[i,'label'] = val\n",
    "    elif da['id'] in list_developing_countries:\n",
    "        val = 1\n",
    "        data_after_impute.at[i,'label'] = val"
   ]
  },
  {
   "cell_type": "code",
   "execution_count": 18,
   "metadata": {},
   "outputs": [
    {
     "data": {
      "text/html": [
       "<div>\n",
       "<style scoped>\n",
       "    .dataframe tbody tr th:only-of-type {\n",
       "        vertical-align: middle;\n",
       "    }\n",
       "\n",
       "    .dataframe tbody tr th {\n",
       "        vertical-align: top;\n",
       "    }\n",
       "\n",
       "    .dataframe thead th {\n",
       "        text-align: right;\n",
       "    }\n",
       "</style>\n",
       "<table border=\"1\" class=\"dataframe\">\n",
       "  <thead>\n",
       "    <tr style=\"text-align: right;\">\n",
       "      <th>variable</th>\n",
       "      <th>id</th>\n",
       "      <th>normalized__abs_energy</th>\n",
       "      <th>normalized__absolute_sum_of_changes</th>\n",
       "      <th>normalized__agg_autocorrelation__f_agg_\"mean\"</th>\n",
       "      <th>normalized__agg_autocorrelation__f_agg_\"median\"</th>\n",
       "      <th>normalized__agg_autocorrelation__f_agg_\"var\"</th>\n",
       "      <th>normalized__agg_linear_trend__f_agg_\"max\"__chunk_len_10__attr_\"intercept\"</th>\n",
       "      <th>normalized__agg_linear_trend__f_agg_\"max\"__chunk_len_10__attr_\"rvalue\"</th>\n",
       "      <th>normalized__agg_linear_trend__f_agg_\"max\"__chunk_len_10__attr_\"slope\"</th>\n",
       "      <th>normalized__agg_linear_trend__f_agg_\"max\"__chunk_len_10__attr_\"stderr\"</th>\n",
       "      <th>...</th>\n",
       "      <th>normalized__time_reversal_asymmetry_statistic__lag_2</th>\n",
       "      <th>normalized__time_reversal_asymmetry_statistic__lag_3</th>\n",
       "      <th>normalized__value_count__value_-inf</th>\n",
       "      <th>normalized__value_count__value_0</th>\n",
       "      <th>normalized__value_count__value_1</th>\n",
       "      <th>normalized__value_count__value_inf</th>\n",
       "      <th>normalized__value_count__value_nan</th>\n",
       "      <th>normalized__variance</th>\n",
       "      <th>normalized__variance_larger_than_standard_deviation</th>\n",
       "      <th>label</th>\n",
       "    </tr>\n",
       "  </thead>\n",
       "  <tbody>\n",
       "    <tr>\n",
       "      <th>0</th>\n",
       "      <td>Afghanistan</td>\n",
       "      <td>0.350384</td>\n",
       "      <td>0.301502</td>\n",
       "      <td>-0.588730</td>\n",
       "      <td>-0.571127</td>\n",
       "      <td>0.936081</td>\n",
       "      <td>0.280704</td>\n",
       "      <td>-1.000000</td>\n",
       "      <td>-0.191804</td>\n",
       "      <td>0.000000</td>\n",
       "      <td>...</td>\n",
       "      <td>-0.002800</td>\n",
       "      <td>-0.004547</td>\n",
       "      <td>0.0</td>\n",
       "      <td>0.0</td>\n",
       "      <td>0.0</td>\n",
       "      <td>0.0</td>\n",
       "      <td>0.0</td>\n",
       "      <td>0.004595</td>\n",
       "      <td>0.0</td>\n",
       "      <td>-1</td>\n",
       "    </tr>\n",
       "    <tr>\n",
       "      <th>1</th>\n",
       "      <td>Albania</td>\n",
       "      <td>0.016369</td>\n",
       "      <td>0.044826</td>\n",
       "      <td>-0.502664</td>\n",
       "      <td>-0.418869</td>\n",
       "      <td>0.680401</td>\n",
       "      <td>0.047034</td>\n",
       "      <td>-1.000000</td>\n",
       "      <td>-0.022678</td>\n",
       "      <td>0.000000</td>\n",
       "      <td>...</td>\n",
       "      <td>-0.000022</td>\n",
       "      <td>-0.000030</td>\n",
       "      <td>0.0</td>\n",
       "      <td>0.0</td>\n",
       "      <td>0.0</td>\n",
       "      <td>0.0</td>\n",
       "      <td>0.0</td>\n",
       "      <td>0.000073</td>\n",
       "      <td>0.0</td>\n",
       "      <td>-1</td>\n",
       "    </tr>\n",
       "    <tr>\n",
       "      <th>2</th>\n",
       "      <td>Algeria</td>\n",
       "      <td>1.007092</td>\n",
       "      <td>0.455701</td>\n",
       "      <td>-0.514044</td>\n",
       "      <td>-0.191397</td>\n",
       "      <td>1.832791</td>\n",
       "      <td>0.210115</td>\n",
       "      <td>0.785825</td>\n",
       "      <td>0.028354</td>\n",
       "      <td>0.022315</td>\n",
       "      <td>...</td>\n",
       "      <td>0.001684</td>\n",
       "      <td>0.002074</td>\n",
       "      <td>0.0</td>\n",
       "      <td>0.0</td>\n",
       "      <td>0.0</td>\n",
       "      <td>0.0</td>\n",
       "      <td>0.0</td>\n",
       "      <td>0.002046</td>\n",
       "      <td>0.0</td>\n",
       "      <td>1</td>\n",
       "    </tr>\n",
       "    <tr>\n",
       "      <th>3</th>\n",
       "      <td>Angola</td>\n",
       "      <td>0.961375</td>\n",
       "      <td>1.413493</td>\n",
       "      <td>-0.025930</td>\n",
       "      <td>0.007579</td>\n",
       "      <td>0.040457</td>\n",
       "      <td>0.435317</td>\n",
       "      <td>-0.876504</td>\n",
       "      <td>-0.129176</td>\n",
       "      <td>0.070946</td>\n",
       "      <td>...</td>\n",
       "      <td>-0.001891</td>\n",
       "      <td>-0.001274</td>\n",
       "      <td>0.0</td>\n",
       "      <td>0.0</td>\n",
       "      <td>0.0</td>\n",
       "      <td>0.0</td>\n",
       "      <td>0.0</td>\n",
       "      <td>0.005286</td>\n",
       "      <td>0.0</td>\n",
       "      <td>1</td>\n",
       "    </tr>\n",
       "    <tr>\n",
       "      <th>4</th>\n",
       "      <td>Arab World</td>\n",
       "      <td>3.551196</td>\n",
       "      <td>0.715674</td>\n",
       "      <td>-0.363935</td>\n",
       "      <td>-0.578472</td>\n",
       "      <td>0.472974</td>\n",
       "      <td>0.530846</td>\n",
       "      <td>-0.907461</td>\n",
       "      <td>-0.084208</td>\n",
       "      <td>0.038986</td>\n",
       "      <td>...</td>\n",
       "      <td>-0.007801</td>\n",
       "      <td>-0.011248</td>\n",
       "      <td>0.0</td>\n",
       "      <td>0.0</td>\n",
       "      <td>0.0</td>\n",
       "      <td>0.0</td>\n",
       "      <td>0.0</td>\n",
       "      <td>0.005224</td>\n",
       "      <td>0.0</td>\n",
       "      <td>-1</td>\n",
       "    </tr>\n",
       "  </tbody>\n",
       "</table>\n",
       "<p>5 rows × 796 columns</p>\n",
       "</div>"
      ],
      "text/plain": [
       "variable           id  normalized__abs_energy  \\\n",
       "0         Afghanistan                0.350384   \n",
       "1             Albania                0.016369   \n",
       "2             Algeria                1.007092   \n",
       "3              Angola                0.961375   \n",
       "4          Arab World                3.551196   \n",
       "\n",
       "variable  normalized__absolute_sum_of_changes  \\\n",
       "0                                    0.301502   \n",
       "1                                    0.044826   \n",
       "2                                    0.455701   \n",
       "3                                    1.413493   \n",
       "4                                    0.715674   \n",
       "\n",
       "variable  normalized__agg_autocorrelation__f_agg_\"mean\"  \\\n",
       "0                                             -0.588730   \n",
       "1                                             -0.502664   \n",
       "2                                             -0.514044   \n",
       "3                                             -0.025930   \n",
       "4                                             -0.363935   \n",
       "\n",
       "variable  normalized__agg_autocorrelation__f_agg_\"median\"  \\\n",
       "0                                               -0.571127   \n",
       "1                                               -0.418869   \n",
       "2                                               -0.191397   \n",
       "3                                                0.007579   \n",
       "4                                               -0.578472   \n",
       "\n",
       "variable  normalized__agg_autocorrelation__f_agg_\"var\"  \\\n",
       "0                                             0.936081   \n",
       "1                                             0.680401   \n",
       "2                                             1.832791   \n",
       "3                                             0.040457   \n",
       "4                                             0.472974   \n",
       "\n",
       "variable  normalized__agg_linear_trend__f_agg_\"max\"__chunk_len_10__attr_\"intercept\"  \\\n",
       "0                                                  0.280704                           \n",
       "1                                                  0.047034                           \n",
       "2                                                  0.210115                           \n",
       "3                                                  0.435317                           \n",
       "4                                                  0.530846                           \n",
       "\n",
       "variable  normalized__agg_linear_trend__f_agg_\"max\"__chunk_len_10__attr_\"rvalue\"  \\\n",
       "0                                                 -1.000000                        \n",
       "1                                                 -1.000000                        \n",
       "2                                                  0.785825                        \n",
       "3                                                 -0.876504                        \n",
       "4                                                 -0.907461                        \n",
       "\n",
       "variable  normalized__agg_linear_trend__f_agg_\"max\"__chunk_len_10__attr_\"slope\"  \\\n",
       "0                                                 -0.191804                       \n",
       "1                                                 -0.022678                       \n",
       "2                                                  0.028354                       \n",
       "3                                                 -0.129176                       \n",
       "4                                                 -0.084208                       \n",
       "\n",
       "variable  normalized__agg_linear_trend__f_agg_\"max\"__chunk_len_10__attr_\"stderr\"  \\\n",
       "0                                                  0.000000                        \n",
       "1                                                  0.000000                        \n",
       "2                                                  0.022315                        \n",
       "3                                                  0.070946                        \n",
       "4                                                  0.038986                        \n",
       "\n",
       "variable  ...    normalized__time_reversal_asymmetry_statistic__lag_2  \\\n",
       "0         ...                                            -0.002800      \n",
       "1         ...                                            -0.000022      \n",
       "2         ...                                             0.001684      \n",
       "3         ...                                            -0.001891      \n",
       "4         ...                                            -0.007801      \n",
       "\n",
       "variable  normalized__time_reversal_asymmetry_statistic__lag_3  \\\n",
       "0                                                 -0.004547      \n",
       "1                                                 -0.000030      \n",
       "2                                                  0.002074      \n",
       "3                                                 -0.001274      \n",
       "4                                                 -0.011248      \n",
       "\n",
       "variable  normalized__value_count__value_-inf  \\\n",
       "0                                         0.0   \n",
       "1                                         0.0   \n",
       "2                                         0.0   \n",
       "3                                         0.0   \n",
       "4                                         0.0   \n",
       "\n",
       "variable  normalized__value_count__value_0  normalized__value_count__value_1  \\\n",
       "0                                      0.0                               0.0   \n",
       "1                                      0.0                               0.0   \n",
       "2                                      0.0                               0.0   \n",
       "3                                      0.0                               0.0   \n",
       "4                                      0.0                               0.0   \n",
       "\n",
       "variable  normalized__value_count__value_inf  \\\n",
       "0                                        0.0   \n",
       "1                                        0.0   \n",
       "2                                        0.0   \n",
       "3                                        0.0   \n",
       "4                                        0.0   \n",
       "\n",
       "variable  normalized__value_count__value_nan  normalized__variance  \\\n",
       "0                                        0.0              0.004595   \n",
       "1                                        0.0              0.000073   \n",
       "2                                        0.0              0.002046   \n",
       "3                                        0.0              0.005286   \n",
       "4                                        0.0              0.005224   \n",
       "\n",
       "variable  normalized__variance_larger_than_standard_deviation  label  \n",
       "0                                                       0.0       -1  \n",
       "1                                                       0.0       -1  \n",
       "2                                                       0.0        1  \n",
       "3                                                       0.0        1  \n",
       "4                                                       0.0       -1  \n",
       "\n",
       "[5 rows x 796 columns]"
      ]
     },
     "execution_count": 18,
     "metadata": {},
     "output_type": "execute_result"
    }
   ],
   "source": [
    "# check new df with added column as label \n",
    "data_after_impute.head()"
   ]
  },
  {
   "cell_type": "code",
   "execution_count": null,
   "metadata": {},
   "outputs": [],
   "source": []
  },
  {
   "cell_type": "code",
   "execution_count": 19,
   "metadata": {},
   "outputs": [],
   "source": [
    "#Split data into X(features),y \n",
    "y = data_after_impute['label']\n",
    "X = data_after_impute.drop(columns=['id','label'])"
   ]
  },
  {
   "cell_type": "code",
   "execution_count": 20,
   "metadata": {},
   "outputs": [
    {
     "data": {
      "text/plain": [
       " 1    91\n",
       "-1    80\n",
       " 0    35\n",
       "Name: label, dtype: int64"
      ]
     },
     "execution_count": 20,
     "metadata": {},
     "output_type": "execute_result"
    }
   ],
   "source": [
    "y.value_counts()"
   ]
  },
  {
   "cell_type": "code",
   "execution_count": 21,
   "metadata": {},
   "outputs": [],
   "source": [
    "# train and test split\n",
    "X_train, X_test, y_train, y_test = train_test_split(X, y, test_size=0.40, random_state=42)"
   ]
  },
  {
   "cell_type": "code",
   "execution_count": 22,
   "metadata": {},
   "outputs": [
    {
     "data": {
      "text/plain": [
       " 1    57\n",
       "-1    47\n",
       " 0    19\n",
       "Name: label, dtype: int64"
      ]
     },
     "execution_count": 22,
     "metadata": {},
     "output_type": "execute_result"
    }
   ],
   "source": [
    "y_train.value_counts()"
   ]
  },
  {
   "cell_type": "markdown",
   "metadata": {},
   "source": [
    "#### Lets try different classifiers on the data"
   ]
  },
  {
   "cell_type": "markdown",
   "metadata": {},
   "source": [
    "##### KNN"
   ]
  },
  {
   "cell_type": "code",
   "execution_count": 23,
   "metadata": {},
   "outputs": [
    {
     "name": "stdout",
     "output_type": "stream",
     "text": [
      "             precision    recall  f1-score   support\n",
      "\n",
      "         -1       0.42      0.67      0.51        33\n",
      "          0       0.00      0.00      0.00        16\n",
      "          1       0.41      0.35      0.38        34\n",
      "\n",
      "avg / total       0.33      0.41      0.36        83\n",
      "\n",
      "Accuracy is:  0.40963855421686746\n"
     ]
    }
   ],
   "source": [
    "knn = KNeighborsClassifier(n_neighbors=10)\n",
    "knn.fit(X_train,y_train)\n",
    "pred = knn.predict(X_test)\n",
    "dsf = classification_report(y_test,pred)\n",
    "acc = accuracy_score(y_test,pred) \n",
    "print(dsf)\n",
    "print('Accuracy is: ',acc)"
   ]
  },
  {
   "cell_type": "markdown",
   "metadata": {},
   "source": [
    "###### KNN with k ranging from 1 to 15"
   ]
  },
  {
   "cell_type": "code",
   "execution_count": 24,
   "metadata": {},
   "outputs": [
    {
     "name": "stdout",
     "output_type": "stream",
     "text": [
      "[0.46987951807228917, 0.3614457831325301, 0.39759036144578314, 0.42168674698795183, 0.43373493975903615, 0.4578313253012048, 0.4819277108433735, 0.4457831325301205, 0.4939759036144578, 0.40963855421686746, 0.4457831325301205, 0.4457831325301205, 0.4578313253012048, 0.43373493975903615, 0.40963855421686746]\n"
     ]
    },
    {
     "data": {
      "image/png": "[encoded data removed]",
      "text/plain": [
       "<matplotlib.figure.Figure at 0x1a1e118f28>"
      ]
     },
     "metadata": {},
     "output_type": "display_data"
    }
   ],
   "source": [
    "#KNN for different k values\n",
    "kVals = [1,2,3,4,5,6,7,8,9,10,11,12,13,14,15]\n",
    "scores = []\n",
    "\n",
    "for k in kVals:\n",
    "    knn = KNeighborsClassifier(n_neighbors=k)\n",
    "    knn.fit(X_train,y_train)\n",
    "    pred = knn.predict(X_test)\n",
    "    scores.append(accuracy_score(y_test,pred))\n",
    "    \n",
    "plt.plot(kVals,scores)    \n",
    "print(scores)  "
   ]
  },
  {
   "cell_type": "markdown",
   "metadata": {},
   "source": [
    "#### Random Forest Classifier"
   ]
  },
  {
   "cell_type": "code",
   "execution_count": 25,
   "metadata": {},
   "outputs": [
    {
     "name": "stdout",
     "output_type": "stream",
     "text": [
      "F1 Score:  0.5343502909767969\n",
      "Accuracy Score:  0.5301204819277109\n"
     ]
    }
   ],
   "source": [
    "rf_classifier = RandomForestClassifier(n_estimators=10, random_state = 42)\n",
    "rf_classifier.fit(X_train,y_train)\n",
    "pred = rf_classifier.predict(X_test)\n",
    "print(\"F1 Score: \", metrics.f1_score(y_test,pred, average='weighted'))\n",
    "print(\"Accuracy Score: \", accuracy_score(y_test,pred))"
   ]
  },
  {
   "cell_type": "markdown",
   "metadata": {},
   "source": [
    "#### Fine tuninng Random Forest for different number of estimators"
   ]
  },
  {
   "cell_type": "code",
   "execution_count": 26,
   "metadata": {},
   "outputs": [
    {
     "name": "stdout",
     "output_type": "stream",
     "text": [
      "[0.5205792330696255, 0.5343502909767969, 0.5914516798173901, 0.6260395106262348, 0.6142185635452821, 0.6043477392155687, 0.5815560378158597, 0.6268502581755594, 0.6034423407917384, 0.6621667070358387, 0.6381297390333535, 0.6368330464716008]\n"
     ]
    },
    {
     "data": {
      "image/png": "[encoded data removed]",
      "text/plain": [
       "<matplotlib.figure.Figure at 0x1a1e1b1710>"
      ]
     },
     "metadata": {},
     "output_type": "display_data"
    }
   ],
   "source": [
    "#Ensemble Random Forest Classifier Fine Tunning\n",
    "estimators = [5,10,15,20,30,35,40,45,50,100,200,300]\n",
    "f1_scores = []\n",
    "for e in estimators:\n",
    "    rf_classifier = RandomForestClassifier(n_estimators=e, random_state = 42)\n",
    "    rf_classifier.fit(X_train,y_train)\n",
    "    pred = rf_classifier.predict(X_test)\n",
    "    f1_scores.append(f1_score(y_test,pred,average='weighted'))\n",
    "    \n",
    "plt.plot(estimators,f1_scores) \n",
    "print(f1_scores)"
   ]
  },
  {
   "cell_type": "markdown",
   "metadata": {},
   "source": [
    "#### Lets fine tune for number of features with best number of estimator from above analysis"
   ]
  },
  {
   "cell_type": "code",
   "execution_count": 27,
   "metadata": {},
   "outputs": [
    {
     "name": "stdout",
     "output_type": "stream",
     "text": [
      "F1 Score:  0.6621667070358387\n",
      "Accuracy Score:  0.6626506024096386\n"
     ]
    }
   ],
   "source": [
    "rf_classifier = RandomForestClassifier(n_estimators=100, random_state = 42)\n",
    "rf_classifier.fit(X_train,y_train)\n",
    "pred = rf_classifier.predict(X_test)\n",
    "print(\"F1 Score: \", metrics.f1_score(y_test,pred, average='weighted'))\n",
    "print(\"Accuracy Score: \", accuracy_score(y_test,pred))"
   ]
  },
  {
   "cell_type": "code",
   "execution_count": 28,
   "metadata": {},
   "outputs": [
    {
     "name": "stdout",
     "output_type": "stream",
     "text": [
      "[0.6376062318656225, 0.6130801687763713, 0.5290569592366946, 0.6035840842361041, 0.6602093620383171, 0.6164916761394353, 0.6113597039779853, 0.6389685933871763, 0.600898216522002, 0.6012150362703259, 0.6264588687430741]\n"
     ]
    },
    {
     "data": {
      "image/png": "[encoded data removed]",
      "text/plain": [
       "<matplotlib.figure.Figure at 0x1c1ec26518>"
      ]
     },
     "metadata": {},
     "output_type": "display_data"
    }
   ],
   "source": [
    "no_of_features = [10,20,30,40,50,100,200,300,400,500,600]\n",
    "f1_scores = []\n",
    "for e in no_of_features:\n",
    "    rf_classifier = RandomForestClassifier(max_features = e ,n_estimators=30,random_state = 42)\n",
    "    rf_classifier.fit(X_train,y_train)\n",
    "    pred = rf_classifier.predict(X_test)\n",
    "    f1_scores.append(f1_score(y_test,pred,average='weighted'))\n",
    "    \n",
    "plt.plot(no_of_features,f1_scores) \n",
    "print(f1_scores)"
   ]
  },
  {
   "cell_type": "markdown",
   "metadata": {},
   "source": [
    "#### Logistic regression model"
   ]
  },
  {
   "cell_type": "code",
   "execution_count": 29,
   "metadata": {},
   "outputs": [
    {
     "name": "stdout",
     "output_type": "stream",
     "text": [
      "F1 Score:  0.5544535283993115\n",
      "Accuracy Score:  0.5542168674698795\n"
     ]
    }
   ],
   "source": [
    "#Logistic Regression\n",
    "logmodel = LogisticRegression()\n",
    "logmodel.fit(X_train,y_train)\n",
    "pred = logmodel.predict(X_test)\n",
    "print(\"F1 Score: \", metrics.f1_score(y_test,pred, average='weighted'))\n",
    "print(\"Accuracy Score: \", accuracy_score(y_test,pred))"
   ]
  },
  {
   "cell_type": "markdown",
   "metadata": {},
   "source": [
    "#### Extra tree classifier"
   ]
  },
  {
   "cell_type": "code",
   "execution_count": 30,
   "metadata": {},
   "outputs": [
    {
     "name": "stdout",
     "output_type": "stream",
     "text": [
      "F1 Score:  0.6139416615732839\n",
      "Accuracy Score:  0.6144578313253012\n"
     ]
    }
   ],
   "source": [
    "#ExtraTreeClassifier\n",
    "model = ExtraTreesClassifier(n_estimators=5,random_state=42)\n",
    "model.fit(X_train, y_train)\n",
    "pred = model.predict(X_test)\n",
    "print(\"F1 Score: \", metrics.f1_score(y_test,pred, average='weighted'))\n",
    "print(\"Accuracy Score: \", accuracy_score(y_test,pred))"
   ]
  },
  {
   "cell_type": "code",
   "execution_count": 31,
   "metadata": {},
   "outputs": [
    {
     "name": "stdout",
     "output_type": "stream",
     "text": [
      "[0.6139416615732839, 0.6034074184938513, 0.6490930755990998, 0.6383297163810521, 0.6167056284840856, 0.6051935416289385, 0.6167399076636805, 0.6167399076636805, 0.64070046593493, 0.6764123626152386, 0.6635790473722848, 0.6504514297792675]\n"
     ]
    },
    {
     "data": {
      "image/png": "[encoded data removed]",
      "text/plain": [
       "<matplotlib.figure.Figure at 0x1c216e87b8>"
      ]
     },
     "metadata": {},
     "output_type": "display_data"
    }
   ],
   "source": [
    "estimators = [5,10,15,20,30,35,40,45,50,100,200,300]\n",
    "f1_scores = []\n",
    "for e in estimators:\n",
    "    model = ExtraTreesClassifier(n_estimators=e,random_state=42)\n",
    "    model.fit(X_train, y_train)\n",
    "    pred = model.predict(X_test)\n",
    "    f1_scores.append(f1_score(y_test,pred,average='weighted'))\n",
    "    \n",
    "plt.plot(estimators,f1_scores) \n",
    "print(f1_scores)"
   ]
  },
  {
   "cell_type": "code",
   "execution_count": 32,
   "metadata": {},
   "outputs": [
    {
     "name": "stdout",
     "output_type": "stream",
     "text": [
      "F1 Score:  0.6383297163810521\n",
      "Accuracy Score:  0.6385542168674698\n"
     ]
    }
   ],
   "source": [
    "model = ExtraTreesClassifier(n_estimators=20,random_state=42)\n",
    "model.fit(X_train, y_train)\n",
    "pred = model.predict(X_test)\n",
    "print(\"F1 Score: \", metrics.f1_score(y_test,pred, average='weighted'))\n",
    "print(\"Accuracy Score: \", accuracy_score(y_test,pred))"
   ]
  },
  {
   "cell_type": "markdown",
   "metadata": {},
   "source": [
    "#### fine tune for max_features"
   ]
  },
  {
   "cell_type": "code",
   "execution_count": 33,
   "metadata": {},
   "outputs": [
    {
     "name": "stdout",
     "output_type": "stream",
     "text": [
      "[0.6480868955462985, 0.5752099306316173, 0.6131480830483738, 0.626373858052606, 0.6396900592780888, 0.6515416990300031, 0.552997358654771, 0.6127199424214584, 0.5780076164628071, 0.5281897281897282, 0.6133156173616523]\n"
     ]
    },
    {
     "data": {
      "image/png": "[encoded data removed]",
      "text/plain": [
       "<matplotlib.figure.Figure at 0x1c220270b8>"
      ]
     },
     "metadata": {},
     "output_type": "display_data"
    }
   ],
   "source": [
    "no_of_features = [10,20,30,40,50,100,200,300,400,500,600]\n",
    "f1_scores = []\n",
    "for e in no_of_features:\n",
    "    model = ExtraTreesClassifier(max_features=e,n_estimators=20,random_state=42)\n",
    "    model.fit(X_train, y_train)\n",
    "    pred = model.predict(X_test)\n",
    "    f1_scores.append(f1_score(y_test,pred,average='weighted'))\n",
    "    \n",
    "plt.plot(no_of_features,f1_scores) \n",
    "print(f1_scores)"
   ]
  },
  {
   "cell_type": "markdown",
   "metadata": {},
   "source": [
    "#### Recursive Feature Elimination "
   ]
  },
  {
   "cell_type": "code",
   "execution_count": 34,
   "metadata": {},
   "outputs": [
    {
     "name": "stdout",
     "output_type": "stream",
     "text": [
      "Optimal number of features : 236\n",
      "Best features : Index(['normalized__cwt_coefficients__widths_(2, 5, 10, 20)__coeff_7__w_2',\n",
      "       'normalized__cwt_coefficients__widths_(2, 5, 10, 20)__coeff_7__w_20',\n",
      "       'normalized__cwt_coefficients__widths_(2, 5, 10, 20)__coeff_7__w_5',\n",
      "       'normalized__cwt_coefficients__widths_(2, 5, 10, 20)__coeff_8__w_10',\n",
      "       'normalized__cwt_coefficients__widths_(2, 5, 10, 20)__coeff_8__w_2',\n",
      "       'normalized__cwt_coefficients__widths_(2, 5, 10, 20)__coeff_8__w_20',\n",
      "       'normalized__cwt_coefficients__widths_(2, 5, 10, 20)__coeff_8__w_5',\n",
      "       'normalized__cwt_coefficients__widths_(2, 5, 10, 20)__coeff_9__w_10',\n",
      "       'normalized__cwt_coefficients__widths_(2, 5, 10, 20)__coeff_9__w_2',\n",
      "       'normalized__cwt_coefficients__widths_(2, 5, 10, 20)__coeff_9__w_20',\n",
      "       ...\n",
      "       'normalized__sum_of_reoccurring_data_points',\n",
      "       'normalized__sum_of_reoccurring_values', 'normalized__sum_values',\n",
      "       'normalized__symmetry_looking__r_0.0',\n",
      "       'normalized__symmetry_looking__r_0.05',\n",
      "       'normalized__symmetry_looking__r_0.1',\n",
      "       'normalized__symmetry_looking__r_0.15000000000000002',\n",
      "       'normalized__symmetry_looking__r_0.2',\n",
      "       'normalized__symmetry_looking__r_0.25',\n",
      "       'normalized__symmetry_looking__r_0.30000000000000004'],\n",
      "      dtype='object', name='variable', length=236)\n"
     ]
    }
   ],
   "source": [
    "# The \"accuracy\" scoring is proportional to the number of correct classifications\n",
    "clf_rf_4 = RandomForestClassifier() \n",
    "rfecv = RFECV(estimator=clf_rf_4, step=1, cv=5,scoring='accuracy')   #5-fold cross-validation\n",
    "rfecv = rfecv.fit(X_train, y_train)\n",
    "\n",
    "print('Optimal number of features :', rfecv.n_features_)\n",
    "print('Best features :', X_train.columns[rfecv.support_])"
   ]
  },
  {
   "cell_type": "code",
   "execution_count": 35,
   "metadata": {},
   "outputs": [],
   "source": [
    "cols = X_train.columns[rfecv.support_]"
   ]
  },
  {
   "cell_type": "code",
   "execution_count": 36,
   "metadata": {},
   "outputs": [],
   "source": [
    "X = X[cols]"
   ]
  },
  {
   "cell_type": "code",
   "execution_count": 37,
   "metadata": {},
   "outputs": [],
   "source": [
    "X_train, X_test, y_train, y_test = train_test_split(X, y, test_size=0.40, random_state=42)"
   ]
  },
  {
   "cell_type": "code",
   "execution_count": 38,
   "metadata": {},
   "outputs": [
    {
     "name": "stdout",
     "output_type": "stream",
     "text": [
      "             precision    recall  f1-score   support\n",
      "\n",
      "         -1       0.35      0.61      0.44        33\n",
      "          0       0.00      0.00      0.00        16\n",
      "          1       0.32      0.24      0.27        34\n",
      "\n",
      "avg / total       0.27      0.34      0.29        83\n",
      "\n",
      "Accuracy is:  0.3373493975903614\n"
     ]
    }
   ],
   "source": [
    "knn = KNeighborsClassifier(n_neighbors=10)\n",
    "knn.fit(X_train,y_train)\n",
    "pred = knn.predict(X_test)\n",
    "dsf = classification_report(y_test,pred)\n",
    "acc = accuracy_score(y_test,pred) \n",
    "print(dsf)\n",
    "print('Accuracy is: ',acc)"
   ]
  },
  {
   "cell_type": "code",
   "execution_count": 39,
   "metadata": {},
   "outputs": [
    {
     "name": "stdout",
     "output_type": "stream",
     "text": [
      "[0.43373493975903615, 0.39759036144578314, 0.30120481927710846, 0.3493975903614458, 0.3493975903614458, 0.37349397590361444, 0.40963855421686746, 0.39759036144578314, 0.40963855421686746, 0.3373493975903614, 0.3614457831325301, 0.3855421686746988, 0.3493975903614458, 0.37349397590361444, 0.30120481927710846]\n"
     ]
    },
    {
     "data": {
      "image/png": "[encoded data removed]",
      "text/plain": [
       "<matplotlib.figure.Figure at 0x1c1ec44b70>"
      ]
     },
     "metadata": {},
     "output_type": "display_data"
    }
   ],
   "source": [
    "#KNN for different k values\n",
    "kVals = [1,2,3,4,5,6,7,8,9,10,11,12,13,14,15]\n",
    "scores = []\n",
    "\n",
    "for k in kVals:\n",
    "    knn = KNeighborsClassifier(n_neighbors=k)\n",
    "    knn.fit(X_train,y_train)\n",
    "    pred = knn.predict(X_test)\n",
    "    scores.append(accuracy_score(y_test,pred))\n",
    "    \n",
    "plt.plot(kVals,scores)    \n",
    "print(scores) "
   ]
  },
  {
   "cell_type": "code",
   "execution_count": 40,
   "metadata": {},
   "outputs": [
    {
     "name": "stdout",
     "output_type": "stream",
     "text": [
      "[0.5407082876962396, 0.5755588606411239, 0.5189570756529344, 0.5788107336507835, 0.5894052400076497, 0.6144901146056453, 0.6022090291668605, 0.6266016446739338, 0.6393300878136773, 0.5787130180955482, 0.5787389639567199, 0.5792292026720218]\n"
     ]
    },
    {
     "data": {
      "image/png": "[encoded data removed]",
      "text/plain": [
       "<matplotlib.figure.Figure at 0x1c216987f0>"
      ]
     },
     "metadata": {},
     "output_type": "display_data"
    }
   ],
   "source": [
    "#Ensemble Random Forest Classifier Fine Tunning\n",
    "estimators = [5,10,15,20,30,35,40,45,50,100,200,300]\n",
    "f1_scores = []\n",
    "for e in estimators:\n",
    "    rf_classifier = RandomForestClassifier(n_estimators=e, random_state = 42)\n",
    "    rf_classifier.fit(X_train,y_train)\n",
    "    pred = rf_classifier.predict(X_test)\n",
    "    f1_scores.append(f1_score(y_test,pred,average='weighted'))\n",
    "    \n",
    "plt.plot(estimators,f1_scores) \n",
    "print(f1_scores)"
   ]
  },
  {
   "cell_type": "code",
   "execution_count": 41,
   "metadata": {},
   "outputs": [
    {
     "name": "stdout",
     "output_type": "stream",
     "text": [
      "             precision    recall  f1-score   support\n",
      "\n",
      "         -1       0.58      0.58      0.58        33\n",
      "          0       0.67      0.50      0.57        16\n",
      "          1       0.58      0.65      0.61        34\n",
      "\n",
      "avg / total       0.59      0.59      0.59        83\n",
      "\n",
      "Accuracy is:  0.5903614457831325\n"
     ]
    }
   ],
   "source": [
    "rf_classifier = RandomForestClassifier(n_estimators=30, random_state = 42)\n",
    "rf_classifier.fit(X_train,y_train)\n",
    "pred = rf_classifier.predict(X_test)\n",
    "dsf = classification_report(y_test,pred)\n",
    "acc = accuracy_score(y_test,pred) \n",
    "print(dsf)\n",
    "print('Accuracy is: ',acc)"
   ]
  }
 ],
 "metadata": {
  "kernelspec": {
   "display_name": "Python 3",
   "language": "python",
   "name": "python3"
  },
  "language_info": {
   "codemirror_mode": {
    "name": "ipython",
    "version": 3
   },
   "file_extension": ".py",
   "mimetype": "text/x-python",
   "name": "python",
   "nbconvert_exporter": "python",
   "pygments_lexer": "ipython3",
   "version": "3.6.4"
  }
 },
 "nbformat": 4,
 "nbformat_minor": 2
}
