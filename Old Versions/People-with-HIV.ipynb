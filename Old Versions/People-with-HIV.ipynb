{
 "cells": [
  {
   "cell_type": "code",
   "execution_count": 29,
   "metadata": {},
   "outputs": [],
   "source": [
    "import pandas as pd\n",
    "import numpy as np\n",
    "from sklearn.model_selection import train_test_split,cross_val_score,KFold\n",
    "from sklearn import metrics\n",
    "from sklearn.metrics import classification_report,confusion_matrix,accuracy_score,f1_score\n",
    "from sklearn.neighbors import KNeighborsClassifier\n",
    "from sklearn.ensemble import RandomForestClassifier\n",
    "from sklearn.ensemble import ExtraTreesClassifier\n",
    "from sklearn import preprocessing\n",
    "from sklearn.preprocessing import MinMaxScaler,StandardScaler,RobustScaler\n",
    "\n",
    "from sklearn.cluster import AgglomerativeClustering\n",
    "#libraries for model performance evaluation\n",
    "from sklearn import metrics\n",
    "from sklearn.metrics import classification_report,confusion_matrix,accuracy_score,f1_score\n",
    "\n",
    "#libraries for visualization\n",
    "import matplotlib.pyplot as plt\n",
    "import seaborn as sns\n",
    "%matplotlib inline\n",
    "from matplotlib.colors import ListedColormap\n",
    "\n",
    "# libraries for computation\n",
    "import pandas as pd\n",
    "import numpy as np\n",
    "from sklearn.decomposition import PCA\n",
    "\n",
    "#library for train test split\n",
    "from sklearn.model_selection import train_test_split,cross_val_score,KFold\n",
    "\n",
    "#library for preprocessing\n",
    "from sklearn.preprocessing import StandardScaler\n",
    "\n",
    "#library for Dimensionality reduction\n",
    "from sklearn.decomposition import PCA\n",
    "from sklearn.decomposition import TruncatedSVD\n",
    "\n",
    "#Library for feature selection techniques\n",
    "from sklearn.feature_selection import RFE\n",
    "from sklearn.feature_selection import RFECV\n",
    "from sklearn.feature_selection import SelectKBest\n",
    "from sklearn.feature_selection import chi2\n",
    "from sklearn.feature_selection import SelectFromModel\n",
    "\n",
    "#libraries for various ML models \n",
    "from sklearn import svm\n",
    "from sklearn.svm import SVC\n",
    "from sklearn.linear_model import LogisticRegression\n",
    "from sklearn.neural_network import MLPClassifier\n",
    "from sklearn.neighbors import KNeighborsClassifier\n",
    "from sklearn.tree import DecisionTreeClassifier\n",
    "#ensemble models\n",
    "from sklearn.ensemble import BaggingClassifier\n",
    "from sklearn.ensemble import AdaBoostClassifier\n",
    "from sklearn.ensemble import GradientBoostingClassifier\n",
    "from sklearn.ensemble import VotingClassifier\n",
    "from sklearn.ensemble import RandomForestClassifier\n",
    "from sklearn.ensemble import ExtraTreesClassifier\n",
    "from sklearn.ensemble import RandomForestRegressor\n",
    "\n",
    "\n",
    "from sklearn.cluster import KMeans\n",
    "\n",
    "#libraries for model performance evaluation\n",
    "from sklearn import metrics\n",
    "from sklearn.metrics import classification_report,confusion_matrix,accuracy_score,f1_score\n",
    "\n",
    "#libraries for visualization\n",
    "import matplotlib.pyplot as plt\n",
    "import seaborn as sns\n",
    "%matplotlib inline\n",
    "from matplotlib.colors import ListedColormap\n",
    "\n",
    "import warnings\n",
    "warnings.filterwarnings('ignore')"
   ]
  },
  {
   "cell_type": "code",
   "execution_count": 30,
   "metadata": {},
   "outputs": [],
   "source": [
    "def plotConfusion(cm):\n",
    "    sns.set_style('white')\n",
    "    plt.clf()\n",
    "    plt.imshow(cm, interpolation='nearest', cmap=plt.cm.Pastel1)\n",
    "    classNames = ['Developed','Developing']\n",
    "    plt.title('Confusion Matrix',fontsize = 15)\n",
    "    plt.ylabel('True label',fontsize=15)\n",
    "    plt.xlabel('Predicted label',fontsize=15)\n",
    "    tick_marks = np.arange(len(classNames))\n",
    "    plt.xticks(tick_marks, classNames,fontsize=12)\n",
    "    plt.yticks(tick_marks, classNames,fontsize=12)\n",
    "    s = [['TP','FN'], ['FP', 'TN']]\n",
    "    for i in range(2):\n",
    "        for j in range(2):\n",
    "            plt.text(j,i, str(s[i][j])+\" = \"+str(cm[i][j]))\n",
    "    plt.show()"
   ]
  },
  {
   "cell_type": "markdown",
   "metadata": {},
   "source": [
    "### Read Data from CSV"
   ]
  },
  {
   "cell_type": "code",
   "execution_count": 31,
   "metadata": {},
   "outputs": [],
   "source": [
    "data = pd.read_csv('UNdata_Univariant_People living with HIV.csv', error_bad_lines=False)"
   ]
  },
  {
   "cell_type": "code",
   "execution_count": 32,
   "metadata": {},
   "outputs": [
    {
     "data": {
      "text/html": [
       "<div>\n",
       "<style scoped>\n",
       "    .dataframe tbody tr th:only-of-type {\n",
       "        vertical-align: middle;\n",
       "    }\n",
       "\n",
       "    .dataframe tbody tr th {\n",
       "        vertical-align: top;\n",
       "    }\n",
       "\n",
       "    .dataframe thead th {\n",
       "        text-align: right;\n",
       "    }\n",
       "</style>\n",
       "<table border=\"1\" class=\"dataframe\">\n",
       "  <thead>\n",
       "    <tr style=\"text-align: right;\">\n",
       "      <th></th>\n",
       "      <th>Country</th>\n",
       "      <th>Year</th>\n",
       "      <th>All sexes</th>\n",
       "    </tr>\n",
       "  </thead>\n",
       "  <tbody>\n",
       "    <tr>\n",
       "      <th>0</th>\n",
       "      <td>Afghanistan</td>\n",
       "      <td>1990.0</td>\n",
       "      <td>497.0</td>\n",
       "    </tr>\n",
       "    <tr>\n",
       "      <th>1</th>\n",
       "      <td>Afghanistan</td>\n",
       "      <td>1991.0</td>\n",
       "      <td>654.0</td>\n",
       "    </tr>\n",
       "    <tr>\n",
       "      <th>2</th>\n",
       "      <td>Afghanistan</td>\n",
       "      <td>1992.0</td>\n",
       "      <td>839.0</td>\n",
       "    </tr>\n",
       "    <tr>\n",
       "      <th>3</th>\n",
       "      <td>Afghanistan</td>\n",
       "      <td>1993.0</td>\n",
       "      <td>1030.0</td>\n",
       "    </tr>\n",
       "    <tr>\n",
       "      <th>4</th>\n",
       "      <td>Afghanistan</td>\n",
       "      <td>1994.0</td>\n",
       "      <td>1207.0</td>\n",
       "    </tr>\n",
       "  </tbody>\n",
       "</table>\n",
       "</div>"
      ],
      "text/plain": [
       "       Country    Year  All sexes\n",
       "0  Afghanistan  1990.0      497.0\n",
       "1  Afghanistan  1991.0      654.0\n",
       "2  Afghanistan  1992.0      839.0\n",
       "3  Afghanistan  1993.0     1030.0\n",
       "4  Afghanistan  1994.0     1207.0"
      ]
     },
     "execution_count": 32,
     "metadata": {},
     "output_type": "execute_result"
    }
   ],
   "source": [
    "data.head()"
   ]
  },
  {
   "cell_type": "code",
   "execution_count": 33,
   "metadata": {},
   "outputs": [
    {
     "data": {
      "text/plain": [
       "(7652, 3)"
      ]
     },
     "execution_count": 33,
     "metadata": {},
     "output_type": "execute_result"
    }
   ],
   "source": [
    "data.shape"
   ]
  },
  {
   "cell_type": "markdown",
   "metadata": {},
   "source": [
    "#### Get data insights"
   ]
  },
  {
   "cell_type": "code",
   "execution_count": 34,
   "metadata": {
    "scrolled": true
   },
   "outputs": [
    {
     "name": "stdout",
     "output_type": "stream",
     "text": [
      "<class 'pandas.core.frame.DataFrame'>\n",
      "RangeIndex: 7652 entries, 0 to 7651\n",
      "Data columns (total 3 columns):\n",
      "Country      2900 non-null object\n",
      "Year         2900 non-null float64\n",
      "All sexes    2900 non-null float64\n",
      "dtypes: float64(2), object(1)\n",
      "memory usage: 179.4+ KB\n"
     ]
    }
   ],
   "source": [
    "data.info()"
   ]
  },
  {
   "cell_type": "code",
   "execution_count": 35,
   "metadata": {},
   "outputs": [],
   "source": [
    "vals = data['Country']"
   ]
  },
  {
   "cell_type": "code",
   "execution_count": 36,
   "metadata": {},
   "outputs": [
    {
     "data": {
      "text/plain": [
       "4752"
      ]
     },
     "execution_count": 36,
     "metadata": {},
     "output_type": "execute_result"
    }
   ],
   "source": [
    "d = data[ vals.isna() ]\n",
    "len(d)"
   ]
  },
  {
   "cell_type": "code",
   "execution_count": 37,
   "metadata": {},
   "outputs": [
    {
     "data": {
      "text/html": [
       "<div>\n",
       "<style scoped>\n",
       "    .dataframe tbody tr th:only-of-type {\n",
       "        vertical-align: middle;\n",
       "    }\n",
       "\n",
       "    .dataframe tbody tr th {\n",
       "        vertical-align: top;\n",
       "    }\n",
       "\n",
       "    .dataframe thead th {\n",
       "        text-align: right;\n",
       "    }\n",
       "</style>\n",
       "<table border=\"1\" class=\"dataframe\">\n",
       "  <thead>\n",
       "    <tr style=\"text-align: right;\">\n",
       "      <th></th>\n",
       "      <th>Country</th>\n",
       "      <th>Year</th>\n",
       "      <th>All sexes</th>\n",
       "    </tr>\n",
       "  </thead>\n",
       "  <tbody>\n",
       "    <tr>\n",
       "      <th>2900</th>\n",
       "      <td>NaN</td>\n",
       "      <td>NaN</td>\n",
       "      <td>NaN</td>\n",
       "    </tr>\n",
       "    <tr>\n",
       "      <th>2901</th>\n",
       "      <td>NaN</td>\n",
       "      <td>NaN</td>\n",
       "      <td>NaN</td>\n",
       "    </tr>\n",
       "    <tr>\n",
       "      <th>2902</th>\n",
       "      <td>NaN</td>\n",
       "      <td>NaN</td>\n",
       "      <td>NaN</td>\n",
       "    </tr>\n",
       "    <tr>\n",
       "      <th>2903</th>\n",
       "      <td>NaN</td>\n",
       "      <td>NaN</td>\n",
       "      <td>NaN</td>\n",
       "    </tr>\n",
       "    <tr>\n",
       "      <th>2904</th>\n",
       "      <td>NaN</td>\n",
       "      <td>NaN</td>\n",
       "      <td>NaN</td>\n",
       "    </tr>\n",
       "  </tbody>\n",
       "</table>\n",
       "</div>"
      ],
      "text/plain": [
       "     Country  Year  All sexes\n",
       "2900     NaN   NaN        NaN\n",
       "2901     NaN   NaN        NaN\n",
       "2902     NaN   NaN        NaN\n",
       "2903     NaN   NaN        NaN\n",
       "2904     NaN   NaN        NaN"
      ]
     },
     "execution_count": 37,
     "metadata": {},
     "output_type": "execute_result"
    }
   ],
   "source": [
    "d.head()"
   ]
  },
  {
   "cell_type": "code",
   "execution_count": 38,
   "metadata": {},
   "outputs": [],
   "source": [
    "data = data[0:2900]"
   ]
  },
  {
   "cell_type": "code",
   "execution_count": 39,
   "metadata": {},
   "outputs": [
    {
     "data": {
      "text/plain": [
       "(2900, 3)"
      ]
     },
     "execution_count": 39,
     "metadata": {},
     "output_type": "execute_result"
    }
   ],
   "source": [
    "data.shape"
   ]
  },
  {
   "cell_type": "markdown",
   "metadata": {},
   "source": [
    "### Lets normalize data"
   ]
  },
  {
   "cell_type": "code",
   "execution_count": 13,
   "metadata": {},
   "outputs": [],
   "source": [
    "# Normalize the value column and drop old column\n",
    "\n",
    "# Create x, where x the 'Total Men and Women Employed' column's values as floats\n",
    "x = data[['All sexes']].values.astype(float)\n",
    "\n",
    "# Create a minimum and maximum processor object\n",
    "min_max_scaler = preprocessing.MinMaxScaler()\n",
    "\n",
    "# Create an object to transform the data to fit minmax processor\n",
    "x_scaled = min_max_scaler.fit_transform(x)\n",
    "\n",
    "# Run the normalizer on the dataframe\n",
    "df_normalized = pd.DataFrame(x_scaled)\n",
    "df_normalized['normalized'] = pd.DataFrame(x_scaled)\n",
    "df_normalized.drop(columns=0,inplace=True)\n",
    "\n",
    "data_new = pd.concat([data,df_normalized ], axis=1)\n",
    "data_new.drop(columns='All sexes',inplace=True)"
   ]
  },
  {
   "cell_type": "code",
   "execution_count": 14,
   "metadata": {},
   "outputs": [
    {
     "data": {
      "text/html": [
       "<div>\n",
       "<style scoped>\n",
       "    .dataframe tbody tr th:only-of-type {\n",
       "        vertical-align: middle;\n",
       "    }\n",
       "\n",
       "    .dataframe tbody tr th {\n",
       "        vertical-align: top;\n",
       "    }\n",
       "\n",
       "    .dataframe thead th {\n",
       "        text-align: right;\n",
       "    }\n",
       "</style>\n",
       "<table border=\"1\" class=\"dataframe\">\n",
       "  <thead>\n",
       "    <tr style=\"text-align: right;\">\n",
       "      <th></th>\n",
       "      <th>Country</th>\n",
       "      <th>Year</th>\n",
       "      <th>normalized</th>\n",
       "    </tr>\n",
       "  </thead>\n",
       "  <tbody>\n",
       "    <tr>\n",
       "      <th>0</th>\n",
       "      <td>Afghanistan</td>\n",
       "      <td>1990.0</td>\n",
       "      <td>0.000019</td>\n",
       "    </tr>\n",
       "    <tr>\n",
       "      <th>1</th>\n",
       "      <td>Afghanistan</td>\n",
       "      <td>1991.0</td>\n",
       "      <td>0.000025</td>\n",
       "    </tr>\n",
       "    <tr>\n",
       "      <th>2</th>\n",
       "      <td>Afghanistan</td>\n",
       "      <td>1992.0</td>\n",
       "      <td>0.000032</td>\n",
       "    </tr>\n",
       "    <tr>\n",
       "      <th>3</th>\n",
       "      <td>Afghanistan</td>\n",
       "      <td>1993.0</td>\n",
       "      <td>0.000040</td>\n",
       "    </tr>\n",
       "    <tr>\n",
       "      <th>4</th>\n",
       "      <td>Afghanistan</td>\n",
       "      <td>1994.0</td>\n",
       "      <td>0.000047</td>\n",
       "    </tr>\n",
       "  </tbody>\n",
       "</table>\n",
       "</div>"
      ],
      "text/plain": [
       "       Country    Year  normalized\n",
       "0  Afghanistan  1990.0    0.000019\n",
       "1  Afghanistan  1991.0    0.000025\n",
       "2  Afghanistan  1992.0    0.000032\n",
       "3  Afghanistan  1993.0    0.000040\n",
       "4  Afghanistan  1994.0    0.000047"
      ]
     },
     "execution_count": 14,
     "metadata": {},
     "output_type": "execute_result"
    }
   ],
   "source": [
    "# Check new dataframe with normalized value\n",
    "data_new.head()"
   ]
  },
  {
   "cell_type": "code",
   "execution_count": 15,
   "metadata": {},
   "outputs": [
    {
     "data": {
      "text/plain": [
       "116"
      ]
     },
     "execution_count": 15,
     "metadata": {},
     "output_type": "execute_result"
    }
   ],
   "source": [
    "data_new['Country'].nunique()"
   ]
  },
  {
   "cell_type": "markdown",
   "metadata": {},
   "source": [
    "#### Using tsfresh to extract features from data"
   ]
  },
  {
   "cell_type": "code",
   "execution_count": 40,
   "metadata": {},
   "outputs": [
    {
     "name": "stderr",
     "output_type": "stream",
     "text": [
      "Feature Extraction: 100%|██████████| 10/10 [00:12<00:00,  1.17s/it]\n"
     ]
    }
   ],
   "source": [
    "# Use TSFresh library to extract features from data \n",
    "from tsfresh import extract_features\n",
    "extracted_features = extract_features(data_new, column_id=\"Country\", column_sort=\"Year\")"
   ]
  },
  {
   "cell_type": "code",
   "execution_count": 41,
   "metadata": {},
   "outputs": [
    {
     "data": {
      "text/html": [
       "<div>\n",
       "<style scoped>\n",
       "    .dataframe tbody tr th:only-of-type {\n",
       "        vertical-align: middle;\n",
       "    }\n",
       "\n",
       "    .dataframe tbody tr th {\n",
       "        vertical-align: top;\n",
       "    }\n",
       "\n",
       "    .dataframe thead th {\n",
       "        text-align: right;\n",
       "    }\n",
       "</style>\n",
       "<table border=\"1\" class=\"dataframe\">\n",
       "  <thead>\n",
       "    <tr style=\"text-align: right;\">\n",
       "      <th>variable</th>\n",
       "      <th>normalized__abs_energy</th>\n",
       "      <th>normalized__absolute_sum_of_changes</th>\n",
       "      <th>normalized__agg_autocorrelation__f_agg_\"mean\"</th>\n",
       "      <th>normalized__agg_autocorrelation__f_agg_\"median\"</th>\n",
       "      <th>normalized__agg_autocorrelation__f_agg_\"var\"</th>\n",
       "      <th>normalized__agg_linear_trend__f_agg_\"max\"__chunk_len_10__attr_\"intercept\"</th>\n",
       "      <th>normalized__agg_linear_trend__f_agg_\"max\"__chunk_len_10__attr_\"rvalue\"</th>\n",
       "      <th>normalized__agg_linear_trend__f_agg_\"max\"__chunk_len_10__attr_\"slope\"</th>\n",
       "      <th>normalized__agg_linear_trend__f_agg_\"max\"__chunk_len_10__attr_\"stderr\"</th>\n",
       "      <th>normalized__agg_linear_trend__f_agg_\"max\"__chunk_len_50__attr_\"intercept\"</th>\n",
       "      <th>...</th>\n",
       "      <th>normalized__time_reversal_asymmetry_statistic__lag_1</th>\n",
       "      <th>normalized__time_reversal_asymmetry_statistic__lag_2</th>\n",
       "      <th>normalized__time_reversal_asymmetry_statistic__lag_3</th>\n",
       "      <th>normalized__value_count__value_-inf</th>\n",
       "      <th>normalized__value_count__value_0</th>\n",
       "      <th>normalized__value_count__value_1</th>\n",
       "      <th>normalized__value_count__value_inf</th>\n",
       "      <th>normalized__value_count__value_nan</th>\n",
       "      <th>normalized__variance</th>\n",
       "      <th>normalized__variance_larger_than_standard_deviation</th>\n",
       "    </tr>\n",
       "    <tr>\n",
       "      <th>id</th>\n",
       "      <th></th>\n",
       "      <th></th>\n",
       "      <th></th>\n",
       "      <th></th>\n",
       "      <th></th>\n",
       "      <th></th>\n",
       "      <th></th>\n",
       "      <th></th>\n",
       "      <th></th>\n",
       "      <th></th>\n",
       "      <th></th>\n",
       "      <th></th>\n",
       "      <th></th>\n",
       "      <th></th>\n",
       "      <th></th>\n",
       "      <th></th>\n",
       "      <th></th>\n",
       "      <th></th>\n",
       "      <th></th>\n",
       "      <th></th>\n",
       "      <th></th>\n",
       "    </tr>\n",
       "  </thead>\n",
       "  <tbody>\n",
       "    <tr>\n",
       "      <th>Afghanistan</th>\n",
       "      <td>4.328792e-07</td>\n",
       "      <td>0.000239</td>\n",
       "      <td>-0.648812</td>\n",
       "      <td>-0.474666</td>\n",
       "      <td>1.237170</td>\n",
       "      <td>0.000076</td>\n",
       "      <td>0.999384</td>\n",
       "      <td>0.000092</td>\n",
       "      <td>0.000003</td>\n",
       "      <td>NaN</td>\n",
       "      <td>...</td>\n",
       "      <td>8.770340e-13</td>\n",
       "      <td>1.513033e-12</td>\n",
       "      <td>2.003041e-12</td>\n",
       "      <td>0.0</td>\n",
       "      <td>0.0</td>\n",
       "      <td>0.0</td>\n",
       "      <td>0.0</td>\n",
       "      <td>0.0</td>\n",
       "      <td>4.609443e-09</td>\n",
       "      <td>0.0</td>\n",
       "    </tr>\n",
       "    <tr>\n",
       "      <th>Algeria</th>\n",
       "      <td>8.761330e-07</td>\n",
       "      <td>0.000392</td>\n",
       "      <td>-0.588322</td>\n",
       "      <td>-0.495270</td>\n",
       "      <td>0.980723</td>\n",
       "      <td>0.000072</td>\n",
       "      <td>0.999078</td>\n",
       "      <td>0.000170</td>\n",
       "      <td>0.000007</td>\n",
       "      <td>NaN</td>\n",
       "      <td>...</td>\n",
       "      <td>3.452879e-12</td>\n",
       "      <td>5.852916e-12</td>\n",
       "      <td>7.434980e-12</td>\n",
       "      <td>0.0</td>\n",
       "      <td>0.0</td>\n",
       "      <td>0.0</td>\n",
       "      <td>0.0</td>\n",
       "      <td>0.0</td>\n",
       "      <td>1.417811e-08</td>\n",
       "      <td>0.0</td>\n",
       "    </tr>\n",
       "    <tr>\n",
       "      <th>Angola</th>\n",
       "      <td>1.184570e-03</td>\n",
       "      <td>0.010766</td>\n",
       "      <td>-0.632980</td>\n",
       "      <td>-0.548482</td>\n",
       "      <td>1.146816</td>\n",
       "      <td>0.004708</td>\n",
       "      <td>0.979025</td>\n",
       "      <td>0.003772</td>\n",
       "      <td>0.000785</td>\n",
       "      <td>NaN</td>\n",
       "      <td>...</td>\n",
       "      <td>8.982531e-08</td>\n",
       "      <td>1.741687e-07</td>\n",
       "      <td>2.516481e-07</td>\n",
       "      <td>0.0</td>\n",
       "      <td>0.0</td>\n",
       "      <td>0.0</td>\n",
       "      <td>0.0</td>\n",
       "      <td>0.0</td>\n",
       "      <td>1.167465e-05</td>\n",
       "      <td>0.0</td>\n",
       "    </tr>\n",
       "    <tr>\n",
       "      <th>Argentina</th>\n",
       "      <td>2.332190e-04</td>\n",
       "      <td>0.004174</td>\n",
       "      <td>-0.645281</td>\n",
       "      <td>-0.533919</td>\n",
       "      <td>1.199290</td>\n",
       "      <td>0.002348</td>\n",
       "      <td>0.976843</td>\n",
       "      <td>0.001366</td>\n",
       "      <td>0.000299</td>\n",
       "      <td>NaN</td>\n",
       "      <td>...</td>\n",
       "      <td>6.465257e-09</td>\n",
       "      <td>1.271980e-08</td>\n",
       "      <td>1.876309e-08</td>\n",
       "      <td>0.0</td>\n",
       "      <td>0.0</td>\n",
       "      <td>0.0</td>\n",
       "      <td>0.0</td>\n",
       "      <td>0.0</td>\n",
       "      <td>1.658797e-06</td>\n",
       "      <td>0.0</td>\n",
       "    </tr>\n",
       "    <tr>\n",
       "      <th>Armenia</th>\n",
       "      <td>2.096577e-07</td>\n",
       "      <td>0.000154</td>\n",
       "      <td>-0.543026</td>\n",
       "      <td>-0.791567</td>\n",
       "      <td>0.853859</td>\n",
       "      <td>0.000040</td>\n",
       "      <td>0.932238</td>\n",
       "      <td>0.000064</td>\n",
       "      <td>0.000025</td>\n",
       "      <td>NaN</td>\n",
       "      <td>...</td>\n",
       "      <td>1.976555e-13</td>\n",
       "      <td>3.894752e-13</td>\n",
       "      <td>5.927651e-13</td>\n",
       "      <td>0.0</td>\n",
       "      <td>0.0</td>\n",
       "      <td>0.0</td>\n",
       "      <td>0.0</td>\n",
       "      <td>0.0</td>\n",
       "      <td>3.439914e-09</td>\n",
       "      <td>0.0</td>\n",
       "    </tr>\n",
       "  </tbody>\n",
       "</table>\n",
       "<p>5 rows × 794 columns</p>\n",
       "</div>"
      ],
      "text/plain": [
       "variable     normalized__abs_energy  normalized__absolute_sum_of_changes  \\\n",
       "id                                                                         \n",
       "Afghanistan            4.328792e-07                             0.000239   \n",
       "Algeria                8.761330e-07                             0.000392   \n",
       "Angola                 1.184570e-03                             0.010766   \n",
       "Argentina              2.332190e-04                             0.004174   \n",
       "Armenia                2.096577e-07                             0.000154   \n",
       "\n",
       "variable     normalized__agg_autocorrelation__f_agg_\"mean\"  \\\n",
       "id                                                           \n",
       "Afghanistan                                      -0.648812   \n",
       "Algeria                                          -0.588322   \n",
       "Angola                                           -0.632980   \n",
       "Argentina                                        -0.645281   \n",
       "Armenia                                          -0.543026   \n",
       "\n",
       "variable     normalized__agg_autocorrelation__f_agg_\"median\"  \\\n",
       "id                                                             \n",
       "Afghanistan                                        -0.474666   \n",
       "Algeria                                            -0.495270   \n",
       "Angola                                             -0.548482   \n",
       "Argentina                                          -0.533919   \n",
       "Armenia                                            -0.791567   \n",
       "\n",
       "variable     normalized__agg_autocorrelation__f_agg_\"var\"  \\\n",
       "id                                                          \n",
       "Afghanistan                                      1.237170   \n",
       "Algeria                                          0.980723   \n",
       "Angola                                           1.146816   \n",
       "Argentina                                        1.199290   \n",
       "Armenia                                          0.853859   \n",
       "\n",
       "variable     normalized__agg_linear_trend__f_agg_\"max\"__chunk_len_10__attr_\"intercept\"  \\\n",
       "id                                                                                       \n",
       "Afghanistan                                           0.000076                           \n",
       "Algeria                                               0.000072                           \n",
       "Angola                                                0.004708                           \n",
       "Argentina                                             0.002348                           \n",
       "Armenia                                               0.000040                           \n",
       "\n",
       "variable     normalized__agg_linear_trend__f_agg_\"max\"__chunk_len_10__attr_\"rvalue\"  \\\n",
       "id                                                                                    \n",
       "Afghanistan                                           0.999384                        \n",
       "Algeria                                               0.999078                        \n",
       "Angola                                                0.979025                        \n",
       "Argentina                                             0.976843                        \n",
       "Armenia                                               0.932238                        \n",
       "\n",
       "variable     normalized__agg_linear_trend__f_agg_\"max\"__chunk_len_10__attr_\"slope\"  \\\n",
       "id                                                                                   \n",
       "Afghanistan                                           0.000092                       \n",
       "Algeria                                               0.000170                       \n",
       "Angola                                                0.003772                       \n",
       "Argentina                                             0.001366                       \n",
       "Armenia                                               0.000064                       \n",
       "\n",
       "variable     normalized__agg_linear_trend__f_agg_\"max\"__chunk_len_10__attr_\"stderr\"  \\\n",
       "id                                                                                    \n",
       "Afghanistan                                           0.000003                        \n",
       "Algeria                                               0.000007                        \n",
       "Angola                                                0.000785                        \n",
       "Argentina                                             0.000299                        \n",
       "Armenia                                               0.000025                        \n",
       "\n",
       "variable     normalized__agg_linear_trend__f_agg_\"max\"__chunk_len_50__attr_\"intercept\"  \\\n",
       "id                                                                                       \n",
       "Afghanistan                                                NaN                           \n",
       "Algeria                                                    NaN                           \n",
       "Angola                                                     NaN                           \n",
       "Argentina                                                  NaN                           \n",
       "Armenia                                                    NaN                           \n",
       "\n",
       "variable                            ...                           \\\n",
       "id                                  ...                            \n",
       "Afghanistan                         ...                            \n",
       "Algeria                             ...                            \n",
       "Angola                              ...                            \n",
       "Argentina                           ...                            \n",
       "Armenia                             ...                            \n",
       "\n",
       "variable     normalized__time_reversal_asymmetry_statistic__lag_1  \\\n",
       "id                                                                  \n",
       "Afghanistan                                       8.770340e-13      \n",
       "Algeria                                           3.452879e-12      \n",
       "Angola                                            8.982531e-08      \n",
       "Argentina                                         6.465257e-09      \n",
       "Armenia                                           1.976555e-13      \n",
       "\n",
       "variable     normalized__time_reversal_asymmetry_statistic__lag_2  \\\n",
       "id                                                                  \n",
       "Afghanistan                                       1.513033e-12      \n",
       "Algeria                                           5.852916e-12      \n",
       "Angola                                            1.741687e-07      \n",
       "Argentina                                         1.271980e-08      \n",
       "Armenia                                           3.894752e-13      \n",
       "\n",
       "variable     normalized__time_reversal_asymmetry_statistic__lag_3  \\\n",
       "id                                                                  \n",
       "Afghanistan                                       2.003041e-12      \n",
       "Algeria                                           7.434980e-12      \n",
       "Angola                                            2.516481e-07      \n",
       "Argentina                                         1.876309e-08      \n",
       "Armenia                                           5.927651e-13      \n",
       "\n",
       "variable     normalized__value_count__value_-inf  \\\n",
       "id                                                 \n",
       "Afghanistan                                  0.0   \n",
       "Algeria                                      0.0   \n",
       "Angola                                       0.0   \n",
       "Argentina                                    0.0   \n",
       "Armenia                                      0.0   \n",
       "\n",
       "variable     normalized__value_count__value_0  \\\n",
       "id                                              \n",
       "Afghanistan                               0.0   \n",
       "Algeria                                   0.0   \n",
       "Angola                                    0.0   \n",
       "Argentina                                 0.0   \n",
       "Armenia                                   0.0   \n",
       "\n",
       "variable     normalized__value_count__value_1  \\\n",
       "id                                              \n",
       "Afghanistan                               0.0   \n",
       "Algeria                                   0.0   \n",
       "Angola                                    0.0   \n",
       "Argentina                                 0.0   \n",
       "Armenia                                   0.0   \n",
       "\n",
       "variable     normalized__value_count__value_inf  \\\n",
       "id                                                \n",
       "Afghanistan                                 0.0   \n",
       "Algeria                                     0.0   \n",
       "Angola                                      0.0   \n",
       "Argentina                                   0.0   \n",
       "Armenia                                     0.0   \n",
       "\n",
       "variable     normalized__value_count__value_nan  normalized__variance  \\\n",
       "id                                                                      \n",
       "Afghanistan                                 0.0          4.609443e-09   \n",
       "Algeria                                     0.0          1.417811e-08   \n",
       "Angola                                      0.0          1.167465e-05   \n",
       "Argentina                                   0.0          1.658797e-06   \n",
       "Armenia                                     0.0          3.439914e-09   \n",
       "\n",
       "variable     normalized__variance_larger_than_standard_deviation  \n",
       "id                                                                \n",
       "Afghanistan                                                0.0    \n",
       "Algeria                                                    0.0    \n",
       "Angola                                                     0.0    \n",
       "Argentina                                                  0.0    \n",
       "Armenia                                                    0.0    \n",
       "\n",
       "[5 rows x 794 columns]"
      ]
     },
     "execution_count": 41,
     "metadata": {},
     "output_type": "execute_result"
    }
   ],
   "source": [
    "#Check extracted features\n",
    "extracted_features.head()"
   ]
  },
  {
   "cell_type": "code",
   "execution_count": 42,
   "metadata": {},
   "outputs": [
    {
     "data": {
      "text/plain": [
       "(116, 794)"
      ]
     },
     "execution_count": 42,
     "metadata": {},
     "output_type": "execute_result"
    }
   ],
   "source": [
    "#Check shape of new data with extracted features\n",
    "extracted_features.shape"
   ]
  },
  {
   "cell_type": "code",
   "execution_count": null,
   "metadata": {},
   "outputs": [],
   "source": []
  },
  {
   "cell_type": "code",
   "execution_count": 43,
   "metadata": {},
   "outputs": [
    {
     "data": {
      "text/plain": [
       "369"
      ]
     },
     "execution_count": 43,
     "metadata": {},
     "output_type": "execute_result"
    }
   ],
   "source": [
    "#Check if any columns contains Nan values (null values)\n",
    "list_cols_with_nan = extracted_features.columns[extracted_features.isna().any()].tolist()\n",
    "len(list_cols_with_nan)"
   ]
  },
  {
   "cell_type": "code",
   "execution_count": 44,
   "metadata": {},
   "outputs": [],
   "source": [
    "# it seems 568 columns out of 794 have some null values"
   ]
  },
  {
   "cell_type": "code",
   "execution_count": 45,
   "metadata": {},
   "outputs": [
    {
     "name": "stderr",
     "output_type": "stream",
     "text": [
      "WARNING:tsfresh.utilities.dataframe_functions:The columns ['normalized__agg_linear_trend__f_agg_\"max\"__chunk_len_50__attr_\"intercept\"'\n",
      " 'normalized__agg_linear_trend__f_agg_\"max\"__chunk_len_50__attr_\"rvalue\"'\n",
      " 'normalized__agg_linear_trend__f_agg_\"max\"__chunk_len_50__attr_\"slope\"'\n",
      " 'normalized__agg_linear_trend__f_agg_\"max\"__chunk_len_50__attr_\"stderr\"'\n",
      " 'normalized__agg_linear_trend__f_agg_\"mean\"__chunk_len_50__attr_\"intercept\"'\n",
      " 'normalized__agg_linear_trend__f_agg_\"mean\"__chunk_len_50__attr_\"rvalue\"'\n",
      " 'normalized__agg_linear_trend__f_agg_\"mean\"__chunk_len_50__attr_\"slope\"'\n",
      " 'normalized__agg_linear_trend__f_agg_\"mean\"__chunk_len_50__attr_\"stderr\"'\n",
      " 'normalized__agg_linear_trend__f_agg_\"min\"__chunk_len_50__attr_\"intercept\"'\n",
      " 'normalized__agg_linear_trend__f_agg_\"min\"__chunk_len_50__attr_\"rvalue\"'\n",
      " 'normalized__agg_linear_trend__f_agg_\"min\"__chunk_len_50__attr_\"slope\"'\n",
      " 'normalized__agg_linear_trend__f_agg_\"min\"__chunk_len_50__attr_\"stderr\"'\n",
      " 'normalized__agg_linear_trend__f_agg_\"var\"__chunk_len_50__attr_\"intercept\"'\n",
      " 'normalized__agg_linear_trend__f_agg_\"var\"__chunk_len_50__attr_\"rvalue\"'\n",
      " 'normalized__agg_linear_trend__f_agg_\"var\"__chunk_len_50__attr_\"slope\"'\n",
      " 'normalized__agg_linear_trend__f_agg_\"var\"__chunk_len_50__attr_\"stderr\"'\n",
      " 'normalized__fft_coefficient__coeff_13__attr_\"abs\"'\n",
      " 'normalized__fft_coefficient__coeff_13__attr_\"angle\"'\n",
      " 'normalized__fft_coefficient__coeff_13__attr_\"imag\"'\n",
      " 'normalized__fft_coefficient__coeff_13__attr_\"real\"'\n",
      " 'normalized__fft_coefficient__coeff_14__attr_\"abs\"'\n",
      " 'normalized__fft_coefficient__coeff_14__attr_\"angle\"'\n",
      " 'normalized__fft_coefficient__coeff_14__attr_\"imag\"'\n",
      " 'normalized__fft_coefficient__coeff_14__attr_\"real\"'\n",
      " 'normalized__fft_coefficient__coeff_15__attr_\"abs\"'\n",
      " 'normalized__fft_coefficient__coeff_15__attr_\"angle\"'\n",
      " 'normalized__fft_coefficient__coeff_15__attr_\"imag\"'\n",
      " 'normalized__fft_coefficient__coeff_15__attr_\"real\"'\n",
      " 'normalized__fft_coefficient__coeff_16__attr_\"abs\"'\n",
      " 'normalized__fft_coefficient__coeff_16__attr_\"angle\"'\n",
      " 'normalized__fft_coefficient__coeff_16__attr_\"imag\"'\n",
      " 'normalized__fft_coefficient__coeff_16__attr_\"real\"'\n",
      " 'normalized__fft_coefficient__coeff_17__attr_\"abs\"'\n",
      " 'normalized__fft_coefficient__coeff_17__attr_\"angle\"'\n",
      " 'normalized__fft_coefficient__coeff_17__attr_\"imag\"'\n",
      " 'normalized__fft_coefficient__coeff_17__attr_\"real\"'\n",
      " 'normalized__fft_coefficient__coeff_18__attr_\"abs\"'\n",
      " 'normalized__fft_coefficient__coeff_18__attr_\"angle\"'\n",
      " 'normalized__fft_coefficient__coeff_18__attr_\"imag\"'\n",
      " 'normalized__fft_coefficient__coeff_18__attr_\"real\"'\n",
      " 'normalized__fft_coefficient__coeff_19__attr_\"abs\"'\n",
      " 'normalized__fft_coefficient__coeff_19__attr_\"angle\"'\n",
      " 'normalized__fft_coefficient__coeff_19__attr_\"imag\"'\n",
      " 'normalized__fft_coefficient__coeff_19__attr_\"real\"'\n",
      " 'normalized__fft_coefficient__coeff_20__attr_\"abs\"'\n",
      " 'normalized__fft_coefficient__coeff_20__attr_\"angle\"'\n",
      " 'normalized__fft_coefficient__coeff_20__attr_\"imag\"'\n",
      " 'normalized__fft_coefficient__coeff_20__attr_\"real\"'\n",
      " 'normalized__fft_coefficient__coeff_21__attr_\"abs\"'\n",
      " 'normalized__fft_coefficient__coeff_21__attr_\"angle\"'\n",
      " 'normalized__fft_coefficient__coeff_21__attr_\"imag\"'\n",
      " 'normalized__fft_coefficient__coeff_21__attr_\"real\"'\n",
      " 'normalized__fft_coefficient__coeff_22__attr_\"abs\"'\n",
      " 'normalized__fft_coefficient__coeff_22__attr_\"angle\"'\n",
      " 'normalized__fft_coefficient__coeff_22__attr_\"imag\"'\n",
      " 'normalized__fft_coefficient__coeff_22__attr_\"real\"'\n",
      " 'normalized__fft_coefficient__coeff_23__attr_\"abs\"'\n",
      " 'normalized__fft_coefficient__coeff_23__attr_\"angle\"'\n",
      " 'normalized__fft_coefficient__coeff_23__attr_\"imag\"'\n",
      " 'normalized__fft_coefficient__coeff_23__attr_\"real\"'\n",
      " 'normalized__fft_coefficient__coeff_24__attr_\"abs\"'\n",
      " 'normalized__fft_coefficient__coeff_24__attr_\"angle\"'\n",
      " 'normalized__fft_coefficient__coeff_24__attr_\"imag\"'\n",
      " 'normalized__fft_coefficient__coeff_24__attr_\"real\"'\n",
      " 'normalized__fft_coefficient__coeff_25__attr_\"abs\"'\n",
      " 'normalized__fft_coefficient__coeff_25__attr_\"angle\"'\n",
      " 'normalized__fft_coefficient__coeff_25__attr_\"imag\"'\n",
      " 'normalized__fft_coefficient__coeff_25__attr_\"real\"'\n",
      " 'normalized__fft_coefficient__coeff_26__attr_\"abs\"'\n",
      " 'normalized__fft_coefficient__coeff_26__attr_\"angle\"'\n",
      " 'normalized__fft_coefficient__coeff_26__attr_\"imag\"'\n",
      " 'normalized__fft_coefficient__coeff_26__attr_\"real\"'\n",
      " 'normalized__fft_coefficient__coeff_27__attr_\"abs\"'\n",
      " 'normalized__fft_coefficient__coeff_27__attr_\"angle\"'\n",
      " 'normalized__fft_coefficient__coeff_27__attr_\"imag\"'\n",
      " 'normalized__fft_coefficient__coeff_27__attr_\"real\"'\n",
      " 'normalized__fft_coefficient__coeff_28__attr_\"abs\"'\n",
      " 'normalized__fft_coefficient__coeff_28__attr_\"angle\"'\n",
      " 'normalized__fft_coefficient__coeff_28__attr_\"imag\"'\n",
      " 'normalized__fft_coefficient__coeff_28__attr_\"real\"'\n",
      " 'normalized__fft_coefficient__coeff_29__attr_\"abs\"'\n",
      " 'normalized__fft_coefficient__coeff_29__attr_\"angle\"'\n",
      " 'normalized__fft_coefficient__coeff_29__attr_\"imag\"'\n",
      " 'normalized__fft_coefficient__coeff_29__attr_\"real\"'\n",
      " 'normalized__fft_coefficient__coeff_30__attr_\"abs\"'\n",
      " 'normalized__fft_coefficient__coeff_30__attr_\"angle\"'\n",
      " 'normalized__fft_coefficient__coeff_30__attr_\"imag\"'\n",
      " 'normalized__fft_coefficient__coeff_30__attr_\"real\"'\n",
      " 'normalized__fft_coefficient__coeff_31__attr_\"abs\"'\n",
      " 'normalized__fft_coefficient__coeff_31__attr_\"angle\"'\n",
      " 'normalized__fft_coefficient__coeff_31__attr_\"imag\"'\n",
      " 'normalized__fft_coefficient__coeff_31__attr_\"real\"'\n",
      " 'normalized__fft_coefficient__coeff_32__attr_\"abs\"'\n",
      " 'normalized__fft_coefficient__coeff_32__attr_\"angle\"'\n",
      " 'normalized__fft_coefficient__coeff_32__attr_\"imag\"'\n",
      " 'normalized__fft_coefficient__coeff_32__attr_\"real\"'\n",
      " 'normalized__fft_coefficient__coeff_33__attr_\"abs\"'\n",
      " 'normalized__fft_coefficient__coeff_33__attr_\"angle\"'\n",
      " 'normalized__fft_coefficient__coeff_33__attr_\"imag\"'\n",
      " 'normalized__fft_coefficient__coeff_33__attr_\"real\"'\n",
      " 'normalized__fft_coefficient__coeff_34__attr_\"abs\"'\n",
      " 'normalized__fft_coefficient__coeff_34__attr_\"angle\"'\n",
      " 'normalized__fft_coefficient__coeff_34__attr_\"imag\"'\n",
      " 'normalized__fft_coefficient__coeff_34__attr_\"real\"'\n",
      " 'normalized__fft_coefficient__coeff_35__attr_\"abs\"'\n",
      " 'normalized__fft_coefficient__coeff_35__attr_\"angle\"'\n",
      " 'normalized__fft_coefficient__coeff_35__attr_\"imag\"'\n",
      " 'normalized__fft_coefficient__coeff_35__attr_\"real\"'\n",
      " 'normalized__fft_coefficient__coeff_36__attr_\"abs\"'\n",
      " 'normalized__fft_coefficient__coeff_36__attr_\"angle\"'\n",
      " 'normalized__fft_coefficient__coeff_36__attr_\"imag\"'\n",
      " 'normalized__fft_coefficient__coeff_36__attr_\"real\"'\n",
      " 'normalized__fft_coefficient__coeff_37__attr_\"abs\"'\n",
      " 'normalized__fft_coefficient__coeff_37__attr_\"angle\"'\n",
      " 'normalized__fft_coefficient__coeff_37__attr_\"imag\"'\n",
      " 'normalized__fft_coefficient__coeff_37__attr_\"real\"'\n",
      " 'normalized__fft_coefficient__coeff_38__attr_\"abs\"'\n",
      " 'normalized__fft_coefficient__coeff_38__attr_\"angle\"'\n",
      " 'normalized__fft_coefficient__coeff_38__attr_\"imag\"'\n",
      " 'normalized__fft_coefficient__coeff_38__attr_\"real\"'\n",
      " 'normalized__fft_coefficient__coeff_39__attr_\"abs\"'\n",
      " 'normalized__fft_coefficient__coeff_39__attr_\"angle\"'\n",
      " 'normalized__fft_coefficient__coeff_39__attr_\"imag\"'\n",
      " 'normalized__fft_coefficient__coeff_39__attr_\"real\"'\n",
      " 'normalized__fft_coefficient__coeff_40__attr_\"abs\"'\n",
      " 'normalized__fft_coefficient__coeff_40__attr_\"angle\"'\n",
      " 'normalized__fft_coefficient__coeff_40__attr_\"imag\"'\n",
      " 'normalized__fft_coefficient__coeff_40__attr_\"real\"'\n",
      " 'normalized__fft_coefficient__coeff_41__attr_\"abs\"'\n",
      " 'normalized__fft_coefficient__coeff_41__attr_\"angle\"'\n",
      " 'normalized__fft_coefficient__coeff_41__attr_\"imag\"'\n",
      " 'normalized__fft_coefficient__coeff_41__attr_\"real\"'\n",
      " 'normalized__fft_coefficient__coeff_42__attr_\"abs\"'\n",
      " 'normalized__fft_coefficient__coeff_42__attr_\"angle\"'\n",
      " 'normalized__fft_coefficient__coeff_42__attr_\"imag\"'\n",
      " 'normalized__fft_coefficient__coeff_42__attr_\"real\"'\n",
      " 'normalized__fft_coefficient__coeff_43__attr_\"abs\"'\n",
      " 'normalized__fft_coefficient__coeff_43__attr_\"angle\"'\n",
      " 'normalized__fft_coefficient__coeff_43__attr_\"imag\"'\n",
      " 'normalized__fft_coefficient__coeff_43__attr_\"real\"'\n",
      " 'normalized__fft_coefficient__coeff_44__attr_\"abs\"'\n",
      " 'normalized__fft_coefficient__coeff_44__attr_\"angle\"'\n",
      " 'normalized__fft_coefficient__coeff_44__attr_\"imag\"'\n",
      " 'normalized__fft_coefficient__coeff_44__attr_\"real\"'\n",
      " 'normalized__fft_coefficient__coeff_45__attr_\"abs\"'\n",
      " 'normalized__fft_coefficient__coeff_45__attr_\"angle\"'\n",
      " 'normalized__fft_coefficient__coeff_45__attr_\"imag\"'\n",
      " 'normalized__fft_coefficient__coeff_45__attr_\"real\"'\n",
      " 'normalized__fft_coefficient__coeff_46__attr_\"abs\"'\n",
      " 'normalized__fft_coefficient__coeff_46__attr_\"angle\"'\n",
      " 'normalized__fft_coefficient__coeff_46__attr_\"imag\"'\n",
      " 'normalized__fft_coefficient__coeff_46__attr_\"real\"'\n",
      " 'normalized__fft_coefficient__coeff_47__attr_\"abs\"'\n",
      " 'normalized__fft_coefficient__coeff_47__attr_\"angle\"'\n",
      " 'normalized__fft_coefficient__coeff_47__attr_\"imag\"'\n",
      " 'normalized__fft_coefficient__coeff_47__attr_\"real\"'\n",
      " 'normalized__fft_coefficient__coeff_48__attr_\"abs\"'\n",
      " 'normalized__fft_coefficient__coeff_48__attr_\"angle\"'\n",
      " 'normalized__fft_coefficient__coeff_48__attr_\"imag\"'\n",
      " 'normalized__fft_coefficient__coeff_48__attr_\"real\"'\n",
      " 'normalized__fft_coefficient__coeff_49__attr_\"abs\"'\n",
      " 'normalized__fft_coefficient__coeff_49__attr_\"angle\"'\n",
      " 'normalized__fft_coefficient__coeff_49__attr_\"imag\"'\n",
      " 'normalized__fft_coefficient__coeff_49__attr_\"real\"'\n",
      " 'normalized__fft_coefficient__coeff_50__attr_\"abs\"'\n",
      " 'normalized__fft_coefficient__coeff_50__attr_\"angle\"'\n",
      " 'normalized__fft_coefficient__coeff_50__attr_\"imag\"'\n",
      " 'normalized__fft_coefficient__coeff_50__attr_\"real\"'\n",
      " 'normalized__fft_coefficient__coeff_51__attr_\"abs\"'\n",
      " 'normalized__fft_coefficient__coeff_51__attr_\"angle\"'\n",
      " 'normalized__fft_coefficient__coeff_51__attr_\"imag\"'\n",
      " 'normalized__fft_coefficient__coeff_51__attr_\"real\"'\n",
      " 'normalized__fft_coefficient__coeff_52__attr_\"abs\"'\n",
      " 'normalized__fft_coefficient__coeff_52__attr_\"angle\"'\n",
      " 'normalized__fft_coefficient__coeff_52__attr_\"imag\"'\n",
      " 'normalized__fft_coefficient__coeff_52__attr_\"real\"'\n",
      " 'normalized__fft_coefficient__coeff_53__attr_\"abs\"'\n",
      " 'normalized__fft_coefficient__coeff_53__attr_\"angle\"'\n",
      " 'normalized__fft_coefficient__coeff_53__attr_\"imag\"'\n",
      " 'normalized__fft_coefficient__coeff_53__attr_\"real\"'\n",
      " 'normalized__fft_coefficient__coeff_54__attr_\"abs\"'\n",
      " 'normalized__fft_coefficient__coeff_54__attr_\"angle\"'\n",
      " 'normalized__fft_coefficient__coeff_54__attr_\"imag\"'\n",
      " 'normalized__fft_coefficient__coeff_54__attr_\"real\"'\n",
      " 'normalized__fft_coefficient__coeff_55__attr_\"abs\"'\n",
      " 'normalized__fft_coefficient__coeff_55__attr_\"angle\"'\n",
      " 'normalized__fft_coefficient__coeff_55__attr_\"imag\"'\n",
      " 'normalized__fft_coefficient__coeff_55__attr_\"real\"'\n",
      " 'normalized__fft_coefficient__coeff_56__attr_\"abs\"'\n",
      " 'normalized__fft_coefficient__coeff_56__attr_\"angle\"'\n",
      " 'normalized__fft_coefficient__coeff_56__attr_\"imag\"'\n",
      " 'normalized__fft_coefficient__coeff_56__attr_\"real\"'\n",
      " 'normalized__fft_coefficient__coeff_57__attr_\"abs\"'\n",
      " 'normalized__fft_coefficient__coeff_57__attr_\"angle\"'\n",
      " 'normalized__fft_coefficient__coeff_57__attr_\"imag\"'\n",
      " 'normalized__fft_coefficient__coeff_57__attr_\"real\"'\n",
      " 'normalized__fft_coefficient__coeff_58__attr_\"abs\"'\n",
      " 'normalized__fft_coefficient__coeff_58__attr_\"angle\"'\n",
      " 'normalized__fft_coefficient__coeff_58__attr_\"imag\"'\n",
      " 'normalized__fft_coefficient__coeff_58__attr_\"real\"'\n",
      " 'normalized__fft_coefficient__coeff_59__attr_\"abs\"'\n",
      " 'normalized__fft_coefficient__coeff_59__attr_\"angle\"'\n",
      " 'normalized__fft_coefficient__coeff_59__attr_\"imag\"'\n",
      " 'normalized__fft_coefficient__coeff_59__attr_\"real\"'\n",
      " 'normalized__fft_coefficient__coeff_60__attr_\"abs\"'\n",
      " 'normalized__fft_coefficient__coeff_60__attr_\"angle\"'\n",
      " 'normalized__fft_coefficient__coeff_60__attr_\"imag\"'\n",
      " 'normalized__fft_coefficient__coeff_60__attr_\"real\"'\n",
      " 'normalized__fft_coefficient__coeff_61__attr_\"abs\"'\n",
      " 'normalized__fft_coefficient__coeff_61__attr_\"angle\"'\n",
      " 'normalized__fft_coefficient__coeff_61__attr_\"imag\"'\n",
      " 'normalized__fft_coefficient__coeff_61__attr_\"real\"'\n",
      " 'normalized__fft_coefficient__coeff_62__attr_\"abs\"'\n",
      " 'normalized__fft_coefficient__coeff_62__attr_\"angle\"'\n",
      " 'normalized__fft_coefficient__coeff_62__attr_\"imag\"'\n",
      " 'normalized__fft_coefficient__coeff_62__attr_\"real\"'\n",
      " 'normalized__fft_coefficient__coeff_63__attr_\"abs\"'\n",
      " 'normalized__fft_coefficient__coeff_63__attr_\"angle\"'\n",
      " 'normalized__fft_coefficient__coeff_63__attr_\"imag\"'\n",
      " 'normalized__fft_coefficient__coeff_63__attr_\"real\"'\n",
      " 'normalized__fft_coefficient__coeff_64__attr_\"abs\"'\n",
      " 'normalized__fft_coefficient__coeff_64__attr_\"angle\"'\n",
      " 'normalized__fft_coefficient__coeff_64__attr_\"imag\"'\n",
      " 'normalized__fft_coefficient__coeff_64__attr_\"real\"'\n",
      " 'normalized__fft_coefficient__coeff_65__attr_\"abs\"'\n",
      " 'normalized__fft_coefficient__coeff_65__attr_\"angle\"'\n",
      " 'normalized__fft_coefficient__coeff_65__attr_\"imag\"'\n",
      " 'normalized__fft_coefficient__coeff_65__attr_\"real\"'\n",
      " 'normalized__fft_coefficient__coeff_66__attr_\"abs\"'\n",
      " 'normalized__fft_coefficient__coeff_66__attr_\"angle\"'\n",
      " 'normalized__fft_coefficient__coeff_66__attr_\"imag\"'\n",
      " 'normalized__fft_coefficient__coeff_66__attr_\"real\"'\n",
      " 'normalized__fft_coefficient__coeff_67__attr_\"abs\"'\n",
      " 'normalized__fft_coefficient__coeff_67__attr_\"angle\"'\n",
      " 'normalized__fft_coefficient__coeff_67__attr_\"imag\"'\n",
      " 'normalized__fft_coefficient__coeff_67__attr_\"real\"'\n",
      " 'normalized__fft_coefficient__coeff_68__attr_\"abs\"'\n",
      " 'normalized__fft_coefficient__coeff_68__attr_\"angle\"'\n",
      " 'normalized__fft_coefficient__coeff_68__attr_\"imag\"'\n",
      " 'normalized__fft_coefficient__coeff_68__attr_\"real\"'\n",
      " 'normalized__fft_coefficient__coeff_69__attr_\"abs\"'\n",
      " 'normalized__fft_coefficient__coeff_69__attr_\"angle\"'\n",
      " 'normalized__fft_coefficient__coeff_69__attr_\"imag\"'\n",
      " 'normalized__fft_coefficient__coeff_69__attr_\"real\"'\n",
      " 'normalized__fft_coefficient__coeff_70__attr_\"abs\"'\n",
      " 'normalized__fft_coefficient__coeff_70__attr_\"angle\"'\n",
      " 'normalized__fft_coefficient__coeff_70__attr_\"imag\"'\n",
      " 'normalized__fft_coefficient__coeff_70__attr_\"real\"'\n",
      " 'normalized__fft_coefficient__coeff_71__attr_\"abs\"'\n",
      " 'normalized__fft_coefficient__coeff_71__attr_\"angle\"'\n",
      " 'normalized__fft_coefficient__coeff_71__attr_\"imag\"'\n",
      " 'normalized__fft_coefficient__coeff_71__attr_\"real\"'\n",
      " 'normalized__fft_coefficient__coeff_72__attr_\"abs\"'\n",
      " 'normalized__fft_coefficient__coeff_72__attr_\"angle\"'\n",
      " 'normalized__fft_coefficient__coeff_72__attr_\"imag\"'\n",
      " 'normalized__fft_coefficient__coeff_72__attr_\"real\"'\n",
      " 'normalized__fft_coefficient__coeff_73__attr_\"abs\"'\n",
      " 'normalized__fft_coefficient__coeff_73__attr_\"angle\"'\n",
      " 'normalized__fft_coefficient__coeff_73__attr_\"imag\"'\n",
      " 'normalized__fft_coefficient__coeff_73__attr_\"real\"'\n",
      " 'normalized__fft_coefficient__coeff_74__attr_\"abs\"'\n",
      " 'normalized__fft_coefficient__coeff_74__attr_\"angle\"'\n",
      " 'normalized__fft_coefficient__coeff_74__attr_\"imag\"'\n",
      " 'normalized__fft_coefficient__coeff_74__attr_\"real\"'\n",
      " 'normalized__fft_coefficient__coeff_75__attr_\"abs\"'\n",
      " 'normalized__fft_coefficient__coeff_75__attr_\"angle\"'\n",
      " 'normalized__fft_coefficient__coeff_75__attr_\"imag\"'\n",
      " 'normalized__fft_coefficient__coeff_75__attr_\"real\"'\n",
      " 'normalized__fft_coefficient__coeff_76__attr_\"abs\"'\n",
      " 'normalized__fft_coefficient__coeff_76__attr_\"angle\"'\n",
      " 'normalized__fft_coefficient__coeff_76__attr_\"imag\"'\n",
      " 'normalized__fft_coefficient__coeff_76__attr_\"real\"'\n",
      " 'normalized__fft_coefficient__coeff_77__attr_\"abs\"'\n",
      " 'normalized__fft_coefficient__coeff_77__attr_\"angle\"'\n",
      " 'normalized__fft_coefficient__coeff_77__attr_\"imag\"'\n",
      " 'normalized__fft_coefficient__coeff_77__attr_\"real\"'\n",
      " 'normalized__fft_coefficient__coeff_78__attr_\"abs\"'\n",
      " 'normalized__fft_coefficient__coeff_78__attr_\"angle\"'\n",
      " 'normalized__fft_coefficient__coeff_78__attr_\"imag\"'\n",
      " 'normalized__fft_coefficient__coeff_78__attr_\"real\"'\n",
      " 'normalized__fft_coefficient__coeff_79__attr_\"abs\"'\n",
      " 'normalized__fft_coefficient__coeff_79__attr_\"angle\"'\n",
      " 'normalized__fft_coefficient__coeff_79__attr_\"imag\"'\n",
      " 'normalized__fft_coefficient__coeff_79__attr_\"real\"'\n",
      " 'normalized__fft_coefficient__coeff_80__attr_\"abs\"'\n",
      " 'normalized__fft_coefficient__coeff_80__attr_\"angle\"'\n",
      " 'normalized__fft_coefficient__coeff_80__attr_\"imag\"'\n",
      " 'normalized__fft_coefficient__coeff_80__attr_\"real\"'\n",
      " 'normalized__fft_coefficient__coeff_81__attr_\"abs\"'\n",
      " 'normalized__fft_coefficient__coeff_81__attr_\"angle\"'\n",
      " 'normalized__fft_coefficient__coeff_81__attr_\"imag\"'\n",
      " 'normalized__fft_coefficient__coeff_81__attr_\"real\"'\n",
      " 'normalized__fft_coefficient__coeff_82__attr_\"abs\"'\n",
      " 'normalized__fft_coefficient__coeff_82__attr_\"angle\"'\n",
      " 'normalized__fft_coefficient__coeff_82__attr_\"imag\"'\n",
      " 'normalized__fft_coefficient__coeff_82__attr_\"real\"'\n",
      " 'normalized__fft_coefficient__coeff_83__attr_\"abs\"'\n",
      " 'normalized__fft_coefficient__coeff_83__attr_\"angle\"'\n",
      " 'normalized__fft_coefficient__coeff_83__attr_\"imag\"'\n",
      " 'normalized__fft_coefficient__coeff_83__attr_\"real\"'\n",
      " 'normalized__fft_coefficient__coeff_84__attr_\"abs\"'\n",
      " 'normalized__fft_coefficient__coeff_84__attr_\"angle\"'\n",
      " 'normalized__fft_coefficient__coeff_84__attr_\"imag\"'\n",
      " 'normalized__fft_coefficient__coeff_84__attr_\"real\"'\n",
      " 'normalized__fft_coefficient__coeff_85__attr_\"abs\"'\n",
      " 'normalized__fft_coefficient__coeff_85__attr_\"angle\"'\n",
      " 'normalized__fft_coefficient__coeff_85__attr_\"imag\"'\n",
      " 'normalized__fft_coefficient__coeff_85__attr_\"real\"'\n",
      " 'normalized__fft_coefficient__coeff_86__attr_\"abs\"'\n",
      " 'normalized__fft_coefficient__coeff_86__attr_\"angle\"'\n",
      " 'normalized__fft_coefficient__coeff_86__attr_\"imag\"'\n",
      " 'normalized__fft_coefficient__coeff_86__attr_\"real\"'\n",
      " 'normalized__fft_coefficient__coeff_87__attr_\"abs\"'\n",
      " 'normalized__fft_coefficient__coeff_87__attr_\"angle\"'\n",
      " 'normalized__fft_coefficient__coeff_87__attr_\"imag\"'\n",
      " 'normalized__fft_coefficient__coeff_87__attr_\"real\"'\n",
      " 'normalized__fft_coefficient__coeff_88__attr_\"abs\"'\n",
      " 'normalized__fft_coefficient__coeff_88__attr_\"angle\"'\n",
      " 'normalized__fft_coefficient__coeff_88__attr_\"imag\"'\n",
      " 'normalized__fft_coefficient__coeff_88__attr_\"real\"'\n",
      " 'normalized__fft_coefficient__coeff_89__attr_\"abs\"'\n",
      " 'normalized__fft_coefficient__coeff_89__attr_\"angle\"'\n",
      " 'normalized__fft_coefficient__coeff_89__attr_\"imag\"'\n",
      " 'normalized__fft_coefficient__coeff_89__attr_\"real\"'\n",
      " 'normalized__fft_coefficient__coeff_90__attr_\"abs\"'\n",
      " 'normalized__fft_coefficient__coeff_90__attr_\"angle\"'\n",
      " 'normalized__fft_coefficient__coeff_90__attr_\"imag\"'\n",
      " 'normalized__fft_coefficient__coeff_90__attr_\"real\"'\n",
      " 'normalized__fft_coefficient__coeff_91__attr_\"abs\"'\n",
      " 'normalized__fft_coefficient__coeff_91__attr_\"angle\"'\n",
      " 'normalized__fft_coefficient__coeff_91__attr_\"imag\"'\n",
      " 'normalized__fft_coefficient__coeff_91__attr_\"real\"'\n",
      " 'normalized__fft_coefficient__coeff_92__attr_\"abs\"'\n",
      " 'normalized__fft_coefficient__coeff_92__attr_\"angle\"'\n",
      " 'normalized__fft_coefficient__coeff_92__attr_\"imag\"'\n",
      " 'normalized__fft_coefficient__coeff_92__attr_\"real\"'\n",
      " 'normalized__fft_coefficient__coeff_93__attr_\"abs\"'\n",
      " 'normalized__fft_coefficient__coeff_93__attr_\"angle\"'\n",
      " 'normalized__fft_coefficient__coeff_93__attr_\"imag\"'\n",
      " 'normalized__fft_coefficient__coeff_93__attr_\"real\"'\n",
      " 'normalized__fft_coefficient__coeff_94__attr_\"abs\"'\n",
      " 'normalized__fft_coefficient__coeff_94__attr_\"angle\"'\n",
      " 'normalized__fft_coefficient__coeff_94__attr_\"imag\"'\n",
      " 'normalized__fft_coefficient__coeff_94__attr_\"real\"'\n",
      " 'normalized__fft_coefficient__coeff_95__attr_\"abs\"'\n",
      " 'normalized__fft_coefficient__coeff_95__attr_\"angle\"'\n",
      " 'normalized__fft_coefficient__coeff_95__attr_\"imag\"'\n",
      " 'normalized__fft_coefficient__coeff_95__attr_\"real\"'\n",
      " 'normalized__fft_coefficient__coeff_96__attr_\"abs\"'\n",
      " 'normalized__fft_coefficient__coeff_96__attr_\"angle\"'\n",
      " 'normalized__fft_coefficient__coeff_96__attr_\"imag\"'\n",
      " 'normalized__fft_coefficient__coeff_96__attr_\"real\"'\n",
      " 'normalized__fft_coefficient__coeff_97__attr_\"abs\"'\n",
      " 'normalized__fft_coefficient__coeff_97__attr_\"angle\"'\n",
      " 'normalized__fft_coefficient__coeff_97__attr_\"imag\"'\n",
      " 'normalized__fft_coefficient__coeff_97__attr_\"real\"'\n",
      " 'normalized__fft_coefficient__coeff_98__attr_\"abs\"'\n",
      " 'normalized__fft_coefficient__coeff_98__attr_\"angle\"'\n",
      " 'normalized__fft_coefficient__coeff_98__attr_\"imag\"'\n",
      " 'normalized__fft_coefficient__coeff_98__attr_\"real\"'\n",
      " 'normalized__fft_coefficient__coeff_99__attr_\"abs\"'\n",
      " 'normalized__fft_coefficient__coeff_99__attr_\"angle\"'\n",
      " 'normalized__fft_coefficient__coeff_99__attr_\"imag\"'\n",
      " 'normalized__fft_coefficient__coeff_99__attr_\"real\"'] did not have any finite values. Filling with zeros.\n"
     ]
    }
   ],
   "source": [
    "#lets replace nan value with 0.0\n",
    "from tsfresh import select_features\n",
    "from tsfresh.utilities.dataframe_functions import impute\n",
    "data_after_impute = impute(extracted_features)"
   ]
  },
  {
   "cell_type": "code",
   "execution_count": 46,
   "metadata": {},
   "outputs": [
    {
     "data": {
      "text/plain": [
       "0"
      ]
     },
     "execution_count": 46,
     "metadata": {},
     "output_type": "execute_result"
    }
   ],
   "source": [
    "#lets check if any column has any nan value\n",
    "list_cols_with_nan_after_impute = data_after_impute.columns[data_after_impute.isna().any()].tolist()\n",
    "len(list_cols_with_nan_after_impute)"
   ]
  },
  {
   "cell_type": "code",
   "execution_count": 47,
   "metadata": {
    "scrolled": false
   },
   "outputs": [
    {
     "data": {
      "text/plain": [
       "(116, 795)"
      ]
     },
     "execution_count": 47,
     "metadata": {},
     "output_type": "execute_result"
    }
   ],
   "source": [
    "#we dont have any nan values \n",
    "# lets reset the index\n",
    "data_after_impute = data_after_impute.reset_index()\n",
    "data_after_impute.shape"
   ]
  },
  {
   "cell_type": "code",
   "execution_count": 48,
   "metadata": {},
   "outputs": [],
   "source": [
    "# we need to give labels to countries \n",
    "data_countries = pd.read_excel('Developing countries.xlsx')\n",
    "\n",
    "developed_countries = data_countries [data_countries['Value'] == 0]\n",
    "developing_countries = data_countries [data_countries['Value'] == 1] \n",
    "\n",
    "list_developed_countries = developed_countries['Countries']\n",
    "list_developing_countries = developing_countries['Countries']\n",
    "\n",
    "list_developed_countries = list(list_developed_countries)\n",
    "list_developing_countries = list(list_developing_countries)\n",
    "\n",
    "data_after_impute['label'] = -1\n",
    "\n",
    "for i,da in data_after_impute.iterrows():\n",
    "    if da['id'] in list_developed_countries:\n",
    "        val = 0\n",
    "        data_after_impute.at[i,'label'] = val\n",
    "    elif da['id'] not in list_developed_countries:\n",
    "        val = 1\n",
    "        data_after_impute.at[i,'label'] = val"
   ]
  },
  {
   "cell_type": "code",
   "execution_count": 49,
   "metadata": {},
   "outputs": [
    {
     "data": {
      "text/html": [
       "<div>\n",
       "<style scoped>\n",
       "    .dataframe tbody tr th:only-of-type {\n",
       "        vertical-align: middle;\n",
       "    }\n",
       "\n",
       "    .dataframe tbody tr th {\n",
       "        vertical-align: top;\n",
       "    }\n",
       "\n",
       "    .dataframe thead th {\n",
       "        text-align: right;\n",
       "    }\n",
       "</style>\n",
       "<table border=\"1\" class=\"dataframe\">\n",
       "  <thead>\n",
       "    <tr style=\"text-align: right;\">\n",
       "      <th>variable</th>\n",
       "      <th>id</th>\n",
       "      <th>normalized__abs_energy</th>\n",
       "      <th>normalized__absolute_sum_of_changes</th>\n",
       "      <th>normalized__agg_autocorrelation__f_agg_\"mean\"</th>\n",
       "      <th>normalized__agg_autocorrelation__f_agg_\"median\"</th>\n",
       "      <th>normalized__agg_autocorrelation__f_agg_\"var\"</th>\n",
       "      <th>normalized__agg_linear_trend__f_agg_\"max\"__chunk_len_10__attr_\"intercept\"</th>\n",
       "      <th>normalized__agg_linear_trend__f_agg_\"max\"__chunk_len_10__attr_\"rvalue\"</th>\n",
       "      <th>normalized__agg_linear_trend__f_agg_\"max\"__chunk_len_10__attr_\"slope\"</th>\n",
       "      <th>normalized__agg_linear_trend__f_agg_\"max\"__chunk_len_10__attr_\"stderr\"</th>\n",
       "      <th>...</th>\n",
       "      <th>normalized__time_reversal_asymmetry_statistic__lag_2</th>\n",
       "      <th>normalized__time_reversal_asymmetry_statistic__lag_3</th>\n",
       "      <th>normalized__value_count__value_-inf</th>\n",
       "      <th>normalized__value_count__value_0</th>\n",
       "      <th>normalized__value_count__value_1</th>\n",
       "      <th>normalized__value_count__value_inf</th>\n",
       "      <th>normalized__value_count__value_nan</th>\n",
       "      <th>normalized__variance</th>\n",
       "      <th>normalized__variance_larger_than_standard_deviation</th>\n",
       "      <th>label</th>\n",
       "    </tr>\n",
       "  </thead>\n",
       "  <tbody>\n",
       "    <tr>\n",
       "      <th>0</th>\n",
       "      <td>Afghanistan</td>\n",
       "      <td>4.328792e-07</td>\n",
       "      <td>0.000239</td>\n",
       "      <td>-0.648812</td>\n",
       "      <td>-0.474666</td>\n",
       "      <td>1.237170</td>\n",
       "      <td>0.000076</td>\n",
       "      <td>0.999384</td>\n",
       "      <td>0.000092</td>\n",
       "      <td>0.000003</td>\n",
       "      <td>...</td>\n",
       "      <td>1.513033e-12</td>\n",
       "      <td>2.003041e-12</td>\n",
       "      <td>0.0</td>\n",
       "      <td>0.0</td>\n",
       "      <td>0.0</td>\n",
       "      <td>0.0</td>\n",
       "      <td>0.0</td>\n",
       "      <td>4.609443e-09</td>\n",
       "      <td>0.0</td>\n",
       "      <td>1</td>\n",
       "    </tr>\n",
       "    <tr>\n",
       "      <th>1</th>\n",
       "      <td>Algeria</td>\n",
       "      <td>8.761330e-07</td>\n",
       "      <td>0.000392</td>\n",
       "      <td>-0.588322</td>\n",
       "      <td>-0.495270</td>\n",
       "      <td>0.980723</td>\n",
       "      <td>0.000072</td>\n",
       "      <td>0.999078</td>\n",
       "      <td>0.000170</td>\n",
       "      <td>0.000007</td>\n",
       "      <td>...</td>\n",
       "      <td>5.852916e-12</td>\n",
       "      <td>7.434980e-12</td>\n",
       "      <td>0.0</td>\n",
       "      <td>0.0</td>\n",
       "      <td>0.0</td>\n",
       "      <td>0.0</td>\n",
       "      <td>0.0</td>\n",
       "      <td>1.417811e-08</td>\n",
       "      <td>0.0</td>\n",
       "      <td>1</td>\n",
       "    </tr>\n",
       "    <tr>\n",
       "      <th>2</th>\n",
       "      <td>Angola</td>\n",
       "      <td>1.184570e-03</td>\n",
       "      <td>0.010766</td>\n",
       "      <td>-0.632980</td>\n",
       "      <td>-0.548482</td>\n",
       "      <td>1.146816</td>\n",
       "      <td>0.004708</td>\n",
       "      <td>0.979025</td>\n",
       "      <td>0.003772</td>\n",
       "      <td>0.000785</td>\n",
       "      <td>...</td>\n",
       "      <td>1.741687e-07</td>\n",
       "      <td>2.516481e-07</td>\n",
       "      <td>0.0</td>\n",
       "      <td>0.0</td>\n",
       "      <td>0.0</td>\n",
       "      <td>0.0</td>\n",
       "      <td>0.0</td>\n",
       "      <td>1.167465e-05</td>\n",
       "      <td>0.0</td>\n",
       "      <td>1</td>\n",
       "    </tr>\n",
       "    <tr>\n",
       "      <th>3</th>\n",
       "      <td>Argentina</td>\n",
       "      <td>2.332190e-04</td>\n",
       "      <td>0.004174</td>\n",
       "      <td>-0.645281</td>\n",
       "      <td>-0.533919</td>\n",
       "      <td>1.199290</td>\n",
       "      <td>0.002348</td>\n",
       "      <td>0.976843</td>\n",
       "      <td>0.001366</td>\n",
       "      <td>0.000299</td>\n",
       "      <td>...</td>\n",
       "      <td>1.271980e-08</td>\n",
       "      <td>1.876309e-08</td>\n",
       "      <td>0.0</td>\n",
       "      <td>0.0</td>\n",
       "      <td>0.0</td>\n",
       "      <td>0.0</td>\n",
       "      <td>0.0</td>\n",
       "      <td>1.658797e-06</td>\n",
       "      <td>0.0</td>\n",
       "      <td>1</td>\n",
       "    </tr>\n",
       "    <tr>\n",
       "      <th>4</th>\n",
       "      <td>Armenia</td>\n",
       "      <td>2.096577e-07</td>\n",
       "      <td>0.000154</td>\n",
       "      <td>-0.543026</td>\n",
       "      <td>-0.791567</td>\n",
       "      <td>0.853859</td>\n",
       "      <td>0.000040</td>\n",
       "      <td>0.932238</td>\n",
       "      <td>0.000064</td>\n",
       "      <td>0.000025</td>\n",
       "      <td>...</td>\n",
       "      <td>3.894752e-13</td>\n",
       "      <td>5.927651e-13</td>\n",
       "      <td>0.0</td>\n",
       "      <td>0.0</td>\n",
       "      <td>0.0</td>\n",
       "      <td>0.0</td>\n",
       "      <td>0.0</td>\n",
       "      <td>3.439914e-09</td>\n",
       "      <td>0.0</td>\n",
       "      <td>1</td>\n",
       "    </tr>\n",
       "  </tbody>\n",
       "</table>\n",
       "<p>5 rows × 796 columns</p>\n",
       "</div>"
      ],
      "text/plain": [
       "variable           id  normalized__abs_energy  \\\n",
       "0         Afghanistan            4.328792e-07   \n",
       "1             Algeria            8.761330e-07   \n",
       "2              Angola            1.184570e-03   \n",
       "3           Argentina            2.332190e-04   \n",
       "4             Armenia            2.096577e-07   \n",
       "\n",
       "variable  normalized__absolute_sum_of_changes  \\\n",
       "0                                    0.000239   \n",
       "1                                    0.000392   \n",
       "2                                    0.010766   \n",
       "3                                    0.004174   \n",
       "4                                    0.000154   \n",
       "\n",
       "variable  normalized__agg_autocorrelation__f_agg_\"mean\"  \\\n",
       "0                                             -0.648812   \n",
       "1                                             -0.588322   \n",
       "2                                             -0.632980   \n",
       "3                                             -0.645281   \n",
       "4                                             -0.543026   \n",
       "\n",
       "variable  normalized__agg_autocorrelation__f_agg_\"median\"  \\\n",
       "0                                               -0.474666   \n",
       "1                                               -0.495270   \n",
       "2                                               -0.548482   \n",
       "3                                               -0.533919   \n",
       "4                                               -0.791567   \n",
       "\n",
       "variable  normalized__agg_autocorrelation__f_agg_\"var\"  \\\n",
       "0                                             1.237170   \n",
       "1                                             0.980723   \n",
       "2                                             1.146816   \n",
       "3                                             1.199290   \n",
       "4                                             0.853859   \n",
       "\n",
       "variable  normalized__agg_linear_trend__f_agg_\"max\"__chunk_len_10__attr_\"intercept\"  \\\n",
       "0                                                  0.000076                           \n",
       "1                                                  0.000072                           \n",
       "2                                                  0.004708                           \n",
       "3                                                  0.002348                           \n",
       "4                                                  0.000040                           \n",
       "\n",
       "variable  normalized__agg_linear_trend__f_agg_\"max\"__chunk_len_10__attr_\"rvalue\"  \\\n",
       "0                                                  0.999384                        \n",
       "1                                                  0.999078                        \n",
       "2                                                  0.979025                        \n",
       "3                                                  0.976843                        \n",
       "4                                                  0.932238                        \n",
       "\n",
       "variable  normalized__agg_linear_trend__f_agg_\"max\"__chunk_len_10__attr_\"slope\"  \\\n",
       "0                                                  0.000092                       \n",
       "1                                                  0.000170                       \n",
       "2                                                  0.003772                       \n",
       "3                                                  0.001366                       \n",
       "4                                                  0.000064                       \n",
       "\n",
       "variable  normalized__agg_linear_trend__f_agg_\"max\"__chunk_len_10__attr_\"stderr\"  \\\n",
       "0                                                  0.000003                        \n",
       "1                                                  0.000007                        \n",
       "2                                                  0.000785                        \n",
       "3                                                  0.000299                        \n",
       "4                                                  0.000025                        \n",
       "\n",
       "variable  ...    normalized__time_reversal_asymmetry_statistic__lag_2  \\\n",
       "0         ...                                         1.513033e-12      \n",
       "1         ...                                         5.852916e-12      \n",
       "2         ...                                         1.741687e-07      \n",
       "3         ...                                         1.271980e-08      \n",
       "4         ...                                         3.894752e-13      \n",
       "\n",
       "variable  normalized__time_reversal_asymmetry_statistic__lag_3  \\\n",
       "0                                              2.003041e-12      \n",
       "1                                              7.434980e-12      \n",
       "2                                              2.516481e-07      \n",
       "3                                              1.876309e-08      \n",
       "4                                              5.927651e-13      \n",
       "\n",
       "variable  normalized__value_count__value_-inf  \\\n",
       "0                                         0.0   \n",
       "1                                         0.0   \n",
       "2                                         0.0   \n",
       "3                                         0.0   \n",
       "4                                         0.0   \n",
       "\n",
       "variable  normalized__value_count__value_0  normalized__value_count__value_1  \\\n",
       "0                                      0.0                               0.0   \n",
       "1                                      0.0                               0.0   \n",
       "2                                      0.0                               0.0   \n",
       "3                                      0.0                               0.0   \n",
       "4                                      0.0                               0.0   \n",
       "\n",
       "variable  normalized__value_count__value_inf  \\\n",
       "0                                        0.0   \n",
       "1                                        0.0   \n",
       "2                                        0.0   \n",
       "3                                        0.0   \n",
       "4                                        0.0   \n",
       "\n",
       "variable  normalized__value_count__value_nan  normalized__variance  \\\n",
       "0                                        0.0          4.609443e-09   \n",
       "1                                        0.0          1.417811e-08   \n",
       "2                                        0.0          1.167465e-05   \n",
       "3                                        0.0          1.658797e-06   \n",
       "4                                        0.0          3.439914e-09   \n",
       "\n",
       "variable  normalized__variance_larger_than_standard_deviation  label  \n",
       "0                                                       0.0        1  \n",
       "1                                                       0.0        1  \n",
       "2                                                       0.0        1  \n",
       "3                                                       0.0        1  \n",
       "4                                                       0.0        1  \n",
       "\n",
       "[5 rows x 796 columns]"
      ]
     },
     "execution_count": 49,
     "metadata": {},
     "output_type": "execute_result"
    }
   ],
   "source": [
    "# check new df with added column as label \n",
    "data_after_impute.head()"
   ]
  },
  {
   "cell_type": "code",
   "execution_count": 50,
   "metadata": {},
   "outputs": [],
   "source": [
    "#data_after_impute.to_csv('Gdp-output.csv')"
   ]
  },
  {
   "cell_type": "code",
   "execution_count": 51,
   "metadata": {},
   "outputs": [],
   "source": [
    "#Split data into X(features),y \n",
    "y = data_after_impute['label']\n",
    "X = data_after_impute.drop(columns=['id','label'])"
   ]
  },
  {
   "cell_type": "code",
   "execution_count": 52,
   "metadata": {},
   "outputs": [
    {
     "data": {
      "text/plain": [
       "1    112\n",
       "0      4\n",
       "Name: label, dtype: int64"
      ]
     },
     "execution_count": 52,
     "metadata": {},
     "output_type": "execute_result"
    }
   ],
   "source": [
    "y.value_counts()"
   ]
  },
  {
   "cell_type": "code",
   "execution_count": 53,
   "metadata": {},
   "outputs": [],
   "source": [
    "# train and test split\n",
    "X_train, X_test, y_train, y_test = train_test_split(X, y, test_size=0.40, random_state=42)"
   ]
  },
  {
   "cell_type": "code",
   "execution_count": 54,
   "metadata": {},
   "outputs": [
    {
     "data": {
      "text/plain": [
       "1    45\n",
       "0     2\n",
       "Name: label, dtype: int64"
      ]
     },
     "execution_count": 54,
     "metadata": {},
     "output_type": "execute_result"
    }
   ],
   "source": [
    "y_test.value_counts()"
   ]
  },
  {
   "cell_type": "markdown",
   "metadata": {},
   "source": [
    "#### Lets try different classifiers on the data"
   ]
  },
  {
   "cell_type": "markdown",
   "metadata": {},
   "source": [
    "###### KNN with k ranging from 1 to 15"
   ]
  },
  {
   "cell_type": "code",
   "execution_count": 55,
   "metadata": {},
   "outputs": [
    {
     "name": "stdout",
     "output_type": "stream",
     "text": [
      "[0.892166344294004, 0.880410858400587, 0.9366327474560592, 0.9366327474560592, 0.9366327474560592, 0.9366327474560592, 0.9366327474560592, 0.9366327474560592, 0.9366327474560592, 0.9366327474560592, 0.9366327474560592, 0.9366327474560592, 0.9366327474560592, 0.9366327474560592, 0.9366327474560592]\n"
     ]
    },
    {
     "data": {
      "image/png": "[encoded data removed]",
      "text/plain": [
       "<matplotlib.figure.Figure at 0x1a145c2978>"
      ]
     },
     "metadata": {},
     "output_type": "display_data"
    }
   ],
   "source": [
    "#KNN for different k values\n",
    "kVals = [1,2,3,4,5,6,7,8,9,10,11,12,13,14,15]\n",
    "scores = []\n",
    "\n",
    "for k in kVals:\n",
    "    knn = KNeighborsClassifier(n_neighbors=k)\n",
    "    knn.fit(X_train,y_train)\n",
    "    pred = knn.predict(X_test)\n",
    "    scores.append(f1_score(y_test,pred,average='weighted'))\n",
    "    \n",
    "plt.plot(kVals,scores)    \n",
    "print(scores)  "
   ]
  },
  {
   "cell_type": "markdown",
   "metadata": {},
   "source": [
    "#### lets Evaluate KNN Model\n",
    "You can see that we are getting best f1 score ** 0.8076 ** with **k = 7.** Lets set k and check classfication report and Confusion matrix for same."
   ]
  },
  {
   "cell_type": "code",
   "execution_count": 56,
   "metadata": {},
   "outputs": [
    {
     "name": "stdout",
     "output_type": "stream",
     "text": [
      "             precision    recall  f1-score   support\n",
      "\n",
      "          0       0.00      0.00      0.00         2\n",
      "          1       0.96      1.00      0.98        45\n",
      "\n",
      "avg / total       0.92      0.96      0.94        47\n",
      "\n",
      "F1 Score:  0.9366327474560592\n",
      "Accuracy is:  0.9574468085106383\n"
     ]
    },
    {
     "data": {
      "image/png": "[encoded data removed]",
      "text/plain": [
       "<matplotlib.figure.Figure at 0x1c1548b9e8>"
      ]
     },
     "metadata": {},
     "output_type": "display_data"
    }
   ],
   "source": [
    "knn = KNeighborsClassifier(n_neighbors=7)\n",
    "knn.fit(X_train,y_train)\n",
    "pred = knn.predict(X_test)\n",
    "dsf = classification_report(y_test,pred)\n",
    "print(dsf)\n",
    "f1 = f1_score(y_test,pred,average='weighted') \n",
    "print('F1 Score: ',f1)\n",
    "acc = accuracy_score(y_test,pred)\n",
    "print('Accuracy is: ',acc)\n",
    "plotConfusion(confusion_matrix(y_test,pred))"
   ]
  },
  {
   "cell_type": "code",
   "execution_count": null,
   "metadata": {},
   "outputs": [],
   "source": []
  },
  {
   "cell_type": "code",
   "execution_count": null,
   "metadata": {},
   "outputs": [],
   "source": []
  },
  {
   "cell_type": "markdown",
   "metadata": {},
   "source": [
    "#### Random Forest Classifier"
   ]
  },
  {
   "cell_type": "code",
   "execution_count": 57,
   "metadata": {},
   "outputs": [
    {
     "name": "stdout",
     "output_type": "stream",
     "text": [
      "F1 Score:  0.9574468085106383\n",
      "Accuracy Score:  0.9574468085106383\n"
     ]
    }
   ],
   "source": [
    "rf_classifier = RandomForestClassifier(n_estimators=10, random_state = 42)\n",
    "rf_classifier.fit(X_train,y_train)\n",
    "pred = rf_classifier.predict(X_test)\n",
    "print(\"F1 Score: \", metrics.f1_score(y_test,pred, average='weighted'))\n",
    "print(\"Accuracy Score: \", accuracy_score(y_test,pred))"
   ]
  },
  {
   "cell_type": "markdown",
   "metadata": {},
   "source": [
    "#### Fine tuninng Random Forest for different number of estimators"
   ]
  },
  {
   "cell_type": "code",
   "execution_count": 58,
   "metadata": {},
   "outputs": [
    {
     "data": {
      "text/plain": [
       "[0.9574468085106383,\n",
       " 0.9574468085106383,\n",
       " 0.9258826280102876,\n",
       " 0.9366327474560592,\n",
       " 0.9366327474560592,\n",
       " 0.9366327474560592,\n",
       " 0.9366327474560592,\n",
       " 0.9366327474560592,\n",
       " 0.9366327474560592,\n",
       " 0.9366327474560592,\n",
       " 0.9366327474560592,\n",
       " 0.9366327474560592]"
      ]
     },
     "execution_count": 58,
     "metadata": {},
     "output_type": "execute_result"
    },
    {
     "data": {
      "image/png": "[encoded data removed]",
      "text/plain": [
       "<matplotlib.figure.Figure at 0x1a13430710>"
      ]
     },
     "metadata": {},
     "output_type": "display_data"
    }
   ],
   "source": [
    "#Ensemble Random Forest Classifier Fine Tunning\n",
    "estimators = [5,10,15,20,30,35,40,45,50,100,200,300]\n",
    "f1_scores = []\n",
    "for e in estimators:\n",
    "    rf_classifier = RandomForestClassifier(n_estimators=e, random_state = 42)\n",
    "    rf_classifier.fit(X_train,y_train)\n",
    "    pred = rf_classifier.predict(X_test)\n",
    "    f1_scores.append(f1_score(y_test,pred,average='weighted'))\n",
    "    \n",
    "plt.plot(estimators,f1_scores) \n",
    "f1_scores"
   ]
  },
  {
   "cell_type": "markdown",
   "metadata": {},
   "source": [
    "#### Lets fine tune for number of features with best number of estimator from above analysis"
   ]
  },
  {
   "cell_type": "code",
   "execution_count": 59,
   "metadata": {},
   "outputs": [
    {
     "name": "stdout",
     "output_type": "stream",
     "text": [
      "F1 Score:  0.9366327474560592\n",
      "Accuracy Score:  0.9574468085106383\n"
     ]
    }
   ],
   "source": [
    "rf_classifier = RandomForestClassifier(n_estimators=100, random_state = 42)\n",
    "rf_classifier.fit(X_train,y_train)\n",
    "pred = rf_classifier.predict(X_test)\n",
    "print(\"F1 Score: \", metrics.f1_score(y_test,pred, average='weighted'))\n",
    "print(\"Accuracy Score: \", accuracy_score(y_test,pred))"
   ]
  },
  {
   "cell_type": "code",
   "execution_count": 60,
   "metadata": {},
   "outputs": [
    {
     "name": "stdout",
     "output_type": "stream",
     "text": [
      "[0.9366327474560592, 0.9366327474560592, 0.9366327474560592, 0.9366327474560592, 0.9366327474560592, 0.9366327474560592, 0.9366327474560592, 0.9366327474560592, 0.9258826280102876, 0.9148936170212766, 0.9148936170212766]\n"
     ]
    },
    {
     "data": {
      "image/png": "[encoded data removed]",
      "text/plain": [
       "<matplotlib.figure.Figure at 0x1a1423c518>"
      ]
     },
     "metadata": {},
     "output_type": "display_data"
    }
   ],
   "source": [
    "no_of_features = [10,20,30,40,50,100,200,300,400,500,600]\n",
    "f1_scores = []\n",
    "for e in no_of_features:\n",
    "    rf_classifier = RandomForestClassifier(max_features = e ,n_estimators=100,random_state = 42)\n",
    "    rf_classifier.fit(X_train,y_train)\n",
    "    pred = rf_classifier.predict(X_test)\n",
    "    f1_scores.append(f1_score(y_test,pred,average='weighted'))\n",
    "    \n",
    "plt.plot(no_of_features,f1_scores) \n",
    "print(f1_scores)"
   ]
  },
  {
   "cell_type": "code",
   "execution_count": 61,
   "metadata": {
    "scrolled": true
   },
   "outputs": [
    {
     "name": "stdout",
     "output_type": "stream",
     "text": [
      "F1 Score:  0.9366327474560592\n",
      "Accuracy Score:  0.9574468085106383\n"
     ]
    }
   ],
   "source": [
    "rf_classifier = RandomForestClassifier(n_estimators=100,max_features=30, random_state = 42)\n",
    "rf_classifier.fit(X_train,y_train)\n",
    "pred = rf_classifier.predict(X_test)\n",
    "print(\"F1 Score: \", metrics.f1_score(y_test,pred, average='weighted'))\n",
    "print(\"Accuracy Score: \", accuracy_score(y_test,pred))\n",
    "cr = classification_report(y_test,pred)\n",
    "cm = confusion_matrix(y_test,pred)\n"
   ]
  },
  {
   "cell_type": "markdown",
   "metadata": {},
   "source": [
    "#### This is the best combination we got for RFC lets evaluate it"
   ]
  },
  {
   "cell_type": "code",
   "execution_count": 62,
   "metadata": {},
   "outputs": [
    {
     "name": "stdout",
     "output_type": "stream",
     "text": [
      "             precision    recall  f1-score   support\n",
      "\n",
      "          0       0.00      0.00      0.00         2\n",
      "          1       0.96      1.00      0.98        45\n",
      "\n",
      "avg / total       0.92      0.96      0.94        47\n",
      "\n"
     ]
    },
    {
     "data": {
      "image/png": "[encoded data removed]",
      "text/plain": [
       "<matplotlib.figure.Figure at 0x1046f7438>"
      ]
     },
     "metadata": {},
     "output_type": "display_data"
    }
   ],
   "source": [
    "print(cr)\n",
    "plotConfusion(cm)"
   ]
  },
  {
   "cell_type": "markdown",
   "metadata": {},
   "source": [
    "#### Logistic regression model"
   ]
  },
  {
   "cell_type": "code",
   "execution_count": 63,
   "metadata": {},
   "outputs": [
    {
     "name": "stdout",
     "output_type": "stream",
     "text": [
      "F1 Score:  0.9036576619650969\n",
      "Accuracy Score:  0.8936170212765957\n"
     ]
    }
   ],
   "source": [
    "#Logistic Regression\n",
    "logmodel = LogisticRegression()\n",
    "logmodel.fit(X_train,y_train)\n",
    "pred = logmodel.predict(X_test)\n",
    "print(\"F1 Score: \", metrics.f1_score(y_test,pred, average='weighted'))\n",
    "print(\"Accuracy Score: \", accuracy_score(y_test,pred))"
   ]
  },
  {
   "cell_type": "markdown",
   "metadata": {},
   "source": [
    "#### Extra tree classifier"
   ]
  },
  {
   "cell_type": "code",
   "execution_count": 64,
   "metadata": {},
   "outputs": [
    {
     "name": "stdout",
     "output_type": "stream",
     "text": [
      "F1 Score:  0.9574468085106383\n",
      "Accuracy Score:  0.9574468085106383\n"
     ]
    }
   ],
   "source": [
    "#ExtraTreeClassifier\n",
    "model = ExtraTreesClassifier(n_estimators=5,random_state=42)\n",
    "model.fit(X_train, y_train)\n",
    "pred = model.predict(X_test)\n",
    "print(\"F1 Score: \", metrics.f1_score(y_test,pred, average='weighted'))\n",
    "print(\"Accuracy Score: \", accuracy_score(y_test,pred))"
   ]
  },
  {
   "cell_type": "code",
   "execution_count": 65,
   "metadata": {},
   "outputs": [
    {
     "name": "stdout",
     "output_type": "stream",
     "text": [
      "[0.9574468085106383, 0.9574468085106383, 0.9258826280102876, 0.9258826280102876, 0.9258826280102876, 0.9258826280102876, 0.9258826280102876, 0.9366327474560592, 0.9366327474560592, 0.9366327474560592, 0.9366327474560592, 0.9366327474560592]\n"
     ]
    },
    {
     "data": {
      "image/png": "[encoded data removed]",
      "text/plain": [
       "<matplotlib.figure.Figure at 0x1c161e7908>"
      ]
     },
     "metadata": {},
     "output_type": "display_data"
    }
   ],
   "source": [
    "estimators = [5,10,15,20,30,35,40,45,50,100,200,300]\n",
    "f1_scores = []\n",
    "for e in estimators:\n",
    "    model = ExtraTreesClassifier(n_estimators=e,random_state=42)\n",
    "    model.fit(X_train, y_train)\n",
    "    pred = model.predict(X_test)\n",
    "    f1_scores.append(f1_score(y_test,pred,average='weighted'))\n",
    "    \n",
    "plt.plot(estimators,f1_scores) \n",
    "print(f1_scores)"
   ]
  },
  {
   "cell_type": "code",
   "execution_count": 66,
   "metadata": {},
   "outputs": [
    {
     "name": "stdout",
     "output_type": "stream",
     "text": [
      "F1 Score:  0.9258826280102876\n",
      "Accuracy Score:  0.9361702127659575\n"
     ]
    }
   ],
   "source": [
    "model = ExtraTreesClassifier(n_estimators=20,random_state=42)\n",
    "model.fit(X_train, y_train)\n",
    "pred = model.predict(X_test)\n",
    "print(\"F1 Score: \", metrics.f1_score(y_test,pred, average='weighted'))\n",
    "print(\"Accuracy Score: \", accuracy_score(y_test,pred))"
   ]
  },
  {
   "cell_type": "markdown",
   "metadata": {},
   "source": [
    "#### fine tune for max_features"
   ]
  },
  {
   "cell_type": "code",
   "execution_count": 67,
   "metadata": {},
   "outputs": [
    {
     "name": "stdout",
     "output_type": "stream",
     "text": [
      "[0.9258826280102876, 0.9366327474560592, 0.9258826280102876, 0.9366327474560592, 0.9366327474560592, 0.9366327474560592, 0.9366327474560592, 0.9366327474560592, 0.9366327474560592, 0.9752942093367627, 0.9366327474560592, 0.9366327474560592, 0.9752942093367627, 0.9366327474560592]\n"
     ]
    },
    {
     "data": {
      "image/png": "[encoded data removed]",
      "text/plain": [
       "<matplotlib.figure.Figure at 0x1c161b4908>"
      ]
     },
     "metadata": {},
     "output_type": "display_data"
    }
   ],
   "source": [
    "no_of_features = [10,20,30,40,50,100,200,300,400,500,600,700,750,790]\n",
    "f1_scores = []\n",
    "for e in no_of_features:\n",
    "    model = ExtraTreesClassifier(max_features=e,n_estimators=20,random_state=42)\n",
    "    model.fit(X_train, y_train)\n",
    "    pred = model.predict(X_test)\n",
    "    f1_scores.append(f1_score(y_test,pred,average='weighted'))\n",
    "    \n",
    "plt.plot(no_of_features,f1_scores) \n",
    "print(f1_scores)"
   ]
  },
  {
   "cell_type": "code",
   "execution_count": 68,
   "metadata": {},
   "outputs": [
    {
     "name": "stdout",
     "output_type": "stream",
     "text": [
      "F1 Score:  0.9366327474560592\n",
      "Accuracy Score:  0.9574468085106383\n"
     ]
    }
   ],
   "source": [
    "model = ExtraTreesClassifier(n_estimators=20,max_features=790,random_state=42)\n",
    "model.fit(X_train, y_train)\n",
    "pred = model.predict(X_test)\n",
    "print(\"F1 Score: \", metrics.f1_score(y_test,pred, average='weighted'))\n",
    "print(\"Accuracy Score: \", accuracy_score(y_test,pred))\n",
    "cr = classification_report(y_test,pred)\n",
    "cm = confusion_matrix(y_test,pred)"
   ]
  },
  {
   "cell_type": "code",
   "execution_count": null,
   "metadata": {},
   "outputs": [],
   "source": []
  },
  {
   "cell_type": "code",
   "execution_count": 69,
   "metadata": {},
   "outputs": [
    {
     "name": "stdout",
     "output_type": "stream",
     "text": [
      "             precision    recall  f1-score   support\n",
      "\n",
      "          0       0.00      0.00      0.00         2\n",
      "          1       0.96      1.00      0.98        45\n",
      "\n",
      "avg / total       0.92      0.96      0.94        47\n",
      "\n"
     ]
    },
    {
     "data": {
      "image/png": "[encoded data removed]",
      "text/plain": [
       "<matplotlib.figure.Figure at 0x1a145c2b70>"
      ]
     },
     "metadata": {},
     "output_type": "display_data"
    }
   ],
   "source": [
    "print(cr)\n",
    "plotConfusion(cm)"
   ]
  },
  {
   "cell_type": "markdown",
   "metadata": {},
   "source": [
    "#### Recursive Feature Elimination "
   ]
  },
  {
   "cell_type": "code",
   "execution_count": null,
   "metadata": {},
   "outputs": [],
   "source": []
  },
  {
   "cell_type": "code",
   "execution_count": 70,
   "metadata": {},
   "outputs": [
    {
     "name": "stdout",
     "output_type": "stream",
     "text": [
      "Optimal number of features : 783\n",
      "Best features : Index(['normalized__agg_linear_trend__f_agg_\"max\"__chunk_len_50__attr_\"rvalue\"',\n",
      "       'normalized__agg_linear_trend__f_agg_\"max\"__chunk_len_50__attr_\"slope\"',\n",
      "       'normalized__agg_linear_trend__f_agg_\"max\"__chunk_len_50__attr_\"stderr\"',\n",
      "       'normalized__agg_linear_trend__f_agg_\"max\"__chunk_len_5__attr_\"intercept\"',\n",
      "       'normalized__agg_linear_trend__f_agg_\"max\"__chunk_len_5__attr_\"rvalue\"',\n",
      "       'normalized__agg_linear_trend__f_agg_\"max\"__chunk_len_5__attr_\"slope\"',\n",
      "       'normalized__agg_linear_trend__f_agg_\"max\"__chunk_len_5__attr_\"stderr\"',\n",
      "       'normalized__agg_linear_trend__f_agg_\"mean\"__chunk_len_10__attr_\"intercept\"',\n",
      "       'normalized__agg_linear_trend__f_agg_\"mean\"__chunk_len_10__attr_\"rvalue\"',\n",
      "       'normalized__agg_linear_trend__f_agg_\"mean\"__chunk_len_10__attr_\"slope\"',\n",
      "       ...\n",
      "       'normalized__time_reversal_asymmetry_statistic__lag_1',\n",
      "       'normalized__time_reversal_asymmetry_statistic__lag_2',\n",
      "       'normalized__time_reversal_asymmetry_statistic__lag_3',\n",
      "       'normalized__value_count__value_-inf',\n",
      "       'normalized__value_count__value_0', 'normalized__value_count__value_1',\n",
      "       'normalized__value_count__value_inf',\n",
      "       'normalized__value_count__value_nan', 'normalized__variance',\n",
      "       'normalized__variance_larger_than_standard_deviation'],\n",
      "      dtype='object', name='variable', length=783)\n"
     ]
    }
   ],
   "source": [
    "# The \"accuracy\" scoring is proportional to the number of correct classifications\n",
    "clf_rf_4 = RandomForestClassifier() \n",
    "rfecv = RFECV(estimator=clf_rf_4, step=1, cv=5,scoring='accuracy')   #5-fold cross-validation\n",
    "rfecv = rfecv.fit(X_train, y_train)\n",
    "\n",
    "print('Optimal number of features :', rfecv.n_features_)\n",
    "print('Best features :', X_train.columns[rfecv.support_])"
   ]
  },
  {
   "cell_type": "code",
   "execution_count": 71,
   "metadata": {},
   "outputs": [],
   "source": [
    "cols = X_train.columns[rfecv.support_]"
   ]
  },
  {
   "cell_type": "code",
   "execution_count": 72,
   "metadata": {},
   "outputs": [],
   "source": [
    "X = X[cols]"
   ]
  },
  {
   "cell_type": "code",
   "execution_count": 73,
   "metadata": {},
   "outputs": [],
   "source": [
    "X_train, X_test, y_train, y_test = train_test_split(X, y, test_size=0.40, random_state=42)"
   ]
  },
  {
   "cell_type": "code",
   "execution_count": 74,
   "metadata": {},
   "outputs": [
    {
     "name": "stdout",
     "output_type": "stream",
     "text": [
      "             precision    recall  f1-score   support\n",
      "\n",
      "          0       0.00      0.00      0.00         2\n",
      "          1       0.96      1.00      0.98        45\n",
      "\n",
      "avg / total       0.92      0.96      0.94        47\n",
      "\n",
      "Accuracy is:  0.9574468085106383\n"
     ]
    }
   ],
   "source": [
    "knn = KNeighborsClassifier(n_neighbors=10)\n",
    "knn.fit(X_train,y_train)\n",
    "pred = knn.predict(X_test)\n",
    "dsf = classification_report(y_test,pred)\n",
    "acc = accuracy_score(y_test,pred) \n",
    "print(dsf)\n",
    "print('Accuracy is: ',acc)"
   ]
  },
  {
   "cell_type": "code",
   "execution_count": 75,
   "metadata": {},
   "outputs": [
    {
     "name": "stdout",
     "output_type": "stream",
     "text": [
      "[0.8723404255319149, 0.851063829787234, 0.9574468085106383, 0.9574468085106383, 0.9574468085106383, 0.9574468085106383, 0.9574468085106383, 0.9574468085106383, 0.9574468085106383, 0.9574468085106383, 0.9574468085106383, 0.9574468085106383, 0.9574468085106383, 0.9574468085106383, 0.9574468085106383]\n"
     ]
    },
    {
     "data": {
      "image/png": "[encoded data removed]",
      "text/plain": [
       "<matplotlib.figure.Figure at 0x1054917b8>"
      ]
     },
     "metadata": {},
     "output_type": "display_data"
    }
   ],
   "source": [
    "#KNN for different k values\n",
    "kVals = [1,2,3,4,5,6,7,8,9,10,11,12,13,14,15]\n",
    "scores = []\n",
    "\n",
    "for k in kVals:\n",
    "    knn = KNeighborsClassifier(n_neighbors=k)\n",
    "    knn.fit(X_train,y_train)\n",
    "    pred = knn.predict(X_test)\n",
    "    scores.append(accuracy_score(y_test,pred))\n",
    "    \n",
    "plt.plot(kVals,scores)    \n",
    "print(scores) "
   ]
  },
  {
   "cell_type": "code",
   "execution_count": 76,
   "metadata": {},
   "outputs": [
    {
     "name": "stdout",
     "output_type": "stream",
     "text": [
      "[0.9258826280102876, 0.9258826280102876, 0.9366327474560592, 0.9366327474560592, 0.9366327474560592, 0.9366327474560592, 0.9366327474560592, 0.9366327474560592, 0.9366327474560592, 0.9366327474560592, 0.9366327474560592, 0.9366327474560592]\n"
     ]
    },
    {
     "data": {
      "image/png": "[encoded data removed]",
      "text/plain": [
       "<matplotlib.figure.Figure at 0x1054883c8>"
      ]
     },
     "metadata": {},
     "output_type": "display_data"
    }
   ],
   "source": [
    "#Ensemble Random Forest Classifier Fine Tunning\n",
    "estimators = [5,10,15,20,30,35,40,45,50,100,200,300]\n",
    "f1_scores = []\n",
    "for e in estimators:\n",
    "    rf_classifier = RandomForestClassifier(n_estimators=e, random_state = 42)\n",
    "    rf_classifier.fit(X_train,y_train)\n",
    "    pred = rf_classifier.predict(X_test)\n",
    "    f1_scores.append(f1_score(y_test,pred,average='weighted'))\n",
    "    \n",
    "plt.plot(estimators,f1_scores) \n",
    "print(f1_scores)"
   ]
  },
  {
   "cell_type": "code",
   "execution_count": 77,
   "metadata": {},
   "outputs": [
    {
     "name": "stdout",
     "output_type": "stream",
     "text": [
      "             precision    recall  f1-score   support\n",
      "\n",
      "          0       0.00      0.00      0.00         2\n",
      "          1       0.96      0.98      0.97        45\n",
      "\n",
      "avg / total       0.92      0.94      0.93        47\n",
      "\n",
      "Accuracy is:  0.9361702127659575\n"
     ]
    }
   ],
   "source": [
    "rf_classifier = RandomForestClassifier(n_estimators=10, random_state = 42)\n",
    "rf_classifier.fit(X_train,y_train)\n",
    "pred = rf_classifier.predict(X_test)\n",
    "dsf = classification_report(y_test,pred)\n",
    "acc = accuracy_score(y_test,pred) \n",
    "print(dsf)\n",
    "print('Accuracy is: ',acc)"
   ]
  },
  {
   "cell_type": "code",
   "execution_count": 78,
   "metadata": {},
   "outputs": [],
   "source": [
    "# We obtained best results without Feature selection RFE"
   ]
  },
  {
   "cell_type": "markdown",
   "metadata": {},
   "source": [
    "##### Lets Try Clustering "
   ]
  },
  {
   "cell_type": "code",
   "execution_count": 79,
   "metadata": {},
   "outputs": [],
   "source": [
    "y = data_after_impute['label']\n",
    "X = data_after_impute.drop(columns=['id','label'])"
   ]
  },
  {
   "cell_type": "code",
   "execution_count": 80,
   "metadata": {},
   "outputs": [
    {
     "name": "stdout",
     "output_type": "stream",
     "text": [
      "             precision    recall  f1-score   support\n",
      "\n",
      "          0       0.03      1.00      0.07         4\n",
      "          1       1.00      0.01      0.02       112\n",
      "\n",
      "avg / total       0.97      0.04      0.02       116\n",
      "\n"
     ]
    },
    {
     "data": {
      "image/png": "[encoded data removed]",
      "text/plain": [
       "<matplotlib.figure.Figure at 0x1c161d58d0>"
      ]
     },
     "metadata": {},
     "output_type": "display_data"
    }
   ],
   "source": [
    "model = KMeans(n_clusters=2,n_init=400,random_state=42,max_iter=1000)\n",
    "model.fit(X)\n",
    "y_pred = model.labels_\n",
    "y_arr = np.array(y)\n",
    "accuracy_score(y_arr,y_pred)\n",
    "print(classification_report(y_arr,y_pred))\n",
    "plotConfusion(confusion_matrix(y_arr,y_pred))"
   ]
  },
  {
   "cell_type": "code",
   "execution_count": 81,
   "metadata": {},
   "outputs": [
    {
     "name": "stdout",
     "output_type": "stream",
     "text": [
      "             precision    recall  f1-score   support\n",
      "\n",
      "          0       0.03      1.00      0.07         4\n",
      "          1       1.00      0.01      0.02       112\n",
      "\n",
      "avg / total       0.97      0.04      0.02       116\n",
      "\n"
     ]
    },
    {
     "data": {
      "image/png": "[encoded data removed]",
      "text/plain": [
       "<matplotlib.figure.Figure at 0x1c15ecdeb8>"
      ]
     },
     "metadata": {},
     "output_type": "display_data"
    }
   ],
   "source": [
    "\n",
    "model = AgglomerativeClustering(n_clusters=2, affinity='euclidean', linkage='ward')  \n",
    "model = model.fit(X)\n",
    "y_pred = model.labels_\n",
    "y_arr = np.array(y)\n",
    "accuracy_score(y_arr,y_pred)\n",
    "print(classification_report(y_arr,y_pred))\n",
    "plotConfusion(confusion_matrix(y_arr,y_pred))"
   ]
  },
  {
   "cell_type": "code",
   "execution_count": 102,
   "metadata": {},
   "outputs": [
    {
     "data": {
      "image/png": "[encoded data removed]",
      "text/plain": [
       "<matplotlib.figure.Figure at 0x1c19d60cc0>"
      ]
     },
     "metadata": {},
     "output_type": "display_data"
    }
   ],
   "source": [
    "from sklearn.preprocessing import MinMaxScaler,StandardScaler\n",
    "scaler = StandardScaler()\n",
    "scaled_df = scaler.fit_transform(X)\n",
    "scaled_df = pd.DataFrame(scaled_df)\n",
    "pca = PCA(n_components=2)  \n",
    "X_pca = pca.fit_transform(scaled_df)  \n",
    "df = pd.DataFrame(X_pca)\n",
    "df.head()\n",
    "a = df[0]\n",
    "b = df [1]\n",
    "plt.scatter(a,b,alpha=0.5,c=y,cmap='viridis')\n",
    "plt.xlabel('x')\n",
    "plt.ylabel('y')\n",
    "plt.show()"
   ]
  },
  {
   "cell_type": "code",
   "execution_count": null,
   "metadata": {},
   "outputs": [],
   "source": []
  },
  {
   "cell_type": "code",
   "execution_count": 94,
   "metadata": {},
   "outputs": [
    {
     "name": "stdout",
     "output_type": "stream",
     "text": [
      "             precision    recall  f1-score   support\n",
      "\n",
      "          0       0.19      0.91      0.31        33\n",
      "          1       0.57      0.03      0.06       132\n",
      "\n",
      "avg / total       0.50      0.21      0.11       165\n",
      "\n"
     ]
    },
    {
     "data": {
      "image/png": "[encoded data removed]",
      "text/plain": [
       "<matplotlib.figure.Figure at 0x1c18896cc0>"
      ]
     },
     "metadata": {},
     "output_type": "display_data"
    }
   ],
   "source": [
    "model = KMeans(n_clusters=2,n_init=100,random_state=42,precompute_distances=True,max_iter=1000)\n",
    "model.fit(X_pca)\n",
    "y_pred = model.labels_\n",
    "accuracy_score(y_arr,y_pred)\n",
    "print(classification_report(y_arr,y_pred))\n",
    "plotConfusion(confusion_matrix(y_arr,y_pred))"
   ]
  },
  {
   "cell_type": "code",
   "execution_count": 95,
   "metadata": {},
   "outputs": [
    {
     "data": {
      "image/png": "[encoded data removed]",
      "text/plain": [
       "<matplotlib.figure.Figure at 0x1c18cd5198>"
      ]
     },
     "metadata": {},
     "output_type": "display_data"
    }
   ],
   "source": [
    "plt.scatter(a,b,alpha=0.5,c=y_pred,cmap='viridis')\n",
    "plt.xlabel('x')\n",
    "plt.ylabel('y')\n",
    "plt.show()"
   ]
  },
  {
   "cell_type": "code",
   "execution_count": 96,
   "metadata": {},
   "outputs": [
    {
     "name": "stdout",
     "output_type": "stream",
     "text": [
      "             precision    recall  f1-score   support\n",
      "\n",
      "          0       0.43      0.09      0.15        33\n",
      "          1       0.81      0.97      0.88       132\n",
      "\n",
      "avg / total       0.73      0.79      0.74       165\n",
      "\n"
     ]
    },
    {
     "data": {
      "image/png": "[encoded data removed]",
      "text/plain": [
       "<matplotlib.figure.Figure at 0x1c18cd0828>"
      ]
     },
     "metadata": {},
     "output_type": "display_data"
    }
   ],
   "source": [
    "model = AgglomerativeClustering(n_clusters=2, affinity='euclidean', linkage='ward')  \n",
    "model = model.fit(X_pca)\n",
    "y_pred = model.labels_\n",
    "accuracy_score(y_arr,y_pred)\n",
    "print(classification_report(y_arr,y_pred))\n",
    "plotConfusion(confusion_matrix(y_arr,y_pred))"
   ]
  },
  {
   "cell_type": "code",
   "execution_count": 97,
   "metadata": {},
   "outputs": [
    {
     "data": {
      "image/png": "[encoded data removed]",
      "text/plain": [
       "<matplotlib.figure.Figure at 0x1c185fdf28>"
      ]
     },
     "metadata": {},
     "output_type": "display_data"
    }
   ],
   "source": [
    "plt.scatter(a,b,alpha=0.5,c=y_pred,cmap='viridis')\n",
    "plt.xlabel('x')\n",
    "plt.ylabel('y')\n",
    "plt.show()"
   ]
  },
  {
   "cell_type": "code",
   "execution_count": null,
   "metadata": {},
   "outputs": [],
   "source": []
  },
  {
   "cell_type": "code",
   "execution_count": 98,
   "metadata": {},
   "outputs": [
    {
     "data": {
      "image/png": "[encoded data removed]",
      "text/plain": [
       "<matplotlib.figure.Figure at 0x1a165b96a0>"
      ]
     },
     "metadata": {},
     "output_type": "display_data"
    }
   ],
   "source": [
    "scaler = MinMaxScaler()\n",
    "scaled_df = scaler.fit_transform(X)\n",
    "scaled_df = pd.DataFrame(scaled_df)\n",
    "pca = PCA(n_components=2)  \n",
    "X_pca = pca.fit_transform(scaled_df)  \n",
    "df = pd.DataFrame(X_pca)\n",
    "df.head()\n",
    "a = df[0]\n",
    "b = df [1]\n",
    "plt.scatter(a,b,alpha=0.5,c=y,cmap='viridis')\n",
    "plt.xlabel('x')\n",
    "plt.ylabel('y')\n",
    "plt.show()"
   ]
  },
  {
   "cell_type": "code",
   "execution_count": 99,
   "metadata": {},
   "outputs": [
    {
     "name": "stdout",
     "output_type": "stream",
     "text": [
      "             precision    recall  f1-score   support\n",
      "\n",
      "          0       0.00      0.00      0.00        33\n",
      "          1       0.78      0.88      0.83       132\n",
      "\n",
      "avg / total       0.62      0.70      0.66       165\n",
      "\n"
     ]
    },
    {
     "data": {
      "image/png": "[encoded data removed]",
      "text/plain": [
       "<matplotlib.figure.Figure at 0x1c19d729e8>"
      ]
     },
     "metadata": {},
     "output_type": "display_data"
    }
   ],
   "source": [
    "model = KMeans(n_clusters=2,n_init=100,random_state=42,precompute_distances=True,max_iter=1000)\n",
    "model.fit(X_pca)\n",
    "y_pred = model.labels_\n",
    "accuracy_score(y_arr,y_pred)\n",
    "print(classification_report(y_arr,y_pred))\n",
    "plotConfusion(confusion_matrix(y_arr,y_pred))"
   ]
  },
  {
   "cell_type": "code",
   "execution_count": 100,
   "metadata": {},
   "outputs": [
    {
     "name": "stdout",
     "output_type": "stream",
     "text": [
      "             precision    recall  f1-score   support\n",
      "\n",
      "          0       0.22      1.00      0.36        33\n",
      "          1       1.00      0.12      0.22       132\n",
      "\n",
      "avg / total       0.84      0.30      0.25       165\n",
      "\n"
     ]
    },
    {
     "data": {
      "image/png": "[encoded data removed]",
      "text/plain": [
       "<matplotlib.figure.Figure at 0x1c199a5b70>"
      ]
     },
     "metadata": {},
     "output_type": "display_data"
    }
   ],
   "source": [
    "model = AgglomerativeClustering(n_clusters=2, affinity='euclidean', linkage='ward')  \n",
    "model = model.fit(X_pca)\n",
    "y_pred = model.labels_\n",
    "y_arr = np.array(y)\n",
    "accuracy_score(y_arr,y_pred)\n",
    "print(classification_report(y_arr,y_pred))\n",
    "plotConfusion(confusion_matrix(y_arr,y_pred))"
   ]
  },
  {
   "cell_type": "code",
   "execution_count": null,
   "metadata": {},
   "outputs": [],
   "source": []
  },
  {
   "cell_type": "code",
   "execution_count": 62,
   "metadata": {},
   "outputs": [],
   "source": [
    "def testFunctions(dimensions,scaled_df,y_arr):\n",
    "    pca = PCA(n_components=dimensions)  \n",
    "    X_pca = pca.fit_transform(scaled_df)\n",
    "    model = KMeans(n_clusters=2,n_init=100,random_state=42,precompute_distances=True,max_iter=1000)\n",
    "    model.fit(X_pca)\n",
    "    y_pred = model.labels_\n",
    "    score = f1_score(y_pred,y_arr,average='weighted')\n",
    "    return score"
   ]
  },
  {
   "cell_type": "code",
   "execution_count": 63,
   "metadata": {},
   "outputs": [
    {
     "name": "stdout",
     "output_type": "stream",
     "text": [
      "[0.8514646865162329, 0.3032508215226961, 0.3032508215226961, 0.8516718913270638, 0.8516718913270638, 0.8516718913270638, 0.8516718913270638, 0.8516718913270638, 0.8516718913270638, 0.8516718913270638, 0.8516718913270638, 0.8516718913270638, 0.8516718913270638, 0.8516718913270638, 0.8516718913270638]\n"
     ]
    },
    {
     "data": {
      "image/png": "[encoded data removed]",
      "text/plain": [
       "<matplotlib.figure.Figure at 0x1c19be2128>"
      ]
     },
     "metadata": {},
     "output_type": "display_data"
    }
   ],
   "source": [
    "scaler = StandardScaler()\n",
    "scaled_df = scaler.fit_transform(X)\n",
    "scaled_df = pd.DataFrame(scaled_df)\n",
    "\n",
    "dimensions_ = [1,2,3,4,5,6,7,8,9,10,11,12,13,14,15]\n",
    "scores = []\n",
    "for dim in dimensions_:\n",
    "    scores.append(testFunctions(dim,scaled_df,y_arr))\n",
    "\n",
    "plt.plot(dimensions_,scores)    \n",
    "print(scores)"
   ]
  },
  {
   "cell_type": "code",
   "execution_count": 64,
   "metadata": {},
   "outputs": [
    {
     "name": "stdout",
     "output_type": "stream",
     "text": [
      "             precision    recall  f1-score   support\n",
      "\n",
      "          0       0.43      0.09      0.15        33\n",
      "          1       0.81      0.97      0.88       132\n",
      "\n",
      "avg / total       0.73      0.79      0.74       165\n",
      "\n"
     ]
    },
    {
     "data": {
      "image/png": "[encoded data removed]",
      "text/plain": [
       "<matplotlib.figure.Figure at 0x1c16d90c50>"
      ]
     },
     "metadata": {},
     "output_type": "display_data"
    }
   ],
   "source": [
    "pca = PCA(n_components=14)  \n",
    "X_pca = pca.fit_transform(scaled_df)\n",
    "model = KMeans(n_clusters=2,n_init=100,random_state=42,precompute_distances=True,max_iter=1000)\n",
    "model.fit(X_pca)\n",
    "y_pred = model.labels_\n",
    "print(classification_report(y_arr,y_pred))\n",
    "plotConfusion(confusion_matrix(y_arr,y_pred))"
   ]
  }
 ],
 "metadata": {
  "kernelspec": {
   "display_name": "Python 3",
   "language": "python",
   "name": "python3"
  },
  "language_info": {
   "codemirror_mode": {
    "name": "ipython",
    "version": 3
   },
   "file_extension": ".py",
   "mimetype": "text/x-python",
   "name": "python",
   "nbconvert_exporter": "python",
   "pygments_lexer": "ipython3",
   "version": "3.6.4"
  }
 },
 "nbformat": 4,
 "nbformat_minor": 2
}
