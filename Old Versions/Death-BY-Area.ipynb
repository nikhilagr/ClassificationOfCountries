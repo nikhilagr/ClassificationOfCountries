{
 "cells": [
  {
   "cell_type": "code",
   "execution_count": 1,
   "metadata": {},
   "outputs": [
    {
     "name": "stderr",
     "output_type": "stream",
     "text": [
      "/anaconda3/lib/python3.6/site-packages/sklearn/ensemble/weight_boosting.py:29: DeprecationWarning: numpy.core.umath_tests is an internal NumPy module and should not be imported. It will be removed in a future NumPy release.\n",
      "  from numpy.core.umath_tests import inner1d\n"
     ]
    }
   ],
   "source": [
    "import pandas as pd\n",
    "import numpy as np\n",
    "from sklearn.model_selection import train_test_split,cross_val_score,KFold\n",
    "from sklearn import metrics\n",
    "from sklearn.metrics import classification_report,confusion_matrix,accuracy_score,f1_score\n",
    "from sklearn.neighbors import KNeighborsClassifier\n",
    "from sklearn.ensemble import RandomForestClassifier\n",
    "from sklearn.ensemble import ExtraTreesClassifier\n",
    "from sklearn import preprocessing\n",
    "from sklearn.preprocessing import MinMaxScaler,StandardScaler,RobustScaler\n",
    "\n",
    "\n",
    "#libraries for model performance evaluation\n",
    "from sklearn import metrics\n",
    "from sklearn.metrics import classification_report,confusion_matrix,accuracy_score,f1_score\n",
    "\n",
    "#libraries for visualization\n",
    "import matplotlib.pyplot as plt\n",
    "import seaborn as sns\n",
    "%matplotlib inline\n",
    "from matplotlib.colors import ListedColormap\n",
    "\n",
    "# libraries for computation\n",
    "import pandas as pd\n",
    "import numpy as np\n",
    "from sklearn.decomposition import PCA\n",
    "\n",
    "#library for train test split\n",
    "from sklearn.model_selection import train_test_split,cross_val_score,KFold\n",
    "\n",
    "#library for preprocessing\n",
    "from sklearn.preprocessing import StandardScaler\n",
    "\n",
    "#library for Dimensionality reduction\n",
    "from sklearn.decomposition import PCA\n",
    "from sklearn.decomposition import TruncatedSVD\n",
    "\n",
    "#Library for feature selection techniques\n",
    "from sklearn.feature_selection import RFE\n",
    "from sklearn.feature_selection import RFECV\n",
    "from sklearn.feature_selection import SelectKBest\n",
    "from sklearn.feature_selection import chi2\n",
    "from sklearn.feature_selection import SelectFromModel\n",
    "\n",
    "#libraries for various ML models \n",
    "from sklearn import svm\n",
    "from sklearn.svm import SVC\n",
    "from sklearn.linear_model import LogisticRegression\n",
    "from sklearn.neural_network import MLPClassifier\n",
    "from sklearn.neighbors import KNeighborsClassifier\n",
    "from sklearn.tree import DecisionTreeClassifier\n",
    "#ensemble models\n",
    "from sklearn.ensemble import BaggingClassifier\n",
    "from sklearn.ensemble import AdaBoostClassifier\n",
    "from sklearn.ensemble import GradientBoostingClassifier\n",
    "from sklearn.ensemble import VotingClassifier\n",
    "from sklearn.ensemble import RandomForestClassifier\n",
    "from sklearn.ensemble import ExtraTreesClassifier\n",
    "from sklearn.ensemble import RandomForestRegressor\n",
    "\n",
    "\n",
    "from sklearn.cluster import KMeans\n",
    "\n",
    "#libraries for model performance evaluation\n",
    "from sklearn import metrics\n",
    "from sklearn.metrics import classification_report,confusion_matrix,accuracy_score,f1_score\n",
    "\n",
    "#libraries for visualization\n",
    "import matplotlib.pyplot as plt\n",
    "import seaborn as sns\n",
    "%matplotlib inline\n",
    "from matplotlib.colors import ListedColormap\n",
    "\n",
    "import warnings\n",
    "warnings.filterwarnings('ignore')"
   ]
  },
  {
   "cell_type": "code",
   "execution_count": 2,
   "metadata": {},
   "outputs": [],
   "source": [
    "def plotConfusion(cm):\n",
    "    sns.set_style('white')\n",
    "    plt.clf()\n",
    "    plt.imshow(cm, interpolation='nearest', cmap=plt.cm.Pastel1)\n",
    "    classNames = ['Developed','Developing']\n",
    "    plt.title('Confusion Matrix',fontsize = 15)\n",
    "    plt.ylabel('True label',fontsize=15)\n",
    "    plt.xlabel('Predicted label',fontsize=15)\n",
    "    tick_marks = np.arange(len(classNames))\n",
    "    plt.xticks(tick_marks, classNames,fontsize=12)\n",
    "    plt.yticks(tick_marks, classNames,fontsize=12)\n",
    "    s = [['TP','FN'], ['FP', 'TN']]\n",
    "    for i in range(2):\n",
    "        for j in range(2):\n",
    "            plt.text(j,i, str(s[i][j])+\" = \"+str(cm[i][j]))\n",
    "    plt.show()"
   ]
  },
  {
   "cell_type": "markdown",
   "metadata": {},
   "source": [
    "### Read Data from CSV"
   ]
  },
  {
   "cell_type": "code",
   "execution_count": 3,
   "metadata": {},
   "outputs": [],
   "source": [
    "data = pd.read_csv('UNdata_Univariant_Deaths by area.csv')"
   ]
  },
  {
   "cell_type": "code",
   "execution_count": 11,
   "metadata": {},
   "outputs": [
    {
     "data": {
      "text/html": [
       "<div>\n",
       "<style scoped>\n",
       "    .dataframe tbody tr th:only-of-type {\n",
       "        vertical-align: middle;\n",
       "    }\n",
       "\n",
       "    .dataframe tbody tr th {\n",
       "        vertical-align: top;\n",
       "    }\n",
       "\n",
       "    .dataframe thead th {\n",
       "        text-align: right;\n",
       "    }\n",
       "</style>\n",
       "<table border=\"1\" class=\"dataframe\">\n",
       "  <thead>\n",
       "    <tr style=\"text-align: right;\">\n",
       "      <th></th>\n",
       "      <th>Country</th>\n",
       "      <th>Year</th>\n",
       "      <th>Total</th>\n",
       "    </tr>\n",
       "  </thead>\n",
       "  <tbody>\n",
       "    <tr>\n",
       "      <th>0</th>\n",
       "      <td>Åland Islands</td>\n",
       "      <td>1953</td>\n",
       "      <td>260.0</td>\n",
       "    </tr>\n",
       "    <tr>\n",
       "      <th>1</th>\n",
       "      <td>Åland Islands</td>\n",
       "      <td>1954</td>\n",
       "      <td>244.0</td>\n",
       "    </tr>\n",
       "    <tr>\n",
       "      <th>2</th>\n",
       "      <td>Åland Islands</td>\n",
       "      <td>1955</td>\n",
       "      <td>200.0</td>\n",
       "    </tr>\n",
       "    <tr>\n",
       "      <th>3</th>\n",
       "      <td>Åland Islands</td>\n",
       "      <td>1956</td>\n",
       "      <td>209.0</td>\n",
       "    </tr>\n",
       "    <tr>\n",
       "      <th>4</th>\n",
       "      <td>Åland Islands</td>\n",
       "      <td>1957</td>\n",
       "      <td>248.0</td>\n",
       "    </tr>\n",
       "  </tbody>\n",
       "</table>\n",
       "</div>"
      ],
      "text/plain": [
       "         Country  Year  Total\n",
       "0  Åland Islands  1953  260.0\n",
       "1  Åland Islands  1954  244.0\n",
       "2  Åland Islands  1955  200.0\n",
       "3  Åland Islands  1956  209.0\n",
       "4  Åland Islands  1957  248.0"
      ]
     },
     "execution_count": 11,
     "metadata": {},
     "output_type": "execute_result"
    }
   ],
   "source": [
    "data.head()"
   ]
  },
  {
   "cell_type": "code",
   "execution_count": 6,
   "metadata": {},
   "outputs": [
    {
     "data": {
      "text/plain": [
       "(7652, 3)"
      ]
     },
     "execution_count": 6,
     "metadata": {},
     "output_type": "execute_result"
    }
   ],
   "source": [
    "data.shape"
   ]
  },
  {
   "cell_type": "markdown",
   "metadata": {},
   "source": [
    "#### Get data insights"
   ]
  },
  {
   "cell_type": "code",
   "execution_count": 5,
   "metadata": {
    "scrolled": true
   },
   "outputs": [
    {
     "name": "stdout",
     "output_type": "stream",
     "text": [
      "<class 'pandas.core.frame.DataFrame'>\n",
      "RangeIndex: 7652 entries, 0 to 7651\n",
      "Data columns (total 3 columns):\n",
      "Country    7652 non-null object\n",
      "Year       7652 non-null int64\n",
      "Total      7652 non-null float64\n",
      "dtypes: float64(1), int64(1), object(1)\n",
      "memory usage: 179.4+ KB\n"
     ]
    }
   ],
   "source": [
    "data.info()"
   ]
  },
  {
   "cell_type": "code",
   "execution_count": 9,
   "metadata": {},
   "outputs": [
    {
     "data": {
      "text/plain": [
       "184"
      ]
     },
     "execution_count": 9,
     "metadata": {},
     "output_type": "execute_result"
    }
   ],
   "source": [
    "data['Country'].nunique()"
   ]
  },
  {
   "cell_type": "markdown",
   "metadata": {},
   "source": [
    "### Lets normalize data"
   ]
  },
  {
   "cell_type": "code",
   "execution_count": 12,
   "metadata": {},
   "outputs": [],
   "source": [
    "# Normalize the value column and drop old column\n",
    "\n",
    "# Create x, where x the 'Total Men and Women Employed' column's values as floats\n",
    "x = data[['Total']].values.astype(float)\n",
    "\n",
    "# Create a minimum and maximum processor object\n",
    "min_max_scaler = preprocessing.MinMaxScaler()\n",
    "\n",
    "# Create an object to transform the data to fit minmax processor\n",
    "x_scaled = min_max_scaler.fit_transform(x)\n",
    "\n",
    "# Run the normalizer on the dataframe\n",
    "df_normalized = pd.DataFrame(x_scaled)\n",
    "df_normalized['normalized'] = pd.DataFrame(x_scaled)\n",
    "df_normalized.drop(columns=0,inplace=True)\n",
    "\n",
    "data_new = pd.concat([data,df_normalized ], axis=1)\n",
    "data_new.drop(columns='Total',inplace=True)"
   ]
  },
  {
   "cell_type": "code",
   "execution_count": 13,
   "metadata": {},
   "outputs": [
    {
     "data": {
      "text/html": [
       "<div>\n",
       "<style scoped>\n",
       "    .dataframe tbody tr th:only-of-type {\n",
       "        vertical-align: middle;\n",
       "    }\n",
       "\n",
       "    .dataframe tbody tr th {\n",
       "        vertical-align: top;\n",
       "    }\n",
       "\n",
       "    .dataframe thead th {\n",
       "        text-align: right;\n",
       "    }\n",
       "</style>\n",
       "<table border=\"1\" class=\"dataframe\">\n",
       "  <thead>\n",
       "    <tr style=\"text-align: right;\">\n",
       "      <th></th>\n",
       "      <th>Country</th>\n",
       "      <th>Year</th>\n",
       "      <th>normalized</th>\n",
       "    </tr>\n",
       "  </thead>\n",
       "  <tbody>\n",
       "    <tr>\n",
       "      <th>0</th>\n",
       "      <td>Åland Islands</td>\n",
       "      <td>1953</td>\n",
       "      <td>0.000027</td>\n",
       "    </tr>\n",
       "    <tr>\n",
       "      <th>1</th>\n",
       "      <td>Åland Islands</td>\n",
       "      <td>1954</td>\n",
       "      <td>0.000025</td>\n",
       "    </tr>\n",
       "    <tr>\n",
       "      <th>2</th>\n",
       "      <td>Åland Islands</td>\n",
       "      <td>1955</td>\n",
       "      <td>0.000020</td>\n",
       "    </tr>\n",
       "    <tr>\n",
       "      <th>3</th>\n",
       "      <td>Åland Islands</td>\n",
       "      <td>1956</td>\n",
       "      <td>0.000021</td>\n",
       "    </tr>\n",
       "    <tr>\n",
       "      <th>4</th>\n",
       "      <td>Åland Islands</td>\n",
       "      <td>1957</td>\n",
       "      <td>0.000025</td>\n",
       "    </tr>\n",
       "  </tbody>\n",
       "</table>\n",
       "</div>"
      ],
      "text/plain": [
       "         Country  Year  normalized\n",
       "0  Åland Islands  1953    0.000027\n",
       "1  Åland Islands  1954    0.000025\n",
       "2  Åland Islands  1955    0.000020\n",
       "3  Åland Islands  1956    0.000021\n",
       "4  Åland Islands  1957    0.000025"
      ]
     },
     "execution_count": 13,
     "metadata": {},
     "output_type": "execute_result"
    }
   ],
   "source": [
    "# Check new dataframe with normalized value\n",
    "data_new.head()"
   ]
  },
  {
   "cell_type": "markdown",
   "metadata": {},
   "source": [
    "#### Using tsfresh to extract features from data"
   ]
  },
  {
   "cell_type": "code",
   "execution_count": 15,
   "metadata": {},
   "outputs": [
    {
     "name": "stderr",
     "output_type": "stream",
     "text": [
      "Feature Extraction: 100%|██████████| 10/10 [00:17<00:00,  1.64s/it]\n"
     ]
    }
   ],
   "source": [
    "# Use TSFresh library to extract features from data \n",
    "from tsfresh import extract_features\n",
    "extracted_features = extract_features(data_new, column_id=\"Country\", column_sort=\"Year\")"
   ]
  },
  {
   "cell_type": "code",
   "execution_count": 16,
   "metadata": {},
   "outputs": [
    {
     "data": {
      "text/html": [
       "<div>\n",
       "<style scoped>\n",
       "    .dataframe tbody tr th:only-of-type {\n",
       "        vertical-align: middle;\n",
       "    }\n",
       "\n",
       "    .dataframe tbody tr th {\n",
       "        vertical-align: top;\n",
       "    }\n",
       "\n",
       "    .dataframe thead th {\n",
       "        text-align: right;\n",
       "    }\n",
       "</style>\n",
       "<table border=\"1\" class=\"dataframe\">\n",
       "  <thead>\n",
       "    <tr style=\"text-align: right;\">\n",
       "      <th>variable</th>\n",
       "      <th>normalized__abs_energy</th>\n",
       "      <th>normalized__absolute_sum_of_changes</th>\n",
       "      <th>normalized__agg_autocorrelation__f_agg_\"mean\"</th>\n",
       "      <th>normalized__agg_autocorrelation__f_agg_\"median\"</th>\n",
       "      <th>normalized__agg_autocorrelation__f_agg_\"var\"</th>\n",
       "      <th>normalized__agg_linear_trend__f_agg_\"max\"__chunk_len_10__attr_\"intercept\"</th>\n",
       "      <th>normalized__agg_linear_trend__f_agg_\"max\"__chunk_len_10__attr_\"rvalue\"</th>\n",
       "      <th>normalized__agg_linear_trend__f_agg_\"max\"__chunk_len_10__attr_\"slope\"</th>\n",
       "      <th>normalized__agg_linear_trend__f_agg_\"max\"__chunk_len_10__attr_\"stderr\"</th>\n",
       "      <th>normalized__agg_linear_trend__f_agg_\"max\"__chunk_len_50__attr_\"intercept\"</th>\n",
       "      <th>...</th>\n",
       "      <th>normalized__time_reversal_asymmetry_statistic__lag_1</th>\n",
       "      <th>normalized__time_reversal_asymmetry_statistic__lag_2</th>\n",
       "      <th>normalized__time_reversal_asymmetry_statistic__lag_3</th>\n",
       "      <th>normalized__value_count__value_-inf</th>\n",
       "      <th>normalized__value_count__value_0</th>\n",
       "      <th>normalized__value_count__value_1</th>\n",
       "      <th>normalized__value_count__value_inf</th>\n",
       "      <th>normalized__value_count__value_nan</th>\n",
       "      <th>normalized__variance</th>\n",
       "      <th>normalized__variance_larger_than_standard_deviation</th>\n",
       "    </tr>\n",
       "    <tr>\n",
       "      <th>id</th>\n",
       "      <th></th>\n",
       "      <th></th>\n",
       "      <th></th>\n",
       "      <th></th>\n",
       "      <th></th>\n",
       "      <th></th>\n",
       "      <th></th>\n",
       "      <th></th>\n",
       "      <th></th>\n",
       "      <th></th>\n",
       "      <th></th>\n",
       "      <th></th>\n",
       "      <th></th>\n",
       "      <th></th>\n",
       "      <th></th>\n",
       "      <th></th>\n",
       "      <th></th>\n",
       "      <th></th>\n",
       "      <th></th>\n",
       "      <th></th>\n",
       "      <th></th>\n",
       "    </tr>\n",
       "  </thead>\n",
       "  <tbody>\n",
       "    <tr>\n",
       "      <th>Albania</th>\n",
       "      <td>2.119579e-04</td>\n",
       "      <td>0.006893</td>\n",
       "      <td>-0.027466</td>\n",
       "      <td>-0.033881</td>\n",
       "      <td>0.081891</td>\n",
       "      <td>0.001945</td>\n",
       "      <td>0.575203</td>\n",
       "      <td>0.000042</td>\n",
       "      <td>2.692675e-05</td>\n",
       "      <td>0.002180</td>\n",
       "      <td>...</td>\n",
       "      <td>1.219242e-10</td>\n",
       "      <td>1.975375e-10</td>\n",
       "      <td>2.426309e-10</td>\n",
       "      <td>0.0</td>\n",
       "      <td>0.0</td>\n",
       "      <td>0.0</td>\n",
       "      <td>0.0</td>\n",
       "      <td>0.0</td>\n",
       "      <td>3.473176e-08</td>\n",
       "      <td>0.0</td>\n",
       "    </tr>\n",
       "    <tr>\n",
       "      <th>American Samoa</th>\n",
       "      <td>2.680168e-08</td>\n",
       "      <td>0.000151</td>\n",
       "      <td>0.000000</td>\n",
       "      <td>0.000000</td>\n",
       "      <td>0.000000</td>\n",
       "      <td>0.000015</td>\n",
       "      <td>0.795909</td>\n",
       "      <td>0.000003</td>\n",
       "      <td>8.741948e-07</td>\n",
       "      <td>0.000027</td>\n",
       "      <td>...</td>\n",
       "      <td>3.367832e-16</td>\n",
       "      <td>7.347029e-16</td>\n",
       "      <td>1.232945e-15</td>\n",
       "      <td>0.0</td>\n",
       "      <td>0.0</td>\n",
       "      <td>0.0</td>\n",
       "      <td>0.0</td>\n",
       "      <td>0.0</td>\n",
       "      <td>3.642025e-11</td>\n",
       "      <td>0.0</td>\n",
       "    </tr>\n",
       "    <tr>\n",
       "      <th>Andorra</th>\n",
       "      <td>1.633649e-08</td>\n",
       "      <td>0.000071</td>\n",
       "      <td>0.000000</td>\n",
       "      <td>0.000000</td>\n",
       "      <td>0.000000</td>\n",
       "      <td>0.000024</td>\n",
       "      <td>0.991545</td>\n",
       "      <td>0.000004</td>\n",
       "      <td>5.023006e-07</td>\n",
       "      <td>NaN</td>\n",
       "      <td>...</td>\n",
       "      <td>1.258522e-15</td>\n",
       "      <td>1.807977e-15</td>\n",
       "      <td>3.076855e-15</td>\n",
       "      <td>0.0</td>\n",
       "      <td>0.0</td>\n",
       "      <td>0.0</td>\n",
       "      <td>0.0</td>\n",
       "      <td>0.0</td>\n",
       "      <td>1.734321e-11</td>\n",
       "      <td>0.0</td>\n",
       "    </tr>\n",
       "    <tr>\n",
       "      <th>Anguilla</th>\n",
       "      <td>1.206155e-09</td>\n",
       "      <td>0.000033</td>\n",
       "      <td>0.000000</td>\n",
       "      <td>0.000000</td>\n",
       "      <td>0.000000</td>\n",
       "      <td>0.000008</td>\n",
       "      <td>0.000000</td>\n",
       "      <td>0.000000</td>\n",
       "      <td>6.500361e-07</td>\n",
       "      <td>NaN</td>\n",
       "      <td>...</td>\n",
       "      <td>1.166892e-18</td>\n",
       "      <td>7.693835e-18</td>\n",
       "      <td>1.426338e-18</td>\n",
       "      <td>0.0</td>\n",
       "      <td>0.0</td>\n",
       "      <td>0.0</td>\n",
       "      <td>0.0</td>\n",
       "      <td>0.0</td>\n",
       "      <td>9.237948e-13</td>\n",
       "      <td>0.0</td>\n",
       "    </tr>\n",
       "    <tr>\n",
       "      <th>Antigua and Barbuda</th>\n",
       "      <td>1.562477e-07</td>\n",
       "      <td>0.000268</td>\n",
       "      <td>0.000000</td>\n",
       "      <td>0.000000</td>\n",
       "      <td>0.000000</td>\n",
       "      <td>0.000066</td>\n",
       "      <td>-0.625557</td>\n",
       "      <td>-0.000003</td>\n",
       "      <td>1.822748e-06</td>\n",
       "      <td>0.000081</td>\n",
       "      <td>...</td>\n",
       "      <td>-3.652716e-15</td>\n",
       "      <td>-4.953548e-15</td>\n",
       "      <td>-6.710833e-15</td>\n",
       "      <td>0.0</td>\n",
       "      <td>0.0</td>\n",
       "      <td>0.0</td>\n",
       "      <td>0.0</td>\n",
       "      <td>0.0</td>\n",
       "      <td>4.727019e-11</td>\n",
       "      <td>0.0</td>\n",
       "    </tr>\n",
       "  </tbody>\n",
       "</table>\n",
       "<p>5 rows × 794 columns</p>\n",
       "</div>"
      ],
      "text/plain": [
       "variable             normalized__abs_energy  \\\n",
       "id                                            \n",
       "Albania                        2.119579e-04   \n",
       "American Samoa                 2.680168e-08   \n",
       "Andorra                        1.633649e-08   \n",
       "Anguilla                       1.206155e-09   \n",
       "Antigua and Barbuda            1.562477e-07   \n",
       "\n",
       "variable             normalized__absolute_sum_of_changes  \\\n",
       "id                                                         \n",
       "Albania                                         0.006893   \n",
       "American Samoa                                  0.000151   \n",
       "Andorra                                         0.000071   \n",
       "Anguilla                                        0.000033   \n",
       "Antigua and Barbuda                             0.000268   \n",
       "\n",
       "variable             normalized__agg_autocorrelation__f_agg_\"mean\"  \\\n",
       "id                                                                   \n",
       "Albania                                                  -0.027466   \n",
       "American Samoa                                            0.000000   \n",
       "Andorra                                                   0.000000   \n",
       "Anguilla                                                  0.000000   \n",
       "Antigua and Barbuda                                       0.000000   \n",
       "\n",
       "variable             normalized__agg_autocorrelation__f_agg_\"median\"  \\\n",
       "id                                                                     \n",
       "Albania                                                    -0.033881   \n",
       "American Samoa                                              0.000000   \n",
       "Andorra                                                     0.000000   \n",
       "Anguilla                                                    0.000000   \n",
       "Antigua and Barbuda                                         0.000000   \n",
       "\n",
       "variable             normalized__agg_autocorrelation__f_agg_\"var\"  \\\n",
       "id                                                                  \n",
       "Albania                                                  0.081891   \n",
       "American Samoa                                           0.000000   \n",
       "Andorra                                                  0.000000   \n",
       "Anguilla                                                 0.000000   \n",
       "Antigua and Barbuda                                      0.000000   \n",
       "\n",
       "variable             normalized__agg_linear_trend__f_agg_\"max\"__chunk_len_10__attr_\"intercept\"  \\\n",
       "id                                                                                               \n",
       "Albania                                                       0.001945                           \n",
       "American Samoa                                                0.000015                           \n",
       "Andorra                                                       0.000024                           \n",
       "Anguilla                                                      0.000008                           \n",
       "Antigua and Barbuda                                           0.000066                           \n",
       "\n",
       "variable             normalized__agg_linear_trend__f_agg_\"max\"__chunk_len_10__attr_\"rvalue\"  \\\n",
       "id                                                                                            \n",
       "Albania                                                       0.575203                        \n",
       "American Samoa                                                0.795909                        \n",
       "Andorra                                                       0.991545                        \n",
       "Anguilla                                                      0.000000                        \n",
       "Antigua and Barbuda                                          -0.625557                        \n",
       "\n",
       "variable             normalized__agg_linear_trend__f_agg_\"max\"__chunk_len_10__attr_\"slope\"  \\\n",
       "id                                                                                           \n",
       "Albania                                                       0.000042                       \n",
       "American Samoa                                                0.000003                       \n",
       "Andorra                                                       0.000004                       \n",
       "Anguilla                                                      0.000000                       \n",
       "Antigua and Barbuda                                          -0.000003                       \n",
       "\n",
       "variable             normalized__agg_linear_trend__f_agg_\"max\"__chunk_len_10__attr_\"stderr\"  \\\n",
       "id                                                                                            \n",
       "Albania                                                   2.692675e-05                        \n",
       "American Samoa                                            8.741948e-07                        \n",
       "Andorra                                                   5.023006e-07                        \n",
       "Anguilla                                                  6.500361e-07                        \n",
       "Antigua and Barbuda                                       1.822748e-06                        \n",
       "\n",
       "variable             normalized__agg_linear_trend__f_agg_\"max\"__chunk_len_50__attr_\"intercept\"  \\\n",
       "id                                                                                               \n",
       "Albania                                                       0.002180                           \n",
       "American Samoa                                                0.000027                           \n",
       "Andorra                                                            NaN                           \n",
       "Anguilla                                                           NaN                           \n",
       "Antigua and Barbuda                                           0.000081                           \n",
       "\n",
       "variable                                    ...                           \\\n",
       "id                                          ...                            \n",
       "Albania                                     ...                            \n",
       "American Samoa                              ...                            \n",
       "Andorra                                     ...                            \n",
       "Anguilla                                    ...                            \n",
       "Antigua and Barbuda                         ...                            \n",
       "\n",
       "variable             normalized__time_reversal_asymmetry_statistic__lag_1  \\\n",
       "id                                                                          \n",
       "Albania                                                   1.219242e-10      \n",
       "American Samoa                                            3.367832e-16      \n",
       "Andorra                                                   1.258522e-15      \n",
       "Anguilla                                                  1.166892e-18      \n",
       "Antigua and Barbuda                                      -3.652716e-15      \n",
       "\n",
       "variable             normalized__time_reversal_asymmetry_statistic__lag_2  \\\n",
       "id                                                                          \n",
       "Albania                                                   1.975375e-10      \n",
       "American Samoa                                            7.347029e-16      \n",
       "Andorra                                                   1.807977e-15      \n",
       "Anguilla                                                  7.693835e-18      \n",
       "Antigua and Barbuda                                      -4.953548e-15      \n",
       "\n",
       "variable             normalized__time_reversal_asymmetry_statistic__lag_3  \\\n",
       "id                                                                          \n",
       "Albania                                                   2.426309e-10      \n",
       "American Samoa                                            1.232945e-15      \n",
       "Andorra                                                   3.076855e-15      \n",
       "Anguilla                                                  1.426338e-18      \n",
       "Antigua and Barbuda                                      -6.710833e-15      \n",
       "\n",
       "variable             normalized__value_count__value_-inf  \\\n",
       "id                                                         \n",
       "Albania                                              0.0   \n",
       "American Samoa                                       0.0   \n",
       "Andorra                                              0.0   \n",
       "Anguilla                                             0.0   \n",
       "Antigua and Barbuda                                  0.0   \n",
       "\n",
       "variable             normalized__value_count__value_0  \\\n",
       "id                                                      \n",
       "Albania                                           0.0   \n",
       "American Samoa                                    0.0   \n",
       "Andorra                                           0.0   \n",
       "Anguilla                                          0.0   \n",
       "Antigua and Barbuda                               0.0   \n",
       "\n",
       "variable             normalized__value_count__value_1  \\\n",
       "id                                                      \n",
       "Albania                                           0.0   \n",
       "American Samoa                                    0.0   \n",
       "Andorra                                           0.0   \n",
       "Anguilla                                          0.0   \n",
       "Antigua and Barbuda                               0.0   \n",
       "\n",
       "variable             normalized__value_count__value_inf  \\\n",
       "id                                                        \n",
       "Albania                                             0.0   \n",
       "American Samoa                                      0.0   \n",
       "Andorra                                             0.0   \n",
       "Anguilla                                            0.0   \n",
       "Antigua and Barbuda                                 0.0   \n",
       "\n",
       "variable             normalized__value_count__value_nan  normalized__variance  \\\n",
       "id                                                                              \n",
       "Albania                                             0.0          3.473176e-08   \n",
       "American Samoa                                      0.0          3.642025e-11   \n",
       "Andorra                                             0.0          1.734321e-11   \n",
       "Anguilla                                            0.0          9.237948e-13   \n",
       "Antigua and Barbuda                                 0.0          4.727019e-11   \n",
       "\n",
       "variable             normalized__variance_larger_than_standard_deviation  \n",
       "id                                                                        \n",
       "Albania                                                            0.0    \n",
       "American Samoa                                                     0.0    \n",
       "Andorra                                                            0.0    \n",
       "Anguilla                                                           0.0    \n",
       "Antigua and Barbuda                                                0.0    \n",
       "\n",
       "[5 rows x 794 columns]"
      ]
     },
     "execution_count": 16,
     "metadata": {},
     "output_type": "execute_result"
    }
   ],
   "source": [
    "#Check extracted features\n",
    "extracted_features.head()"
   ]
  },
  {
   "cell_type": "code",
   "execution_count": 17,
   "metadata": {},
   "outputs": [
    {
     "data": {
      "text/plain": [
       "(184, 794)"
      ]
     },
     "execution_count": 17,
     "metadata": {},
     "output_type": "execute_result"
    }
   ],
   "source": [
    "#Check shape of new data with extracted features\n",
    "extracted_features.shape"
   ]
  },
  {
   "cell_type": "code",
   "execution_count": null,
   "metadata": {},
   "outputs": [],
   "source": []
  },
  {
   "cell_type": "code",
   "execution_count": 18,
   "metadata": {},
   "outputs": [
    {
     "data": {
      "text/plain": [
       "548"
      ]
     },
     "execution_count": 18,
     "metadata": {},
     "output_type": "execute_result"
    }
   ],
   "source": [
    "#Check if any columns contains Nan values (null values)\n",
    "list_cols_with_nan = extracted_features.columns[extracted_features.isna().any()].tolist()\n",
    "len(list_cols_with_nan)"
   ]
  },
  {
   "cell_type": "code",
   "execution_count": 19,
   "metadata": {},
   "outputs": [],
   "source": [
    "# it seems 548 columns out of 794 have some null values"
   ]
  },
  {
   "cell_type": "code",
   "execution_count": 20,
   "metadata": {},
   "outputs": [
    {
     "name": "stderr",
     "output_type": "stream",
     "text": [
      "WARNING:tsfresh.utilities.dataframe_functions:The columns ['normalized__fft_coefficient__coeff_36__attr_\"abs\"'\n",
      " 'normalized__fft_coefficient__coeff_36__attr_\"angle\"'\n",
      " 'normalized__fft_coefficient__coeff_36__attr_\"imag\"'\n",
      " 'normalized__fft_coefficient__coeff_36__attr_\"real\"'\n",
      " 'normalized__fft_coefficient__coeff_37__attr_\"abs\"'\n",
      " 'normalized__fft_coefficient__coeff_37__attr_\"angle\"'\n",
      " 'normalized__fft_coefficient__coeff_37__attr_\"imag\"'\n",
      " 'normalized__fft_coefficient__coeff_37__attr_\"real\"'\n",
      " 'normalized__fft_coefficient__coeff_38__attr_\"abs\"'\n",
      " 'normalized__fft_coefficient__coeff_38__attr_\"angle\"'\n",
      " 'normalized__fft_coefficient__coeff_38__attr_\"imag\"'\n",
      " 'normalized__fft_coefficient__coeff_38__attr_\"real\"'\n",
      " 'normalized__fft_coefficient__coeff_39__attr_\"abs\"'\n",
      " 'normalized__fft_coefficient__coeff_39__attr_\"angle\"'\n",
      " 'normalized__fft_coefficient__coeff_39__attr_\"imag\"'\n",
      " 'normalized__fft_coefficient__coeff_39__attr_\"real\"'\n",
      " 'normalized__fft_coefficient__coeff_40__attr_\"abs\"'\n",
      " 'normalized__fft_coefficient__coeff_40__attr_\"angle\"'\n",
      " 'normalized__fft_coefficient__coeff_40__attr_\"imag\"'\n",
      " 'normalized__fft_coefficient__coeff_40__attr_\"real\"'\n",
      " 'normalized__fft_coefficient__coeff_41__attr_\"abs\"'\n",
      " 'normalized__fft_coefficient__coeff_41__attr_\"angle\"'\n",
      " 'normalized__fft_coefficient__coeff_41__attr_\"imag\"'\n",
      " 'normalized__fft_coefficient__coeff_41__attr_\"real\"'\n",
      " 'normalized__fft_coefficient__coeff_42__attr_\"abs\"'\n",
      " 'normalized__fft_coefficient__coeff_42__attr_\"angle\"'\n",
      " 'normalized__fft_coefficient__coeff_42__attr_\"imag\"'\n",
      " 'normalized__fft_coefficient__coeff_42__attr_\"real\"'\n",
      " 'normalized__fft_coefficient__coeff_43__attr_\"abs\"'\n",
      " 'normalized__fft_coefficient__coeff_43__attr_\"angle\"'\n",
      " 'normalized__fft_coefficient__coeff_43__attr_\"imag\"'\n",
      " 'normalized__fft_coefficient__coeff_43__attr_\"real\"'\n",
      " 'normalized__fft_coefficient__coeff_44__attr_\"abs\"'\n",
      " 'normalized__fft_coefficient__coeff_44__attr_\"angle\"'\n",
      " 'normalized__fft_coefficient__coeff_44__attr_\"imag\"'\n",
      " 'normalized__fft_coefficient__coeff_44__attr_\"real\"'\n",
      " 'normalized__fft_coefficient__coeff_45__attr_\"abs\"'\n",
      " 'normalized__fft_coefficient__coeff_45__attr_\"angle\"'\n",
      " 'normalized__fft_coefficient__coeff_45__attr_\"imag\"'\n",
      " 'normalized__fft_coefficient__coeff_45__attr_\"real\"'\n",
      " 'normalized__fft_coefficient__coeff_46__attr_\"abs\"'\n",
      " 'normalized__fft_coefficient__coeff_46__attr_\"angle\"'\n",
      " 'normalized__fft_coefficient__coeff_46__attr_\"imag\"'\n",
      " 'normalized__fft_coefficient__coeff_46__attr_\"real\"'\n",
      " 'normalized__fft_coefficient__coeff_47__attr_\"abs\"'\n",
      " 'normalized__fft_coefficient__coeff_47__attr_\"angle\"'\n",
      " 'normalized__fft_coefficient__coeff_47__attr_\"imag\"'\n",
      " 'normalized__fft_coefficient__coeff_47__attr_\"real\"'\n",
      " 'normalized__fft_coefficient__coeff_48__attr_\"abs\"'\n",
      " 'normalized__fft_coefficient__coeff_48__attr_\"angle\"'\n",
      " 'normalized__fft_coefficient__coeff_48__attr_\"imag\"'\n",
      " 'normalized__fft_coefficient__coeff_48__attr_\"real\"'\n",
      " 'normalized__fft_coefficient__coeff_49__attr_\"abs\"'\n",
      " 'normalized__fft_coefficient__coeff_49__attr_\"angle\"'\n",
      " 'normalized__fft_coefficient__coeff_49__attr_\"imag\"'\n",
      " 'normalized__fft_coefficient__coeff_49__attr_\"real\"'\n",
      " 'normalized__fft_coefficient__coeff_50__attr_\"abs\"'\n",
      " 'normalized__fft_coefficient__coeff_50__attr_\"angle\"'\n",
      " 'normalized__fft_coefficient__coeff_50__attr_\"imag\"'\n",
      " 'normalized__fft_coefficient__coeff_50__attr_\"real\"'\n",
      " 'normalized__fft_coefficient__coeff_51__attr_\"abs\"'\n",
      " 'normalized__fft_coefficient__coeff_51__attr_\"angle\"'\n",
      " 'normalized__fft_coefficient__coeff_51__attr_\"imag\"'\n",
      " 'normalized__fft_coefficient__coeff_51__attr_\"real\"'\n",
      " 'normalized__fft_coefficient__coeff_52__attr_\"abs\"'\n",
      " 'normalized__fft_coefficient__coeff_52__attr_\"angle\"'\n",
      " 'normalized__fft_coefficient__coeff_52__attr_\"imag\"'\n",
      " 'normalized__fft_coefficient__coeff_52__attr_\"real\"'\n",
      " 'normalized__fft_coefficient__coeff_53__attr_\"abs\"'\n",
      " 'normalized__fft_coefficient__coeff_53__attr_\"angle\"'\n",
      " 'normalized__fft_coefficient__coeff_53__attr_\"imag\"'\n",
      " 'normalized__fft_coefficient__coeff_53__attr_\"real\"'\n",
      " 'normalized__fft_coefficient__coeff_54__attr_\"abs\"'\n",
      " 'normalized__fft_coefficient__coeff_54__attr_\"angle\"'\n",
      " 'normalized__fft_coefficient__coeff_54__attr_\"imag\"'\n",
      " 'normalized__fft_coefficient__coeff_54__attr_\"real\"'\n",
      " 'normalized__fft_coefficient__coeff_55__attr_\"abs\"'\n",
      " 'normalized__fft_coefficient__coeff_55__attr_\"angle\"'\n",
      " 'normalized__fft_coefficient__coeff_55__attr_\"imag\"'\n",
      " 'normalized__fft_coefficient__coeff_55__attr_\"real\"'\n",
      " 'normalized__fft_coefficient__coeff_56__attr_\"abs\"'\n",
      " 'normalized__fft_coefficient__coeff_56__attr_\"angle\"'\n",
      " 'normalized__fft_coefficient__coeff_56__attr_\"imag\"'\n",
      " 'normalized__fft_coefficient__coeff_56__attr_\"real\"'\n",
      " 'normalized__fft_coefficient__coeff_57__attr_\"abs\"'\n",
      " 'normalized__fft_coefficient__coeff_57__attr_\"angle\"'\n",
      " 'normalized__fft_coefficient__coeff_57__attr_\"imag\"'\n",
      " 'normalized__fft_coefficient__coeff_57__attr_\"real\"'\n",
      " 'normalized__fft_coefficient__coeff_58__attr_\"abs\"'\n",
      " 'normalized__fft_coefficient__coeff_58__attr_\"angle\"'\n",
      " 'normalized__fft_coefficient__coeff_58__attr_\"imag\"'\n",
      " 'normalized__fft_coefficient__coeff_58__attr_\"real\"'\n",
      " 'normalized__fft_coefficient__coeff_59__attr_\"abs\"'\n",
      " 'normalized__fft_coefficient__coeff_59__attr_\"angle\"'\n",
      " 'normalized__fft_coefficient__coeff_59__attr_\"imag\"'\n",
      " 'normalized__fft_coefficient__coeff_59__attr_\"real\"'\n",
      " 'normalized__fft_coefficient__coeff_60__attr_\"abs\"'\n",
      " 'normalized__fft_coefficient__coeff_60__attr_\"angle\"'\n",
      " 'normalized__fft_coefficient__coeff_60__attr_\"imag\"'\n",
      " 'normalized__fft_coefficient__coeff_60__attr_\"real\"'\n",
      " 'normalized__fft_coefficient__coeff_61__attr_\"abs\"'\n",
      " 'normalized__fft_coefficient__coeff_61__attr_\"angle\"'\n",
      " 'normalized__fft_coefficient__coeff_61__attr_\"imag\"'\n",
      " 'normalized__fft_coefficient__coeff_61__attr_\"real\"'\n",
      " 'normalized__fft_coefficient__coeff_62__attr_\"abs\"'\n",
      " 'normalized__fft_coefficient__coeff_62__attr_\"angle\"'\n",
      " 'normalized__fft_coefficient__coeff_62__attr_\"imag\"'\n",
      " 'normalized__fft_coefficient__coeff_62__attr_\"real\"'\n",
      " 'normalized__fft_coefficient__coeff_63__attr_\"abs\"'\n",
      " 'normalized__fft_coefficient__coeff_63__attr_\"angle\"'\n",
      " 'normalized__fft_coefficient__coeff_63__attr_\"imag\"'\n",
      " 'normalized__fft_coefficient__coeff_63__attr_\"real\"'\n",
      " 'normalized__fft_coefficient__coeff_64__attr_\"abs\"'\n",
      " 'normalized__fft_coefficient__coeff_64__attr_\"angle\"'\n",
      " 'normalized__fft_coefficient__coeff_64__attr_\"imag\"'\n",
      " 'normalized__fft_coefficient__coeff_64__attr_\"real\"'\n",
      " 'normalized__fft_coefficient__coeff_65__attr_\"abs\"'\n",
      " 'normalized__fft_coefficient__coeff_65__attr_\"angle\"'\n",
      " 'normalized__fft_coefficient__coeff_65__attr_\"imag\"'\n",
      " 'normalized__fft_coefficient__coeff_65__attr_\"real\"'\n",
      " 'normalized__fft_coefficient__coeff_66__attr_\"abs\"'\n",
      " 'normalized__fft_coefficient__coeff_66__attr_\"angle\"'\n",
      " 'normalized__fft_coefficient__coeff_66__attr_\"imag\"'\n",
      " 'normalized__fft_coefficient__coeff_66__attr_\"real\"'\n",
      " 'normalized__fft_coefficient__coeff_67__attr_\"abs\"'\n",
      " 'normalized__fft_coefficient__coeff_67__attr_\"angle\"'\n",
      " 'normalized__fft_coefficient__coeff_67__attr_\"imag\"'\n",
      " 'normalized__fft_coefficient__coeff_67__attr_\"real\"'\n",
      " 'normalized__fft_coefficient__coeff_68__attr_\"abs\"'\n",
      " 'normalized__fft_coefficient__coeff_68__attr_\"angle\"'\n",
      " 'normalized__fft_coefficient__coeff_68__attr_\"imag\"'\n",
      " 'normalized__fft_coefficient__coeff_68__attr_\"real\"'\n",
      " 'normalized__fft_coefficient__coeff_69__attr_\"abs\"'\n",
      " 'normalized__fft_coefficient__coeff_69__attr_\"angle\"'\n",
      " 'normalized__fft_coefficient__coeff_69__attr_\"imag\"'\n",
      " 'normalized__fft_coefficient__coeff_69__attr_\"real\"'\n",
      " 'normalized__fft_coefficient__coeff_70__attr_\"abs\"'\n",
      " 'normalized__fft_coefficient__coeff_70__attr_\"angle\"'\n",
      " 'normalized__fft_coefficient__coeff_70__attr_\"imag\"'\n",
      " 'normalized__fft_coefficient__coeff_70__attr_\"real\"'\n",
      " 'normalized__fft_coefficient__coeff_71__attr_\"abs\"'\n",
      " 'normalized__fft_coefficient__coeff_71__attr_\"angle\"'\n",
      " 'normalized__fft_coefficient__coeff_71__attr_\"imag\"'\n",
      " 'normalized__fft_coefficient__coeff_71__attr_\"real\"'\n",
      " 'normalized__fft_coefficient__coeff_72__attr_\"abs\"'\n",
      " 'normalized__fft_coefficient__coeff_72__attr_\"angle\"'\n",
      " 'normalized__fft_coefficient__coeff_72__attr_\"imag\"'\n",
      " 'normalized__fft_coefficient__coeff_72__attr_\"real\"'\n",
      " 'normalized__fft_coefficient__coeff_73__attr_\"abs\"'\n",
      " 'normalized__fft_coefficient__coeff_73__attr_\"angle\"'\n",
      " 'normalized__fft_coefficient__coeff_73__attr_\"imag\"'\n",
      " 'normalized__fft_coefficient__coeff_73__attr_\"real\"'\n",
      " 'normalized__fft_coefficient__coeff_74__attr_\"abs\"'\n",
      " 'normalized__fft_coefficient__coeff_74__attr_\"angle\"'\n",
      " 'normalized__fft_coefficient__coeff_74__attr_\"imag\"'\n",
      " 'normalized__fft_coefficient__coeff_74__attr_\"real\"'\n",
      " 'normalized__fft_coefficient__coeff_75__attr_\"abs\"'\n",
      " 'normalized__fft_coefficient__coeff_75__attr_\"angle\"'\n",
      " 'normalized__fft_coefficient__coeff_75__attr_\"imag\"'\n",
      " 'normalized__fft_coefficient__coeff_75__attr_\"real\"'\n",
      " 'normalized__fft_coefficient__coeff_76__attr_\"abs\"'\n",
      " 'normalized__fft_coefficient__coeff_76__attr_\"angle\"'\n",
      " 'normalized__fft_coefficient__coeff_76__attr_\"imag\"'\n",
      " 'normalized__fft_coefficient__coeff_76__attr_\"real\"'\n",
      " 'normalized__fft_coefficient__coeff_77__attr_\"abs\"'\n",
      " 'normalized__fft_coefficient__coeff_77__attr_\"angle\"'\n",
      " 'normalized__fft_coefficient__coeff_77__attr_\"imag\"'\n",
      " 'normalized__fft_coefficient__coeff_77__attr_\"real\"'\n",
      " 'normalized__fft_coefficient__coeff_78__attr_\"abs\"'\n",
      " 'normalized__fft_coefficient__coeff_78__attr_\"angle\"'\n",
      " 'normalized__fft_coefficient__coeff_78__attr_\"imag\"'\n",
      " 'normalized__fft_coefficient__coeff_78__attr_\"real\"'\n",
      " 'normalized__fft_coefficient__coeff_79__attr_\"abs\"'\n",
      " 'normalized__fft_coefficient__coeff_79__attr_\"angle\"'\n",
      " 'normalized__fft_coefficient__coeff_79__attr_\"imag\"'\n",
      " 'normalized__fft_coefficient__coeff_79__attr_\"real\"'\n",
      " 'normalized__fft_coefficient__coeff_80__attr_\"abs\"'\n",
      " 'normalized__fft_coefficient__coeff_80__attr_\"angle\"'\n",
      " 'normalized__fft_coefficient__coeff_80__attr_\"imag\"'\n",
      " 'normalized__fft_coefficient__coeff_80__attr_\"real\"'\n",
      " 'normalized__fft_coefficient__coeff_81__attr_\"abs\"'\n",
      " 'normalized__fft_coefficient__coeff_81__attr_\"angle\"'\n",
      " 'normalized__fft_coefficient__coeff_81__attr_\"imag\"'\n",
      " 'normalized__fft_coefficient__coeff_81__attr_\"real\"'\n",
      " 'normalized__fft_coefficient__coeff_82__attr_\"abs\"'\n",
      " 'normalized__fft_coefficient__coeff_82__attr_\"angle\"'\n",
      " 'normalized__fft_coefficient__coeff_82__attr_\"imag\"'\n",
      " 'normalized__fft_coefficient__coeff_82__attr_\"real\"'\n",
      " 'normalized__fft_coefficient__coeff_83__attr_\"abs\"'\n",
      " 'normalized__fft_coefficient__coeff_83__attr_\"angle\"'\n",
      " 'normalized__fft_coefficient__coeff_83__attr_\"imag\"'\n",
      " 'normalized__fft_coefficient__coeff_83__attr_\"real\"'\n",
      " 'normalized__fft_coefficient__coeff_84__attr_\"abs\"'\n",
      " 'normalized__fft_coefficient__coeff_84__attr_\"angle\"'\n",
      " 'normalized__fft_coefficient__coeff_84__attr_\"imag\"'\n",
      " 'normalized__fft_coefficient__coeff_84__attr_\"real\"'\n",
      " 'normalized__fft_coefficient__coeff_85__attr_\"abs\"'\n",
      " 'normalized__fft_coefficient__coeff_85__attr_\"angle\"'\n",
      " 'normalized__fft_coefficient__coeff_85__attr_\"imag\"'\n",
      " 'normalized__fft_coefficient__coeff_85__attr_\"real\"'\n",
      " 'normalized__fft_coefficient__coeff_86__attr_\"abs\"'\n",
      " 'normalized__fft_coefficient__coeff_86__attr_\"angle\"'\n",
      " 'normalized__fft_coefficient__coeff_86__attr_\"imag\"'\n",
      " 'normalized__fft_coefficient__coeff_86__attr_\"real\"'\n",
      " 'normalized__fft_coefficient__coeff_87__attr_\"abs\"'\n",
      " 'normalized__fft_coefficient__coeff_87__attr_\"angle\"'\n",
      " 'normalized__fft_coefficient__coeff_87__attr_\"imag\"'\n",
      " 'normalized__fft_coefficient__coeff_87__attr_\"real\"'\n",
      " 'normalized__fft_coefficient__coeff_88__attr_\"abs\"'\n",
      " 'normalized__fft_coefficient__coeff_88__attr_\"angle\"'\n",
      " 'normalized__fft_coefficient__coeff_88__attr_\"imag\"'\n",
      " 'normalized__fft_coefficient__coeff_88__attr_\"real\"'\n",
      " 'normalized__fft_coefficient__coeff_89__attr_\"abs\"'\n",
      " 'normalized__fft_coefficient__coeff_89__attr_\"angle\"'\n",
      " 'normalized__fft_coefficient__coeff_89__attr_\"imag\"'\n",
      " 'normalized__fft_coefficient__coeff_89__attr_\"real\"'\n",
      " 'normalized__fft_coefficient__coeff_90__attr_\"abs\"'\n",
      " 'normalized__fft_coefficient__coeff_90__attr_\"angle\"'\n",
      " 'normalized__fft_coefficient__coeff_90__attr_\"imag\"'\n",
      " 'normalized__fft_coefficient__coeff_90__attr_\"real\"'\n",
      " 'normalized__fft_coefficient__coeff_91__attr_\"abs\"'\n",
      " 'normalized__fft_coefficient__coeff_91__attr_\"angle\"'\n",
      " 'normalized__fft_coefficient__coeff_91__attr_\"imag\"'\n",
      " 'normalized__fft_coefficient__coeff_91__attr_\"real\"'\n",
      " 'normalized__fft_coefficient__coeff_92__attr_\"abs\"'\n",
      " 'normalized__fft_coefficient__coeff_92__attr_\"angle\"'\n",
      " 'normalized__fft_coefficient__coeff_92__attr_\"imag\"'\n",
      " 'normalized__fft_coefficient__coeff_92__attr_\"real\"'\n",
      " 'normalized__fft_coefficient__coeff_93__attr_\"abs\"'\n",
      " 'normalized__fft_coefficient__coeff_93__attr_\"angle\"'\n",
      " 'normalized__fft_coefficient__coeff_93__attr_\"imag\"'\n",
      " 'normalized__fft_coefficient__coeff_93__attr_\"real\"'\n",
      " 'normalized__fft_coefficient__coeff_94__attr_\"abs\"'\n",
      " 'normalized__fft_coefficient__coeff_94__attr_\"angle\"'\n",
      " 'normalized__fft_coefficient__coeff_94__attr_\"imag\"'\n",
      " 'normalized__fft_coefficient__coeff_94__attr_\"real\"'\n",
      " 'normalized__fft_coefficient__coeff_95__attr_\"abs\"'\n",
      " 'normalized__fft_coefficient__coeff_95__attr_\"angle\"'\n",
      " 'normalized__fft_coefficient__coeff_95__attr_\"imag\"'\n",
      " 'normalized__fft_coefficient__coeff_95__attr_\"real\"'\n",
      " 'normalized__fft_coefficient__coeff_96__attr_\"abs\"'\n",
      " 'normalized__fft_coefficient__coeff_96__attr_\"angle\"'\n",
      " 'normalized__fft_coefficient__coeff_96__attr_\"imag\"'\n",
      " 'normalized__fft_coefficient__coeff_96__attr_\"real\"'\n",
      " 'normalized__fft_coefficient__coeff_97__attr_\"abs\"'\n",
      " 'normalized__fft_coefficient__coeff_97__attr_\"angle\"'\n",
      " 'normalized__fft_coefficient__coeff_97__attr_\"imag\"'\n",
      " 'normalized__fft_coefficient__coeff_97__attr_\"real\"'\n",
      " 'normalized__fft_coefficient__coeff_98__attr_\"abs\"'\n",
      " 'normalized__fft_coefficient__coeff_98__attr_\"angle\"'\n",
      " 'normalized__fft_coefficient__coeff_98__attr_\"imag\"'\n",
      " 'normalized__fft_coefficient__coeff_98__attr_\"real\"'\n",
      " 'normalized__fft_coefficient__coeff_99__attr_\"abs\"'\n",
      " 'normalized__fft_coefficient__coeff_99__attr_\"angle\"'\n",
      " 'normalized__fft_coefficient__coeff_99__attr_\"imag\"'\n",
      " 'normalized__fft_coefficient__coeff_99__attr_\"real\"'] did not have any finite values. Filling with zeros.\n"
     ]
    }
   ],
   "source": [
    "#lets replace nan value with 0.0\n",
    "from tsfresh import select_features\n",
    "from tsfresh.utilities.dataframe_functions import impute\n",
    "data_after_impute = impute(extracted_features)"
   ]
  },
  {
   "cell_type": "code",
   "execution_count": 21,
   "metadata": {},
   "outputs": [
    {
     "data": {
      "text/plain": [
       "0"
      ]
     },
     "execution_count": 21,
     "metadata": {},
     "output_type": "execute_result"
    }
   ],
   "source": [
    "#lets check if any column has any nan value\n",
    "list_cols_with_nan_after_impute = data_after_impute.columns[data_after_impute.isna().any()].tolist()\n",
    "len(list_cols_with_nan_after_impute)"
   ]
  },
  {
   "cell_type": "code",
   "execution_count": 22,
   "metadata": {
    "scrolled": false
   },
   "outputs": [
    {
     "data": {
      "text/plain": [
       "(184, 795)"
      ]
     },
     "execution_count": 22,
     "metadata": {},
     "output_type": "execute_result"
    }
   ],
   "source": [
    "#we dont have any nan values \n",
    "# lets reset the index\n",
    "data_after_impute = data_after_impute.reset_index()\n",
    "data_after_impute.shape"
   ]
  },
  {
   "cell_type": "code",
   "execution_count": 23,
   "metadata": {},
   "outputs": [],
   "source": [
    "# we need to give labels to countries \n",
    "data_countries = pd.read_excel('Developing countries.xlsx')\n",
    "\n",
    "developed_countries = data_countries [data_countries['Value'] == 0]\n",
    "developing_countries = data_countries [data_countries['Value'] == 1] \n",
    "\n",
    "list_developed_countries = developed_countries['Countries']\n",
    "list_developing_countries = developing_countries['Countries']\n",
    "\n",
    "list_developed_countries = list(list_developed_countries)\n",
    "list_developing_countries = list(list_developing_countries)\n",
    "\n",
    "data_after_impute['label'] = -1\n",
    "\n",
    "for i,da in data_after_impute.iterrows():\n",
    "    if da['id'] in list_developed_countries:\n",
    "        val = 0\n",
    "        data_after_impute.at[i,'label'] = val\n",
    "    elif da['id'] not in list_developed_countries:\n",
    "        val = 1\n",
    "        data_after_impute.at[i,'label'] = val"
   ]
  },
  {
   "cell_type": "code",
   "execution_count": 24,
   "metadata": {},
   "outputs": [
    {
     "data": {
      "text/html": [
       "<div>\n",
       "<style scoped>\n",
       "    .dataframe tbody tr th:only-of-type {\n",
       "        vertical-align: middle;\n",
       "    }\n",
       "\n",
       "    .dataframe tbody tr th {\n",
       "        vertical-align: top;\n",
       "    }\n",
       "\n",
       "    .dataframe thead th {\n",
       "        text-align: right;\n",
       "    }\n",
       "</style>\n",
       "<table border=\"1\" class=\"dataframe\">\n",
       "  <thead>\n",
       "    <tr style=\"text-align: right;\">\n",
       "      <th>variable</th>\n",
       "      <th>id</th>\n",
       "      <th>normalized__abs_energy</th>\n",
       "      <th>normalized__absolute_sum_of_changes</th>\n",
       "      <th>normalized__agg_autocorrelation__f_agg_\"mean\"</th>\n",
       "      <th>normalized__agg_autocorrelation__f_agg_\"median\"</th>\n",
       "      <th>normalized__agg_autocorrelation__f_agg_\"var\"</th>\n",
       "      <th>normalized__agg_linear_trend__f_agg_\"max\"__chunk_len_10__attr_\"intercept\"</th>\n",
       "      <th>normalized__agg_linear_trend__f_agg_\"max\"__chunk_len_10__attr_\"rvalue\"</th>\n",
       "      <th>normalized__agg_linear_trend__f_agg_\"max\"__chunk_len_10__attr_\"slope\"</th>\n",
       "      <th>normalized__agg_linear_trend__f_agg_\"max\"__chunk_len_10__attr_\"stderr\"</th>\n",
       "      <th>...</th>\n",
       "      <th>normalized__time_reversal_asymmetry_statistic__lag_2</th>\n",
       "      <th>normalized__time_reversal_asymmetry_statistic__lag_3</th>\n",
       "      <th>normalized__value_count__value_-inf</th>\n",
       "      <th>normalized__value_count__value_0</th>\n",
       "      <th>normalized__value_count__value_1</th>\n",
       "      <th>normalized__value_count__value_inf</th>\n",
       "      <th>normalized__value_count__value_nan</th>\n",
       "      <th>normalized__variance</th>\n",
       "      <th>normalized__variance_larger_than_standard_deviation</th>\n",
       "      <th>label</th>\n",
       "    </tr>\n",
       "  </thead>\n",
       "  <tbody>\n",
       "    <tr>\n",
       "      <th>0</th>\n",
       "      <td>Albania</td>\n",
       "      <td>2.119579e-04</td>\n",
       "      <td>0.006893</td>\n",
       "      <td>-0.027466</td>\n",
       "      <td>-0.033881</td>\n",
       "      <td>0.081891</td>\n",
       "      <td>0.001945</td>\n",
       "      <td>0.575203</td>\n",
       "      <td>0.000042</td>\n",
       "      <td>2.692675e-05</td>\n",
       "      <td>...</td>\n",
       "      <td>1.975375e-10</td>\n",
       "      <td>2.426309e-10</td>\n",
       "      <td>0.0</td>\n",
       "      <td>0.0</td>\n",
       "      <td>0.0</td>\n",
       "      <td>0.0</td>\n",
       "      <td>0.0</td>\n",
       "      <td>3.473176e-08</td>\n",
       "      <td>0.0</td>\n",
       "      <td>1</td>\n",
       "    </tr>\n",
       "    <tr>\n",
       "      <th>1</th>\n",
       "      <td>American Samoa</td>\n",
       "      <td>2.680168e-08</td>\n",
       "      <td>0.000151</td>\n",
       "      <td>0.000000</td>\n",
       "      <td>0.000000</td>\n",
       "      <td>0.000000</td>\n",
       "      <td>0.000015</td>\n",
       "      <td>0.795909</td>\n",
       "      <td>0.000003</td>\n",
       "      <td>8.741948e-07</td>\n",
       "      <td>...</td>\n",
       "      <td>7.347029e-16</td>\n",
       "      <td>1.232945e-15</td>\n",
       "      <td>0.0</td>\n",
       "      <td>0.0</td>\n",
       "      <td>0.0</td>\n",
       "      <td>0.0</td>\n",
       "      <td>0.0</td>\n",
       "      <td>3.642025e-11</td>\n",
       "      <td>0.0</td>\n",
       "      <td>1</td>\n",
       "    </tr>\n",
       "    <tr>\n",
       "      <th>2</th>\n",
       "      <td>Andorra</td>\n",
       "      <td>1.633649e-08</td>\n",
       "      <td>0.000071</td>\n",
       "      <td>0.000000</td>\n",
       "      <td>0.000000</td>\n",
       "      <td>0.000000</td>\n",
       "      <td>0.000024</td>\n",
       "      <td>0.991545</td>\n",
       "      <td>0.000004</td>\n",
       "      <td>5.023006e-07</td>\n",
       "      <td>...</td>\n",
       "      <td>1.807977e-15</td>\n",
       "      <td>3.076855e-15</td>\n",
       "      <td>0.0</td>\n",
       "      <td>0.0</td>\n",
       "      <td>0.0</td>\n",
       "      <td>0.0</td>\n",
       "      <td>0.0</td>\n",
       "      <td>1.734321e-11</td>\n",
       "      <td>0.0</td>\n",
       "      <td>1</td>\n",
       "    </tr>\n",
       "    <tr>\n",
       "      <th>3</th>\n",
       "      <td>Anguilla</td>\n",
       "      <td>1.206155e-09</td>\n",
       "      <td>0.000033</td>\n",
       "      <td>0.000000</td>\n",
       "      <td>0.000000</td>\n",
       "      <td>0.000000</td>\n",
       "      <td>0.000008</td>\n",
       "      <td>0.000000</td>\n",
       "      <td>0.000000</td>\n",
       "      <td>6.500361e-07</td>\n",
       "      <td>...</td>\n",
       "      <td>7.693835e-18</td>\n",
       "      <td>1.426338e-18</td>\n",
       "      <td>0.0</td>\n",
       "      <td>0.0</td>\n",
       "      <td>0.0</td>\n",
       "      <td>0.0</td>\n",
       "      <td>0.0</td>\n",
       "      <td>9.237948e-13</td>\n",
       "      <td>0.0</td>\n",
       "      <td>1</td>\n",
       "    </tr>\n",
       "    <tr>\n",
       "      <th>4</th>\n",
       "      <td>Antigua and Barbuda</td>\n",
       "      <td>1.562477e-07</td>\n",
       "      <td>0.000268</td>\n",
       "      <td>0.000000</td>\n",
       "      <td>0.000000</td>\n",
       "      <td>0.000000</td>\n",
       "      <td>0.000066</td>\n",
       "      <td>-0.625557</td>\n",
       "      <td>-0.000003</td>\n",
       "      <td>1.822748e-06</td>\n",
       "      <td>...</td>\n",
       "      <td>-4.953548e-15</td>\n",
       "      <td>-6.710833e-15</td>\n",
       "      <td>0.0</td>\n",
       "      <td>0.0</td>\n",
       "      <td>0.0</td>\n",
       "      <td>0.0</td>\n",
       "      <td>0.0</td>\n",
       "      <td>4.727019e-11</td>\n",
       "      <td>0.0</td>\n",
       "      <td>1</td>\n",
       "    </tr>\n",
       "  </tbody>\n",
       "</table>\n",
       "<p>5 rows × 796 columns</p>\n",
       "</div>"
      ],
      "text/plain": [
       "variable                   id  normalized__abs_energy  \\\n",
       "0                     Albania            2.119579e-04   \n",
       "1              American Samoa            2.680168e-08   \n",
       "2                     Andorra            1.633649e-08   \n",
       "3                    Anguilla            1.206155e-09   \n",
       "4         Antigua and Barbuda            1.562477e-07   \n",
       "\n",
       "variable  normalized__absolute_sum_of_changes  \\\n",
       "0                                    0.006893   \n",
       "1                                    0.000151   \n",
       "2                                    0.000071   \n",
       "3                                    0.000033   \n",
       "4                                    0.000268   \n",
       "\n",
       "variable  normalized__agg_autocorrelation__f_agg_\"mean\"  \\\n",
       "0                                             -0.027466   \n",
       "1                                              0.000000   \n",
       "2                                              0.000000   \n",
       "3                                              0.000000   \n",
       "4                                              0.000000   \n",
       "\n",
       "variable  normalized__agg_autocorrelation__f_agg_\"median\"  \\\n",
       "0                                               -0.033881   \n",
       "1                                                0.000000   \n",
       "2                                                0.000000   \n",
       "3                                                0.000000   \n",
       "4                                                0.000000   \n",
       "\n",
       "variable  normalized__agg_autocorrelation__f_agg_\"var\"  \\\n",
       "0                                             0.081891   \n",
       "1                                             0.000000   \n",
       "2                                             0.000000   \n",
       "3                                             0.000000   \n",
       "4                                             0.000000   \n",
       "\n",
       "variable  normalized__agg_linear_trend__f_agg_\"max\"__chunk_len_10__attr_\"intercept\"  \\\n",
       "0                                                  0.001945                           \n",
       "1                                                  0.000015                           \n",
       "2                                                  0.000024                           \n",
       "3                                                  0.000008                           \n",
       "4                                                  0.000066                           \n",
       "\n",
       "variable  normalized__agg_linear_trend__f_agg_\"max\"__chunk_len_10__attr_\"rvalue\"  \\\n",
       "0                                                  0.575203                        \n",
       "1                                                  0.795909                        \n",
       "2                                                  0.991545                        \n",
       "3                                                  0.000000                        \n",
       "4                                                 -0.625557                        \n",
       "\n",
       "variable  normalized__agg_linear_trend__f_agg_\"max\"__chunk_len_10__attr_\"slope\"  \\\n",
       "0                                                  0.000042                       \n",
       "1                                                  0.000003                       \n",
       "2                                                  0.000004                       \n",
       "3                                                  0.000000                       \n",
       "4                                                 -0.000003                       \n",
       "\n",
       "variable  normalized__agg_linear_trend__f_agg_\"max\"__chunk_len_10__attr_\"stderr\"  \\\n",
       "0                                              2.692675e-05                        \n",
       "1                                              8.741948e-07                        \n",
       "2                                              5.023006e-07                        \n",
       "3                                              6.500361e-07                        \n",
       "4                                              1.822748e-06                        \n",
       "\n",
       "variable  ...    normalized__time_reversal_asymmetry_statistic__lag_2  \\\n",
       "0         ...                                         1.975375e-10      \n",
       "1         ...                                         7.347029e-16      \n",
       "2         ...                                         1.807977e-15      \n",
       "3         ...                                         7.693835e-18      \n",
       "4         ...                                        -4.953548e-15      \n",
       "\n",
       "variable  normalized__time_reversal_asymmetry_statistic__lag_3  \\\n",
       "0                                              2.426309e-10      \n",
       "1                                              1.232945e-15      \n",
       "2                                              3.076855e-15      \n",
       "3                                              1.426338e-18      \n",
       "4                                             -6.710833e-15      \n",
       "\n",
       "variable  normalized__value_count__value_-inf  \\\n",
       "0                                         0.0   \n",
       "1                                         0.0   \n",
       "2                                         0.0   \n",
       "3                                         0.0   \n",
       "4                                         0.0   \n",
       "\n",
       "variable  normalized__value_count__value_0  normalized__value_count__value_1  \\\n",
       "0                                      0.0                               0.0   \n",
       "1                                      0.0                               0.0   \n",
       "2                                      0.0                               0.0   \n",
       "3                                      0.0                               0.0   \n",
       "4                                      0.0                               0.0   \n",
       "\n",
       "variable  normalized__value_count__value_inf  \\\n",
       "0                                        0.0   \n",
       "1                                        0.0   \n",
       "2                                        0.0   \n",
       "3                                        0.0   \n",
       "4                                        0.0   \n",
       "\n",
       "variable  normalized__value_count__value_nan  normalized__variance  \\\n",
       "0                                        0.0          3.473176e-08   \n",
       "1                                        0.0          3.642025e-11   \n",
       "2                                        0.0          1.734321e-11   \n",
       "3                                        0.0          9.237948e-13   \n",
       "4                                        0.0          4.727019e-11   \n",
       "\n",
       "variable  normalized__variance_larger_than_standard_deviation  label  \n",
       "0                                                       0.0        1  \n",
       "1                                                       0.0        1  \n",
       "2                                                       0.0        1  \n",
       "3                                                       0.0        1  \n",
       "4                                                       0.0        1  \n",
       "\n",
       "[5 rows x 796 columns]"
      ]
     },
     "execution_count": 24,
     "metadata": {},
     "output_type": "execute_result"
    }
   ],
   "source": [
    "# check new df with added column as label \n",
    "data_after_impute.head()"
   ]
  },
  {
   "cell_type": "code",
   "execution_count": 25,
   "metadata": {},
   "outputs": [],
   "source": [
    "#data_after_impute.to_csv('Gdp-output.csv')"
   ]
  },
  {
   "cell_type": "code",
   "execution_count": 34,
   "metadata": {},
   "outputs": [],
   "source": [
    "#Split data into X(features),y \n",
    "y = data_after_impute['label']\n",
    "X = data_after_impute.drop(columns=['id','label'])"
   ]
  },
  {
   "cell_type": "code",
   "execution_count": 35,
   "metadata": {},
   "outputs": [
    {
     "data": {
      "text/plain": [
       "1    151\n",
       "0     33\n",
       "Name: label, dtype: int64"
      ]
     },
     "execution_count": 35,
     "metadata": {},
     "output_type": "execute_result"
    }
   ],
   "source": [
    "y.value_counts()"
   ]
  },
  {
   "cell_type": "code",
   "execution_count": 49,
   "metadata": {},
   "outputs": [],
   "source": [
    "# train and test split\n",
    "X_train, X_test, y_train, y_test = train_test_split(X, y, test_size=0.40, random_state=42)"
   ]
  },
  {
   "cell_type": "code",
   "execution_count": 52,
   "metadata": {},
   "outputs": [
    {
     "data": {
      "text/plain": [
       "1    84\n",
       "0    26\n",
       "Name: label, dtype: int64"
      ]
     },
     "execution_count": 52,
     "metadata": {},
     "output_type": "execute_result"
    }
   ],
   "source": [
    "y_train.value_counts()"
   ]
  },
  {
   "cell_type": "markdown",
   "metadata": {},
   "source": [
    "#### Lets try different classifiers on the data"
   ]
  },
  {
   "cell_type": "markdown",
   "metadata": {},
   "source": [
    "###### KNN with k ranging from 1 to 15"
   ]
  },
  {
   "cell_type": "code",
   "execution_count": 53,
   "metadata": {},
   "outputs": [
    {
     "name": "stdout",
     "output_type": "stream",
     "text": [
      "[0.8069471210340776, 0.7417287977632807, 0.8295197453092189, 0.81053834322127, 0.8461846461846462, 0.8069471210340776, 0.825516693163752, 0.825516693163752, 0.825516693163752, 0.8108108108108109, 0.825516693163752, 0.8461846461846462, 0.8327086210297889, 0.8108108108108109, 0.8327086210297889]\n"
     ]
    },
    {
     "data": {
      "image/png": "[encoded data removed]",
      "text/plain": [
       "<matplotlib.figure.Figure at 0x1a2149ac88>"
      ]
     },
     "metadata": {},
     "output_type": "display_data"
    }
   ],
   "source": [
    "#KNN for different k values\n",
    "kVals = [1,2,3,4,5,6,7,8,9,10,11,12,13,14,15]\n",
    "scores = []\n",
    "\n",
    "for k in kVals:\n",
    "    knn = KNeighborsClassifier(n_neighbors=k)\n",
    "    knn.fit(X_train,y_train)\n",
    "    pred = knn.predict(X_test)\n",
    "    scores.append(f1_score(y_test,pred,average='weighted'))\n",
    "    \n",
    "plt.plot(kVals,scores)    \n",
    "print(scores)  "
   ]
  },
  {
   "cell_type": "markdown",
   "metadata": {},
   "source": [
    "#### lets Evaluate KNN Model\n",
    "You can see that we are getting best f1 score ** 0.8461 ** with **k = 5.** Lets set k and check classfication report and Confusion matrix for same."
   ]
  },
  {
   "cell_type": "code",
   "execution_count": 54,
   "metadata": {},
   "outputs": [
    {
     "name": "stdout",
     "output_type": "stream",
     "text": [
      "             precision    recall  f1-score   support\n",
      "\n",
      "          0       0.17      0.14      0.15         7\n",
      "          1       0.91      0.93      0.92        67\n",
      "\n",
      "avg / total       0.84      0.85      0.85        74\n",
      "\n",
      "F1 Score:  0.8461846461846462\n",
      "Accuracy is:  0.8513513513513513\n"
     ]
    },
    {
     "data": {
      "image/png": "[encoded data removed]",
      "text/plain": [
       "<matplotlib.figure.Figure at 0x1a223e06a0>"
      ]
     },
     "metadata": {},
     "output_type": "display_data"
    }
   ],
   "source": [
    "knn = KNeighborsClassifier(n_neighbors=5)\n",
    "knn.fit(X_train,y_train)\n",
    "pred = knn.predict(X_test)\n",
    "dsf = classification_report(y_test,pred)\n",
    "print(dsf)\n",
    "f1 = f1_score(y_test,pred,average='weighted') \n",
    "print('F1 Score: ',f1)\n",
    "acc = accuracy_score(y_test,pred)\n",
    "print('Accuracy is: ',acc)\n",
    "plotConfusion(confusion_matrix(y_test,pred))"
   ]
  },
  {
   "cell_type": "markdown",
   "metadata": {},
   "source": [
    "#### Random Forest Classifier"
   ]
  },
  {
   "cell_type": "code",
   "execution_count": 55,
   "metadata": {},
   "outputs": [
    {
     "name": "stdout",
     "output_type": "stream",
     "text": [
      "F1 Score:  0.8977955346650999\n",
      "Accuracy Score:  0.8783783783783784\n"
     ]
    }
   ],
   "source": [
    "rf_classifier = RandomForestClassifier(n_estimators=10, random_state = 42)\n",
    "rf_classifier.fit(X_train,y_train)\n",
    "pred = rf_classifier.predict(X_test)\n",
    "print(\"F1 Score: \", metrics.f1_score(y_test,pred, average='weighted'))\n",
    "print(\"Accuracy Score: \", accuracy_score(y_test,pred))"
   ]
  },
  {
   "cell_type": "markdown",
   "metadata": {},
   "source": [
    "#### Fine tuninng Random Forest for different number of estimators"
   ]
  },
  {
   "cell_type": "code",
   "execution_count": 56,
   "metadata": {},
   "outputs": [
    {
     "data": {
      "text/plain": [
       "[0.9291807432432433,\n",
       " 0.8977955346650999,\n",
       " 0.8952968716748244,\n",
       " 0.8977955346650999,\n",
       " 0.8952968716748244,\n",
       " 0.8851448851448851,\n",
       " 0.8952968716748244,\n",
       " 0.9160188340114901,\n",
       " 0.9055743243243244,\n",
       " 0.9160188340114901,\n",
       " 0.9160188340114901,\n",
       " 0.9055743243243244]"
      ]
     },
     "execution_count": 56,
     "metadata": {},
     "output_type": "execute_result"
    },
    {
     "data": {
      "image/png": "[encoded data removed]",
      "text/plain": [
       "<matplotlib.figure.Figure at 0x1c24f2f0b8>"
      ]
     },
     "metadata": {},
     "output_type": "display_data"
    }
   ],
   "source": [
    "#Ensemble Random Forest Classifier Fine Tunning\n",
    "estimators = [5,10,15,20,30,35,40,45,50,100,200,300]\n",
    "f1_scores = []\n",
    "for e in estimators:\n",
    "    rf_classifier = RandomForestClassifier(n_estimators=e, random_state = 42)\n",
    "    rf_classifier.fit(X_train,y_train)\n",
    "    pred = rf_classifier.predict(X_test)\n",
    "    f1_scores.append(f1_score(y_test,pred,average='weighted'))\n",
    "    \n",
    "plt.plot(estimators,f1_scores) \n",
    "f1_scores"
   ]
  },
  {
   "cell_type": "markdown",
   "metadata": {},
   "source": [
    "#### Lets fine tune for number of features with best number of estimator from above analysis"
   ]
  },
  {
   "cell_type": "code",
   "execution_count": 58,
   "metadata": {},
   "outputs": [
    {
     "name": "stdout",
     "output_type": "stream",
     "text": [
      "F1 Score:  0.9291807432432433\n",
      "Accuracy Score:  0.918918918918919\n"
     ]
    }
   ],
   "source": [
    "rf_classifier = RandomForestClassifier(n_estimators=5, random_state = 42)\n",
    "rf_classifier.fit(X_train,y_train)\n",
    "pred = rf_classifier.predict(X_test)\n",
    "print(\"F1 Score: \", metrics.f1_score(y_test,pred, average='weighted'))\n",
    "print(\"Accuracy Score: \", accuracy_score(y_test,pred))"
   ]
  },
  {
   "cell_type": "code",
   "execution_count": 59,
   "metadata": {},
   "outputs": [
    {
     "name": "stdout",
     "output_type": "stream",
     "text": [
      "[0.9160188340114901, 0.9022407022407024, 0.9126688430684837, 0.8920242151576301, 0.9291807432432433, 0.8977955346650999, 0.8819679054054054, 0.948914823914824, 0.9126688430684837, 0.8583614864864864, 0.8650828247602441]\n"
     ]
    },
    {
     "data": {
      "image/png": "[encoded data removed]",
      "text/plain": [
       "<matplotlib.figure.Figure at 0x1c25241a90>"
      ]
     },
     "metadata": {},
     "output_type": "display_data"
    }
   ],
   "source": [
    "no_of_features = [10,20,30,40,50,100,200,300,400,500,600]\n",
    "f1_scores = []\n",
    "for e in no_of_features:\n",
    "    rf_classifier = RandomForestClassifier(max_features = e ,n_estimators=5,random_state = 42)\n",
    "    rf_classifier.fit(X_train,y_train)\n",
    "    pred = rf_classifier.predict(X_test)\n",
    "    f1_scores.append(f1_score(y_test,pred,average='weighted'))\n",
    "    \n",
    "plt.plot(no_of_features,f1_scores) \n",
    "print(f1_scores)"
   ]
  },
  {
   "cell_type": "code",
   "execution_count": 60,
   "metadata": {
    "scrolled": true
   },
   "outputs": [
    {
     "name": "stdout",
     "output_type": "stream",
     "text": [
      "F1 Score:  0.948914823914824\n",
      "Accuracy Score:  0.9459459459459459\n"
     ]
    }
   ],
   "source": [
    "rf_classifier = RandomForestClassifier(n_estimators=5,max_features=300, random_state = 42)\n",
    "rf_classifier.fit(X_train,y_train)\n",
    "pred = rf_classifier.predict(X_test)\n",
    "print(\"F1 Score: \", metrics.f1_score(y_test,pred, average='weighted'))\n",
    "print(\"Accuracy Score: \", accuracy_score(y_test,pred))\n",
    "cr = classification_report(y_test,pred)\n",
    "cm = confusion_matrix(y_test,pred)\n"
   ]
  },
  {
   "cell_type": "markdown",
   "metadata": {},
   "source": [
    "#### This is the best combination we got for RFC lets evaluate it"
   ]
  },
  {
   "cell_type": "code",
   "execution_count": 61,
   "metadata": {},
   "outputs": [
    {
     "name": "stdout",
     "output_type": "stream",
     "text": [
      "             precision    recall  f1-score   support\n",
      "\n",
      "          0       0.67      0.86      0.75         7\n",
      "          1       0.98      0.96      0.97        67\n",
      "\n",
      "avg / total       0.95      0.95      0.95        74\n",
      "\n"
     ]
    },
    {
     "data": {
      "image/png": "[encoded data removed]",
      "text/plain": [
       "<matplotlib.figure.Figure at 0x1a223e0390>"
      ]
     },
     "metadata": {},
     "output_type": "display_data"
    }
   ],
   "source": [
    "print(cr)\n",
    "plotConfusion(cm)"
   ]
  },
  {
   "cell_type": "markdown",
   "metadata": {},
   "source": [
    "#### Logistic regression model"
   ]
  },
  {
   "cell_type": "code",
   "execution_count": 62,
   "metadata": {},
   "outputs": [
    {
     "name": "stdout",
     "output_type": "stream",
     "text": [
      "F1 Score:  0.7960457397421902\n",
      "Accuracy Score:  0.7702702702702703\n"
     ]
    }
   ],
   "source": [
    "#Logistic Regression\n",
    "logmodel = LogisticRegression()\n",
    "logmodel.fit(X_train,y_train)\n",
    "pred = logmodel.predict(X_test)\n",
    "print(\"F1 Score: \", metrics.f1_score(y_test,pred, average='weighted'))\n",
    "print(\"Accuracy Score: \", accuracy_score(y_test,pred))"
   ]
  },
  {
   "cell_type": "markdown",
   "metadata": {},
   "source": [
    "#### Extra tree classifier"
   ]
  },
  {
   "cell_type": "code",
   "execution_count": 63,
   "metadata": {},
   "outputs": [
    {
     "name": "stdout",
     "output_type": "stream",
     "text": [
      "F1 Score:  0.9291807432432433\n",
      "Accuracy Score:  0.918918918918919\n"
     ]
    }
   ],
   "source": [
    "#ExtraTreeClassifier\n",
    "model = ExtraTreesClassifier(n_estimators=5,random_state=42)\n",
    "model.fit(X_train, y_train)\n",
    "pred = model.predict(X_test)\n",
    "print(\"F1 Score: \", metrics.f1_score(y_test,pred, average='weighted'))\n",
    "print(\"Accuracy Score: \", accuracy_score(y_test,pred))"
   ]
  },
  {
   "cell_type": "code",
   "execution_count": 65,
   "metadata": {},
   "outputs": [
    {
     "name": "stdout",
     "output_type": "stream",
     "text": [
      "[0.9291807432432433, 0.8920242151576301, 0.9160188340114901, 0.8952968716748244, 0.9291807432432433, 0.9400134528653502, 0.9291807432432433, 0.9511203511203511, 0.9400134528653502, 0.9081159081159081, 0.9081159081159081, 0.8952968716748244]\n"
     ]
    },
    {
     "data": {
      "image/png": "[encoded data removed]",
      "text/plain": [
       "<matplotlib.figure.Figure at 0x1c24439e10>"
      ]
     },
     "metadata": {},
     "output_type": "display_data"
    }
   ],
   "source": [
    "estimators = [5,10,15,20,30,35,40,45,50,100,200,300]\n",
    "f1_scores = []\n",
    "for e in estimators:\n",
    "    model = ExtraTreesClassifier(n_estimators=e,random_state=42)\n",
    "    model.fit(X_train, y_train)\n",
    "    pred = model.predict(X_test)\n",
    "    f1_scores.append(f1_score(y_test,pred,average='weighted'))\n",
    "    \n",
    "plt.plot(estimators,f1_scores) \n",
    "print(f1_scores)"
   ]
  },
  {
   "cell_type": "code",
   "execution_count": 68,
   "metadata": {},
   "outputs": [
    {
     "name": "stdout",
     "output_type": "stream",
     "text": [
      "F1 Score:  0.9511203511203511\n",
      "Accuracy Score:  0.9459459459459459\n"
     ]
    }
   ],
   "source": [
    "model = ExtraTreesClassifier(n_estimators=45,random_state=42)\n",
    "model.fit(X_train, y_train)\n",
    "pred = model.predict(X_test)\n",
    "print(\"F1 Score: \", metrics.f1_score(y_test,pred, average='weighted'))\n",
    "print(\"Accuracy Score: \", accuracy_score(y_test,pred))"
   ]
  },
  {
   "cell_type": "markdown",
   "metadata": {},
   "source": [
    "#### fine tune for max_features"
   ]
  },
  {
   "cell_type": "code",
   "execution_count": 69,
   "metadata": {},
   "outputs": [
    {
     "name": "stdout",
     "output_type": "stream",
     "text": [
      "[0.8952968716748244, 0.9400134528653502, 0.9160188340114901, 0.9160188340114901, 0.8952968716748244, 0.9185642335248635, 0.9185642335248635, 0.9266805266805267, 0.9400134528653502, 0.9400134528653502, 0.9625723613150644, 0.9291807432432433, 0.9400134528653502, 0.9400134528653502]\n"
     ]
    },
    {
     "data": {
      "image/png": "[encoded data removed]",
      "text/plain": [
       "<matplotlib.figure.Figure at 0x1c22a69128>"
      ]
     },
     "metadata": {},
     "output_type": "display_data"
    }
   ],
   "source": [
    "no_of_features = [10,20,30,40,50,100,200,300,400,500,600,700,750,790]\n",
    "f1_scores = []\n",
    "for e in no_of_features:\n",
    "    model = ExtraTreesClassifier(max_features=e,n_estimators=45,random_state=42)\n",
    "    model.fit(X_train, y_train)\n",
    "    pred = model.predict(X_test)\n",
    "    f1_scores.append(f1_score(y_test,pred,average='weighted'))\n",
    "    \n",
    "plt.plot(no_of_features,f1_scores) \n",
    "print(f1_scores)"
   ]
  },
  {
   "cell_type": "code",
   "execution_count": 70,
   "metadata": {},
   "outputs": [
    {
     "name": "stdout",
     "output_type": "stream",
     "text": [
      "F1 Score:  0.9625723613150644\n",
      "Accuracy Score:  0.9594594594594594\n"
     ]
    }
   ],
   "source": [
    "model = ExtraTreesClassifier(n_estimators=45,max_features=600,random_state=42)\n",
    "model.fit(X_train, y_train)\n",
    "pred = model.predict(X_test)\n",
    "print(\"F1 Score: \", metrics.f1_score(y_test,pred, average='weighted'))\n",
    "print(\"Accuracy Score: \", accuracy_score(y_test,pred))\n",
    "cr = classification_report(y_test,pred)\n",
    "cm = confusion_matrix(y_test,pred)"
   ]
  },
  {
   "cell_type": "code",
   "execution_count": null,
   "metadata": {},
   "outputs": [],
   "source": []
  },
  {
   "cell_type": "code",
   "execution_count": 71,
   "metadata": {},
   "outputs": [
    {
     "name": "stdout",
     "output_type": "stream",
     "text": [
      "             precision    recall  f1-score   support\n",
      "\n",
      "          0       0.70      1.00      0.82         7\n",
      "          1       1.00      0.96      0.98        67\n",
      "\n",
      "avg / total       0.97      0.96      0.96        74\n",
      "\n"
     ]
    },
    {
     "data": {
      "image/png": "[encoded data removed]",
      "text/plain": [
       "<matplotlib.figure.Figure at 0x1c249fa278>"
      ]
     },
     "metadata": {},
     "output_type": "display_data"
    }
   ],
   "source": [
    "print(cr)\n",
    "plotConfusion(cm)"
   ]
  },
  {
   "cell_type": "markdown",
   "metadata": {},
   "source": [
    "#### Recursive Feature Elimination "
   ]
  },
  {
   "cell_type": "code",
   "execution_count": null,
   "metadata": {},
   "outputs": [],
   "source": []
  },
  {
   "cell_type": "code",
   "execution_count": 72,
   "metadata": {},
   "outputs": [
    {
     "name": "stdout",
     "output_type": "stream",
     "text": [
      "Optimal number of features : 21\n",
      "Best features : Index(['normalized__fft_coefficient__coeff_3__attr_\"imag\"',\n",
      "       'normalized__fft_coefficient__coeff_3__attr_\"real\"',\n",
      "       'normalized__fft_coefficient__coeff_4__attr_\"abs\"',\n",
      "       'normalized__fft_coefficient__coeff_4__attr_\"angle\"',\n",
      "       'normalized__fft_coefficient__coeff_4__attr_\"imag\"',\n",
      "       'normalized__fft_coefficient__coeff_4__attr_\"real\"',\n",
      "       'normalized__fft_coefficient__coeff_5__attr_\"real\"',\n",
      "       'normalized__index_mass_quantile__q_0.1',\n",
      "       'normalized__last_location_of_maximum',\n",
      "       'normalized__longest_strike_above_mean', 'normalized__maximum',\n",
      "       'normalized__mean', 'normalized__mean_abs_change',\n",
      "       'normalized__mean_second_derivative_central',\n",
      "       'normalized__number_cwt_peaks__n_5', 'normalized__number_peaks__n_1',\n",
      "       'normalized__number_peaks__n_5',\n",
      "       'normalized__partial_autocorrelation__lag_4',\n",
      "       'normalized__quantile__q_0.8', 'normalized__range_count__max_1__min_-1',\n",
      "       'normalized__ratio_beyond_r_sigma__r_1.5'],\n",
      "      dtype='object', name='variable')\n"
     ]
    }
   ],
   "source": [
    "# The \"accuracy\" scoring is proportional to the number of correct classifications\n",
    "clf_rf_4 = RandomForestClassifier() \n",
    "rfecv = RFECV(estimator=clf_rf_4, step=1, cv=5,scoring='accuracy')   #5-fold cross-validation\n",
    "rfecv = rfecv.fit(X_train, y_train)\n",
    "\n",
    "print('Optimal number of features :', rfecv.n_features_)\n",
    "print('Best features :', X_train.columns[rfecv.support_])"
   ]
  },
  {
   "cell_type": "code",
   "execution_count": 73,
   "metadata": {},
   "outputs": [],
   "source": [
    "cols = X_train.columns[rfecv.support_]"
   ]
  },
  {
   "cell_type": "code",
   "execution_count": 74,
   "metadata": {},
   "outputs": [],
   "source": [
    "X = X[cols]"
   ]
  },
  {
   "cell_type": "code",
   "execution_count": 75,
   "metadata": {},
   "outputs": [],
   "source": [
    "X_train, X_test, y_train, y_test = train_test_split(X, y, test_size=0.40, random_state=42)"
   ]
  },
  {
   "cell_type": "code",
   "execution_count": 76,
   "metadata": {},
   "outputs": [
    {
     "name": "stdout",
     "output_type": "stream",
     "text": [
      "             precision    recall  f1-score   support\n",
      "\n",
      "          0       0.31      0.57      0.40         7\n",
      "          1       0.95      0.87      0.91        67\n",
      "\n",
      "avg / total       0.89      0.84      0.86        74\n",
      "\n",
      "Accuracy is:  0.8378378378378378\n"
     ]
    }
   ],
   "source": [
    "knn = KNeighborsClassifier(n_neighbors=10)\n",
    "knn.fit(X_train,y_train)\n",
    "pred = knn.predict(X_test)\n",
    "dsf = classification_report(y_test,pred)\n",
    "acc = accuracy_score(y_test,pred) \n",
    "print(dsf)\n",
    "print('Accuracy is: ',acc)"
   ]
  },
  {
   "cell_type": "code",
   "execution_count": 78,
   "metadata": {},
   "outputs": [
    {
     "name": "stdout",
     "output_type": "stream",
     "text": [
      "[0.8108108108108109, 0.7567567567567568, 0.8243243243243243, 0.7702702702702703, 0.7972972972972973, 0.7837837837837838, 0.8108108108108109, 0.7432432432432432, 0.8243243243243243, 0.8378378378378378, 0.8513513513513513, 0.8108108108108109, 0.8513513513513513, 0.8108108108108109, 0.8513513513513513]\n"
     ]
    },
    {
     "data": {
      "image/png": "[encoded data removed]",
      "text/plain": [
       "<matplotlib.figure.Figure at 0x1c23b20320>"
      ]
     },
     "metadata": {},
     "output_type": "display_data"
    }
   ],
   "source": [
    "#KNN for different k values\n",
    "kVals = [1,2,3,4,5,6,7,8,9,10,11,12,13,14,15]\n",
    "scores = []\n",
    "\n",
    "for k in kVals:\n",
    "    knn = KNeighborsClassifier(n_neighbors=k)\n",
    "    knn.fit(X_train,y_train)\n",
    "    pred = knn.predict(X_test)\n",
    "    scores.append(accuracy_score(y_test,pred))\n",
    "    \n",
    "plt.plot(kVals,scores)    \n",
    "print(scores) "
   ]
  },
  {
   "cell_type": "code",
   "execution_count": 79,
   "metadata": {},
   "outputs": [
    {
     "name": "stdout",
     "output_type": "stream",
     "text": [
      "[0.8877170839451933, 0.8920242151576301, 0.9055743243243244, 0.8851448851448851, 0.8952968716748244, 0.8952968716748244, 0.8952968716748244, 0.8952968716748244, 0.8952968716748244, 0.9160188340114901, 0.9266805266805267, 0.9266805266805267]\n"
     ]
    },
    {
     "data": {
      "image/png": "[encoded data removed]",
      "text/plain": [
       "<matplotlib.figure.Figure at 0x1c23aa2668>"
      ]
     },
     "metadata": {},
     "output_type": "display_data"
    }
   ],
   "source": [
    "#Ensemble Random Forest Classifier Fine Tunning\n",
    "estimators = [5,10,15,20,30,35,40,45,50,100,200,300]\n",
    "f1_scores = []\n",
    "for e in estimators:\n",
    "    rf_classifier = RandomForestClassifier(n_estimators=e, random_state = 42)\n",
    "    rf_classifier.fit(X_train,y_train)\n",
    "    pred = rf_classifier.predict(X_test)\n",
    "    f1_scores.append(f1_score(y_test,pred,average='weighted'))\n",
    "    \n",
    "plt.plot(estimators,f1_scores) \n",
    "print(f1_scores)"
   ]
  },
  {
   "cell_type": "code",
   "execution_count": 80,
   "metadata": {},
   "outputs": [
    {
     "name": "stdout",
     "output_type": "stream",
     "text": [
      "             precision    recall  f1-score   support\n",
      "\n",
      "          0       0.60      0.86      0.71         7\n",
      "          1       0.98      0.94      0.96        67\n",
      "\n",
      "avg / total       0.95      0.93      0.94        74\n",
      "\n",
      "Accuracy is:  0.9324324324324325\n"
     ]
    }
   ],
   "source": [
    "rf_classifier = RandomForestClassifier(n_estimators=250, random_state = 42)\n",
    "rf_classifier.fit(X_train,y_train)\n",
    "pred = rf_classifier.predict(X_test)\n",
    "dsf = classification_report(y_test,pred)\n",
    "acc = accuracy_score(y_test,pred) \n",
    "print(dsf)\n",
    "print('Accuracy is: ',acc)"
   ]
  },
  {
   "cell_type": "code",
   "execution_count": 81,
   "metadata": {},
   "outputs": [],
   "source": [
    "# We obtained best results without Feature selection RFE"
   ]
  },
  {
   "cell_type": "markdown",
   "metadata": {},
   "source": [
    "##### Lets Try Clustering "
   ]
  },
  {
   "cell_type": "code",
   "execution_count": 82,
   "metadata": {},
   "outputs": [],
   "source": [
    "y = data_after_impute['label']\n",
    "X = data_after_impute.drop(columns=['id','label'])"
   ]
  },
  {
   "cell_type": "code",
   "execution_count": 83,
   "metadata": {},
   "outputs": [
    {
     "name": "stdout",
     "output_type": "stream",
     "text": [
      "             precision    recall  f1-score   support\n",
      "\n",
      "          0       0.18      1.00      0.31        33\n",
      "          1       1.00      0.01      0.01       151\n",
      "\n",
      "avg / total       0.85      0.18      0.07       184\n",
      "\n"
     ]
    },
    {
     "data": {
      "image/png": "[encoded data removed]",
      "text/plain": [
       "<matplotlib.figure.Figure at 0x1c22a1c898>"
      ]
     },
     "metadata": {},
     "output_type": "display_data"
    }
   ],
   "source": [
    "model = KMeans(n_clusters=2,n_init=400,random_state=42,max_iter=1000)\n",
    "model.fit(X)\n",
    "y_pred = model.labels_\n",
    "y_arr = np.array(y)\n",
    "accuracy_score(y_arr,y_pred)\n",
    "print(classification_report(y_arr,y_pred))\n",
    "plotConfusion(confusion_matrix(y_arr,y_pred))"
   ]
  },
  {
   "cell_type": "code",
   "execution_count": 84,
   "metadata": {},
   "outputs": [
    {
     "data": {
      "image/png": "[encoded data removed]",
      "text/plain": [
       "<matplotlib.figure.Figure at 0x1c262787f0>"
      ]
     },
     "metadata": {},
     "output_type": "display_data"
    }
   ],
   "source": [
    "from sklearn.preprocessing import MinMaxScaler,StandardScaler\n",
    "scaler = StandardScaler()\n",
    "scaled_df = scaler.fit_transform(X)\n",
    "scaled_df = pd.DataFrame(scaled_df)\n",
    "pca = PCA(n_components=2)  \n",
    "X_pca = pca.fit_transform(scaled_df)  \n",
    "df = pd.DataFrame(X_pca)\n",
    "df.head()\n",
    "a = df[0]\n",
    "b = df [1]\n",
    "plt.scatter(a,b,alpha=0.5,c=y,cmap='viridis')\n",
    "plt.xlabel('x')\n",
    "plt.ylabel('y')\n",
    "plt.show()"
   ]
  },
  {
   "cell_type": "code",
   "execution_count": null,
   "metadata": {},
   "outputs": [],
   "source": []
  },
  {
   "cell_type": "code",
   "execution_count": 85,
   "metadata": {},
   "outputs": [
    {
     "name": "stdout",
     "output_type": "stream",
     "text": [
      "             precision    recall  f1-score   support\n",
      "\n",
      "          0       0.18      1.00      0.31        33\n",
      "          1       1.00      0.01      0.01       151\n",
      "\n",
      "avg / total       0.85      0.18      0.07       184\n",
      "\n"
     ]
    },
    {
     "data": {
      "image/png": "[encoded data removed]",
      "text/plain": [
       "<matplotlib.figure.Figure at 0x1c2626c470>"
      ]
     },
     "metadata": {},
     "output_type": "display_data"
    }
   ],
   "source": [
    "model = KMeans(n_clusters=2,n_init=100,random_state=42,precompute_distances=True,max_iter=1000)\n",
    "model.fit(X_pca)\n",
    "y_pred = model.labels_\n",
    "accuracy_score(y_arr,y_pred)\n",
    "print(classification_report(y_arr,y_pred))\n",
    "plotConfusion(confusion_matrix(y_arr,y_pred))"
   ]
  },
  {
   "cell_type": "code",
   "execution_count": 86,
   "metadata": {},
   "outputs": [
    {
     "data": {
      "image/png": "[encoded data removed]",
      "text/plain": [
       "<matplotlib.figure.Figure at 0x1c23ab8128>"
      ]
     },
     "metadata": {},
     "output_type": "display_data"
    }
   ],
   "source": [
    "plt.scatter(a,b,alpha=0.5,c=y_pred,cmap='viridis')\n",
    "plt.xlabel('x')\n",
    "plt.ylabel('y')\n",
    "plt.show()"
   ]
  },
  {
   "cell_type": "code",
   "execution_count": 87,
   "metadata": {},
   "outputs": [
    {
     "data": {
      "image/png": "[encoded data removed]",
      "text/plain": [
       "<matplotlib.figure.Figure at 0x1c26203898>"
      ]
     },
     "metadata": {},
     "output_type": "display_data"
    }
   ],
   "source": [
    "scaler = MinMaxScaler()\n",
    "scaled_df = scaler.fit_transform(X)\n",
    "scaled_df = pd.DataFrame(scaled_df)\n",
    "pca = PCA(n_components=2)  \n",
    "X_pca = pca.fit_transform(scaled_df)  \n",
    "df = pd.DataFrame(X_pca)\n",
    "df.head()\n",
    "a = df[0]\n",
    "b = df [1]\n",
    "plt.scatter(a,b,alpha=0.5,c=y,cmap='viridis')\n",
    "plt.xlabel('x')\n",
    "plt.ylabel('y')\n",
    "plt.show()"
   ]
  },
  {
   "cell_type": "code",
   "execution_count": 88,
   "metadata": {},
   "outputs": [
    {
     "name": "stdout",
     "output_type": "stream",
     "text": [
      "             precision    recall  f1-score   support\n",
      "\n",
      "          0       0.00      0.00      0.00        33\n",
      "          1       0.80      0.87      0.83       151\n",
      "\n",
      "avg / total       0.66      0.71      0.68       184\n",
      "\n"
     ]
    },
    {
     "data": {
      "image/png": "[encoded data removed]",
      "text/plain": [
       "<matplotlib.figure.Figure at 0x1c23b28b00>"
      ]
     },
     "metadata": {},
     "output_type": "display_data"
    }
   ],
   "source": [
    "model = KMeans(n_clusters=2,n_init=100,random_state=42,precompute_distances=True,max_iter=1000)\n",
    "model.fit(X_pca)\n",
    "y_pred = model.labels_\n",
    "accuracy_score(y_arr,y_pred)\n",
    "print(classification_report(y_arr,y_pred))\n",
    "plotConfusion(confusion_matrix(y_arr,y_pred))"
   ]
  },
  {
   "cell_type": "code",
   "execution_count": null,
   "metadata": {},
   "outputs": [],
   "source": []
  },
  {
   "cell_type": "code",
   "execution_count": 89,
   "metadata": {},
   "outputs": [],
   "source": [
    "def testFunctions(dimensions,scaled_df,y_arr):\n",
    "    pca = PCA(n_components=dimensions)  \n",
    "    X_pca = pca.fit_transform(scaled_df)\n",
    "    model = KMeans(n_clusters=2,n_init=100,random_state=42,precompute_distances=True,max_iter=1000)\n",
    "    model.fit(X_pca)\n",
    "    y_pred = model.labels_\n",
    "    score = f1_score(y_pred,y_arr,average='weighted')\n",
    "    return score"
   ]
  },
  {
   "cell_type": "code",
   "execution_count": 91,
   "metadata": {},
   "outputs": [
    {
     "name": "stdout",
     "output_type": "stream",
     "text": [
      "[0.3040180055620933, 0.30396643783371474, 0.30396643783371474, 0.30396643783371474, 0.30396643783371474, 0.30396643783371474, 0.30396643783371474, 0.30396643783371474, 0.30396643783371474, 0.30396643783371474, 0.30396643783371474, 0.30396643783371474, 0.30396643783371474, 0.30396643783371474, 0.30396643783371474]\n"
     ]
    },
    {
     "data": {
      "image/png": "[encoded data removed]",
      "text/plain": [
       "<matplotlib.figure.Figure at 0x1c23ab8518>"
      ]
     },
     "metadata": {},
     "output_type": "display_data"
    }
   ],
   "source": [
    "scaler = StandardScaler()\n",
    "scaled_df = scaler.fit_transform(X)\n",
    "scaled_df = pd.DataFrame(scaled_df)\n",
    "\n",
    "dimensions_ = [1,2,3,4,5,6,7,8,9,10,11,12,13,14,15]\n",
    "scores = []\n",
    "for dim in dimensions_:\n",
    "    scores.append(testFunctions(dim,scaled_df,y_arr))\n",
    "\n",
    "plt.plot(dimensions_,scores)    \n",
    "print(scores)"
   ]
  },
  {
   "cell_type": "code",
   "execution_count": 92,
   "metadata": {},
   "outputs": [
    {
     "name": "stdout",
     "output_type": "stream",
     "text": [
      "             precision    recall  f1-score   support\n",
      "\n",
      "          0       0.18      1.00      0.31        33\n",
      "          1       1.00      0.01      0.01       151\n",
      "\n",
      "avg / total       0.85      0.18      0.07       184\n",
      "\n"
     ]
    },
    {
     "data": {
      "image/png": "[encoded data removed]",
      "text/plain": [
       "<matplotlib.figure.Figure at 0x1c23b28198>"
      ]
     },
     "metadata": {},
     "output_type": "display_data"
    }
   ],
   "source": [
    "pca = PCA(n_components=14)  \n",
    "X_pca = pca.fit_transform(scaled_df)\n",
    "model = KMeans(n_clusters=2,n_init=100,random_state=42,precompute_distances=True,max_iter=1000)\n",
    "model.fit(X_pca)\n",
    "y_pred = model.labels_\n",
    "print(classification_report(y_arr,y_pred))\n",
    "plotConfusion(confusion_matrix(y_arr,y_pred))"
   ]
  },
  {
   "cell_type": "code",
   "execution_count": null,
   "metadata": {},
   "outputs": [],
   "source": []
  }
 ],
 "metadata": {
  "kernelspec": {
   "display_name": "Python 3",
   "language": "python",
   "name": "python3"
  },
  "language_info": {
   "codemirror_mode": {
    "name": "ipython",
    "version": 3
   },
   "file_extension": ".py",
   "mimetype": "text/x-python",
   "name": "python",
   "nbconvert_exporter": "python",
   "pygments_lexer": "ipython3",
   "version": "3.6.4"
  }
 },
 "nbformat": 4,
 "nbformat_minor": 2
}
