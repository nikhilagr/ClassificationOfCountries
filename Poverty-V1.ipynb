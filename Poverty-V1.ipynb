{
 "cells": [
  {
   "cell_type": "code",
   "execution_count": 1,
   "metadata": {},
   "outputs": [
    {
     "name": "stderr",
     "output_type": "stream",
     "text": [
      "/anaconda3/lib/python3.6/site-packages/sklearn/ensemble/weight_boosting.py:29: DeprecationWarning: numpy.core.umath_tests is an internal NumPy module and should not be imported. It will be removed in a future NumPy release.\n",
      "  from numpy.core.umath_tests import inner1d\n"
     ]
    }
   ],
   "source": [
    "import pandas as pd\n",
    "import numpy as np\n",
    "from sklearn.model_selection import train_test_split,cross_val_score,KFold\n",
    "from sklearn import metrics\n",
    "from sklearn.metrics import classification_report,confusion_matrix,accuracy_score,f1_score\n",
    "from sklearn.neighbors import KNeighborsClassifier\n",
    "from sklearn.ensemble import RandomForestClassifier\n",
    "from sklearn.ensemble import ExtraTreesClassifier\n",
    "from sklearn import preprocessing\n",
    "\n",
    "\n",
    "#libraries for model performance evaluation\n",
    "from sklearn import metrics\n",
    "from sklearn.metrics import classification_report,confusion_matrix,accuracy_score,f1_score\n",
    "\n",
    "#libraries for visualization\n",
    "import matplotlib.pyplot as plt\n",
    "import seaborn as sns\n",
    "%matplotlib inline\n",
    "from matplotlib.colors import ListedColormap\n",
    "\n",
    "# libraries for computation\n",
    "import pandas as pd\n",
    "import numpy as np\n",
    "\n",
    "#library for train test split\n",
    "from sklearn.model_selection import train_test_split,cross_val_score,KFold\n",
    "\n",
    "#library for preprocessing\n",
    "from sklearn.preprocessing import StandardScaler\n",
    "\n",
    "#library for Dimensionality reduction\n",
    "from sklearn.decomposition import PCA\n",
    "from sklearn.decomposition import TruncatedSVD\n",
    "\n",
    "#Library for feature selection techniques\n",
    "from sklearn.feature_selection import RFE\n",
    "from sklearn.feature_selection import RFECV\n",
    "from sklearn.feature_selection import SelectKBest\n",
    "from sklearn.feature_selection import chi2\n",
    "from sklearn.feature_selection import SelectFromModel\n",
    "\n",
    "#libraries for various ML models \n",
    "from sklearn import svm\n",
    "from sklearn.svm import SVC\n",
    "from sklearn.linear_model import LogisticRegression\n",
    "from sklearn.neural_network import MLPClassifier\n",
    "from sklearn.neighbors import KNeighborsClassifier\n",
    "from sklearn.tree import DecisionTreeClassifier\n",
    "#ensemble models\n",
    "from sklearn.ensemble import BaggingClassifier\n",
    "from sklearn.ensemble import AdaBoostClassifier\n",
    "from sklearn.ensemble import GradientBoostingClassifier\n",
    "from sklearn.ensemble import VotingClassifier\n",
    "from sklearn.ensemble import RandomForestClassifier\n",
    "from sklearn.ensemble import ExtraTreesClassifier\n",
    "from sklearn.ensemble import RandomForestRegressor\n",
    "\n",
    "\n",
    "\n",
    "#libraries for model performance evaluation\n",
    "from sklearn import metrics\n",
    "from sklearn.metrics import classification_report,confusion_matrix,accuracy_score,f1_score\n",
    "\n",
    "#libraries for visualization\n",
    "import matplotlib.pyplot as plt\n",
    "import seaborn as sns\n",
    "%matplotlib inline\n",
    "from matplotlib.colors import ListedColormap\n",
    "\n",
    "import warnings\n",
    "warnings.filterwarnings('ignore')"
   ]
  },
  {
   "cell_type": "markdown",
   "metadata": {},
   "source": [
    "### Read Data from CSV"
   ]
  },
  {
   "cell_type": "code",
   "execution_count": 2,
   "metadata": {},
   "outputs": [],
   "source": [
    "data = pd.read_csv('Poverty.csv')"
   ]
  },
  {
   "cell_type": "code",
   "execution_count": 3,
   "metadata": {},
   "outputs": [
    {
     "data": {
      "text/html": [
       "<div>\n",
       "<style scoped>\n",
       "    .dataframe tbody tr th:only-of-type {\n",
       "        vertical-align: middle;\n",
       "    }\n",
       "\n",
       "    .dataframe tbody tr th {\n",
       "        vertical-align: top;\n",
       "    }\n",
       "\n",
       "    .dataframe thead th {\n",
       "        text-align: right;\n",
       "    }\n",
       "</style>\n",
       "<table border=\"1\" class=\"dataframe\">\n",
       "  <thead>\n",
       "    <tr style=\"text-align: right;\">\n",
       "      <th></th>\n",
       "      <th>Country or Area</th>\n",
       "      <th>Year</th>\n",
       "      <th>Value</th>\n",
       "      <th>Value Footnotes</th>\n",
       "    </tr>\n",
       "  </thead>\n",
       "  <tbody>\n",
       "    <tr>\n",
       "      <th>0</th>\n",
       "      <td>Albania</td>\n",
       "      <td>2012</td>\n",
       "      <td>1.1</td>\n",
       "      <td>1.0</td>\n",
       "    </tr>\n",
       "    <tr>\n",
       "      <th>1</th>\n",
       "      <td>Albania</td>\n",
       "      <td>2008</td>\n",
       "      <td>0.4</td>\n",
       "      <td>1.0</td>\n",
       "    </tr>\n",
       "    <tr>\n",
       "      <th>2</th>\n",
       "      <td>Albania</td>\n",
       "      <td>2005</td>\n",
       "      <td>1.1</td>\n",
       "      <td>1.0</td>\n",
       "    </tr>\n",
       "    <tr>\n",
       "      <th>3</th>\n",
       "      <td>Albania</td>\n",
       "      <td>2002</td>\n",
       "      <td>2.0</td>\n",
       "      <td>1.0</td>\n",
       "    </tr>\n",
       "    <tr>\n",
       "      <th>4</th>\n",
       "      <td>Albania</td>\n",
       "      <td>1996</td>\n",
       "      <td>1.1</td>\n",
       "      <td>1.0</td>\n",
       "    </tr>\n",
       "  </tbody>\n",
       "</table>\n",
       "</div>"
      ],
      "text/plain": [
       "  Country or Area  Year  Value  Value Footnotes\n",
       "0         Albania  2012    1.1              1.0\n",
       "1         Albania  2008    0.4              1.0\n",
       "2         Albania  2005    1.1              1.0\n",
       "3         Albania  2002    2.0              1.0\n",
       "4         Albania  1996    1.1              1.0"
      ]
     },
     "execution_count": 3,
     "metadata": {},
     "output_type": "execute_result"
    }
   ],
   "source": [
    "data.head()"
   ]
  },
  {
   "cell_type": "markdown",
   "metadata": {},
   "source": [
    "#### lets drop extra column Value Footnotes"
   ]
  },
  {
   "cell_type": "code",
   "execution_count": 4,
   "metadata": {},
   "outputs": [
    {
     "data": {
      "text/html": [
       "<div>\n",
       "<style scoped>\n",
       "    .dataframe tbody tr th:only-of-type {\n",
       "        vertical-align: middle;\n",
       "    }\n",
       "\n",
       "    .dataframe tbody tr th {\n",
       "        vertical-align: top;\n",
       "    }\n",
       "\n",
       "    .dataframe thead th {\n",
       "        text-align: right;\n",
       "    }\n",
       "</style>\n",
       "<table border=\"1\" class=\"dataframe\">\n",
       "  <thead>\n",
       "    <tr style=\"text-align: right;\">\n",
       "      <th></th>\n",
       "      <th>Country or Area</th>\n",
       "      <th>Year</th>\n",
       "      <th>Value</th>\n",
       "    </tr>\n",
       "  </thead>\n",
       "  <tbody>\n",
       "    <tr>\n",
       "      <th>0</th>\n",
       "      <td>Albania</td>\n",
       "      <td>2012</td>\n",
       "      <td>1.1</td>\n",
       "    </tr>\n",
       "    <tr>\n",
       "      <th>1</th>\n",
       "      <td>Albania</td>\n",
       "      <td>2008</td>\n",
       "      <td>0.4</td>\n",
       "    </tr>\n",
       "    <tr>\n",
       "      <th>2</th>\n",
       "      <td>Albania</td>\n",
       "      <td>2005</td>\n",
       "      <td>1.1</td>\n",
       "    </tr>\n",
       "    <tr>\n",
       "      <th>3</th>\n",
       "      <td>Albania</td>\n",
       "      <td>2002</td>\n",
       "      <td>2.0</td>\n",
       "    </tr>\n",
       "    <tr>\n",
       "      <th>4</th>\n",
       "      <td>Albania</td>\n",
       "      <td>1996</td>\n",
       "      <td>1.1</td>\n",
       "    </tr>\n",
       "  </tbody>\n",
       "</table>\n",
       "</div>"
      ],
      "text/plain": [
       "  Country or Area  Year  Value\n",
       "0         Albania  2012    1.1\n",
       "1         Albania  2008    0.4\n",
       "2         Albania  2005    1.1\n",
       "3         Albania  2002    2.0\n",
       "4         Albania  1996    1.1"
      ]
     },
     "execution_count": 4,
     "metadata": {},
     "output_type": "execute_result"
    }
   ],
   "source": [
    "# Read data from csv and print the head\n",
    "data = data.drop(columns=['Value Footnotes'])\n",
    "data.head(5)"
   ]
  },
  {
   "cell_type": "markdown",
   "metadata": {},
   "source": [
    "#### Get data insights"
   ]
  },
  {
   "cell_type": "code",
   "execution_count": 5,
   "metadata": {
    "scrolled": true
   },
   "outputs": [
    {
     "name": "stdout",
     "output_type": "stream",
     "text": [
      "<class 'pandas.core.frame.DataFrame'>\n",
      "RangeIndex: 1614 entries, 0 to 1613\n",
      "Data columns (total 3 columns):\n",
      "Country or Area    1614 non-null object\n",
      "Year               1614 non-null object\n",
      "Value              1602 non-null float64\n",
      "dtypes: float64(1), object(2)\n",
      "memory usage: 37.9+ KB\n"
     ]
    }
   ],
   "source": [
    "data.info()"
   ]
  },
  {
   "cell_type": "markdown",
   "metadata": {},
   "source": [
    "#### it seems column Value has some missing values or NaN "
   ]
  },
  {
   "cell_type": "code",
   "execution_count": 6,
   "metadata": {},
   "outputs": [],
   "source": [
    "vals = data['Value']"
   ]
  },
  {
   "cell_type": "code",
   "execution_count": 7,
   "metadata": {
    "scrolled": true
   },
   "outputs": [
    {
     "data": {
      "text/html": [
       "<div>\n",
       "<style scoped>\n",
       "    .dataframe tbody tr th:only-of-type {\n",
       "        vertical-align: middle;\n",
       "    }\n",
       "\n",
       "    .dataframe tbody tr th {\n",
       "        vertical-align: top;\n",
       "    }\n",
       "\n",
       "    .dataframe thead th {\n",
       "        text-align: right;\n",
       "    }\n",
       "</style>\n",
       "<table border=\"1\" class=\"dataframe\">\n",
       "  <thead>\n",
       "    <tr style=\"text-align: right;\">\n",
       "      <th></th>\n",
       "      <th>Country or Area</th>\n",
       "      <th>Year</th>\n",
       "      <th>Value</th>\n",
       "    </tr>\n",
       "  </thead>\n",
       "  <tbody>\n",
       "    <tr>\n",
       "      <th>1602</th>\n",
       "      <td>footnoteSeqID</td>\n",
       "      <td>Footnote</td>\n",
       "      <td>NaN</td>\n",
       "    </tr>\n",
       "    <tr>\n",
       "      <th>1603</th>\n",
       "      <td>1</td>\n",
       "      <td>Estimated from unit-record consumption data.</td>\n",
       "      <td>NaN</td>\n",
       "    </tr>\n",
       "    <tr>\n",
       "      <th>1604</th>\n",
       "      <td>2</td>\n",
       "      <td>Estimated from grouped consumption data.</td>\n",
       "      <td>NaN</td>\n",
       "    </tr>\n",
       "    <tr>\n",
       "      <th>1605</th>\n",
       "      <td>3</td>\n",
       "      <td>Estimated from unit-record income data. Urban ...</td>\n",
       "      <td>NaN</td>\n",
       "    </tr>\n",
       "    <tr>\n",
       "      <th>1606</th>\n",
       "      <td>4</td>\n",
       "      <td>Estimated from grouped income data. Urban only...</td>\n",
       "      <td>NaN</td>\n",
       "    </tr>\n",
       "    <tr>\n",
       "      <th>1607</th>\n",
       "      <td>5</td>\n",
       "      <td>Estimated from unit-record income data.</td>\n",
       "      <td>NaN</td>\n",
       "    </tr>\n",
       "    <tr>\n",
       "      <th>1608</th>\n",
       "      <td>6</td>\n",
       "      <td>Estimated from grouped income data.</td>\n",
       "      <td>NaN</td>\n",
       "    </tr>\n",
       "    <tr>\n",
       "      <th>1609</th>\n",
       "      <td>7</td>\n",
       "      <td>Estimated from grouped consumption data. Natio...</td>\n",
       "      <td>NaN</td>\n",
       "    </tr>\n",
       "    <tr>\n",
       "      <th>1610</th>\n",
       "      <td>8</td>\n",
       "      <td>Retrieved on Sept 19, 2018 from World Bank, Po...</td>\n",
       "      <td>NaN</td>\n",
       "    </tr>\n",
       "    <tr>\n",
       "      <th>1611</th>\n",
       "      <td>9</td>\n",
       "      <td>Estimated from unit-record consumption data. P...</td>\n",
       "      <td>NaN</td>\n",
       "    </tr>\n",
       "    <tr>\n",
       "      <th>1612</th>\n",
       "      <td>10</td>\n",
       "      <td>Estimated from grouped consumption data. PPP i...</td>\n",
       "      <td>NaN</td>\n",
       "    </tr>\n",
       "    <tr>\n",
       "      <th>1613</th>\n",
       "      <td>12</td>\n",
       "      <td>Estimated from unit-record consumption data. N...</td>\n",
       "      <td>NaN</td>\n",
       "    </tr>\n",
       "  </tbody>\n",
       "</table>\n",
       "</div>"
      ],
      "text/plain": [
       "     Country or Area                                               Year  Value\n",
       "1602   footnoteSeqID                                           Footnote    NaN\n",
       "1603               1       Estimated from unit-record consumption data.    NaN\n",
       "1604               2           Estimated from grouped consumption data.    NaN\n",
       "1605               3  Estimated from unit-record income data. Urban ...    NaN\n",
       "1606               4  Estimated from grouped income data. Urban only...    NaN\n",
       "1607               5            Estimated from unit-record income data.    NaN\n",
       "1608               6                Estimated from grouped income data.    NaN\n",
       "1609               7  Estimated from grouped consumption data. Natio...    NaN\n",
       "1610               8  Retrieved on Sept 19, 2018 from World Bank, Po...    NaN\n",
       "1611               9  Estimated from unit-record consumption data. P...    NaN\n",
       "1612              10  Estimated from grouped consumption data. PPP i...    NaN\n",
       "1613              12  Estimated from unit-record consumption data. N...    NaN"
      ]
     },
     "execution_count": 7,
     "metadata": {},
     "output_type": "execute_result"
    }
   ],
   "source": [
    "d = data[ vals.isna() ]\n",
    "d"
   ]
  },
  {
   "cell_type": "markdown",
   "metadata": {},
   "source": [
    "##### lets drop this entries"
   ]
  },
  {
   "cell_type": "code",
   "execution_count": 8,
   "metadata": {},
   "outputs": [],
   "source": [
    "data  = data [0:1602] "
   ]
  },
  {
   "cell_type": "code",
   "execution_count": 9,
   "metadata": {},
   "outputs": [
    {
     "name": "stdout",
     "output_type": "stream",
     "text": [
      "<class 'pandas.core.frame.DataFrame'>\n",
      "RangeIndex: 1602 entries, 0 to 1601\n",
      "Data columns (total 3 columns):\n",
      "Country or Area    1602 non-null object\n",
      "Year               1602 non-null object\n",
      "Value              1602 non-null float64\n",
      "dtypes: float64(1), object(2)\n",
      "memory usage: 37.6+ KB\n"
     ]
    }
   ],
   "source": [
    "data.info()"
   ]
  },
  {
   "cell_type": "code",
   "execution_count": null,
   "metadata": {},
   "outputs": [],
   "source": []
  },
  {
   "cell_type": "markdown",
   "metadata": {},
   "source": [
    "### Lets normalize data"
   ]
  },
  {
   "cell_type": "code",
   "execution_count": 10,
   "metadata": {},
   "outputs": [],
   "source": [
    "# Normalize the value column and drop old column\n",
    "\n",
    "# Create x, where x the 'Value' column's values as floats\n",
    "x = data[['Value']].values.astype(float)\n",
    "\n",
    "# Create a minimum and maximum processor object\n",
    "min_max_scaler = preprocessing.MinMaxScaler()\n",
    "\n",
    "# Create an object to transform the data to fit minmax processor\n",
    "x_scaled = min_max_scaler.fit_transform(x)\n",
    "\n",
    "# Run the normalizer on the dataframe\n",
    "df_normalized = pd.DataFrame(x_scaled)\n",
    "df_normalized['normalized'] = pd.DataFrame(x_scaled)\n",
    "df_normalized.drop(columns=0,inplace=True)\n",
    "\n",
    "data_new = pd.concat([data,df_normalized ], axis=1)\n",
    "data_new.drop(columns='Value',inplace=True)"
   ]
  },
  {
   "cell_type": "code",
   "execution_count": 11,
   "metadata": {},
   "outputs": [
    {
     "data": {
      "text/html": [
       "<div>\n",
       "<style scoped>\n",
       "    .dataframe tbody tr th:only-of-type {\n",
       "        vertical-align: middle;\n",
       "    }\n",
       "\n",
       "    .dataframe tbody tr th {\n",
       "        vertical-align: top;\n",
       "    }\n",
       "\n",
       "    .dataframe thead th {\n",
       "        text-align: right;\n",
       "    }\n",
       "</style>\n",
       "<table border=\"1\" class=\"dataframe\">\n",
       "  <thead>\n",
       "    <tr style=\"text-align: right;\">\n",
       "      <th></th>\n",
       "      <th>Country or Area</th>\n",
       "      <th>Year</th>\n",
       "      <th>normalized</th>\n",
       "    </tr>\n",
       "  </thead>\n",
       "  <tbody>\n",
       "    <tr>\n",
       "      <th>0</th>\n",
       "      <td>Albania</td>\n",
       "      <td>2012</td>\n",
       "      <td>0.011690</td>\n",
       "    </tr>\n",
       "    <tr>\n",
       "      <th>1</th>\n",
       "      <td>Albania</td>\n",
       "      <td>2008</td>\n",
       "      <td>0.004251</td>\n",
       "    </tr>\n",
       "    <tr>\n",
       "      <th>2</th>\n",
       "      <td>Albania</td>\n",
       "      <td>2005</td>\n",
       "      <td>0.011690</td>\n",
       "    </tr>\n",
       "    <tr>\n",
       "      <th>3</th>\n",
       "      <td>Albania</td>\n",
       "      <td>2002</td>\n",
       "      <td>0.021254</td>\n",
       "    </tr>\n",
       "    <tr>\n",
       "      <th>4</th>\n",
       "      <td>Albania</td>\n",
       "      <td>1996</td>\n",
       "      <td>0.011690</td>\n",
       "    </tr>\n",
       "  </tbody>\n",
       "</table>\n",
       "</div>"
      ],
      "text/plain": [
       "  Country or Area  Year  normalized\n",
       "0         Albania  2012    0.011690\n",
       "1         Albania  2008    0.004251\n",
       "2         Albania  2005    0.011690\n",
       "3         Albania  2002    0.021254\n",
       "4         Albania  1996    0.011690"
      ]
     },
     "execution_count": 11,
     "metadata": {},
     "output_type": "execute_result"
    }
   ],
   "source": [
    "# Check new dataframe with normalized value\n",
    "data_new.head()"
   ]
  },
  {
   "cell_type": "markdown",
   "metadata": {},
   "source": [
    "#### Using tsfresh to extract features from data"
   ]
  },
  {
   "cell_type": "code",
   "execution_count": 12,
   "metadata": {},
   "outputs": [
    {
     "name": "stderr",
     "output_type": "stream",
     "text": [
      "Feature Extraction: 100%|██████████| 10/10 [00:12<00:00,  1.17s/it]\n"
     ]
    }
   ],
   "source": [
    "# Use TSFresh library to extract features from data \n",
    "from tsfresh import extract_features\n",
    "extracted_features = extract_features(data_new, column_id=\"Country or Area\", column_sort=\"Year\")"
   ]
  },
  {
   "cell_type": "code",
   "execution_count": 13,
   "metadata": {},
   "outputs": [
    {
     "data": {
      "text/html": [
       "<div>\n",
       "<style scoped>\n",
       "    .dataframe tbody tr th:only-of-type {\n",
       "        vertical-align: middle;\n",
       "    }\n",
       "\n",
       "    .dataframe tbody tr th {\n",
       "        vertical-align: top;\n",
       "    }\n",
       "\n",
       "    .dataframe thead th {\n",
       "        text-align: right;\n",
       "    }\n",
       "</style>\n",
       "<table border=\"1\" class=\"dataframe\">\n",
       "  <thead>\n",
       "    <tr style=\"text-align: right;\">\n",
       "      <th>variable</th>\n",
       "      <th>normalized__abs_energy</th>\n",
       "      <th>normalized__absolute_sum_of_changes</th>\n",
       "      <th>normalized__agg_autocorrelation__f_agg_\"mean\"</th>\n",
       "      <th>normalized__agg_autocorrelation__f_agg_\"median\"</th>\n",
       "      <th>normalized__agg_autocorrelation__f_agg_\"var\"</th>\n",
       "      <th>normalized__agg_linear_trend__f_agg_\"max\"__chunk_len_10__attr_\"intercept\"</th>\n",
       "      <th>normalized__agg_linear_trend__f_agg_\"max\"__chunk_len_10__attr_\"rvalue\"</th>\n",
       "      <th>normalized__agg_linear_trend__f_agg_\"max\"__chunk_len_10__attr_\"slope\"</th>\n",
       "      <th>normalized__agg_linear_trend__f_agg_\"max\"__chunk_len_10__attr_\"stderr\"</th>\n",
       "      <th>normalized__agg_linear_trend__f_agg_\"max\"__chunk_len_50__attr_\"intercept\"</th>\n",
       "      <th>...</th>\n",
       "      <th>normalized__time_reversal_asymmetry_statistic__lag_1</th>\n",
       "      <th>normalized__time_reversal_asymmetry_statistic__lag_2</th>\n",
       "      <th>normalized__time_reversal_asymmetry_statistic__lag_3</th>\n",
       "      <th>normalized__value_count__value_-inf</th>\n",
       "      <th>normalized__value_count__value_0</th>\n",
       "      <th>normalized__value_count__value_1</th>\n",
       "      <th>normalized__value_count__value_inf</th>\n",
       "      <th>normalized__value_count__value_nan</th>\n",
       "      <th>normalized__variance</th>\n",
       "      <th>normalized__variance_larger_than_standard_deviation</th>\n",
       "    </tr>\n",
       "    <tr>\n",
       "      <th>id</th>\n",
       "      <th></th>\n",
       "      <th></th>\n",
       "      <th></th>\n",
       "      <th></th>\n",
       "      <th></th>\n",
       "      <th></th>\n",
       "      <th></th>\n",
       "      <th></th>\n",
       "      <th></th>\n",
       "      <th></th>\n",
       "      <th></th>\n",
       "      <th></th>\n",
       "      <th></th>\n",
       "      <th></th>\n",
       "      <th></th>\n",
       "      <th></th>\n",
       "      <th></th>\n",
       "      <th></th>\n",
       "      <th></th>\n",
       "      <th></th>\n",
       "      <th></th>\n",
       "    </tr>\n",
       "  </thead>\n",
       "  <tbody>\n",
       "    <tr>\n",
       "      <th>Albania</th>\n",
       "      <td>0.000880</td>\n",
       "      <td>0.034006</td>\n",
       "      <td>-0.207301</td>\n",
       "      <td>-0.009288</td>\n",
       "      <td>0.123878</td>\n",
       "      <td>NaN</td>\n",
       "      <td>NaN</td>\n",
       "      <td>NaN</td>\n",
       "      <td>NaN</td>\n",
       "      <td>NaN</td>\n",
       "      <td>...</td>\n",
       "      <td>-0.000002</td>\n",
       "      <td>0.000000e+00</td>\n",
       "      <td>0.000000</td>\n",
       "      <td>0.0</td>\n",
       "      <td>0.0</td>\n",
       "      <td>0.0</td>\n",
       "      <td>0.0</td>\n",
       "      <td>0.0</td>\n",
       "      <td>0.000029</td>\n",
       "      <td>0.0</td>\n",
       "    </tr>\n",
       "    <tr>\n",
       "      <th>Algeria</th>\n",
       "      <td>0.008731</td>\n",
       "      <td>0.063762</td>\n",
       "      <td>-0.662088</td>\n",
       "      <td>-0.662088</td>\n",
       "      <td>0.236452</td>\n",
       "      <td>NaN</td>\n",
       "      <td>NaN</td>\n",
       "      <td>NaN</td>\n",
       "      <td>NaN</td>\n",
       "      <td>NaN</td>\n",
       "      <td>...</td>\n",
       "      <td>-0.000297</td>\n",
       "      <td>0.000000e+00</td>\n",
       "      <td>0.000000</td>\n",
       "      <td>0.0</td>\n",
       "      <td>0.0</td>\n",
       "      <td>0.0</td>\n",
       "      <td>0.0</td>\n",
       "      <td>0.0</td>\n",
       "      <td>0.000822</td>\n",
       "      <td>0.0</td>\n",
       "    </tr>\n",
       "    <tr>\n",
       "      <th>Angola</th>\n",
       "      <td>0.220140</td>\n",
       "      <td>0.023379</td>\n",
       "      <td>-1.000000</td>\n",
       "      <td>-1.000000</td>\n",
       "      <td>0.000000</td>\n",
       "      <td>NaN</td>\n",
       "      <td>NaN</td>\n",
       "      <td>NaN</td>\n",
       "      <td>NaN</td>\n",
       "      <td>NaN</td>\n",
       "      <td>...</td>\n",
       "      <td>0.000000</td>\n",
       "      <td>0.000000e+00</td>\n",
       "      <td>0.000000</td>\n",
       "      <td>0.0</td>\n",
       "      <td>0.0</td>\n",
       "      <td>0.0</td>\n",
       "      <td>0.0</td>\n",
       "      <td>0.0</td>\n",
       "      <td>0.000137</td>\n",
       "      <td>0.0</td>\n",
       "    </tr>\n",
       "    <tr>\n",
       "      <th>Argentina</th>\n",
       "      <td>0.063581</td>\n",
       "      <td>0.308183</td>\n",
       "      <td>0.080516</td>\n",
       "      <td>0.120244</td>\n",
       "      <td>0.337182</td>\n",
       "      <td>0.085724</td>\n",
       "      <td>-0.164281</td>\n",
       "      <td>-0.010627</td>\n",
       "      <td>0.063809</td>\n",
       "      <td>NaN</td>\n",
       "      <td>...</td>\n",
       "      <td>0.000003</td>\n",
       "      <td>1.680193e-08</td>\n",
       "      <td>0.000004</td>\n",
       "      <td>0.0</td>\n",
       "      <td>2.0</td>\n",
       "      <td>0.0</td>\n",
       "      <td>0.0</td>\n",
       "      <td>0.0</td>\n",
       "      <td>0.001046</td>\n",
       "      <td>0.0</td>\n",
       "    </tr>\n",
       "    <tr>\n",
       "      <th>Armenia</th>\n",
       "      <td>0.129814</td>\n",
       "      <td>0.243358</td>\n",
       "      <td>-0.419327</td>\n",
       "      <td>-0.443550</td>\n",
       "      <td>0.443094</td>\n",
       "      <td>0.205101</td>\n",
       "      <td>-1.000000</td>\n",
       "      <td>-0.180659</td>\n",
       "      <td>0.000000</td>\n",
       "      <td>NaN</td>\n",
       "      <td>...</td>\n",
       "      <td>-0.000626</td>\n",
       "      <td>-9.140289e-04</td>\n",
       "      <td>-0.000831</td>\n",
       "      <td>0.0</td>\n",
       "      <td>0.0</td>\n",
       "      <td>0.0</td>\n",
       "      <td>0.0</td>\n",
       "      <td>0.0</td>\n",
       "      <td>0.003868</td>\n",
       "      <td>0.0</td>\n",
       "    </tr>\n",
       "  </tbody>\n",
       "</table>\n",
       "<p>5 rows × 794 columns</p>\n",
       "</div>"
      ],
      "text/plain": [
       "variable   normalized__abs_energy  normalized__absolute_sum_of_changes  \\\n",
       "id                                                                       \n",
       "Albania                  0.000880                             0.034006   \n",
       "Algeria                  0.008731                             0.063762   \n",
       "Angola                   0.220140                             0.023379   \n",
       "Argentina                0.063581                             0.308183   \n",
       "Armenia                  0.129814                             0.243358   \n",
       "\n",
       "variable   normalized__agg_autocorrelation__f_agg_\"mean\"  \\\n",
       "id                                                         \n",
       "Albania                                        -0.207301   \n",
       "Algeria                                        -0.662088   \n",
       "Angola                                         -1.000000   \n",
       "Argentina                                       0.080516   \n",
       "Armenia                                        -0.419327   \n",
       "\n",
       "variable   normalized__agg_autocorrelation__f_agg_\"median\"  \\\n",
       "id                                                           \n",
       "Albania                                          -0.009288   \n",
       "Algeria                                          -0.662088   \n",
       "Angola                                           -1.000000   \n",
       "Argentina                                         0.120244   \n",
       "Armenia                                          -0.443550   \n",
       "\n",
       "variable   normalized__agg_autocorrelation__f_agg_\"var\"  \\\n",
       "id                                                        \n",
       "Albania                                        0.123878   \n",
       "Algeria                                        0.236452   \n",
       "Angola                                         0.000000   \n",
       "Argentina                                      0.337182   \n",
       "Armenia                                        0.443094   \n",
       "\n",
       "variable   normalized__agg_linear_trend__f_agg_\"max\"__chunk_len_10__attr_\"intercept\"  \\\n",
       "id                                                                                     \n",
       "Albania                                                  NaN                           \n",
       "Algeria                                                  NaN                           \n",
       "Angola                                                   NaN                           \n",
       "Argentina                                           0.085724                           \n",
       "Armenia                                             0.205101                           \n",
       "\n",
       "variable   normalized__agg_linear_trend__f_agg_\"max\"__chunk_len_10__attr_\"rvalue\"  \\\n",
       "id                                                                                  \n",
       "Albania                                                  NaN                        \n",
       "Algeria                                                  NaN                        \n",
       "Angola                                                   NaN                        \n",
       "Argentina                                          -0.164281                        \n",
       "Armenia                                            -1.000000                        \n",
       "\n",
       "variable   normalized__agg_linear_trend__f_agg_\"max\"__chunk_len_10__attr_\"slope\"  \\\n",
       "id                                                                                 \n",
       "Albania                                                  NaN                       \n",
       "Algeria                                                  NaN                       \n",
       "Angola                                                   NaN                       \n",
       "Argentina                                          -0.010627                       \n",
       "Armenia                                            -0.180659                       \n",
       "\n",
       "variable   normalized__agg_linear_trend__f_agg_\"max\"__chunk_len_10__attr_\"stderr\"  \\\n",
       "id                                                                                  \n",
       "Albania                                                  NaN                        \n",
       "Algeria                                                  NaN                        \n",
       "Angola                                                   NaN                        \n",
       "Argentina                                           0.063809                        \n",
       "Armenia                                             0.000000                        \n",
       "\n",
       "variable   normalized__agg_linear_trend__f_agg_\"max\"__chunk_len_50__attr_\"intercept\"  \\\n",
       "id                                                                                     \n",
       "Albania                                                  NaN                           \n",
       "Algeria                                                  NaN                           \n",
       "Angola                                                   NaN                           \n",
       "Argentina                                                NaN                           \n",
       "Armenia                                                  NaN                           \n",
       "\n",
       "variable                          ...                           \\\n",
       "id                                ...                            \n",
       "Albania                           ...                            \n",
       "Algeria                           ...                            \n",
       "Angola                            ...                            \n",
       "Argentina                         ...                            \n",
       "Armenia                           ...                            \n",
       "\n",
       "variable   normalized__time_reversal_asymmetry_statistic__lag_1  \\\n",
       "id                                                                \n",
       "Albania                                            -0.000002      \n",
       "Algeria                                            -0.000297      \n",
       "Angola                                              0.000000      \n",
       "Argentina                                           0.000003      \n",
       "Armenia                                            -0.000626      \n",
       "\n",
       "variable   normalized__time_reversal_asymmetry_statistic__lag_2  \\\n",
       "id                                                                \n",
       "Albania                                         0.000000e+00      \n",
       "Algeria                                         0.000000e+00      \n",
       "Angola                                          0.000000e+00      \n",
       "Argentina                                       1.680193e-08      \n",
       "Armenia                                        -9.140289e-04      \n",
       "\n",
       "variable   normalized__time_reversal_asymmetry_statistic__lag_3  \\\n",
       "id                                                                \n",
       "Albania                                             0.000000      \n",
       "Algeria                                             0.000000      \n",
       "Angola                                              0.000000      \n",
       "Argentina                                           0.000004      \n",
       "Armenia                                            -0.000831      \n",
       "\n",
       "variable   normalized__value_count__value_-inf  \\\n",
       "id                                               \n",
       "Albania                                    0.0   \n",
       "Algeria                                    0.0   \n",
       "Angola                                     0.0   \n",
       "Argentina                                  0.0   \n",
       "Armenia                                    0.0   \n",
       "\n",
       "variable   normalized__value_count__value_0  normalized__value_count__value_1  \\\n",
       "id                                                                              \n",
       "Albania                                 0.0                               0.0   \n",
       "Algeria                                 0.0                               0.0   \n",
       "Angola                                  0.0                               0.0   \n",
       "Argentina                               2.0                               0.0   \n",
       "Armenia                                 0.0                               0.0   \n",
       "\n",
       "variable   normalized__value_count__value_inf  \\\n",
       "id                                              \n",
       "Albania                                   0.0   \n",
       "Algeria                                   0.0   \n",
       "Angola                                    0.0   \n",
       "Argentina                                 0.0   \n",
       "Armenia                                   0.0   \n",
       "\n",
       "variable   normalized__value_count__value_nan  normalized__variance  \\\n",
       "id                                                                    \n",
       "Albania                                   0.0              0.000029   \n",
       "Algeria                                   0.0              0.000822   \n",
       "Angola                                    0.0              0.000137   \n",
       "Argentina                                 0.0              0.001046   \n",
       "Armenia                                   0.0              0.003868   \n",
       "\n",
       "variable   normalized__variance_larger_than_standard_deviation  \n",
       "id                                                              \n",
       "Albania                                                  0.0    \n",
       "Algeria                                                  0.0    \n",
       "Angola                                                   0.0    \n",
       "Argentina                                                0.0    \n",
       "Armenia                                                  0.0    \n",
       "\n",
       "[5 rows x 794 columns]"
      ]
     },
     "execution_count": 13,
     "metadata": {},
     "output_type": "execute_result"
    }
   ],
   "source": [
    "#Check extracted features\n",
    "extracted_features.head()"
   ]
  },
  {
   "cell_type": "code",
   "execution_count": 14,
   "metadata": {},
   "outputs": [
    {
     "data": {
      "text/plain": [
       "(175, 794)"
      ]
     },
     "execution_count": 14,
     "metadata": {},
     "output_type": "execute_result"
    }
   ],
   "source": [
    "#Check shape of new data with extracted features\n",
    "extracted_features.shape"
   ]
  },
  {
   "cell_type": "code",
   "execution_count": null,
   "metadata": {},
   "outputs": [],
   "source": []
  },
  {
   "cell_type": "code",
   "execution_count": 15,
   "metadata": {},
   "outputs": [
    {
     "data": {
      "text/plain": [
       "568"
      ]
     },
     "execution_count": 15,
     "metadata": {},
     "output_type": "execute_result"
    }
   ],
   "source": [
    "#Check if any columns contains Nan values (null values)\n",
    "list_cols_with_nan = extracted_features.columns[extracted_features.isna().any()].tolist()\n",
    "len(list_cols_with_nan)"
   ]
  },
  {
   "cell_type": "code",
   "execution_count": 16,
   "metadata": {},
   "outputs": [],
   "source": [
    "# it seems 568 columns out of 794 have some null values"
   ]
  },
  {
   "cell_type": "code",
   "execution_count": 17,
   "metadata": {},
   "outputs": [
    {
     "name": "stderr",
     "output_type": "stream",
     "text": [
      "WARNING:tsfresh.utilities.dataframe_functions:The columns ['normalized__agg_linear_trend__f_agg_\"max\"__chunk_len_50__attr_\"intercept\"'\n",
      " 'normalized__agg_linear_trend__f_agg_\"max\"__chunk_len_50__attr_\"rvalue\"'\n",
      " 'normalized__agg_linear_trend__f_agg_\"max\"__chunk_len_50__attr_\"slope\"'\n",
      " 'normalized__agg_linear_trend__f_agg_\"max\"__chunk_len_50__attr_\"stderr\"'\n",
      " 'normalized__agg_linear_trend__f_agg_\"mean\"__chunk_len_50__attr_\"intercept\"'\n",
      " 'normalized__agg_linear_trend__f_agg_\"mean\"__chunk_len_50__attr_\"rvalue\"'\n",
      " 'normalized__agg_linear_trend__f_agg_\"mean\"__chunk_len_50__attr_\"slope\"'\n",
      " 'normalized__agg_linear_trend__f_agg_\"mean\"__chunk_len_50__attr_\"stderr\"'\n",
      " 'normalized__agg_linear_trend__f_agg_\"min\"__chunk_len_50__attr_\"intercept\"'\n",
      " 'normalized__agg_linear_trend__f_agg_\"min\"__chunk_len_50__attr_\"rvalue\"'\n",
      " 'normalized__agg_linear_trend__f_agg_\"min\"__chunk_len_50__attr_\"slope\"'\n",
      " 'normalized__agg_linear_trend__f_agg_\"min\"__chunk_len_50__attr_\"stderr\"'\n",
      " 'normalized__agg_linear_trend__f_agg_\"var\"__chunk_len_50__attr_\"intercept\"'\n",
      " 'normalized__agg_linear_trend__f_agg_\"var\"__chunk_len_50__attr_\"rvalue\"'\n",
      " 'normalized__agg_linear_trend__f_agg_\"var\"__chunk_len_50__attr_\"slope\"'\n",
      " 'normalized__agg_linear_trend__f_agg_\"var\"__chunk_len_50__attr_\"stderr\"'\n",
      " 'normalized__fft_coefficient__coeff_16__attr_\"abs\"'\n",
      " 'normalized__fft_coefficient__coeff_16__attr_\"angle\"'\n",
      " 'normalized__fft_coefficient__coeff_16__attr_\"imag\"'\n",
      " 'normalized__fft_coefficient__coeff_16__attr_\"real\"'\n",
      " 'normalized__fft_coefficient__coeff_17__attr_\"abs\"'\n",
      " 'normalized__fft_coefficient__coeff_17__attr_\"angle\"'\n",
      " 'normalized__fft_coefficient__coeff_17__attr_\"imag\"'\n",
      " 'normalized__fft_coefficient__coeff_17__attr_\"real\"'\n",
      " 'normalized__fft_coefficient__coeff_18__attr_\"abs\"'\n",
      " 'normalized__fft_coefficient__coeff_18__attr_\"angle\"'\n",
      " 'normalized__fft_coefficient__coeff_18__attr_\"imag\"'\n",
      " 'normalized__fft_coefficient__coeff_18__attr_\"real\"'\n",
      " 'normalized__fft_coefficient__coeff_19__attr_\"abs\"'\n",
      " 'normalized__fft_coefficient__coeff_19__attr_\"angle\"'\n",
      " 'normalized__fft_coefficient__coeff_19__attr_\"imag\"'\n",
      " 'normalized__fft_coefficient__coeff_19__attr_\"real\"'\n",
      " 'normalized__fft_coefficient__coeff_20__attr_\"abs\"'\n",
      " 'normalized__fft_coefficient__coeff_20__attr_\"angle\"'\n",
      " 'normalized__fft_coefficient__coeff_20__attr_\"imag\"'\n",
      " 'normalized__fft_coefficient__coeff_20__attr_\"real\"'\n",
      " 'normalized__fft_coefficient__coeff_21__attr_\"abs\"'\n",
      " 'normalized__fft_coefficient__coeff_21__attr_\"angle\"'\n",
      " 'normalized__fft_coefficient__coeff_21__attr_\"imag\"'\n",
      " 'normalized__fft_coefficient__coeff_21__attr_\"real\"'\n",
      " 'normalized__fft_coefficient__coeff_22__attr_\"abs\"'\n",
      " 'normalized__fft_coefficient__coeff_22__attr_\"angle\"'\n",
      " 'normalized__fft_coefficient__coeff_22__attr_\"imag\"'\n",
      " 'normalized__fft_coefficient__coeff_22__attr_\"real\"'\n",
      " 'normalized__fft_coefficient__coeff_23__attr_\"abs\"'\n",
      " 'normalized__fft_coefficient__coeff_23__attr_\"angle\"'\n",
      " 'normalized__fft_coefficient__coeff_23__attr_\"imag\"'\n",
      " 'normalized__fft_coefficient__coeff_23__attr_\"real\"'\n",
      " 'normalized__fft_coefficient__coeff_24__attr_\"abs\"'\n",
      " 'normalized__fft_coefficient__coeff_24__attr_\"angle\"'\n",
      " 'normalized__fft_coefficient__coeff_24__attr_\"imag\"'\n",
      " 'normalized__fft_coefficient__coeff_24__attr_\"real\"'\n",
      " 'normalized__fft_coefficient__coeff_25__attr_\"abs\"'\n",
      " 'normalized__fft_coefficient__coeff_25__attr_\"angle\"'\n",
      " 'normalized__fft_coefficient__coeff_25__attr_\"imag\"'\n",
      " 'normalized__fft_coefficient__coeff_25__attr_\"real\"'\n",
      " 'normalized__fft_coefficient__coeff_26__attr_\"abs\"'\n",
      " 'normalized__fft_coefficient__coeff_26__attr_\"angle\"'\n",
      " 'normalized__fft_coefficient__coeff_26__attr_\"imag\"'\n",
      " 'normalized__fft_coefficient__coeff_26__attr_\"real\"'\n",
      " 'normalized__fft_coefficient__coeff_27__attr_\"abs\"'\n",
      " 'normalized__fft_coefficient__coeff_27__attr_\"angle\"'\n",
      " 'normalized__fft_coefficient__coeff_27__attr_\"imag\"'\n",
      " 'normalized__fft_coefficient__coeff_27__attr_\"real\"'\n",
      " 'normalized__fft_coefficient__coeff_28__attr_\"abs\"'\n",
      " 'normalized__fft_coefficient__coeff_28__attr_\"angle\"'\n",
      " 'normalized__fft_coefficient__coeff_28__attr_\"imag\"'\n",
      " 'normalized__fft_coefficient__coeff_28__attr_\"real\"'\n",
      " 'normalized__fft_coefficient__coeff_29__attr_\"abs\"'\n",
      " 'normalized__fft_coefficient__coeff_29__attr_\"angle\"'\n",
      " 'normalized__fft_coefficient__coeff_29__attr_\"imag\"'\n",
      " 'normalized__fft_coefficient__coeff_29__attr_\"real\"'\n",
      " 'normalized__fft_coefficient__coeff_30__attr_\"abs\"'\n",
      " 'normalized__fft_coefficient__coeff_30__attr_\"angle\"'\n",
      " 'normalized__fft_coefficient__coeff_30__attr_\"imag\"'\n",
      " 'normalized__fft_coefficient__coeff_30__attr_\"real\"'\n",
      " 'normalized__fft_coefficient__coeff_31__attr_\"abs\"'\n",
      " 'normalized__fft_coefficient__coeff_31__attr_\"angle\"'\n",
      " 'normalized__fft_coefficient__coeff_31__attr_\"imag\"'\n",
      " 'normalized__fft_coefficient__coeff_31__attr_\"real\"'\n",
      " 'normalized__fft_coefficient__coeff_32__attr_\"abs\"'\n",
      " 'normalized__fft_coefficient__coeff_32__attr_\"angle\"'\n",
      " 'normalized__fft_coefficient__coeff_32__attr_\"imag\"'\n",
      " 'normalized__fft_coefficient__coeff_32__attr_\"real\"'\n",
      " 'normalized__fft_coefficient__coeff_33__attr_\"abs\"'\n",
      " 'normalized__fft_coefficient__coeff_33__attr_\"angle\"'\n",
      " 'normalized__fft_coefficient__coeff_33__attr_\"imag\"'\n",
      " 'normalized__fft_coefficient__coeff_33__attr_\"real\"'\n",
      " 'normalized__fft_coefficient__coeff_34__attr_\"abs\"'\n",
      " 'normalized__fft_coefficient__coeff_34__attr_\"angle\"'\n",
      " 'normalized__fft_coefficient__coeff_34__attr_\"imag\"'\n",
      " 'normalized__fft_coefficient__coeff_34__attr_\"real\"'\n",
      " 'normalized__fft_coefficient__coeff_35__attr_\"abs\"'\n",
      " 'normalized__fft_coefficient__coeff_35__attr_\"angle\"'\n",
      " 'normalized__fft_coefficient__coeff_35__attr_\"imag\"'\n",
      " 'normalized__fft_coefficient__coeff_35__attr_\"real\"'\n",
      " 'normalized__fft_coefficient__coeff_36__attr_\"abs\"'\n",
      " 'normalized__fft_coefficient__coeff_36__attr_\"angle\"'\n",
      " 'normalized__fft_coefficient__coeff_36__attr_\"imag\"'\n",
      " 'normalized__fft_coefficient__coeff_36__attr_\"real\"'\n",
      " 'normalized__fft_coefficient__coeff_37__attr_\"abs\"'\n",
      " 'normalized__fft_coefficient__coeff_37__attr_\"angle\"'\n",
      " 'normalized__fft_coefficient__coeff_37__attr_\"imag\"'\n",
      " 'normalized__fft_coefficient__coeff_37__attr_\"real\"'\n",
      " 'normalized__fft_coefficient__coeff_38__attr_\"abs\"'\n",
      " 'normalized__fft_coefficient__coeff_38__attr_\"angle\"'\n",
      " 'normalized__fft_coefficient__coeff_38__attr_\"imag\"'\n",
      " 'normalized__fft_coefficient__coeff_38__attr_\"real\"'\n",
      " 'normalized__fft_coefficient__coeff_39__attr_\"abs\"'\n",
      " 'normalized__fft_coefficient__coeff_39__attr_\"angle\"'\n",
      " 'normalized__fft_coefficient__coeff_39__attr_\"imag\"'\n",
      " 'normalized__fft_coefficient__coeff_39__attr_\"real\"'\n",
      " 'normalized__fft_coefficient__coeff_40__attr_\"abs\"'\n",
      " 'normalized__fft_coefficient__coeff_40__attr_\"angle\"'\n",
      " 'normalized__fft_coefficient__coeff_40__attr_\"imag\"'\n",
      " 'normalized__fft_coefficient__coeff_40__attr_\"real\"'\n",
      " 'normalized__fft_coefficient__coeff_41__attr_\"abs\"'\n",
      " 'normalized__fft_coefficient__coeff_41__attr_\"angle\"'\n",
      " 'normalized__fft_coefficient__coeff_41__attr_\"imag\"'\n",
      " 'normalized__fft_coefficient__coeff_41__attr_\"real\"'\n",
      " 'normalized__fft_coefficient__coeff_42__attr_\"abs\"'\n",
      " 'normalized__fft_coefficient__coeff_42__attr_\"angle\"'\n",
      " 'normalized__fft_coefficient__coeff_42__attr_\"imag\"'\n",
      " 'normalized__fft_coefficient__coeff_42__attr_\"real\"'\n",
      " 'normalized__fft_coefficient__coeff_43__attr_\"abs\"'\n",
      " 'normalized__fft_coefficient__coeff_43__attr_\"angle\"'\n",
      " 'normalized__fft_coefficient__coeff_43__attr_\"imag\"'\n",
      " 'normalized__fft_coefficient__coeff_43__attr_\"real\"'\n",
      " 'normalized__fft_coefficient__coeff_44__attr_\"abs\"'\n",
      " 'normalized__fft_coefficient__coeff_44__attr_\"angle\"'\n",
      " 'normalized__fft_coefficient__coeff_44__attr_\"imag\"'\n",
      " 'normalized__fft_coefficient__coeff_44__attr_\"real\"'\n",
      " 'normalized__fft_coefficient__coeff_45__attr_\"abs\"'\n",
      " 'normalized__fft_coefficient__coeff_45__attr_\"angle\"'\n",
      " 'normalized__fft_coefficient__coeff_45__attr_\"imag\"'\n",
      " 'normalized__fft_coefficient__coeff_45__attr_\"real\"'\n",
      " 'normalized__fft_coefficient__coeff_46__attr_\"abs\"'\n",
      " 'normalized__fft_coefficient__coeff_46__attr_\"angle\"'\n",
      " 'normalized__fft_coefficient__coeff_46__attr_\"imag\"'\n",
      " 'normalized__fft_coefficient__coeff_46__attr_\"real\"'\n",
      " 'normalized__fft_coefficient__coeff_47__attr_\"abs\"'\n",
      " 'normalized__fft_coefficient__coeff_47__attr_\"angle\"'\n",
      " 'normalized__fft_coefficient__coeff_47__attr_\"imag\"'\n",
      " 'normalized__fft_coefficient__coeff_47__attr_\"real\"'\n",
      " 'normalized__fft_coefficient__coeff_48__attr_\"abs\"'\n",
      " 'normalized__fft_coefficient__coeff_48__attr_\"angle\"'\n",
      " 'normalized__fft_coefficient__coeff_48__attr_\"imag\"'\n",
      " 'normalized__fft_coefficient__coeff_48__attr_\"real\"'\n",
      " 'normalized__fft_coefficient__coeff_49__attr_\"abs\"'\n",
      " 'normalized__fft_coefficient__coeff_49__attr_\"angle\"'\n",
      " 'normalized__fft_coefficient__coeff_49__attr_\"imag\"'\n",
      " 'normalized__fft_coefficient__coeff_49__attr_\"real\"'\n",
      " 'normalized__fft_coefficient__coeff_50__attr_\"abs\"'\n",
      " 'normalized__fft_coefficient__coeff_50__attr_\"angle\"'\n",
      " 'normalized__fft_coefficient__coeff_50__attr_\"imag\"'\n",
      " 'normalized__fft_coefficient__coeff_50__attr_\"real\"'\n",
      " 'normalized__fft_coefficient__coeff_51__attr_\"abs\"'\n",
      " 'normalized__fft_coefficient__coeff_51__attr_\"angle\"'\n",
      " 'normalized__fft_coefficient__coeff_51__attr_\"imag\"'\n",
      " 'normalized__fft_coefficient__coeff_51__attr_\"real\"'\n",
      " 'normalized__fft_coefficient__coeff_52__attr_\"abs\"'\n",
      " 'normalized__fft_coefficient__coeff_52__attr_\"angle\"'\n",
      " 'normalized__fft_coefficient__coeff_52__attr_\"imag\"'\n",
      " 'normalized__fft_coefficient__coeff_52__attr_\"real\"'\n",
      " 'normalized__fft_coefficient__coeff_53__attr_\"abs\"'\n",
      " 'normalized__fft_coefficient__coeff_53__attr_\"angle\"'\n",
      " 'normalized__fft_coefficient__coeff_53__attr_\"imag\"'\n",
      " 'normalized__fft_coefficient__coeff_53__attr_\"real\"'\n",
      " 'normalized__fft_coefficient__coeff_54__attr_\"abs\"'\n",
      " 'normalized__fft_coefficient__coeff_54__attr_\"angle\"'\n",
      " 'normalized__fft_coefficient__coeff_54__attr_\"imag\"'\n",
      " 'normalized__fft_coefficient__coeff_54__attr_\"real\"'\n",
      " 'normalized__fft_coefficient__coeff_55__attr_\"abs\"'\n",
      " 'normalized__fft_coefficient__coeff_55__attr_\"angle\"'\n",
      " 'normalized__fft_coefficient__coeff_55__attr_\"imag\"'\n",
      " 'normalized__fft_coefficient__coeff_55__attr_\"real\"'\n",
      " 'normalized__fft_coefficient__coeff_56__attr_\"abs\"'\n",
      " 'normalized__fft_coefficient__coeff_56__attr_\"angle\"'\n",
      " 'normalized__fft_coefficient__coeff_56__attr_\"imag\"'\n",
      " 'normalized__fft_coefficient__coeff_56__attr_\"real\"'\n",
      " 'normalized__fft_coefficient__coeff_57__attr_\"abs\"'\n",
      " 'normalized__fft_coefficient__coeff_57__attr_\"angle\"'\n",
      " 'normalized__fft_coefficient__coeff_57__attr_\"imag\"'\n",
      " 'normalized__fft_coefficient__coeff_57__attr_\"real\"'\n",
      " 'normalized__fft_coefficient__coeff_58__attr_\"abs\"'\n",
      " 'normalized__fft_coefficient__coeff_58__attr_\"angle\"'\n",
      " 'normalized__fft_coefficient__coeff_58__attr_\"imag\"'\n",
      " 'normalized__fft_coefficient__coeff_58__attr_\"real\"'\n",
      " 'normalized__fft_coefficient__coeff_59__attr_\"abs\"'\n",
      " 'normalized__fft_coefficient__coeff_59__attr_\"angle\"'\n",
      " 'normalized__fft_coefficient__coeff_59__attr_\"imag\"'\n",
      " 'normalized__fft_coefficient__coeff_59__attr_\"real\"'\n",
      " 'normalized__fft_coefficient__coeff_60__attr_\"abs\"'\n",
      " 'normalized__fft_coefficient__coeff_60__attr_\"angle\"'\n",
      " 'normalized__fft_coefficient__coeff_60__attr_\"imag\"'\n",
      " 'normalized__fft_coefficient__coeff_60__attr_\"real\"'\n",
      " 'normalized__fft_coefficient__coeff_61__attr_\"abs\"'\n",
      " 'normalized__fft_coefficient__coeff_61__attr_\"angle\"'\n",
      " 'normalized__fft_coefficient__coeff_61__attr_\"imag\"'\n",
      " 'normalized__fft_coefficient__coeff_61__attr_\"real\"'\n",
      " 'normalized__fft_coefficient__coeff_62__attr_\"abs\"'\n",
      " 'normalized__fft_coefficient__coeff_62__attr_\"angle\"'\n",
      " 'normalized__fft_coefficient__coeff_62__attr_\"imag\"'\n",
      " 'normalized__fft_coefficient__coeff_62__attr_\"real\"'\n",
      " 'normalized__fft_coefficient__coeff_63__attr_\"abs\"'\n",
      " 'normalized__fft_coefficient__coeff_63__attr_\"angle\"'\n",
      " 'normalized__fft_coefficient__coeff_63__attr_\"imag\"'\n",
      " 'normalized__fft_coefficient__coeff_63__attr_\"real\"'\n",
      " 'normalized__fft_coefficient__coeff_64__attr_\"abs\"'\n",
      " 'normalized__fft_coefficient__coeff_64__attr_\"angle\"'\n",
      " 'normalized__fft_coefficient__coeff_64__attr_\"imag\"'\n",
      " 'normalized__fft_coefficient__coeff_64__attr_\"real\"'\n",
      " 'normalized__fft_coefficient__coeff_65__attr_\"abs\"'\n",
      " 'normalized__fft_coefficient__coeff_65__attr_\"angle\"'\n",
      " 'normalized__fft_coefficient__coeff_65__attr_\"imag\"'\n",
      " 'normalized__fft_coefficient__coeff_65__attr_\"real\"'\n",
      " 'normalized__fft_coefficient__coeff_66__attr_\"abs\"'\n",
      " 'normalized__fft_coefficient__coeff_66__attr_\"angle\"'\n",
      " 'normalized__fft_coefficient__coeff_66__attr_\"imag\"'\n",
      " 'normalized__fft_coefficient__coeff_66__attr_\"real\"'\n",
      " 'normalized__fft_coefficient__coeff_67__attr_\"abs\"'\n",
      " 'normalized__fft_coefficient__coeff_67__attr_\"angle\"'\n",
      " 'normalized__fft_coefficient__coeff_67__attr_\"imag\"'\n",
      " 'normalized__fft_coefficient__coeff_67__attr_\"real\"'\n",
      " 'normalized__fft_coefficient__coeff_68__attr_\"abs\"'\n",
      " 'normalized__fft_coefficient__coeff_68__attr_\"angle\"'\n",
      " 'normalized__fft_coefficient__coeff_68__attr_\"imag\"'\n",
      " 'normalized__fft_coefficient__coeff_68__attr_\"real\"'\n",
      " 'normalized__fft_coefficient__coeff_69__attr_\"abs\"'\n",
      " 'normalized__fft_coefficient__coeff_69__attr_\"angle\"'\n",
      " 'normalized__fft_coefficient__coeff_69__attr_\"imag\"'\n",
      " 'normalized__fft_coefficient__coeff_69__attr_\"real\"'\n",
      " 'normalized__fft_coefficient__coeff_70__attr_\"abs\"'\n",
      " 'normalized__fft_coefficient__coeff_70__attr_\"angle\"'\n",
      " 'normalized__fft_coefficient__coeff_70__attr_\"imag\"'\n",
      " 'normalized__fft_coefficient__coeff_70__attr_\"real\"'\n",
      " 'normalized__fft_coefficient__coeff_71__attr_\"abs\"'\n",
      " 'normalized__fft_coefficient__coeff_71__attr_\"angle\"'\n",
      " 'normalized__fft_coefficient__coeff_71__attr_\"imag\"'\n",
      " 'normalized__fft_coefficient__coeff_71__attr_\"real\"'\n",
      " 'normalized__fft_coefficient__coeff_72__attr_\"abs\"'\n",
      " 'normalized__fft_coefficient__coeff_72__attr_\"angle\"'\n",
      " 'normalized__fft_coefficient__coeff_72__attr_\"imag\"'\n",
      " 'normalized__fft_coefficient__coeff_72__attr_\"real\"'\n",
      " 'normalized__fft_coefficient__coeff_73__attr_\"abs\"'\n",
      " 'normalized__fft_coefficient__coeff_73__attr_\"angle\"'\n",
      " 'normalized__fft_coefficient__coeff_73__attr_\"imag\"'\n",
      " 'normalized__fft_coefficient__coeff_73__attr_\"real\"'\n",
      " 'normalized__fft_coefficient__coeff_74__attr_\"abs\"'\n",
      " 'normalized__fft_coefficient__coeff_74__attr_\"angle\"'\n",
      " 'normalized__fft_coefficient__coeff_74__attr_\"imag\"'\n",
      " 'normalized__fft_coefficient__coeff_74__attr_\"real\"'\n",
      " 'normalized__fft_coefficient__coeff_75__attr_\"abs\"'\n",
      " 'normalized__fft_coefficient__coeff_75__attr_\"angle\"'\n",
      " 'normalized__fft_coefficient__coeff_75__attr_\"imag\"'\n",
      " 'normalized__fft_coefficient__coeff_75__attr_\"real\"'\n",
      " 'normalized__fft_coefficient__coeff_76__attr_\"abs\"'\n",
      " 'normalized__fft_coefficient__coeff_76__attr_\"angle\"'\n",
      " 'normalized__fft_coefficient__coeff_76__attr_\"imag\"'\n",
      " 'normalized__fft_coefficient__coeff_76__attr_\"real\"'\n",
      " 'normalized__fft_coefficient__coeff_77__attr_\"abs\"'\n",
      " 'normalized__fft_coefficient__coeff_77__attr_\"angle\"'\n",
      " 'normalized__fft_coefficient__coeff_77__attr_\"imag\"'\n",
      " 'normalized__fft_coefficient__coeff_77__attr_\"real\"'\n",
      " 'normalized__fft_coefficient__coeff_78__attr_\"abs\"'\n",
      " 'normalized__fft_coefficient__coeff_78__attr_\"angle\"'\n",
      " 'normalized__fft_coefficient__coeff_78__attr_\"imag\"'\n",
      " 'normalized__fft_coefficient__coeff_78__attr_\"real\"'\n",
      " 'normalized__fft_coefficient__coeff_79__attr_\"abs\"'\n",
      " 'normalized__fft_coefficient__coeff_79__attr_\"angle\"'\n",
      " 'normalized__fft_coefficient__coeff_79__attr_\"imag\"'\n",
      " 'normalized__fft_coefficient__coeff_79__attr_\"real\"'\n",
      " 'normalized__fft_coefficient__coeff_80__attr_\"abs\"'\n",
      " 'normalized__fft_coefficient__coeff_80__attr_\"angle\"'\n",
      " 'normalized__fft_coefficient__coeff_80__attr_\"imag\"'\n",
      " 'normalized__fft_coefficient__coeff_80__attr_\"real\"'\n",
      " 'normalized__fft_coefficient__coeff_81__attr_\"abs\"'\n",
      " 'normalized__fft_coefficient__coeff_81__attr_\"angle\"'\n",
      " 'normalized__fft_coefficient__coeff_81__attr_\"imag\"'\n",
      " 'normalized__fft_coefficient__coeff_81__attr_\"real\"'\n",
      " 'normalized__fft_coefficient__coeff_82__attr_\"abs\"'\n",
      " 'normalized__fft_coefficient__coeff_82__attr_\"angle\"'\n",
      " 'normalized__fft_coefficient__coeff_82__attr_\"imag\"'\n",
      " 'normalized__fft_coefficient__coeff_82__attr_\"real\"'\n",
      " 'normalized__fft_coefficient__coeff_83__attr_\"abs\"'\n",
      " 'normalized__fft_coefficient__coeff_83__attr_\"angle\"'\n",
      " 'normalized__fft_coefficient__coeff_83__attr_\"imag\"'\n",
      " 'normalized__fft_coefficient__coeff_83__attr_\"real\"'\n",
      " 'normalized__fft_coefficient__coeff_84__attr_\"abs\"'\n",
      " 'normalized__fft_coefficient__coeff_84__attr_\"angle\"'\n",
      " 'normalized__fft_coefficient__coeff_84__attr_\"imag\"'\n",
      " 'normalized__fft_coefficient__coeff_84__attr_\"real\"'\n",
      " 'normalized__fft_coefficient__coeff_85__attr_\"abs\"'\n",
      " 'normalized__fft_coefficient__coeff_85__attr_\"angle\"'\n",
      " 'normalized__fft_coefficient__coeff_85__attr_\"imag\"'\n",
      " 'normalized__fft_coefficient__coeff_85__attr_\"real\"'\n",
      " 'normalized__fft_coefficient__coeff_86__attr_\"abs\"'\n",
      " 'normalized__fft_coefficient__coeff_86__attr_\"angle\"'\n",
      " 'normalized__fft_coefficient__coeff_86__attr_\"imag\"'\n",
      " 'normalized__fft_coefficient__coeff_86__attr_\"real\"'\n",
      " 'normalized__fft_coefficient__coeff_87__attr_\"abs\"'\n",
      " 'normalized__fft_coefficient__coeff_87__attr_\"angle\"'\n",
      " 'normalized__fft_coefficient__coeff_87__attr_\"imag\"'\n",
      " 'normalized__fft_coefficient__coeff_87__attr_\"real\"'\n",
      " 'normalized__fft_coefficient__coeff_88__attr_\"abs\"'\n",
      " 'normalized__fft_coefficient__coeff_88__attr_\"angle\"'\n",
      " 'normalized__fft_coefficient__coeff_88__attr_\"imag\"'\n",
      " 'normalized__fft_coefficient__coeff_88__attr_\"real\"'\n",
      " 'normalized__fft_coefficient__coeff_89__attr_\"abs\"'\n",
      " 'normalized__fft_coefficient__coeff_89__attr_\"angle\"'\n",
      " 'normalized__fft_coefficient__coeff_89__attr_\"imag\"'\n",
      " 'normalized__fft_coefficient__coeff_89__attr_\"real\"'\n",
      " 'normalized__fft_coefficient__coeff_90__attr_\"abs\"'\n",
      " 'normalized__fft_coefficient__coeff_90__attr_\"angle\"'\n",
      " 'normalized__fft_coefficient__coeff_90__attr_\"imag\"'\n",
      " 'normalized__fft_coefficient__coeff_90__attr_\"real\"'\n",
      " 'normalized__fft_coefficient__coeff_91__attr_\"abs\"'\n",
      " 'normalized__fft_coefficient__coeff_91__attr_\"angle\"'\n",
      " 'normalized__fft_coefficient__coeff_91__attr_\"imag\"'\n",
      " 'normalized__fft_coefficient__coeff_91__attr_\"real\"'\n",
      " 'normalized__fft_coefficient__coeff_92__attr_\"abs\"'\n",
      " 'normalized__fft_coefficient__coeff_92__attr_\"angle\"'\n",
      " 'normalized__fft_coefficient__coeff_92__attr_\"imag\"'\n",
      " 'normalized__fft_coefficient__coeff_92__attr_\"real\"'\n",
      " 'normalized__fft_coefficient__coeff_93__attr_\"abs\"'\n",
      " 'normalized__fft_coefficient__coeff_93__attr_\"angle\"'\n",
      " 'normalized__fft_coefficient__coeff_93__attr_\"imag\"'\n",
      " 'normalized__fft_coefficient__coeff_93__attr_\"real\"'\n",
      " 'normalized__fft_coefficient__coeff_94__attr_\"abs\"'\n",
      " 'normalized__fft_coefficient__coeff_94__attr_\"angle\"'\n",
      " 'normalized__fft_coefficient__coeff_94__attr_\"imag\"'\n",
      " 'normalized__fft_coefficient__coeff_94__attr_\"real\"'\n",
      " 'normalized__fft_coefficient__coeff_95__attr_\"abs\"'\n",
      " 'normalized__fft_coefficient__coeff_95__attr_\"angle\"'\n",
      " 'normalized__fft_coefficient__coeff_95__attr_\"imag\"'\n",
      " 'normalized__fft_coefficient__coeff_95__attr_\"real\"'\n",
      " 'normalized__fft_coefficient__coeff_96__attr_\"abs\"'\n",
      " 'normalized__fft_coefficient__coeff_96__attr_\"angle\"'\n",
      " 'normalized__fft_coefficient__coeff_96__attr_\"imag\"'\n",
      " 'normalized__fft_coefficient__coeff_96__attr_\"real\"'\n",
      " 'normalized__fft_coefficient__coeff_97__attr_\"abs\"'\n",
      " 'normalized__fft_coefficient__coeff_97__attr_\"angle\"'\n",
      " 'normalized__fft_coefficient__coeff_97__attr_\"imag\"'\n",
      " 'normalized__fft_coefficient__coeff_97__attr_\"real\"'\n",
      " 'normalized__fft_coefficient__coeff_98__attr_\"abs\"'\n",
      " 'normalized__fft_coefficient__coeff_98__attr_\"angle\"'\n",
      " 'normalized__fft_coefficient__coeff_98__attr_\"imag\"'\n",
      " 'normalized__fft_coefficient__coeff_98__attr_\"real\"'\n",
      " 'normalized__fft_coefficient__coeff_99__attr_\"abs\"'\n",
      " 'normalized__fft_coefficient__coeff_99__attr_\"angle\"'\n",
      " 'normalized__fft_coefficient__coeff_99__attr_\"imag\"'\n",
      " 'normalized__fft_coefficient__coeff_99__attr_\"real\"'] did not have any finite values. Filling with zeros.\n"
     ]
    }
   ],
   "source": [
    "#lets replace nan value with 0.0\n",
    "from tsfresh import select_features\n",
    "from tsfresh.utilities.dataframe_functions import impute\n",
    "data_after_impute = impute(extracted_features)"
   ]
  },
  {
   "cell_type": "code",
   "execution_count": 18,
   "metadata": {},
   "outputs": [
    {
     "data": {
      "text/plain": [
       "0"
      ]
     },
     "execution_count": 18,
     "metadata": {},
     "output_type": "execute_result"
    }
   ],
   "source": [
    "#lets check if any column has any nan value\n",
    "list_cols_with_nan_after_impute = data_after_impute.columns[data_after_impute.isna().any()].tolist()\n",
    "len(list_cols_with_nan_after_impute)"
   ]
  },
  {
   "cell_type": "code",
   "execution_count": 19,
   "metadata": {
    "scrolled": false
   },
   "outputs": [],
   "source": [
    "#we dont have any nan values \n",
    "# lets reset the index\n",
    "data_after_impute = data_after_impute.reset_index()"
   ]
  },
  {
   "cell_type": "code",
   "execution_count": 20,
   "metadata": {},
   "outputs": [],
   "source": [
    "# we need to give labels to countries \n",
    "data_countries = pd.read_excel('Developing countries.xlsx')\n",
    "\n",
    "developed_countries = data_countries [data_countries['Value'] == 0]\n",
    "developing_countries = data_countries [data_countries['Value'] == 1] \n",
    "\n",
    "list_developed_countries = developed_countries['Countries']\n",
    "list_developing_countries = developing_countries['Countries']\n",
    "\n",
    "list_developed_countries = list(list_developed_countries)\n",
    "list_developing_countries = list(list_developing_countries)\n",
    "\n",
    "data_after_impute['label'] = -1\n",
    "\n",
    "for i,da in data_after_impute.iterrows():\n",
    "    if da['id'] in list_developed_countries:\n",
    "        val = 0\n",
    "        data_after_impute.at[i,'label'] = val\n",
    "    elif da['id'] not in list_developed_countries:\n",
    "        val = 1\n",
    "        data_after_impute.at[i,'label'] = val"
   ]
  },
  {
   "cell_type": "code",
   "execution_count": 21,
   "metadata": {},
   "outputs": [
    {
     "data": {
      "text/html": [
       "<div>\n",
       "<style scoped>\n",
       "    .dataframe tbody tr th:only-of-type {\n",
       "        vertical-align: middle;\n",
       "    }\n",
       "\n",
       "    .dataframe tbody tr th {\n",
       "        vertical-align: top;\n",
       "    }\n",
       "\n",
       "    .dataframe thead th {\n",
       "        text-align: right;\n",
       "    }\n",
       "</style>\n",
       "<table border=\"1\" class=\"dataframe\">\n",
       "  <thead>\n",
       "    <tr style=\"text-align: right;\">\n",
       "      <th>variable</th>\n",
       "      <th>id</th>\n",
       "      <th>normalized__abs_energy</th>\n",
       "      <th>normalized__absolute_sum_of_changes</th>\n",
       "      <th>normalized__agg_autocorrelation__f_agg_\"mean\"</th>\n",
       "      <th>normalized__agg_autocorrelation__f_agg_\"median\"</th>\n",
       "      <th>normalized__agg_autocorrelation__f_agg_\"var\"</th>\n",
       "      <th>normalized__agg_linear_trend__f_agg_\"max\"__chunk_len_10__attr_\"intercept\"</th>\n",
       "      <th>normalized__agg_linear_trend__f_agg_\"max\"__chunk_len_10__attr_\"rvalue\"</th>\n",
       "      <th>normalized__agg_linear_trend__f_agg_\"max\"__chunk_len_10__attr_\"slope\"</th>\n",
       "      <th>normalized__agg_linear_trend__f_agg_\"max\"__chunk_len_10__attr_\"stderr\"</th>\n",
       "      <th>...</th>\n",
       "      <th>normalized__time_reversal_asymmetry_statistic__lag_2</th>\n",
       "      <th>normalized__time_reversal_asymmetry_statistic__lag_3</th>\n",
       "      <th>normalized__value_count__value_-inf</th>\n",
       "      <th>normalized__value_count__value_0</th>\n",
       "      <th>normalized__value_count__value_1</th>\n",
       "      <th>normalized__value_count__value_inf</th>\n",
       "      <th>normalized__value_count__value_nan</th>\n",
       "      <th>normalized__variance</th>\n",
       "      <th>normalized__variance_larger_than_standard_deviation</th>\n",
       "      <th>label</th>\n",
       "    </tr>\n",
       "  </thead>\n",
       "  <tbody>\n",
       "    <tr>\n",
       "      <th>0</th>\n",
       "      <td>Albania</td>\n",
       "      <td>0.000880</td>\n",
       "      <td>0.034006</td>\n",
       "      <td>-0.207301</td>\n",
       "      <td>-0.009288</td>\n",
       "      <td>0.123878</td>\n",
       "      <td>0.103082</td>\n",
       "      <td>-1.000000</td>\n",
       "      <td>-0.056323</td>\n",
       "      <td>0.000000</td>\n",
       "      <td>...</td>\n",
       "      <td>0.000000e+00</td>\n",
       "      <td>0.000000</td>\n",
       "      <td>0.0</td>\n",
       "      <td>0.0</td>\n",
       "      <td>0.0</td>\n",
       "      <td>0.0</td>\n",
       "      <td>0.0</td>\n",
       "      <td>0.000029</td>\n",
       "      <td>0.0</td>\n",
       "      <td>1</td>\n",
       "    </tr>\n",
       "    <tr>\n",
       "      <th>1</th>\n",
       "      <td>Algeria</td>\n",
       "      <td>0.008731</td>\n",
       "      <td>0.063762</td>\n",
       "      <td>-0.662088</td>\n",
       "      <td>-0.662088</td>\n",
       "      <td>0.236452</td>\n",
       "      <td>0.103082</td>\n",
       "      <td>-1.000000</td>\n",
       "      <td>-0.056323</td>\n",
       "      <td>0.000000</td>\n",
       "      <td>...</td>\n",
       "      <td>0.000000e+00</td>\n",
       "      <td>0.000000</td>\n",
       "      <td>0.0</td>\n",
       "      <td>0.0</td>\n",
       "      <td>0.0</td>\n",
       "      <td>0.0</td>\n",
       "      <td>0.0</td>\n",
       "      <td>0.000822</td>\n",
       "      <td>0.0</td>\n",
       "      <td>1</td>\n",
       "    </tr>\n",
       "    <tr>\n",
       "      <th>2</th>\n",
       "      <td>Angola</td>\n",
       "      <td>0.220140</td>\n",
       "      <td>0.023379</td>\n",
       "      <td>-1.000000</td>\n",
       "      <td>-1.000000</td>\n",
       "      <td>0.000000</td>\n",
       "      <td>0.103082</td>\n",
       "      <td>-1.000000</td>\n",
       "      <td>-0.056323</td>\n",
       "      <td>0.000000</td>\n",
       "      <td>...</td>\n",
       "      <td>0.000000e+00</td>\n",
       "      <td>0.000000</td>\n",
       "      <td>0.0</td>\n",
       "      <td>0.0</td>\n",
       "      <td>0.0</td>\n",
       "      <td>0.0</td>\n",
       "      <td>0.0</td>\n",
       "      <td>0.000137</td>\n",
       "      <td>0.0</td>\n",
       "      <td>1</td>\n",
       "    </tr>\n",
       "    <tr>\n",
       "      <th>3</th>\n",
       "      <td>Argentina</td>\n",
       "      <td>0.063581</td>\n",
       "      <td>0.308183</td>\n",
       "      <td>0.080516</td>\n",
       "      <td>0.120244</td>\n",
       "      <td>0.337182</td>\n",
       "      <td>0.085724</td>\n",
       "      <td>-0.164281</td>\n",
       "      <td>-0.010627</td>\n",
       "      <td>0.063809</td>\n",
       "      <td>...</td>\n",
       "      <td>1.680193e-08</td>\n",
       "      <td>0.000004</td>\n",
       "      <td>0.0</td>\n",
       "      <td>2.0</td>\n",
       "      <td>0.0</td>\n",
       "      <td>0.0</td>\n",
       "      <td>0.0</td>\n",
       "      <td>0.001046</td>\n",
       "      <td>0.0</td>\n",
       "      <td>1</td>\n",
       "    </tr>\n",
       "    <tr>\n",
       "      <th>4</th>\n",
       "      <td>Armenia</td>\n",
       "      <td>0.129814</td>\n",
       "      <td>0.243358</td>\n",
       "      <td>-0.419327</td>\n",
       "      <td>-0.443550</td>\n",
       "      <td>0.443094</td>\n",
       "      <td>0.205101</td>\n",
       "      <td>-1.000000</td>\n",
       "      <td>-0.180659</td>\n",
       "      <td>0.000000</td>\n",
       "      <td>...</td>\n",
       "      <td>-9.140289e-04</td>\n",
       "      <td>-0.000831</td>\n",
       "      <td>0.0</td>\n",
       "      <td>0.0</td>\n",
       "      <td>0.0</td>\n",
       "      <td>0.0</td>\n",
       "      <td>0.0</td>\n",
       "      <td>0.003868</td>\n",
       "      <td>0.0</td>\n",
       "      <td>1</td>\n",
       "    </tr>\n",
       "  </tbody>\n",
       "</table>\n",
       "<p>5 rows × 796 columns</p>\n",
       "</div>"
      ],
      "text/plain": [
       "variable         id  normalized__abs_energy  \\\n",
       "0           Albania                0.000880   \n",
       "1           Algeria                0.008731   \n",
       "2            Angola                0.220140   \n",
       "3         Argentina                0.063581   \n",
       "4           Armenia                0.129814   \n",
       "\n",
       "variable  normalized__absolute_sum_of_changes  \\\n",
       "0                                    0.034006   \n",
       "1                                    0.063762   \n",
       "2                                    0.023379   \n",
       "3                                    0.308183   \n",
       "4                                    0.243358   \n",
       "\n",
       "variable  normalized__agg_autocorrelation__f_agg_\"mean\"  \\\n",
       "0                                             -0.207301   \n",
       "1                                             -0.662088   \n",
       "2                                             -1.000000   \n",
       "3                                              0.080516   \n",
       "4                                             -0.419327   \n",
       "\n",
       "variable  normalized__agg_autocorrelation__f_agg_\"median\"  \\\n",
       "0                                               -0.009288   \n",
       "1                                               -0.662088   \n",
       "2                                               -1.000000   \n",
       "3                                                0.120244   \n",
       "4                                               -0.443550   \n",
       "\n",
       "variable  normalized__agg_autocorrelation__f_agg_\"var\"  \\\n",
       "0                                             0.123878   \n",
       "1                                             0.236452   \n",
       "2                                             0.000000   \n",
       "3                                             0.337182   \n",
       "4                                             0.443094   \n",
       "\n",
       "variable  normalized__agg_linear_trend__f_agg_\"max\"__chunk_len_10__attr_\"intercept\"  \\\n",
       "0                                                  0.103082                           \n",
       "1                                                  0.103082                           \n",
       "2                                                  0.103082                           \n",
       "3                                                  0.085724                           \n",
       "4                                                  0.205101                           \n",
       "\n",
       "variable  normalized__agg_linear_trend__f_agg_\"max\"__chunk_len_10__attr_\"rvalue\"  \\\n",
       "0                                                 -1.000000                        \n",
       "1                                                 -1.000000                        \n",
       "2                                                 -1.000000                        \n",
       "3                                                 -0.164281                        \n",
       "4                                                 -1.000000                        \n",
       "\n",
       "variable  normalized__agg_linear_trend__f_agg_\"max\"__chunk_len_10__attr_\"slope\"  \\\n",
       "0                                                 -0.056323                       \n",
       "1                                                 -0.056323                       \n",
       "2                                                 -0.056323                       \n",
       "3                                                 -0.010627                       \n",
       "4                                                 -0.180659                       \n",
       "\n",
       "variable  normalized__agg_linear_trend__f_agg_\"max\"__chunk_len_10__attr_\"stderr\"  \\\n",
       "0                                                  0.000000                        \n",
       "1                                                  0.000000                        \n",
       "2                                                  0.000000                        \n",
       "3                                                  0.063809                        \n",
       "4                                                  0.000000                        \n",
       "\n",
       "variable  ...    normalized__time_reversal_asymmetry_statistic__lag_2  \\\n",
       "0         ...                                         0.000000e+00      \n",
       "1         ...                                         0.000000e+00      \n",
       "2         ...                                         0.000000e+00      \n",
       "3         ...                                         1.680193e-08      \n",
       "4         ...                                        -9.140289e-04      \n",
       "\n",
       "variable  normalized__time_reversal_asymmetry_statistic__lag_3  \\\n",
       "0                                                  0.000000      \n",
       "1                                                  0.000000      \n",
       "2                                                  0.000000      \n",
       "3                                                  0.000004      \n",
       "4                                                 -0.000831      \n",
       "\n",
       "variable  normalized__value_count__value_-inf  \\\n",
       "0                                         0.0   \n",
       "1                                         0.0   \n",
       "2                                         0.0   \n",
       "3                                         0.0   \n",
       "4                                         0.0   \n",
       "\n",
       "variable  normalized__value_count__value_0  normalized__value_count__value_1  \\\n",
       "0                                      0.0                               0.0   \n",
       "1                                      0.0                               0.0   \n",
       "2                                      0.0                               0.0   \n",
       "3                                      2.0                               0.0   \n",
       "4                                      0.0                               0.0   \n",
       "\n",
       "variable  normalized__value_count__value_inf  \\\n",
       "0                                        0.0   \n",
       "1                                        0.0   \n",
       "2                                        0.0   \n",
       "3                                        0.0   \n",
       "4                                        0.0   \n",
       "\n",
       "variable  normalized__value_count__value_nan  normalized__variance  \\\n",
       "0                                        0.0              0.000029   \n",
       "1                                        0.0              0.000822   \n",
       "2                                        0.0              0.000137   \n",
       "3                                        0.0              0.001046   \n",
       "4                                        0.0              0.003868   \n",
       "\n",
       "variable  normalized__variance_larger_than_standard_deviation  label  \n",
       "0                                                       0.0        1  \n",
       "1                                                       0.0        1  \n",
       "2                                                       0.0        1  \n",
       "3                                                       0.0        1  \n",
       "4                                                       0.0        1  \n",
       "\n",
       "[5 rows x 796 columns]"
      ]
     },
     "execution_count": 21,
     "metadata": {},
     "output_type": "execute_result"
    }
   ],
   "source": [
    "# check new df with added column as label \n",
    "data_after_impute.head()"
   ]
  },
  {
   "cell_type": "code",
   "execution_count": 22,
   "metadata": {},
   "outputs": [],
   "source": [
    "#Split data into X(features),y \n",
    "y = data_after_impute['label']\n",
    "X = data_after_impute.drop(columns=['id','label'])"
   ]
  },
  {
   "cell_type": "code",
   "execution_count": 23,
   "metadata": {},
   "outputs": [
    {
     "data": {
      "text/plain": [
       "1    142\n",
       "0     33\n",
       "Name: label, dtype: int64"
      ]
     },
     "execution_count": 23,
     "metadata": {},
     "output_type": "execute_result"
    }
   ],
   "source": [
    "y.value_counts()"
   ]
  },
  {
   "cell_type": "code",
   "execution_count": 24,
   "metadata": {},
   "outputs": [],
   "source": [
    "# train and test split\n",
    "X_train, X_test, y_train, y_test = train_test_split(X, y, test_size=0.40, random_state=42)"
   ]
  },
  {
   "cell_type": "code",
   "execution_count": 25,
   "metadata": {},
   "outputs": [
    {
     "data": {
      "text/plain": [
       "1    85\n",
       "0    20\n",
       "Name: label, dtype: int64"
      ]
     },
     "execution_count": 25,
     "metadata": {},
     "output_type": "execute_result"
    }
   ],
   "source": [
    "y_train.value_counts()"
   ]
  },
  {
   "cell_type": "markdown",
   "metadata": {},
   "source": [
    "#### Lets try different classifiers on the data"
   ]
  },
  {
   "cell_type": "markdown",
   "metadata": {},
   "source": [
    "##### KNN"
   ]
  },
  {
   "cell_type": "code",
   "execution_count": 26,
   "metadata": {},
   "outputs": [
    {
     "name": "stdout",
     "output_type": "stream",
     "text": [
      "             precision    recall  f1-score   support\n",
      "\n",
      "          0       0.80      0.31      0.44        13\n",
      "          1       0.86      0.98      0.92        57\n",
      "\n",
      "avg / total       0.85      0.86      0.83        70\n",
      "\n",
      "Accuracy is:  0.8571428571428571\n"
     ]
    }
   ],
   "source": [
    "knn = KNeighborsClassifier(n_neighbors=10)\n",
    "knn.fit(X_train,y_train)\n",
    "pred = knn.predict(X_test)\n",
    "dsf = classification_report(y_test,pred)\n",
    "acc = accuracy_score(y_test,pred) \n",
    "print(dsf)\n",
    "print('Accuracy is: ',acc)"
   ]
  },
  {
   "cell_type": "markdown",
   "metadata": {},
   "source": [
    "###### KNN with k ranging from 1 to 15"
   ]
  },
  {
   "cell_type": "code",
   "execution_count": 27,
   "metadata": {},
   "outputs": [
    {
     "name": "stdout",
     "output_type": "stream",
     "text": [
      "[0.9142857142857143, 0.9, 0.9142857142857143, 0.9142857142857143, 0.9, 0.9, 0.9, 0.9, 0.8571428571428571, 0.8571428571428571, 0.8571428571428571, 0.8714285714285714, 0.8571428571428571, 0.8571428571428571, 0.8428571428571429]\n"
     ]
    },
    {
     "data": {
      "image/png": "[encoded data removed]",
      "text/plain": [
       "<matplotlib.figure.Figure at 0x1c182b6fd0>"
      ]
     },
     "metadata": {},
     "output_type": "display_data"
    }
   ],
   "source": [
    "#KNN for different k values\n",
    "kVals = [1,2,3,4,5,6,7,8,9,10,11,12,13,14,15]\n",
    "scores = []\n",
    "\n",
    "for k in kVals:\n",
    "    knn = KNeighborsClassifier(n_neighbors=k)\n",
    "    knn.fit(X_train,y_train)\n",
    "    pred = knn.predict(X_test)\n",
    "    scores.append(accuracy_score(y_test,pred))\n",
    "    \n",
    "plt.plot(kVals,scores)    \n",
    "print(scores)  "
   ]
  },
  {
   "cell_type": "markdown",
   "metadata": {},
   "source": [
    "#### Random Forest Classifier"
   ]
  },
  {
   "cell_type": "code",
   "execution_count": 28,
   "metadata": {},
   "outputs": [
    {
     "name": "stdout",
     "output_type": "stream",
     "text": [
      "F1 Score:  0.9248287943940117\n",
      "Accuracy Score:  0.9285714285714286\n"
     ]
    }
   ],
   "source": [
    "rf_classifier = RandomForestClassifier(n_estimators=10, random_state = 42)\n",
    "rf_classifier.fit(X_train,y_train)\n",
    "pred = rf_classifier.predict(X_test)\n",
    "print(\"F1 Score: \", metrics.f1_score(y_test,pred, average='weighted'))\n",
    "print(\"Accuracy Score: \", accuracy_score(y_test,pred))"
   ]
  },
  {
   "cell_type": "markdown",
   "metadata": {},
   "source": [
    "#### Fine tuninng Random Forest for different number of estimators"
   ]
  },
  {
   "cell_type": "code",
   "execution_count": 29,
   "metadata": {},
   "outputs": [
    {
     "name": "stdout",
     "output_type": "stream",
     "text": [
      "5-------0.9079462909971385\n",
      "10-------0.9248287943940117\n",
      "15-------0.8901960784313725\n",
      "20-------0.9114532019704433\n",
      "30-------0.9409688013136287\n",
      "35-------0.9248287943940117\n",
      "40-------0.9409688013136287\n",
      "45-------0.9248287943940117\n",
      "50-------0.9248287943940117\n",
      "100-------0.9248287943940117\n",
      "200-------0.9248287943940117\n",
      "300-------0.9248287943940117\n"
     ]
    },
    {
     "data": {
      "image/png": "[encoded data removed]",
      "text/plain": [
       "<matplotlib.figure.Figure at 0x1c18575630>"
      ]
     },
     "metadata": {},
     "output_type": "display_data"
    }
   ],
   "source": [
    "#Ensemble Random Forest Classifier Fine Tunning\n",
    "estimators = [5,10,15,20,30,35,40,45,50,100,200,300]\n",
    "f1_scores = []\n",
    "for e in estimators:\n",
    "    rf_classifier = RandomForestClassifier(n_estimators=e, random_state = 42)\n",
    "    rf_classifier.fit(X_train,y_train)\n",
    "    pred = rf_classifier.predict(X_test)\n",
    "    f1_scores.append(f1_score(y_test,pred,average='weighted'))\n",
    "    \n",
    "plt.plot(estimators,f1_scores) \n",
    "for i in range (0,len(estimators)):\n",
    "    print(str(estimators[i]) + \"-------\" + str(f1_scores[i]))"
   ]
  },
  {
   "cell_type": "markdown",
   "metadata": {},
   "source": [
    "#### Lets fine tune for number of features with best number of estimator from above analysis"
   ]
  },
  {
   "cell_type": "code",
   "execution_count": 30,
   "metadata": {},
   "outputs": [
    {
     "name": "stdout",
     "output_type": "stream",
     "text": [
      "F1 Score:  0.9248287943940117\n",
      "Accuracy Score:  0.9285714285714286\n"
     ]
    }
   ],
   "source": [
    "rf_classifier = RandomForestClassifier(n_estimators=45, random_state = 42)\n",
    "rf_classifier.fit(X_train,y_train)\n",
    "pred = rf_classifier.predict(X_test)\n",
    "print(\"F1 Score: \", metrics.f1_score(y_test,pred, average='weighted'))\n",
    "print(\"Accuracy Score: \", accuracy_score(y_test,pred))"
   ]
  },
  {
   "cell_type": "code",
   "execution_count": 31,
   "metadata": {},
   "outputs": [
    {
     "name": "stdout",
     "output_type": "stream",
     "text": [
      "[0.9248287943940117, 0.9114532019704433, 0.9248287943940117, 0.9114532019704433, 0.9248287943940117, 0.8947603121516164, 0.9409688013136287, 0.9386308606647591, 0.9386308606647591, 0.9248287943940117, 0.9248287943940117]\n"
     ]
    },
    {
     "data": {
      "image/png": "[encoded data removed]",
      "text/plain": [
       "<matplotlib.figure.Figure at 0x1c1a520f60>"
      ]
     },
     "metadata": {},
     "output_type": "display_data"
    }
   ],
   "source": [
    "no_of_features = [10,20,30,40,50,100,200,300,400,500,600]\n",
    "f1_scores = []\n",
    "for e in no_of_features:\n",
    "    rf_classifier = RandomForestClassifier(max_features = e ,n_estimators=30,random_state = 42)\n",
    "    rf_classifier.fit(X_train,y_train)\n",
    "    pred = rf_classifier.predict(X_test)\n",
    "    f1_scores.append(f1_score(y_test,pred,average='weighted'))\n",
    "    \n",
    "plt.plot(no_of_features,f1_scores) \n",
    "print(f1_scores)"
   ]
  },
  {
   "cell_type": "markdown",
   "metadata": {},
   "source": [
    "#### Logistic regression model"
   ]
  },
  {
   "cell_type": "code",
   "execution_count": 32,
   "metadata": {},
   "outputs": [
    {
     "name": "stdout",
     "output_type": "stream",
     "text": [
      "F1 Score:  0.8763413659965384\n",
      "Accuracy Score:  0.8714285714285714\n"
     ]
    }
   ],
   "source": [
    "#Logistic Regression\n",
    "logmodel = LogisticRegression()\n",
    "logmodel.fit(X_train,y_train)\n",
    "pred = logmodel.predict(X_test)\n",
    "print(\"F1 Score: \", metrics.f1_score(y_test,pred, average='weighted'))\n",
    "print(\"Accuracy Score: \", accuracy_score(y_test,pred))"
   ]
  },
  {
   "cell_type": "markdown",
   "metadata": {},
   "source": [
    "#### Extra tree classifier"
   ]
  },
  {
   "cell_type": "code",
   "execution_count": 33,
   "metadata": {},
   "outputs": [
    {
     "name": "stdout",
     "output_type": "stream",
     "text": [
      "F1 Score:  0.9079462909971385\n",
      "Accuracy Score:  0.9142857142857143\n"
     ]
    }
   ],
   "source": [
    "#ExtraTreeClassifier\n",
    "model = ExtraTreesClassifier(n_estimators=5,random_state=42)\n",
    "model.fit(X_train, y_train)\n",
    "pred = model.predict(X_test)\n",
    "print(\"F1 Score: \", metrics.f1_score(y_test,pred, average='weighted'))\n",
    "print(\"Accuracy Score: \", accuracy_score(y_test,pred))"
   ]
  },
  {
   "cell_type": "code",
   "execution_count": 34,
   "metadata": {},
   "outputs": [
    {
     "name": "stdout",
     "output_type": "stream",
     "text": [
      "[0.9079462909971385, 0.8947603121516164, 0.9079462909971385, 0.8947603121516164, 0.9386308606647591, 0.9386308606647591, 0.9248287943940117, 0.9248287943940117, 0.9248287943940117, 0.9248287943940117, 0.9248287943940117, 0.9386308606647591]\n"
     ]
    },
    {
     "data": {
      "image/png": "[encoded data removed]",
      "text/plain": [
       "<matplotlib.figure.Figure at 0x1c182b66a0>"
      ]
     },
     "metadata": {},
     "output_type": "display_data"
    }
   ],
   "source": [
    "estimators = [5,10,15,20,30,35,40,45,50,100,200,300]\n",
    "f1_scores = []\n",
    "for e in estimators:\n",
    "    model = ExtraTreesClassifier(n_estimators=e,random_state=42)\n",
    "    model.fit(X_train, y_train)\n",
    "    pred = model.predict(X_test)\n",
    "    f1_scores.append(f1_score(y_test,pred,average='weighted'))\n",
    "    \n",
    "plt.plot(estimators,f1_scores) \n",
    "print(f1_scores)"
   ]
  },
  {
   "cell_type": "code",
   "execution_count": 35,
   "metadata": {},
   "outputs": [
    {
     "name": "stdout",
     "output_type": "stream",
     "text": [
      "F1 Score:  0.8947603121516164\n",
      "Accuracy Score:  0.9\n"
     ]
    }
   ],
   "source": [
    "model = ExtraTreesClassifier(n_estimators=20,random_state=42)\n",
    "model.fit(X_train, y_train)\n",
    "pred = model.predict(X_test)\n",
    "print(\"F1 Score: \", metrics.f1_score(y_test,pred, average='weighted'))\n",
    "print(\"Accuracy Score: \", accuracy_score(y_test,pred))"
   ]
  },
  {
   "cell_type": "markdown",
   "metadata": {},
   "source": [
    "#### fine tune for max_features"
   ]
  },
  {
   "cell_type": "code",
   "execution_count": 36,
   "metadata": {},
   "outputs": [
    {
     "name": "stdout",
     "output_type": "stream",
     "text": [
      "[0.9409688013136287, 0.9079462909971385, 0.9248287943940117, 0.9386308606647591, 0.8984347826086956, 0.9114532019704433, 0.9386308606647591, 0.9079462909971385, 0.9079462909971385, 0.9114532019704433, 0.9114532019704433]\n"
     ]
    },
    {
     "data": {
      "image/png": "[encoded data removed]",
      "text/plain": [
       "<matplotlib.figure.Figure at 0x1a17d3e828>"
      ]
     },
     "metadata": {},
     "output_type": "display_data"
    }
   ],
   "source": [
    "no_of_features = [10,20,30,40,50,100,200,300,400,500,600]\n",
    "f1_scores = []\n",
    "for e in no_of_features:\n",
    "    model = ExtraTreesClassifier(max_features=e,n_estimators=20,random_state=42)\n",
    "    model.fit(X_train, y_train)\n",
    "    pred = model.predict(X_test)\n",
    "    f1_scores.append(f1_score(y_test,pred,average='weighted'))\n",
    "    \n",
    "plt.plot(no_of_features,f1_scores) \n",
    "print(f1_scores)"
   ]
  },
  {
   "cell_type": "markdown",
   "metadata": {},
   "source": [
    "#### Recursive Feature Elimination "
   ]
  },
  {
   "cell_type": "code",
   "execution_count": 37,
   "metadata": {},
   "outputs": [
    {
     "name": "stdout",
     "output_type": "stream",
     "text": [
      "Optimal number of features : 332\n",
      "Best features : Index(['normalized__fft_coefficient__coeff_35__attr_\"angle\"',\n",
      "       'normalized__fft_coefficient__coeff_35__attr_\"imag\"',\n",
      "       'normalized__fft_coefficient__coeff_35__attr_\"real\"',\n",
      "       'normalized__fft_coefficient__coeff_36__attr_\"abs\"',\n",
      "       'normalized__fft_coefficient__coeff_36__attr_\"angle\"',\n",
      "       'normalized__fft_coefficient__coeff_36__attr_\"imag\"',\n",
      "       'normalized__fft_coefficient__coeff_36__attr_\"real\"',\n",
      "       'normalized__fft_coefficient__coeff_37__attr_\"abs\"',\n",
      "       'normalized__fft_coefficient__coeff_37__attr_\"angle\"',\n",
      "       'normalized__fft_coefficient__coeff_37__attr_\"imag\"',\n",
      "       ...\n",
      "       'normalized__symmetry_looking__r_0.65',\n",
      "       'normalized__symmetry_looking__r_0.7000000000000001',\n",
      "       'normalized__symmetry_looking__r_0.75',\n",
      "       'normalized__symmetry_looking__r_0.8',\n",
      "       'normalized__symmetry_looking__r_0.8500000000000001',\n",
      "       'normalized__symmetry_looking__r_0.9',\n",
      "       'normalized__symmetry_looking__r_0.9500000000000001',\n",
      "       'normalized__time_reversal_asymmetry_statistic__lag_1',\n",
      "       'normalized__time_reversal_asymmetry_statistic__lag_2',\n",
      "       'normalized__time_reversal_asymmetry_statistic__lag_3'],\n",
      "      dtype='object', name='variable', length=332)\n"
     ]
    }
   ],
   "source": [
    "# The \"accuracy\" scoring is proportional to the number of correct classifications\n",
    "clf_rf_4 = RandomForestClassifier() \n",
    "rfecv = RFECV(estimator=clf_rf_4, step=1, cv=5,scoring='accuracy')   #5-fold cross-validation\n",
    "rfecv = rfecv.fit(X_train, y_train)\n",
    "\n",
    "print('Optimal number of features :', rfecv.n_features_)\n",
    "print('Best features :', X_train.columns[rfecv.support_])"
   ]
  },
  {
   "cell_type": "code",
   "execution_count": 38,
   "metadata": {},
   "outputs": [],
   "source": [
    "cols = X_train.columns[rfecv.support_]"
   ]
  },
  {
   "cell_type": "code",
   "execution_count": 39,
   "metadata": {},
   "outputs": [],
   "source": [
    "X = X[cols]"
   ]
  },
  {
   "cell_type": "code",
   "execution_count": 40,
   "metadata": {},
   "outputs": [],
   "source": [
    "X_train, X_test, y_train, y_test = train_test_split(X, y, test_size=0.40, random_state=42)"
   ]
  },
  {
   "cell_type": "code",
   "execution_count": 41,
   "metadata": {},
   "outputs": [
    {
     "name": "stdout",
     "output_type": "stream",
     "text": [
      "             precision    recall  f1-score   support\n",
      "\n",
      "          0       0.83      0.77      0.80        13\n",
      "          1       0.95      0.96      0.96        57\n",
      "\n",
      "avg / total       0.93      0.93      0.93        70\n",
      "\n",
      "Accuracy is:  0.9285714285714286\n"
     ]
    }
   ],
   "source": [
    "knn = KNeighborsClassifier(n_neighbors=10)\n",
    "knn.fit(X_train,y_train)\n",
    "pred = knn.predict(X_test)\n",
    "dsf = classification_report(y_test,pred)\n",
    "acc = accuracy_score(y_test,pred) \n",
    "print(dsf)\n",
    "print('Accuracy is: ',acc)"
   ]
  },
  {
   "cell_type": "code",
   "execution_count": 42,
   "metadata": {},
   "outputs": [
    {
     "name": "stdout",
     "output_type": "stream",
     "text": [
      "[0.8285714285714286, 0.8571428571428571, 0.8571428571428571, 0.8714285714285714, 0.8857142857142857, 0.9142857142857143, 0.9, 0.9285714285714286, 0.9, 0.9285714285714286, 0.8857142857142857, 0.8857142857142857, 0.9, 0.9, 0.8714285714285714]\n"
     ]
    },
    {
     "data": {
      "image/png": "[encoded data removed]",
      "text/plain": [
       "<matplotlib.figure.Figure at 0x1c1ac2e438>"
      ]
     },
     "metadata": {},
     "output_type": "display_data"
    }
   ],
   "source": [
    "#KNN for different k values\n",
    "kVals = [1,2,3,4,5,6,7,8,9,10,11,12,13,14,15]\n",
    "scores = []\n",
    "\n",
    "for k in kVals:\n",
    "    knn = KNeighborsClassifier(n_neighbors=k)\n",
    "    knn.fit(X_train,y_train)\n",
    "    pred = knn.predict(X_test)\n",
    "    scores.append(accuracy_score(y_test,pred))\n",
    "    \n",
    "plt.plot(kVals,scores)    \n",
    "print(scores) "
   ]
  },
  {
   "cell_type": "code",
   "execution_count": 43,
   "metadata": {},
   "outputs": [
    {
     "name": "stdout",
     "output_type": "stream",
     "text": [
      "[0.8901960784313725, 0.9248287943940117, 0.8901960784313725, 0.8901960784313725, 0.9114532019704433, 0.8947603121516164, 0.9114532019704433, 0.9248287943940117, 0.9248287943940117, 0.9215686274509802, 0.9215686274509802, 0.9215686274509802]\n"
     ]
    },
    {
     "data": {
      "image/png": "[encoded data removed]",
      "text/plain": [
       "<matplotlib.figure.Figure at 0x1c1aa1eef0>"
      ]
     },
     "metadata": {},
     "output_type": "display_data"
    }
   ],
   "source": [
    "#Ensemble Random Forest Classifier Fine Tunning\n",
    "estimators = [5,10,15,20,30,35,40,45,50,100,200,300]\n",
    "f1_scores = []\n",
    "for e in estimators:\n",
    "    rf_classifier = RandomForestClassifier(n_estimators=e, random_state = 42)\n",
    "    rf_classifier.fit(X_train,y_train)\n",
    "    pred = rf_classifier.predict(X_test)\n",
    "    f1_scores.append(f1_score(y_test,pred,average='weighted'))\n",
    "    \n",
    "plt.plot(estimators,f1_scores) \n",
    "print(f1_scores)"
   ]
  },
  {
   "cell_type": "code",
   "execution_count": 44,
   "metadata": {},
   "outputs": [
    {
     "name": "stdout",
     "output_type": "stream",
     "text": [
      "             precision    recall  f1-score   support\n",
      "\n",
      "          0       0.82      0.69      0.75        13\n",
      "          1       0.93      0.96      0.95        57\n",
      "\n",
      "avg / total       0.91      0.91      0.91        70\n",
      "\n",
      "Accuracy is:  0.9142857142857143\n"
     ]
    }
   ],
   "source": [
    "rf_classifier = RandomForestClassifier(n_estimators=30, random_state = 42)\n",
    "rf_classifier.fit(X_train,y_train)\n",
    "pred = rf_classifier.predict(X_test)\n",
    "dsf = classification_report(y_test,pred)\n",
    "acc = accuracy_score(y_test,pred) \n",
    "print(dsf)\n",
    "print('Accuracy is: ',acc)"
   ]
  },
  {
   "cell_type": "code",
   "execution_count": null,
   "metadata": {},
   "outputs": [],
   "source": []
  }
 ],
 "metadata": {
  "kernelspec": {
   "display_name": "Python 3",
   "language": "python",
   "name": "python3"
  },
  "language_info": {
   "codemirror_mode": {
    "name": "ipython",
    "version": 3
   },
   "file_extension": ".py",
   "mimetype": "text/x-python",
   "name": "python",
   "nbconvert_exporter": "python",
   "pygments_lexer": "ipython3",
   "version": "3.6.4"
  }
 },
 "nbformat": 4,
 "nbformat_minor": 2
}
