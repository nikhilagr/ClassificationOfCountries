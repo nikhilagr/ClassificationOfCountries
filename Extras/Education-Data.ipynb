{
 "cells": [
  {
   "cell_type": "code",
   "execution_count": 8,
   "metadata": {},
   "outputs": [],
   "source": [
    "import pandas as pd\n",
    "import numpy as np\n",
    "from sklearn.model_selection import train_test_split,cross_val_score,KFold\n",
    "from sklearn import metrics\n",
    "from sklearn.metrics import classification_report,confusion_matrix,accuracy_score,f1_score\n",
    "from sklearn.neighbors import KNeighborsClassifier\n",
    "from sklearn.ensemble import RandomForestClassifier\n",
    "from sklearn.ensemble import ExtraTreesClassifier\n",
    "from sklearn import preprocessing\n",
    "from sklearn.preprocessing import MinMaxScaler,StandardScaler,RobustScaler\n",
    "from sklearn.cluster import AgglomerativeClustering\n",
    "\n",
    "#libraries for model performance evaluation\n",
    "from sklearn import metrics\n",
    "from sklearn.metrics import classification_report,confusion_matrix,accuracy_score,f1_score\n",
    "\n",
    "#libraries for visualization\n",
    "import matplotlib.pyplot as plt\n",
    "import seaborn as sns\n",
    "%matplotlib inline\n",
    "from matplotlib.colors import ListedColormap\n",
    "\n",
    "# libraries for computation\n",
    "import pandas as pd\n",
    "import numpy as np\n",
    "from sklearn.decomposition import PCA\n",
    "\n",
    "#library for train test split\n",
    "from sklearn.model_selection import train_test_split,cross_val_score,KFold\n",
    "\n",
    "#library for preprocessing\n",
    "from sklearn.preprocessing import StandardScaler\n",
    "\n",
    "#library for Dimensionality reduction\n",
    "from sklearn.decomposition import PCA\n",
    "from sklearn.decomposition import TruncatedSVD\n",
    "\n",
    "#Library for feature selection techniques\n",
    "from sklearn.feature_selection import RFE\n",
    "from sklearn.feature_selection import RFECV\n",
    "from sklearn.feature_selection import SelectKBest\n",
    "from sklearn.feature_selection import chi2\n",
    "from sklearn.feature_selection import SelectFromModel\n",
    "\n",
    "#libraries for various ML models \n",
    "from sklearn import svm\n",
    "from sklearn.svm import SVC\n",
    "from sklearn.linear_model import LogisticRegression\n",
    "from sklearn.neural_network import MLPClassifier\n",
    "from sklearn.neighbors import KNeighborsClassifier\n",
    "from sklearn.tree import DecisionTreeClassifier\n",
    "#ensemble models\n",
    "from sklearn.ensemble import BaggingClassifier\n",
    "from sklearn.ensemble import AdaBoostClassifier\n",
    "from sklearn.ensemble import GradientBoostingClassifier\n",
    "from sklearn.ensemble import VotingClassifier\n",
    "from sklearn.ensemble import RandomForestClassifier\n",
    "from sklearn.ensemble import ExtraTreesClassifier\n",
    "from sklearn.ensemble import RandomForestRegressor\n",
    "\n",
    "\n",
    "from sklearn.cluster import KMeans\n",
    "\n",
    "#libraries for model performance evaluation\n",
    "from sklearn import metrics\n",
    "from sklearn.metrics import classification_report,confusion_matrix,accuracy_score,f1_score\n",
    "\n",
    "#libraries for visualization\n",
    "import matplotlib.pyplot as plt\n",
    "import seaborn as sns\n",
    "%matplotlib inline\n",
    "from matplotlib.colors import ListedColormap\n",
    "\n",
    "import warnings\n",
    "warnings.filterwarnings('ignore')"
   ]
  },
  {
   "cell_type": "code",
   "execution_count": 5,
   "metadata": {},
   "outputs": [],
   "source": [
    "def plotConfusion(cm):\n",
    "    sns.set_style('white')\n",
    "    plt.clf()\n",
    "    plt.imshow(cm, interpolation='nearest', cmap=plt.cm.Pastel1)\n",
    "    classNames = ['Developed','Developing']\n",
    "    plt.title('Confusion Matrix',fontsize = 15)\n",
    "    plt.ylabel('True label',fontsize=15)\n",
    "    plt.xlabel('Predicted label',fontsize=15)\n",
    "    tick_marks = np.arange(len(classNames))\n",
    "    plt.xticks(tick_marks, classNames,fontsize=12)\n",
    "    plt.yticks(tick_marks, classNames,fontsize=12)\n",
    "    s = [['TP','FN'], ['FP', 'TN']]\n",
    "    for i in range(2):\n",
    "        for j in range(2):\n",
    "            plt.text(j,i, str(s[i][j])+\" = \"+str(cm[i][j]))\n",
    "    plt.show()"
   ]
  },
  {
   "cell_type": "markdown",
   "metadata": {},
   "source": [
    "### Read Data from CSV"
   ]
  },
  {
   "cell_type": "code",
   "execution_count": 9,
   "metadata": {},
   "outputs": [
    {
     "name": "stderr",
     "output_type": "stream",
     "text": [
      "b'Skipping line 207: expected 3 fields, saw 4\\nSkipping line 208: expected 3 fields, saw 4\\nSkipping line 209: expected 3 fields, saw 4\\nSkipping line 210: expected 3 fields, saw 4\\nSkipping line 211: expected 3 fields, saw 4\\nSkipping line 212: expected 3 fields, saw 4\\nSkipping line 213: expected 3 fields, saw 4\\nSkipping line 214: expected 3 fields, saw 4\\nSkipping line 215: expected 3 fields, saw 4\\nSkipping line 216: expected 3 fields, saw 4\\nSkipping line 217: expected 3 fields, saw 4\\nSkipping line 218: expected 3 fields, saw 4\\nSkipping line 219: expected 3 fields, saw 4\\nSkipping line 220: expected 3 fields, saw 4\\nSkipping line 221: expected 3 fields, saw 4\\nSkipping line 222: expected 3 fields, saw 4\\nSkipping line 223: expected 3 fields, saw 4\\nSkipping line 224: expected 3 fields, saw 4\\nSkipping line 225: expected 3 fields, saw 4\\nSkipping line 226: expected 3 fields, saw 4\\nSkipping line 227: expected 3 fields, saw 4\\nSkipping line 228: expected 3 fields, saw 4\\nSkipping line 229: expected 3 fields, saw 4\\nSkipping line 230: expected 3 fields, saw 4\\nSkipping line 231: expected 3 fields, saw 4\\nSkipping line 232: expected 3 fields, saw 4\\nSkipping line 233: expected 3 fields, saw 4\\nSkipping line 234: expected 3 fields, saw 4\\nSkipping line 235: expected 3 fields, saw 4\\nSkipping line 236: expected 3 fields, saw 4\\nSkipping line 237: expected 3 fields, saw 4\\nSkipping line 238: expected 3 fields, saw 4\\nSkipping line 239: expected 3 fields, saw 4\\nSkipping line 240: expected 3 fields, saw 4\\nSkipping line 241: expected 3 fields, saw 4\\nSkipping line 242: expected 3 fields, saw 4\\nSkipping line 243: expected 3 fields, saw 4\\nSkipping line 244: expected 3 fields, saw 4\\nSkipping line 245: expected 3 fields, saw 4\\nSkipping line 246: expected 3 fields, saw 4\\nSkipping line 247: expected 3 fields, saw 4\\nSkipping line 248: expected 3 fields, saw 4\\nSkipping line 249: expected 3 fields, saw 4\\nSkipping line 250: expected 3 fields, saw 4\\nSkipping line 251: expected 3 fields, saw 4\\nSkipping line 252: expected 3 fields, saw 4\\nSkipping line 253: expected 3 fields, saw 4\\nSkipping line 254: expected 3 fields, saw 4\\nSkipping line 255: expected 3 fields, saw 4\\nSkipping line 256: expected 3 fields, saw 4\\nSkipping line 257: expected 3 fields, saw 4\\nSkipping line 258: expected 3 fields, saw 4\\nSkipping line 259: expected 3 fields, saw 4\\nSkipping line 260: expected 3 fields, saw 4\\nSkipping line 261: expected 3 fields, saw 4\\nSkipping line 262: expected 3 fields, saw 4\\nSkipping line 263: expected 3 fields, saw 4\\nSkipping line 264: expected 3 fields, saw 4\\nSkipping line 265: expected 3 fields, saw 4\\nSkipping line 266: expected 3 fields, saw 4\\nSkipping line 267: expected 3 fields, saw 4\\nSkipping line 268: expected 3 fields, saw 4\\nSkipping line 269: expected 3 fields, saw 4\\nSkipping line 270: expected 3 fields, saw 4\\nSkipping line 271: expected 3 fields, saw 4\\nSkipping line 272: expected 3 fields, saw 4\\nSkipping line 273: expected 3 fields, saw 4\\nSkipping line 274: expected 3 fields, saw 4\\nSkipping line 275: expected 3 fields, saw 4\\nSkipping line 276: expected 3 fields, saw 4\\nSkipping line 277: expected 3 fields, saw 4\\nSkipping line 278: expected 3 fields, saw 4\\nSkipping line 279: expected 3 fields, saw 4\\nSkipping line 280: expected 3 fields, saw 4\\nSkipping line 281: expected 3 fields, saw 4\\nSkipping line 282: expected 3 fields, saw 4\\nSkipping line 283: expected 3 fields, saw 4\\nSkipping line 284: expected 3 fields, saw 4\\nSkipping line 285: expected 3 fields, saw 4\\nSkipping line 286: expected 3 fields, saw 4\\nSkipping line 287: expected 3 fields, saw 4\\nSkipping line 288: expected 3 fields, saw 4\\nSkipping line 289: expected 3 fields, saw 4\\nSkipping line 290: expected 3 fields, saw 4\\nSkipping line 291: expected 3 fields, saw 4\\nSkipping line 292: expected 3 fields, saw 4\\nSkipping line 293: expected 3 fields, saw 4\\nSkipping line 294: expected 3 fields, saw 4\\nSkipping line 295: expected 3 fields, saw 4\\nSkipping line 296: expected 3 fields, saw 4\\nSkipping line 297: expected 3 fields, saw 4\\nSkipping line 298: expected 3 fields, saw 4\\nSkipping line 299: expected 3 fields, saw 4\\nSkipping line 300: expected 3 fields, saw 4\\nSkipping line 301: expected 3 fields, saw 4\\nSkipping line 302: expected 3 fields, saw 4\\nSkipping line 303: expected 3 fields, saw 4\\nSkipping line 304: expected 3 fields, saw 4\\nSkipping line 305: expected 3 fields, saw 4\\nSkipping line 306: expected 3 fields, saw 4\\nSkipping line 307: expected 3 fields, saw 4\\nSkipping line 308: expected 3 fields, saw 4\\nSkipping line 309: expected 3 fields, saw 4\\nSkipping line 310: expected 3 fields, saw 4\\nSkipping line 311: expected 3 fields, saw 4\\nSkipping line 312: expected 3 fields, saw 4\\nSkipping line 313: expected 3 fields, saw 4\\nSkipping line 314: expected 3 fields, saw 4\\nSkipping line 315: expected 3 fields, saw 4\\nSkipping line 316: expected 3 fields, saw 4\\nSkipping line 317: expected 3 fields, saw 4\\nSkipping line 318: expected 3 fields, saw 4\\nSkipping line 319: expected 3 fields, saw 4\\nSkipping line 320: expected 3 fields, saw 4\\nSkipping line 321: expected 3 fields, saw 4\\nSkipping line 322: expected 3 fields, saw 4\\nSkipping line 323: expected 3 fields, saw 4\\nSkipping line 324: expected 3 fields, saw 4\\nSkipping line 325: expected 3 fields, saw 4\\nSkipping line 326: expected 3 fields, saw 4\\nSkipping line 327: expected 3 fields, saw 4\\nSkipping line 328: expected 3 fields, saw 4\\nSkipping line 329: expected 3 fields, saw 4\\nSkipping line 330: expected 3 fields, saw 4\\nSkipping line 331: expected 3 fields, saw 4\\nSkipping line 332: expected 3 fields, saw 4\\nSkipping line 333: expected 3 fields, saw 4\\nSkipping line 334: expected 3 fields, saw 4\\nSkipping line 335: expected 3 fields, saw 4\\nSkipping line 336: expected 3 fields, saw 4\\nSkipping line 337: expected 3 fields, saw 4\\nSkipping line 338: expected 3 fields, saw 4\\nSkipping line 339: expected 3 fields, saw 4\\nSkipping line 340: expected 3 fields, saw 4\\nSkipping line 341: expected 3 fields, saw 4\\nSkipping line 342: expected 3 fields, saw 4\\nSkipping line 343: expected 3 fields, saw 4\\nSkipping line 344: expected 3 fields, saw 4\\nSkipping line 345: expected 3 fields, saw 4\\nSkipping line 346: expected 3 fields, saw 4\\nSkipping line 347: expected 3 fields, saw 4\\nSkipping line 348: expected 3 fields, saw 4\\nSkipping line 349: expected 3 fields, saw 4\\nSkipping line 350: expected 3 fields, saw 4\\nSkipping line 351: expected 3 fields, saw 4\\nSkipping line 352: expected 3 fields, saw 4\\nSkipping line 353: expected 3 fields, saw 4\\nSkipping line 354: expected 3 fields, saw 4\\nSkipping line 355: expected 3 fields, saw 4\\nSkipping line 356: expected 3 fields, saw 4\\nSkipping line 357: expected 3 fields, saw 4\\nSkipping line 358: expected 3 fields, saw 4\\nSkipping line 359: expected 3 fields, saw 4\\nSkipping line 360: expected 3 fields, saw 4\\nSkipping line 361: expected 3 fields, saw 4\\nSkipping line 362: expected 3 fields, saw 4\\nSkipping line 363: expected 3 fields, saw 4\\nSkipping line 364: expected 3 fields, saw 4\\nSkipping line 365: expected 3 fields, saw 4\\nSkipping line 366: expected 3 fields, saw 4\\nSkipping line 367: expected 3 fields, saw 4\\nSkipping line 368: expected 3 fields, saw 4\\nSkipping line 369: expected 3 fields, saw 4\\nSkipping line 370: expected 3 fields, saw 4\\nSkipping line 371: expected 3 fields, saw 4\\nSkipping line 372: expected 3 fields, saw 4\\nSkipping line 373: expected 3 fields, saw 4\\nSkipping line 374: expected 3 fields, saw 4\\nSkipping line 375: expected 3 fields, saw 4\\nSkipping line 376: expected 3 fields, saw 4\\nSkipping line 377: expected 3 fields, saw 4\\nSkipping line 378: expected 3 fields, saw 4\\nSkipping line 379: expected 3 fields, saw 4\\nSkipping line 380: expected 3 fields, saw 4\\nSkipping line 381: expected 3 fields, saw 4\\nSkipping line 382: expected 3 fields, saw 4\\nSkipping line 383: expected 3 fields, saw 4\\nSkipping line 384: expected 3 fields, saw 4\\nSkipping line 385: expected 3 fields, saw 4\\nSkipping line 386: expected 3 fields, saw 4\\nSkipping line 387: expected 3 fields, saw 4\\nSkipping line 388: expected 3 fields, saw 4\\nSkipping line 389: expected 3 fields, saw 4\\nSkipping line 390: expected 3 fields, saw 4\\nSkipping line 391: expected 3 fields, saw 4\\nSkipping line 392: expected 3 fields, saw 4\\nSkipping line 393: expected 3 fields, saw 4\\nSkipping line 394: expected 3 fields, saw 4\\nSkipping line 395: expected 3 fields, saw 4\\nSkipping line 396: expected 3 fields, saw 4\\nSkipping line 397: expected 3 fields, saw 4\\nSkipping line 398: expected 3 fields, saw 4\\nSkipping line 399: expected 3 fields, saw 4\\nSkipping line 400: expected 3 fields, saw 4\\nSkipping line 401: expected 3 fields, saw 4\\nSkipping line 402: expected 3 fields, saw 4\\nSkipping line 403: expected 3 fields, saw 4\\nSkipping line 404: expected 3 fields, saw 4\\nSkipping line 405: expected 3 fields, saw 4\\nSkipping line 406: expected 3 fields, saw 4\\nSkipping line 407: expected 3 fields, saw 4\\nSkipping line 408: expected 3 fields, saw 4\\nSkipping line 409: expected 3 fields, saw 4\\nSkipping line 410: expected 3 fields, saw 4\\nSkipping line 411: expected 3 fields, saw 4\\nSkipping line 412: expected 3 fields, saw 4\\nSkipping line 413: expected 3 fields, saw 4\\nSkipping line 414: expected 3 fields, saw 4\\nSkipping line 415: expected 3 fields, saw 4\\nSkipping line 416: expected 3 fields, saw 4\\nSkipping line 417: expected 3 fields, saw 4\\nSkipping line 418: expected 3 fields, saw 4\\nSkipping line 419: expected 3 fields, saw 4\\nSkipping line 420: expected 3 fields, saw 4\\nSkipping line 421: expected 3 fields, saw 4\\nSkipping line 422: expected 3 fields, saw 4\\nSkipping line 423: expected 3 fields, saw 4\\nSkipping line 424: expected 3 fields, saw 4\\nSkipping line 425: expected 3 fields, saw 4\\nSkipping line 426: expected 3 fields, saw 4\\nSkipping line 427: expected 3 fields, saw 4\\nSkipping line 428: expected 3 fields, saw 4\\nSkipping line 429: expected 3 fields, saw 4\\nSkipping line 430: expected 3 fields, saw 4\\nSkipping line 431: expected 3 fields, saw 4\\nSkipping line 432: expected 3 fields, saw 4\\nSkipping line 433: expected 3 fields, saw 4\\nSkipping line 434: expected 3 fields, saw 4\\nSkipping line 435: expected 3 fields, saw 4\\nSkipping line 436: expected 3 fields, saw 4\\nSkipping line 437: expected 3 fields, saw 4\\nSkipping line 438: expected 3 fields, saw 4\\nSkipping line 439: expected 3 fields, saw 4\\nSkipping line 440: expected 3 fields, saw 4\\nSkipping line 441: expected 3 fields, saw 4\\nSkipping line 442: expected 3 fields, saw 4\\nSkipping line 443: expected 3 fields, saw 4\\nSkipping line 444: expected 3 fields, saw 4\\nSkipping line 445: expected 3 fields, saw 4\\nSkipping line 446: expected 3 fields, saw 4\\nSkipping line 447: expected 3 fields, saw 4\\nSkipping line 448: expected 3 fields, saw 4\\nSkipping line 449: expected 3 fields, saw 4\\nSkipping line 450: expected 3 fields, saw 4\\nSkipping line 451: expected 3 fields, saw 4\\nSkipping line 452: expected 3 fields, saw 4\\nSkipping line 453: expected 3 fields, saw 4\\nSkipping line 454: expected 3 fields, saw 4\\nSkipping line 455: expected 3 fields, saw 4\\nSkipping line 456: expected 3 fields, saw 4\\nSkipping line 457: expected 3 fields, saw 4\\nSkipping line 458: expected 3 fields, saw 4\\nSkipping line 459: expected 3 fields, saw 4\\nSkipping line 460: expected 3 fields, saw 4\\nSkipping line 461: expected 3 fields, saw 4\\nSkipping line 462: expected 3 fields, saw 4\\nSkipping line 463: expected 3 fields, saw 4\\nSkipping line 464: expected 3 fields, saw 4\\nSkipping line 465: expected 3 fields, saw 4\\nSkipping line 466: expected 3 fields, saw 4\\nSkipping line 467: expected 3 fields, saw 4\\nSkipping line 468: expected 3 fields, saw 4\\nSkipping line 469: expected 3 fields, saw 4\\nSkipping line 470: expected 3 fields, saw 4\\nSkipping line 471: expected 3 fields, saw 4\\nSkipping line 472: expected 3 fields, saw 4\\nSkipping line 473: expected 3 fields, saw 4\\nSkipping line 474: expected 3 fields, saw 4\\nSkipping line 475: expected 3 fields, saw 4\\nSkipping line 476: expected 3 fields, saw 4\\nSkipping line 477: expected 3 fields, saw 4\\nSkipping line 478: expected 3 fields, saw 4\\nSkipping line 479: expected 3 fields, saw 4\\nSkipping line 480: expected 3 fields, saw 4\\nSkipping line 481: expected 3 fields, saw 4\\nSkipping line 482: expected 3 fields, saw 4\\nSkipping line 483: expected 3 fields, saw 4\\nSkipping line 484: expected 3 fields, saw 4\\nSkipping line 485: expected 3 fields, saw 4\\nSkipping line 486: expected 3 fields, saw 4\\nSkipping line 487: expected 3 fields, saw 4\\nSkipping line 488: expected 3 fields, saw 4\\nSkipping line 489: expected 3 fields, saw 4\\nSkipping line 490: expected 3 fields, saw 4\\nSkipping line 491: expected 3 fields, saw 4\\nSkipping line 492: expected 3 fields, saw 4\\nSkipping line 493: expected 3 fields, saw 4\\nSkipping line 494: expected 3 fields, saw 4\\nSkipping line 495: expected 3 fields, saw 4\\nSkipping line 496: expected 3 fields, saw 4\\nSkipping line 497: expected 3 fields, saw 4\\nSkipping line 498: expected 3 fields, saw 4\\nSkipping line 499: expected 3 fields, saw 4\\nSkipping line 500: expected 3 fields, saw 4\\nSkipping line 501: expected 3 fields, saw 4\\nSkipping line 502: expected 3 fields, saw 4\\nSkipping line 503: expected 3 fields, saw 4\\nSkipping line 504: expected 3 fields, saw 4\\nSkipping line 505: expected 3 fields, saw 4\\nSkipping line 506: expected 3 fields, saw 4\\nSkipping line 507: expected 3 fields, saw 4\\nSkipping line 508: expected 3 fields, saw 4\\nSkipping line 509: expected 3 fields, saw 4\\nSkipping line 510: expected 3 fields, saw 4\\nSkipping line 511: expected 3 fields, saw 4\\nSkipping line 512: expected 3 fields, saw 4\\nSkipping line 513: expected 3 fields, saw 4\\nSkipping line 514: expected 3 fields, saw 4\\nSkipping line 515: expected 3 fields, saw 4\\nSkipping line 516: expected 3 fields, saw 4\\nSkipping line 517: expected 3 fields, saw 4\\nSkipping line 518: expected 3 fields, saw 4\\nSkipping line 519: expected 3 fields, saw 4\\nSkipping line 520: expected 3 fields, saw 4\\nSkipping line 521: expected 3 fields, saw 4\\nSkipping line 522: expected 3 fields, saw 4\\nSkipping line 523: expected 3 fields, saw 4\\nSkipping line 524: expected 3 fields, saw 4\\nSkipping line 525: expected 3 fields, saw 4\\nSkipping line 526: expected 3 fields, saw 4\\nSkipping line 527: expected 3 fields, saw 4\\nSkipping line 528: expected 3 fields, saw 4\\nSkipping line 529: expected 3 fields, saw 4\\nSkipping line 530: expected 3 fields, saw 4\\nSkipping line 531: expected 3 fields, saw 4\\nSkipping line 532: expected 3 fields, saw 4\\nSkipping line 533: expected 3 fields, saw 4\\nSkipping line 534: expected 3 fields, saw 4\\nSkipping line 535: expected 3 fields, saw 4\\nSkipping line 536: expected 3 fields, saw 4\\nSkipping line 537: expected 3 fields, saw 4\\nSkipping line 538: expected 3 fields, saw 4\\nSkipping line 539: expected 3 fields, saw 4\\nSkipping line 540: expected 3 fields, saw 4\\nSkipping line 541: expected 3 fields, saw 4\\nSkipping line 542: expected 3 fields, saw 4\\nSkipping line 543: expected 3 fields, saw 4\\nSkipping line 544: expected 3 fields, saw 4\\nSkipping line 545: expected 3 fields, saw 4\\nSkipping line 546: expected 3 fields, saw 4\\nSkipping line 547: expected 3 fields, saw 4\\nSkipping line 548: expected 3 fields, saw 4\\nSkipping line 549: expected 3 fields, saw 4\\nSkipping line 550: expected 3 fields, saw 4\\nSkipping line 551: expected 3 fields, saw 4\\nSkipping line 552: expected 3 fields, saw 4\\nSkipping line 553: expected 3 fields, saw 4\\nSkipping line 554: expected 3 fields, saw 4\\nSkipping line 555: expected 3 fields, saw 4\\nSkipping line 556: expected 3 fields, saw 4\\nSkipping line 557: expected 3 fields, saw 4\\nSkipping line 558: expected 3 fields, saw 4\\nSkipping line 559: expected 3 fields, saw 4\\nSkipping line 560: expected 3 fields, saw 4\\nSkipping line 561: expected 3 fields, saw 4\\nSkipping line 562: expected 3 fields, saw 4\\nSkipping line 563: expected 3 fields, saw 4\\nSkipping line 564: expected 3 fields, saw 4\\nSkipping line 565: expected 3 fields, saw 4\\nSkipping line 566: expected 3 fields, saw 4\\nSkipping line 567: expected 3 fields, saw 4\\nSkipping line 568: expected 3 fields, saw 4\\nSkipping line 569: expected 3 fields, saw 4\\nSkipping line 570: expected 3 fields, saw 4\\nSkipping line 571: expected 3 fields, saw 4\\nSkipping line 572: expected 3 fields, saw 4\\nSkipping line 573: expected 3 fields, saw 4\\nSkipping line 574: expected 3 fields, saw 4\\nSkipping line 575: expected 3 fields, saw 4\\nSkipping line 576: expected 3 fields, saw 4\\nSkipping line 577: expected 3 fields, saw 4\\nSkipping line 578: expected 3 fields, saw 4\\nSkipping line 579: expected 3 fields, saw 4\\nSkipping line 580: expected 3 fields, saw 4\\nSkipping line 581: expected 3 fields, saw 4\\nSkipping line 582: expected 3 fields, saw 4\\nSkipping line 583: expected 3 fields, saw 4\\nSkipping line 584: expected 3 fields, saw 4\\nSkipping line 585: expected 3 fields, saw 4\\nSkipping line 586: expected 3 fields, saw 4\\nSkipping line 587: expected 3 fields, saw 4\\nSkipping line 588: expected 3 fields, saw 4\\nSkipping line 589: expected 3 fields, saw 4\\nSkipping line 590: expected 3 fields, saw 4\\nSkipping line 591: expected 3 fields, saw 4\\nSkipping line 592: expected 3 fields, saw 4\\nSkipping line 593: expected 3 fields, saw 4\\nSkipping line 594: expected 3 fields, saw 4\\nSkipping line 595: expected 3 fields, saw 4\\nSkipping line 596: expected 3 fields, saw 4\\nSkipping line 597: expected 3 fields, saw 4\\nSkipping line 598: expected 3 fields, saw 4\\nSkipping line 599: expected 3 fields, saw 4\\nSkipping line 600: expected 3 fields, saw 4\\nSkipping line 601: expected 3 fields, saw 4\\nSkipping line 602: expected 3 fields, saw 4\\nSkipping line 603: expected 3 fields, saw 4\\nSkipping line 604: expected 3 fields, saw 4\\nSkipping line 605: expected 3 fields, saw 4\\nSkipping line 606: expected 3 fields, saw 4\\nSkipping line 607: expected 3 fields, saw 4\\nSkipping line 608: expected 3 fields, saw 4\\nSkipping line 609: expected 3 fields, saw 4\\nSkipping line 610: expected 3 fields, saw 4\\nSkipping line 611: expected 3 fields, saw 4\\nSkipping line 612: expected 3 fields, saw 4\\nSkipping line 613: expected 3 fields, saw 4\\nSkipping line 614: expected 3 fields, saw 4\\nSkipping line 615: expected 3 fields, saw 4\\nSkipping line 616: expected 3 fields, saw 4\\nSkipping line 617: expected 3 fields, saw 4\\nSkipping line 618: expected 3 fields, saw 4\\nSkipping line 619: expected 3 fields, saw 4\\nSkipping line 620: expected 3 fields, saw 4\\nSkipping line 621: expected 3 fields, saw 4\\nSkipping line 622: expected 3 fields, saw 4\\nSkipping line 623: expected 3 fields, saw 4\\nSkipping line 624: expected 3 fields, saw 4\\nSkipping line 625: expected 3 fields, saw 4\\nSkipping line 626: expected 3 fields, saw 4\\nSkipping line 627: expected 3 fields, saw 4\\nSkipping line 628: expected 3 fields, saw 4\\nSkipping line 629: expected 3 fields, saw 4\\nSkipping line 630: expected 3 fields, saw 4\\nSkipping line 631: expected 3 fields, saw 4\\nSkipping line 632: expected 3 fields, saw 4\\nSkipping line 633: expected 3 fields, saw 4\\nSkipping line 634: expected 3 fields, saw 4\\nSkipping line 635: expected 3 fields, saw 4\\nSkipping line 636: expected 3 fields, saw 4\\nSkipping line 637: expected 3 fields, saw 4\\nSkipping line 638: expected 3 fields, saw 4\\nSkipping line 639: expected 3 fields, saw 4\\nSkipping line 640: expected 3 fields, saw 4\\nSkipping line 641: expected 3 fields, saw 4\\nSkipping line 642: expected 3 fields, saw 4\\nSkipping line 643: expected 3 fields, saw 4\\nSkipping line 644: expected 3 fields, saw 4\\nSkipping line 645: expected 3 fields, saw 4\\nSkipping line 646: expected 3 fields, saw 4\\nSkipping line 647: expected 3 fields, saw 4\\nSkipping line 648: expected 3 fields, saw 4\\nSkipping line 649: expected 3 fields, saw 4\\nSkipping line 650: expected 3 fields, saw 4\\nSkipping line 651: expected 3 fields, saw 4\\nSkipping line 652: expected 3 fields, saw 4\\nSkipping line 653: expected 3 fields, saw 4\\nSkipping line 654: expected 3 fields, saw 4\\nSkipping line 655: expected 3 fields, saw 4\\nSkipping line 656: expected 3 fields, saw 4\\nSkipping line 657: expected 3 fields, saw 4\\nSkipping line 658: expected 3 fields, saw 4\\nSkipping line 659: expected 3 fields, saw 4\\nSkipping line 660: expected 3 fields, saw 4\\nSkipping line 661: expected 3 fields, saw 4\\nSkipping line 662: expected 3 fields, saw 4\\nSkipping line 663: expected 3 fields, saw 4\\nSkipping line 664: expected 3 fields, saw 4\\nSkipping line 665: expected 3 fields, saw 4\\nSkipping line 666: expected 3 fields, saw 4\\nSkipping line 667: expected 3 fields, saw 4\\nSkipping line 668: expected 3 fields, saw 4\\nSkipping line 669: expected 3 fields, saw 4\\nSkipping line 670: expected 3 fields, saw 4\\nSkipping line 671: expected 3 fields, saw 4\\nSkipping line 672: expected 3 fields, saw 4\\nSkipping line 673: expected 3 fields, saw 4\\nSkipping line 674: expected 3 fields, saw 4\\nSkipping line 675: expected 3 fields, saw 4\\nSkipping line 676: expected 3 fields, saw 4\\nSkipping line 677: expected 3 fields, saw 4\\nSkipping line 678: expected 3 fields, saw 4\\nSkipping line 679: expected 3 fields, saw 4\\nSkipping line 680: expected 3 fields, saw 4\\nSkipping line 681: expected 3 fields, saw 4\\nSkipping line 682: expected 3 fields, saw 4\\nSkipping line 683: expected 3 fields, saw 4\\nSkipping line 684: expected 3 fields, saw 4\\nSkipping line 685: expected 3 fields, saw 4\\nSkipping line 686: expected 3 fields, saw 4\\nSkipping line 687: expected 3 fields, saw 4\\nSkipping line 688: expected 3 fields, saw 4\\nSkipping line 689: expected 3 fields, saw 4\\nSkipping line 690: expected 3 fields, saw 4\\nSkipping line 691: expected 3 fields, saw 4\\nSkipping line 692: expected 3 fields, saw 4\\nSkipping line 693: expected 3 fields, saw 4\\nSkipping line 694: expected 3 fields, saw 4\\nSkipping line 695: expected 3 fields, saw 4\\nSkipping line 696: expected 3 fields, saw 4\\nSkipping line 697: expected 3 fields, saw 4\\nSkipping line 698: expected 3 fields, saw 4\\nSkipping line 699: expected 3 fields, saw 4\\nSkipping line 700: expected 3 fields, saw 4\\nSkipping line 701: expected 3 fields, saw 4\\nSkipping line 702: expected 3 fields, saw 4\\nSkipping line 703: expected 3 fields, saw 4\\nSkipping line 704: expected 3 fields, saw 4\\nSkipping line 705: expected 3 fields, saw 4\\nSkipping line 706: expected 3 fields, saw 4\\nSkipping line 707: expected 3 fields, saw 4\\nSkipping line 708: expected 3 fields, saw 4\\nSkipping line 709: expected 3 fields, saw 4\\nSkipping line 710: expected 3 fields, saw 4\\nSkipping line 711: expected 3 fields, saw 4\\nSkipping line 712: expected 3 fields, saw 4\\nSkipping line 713: expected 3 fields, saw 4\\nSkipping line 714: expected 3 fields, saw 4\\nSkipping line 715: expected 3 fields, saw 4\\nSkipping line 716: expected 3 fields, saw 4\\nSkipping line 717: expected 3 fields, saw 4\\nSkipping line 718: expected 3 fields, saw 4\\nSkipping line 719: expected 3 fields, saw 4\\nSkipping line 720: expected 3 fields, saw 4\\nSkipping line 721: expected 3 fields, saw 4\\nSkipping line 722: expected 3 fields, saw 4\\nSkipping line 723: expected 3 fields, saw 4\\nSkipping line 724: expected 3 fields, saw 4\\nSkipping line 725: expected 3 fields, saw 4\\nSkipping line 726: expected 3 fields, saw 4\\nSkipping line 727: expected 3 fields, saw 4\\nSkipping line 728: expected 3 fields, saw 4\\nSkipping line 729: expected 3 fields, saw 4\\nSkipping line 730: expected 3 fields, saw 4\\nSkipping line 731: expected 3 fields, saw 4\\nSkipping line 732: expected 3 fields, saw 4\\nSkipping line 733: expected 3 fields, saw 4\\nSkipping line 734: expected 3 fields, saw 4\\nSkipping line 735: expected 3 fields, saw 4\\nSkipping line 736: expected 3 fields, saw 4\\nSkipping line 737: expected 3 fields, saw 4\\nSkipping line 738: expected 3 fields, saw 4\\nSkipping line 739: expected 3 fields, saw 4\\nSkipping line 740: expected 3 fields, saw 4\\nSkipping line 741: expected 3 fields, saw 4\\nSkipping line 742: expected 3 fields, saw 4\\nSkipping line 743: expected 3 fields, saw 4\\nSkipping line 744: expected 3 fields, saw 4\\nSkipping line 745: expected 3 fields, saw 4\\nSkipping line 746: expected 3 fields, saw 4\\nSkipping line 747: expected 3 fields, saw 4\\nSkipping line 748: expected 3 fields, saw 4\\nSkipping line 749: expected 3 fields, saw 4\\nSkipping line 750: expected 3 fields, saw 4\\nSkipping line 751: expected 3 fields, saw 4\\nSkipping line 752: expected 3 fields, saw 4\\nSkipping line 753: expected 3 fields, saw 4\\nSkipping line 754: expected 3 fields, saw 4\\nSkipping line 755: expected 3 fields, saw 4\\nSkipping line 756: expected 3 fields, saw 4\\nSkipping line 757: expected 3 fields, saw 4\\nSkipping line 758: expected 3 fields, saw 4\\nSkipping line 759: expected 3 fields, saw 4\\nSkipping line 760: expected 3 fields, saw 4\\nSkipping line 761: expected 3 fields, saw 4\\nSkipping line 762: expected 3 fields, saw 4\\nSkipping line 763: expected 3 fields, saw 4\\nSkipping line 764: expected 3 fields, saw 4\\nSkipping line 765: expected 3 fields, saw 4\\nSkipping line 766: expected 3 fields, saw 4\\nSkipping line 767: expected 3 fields, saw 4\\nSkipping line 768: expected 3 fields, saw 4\\nSkipping line 769: expected 3 fields, saw 4\\nSkipping line 770: expected 3 fields, saw 4\\nSkipping line 771: expected 3 fields, saw 4\\nSkipping line 772: expected 3 fields, saw 4\\nSkipping line 773: expected 3 fields, saw 4\\nSkipping line 774: expected 3 fields, saw 4\\nSkipping line 775: expected 3 fields, saw 4\\nSkipping line 776: expected 3 fields, saw 4\\nSkipping line 777: expected 3 fields, saw 4\\nSkipping line 778: expected 3 fields, saw 4\\nSkipping line 779: expected 3 fields, saw 4\\nSkipping line 780: expected 3 fields, saw 4\\nSkipping line 781: expected 3 fields, saw 4\\nSkipping line 782: expected 3 fields, saw 4\\nSkipping line 783: expected 3 fields, saw 4\\nSkipping line 784: expected 3 fields, saw 4\\nSkipping line 785: expected 3 fields, saw 4\\nSkipping line 786: expected 3 fields, saw 4\\nSkipping line 787: expected 3 fields, saw 4\\nSkipping line 788: expected 3 fields, saw 4\\nSkipping line 789: expected 3 fields, saw 4\\nSkipping line 790: expected 3 fields, saw 4\\nSkipping line 791: expected 3 fields, saw 4\\nSkipping line 792: expected 3 fields, saw 4\\nSkipping line 793: expected 3 fields, saw 4\\nSkipping line 794: expected 3 fields, saw 4\\nSkipping line 795: expected 3 fields, saw 4\\nSkipping line 796: expected 3 fields, saw 4\\nSkipping line 797: expected 3 fields, saw 4\\nSkipping line 798: expected 3 fields, saw 4\\nSkipping line 799: expected 3 fields, saw 4\\nSkipping line 800: expected 3 fields, saw 4\\nSkipping line 801: expected 3 fields, saw 4\\nSkipping line 802: expected 3 fields, saw 4\\nSkipping line 803: expected 3 fields, saw 4\\nSkipping line 804: expected 3 fields, saw 4\\nSkipping line 805: expected 3 fields, saw 4\\nSkipping line 806: expected 3 fields, saw 4\\nSkipping line 807: expected 3 fields, saw 4\\nSkipping line 808: expected 3 fields, saw 4\\nSkipping line 809: expected 3 fields, saw 4\\nSkipping line 810: expected 3 fields, saw 4\\nSkipping line 811: expected 3 fields, saw 4\\nSkipping line 812: expected 3 fields, saw 4\\nSkipping line 813: expected 3 fields, saw 4\\nSkipping line 814: expected 3 fields, saw 4\\nSkipping line 815: expected 3 fields, saw 4\\nSkipping line 816: expected 3 fields, saw 4\\nSkipping line 817: expected 3 fields, saw 4\\nSkipping line 818: expected 3 fields, saw 4\\nSkipping line 819: expected 3 fields, saw 4\\nSkipping line 820: expected 3 fields, saw 4\\nSkipping line 821: expected 3 fields, saw 4\\nSkipping line 822: expected 3 fields, saw 4\\nSkipping line 823: expected 3 fields, saw 4\\nSkipping line 824: expected 3 fields, saw 4\\nSkipping line 825: expected 3 fields, saw 4\\nSkipping line 826: expected 3 fields, saw 4\\nSkipping line 827: expected 3 fields, saw 4\\nSkipping line 828: expected 3 fields, saw 4\\nSkipping line 829: expected 3 fields, saw 4\\nSkipping line 830: expected 3 fields, saw 4\\nSkipping line 831: expected 3 fields, saw 4\\nSkipping line 832: expected 3 fields, saw 4\\nSkipping line 833: expected 3 fields, saw 4\\nSkipping line 834: expected 3 fields, saw 4\\nSkipping line 835: expected 3 fields, saw 4\\nSkipping line 836: expected 3 fields, saw 4\\nSkipping line 837: expected 3 fields, saw 4\\nSkipping line 838: expected 3 fields, saw 4\\nSkipping line 839: expected 3 fields, saw 4\\nSkipping line 840: expected 3 fields, saw 4\\nSkipping line 841: expected 3 fields, saw 4\\nSkipping line 842: expected 3 fields, saw 4\\nSkipping line 843: expected 3 fields, saw 4\\nSkipping line 844: expected 3 fields, saw 4\\nSkipping line 845: expected 3 fields, saw 4\\nSkipping line 846: expected 3 fields, saw 4\\nSkipping line 847: expected 3 fields, saw 4\\nSkipping line 848: expected 3 fields, saw 4\\nSkipping line 849: expected 3 fields, saw 4\\nSkipping line 850: expected 3 fields, saw 4\\nSkipping line 851: expected 3 fields, saw 4\\nSkipping line 852: expected 3 fields, saw 4\\nSkipping line 853: expected 3 fields, saw 4\\nSkipping line 854: expected 3 fields, saw 4\\nSkipping line 855: expected 3 fields, saw 4\\nSkipping line 856: expected 3 fields, saw 4\\nSkipping line 857: expected 3 fields, saw 4\\nSkipping line 858: expected 3 fields, saw 4\\nSkipping line 859: expected 3 fields, saw 4\\nSkipping line 860: expected 3 fields, saw 4\\nSkipping line 861: expected 3 fields, saw 4\\nSkipping line 862: expected 3 fields, saw 4\\nSkipping line 863: expected 3 fields, saw 4\\nSkipping line 864: expected 3 fields, saw 4\\nSkipping line 865: expected 3 fields, saw 4\\nSkipping line 866: expected 3 fields, saw 4\\nSkipping line 867: expected 3 fields, saw 4\\nSkipping line 868: expected 3 fields, saw 4\\nSkipping line 869: expected 3 fields, saw 4\\nSkipping line 870: expected 3 fields, saw 4\\nSkipping line 871: expected 3 fields, saw 4\\nSkipping line 872: expected 3 fields, saw 4\\nSkipping line 873: expected 3 fields, saw 4\\nSkipping line 874: expected 3 fields, saw 4\\nSkipping line 875: expected 3 fields, saw 4\\nSkipping line 876: expected 3 fields, saw 4\\nSkipping line 877: expected 3 fields, saw 4\\nSkipping line 878: expected 3 fields, saw 4\\nSkipping line 879: expected 3 fields, saw 4\\nSkipping line 880: expected 3 fields, saw 4\\nSkipping line 881: expected 3 fields, saw 4\\nSkipping line 882: expected 3 fields, saw 4\\nSkipping line 883: expected 3 fields, saw 4\\nSkipping line 884: expected 3 fields, saw 4\\nSkipping line 885: expected 3 fields, saw 4\\nSkipping line 886: expected 3 fields, saw 4\\nSkipping line 887: expected 3 fields, saw 4\\nSkipping line 888: expected 3 fields, saw 4\\nSkipping line 889: expected 3 fields, saw 4\\nSkipping line 890: expected 3 fields, saw 4\\nSkipping line 891: expected 3 fields, saw 4\\nSkipping line 892: expected 3 fields, saw 4\\nSkipping line 893: expected 3 fields, saw 4\\nSkipping line 894: expected 3 fields, saw 4\\nSkipping line 895: expected 3 fields, saw 4\\nSkipping line 896: expected 3 fields, saw 4\\nSkipping line 897: expected 3 fields, saw 4\\nSkipping line 898: expected 3 fields, saw 4\\nSkipping line 899: expected 3 fields, saw 4\\nSkipping line 900: expected 3 fields, saw 4\\nSkipping line 901: expected 3 fields, saw 4\\nSkipping line 902: expected 3 fields, saw 4\\nSkipping line 903: expected 3 fields, saw 4\\nSkipping line 904: expected 3 fields, saw 4\\nSkipping line 905: expected 3 fields, saw 4\\nSkipping line 906: expected 3 fields, saw 4\\nSkipping line 907: expected 3 fields, saw 4\\nSkipping line 908: expected 3 fields, saw 4\\nSkipping line 909: expected 3 fields, saw 4\\nSkipping line 910: expected 3 fields, saw 4\\nSkipping line 911: expected 3 fields, saw 4\\nSkipping line 912: expected 3 fields, saw 4\\nSkipping line 913: expected 3 fields, saw 4\\nSkipping line 914: expected 3 fields, saw 4\\nSkipping line 915: expected 3 fields, saw 4\\nSkipping line 916: expected 3 fields, saw 4\\nSkipping line 917: expected 3 fields, saw 4\\nSkipping line 918: expected 3 fields, saw 4\\nSkipping line 919: expected 3 fields, saw 4\\nSkipping line 920: expected 3 fields, saw 4\\nSkipping line 921: expected 3 fields, saw 4\\nSkipping line 922: expected 3 fields, saw 4\\nSkipping line 923: expected 3 fields, saw 4\\nSkipping line 924: expected 3 fields, saw 4\\nSkipping line 925: expected 3 fields, saw 4\\nSkipping line 926: expected 3 fields, saw 4\\nSkipping line 927: expected 3 fields, saw 4\\nSkipping line 928: expected 3 fields, saw 4\\nSkipping line 929: expected 3 fields, saw 4\\nSkipping line 930: expected 3 fields, saw 4\\nSkipping line 931: expected 3 fields, saw 4\\nSkipping line 932: expected 3 fields, saw 4\\nSkipping line 933: expected 3 fields, saw 4\\nSkipping line 934: expected 3 fields, saw 4\\nSkipping line 935: expected 3 fields, saw 4\\nSkipping line 936: expected 3 fields, saw 4\\nSkipping line 937: expected 3 fields, saw 4\\nSkipping line 938: expected 3 fields, saw 4\\nSkipping line 939: expected 3 fields, saw 4\\nSkipping line 940: expected 3 fields, saw 4\\nSkipping line 941: expected 3 fields, saw 4\\nSkipping line 942: expected 3 fields, saw 4\\nSkipping line 943: expected 3 fields, saw 4\\nSkipping line 944: expected 3 fields, saw 4\\nSkipping line 945: expected 3 fields, saw 4\\nSkipping line 946: expected 3 fields, saw 4\\nSkipping line 947: expected 3 fields, saw 4\\nSkipping line 948: expected 3 fields, saw 4\\nSkipping line 949: expected 3 fields, saw 4\\nSkipping line 950: expected 3 fields, saw 4\\nSkipping line 951: expected 3 fields, saw 4\\nSkipping line 952: expected 3 fields, saw 4\\nSkipping line 953: expected 3 fields, saw 4\\nSkipping line 954: expected 3 fields, saw 4\\nSkipping line 955: expected 3 fields, saw 4\\nSkipping line 956: expected 3 fields, saw 4\\nSkipping line 957: expected 3 fields, saw 4\\nSkipping line 958: expected 3 fields, saw 4\\nSkipping line 959: expected 3 fields, saw 4\\nSkipping line 960: expected 3 fields, saw 4\\nSkipping line 961: expected 3 fields, saw 4\\nSkipping line 962: expected 3 fields, saw 4\\nSkipping line 963: expected 3 fields, saw 4\\nSkipping line 964: expected 3 fields, saw 4\\nSkipping line 965: expected 3 fields, saw 4\\nSkipping line 966: expected 3 fields, saw 4\\nSkipping line 967: expected 3 fields, saw 4\\nSkipping line 968: expected 3 fields, saw 4\\nSkipping line 969: expected 3 fields, saw 4\\nSkipping line 970: expected 3 fields, saw 4\\nSkipping line 971: expected 3 fields, saw 4\\nSkipping line 972: expected 3 fields, saw 4\\nSkipping line 973: expected 3 fields, saw 4\\nSkipping line 974: expected 3 fields, saw 4\\nSkipping line 975: expected 3 fields, saw 4\\nSkipping line 976: expected 3 fields, saw 4\\nSkipping line 977: expected 3 fields, saw 4\\nSkipping line 978: expected 3 fields, saw 4\\nSkipping line 979: expected 3 fields, saw 4\\nSkipping line 980: expected 3 fields, saw 4\\nSkipping line 981: expected 3 fields, saw 4\\nSkipping line 982: expected 3 fields, saw 4\\nSkipping line 983: expected 3 fields, saw 4\\nSkipping line 984: expected 3 fields, saw 4\\nSkipping line 985: expected 3 fields, saw 4\\nSkipping line 986: expected 3 fields, saw 4\\nSkipping line 987: expected 3 fields, saw 4\\nSkipping line 988: expected 3 fields, saw 4\\nSkipping line 989: expected 3 fields, saw 4\\nSkipping line 990: expected 3 fields, saw 4\\nSkipping line 991: expected 3 fields, saw 4\\nSkipping line 992: expected 3 fields, saw 4\\nSkipping line 993: expected 3 fields, saw 4\\nSkipping line 994: expected 3 fields, saw 4\\nSkipping line 995: expected 3 fields, saw 4\\nSkipping line 996: expected 3 fields, saw 4\\nSkipping line 997: expected 3 fields, saw 4\\nSkipping line 998: expected 3 fields, saw 4\\nSkipping line 999: expected 3 fields, saw 4\\nSkipping line 1000: expected 3 fields, saw 4\\nSkipping line 1001: expected 3 fields, saw 4\\nSkipping line 1002: expected 3 fields, saw 4\\nSkipping line 1003: expected 3 fields, saw 4\\nSkipping line 1004: expected 3 fields, saw 4\\nSkipping line 1005: expected 3 fields, saw 4\\nSkipping line 1006: expected 3 fields, saw 4\\nSkipping line 1007: expected 3 fields, saw 4\\nSkipping line 1008: expected 3 fields, saw 4\\nSkipping line 1009: expected 3 fields, saw 4\\nSkipping line 1010: expected 3 fields, saw 4\\nSkipping line 1011: expected 3 fields, saw 4\\nSkipping line 1012: expected 3 fields, saw 4\\nSkipping line 1013: expected 3 fields, saw 4\\nSkipping line 1014: expected 3 fields, saw 4\\nSkipping line 1015: expected 3 fields, saw 4\\nSkipping line 1016: expected 3 fields, saw 4\\nSkipping line 1017: expected 3 fields, saw 4\\nSkipping line 1018: expected 3 fields, saw 4\\nSkipping line 1019: expected 3 fields, saw 4\\nSkipping line 1020: expected 3 fields, saw 4\\nSkipping line 1021: expected 3 fields, saw 4\\nSkipping line 1022: expected 3 fields, saw 4\\nSkipping line 1023: expected 3 fields, saw 4\\nSkipping line 1024: expected 3 fields, saw 4\\nSkipping line 1025: expected 3 fields, saw 4\\nSkipping line 1026: expected 3 fields, saw 4\\nSkipping line 1027: expected 3 fields, saw 4\\nSkipping line 1028: expected 3 fields, saw 4\\nSkipping line 1029: expected 3 fields, saw 4\\nSkipping line 1030: expected 3 fields, saw 4\\nSkipping line 1031: expected 3 fields, saw 4\\nSkipping line 1032: expected 3 fields, saw 4\\nSkipping line 1033: expected 3 fields, saw 4\\nSkipping line 1034: expected 3 fields, saw 4\\nSkipping line 1035: expected 3 fields, saw 4\\nSkipping line 1036: expected 3 fields, saw 4\\nSkipping line 1037: expected 3 fields, saw 4\\nSkipping line 1038: expected 3 fields, saw 4\\nSkipping line 1039: expected 3 fields, saw 4\\nSkipping line 1040: expected 3 fields, saw 4\\nSkipping line 1041: expected 3 fields, saw 4\\nSkipping line 1042: expected 3 fields, saw 4\\nSkipping line 1043: expected 3 fields, saw 4\\nSkipping line 1044: expected 3 fields, saw 4\\nSkipping line 1045: expected 3 fields, saw 4\\nSkipping line 1046: expected 3 fields, saw 4\\nSkipping line 1047: expected 3 fields, saw 4\\nSkipping line 1048: expected 3 fields, saw 4\\nSkipping line 1049: expected 3 fields, saw 4\\nSkipping line 1050: expected 3 fields, saw 4\\nSkipping line 1051: expected 3 fields, saw 4\\nSkipping line 1052: expected 3 fields, saw 4\\nSkipping line 1053: expected 3 fields, saw 4\\nSkipping line 1054: expected 3 fields, saw 4\\nSkipping line 1055: expected 3 fields, saw 4\\nSkipping line 1056: expected 3 fields, saw 4\\nSkipping line 1057: expected 3 fields, saw 4\\nSkipping line 1058: expected 3 fields, saw 4\\nSkipping line 1059: expected 3 fields, saw 4\\nSkipping line 1060: expected 3 fields, saw 4\\nSkipping line 1061: expected 3 fields, saw 4\\nSkipping line 1062: expected 3 fields, saw 4\\nSkipping line 1063: expected 3 fields, saw 4\\nSkipping line 1064: expected 3 fields, saw 4\\nSkipping line 1065: expected 3 fields, saw 4\\nSkipping line 1066: expected 3 fields, saw 4\\nSkipping line 1067: expected 3 fields, saw 4\\nSkipping line 1068: expected 3 fields, saw 4\\nSkipping line 1069: expected 3 fields, saw 4\\nSkipping line 1070: expected 3 fields, saw 4\\nSkipping line 1071: expected 3 fields, saw 4\\nSkipping line 1072: expected 3 fields, saw 4\\nSkipping line 1073: expected 3 fields, saw 4\\nSkipping line 1074: expected 3 fields, saw 4\\nSkipping line 1075: expected 3 fields, saw 4\\nSkipping line 1076: expected 3 fields, saw 4\\nSkipping line 1077: expected 3 fields, saw 4\\nSkipping line 1078: expected 3 fields, saw 4\\nSkipping line 1079: expected 3 fields, saw 4\\nSkipping line 1080: expected 3 fields, saw 4\\nSkipping line 1081: expected 3 fields, saw 4\\nSkipping line 1082: expected 3 fields, saw 4\\nSkipping line 1083: expected 3 fields, saw 4\\nSkipping line 1084: expected 3 fields, saw 4\\nSkipping line 1085: expected 3 fields, saw 4\\nSkipping line 1086: expected 3 fields, saw 4\\nSkipping line 1087: expected 3 fields, saw 4\\nSkipping line 1088: expected 3 fields, saw 4\\nSkipping line 1089: expected 3 fields, saw 4\\nSkipping line 1090: expected 3 fields, saw 4\\nSkipping line 1091: expected 3 fields, saw 4\\nSkipping line 1092: expected 3 fields, saw 4\\nSkipping line 1093: expected 3 fields, saw 4\\nSkipping line 1094: expected 3 fields, saw 4\\nSkipping line 1095: expected 3 fields, saw 4\\nSkipping line 1096: expected 3 fields, saw 4\\nSkipping line 1097: expected 3 fields, saw 4\\nSkipping line 1098: expected 3 fields, saw 4\\nSkipping line 1099: expected 3 fields, saw 4\\nSkipping line 1100: expected 3 fields, saw 4\\nSkipping line 1101: expected 3 fields, saw 4\\nSkipping line 1102: expected 3 fields, saw 4\\nSkipping line 1103: expected 3 fields, saw 4\\nSkipping line 1104: expected 3 fields, saw 4\\nSkipping line 1105: expected 3 fields, saw 4\\nSkipping line 1106: expected 3 fields, saw 4\\nSkipping line 1107: expected 3 fields, saw 4\\nSkipping line 1108: expected 3 fields, saw 4\\nSkipping line 1109: expected 3 fields, saw 4\\nSkipping line 1110: expected 3 fields, saw 4\\nSkipping line 1111: expected 3 fields, saw 4\\nSkipping line 1112: expected 3 fields, saw 4\\nSkipping line 1113: expected 3 fields, saw 4\\nSkipping line 1114: expected 3 fields, saw 4\\nSkipping line 1115: expected 3 fields, saw 4\\nSkipping line 1116: expected 3 fields, saw 4\\nSkipping line 1117: expected 3 fields, saw 4\\nSkipping line 1118: expected 3 fields, saw 4\\nSkipping line 1119: expected 3 fields, saw 4\\nSkipping line 1120: expected 3 fields, saw 4\\nSkipping line 1121: expected 3 fields, saw 4\\nSkipping line 1122: expected 3 fields, saw 4\\nSkipping line 1123: expected 3 fields, saw 4\\nSkipping line 1124: expected 3 fields, saw 4\\nSkipping line 1125: expected 3 fields, saw 4\\nSkipping line 1126: expected 3 fields, saw 4\\nSkipping line 1127: expected 3 fields, saw 4\\nSkipping line 1128: expected 3 fields, saw 4\\nSkipping line 1129: expected 3 fields, saw 4\\nSkipping line 1130: expected 3 fields, saw 4\\nSkipping line 1131: expected 3 fields, saw 4\\nSkipping line 1132: expected 3 fields, saw 4\\nSkipping line 1133: expected 3 fields, saw 4\\nSkipping line 1134: expected 3 fields, saw 4\\nSkipping line 1135: expected 3 fields, saw 4\\nSkipping line 1136: expected 3 fields, saw 4\\nSkipping line 1137: expected 3 fields, saw 4\\nSkipping line 1138: expected 3 fields, saw 4\\nSkipping line 1139: expected 3 fields, saw 4\\nSkipping line 1140: expected 3 fields, saw 4\\nSkipping line 1141: expected 3 fields, saw 4\\nSkipping line 1142: expected 3 fields, saw 4\\nSkipping line 1143: expected 3 fields, saw 4\\nSkipping line 1144: expected 3 fields, saw 4\\nSkipping line 1145: expected 3 fields, saw 4\\nSkipping line 1146: expected 3 fields, saw 4\\nSkipping line 1147: expected 3 fields, saw 4\\nSkipping line 1148: expected 3 fields, saw 4\\nSkipping line 1149: expected 3 fields, saw 4\\nSkipping line 1150: expected 3 fields, saw 4\\nSkipping line 1151: expected 3 fields, saw 4\\nSkipping line 1152: expected 3 fields, saw 4\\nSkipping line 1153: expected 3 fields, saw 4\\nSkipping line 1154: expected 3 fields, saw 4\\nSkipping line 1155: expected 3 fields, saw 4\\nSkipping line 1156: expected 3 fields, saw 4\\nSkipping line 1157: expected 3 fields, saw 4\\nSkipping line 1158: expected 3 fields, saw 4\\nSkipping line 1159: expected 3 fields, saw 4\\nSkipping line 1160: expected 3 fields, saw 4\\nSkipping line 1161: expected 3 fields, saw 4\\nSkipping line 1162: expected 3 fields, saw 4\\nSkipping line 1163: expected 3 fields, saw 4\\nSkipping line 1164: expected 3 fields, saw 4\\nSkipping line 1165: expected 3 fields, saw 4\\nSkipping line 1166: expected 3 fields, saw 4\\nSkipping line 1167: expected 3 fields, saw 4\\nSkipping line 1168: expected 3 fields, saw 4\\nSkipping line 1169: expected 3 fields, saw 4\\nSkipping line 1170: expected 3 fields, saw 4\\nSkipping line 1171: expected 3 fields, saw 4\\nSkipping line 1172: expected 3 fields, saw 4\\nSkipping line 1173: expected 3 fields, saw 4\\nSkipping line 1174: expected 3 fields, saw 4\\nSkipping line 1175: expected 3 fields, saw 4\\nSkipping line 1176: expected 3 fields, saw 4\\nSkipping line 1177: expected 3 fields, saw 4\\nSkipping line 1178: expected 3 fields, saw 4\\nSkipping line 1179: expected 3 fields, saw 4\\nSkipping line 1180: expected 3 fields, saw 4\\nSkipping line 1181: expected 3 fields, saw 4\\nSkipping line 1182: expected 3 fields, saw 4\\nSkipping line 1183: expected 3 fields, saw 4\\nSkipping line 1184: expected 3 fields, saw 4\\nSkipping line 1185: expected 3 fields, saw 4\\nSkipping line 1186: expected 3 fields, saw 4\\nSkipping line 1187: expected 3 fields, saw 4\\nSkipping line 1188: expected 3 fields, saw 4\\nSkipping line 1189: expected 3 fields, saw 4\\nSkipping line 1190: expected 3 fields, saw 4\\nSkipping line 1191: expected 3 fields, saw 4\\nSkipping line 1192: expected 3 fields, saw 4\\nSkipping line 1193: expected 3 fields, saw 4\\nSkipping line 1194: expected 3 fields, saw 4\\nSkipping line 1195: expected 3 fields, saw 4\\nSkipping line 1196: expected 3 fields, saw 4\\nSkipping line 1197: expected 3 fields, saw 4\\nSkipping line 1198: expected 3 fields, saw 4\\nSkipping line 1199: expected 3 fields, saw 4\\nSkipping line 1200: expected 3 fields, saw 4\\nSkipping line 1201: expected 3 fields, saw 4\\nSkipping line 1202: expected 3 fields, saw 4\\nSkipping line 1203: expected 3 fields, saw 4\\nSkipping line 1204: expected 3 fields, saw 4\\nSkipping line 1205: expected 3 fields, saw 4\\nSkipping line 1206: expected 3 fields, saw 4\\nSkipping line 1207: expected 3 fields, saw 4\\nSkipping line 1208: expected 3 fields, saw 4\\nSkipping line 1209: expected 3 fields, saw 4\\nSkipping line 1210: expected 3 fields, saw 4\\nSkipping line 1211: expected 3 fields, saw 4\\nSkipping line 1212: expected 3 fields, saw 4\\nSkipping line 1213: expected 3 fields, saw 4\\nSkipping line 1214: expected 3 fields, saw 4\\nSkipping line 1215: expected 3 fields, saw 4\\nSkipping line 1216: expected 3 fields, saw 4\\nSkipping line 1217: expected 3 fields, saw 4\\nSkipping line 1218: expected 3 fields, saw 4\\nSkipping line 1219: expected 3 fields, saw 4\\nSkipping line 1220: expected 3 fields, saw 4\\nSkipping line 1221: expected 3 fields, saw 4\\nSkipping line 1222: expected 3 fields, saw 4\\nSkipping line 1223: expected 3 fields, saw 4\\nSkipping line 1224: expected 3 fields, saw 4\\nSkipping line 1225: expected 3 fields, saw 4\\nSkipping line 1226: expected 3 fields, saw 4\\nSkipping line 1227: expected 3 fields, saw 4\\nSkipping line 1228: expected 3 fields, saw 4\\nSkipping line 1229: expected 3 fields, saw 4\\nSkipping line 1230: expected 3 fields, saw 4\\nSkipping line 1231: expected 3 fields, saw 4\\nSkipping line 1232: expected 3 fields, saw 4\\nSkipping line 1233: expected 3 fields, saw 4\\nSkipping line 1234: expected 3 fields, saw 4\\nSkipping line 1235: expected 3 fields, saw 4\\nSkipping line 1236: expected 3 fields, saw 4\\nSkipping line 1237: expected 3 fields, saw 4\\nSkipping line 1238: expected 3 fields, saw 4\\nSkipping line 1239: expected 3 fields, saw 4\\nSkipping line 1240: expected 3 fields, saw 4\\nSkipping line 1241: expected 3 fields, saw 4\\nSkipping line 1242: expected 3 fields, saw 4\\nSkipping line 1243: expected 3 fields, saw 4\\nSkipping line 1244: expected 3 fields, saw 4\\nSkipping line 1245: expected 3 fields, saw 4\\nSkipping line 1246: expected 3 fields, saw 4\\nSkipping line 1247: expected 3 fields, saw 4\\nSkipping line 1248: expected 3 fields, saw 4\\nSkipping line 1249: expected 3 fields, saw 4\\nSkipping line 1250: expected 3 fields, saw 4\\nSkipping line 1251: expected 3 fields, saw 4\\nSkipping line 1252: expected 3 fields, saw 4\\nSkipping line 1253: expected 3 fields, saw 4\\nSkipping line 1254: expected 3 fields, saw 4\\nSkipping line 1255: expected 3 fields, saw 4\\nSkipping line 1256: expected 3 fields, saw 4\\nSkipping line 1257: expected 3 fields, saw 4\\nSkipping line 1258: expected 3 fields, saw 4\\nSkipping line 1259: expected 3 fields, saw 4\\nSkipping line 1260: expected 3 fields, saw 4\\nSkipping line 1261: expected 3 fields, saw 4\\nSkipping line 1262: expected 3 fields, saw 4\\nSkipping line 1263: expected 3 fields, saw 4\\nSkipping line 1264: expected 3 fields, saw 4\\nSkipping line 1265: expected 3 fields, saw 4\\nSkipping line 1266: expected 3 fields, saw 4\\nSkipping line 1267: expected 3 fields, saw 4\\nSkipping line 1268: expected 3 fields, saw 4\\nSkipping line 1269: expected 3 fields, saw 4\\nSkipping line 1270: expected 3 fields, saw 4\\nSkipping line 1271: expected 3 fields, saw 4\\nSkipping line 1272: expected 3 fields, saw 4\\nSkipping line 1273: expected 3 fields, saw 4\\nSkipping line 1274: expected 3 fields, saw 4\\nSkipping line 1275: expected 3 fields, saw 4\\nSkipping line 1276: expected 3 fields, saw 4\\nSkipping line 1277: expected 3 fields, saw 4\\nSkipping line 1278: expected 3 fields, saw 4\\nSkipping line 1279: expected 3 fields, saw 4\\nSkipping line 1280: expected 3 fields, saw 4\\nSkipping line 1281: expected 3 fields, saw 4\\nSkipping line 1282: expected 3 fields, saw 4\\nSkipping line 1283: expected 3 fields, saw 4\\nSkipping line 1284: expected 3 fields, saw 4\\nSkipping line 1285: expected 3 fields, saw 4\\nSkipping line 1286: expected 3 fields, saw 4\\nSkipping line 1287: expected 3 fields, saw 4\\nSkipping line 1288: expected 3 fields, saw 4\\nSkipping line 1289: expected 3 fields, saw 4\\nSkipping line 1290: expected 3 fields, saw 4\\nSkipping line 1291: expected 3 fields, saw 4\\nSkipping line 1292: expected 3 fields, saw 4\\nSkipping line 1293: expected 3 fields, saw 4\\nSkipping line 1294: expected 3 fields, saw 4\\nSkipping line 1295: expected 3 fields, saw 4\\nSkipping line 1296: expected 3 fields, saw 4\\nSkipping line 1297: expected 3 fields, saw 4\\nSkipping line 1298: expected 3 fields, saw 4\\nSkipping line 1299: expected 3 fields, saw 4\\nSkipping line 1300: expected 3 fields, saw 4\\nSkipping line 1301: expected 3 fields, saw 4\\nSkipping line 1302: expected 3 fields, saw 4\\nSkipping line 1303: expected 3 fields, saw 4\\nSkipping line 1304: expected 3 fields, saw 4\\nSkipping line 1305: expected 3 fields, saw 4\\nSkipping line 1306: expected 3 fields, saw 4\\nSkipping line 1307: expected 3 fields, saw 4\\nSkipping line 1308: expected 3 fields, saw 4\\nSkipping line 1309: expected 3 fields, saw 4\\nSkipping line 1310: expected 3 fields, saw 4\\nSkipping line 1311: expected 3 fields, saw 4\\nSkipping line 1312: expected 3 fields, saw 4\\nSkipping line 1313: expected 3 fields, saw 4\\nSkipping line 1314: expected 3 fields, saw 4\\nSkipping line 1315: expected 3 fields, saw 4\\nSkipping line 1316: expected 3 fields, saw 4\\nSkipping line 1317: expected 3 fields, saw 4\\nSkipping line 1318: expected 3 fields, saw 4\\nSkipping line 1319: expected 3 fields, saw 4\\nSkipping line 1320: expected 3 fields, saw 4\\nSkipping line 1321: expected 3 fields, saw 4\\nSkipping line 1322: expected 3 fields, saw 4\\nSkipping line 1323: expected 3 fields, saw 4\\nSkipping line 1324: expected 3 fields, saw 4\\nSkipping line 1325: expected 3 fields, saw 4\\nSkipping line 1326: expected 3 fields, saw 4\\nSkipping line 1327: expected 3 fields, saw 4\\nSkipping line 1328: expected 3 fields, saw 4\\nSkipping line 1329: expected 3 fields, saw 4\\nSkipping line 1330: expected 3 fields, saw 4\\nSkipping line 1331: expected 3 fields, saw 4\\nSkipping line 1332: expected 3 fields, saw 4\\nSkipping line 1333: expected 3 fields, saw 4\\nSkipping line 1334: expected 3 fields, saw 4\\nSkipping line 1335: expected 3 fields, saw 4\\nSkipping line 1336: expected 3 fields, saw 4\\nSkipping line 1337: expected 3 fields, saw 4\\nSkipping line 1338: expected 3 fields, saw 4\\nSkipping line 1339: expected 3 fields, saw 4\\nSkipping line 1340: expected 3 fields, saw 4\\nSkipping line 1341: expected 3 fields, saw 4\\nSkipping line 1342: expected 3 fields, saw 4\\nSkipping line 1343: expected 3 fields, saw 4\\nSkipping line 1344: expected 3 fields, saw 4\\nSkipping line 1345: expected 3 fields, saw 4\\nSkipping line 1346: expected 3 fields, saw 4\\nSkipping line 1347: expected 3 fields, saw 4\\nSkipping line 1348: expected 3 fields, saw 4\\nSkipping line 1349: expected 3 fields, saw 4\\nSkipping line 1350: expected 3 fields, saw 4\\nSkipping line 1351: expected 3 fields, saw 4\\nSkipping line 1352: expected 3 fields, saw 4\\nSkipping line 1353: expected 3 fields, saw 4\\nSkipping line 1354: expected 3 fields, saw 4\\nSkipping line 1355: expected 3 fields, saw 4\\nSkipping line 1356: expected 3 fields, saw 4\\nSkipping line 1357: expected 3 fields, saw 4\\nSkipping line 1358: expected 3 fields, saw 4\\nSkipping line 1359: expected 3 fields, saw 4\\nSkipping line 1360: expected 3 fields, saw 4\\nSkipping line 1361: expected 3 fields, saw 4\\nSkipping line 1362: expected 3 fields, saw 4\\nSkipping line 1363: expected 3 fields, saw 4\\nSkipping line 1364: expected 3 fields, saw 4\\nSkipping line 1365: expected 3 fields, saw 4\\nSkipping line 1366: expected 3 fields, saw 4\\nSkipping line 1367: expected 3 fields, saw 4\\nSkipping line 1368: expected 3 fields, saw 4\\nSkipping line 1369: expected 3 fields, saw 4\\nSkipping line 1370: expected 3 fields, saw 4\\nSkipping line 1371: expected 3 fields, saw 4\\nSkipping line 1372: expected 3 fields, saw 4\\nSkipping line 1373: expected 3 fields, saw 4\\nSkipping line 1374: expected 3 fields, saw 4\\nSkipping line 1375: expected 3 fields, saw 4\\nSkipping line 1376: expected 3 fields, saw 4\\nSkipping line 1377: expected 3 fields, saw 4\\nSkipping line 1378: expected 3 fields, saw 4\\nSkipping line 1379: expected 3 fields, saw 4\\nSkipping line 1380: expected 3 fields, saw 4\\nSkipping line 1381: expected 3 fields, saw 4\\nSkipping line 1382: expected 3 fields, saw 4\\nSkipping line 1383: expected 3 fields, saw 4\\nSkipping line 1384: expected 3 fields, saw 4\\nSkipping line 1385: expected 3 fields, saw 4\\nSkipping line 1386: expected 3 fields, saw 4\\nSkipping line 1387: expected 3 fields, saw 4\\nSkipping line 1388: expected 3 fields, saw 4\\nSkipping line 1389: expected 3 fields, saw 4\\nSkipping line 1390: expected 3 fields, saw 4\\nSkipping line 1391: expected 3 fields, saw 4\\nSkipping line 1392: expected 3 fields, saw 4\\nSkipping line 1393: expected 3 fields, saw 4\\nSkipping line 1394: expected 3 fields, saw 4\\nSkipping line 1395: expected 3 fields, saw 4\\nSkipping line 1396: expected 3 fields, saw 4\\nSkipping line 1397: expected 3 fields, saw 4\\nSkipping line 1398: expected 3 fields, saw 4\\nSkipping line 1399: expected 3 fields, saw 4\\nSkipping line 1400: expected 3 fields, saw 4\\nSkipping line 1401: expected 3 fields, saw 4\\nSkipping line 1402: expected 3 fields, saw 4\\nSkipping line 1403: expected 3 fields, saw 4\\nSkipping line 1404: expected 3 fields, saw 4\\nSkipping line 1405: expected 3 fields, saw 4\\nSkipping line 1406: expected 3 fields, saw 4\\nSkipping line 1407: expected 3 fields, saw 4\\nSkipping line 1408: expected 3 fields, saw 4\\nSkipping line 1409: expected 3 fields, saw 4\\nSkipping line 1410: expected 3 fields, saw 4\\nSkipping line 1411: expected 3 fields, saw 4\\nSkipping line 1412: expected 3 fields, saw 4\\nSkipping line 1413: expected 3 fields, saw 4\\nSkipping line 1414: expected 3 fields, saw 4\\nSkipping line 1415: expected 3 fields, saw 4\\nSkipping line 1416: expected 3 fields, saw 4\\nSkipping line 1417: expected 3 fields, saw 4\\nSkipping line 1418: expected 3 fields, saw 4\\nSkipping line 1419: expected 3 fields, saw 4\\nSkipping line 1420: expected 3 fields, saw 4\\nSkipping line 1421: expected 3 fields, saw 4\\nSkipping line 1422: expected 3 fields, saw 4\\nSkipping line 1423: expected 3 fields, saw 4\\nSkipping line 1424: expected 3 fields, saw 4\\nSkipping line 1425: expected 3 fields, saw 4\\nSkipping line 1426: expected 3 fields, saw 4\\nSkipping line 1427: expected 3 fields, saw 4\\nSkipping line 1428: expected 3 fields, saw 4\\nSkipping line 1429: expected 3 fields, saw 4\\nSkipping line 1430: expected 3 fields, saw 4\\nSkipping line 1431: expected 3 fields, saw 4\\nSkipping line 1432: expected 3 fields, saw 4\\nSkipping line 1433: expected 3 fields, saw 4\\nSkipping line 1434: expected 3 fields, saw 4\\nSkipping line 1435: expected 3 fields, saw 4\\nSkipping line 1436: expected 3 fields, saw 4\\nSkipping line 1437: expected 3 fields, saw 4\\nSkipping line 1438: expected 3 fields, saw 4\\nSkipping line 1439: expected 3 fields, saw 4\\nSkipping line 1440: expected 3 fields, saw 4\\nSkipping line 1441: expected 3 fields, saw 4\\nSkipping line 1442: expected 3 fields, saw 4\\nSkipping line 1443: expected 3 fields, saw 4\\nSkipping line 1444: expected 3 fields, saw 4\\nSkipping line 1445: expected 3 fields, saw 4\\nSkipping line 1446: expected 3 fields, saw 4\\nSkipping line 1447: expected 3 fields, saw 4\\nSkipping line 1448: expected 3 fields, saw 4\\nSkipping line 1449: expected 3 fields, saw 4\\nSkipping line 1450: expected 3 fields, saw 4\\nSkipping line 1451: expected 3 fields, saw 4\\nSkipping line 1452: expected 3 fields, saw 4\\nSkipping line 1453: expected 3 fields, saw 4\\nSkipping line 1454: expected 3 fields, saw 4\\nSkipping line 1455: expected 3 fields, saw 4\\nSkipping line 1456: expected 3 fields, saw 4\\nSkipping line 1457: expected 3 fields, saw 4\\nSkipping line 1458: expected 3 fields, saw 4\\nSkipping line 1459: expected 3 fields, saw 4\\nSkipping line 1460: expected 3 fields, saw 4\\nSkipping line 1461: expected 3 fields, saw 4\\nSkipping line 1462: expected 3 fields, saw 4\\nSkipping line 1463: expected 3 fields, saw 4\\nSkipping line 1464: expected 3 fields, saw 4\\nSkipping line 1465: expected 3 fields, saw 4\\nSkipping line 1466: expected 3 fields, saw 4\\nSkipping line 1467: expected 3 fields, saw 4\\nSkipping line 1468: expected 3 fields, saw 4\\nSkipping line 1469: expected 3 fields, saw 4\\nSkipping line 1470: expected 3 fields, saw 4\\nSkipping line 1471: expected 3 fields, saw 4\\nSkipping line 1472: expected 3 fields, saw 4\\nSkipping line 1473: expected 3 fields, saw 4\\nSkipping line 1474: expected 3 fields, saw 4\\nSkipping line 1475: expected 3 fields, saw 4\\nSkipping line 1476: expected 3 fields, saw 4\\nSkipping line 1477: expected 3 fields, saw 4\\nSkipping line 1478: expected 3 fields, saw 4\\nSkipping line 1479: expected 3 fields, saw 4\\nSkipping line 1480: expected 3 fields, saw 4\\nSkipping line 1481: expected 3 fields, saw 4\\nSkipping line 1482: expected 3 fields, saw 4\\nSkipping line 1483: expected 3 fields, saw 4\\nSkipping line 1484: expected 3 fields, saw 4\\nSkipping line 1485: expected 3 fields, saw 4\\nSkipping line 1486: expected 3 fields, saw 4\\nSkipping line 1487: expected 3 fields, saw 4\\nSkipping line 1488: expected 3 fields, saw 4\\nSkipping line 1489: expected 3 fields, saw 4\\nSkipping line 1490: expected 3 fields, saw 4\\nSkipping line 1491: expected 3 fields, saw 4\\nSkipping line 1492: expected 3 fields, saw 4\\nSkipping line 1493: expected 3 fields, saw 4\\nSkipping line 1494: expected 3 fields, saw 4\\nSkipping line 1495: expected 3 fields, saw 4\\nSkipping line 1496: expected 3 fields, saw 4\\nSkipping line 1497: expected 3 fields, saw 4\\nSkipping line 1498: expected 3 fields, saw 4\\nSkipping line 1499: expected 3 fields, saw 4\\nSkipping line 1500: expected 3 fields, saw 4\\nSkipping line 1501: expected 3 fields, saw 4\\nSkipping line 1502: expected 3 fields, saw 4\\nSkipping line 1503: expected 3 fields, saw 4\\nSkipping line 1504: expected 3 fields, saw 4\\nSkipping line 1505: expected 3 fields, saw 4\\nSkipping line 1506: expected 3 fields, saw 4\\nSkipping line 1507: expected 3 fields, saw 4\\nSkipping line 1508: expected 3 fields, saw 4\\nSkipping line 1509: expected 3 fields, saw 4\\nSkipping line 1510: expected 3 fields, saw 4\\nSkipping line 1511: expected 3 fields, saw 4\\nSkipping line 1512: expected 3 fields, saw 4\\nSkipping line 1513: expected 3 fields, saw 4\\nSkipping line 1514: expected 3 fields, saw 4\\nSkipping line 1515: expected 3 fields, saw 4\\nSkipping line 1516: expected 3 fields, saw 4\\nSkipping line 1517: expected 3 fields, saw 4\\nSkipping line 1518: expected 3 fields, saw 4\\nSkipping line 1519: expected 3 fields, saw 4\\nSkipping line 1520: expected 3 fields, saw 4\\nSkipping line 1521: expected 3 fields, saw 4\\nSkipping line 1522: expected 3 fields, saw 4\\nSkipping line 1523: expected 3 fields, saw 4\\nSkipping line 1524: expected 3 fields, saw 4\\nSkipping line 1525: expected 3 fields, saw 4\\nSkipping line 1526: expected 3 fields, saw 4\\nSkipping line 1527: expected 3 fields, saw 4\\nSkipping line 1528: expected 3 fields, saw 4\\nSkipping line 1529: expected 3 fields, saw 4\\nSkipping line 1530: expected 3 fields, saw 4\\nSkipping line 1531: expected 3 fields, saw 4\\nSkipping line 1532: expected 3 fields, saw 4\\nSkipping line 1533: expected 3 fields, saw 4\\nSkipping line 1534: expected 3 fields, saw 4\\nSkipping line 1535: expected 3 fields, saw 4\\nSkipping line 1536: expected 3 fields, saw 4\\nSkipping line 1537: expected 3 fields, saw 4\\nSkipping line 1538: expected 3 fields, saw 4\\nSkipping line 1539: expected 3 fields, saw 4\\nSkipping line 1540: expected 3 fields, saw 4\\nSkipping line 1541: expected 3 fields, saw 4\\nSkipping line 1542: expected 3 fields, saw 4\\nSkipping line 1543: expected 3 fields, saw 4\\nSkipping line 1544: expected 3 fields, saw 4\\nSkipping line 1545: expected 3 fields, saw 4\\nSkipping line 1546: expected 3 fields, saw 4\\nSkipping line 1547: expected 3 fields, saw 4\\nSkipping line 1548: expected 3 fields, saw 4\\nSkipping line 1549: expected 3 fields, saw 4\\nSkipping line 1550: expected 3 fields, saw 4\\nSkipping line 1551: expected 3 fields, saw 4\\nSkipping line 1552: expected 3 fields, saw 4\\nSkipping line 1553: expected 3 fields, saw 4\\nSkipping line 1554: expected 3 fields, saw 4\\nSkipping line 1555: expected 3 fields, saw 4\\nSkipping line 1556: expected 3 fields, saw 4\\nSkipping line 1557: expected 3 fields, saw 4\\nSkipping line 1558: expected 3 fields, saw 4\\nSkipping line 1559: expected 3 fields, saw 4\\nSkipping line 1560: expected 3 fields, saw 4\\nSkipping line 1561: expected 3 fields, saw 4\\nSkipping line 1562: expected 3 fields, saw 4\\nSkipping line 1563: expected 3 fields, saw 4\\nSkipping line 1564: expected 3 fields, saw 4\\nSkipping line 1565: expected 3 fields, saw 4\\nSkipping line 1566: expected 3 fields, saw 4\\nSkipping line 1567: expected 3 fields, saw 4\\nSkipping line 1568: expected 3 fields, saw 4\\nSkipping line 1569: expected 3 fields, saw 4\\nSkipping line 1570: expected 3 fields, saw 4\\nSkipping line 1571: expected 3 fields, saw 4\\nSkipping line 1572: expected 3 fields, saw 4\\nSkipping line 1573: expected 3 fields, saw 4\\nSkipping line 1574: expected 3 fields, saw 4\\nSkipping line 1575: expected 3 fields, saw 4\\nSkipping line 1576: expected 3 fields, saw 4\\nSkipping line 1577: expected 3 fields, saw 4\\nSkipping line 1578: expected 3 fields, saw 4\\nSkipping line 1579: expected 3 fields, saw 4\\nSkipping line 1580: expected 3 fields, saw 4\\nSkipping line 1581: expected 3 fields, saw 4\\nSkipping line 1582: expected 3 fields, saw 4\\nSkipping line 1583: expected 3 fields, saw 4\\nSkipping line 1584: expected 3 fields, saw 4\\nSkipping line 1585: expected 3 fields, saw 4\\nSkipping line 1586: expected 3 fields, saw 4\\nSkipping line 1587: expected 3 fields, saw 4\\nSkipping line 1588: expected 3 fields, saw 4\\nSkipping line 1589: expected 3 fields, saw 4\\nSkipping line 1590: expected 3 fields, saw 4\\nSkipping line 1591: expected 3 fields, saw 4\\nSkipping line 1592: expected 3 fields, saw 4\\nSkipping line 1593: expected 3 fields, saw 4\\nSkipping line 1594: expected 3 fields, saw 4\\nSkipping line 1595: expected 3 fields, saw 4\\nSkipping line 1596: expected 3 fields, saw 4\\nSkipping line 1597: expected 3 fields, saw 4\\nSkipping line 1598: expected 3 fields, saw 4\\nSkipping line 1599: expected 3 fields, saw 4\\nSkipping line 1600: expected 3 fields, saw 4\\nSkipping line 1601: expected 3 fields, saw 4\\nSkipping line 1602: expected 3 fields, saw 4\\nSkipping line 1603: expected 3 fields, saw 4\\nSkipping line 1604: expected 3 fields, saw 4\\nSkipping line 1605: expected 3 fields, saw 4\\nSkipping line 1606: expected 3 fields, saw 4\\nSkipping line 1607: expected 3 fields, saw 4\\nSkipping line 1608: expected 3 fields, saw 4\\nSkipping line 1609: expected 3 fields, saw 4\\nSkipping line 1610: expected 3 fields, saw 4\\nSkipping line 1611: expected 3 fields, saw 4\\nSkipping line 1612: expected 3 fields, saw 4\\nSkipping line 1613: expected 3 fields, saw 4\\nSkipping line 1614: expected 3 fields, saw 4\\nSkipping line 1615: expected 3 fields, saw 4\\nSkipping line 1616: expected 3 fields, saw 4\\nSkipping line 1617: expected 3 fields, saw 4\\nSkipping line 1618: expected 3 fields, saw 4\\nSkipping line 1619: expected 3 fields, saw 4\\nSkipping line 1620: expected 3 fields, saw 4\\nSkipping line 1621: expected 3 fields, saw 4\\nSkipping line 1622: expected 3 fields, saw 4\\nSkipping line 1623: expected 3 fields, saw 4\\nSkipping line 1624: expected 3 fields, saw 4\\nSkipping line 1625: expected 3 fields, saw 4\\nSkipping line 1626: expected 3 fields, saw 4\\nSkipping line 1627: expected 3 fields, saw 4\\nSkipping line 1628: expected 3 fields, saw 4\\nSkipping line 1629: expected 3 fields, saw 4\\nSkipping line 1630: expected 3 fields, saw 4\\nSkipping line 1631: expected 3 fields, saw 4\\nSkipping line 1632: expected 3 fields, saw 4\\nSkipping line 1633: expected 3 fields, saw 4\\nSkipping line 1634: expected 3 fields, saw 4\\nSkipping line 1635: expected 3 fields, saw 4\\nSkipping line 1636: expected 3 fields, saw 4\\nSkipping line 1637: expected 3 fields, saw 4\\nSkipping line 1638: expected 3 fields, saw 4\\nSkipping line 1639: expected 3 fields, saw 4\\nSkipping line 1640: expected 3 fields, saw 4\\nSkipping line 1641: expected 3 fields, saw 4\\nSkipping line 1642: expected 3 fields, saw 4\\nSkipping line 1643: expected 3 fields, saw 4\\nSkipping line 1644: expected 3 fields, saw 4\\nSkipping line 1645: expected 3 fields, saw 4\\nSkipping line 1646: expected 3 fields, saw 4\\nSkipping line 1647: expected 3 fields, saw 4\\nSkipping line 1648: expected 3 fields, saw 4\\nSkipping line 1649: expected 3 fields, saw 4\\nSkipping line 1650: expected 3 fields, saw 4\\nSkipping line 1651: expected 3 fields, saw 4\\nSkipping line 1652: expected 3 fields, saw 4\\nSkipping line 1653: expected 3 fields, saw 4\\nSkipping line 1654: expected 3 fields, saw 4\\nSkipping line 1655: expected 3 fields, saw 4\\nSkipping line 1656: expected 3 fields, saw 4\\nSkipping line 1657: expected 3 fields, saw 4\\nSkipping line 1658: expected 3 fields, saw 4\\nSkipping line 1659: expected 3 fields, saw 4\\nSkipping line 1660: expected 3 fields, saw 4\\nSkipping line 1661: expected 3 fields, saw 4\\nSkipping line 1662: expected 3 fields, saw 4\\nSkipping line 1663: expected 3 fields, saw 4\\nSkipping line 1664: expected 3 fields, saw 4\\nSkipping line 1665: expected 3 fields, saw 4\\nSkipping line 1666: expected 3 fields, saw 4\\nSkipping line 1667: expected 3 fields, saw 4\\nSkipping line 1668: expected 3 fields, saw 4\\nSkipping line 1669: expected 3 fields, saw 4\\nSkipping line 1670: expected 3 fields, saw 4\\nSkipping line 1671: expected 3 fields, saw 4\\nSkipping line 1672: expected 3 fields, saw 4\\nSkipping line 1673: expected 3 fields, saw 4\\nSkipping line 1674: expected 3 fields, saw 4\\nSkipping line 1675: expected 3 fields, saw 4\\nSkipping line 1676: expected 3 fields, saw 4\\nSkipping line 1677: expected 3 fields, saw 4\\nSkipping line 1678: expected 3 fields, saw 4\\nSkipping line 1679: expected 3 fields, saw 4\\nSkipping line 1680: expected 3 fields, saw 4\\nSkipping line 1681: expected 3 fields, saw 4\\nSkipping line 1682: expected 3 fields, saw 4\\nSkipping line 1683: expected 3 fields, saw 4\\nSkipping line 1684: expected 3 fields, saw 4\\nSkipping line 1685: expected 3 fields, saw 4\\nSkipping line 1686: expected 3 fields, saw 4\\nSkipping line 1687: expected 3 fields, saw 4\\nSkipping line 1688: expected 3 fields, saw 4\\nSkipping line 1689: expected 3 fields, saw 4\\nSkipping line 1690: expected 3 fields, saw 4\\nSkipping line 1691: expected 3 fields, saw 4\\nSkipping line 1692: expected 3 fields, saw 4\\nSkipping line 1693: expected 3 fields, saw 4\\nSkipping line 1694: expected 3 fields, saw 4\\nSkipping line 1695: expected 3 fields, saw 4\\nSkipping line 1696: expected 3 fields, saw 4\\nSkipping line 1697: expected 3 fields, saw 4\\nSkipping line 1698: expected 3 fields, saw 4\\nSkipping line 1699: expected 3 fields, saw 4\\nSkipping line 1700: expected 3 fields, saw 4\\nSkipping line 1701: expected 3 fields, saw 4\\nSkipping line 1702: expected 3 fields, saw 4\\nSkipping line 1703: expected 3 fields, saw 4\\nSkipping line 1704: expected 3 fields, saw 4\\nSkipping line 1705: expected 3 fields, saw 4\\nSkipping line 1706: expected 3 fields, saw 4\\nSkipping line 1707: expected 3 fields, saw 4\\nSkipping line 1708: expected 3 fields, saw 4\\nSkipping line 1709: expected 3 fields, saw 4\\nSkipping line 1710: expected 3 fields, saw 4\\nSkipping line 1711: expected 3 fields, saw 4\\nSkipping line 1712: expected 3 fields, saw 4\\nSkipping line 1713: expected 3 fields, saw 4\\nSkipping line 1714: expected 3 fields, saw 4\\nSkipping line 1715: expected 3 fields, saw 4\\nSkipping line 1716: expected 3 fields, saw 4\\nSkipping line 1717: expected 3 fields, saw 4\\nSkipping line 1718: expected 3 fields, saw 4\\nSkipping line 1719: expected 3 fields, saw 4\\nSkipping line 1720: expected 3 fields, saw 4\\nSkipping line 1721: expected 3 fields, saw 4\\nSkipping line 1722: expected 3 fields, saw 4\\nSkipping line 1723: expected 3 fields, saw 4\\nSkipping line 1724: expected 3 fields, saw 4\\nSkipping line 1725: expected 3 fields, saw 4\\nSkipping line 1726: expected 3 fields, saw 4\\nSkipping line 1727: expected 3 fields, saw 4\\nSkipping line 1728: expected 3 fields, saw 4\\nSkipping line 1729: expected 3 fields, saw 4\\nSkipping line 1730: expected 3 fields, saw 4\\nSkipping line 1731: expected 3 fields, saw 4\\nSkipping line 1732: expected 3 fields, saw 4\\nSkipping line 1733: expected 3 fields, saw 4\\nSkipping line 1734: expected 3 fields, saw 4\\nSkipping line 1735: expected 3 fields, saw 4\\nSkipping line 1736: expected 3 fields, saw 4\\nSkipping line 1737: expected 3 fields, saw 4\\nSkipping line 1738: expected 3 fields, saw 4\\nSkipping line 1739: expected 3 fields, saw 4\\nSkipping line 1740: expected 3 fields, saw 4\\nSkipping line 1741: expected 3 fields, saw 4\\nSkipping line 1742: expected 3 fields, saw 4\\nSkipping line 1743: expected 3 fields, saw 4\\nSkipping line 1744: expected 3 fields, saw 4\\nSkipping line 1745: expected 3 fields, saw 4\\nSkipping line 1746: expected 3 fields, saw 4\\nSkipping line 1747: expected 3 fields, saw 4\\nSkipping line 1748: expected 3 fields, saw 4\\nSkipping line 1749: expected 3 fields, saw 4\\nSkipping line 1750: expected 3 fields, saw 4\\nSkipping line 1751: expected 3 fields, saw 4\\nSkipping line 1752: expected 3 fields, saw 4\\nSkipping line 1753: expected 3 fields, saw 4\\nSkipping line 1754: expected 3 fields, saw 4\\nSkipping line 1755: expected 3 fields, saw 4\\nSkipping line 1756: expected 3 fields, saw 4\\nSkipping line 1757: expected 3 fields, saw 4\\nSkipping line 1758: expected 3 fields, saw 4\\nSkipping line 1759: expected 3 fields, saw 4\\nSkipping line 1760: expected 3 fields, saw 4\\nSkipping line 1761: expected 3 fields, saw 4\\nSkipping line 1762: expected 3 fields, saw 4\\nSkipping line 1763: expected 3 fields, saw 4\\nSkipping line 1764: expected 3 fields, saw 4\\nSkipping line 1765: expected 3 fields, saw 4\\nSkipping line 1766: expected 3 fields, saw 4\\nSkipping line 1767: expected 3 fields, saw 4\\nSkipping line 1768: expected 3 fields, saw 4\\nSkipping line 1769: expected 3 fields, saw 4\\nSkipping line 1770: expected 3 fields, saw 4\\nSkipping line 1771: expected 3 fields, saw 4\\nSkipping line 1772: expected 3 fields, saw 4\\nSkipping line 1773: expected 3 fields, saw 4\\nSkipping line 1774: expected 3 fields, saw 4\\nSkipping line 1775: expected 3 fields, saw 4\\nSkipping line 1776: expected 3 fields, saw 4\\nSkipping line 1777: expected 3 fields, saw 4\\nSkipping line 1778: expected 3 fields, saw 4\\nSkipping line 1779: expected 3 fields, saw 4\\nSkipping line 1780: expected 3 fields, saw 4\\nSkipping line 1781: expected 3 fields, saw 4\\nSkipping line 1782: expected 3 fields, saw 4\\nSkipping line 1783: expected 3 fields, saw 4\\nSkipping line 1784: expected 3 fields, saw 4\\nSkipping line 1785: expected 3 fields, saw 4\\nSkipping line 1786: expected 3 fields, saw 4\\nSkipping line 1787: expected 3 fields, saw 4\\nSkipping line 1788: expected 3 fields, saw 4\\nSkipping line 1789: expected 3 fields, saw 4\\nSkipping line 1790: expected 3 fields, saw 4\\nSkipping line 1791: expected 3 fields, saw 4\\nSkipping line 1792: expected 3 fields, saw 4\\nSkipping line 1793: expected 3 fields, saw 4\\nSkipping line 1794: expected 3 fields, saw 4\\nSkipping line 1795: expected 3 fields, saw 4\\nSkipping line 1796: expected 3 fields, saw 4\\nSkipping line 1797: expected 3 fields, saw 4\\nSkipping line 1798: expected 3 fields, saw 4\\nSkipping line 1799: expected 3 fields, saw 4\\nSkipping line 1800: expected 3 fields, saw 4\\nSkipping line 1801: expected 3 fields, saw 4\\nSkipping line 1802: expected 3 fields, saw 4\\nSkipping line 1803: expected 3 fields, saw 4\\nSkipping line 1804: expected 3 fields, saw 4\\nSkipping line 1805: expected 3 fields, saw 4\\nSkipping line 1806: expected 3 fields, saw 4\\nSkipping line 1807: expected 3 fields, saw 4\\nSkipping line 1808: expected 3 fields, saw 4\\nSkipping line 1809: expected 3 fields, saw 4\\nSkipping line 1810: expected 3 fields, saw 4\\nSkipping line 1811: expected 3 fields, saw 4\\nSkipping line 1812: expected 3 fields, saw 4\\nSkipping line 1813: expected 3 fields, saw 4\\nSkipping line 1814: expected 3 fields, saw 4\\nSkipping line 1815: expected 3 fields, saw 4\\nSkipping line 1816: expected 3 fields, saw 4\\nSkipping line 1817: expected 3 fields, saw 4\\nSkipping line 1818: expected 3 fields, saw 4\\nSkipping line 1819: expected 3 fields, saw 4\\nSkipping line 1820: expected 3 fields, saw 4\\nSkipping line 1821: expected 3 fields, saw 4\\nSkipping line 1822: expected 3 fields, saw 4\\nSkipping line 1823: expected 3 fields, saw 4\\nSkipping line 1824: expected 3 fields, saw 4\\nSkipping line 1825: expected 3 fields, saw 4\\nSkipping line 1826: expected 3 fields, saw 4\\nSkipping line 1827: expected 3 fields, saw 4\\nSkipping line 1828: expected 3 fields, saw 4\\nSkipping line 1829: expected 3 fields, saw 4\\nSkipping line 1830: expected 3 fields, saw 4\\nSkipping line 1831: expected 3 fields, saw 4\\nSkipping line 1832: expected 3 fields, saw 4\\nSkipping line 1833: expected 3 fields, saw 4\\nSkipping line 1834: expected 3 fields, saw 4\\nSkipping line 1835: expected 3 fields, saw 4\\nSkipping line 1836: expected 3 fields, saw 4\\nSkipping line 1837: expected 3 fields, saw 4\\nSkipping line 1838: expected 3 fields, saw 4\\nSkipping line 1839: expected 3 fields, saw 4\\nSkipping line 1840: expected 3 fields, saw 4\\nSkipping line 1841: expected 3 fields, saw 4\\nSkipping line 1842: expected 3 fields, saw 4\\nSkipping line 1843: expected 3 fields, saw 4\\nSkipping line 1844: expected 3 fields, saw 4\\nSkipping line 1845: expected 3 fields, saw 4\\nSkipping line 1846: expected 3 fields, saw 4\\nSkipping line 1847: expected 3 fields, saw 4\\nSkipping line 1848: expected 3 fields, saw 4\\nSkipping line 1849: expected 3 fields, saw 4\\nSkipping line 1850: expected 3 fields, saw 4\\nSkipping line 1851: expected 3 fields, saw 4\\nSkipping line 1852: expected 3 fields, saw 4\\nSkipping line 1853: expected 3 fields, saw 4\\nSkipping line 1854: expected 3 fields, saw 4\\nSkipping line 1855: expected 3 fields, saw 4\\nSkipping line 1856: expected 3 fields, saw 4\\nSkipping line 1857: expected 3 fields, saw 4\\nSkipping line 1858: expected 3 fields, saw 4\\nSkipping line 1859: expected 3 fields, saw 4\\nSkipping line 1860: expected 3 fields, saw 4\\nSkipping line 1861: expected 3 fields, saw 4\\nSkipping line 1862: expected 3 fields, saw 4\\nSkipping line 1863: expected 3 fields, saw 4\\nSkipping line 1864: expected 3 fields, saw 4\\nSkipping line 1865: expected 3 fields, saw 4\\nSkipping line 1866: expected 3 fields, saw 4\\nSkipping line 1867: expected 3 fields, saw 4\\nSkipping line 1868: expected 3 fields, saw 4\\nSkipping line 1869: expected 3 fields, saw 4\\nSkipping line 1870: expected 3 fields, saw 4\\nSkipping line 1871: expected 3 fields, saw 4\\nSkipping line 1872: expected 3 fields, saw 4\\nSkipping line 1873: expected 3 fields, saw 4\\nSkipping line 1874: expected 3 fields, saw 4\\nSkipping line 1875: expected 3 fields, saw 4\\nSkipping line 1876: expected 3 fields, saw 4\\nSkipping line 1877: expected 3 fields, saw 4\\nSkipping line 1878: expected 3 fields, saw 4\\nSkipping line 1879: expected 3 fields, saw 4\\nSkipping line 1880: expected 3 fields, saw 4\\nSkipping line 1881: expected 3 fields, saw 4\\nSkipping line 1882: expected 3 fields, saw 4\\nSkipping line 1883: expected 3 fields, saw 4\\nSkipping line 1884: expected 3 fields, saw 4\\nSkipping line 1885: expected 3 fields, saw 4\\nSkipping line 1886: expected 3 fields, saw 4\\nSkipping line 1887: expected 3 fields, saw 4\\nSkipping line 1888: expected 3 fields, saw 4\\nSkipping line 1889: expected 3 fields, saw 4\\nSkipping line 1890: expected 3 fields, saw 4\\nSkipping line 1891: expected 3 fields, saw 4\\nSkipping line 1892: expected 3 fields, saw 4\\nSkipping line 1893: expected 3 fields, saw 4\\nSkipping line 1894: expected 3 fields, saw 4\\nSkipping line 1895: expected 3 fields, saw 4\\nSkipping line 1896: expected 3 fields, saw 4\\nSkipping line 1897: expected 3 fields, saw 4\\nSkipping line 1898: expected 3 fields, saw 4\\nSkipping line 1899: expected 3 fields, saw 4\\nSkipping line 1900: expected 3 fields, saw 4\\nSkipping line 1901: expected 3 fields, saw 4\\nSkipping line 1902: expected 3 fields, saw 4\\nSkipping line 1903: expected 3 fields, saw 4\\nSkipping line 1904: expected 3 fields, saw 4\\nSkipping line 1905: expected 3 fields, saw 4\\nSkipping line 1906: expected 3 fields, saw 4\\nSkipping line 1907: expected 3 fields, saw 4\\nSkipping line 1908: expected 3 fields, saw 4\\nSkipping line 1909: expected 3 fields, saw 4\\nSkipping line 1910: expected 3 fields, saw 4\\nSkipping line 1911: expected 3 fields, saw 4\\nSkipping line 1912: expected 3 fields, saw 4\\nSkipping line 1913: expected 3 fields, saw 4\\nSkipping line 1914: expected 3 fields, saw 4\\nSkipping line 1915: expected 3 fields, saw 4\\nSkipping line 1916: expected 3 fields, saw 4\\nSkipping line 1917: expected 3 fields, saw 4\\nSkipping line 1918: expected 3 fields, saw 4\\nSkipping line 1919: expected 3 fields, saw 4\\nSkipping line 1920: expected 3 fields, saw 4\\nSkipping line 1921: expected 3 fields, saw 4\\nSkipping line 1922: expected 3 fields, saw 4\\nSkipping line 1923: expected 3 fields, saw 4\\nSkipping line 1924: expected 3 fields, saw 4\\nSkipping line 1925: expected 3 fields, saw 4\\nSkipping line 1926: expected 3 fields, saw 4\\nSkipping line 1927: expected 3 fields, saw 4\\nSkipping line 1928: expected 3 fields, saw 4\\nSkipping line 1929: expected 3 fields, saw 4\\nSkipping line 1930: expected 3 fields, saw 4\\nSkipping line 1931: expected 3 fields, saw 4\\nSkipping line 1932: expected 3 fields, saw 4\\nSkipping line 1933: expected 3 fields, saw 4\\nSkipping line 1934: expected 3 fields, saw 4\\nSkipping line 1935: expected 3 fields, saw 4\\nSkipping line 1936: expected 3 fields, saw 4\\nSkipping line 1937: expected 3 fields, saw 4\\nSkipping line 1938: expected 3 fields, saw 4\\nSkipping line 1939: expected 3 fields, saw 4\\nSkipping line 1940: expected 3 fields, saw 4\\nSkipping line 1941: expected 3 fields, saw 4\\nSkipping line 1942: expected 3 fields, saw 4\\nSkipping line 1943: expected 3 fields, saw 4\\nSkipping line 1944: expected 3 fields, saw 4\\nSkipping line 1945: expected 3 fields, saw 4\\nSkipping line 1946: expected 3 fields, saw 4\\nSkipping line 1947: expected 3 fields, saw 4\\nSkipping line 1948: expected 3 fields, saw 4\\nSkipping line 1949: expected 3 fields, saw 4\\nSkipping line 1950: expected 3 fields, saw 4\\nSkipping line 1951: expected 3 fields, saw 4\\nSkipping line 1952: expected 3 fields, saw 4\\nSkipping line 1953: expected 3 fields, saw 4\\nSkipping line 1954: expected 3 fields, saw 4\\nSkipping line 1955: expected 3 fields, saw 4\\nSkipping line 1956: expected 3 fields, saw 4\\nSkipping line 1957: expected 3 fields, saw 4\\nSkipping line 1958: expected 3 fields, saw 4\\nSkipping line 1959: expected 3 fields, saw 4\\nSkipping line 1960: expected 3 fields, saw 4\\nSkipping line 1961: expected 3 fields, saw 4\\nSkipping line 1962: expected 3 fields, saw 4\\nSkipping line 1963: expected 3 fields, saw 4\\nSkipping line 1964: expected 3 fields, saw 4\\nSkipping line 1965: expected 3 fields, saw 4\\nSkipping line 1966: expected 3 fields, saw 4\\nSkipping line 1967: expected 3 fields, saw 4\\nSkipping line 1968: expected 3 fields, saw 4\\nSkipping line 1969: expected 3 fields, saw 4\\nSkipping line 1970: expected 3 fields, saw 4\\nSkipping line 1971: expected 3 fields, saw 4\\nSkipping line 1972: expected 3 fields, saw 4\\nSkipping line 1973: expected 3 fields, saw 4\\nSkipping line 1974: expected 3 fields, saw 4\\nSkipping line 1975: expected 3 fields, saw 4\\nSkipping line 1976: expected 3 fields, saw 4\\nSkipping line 1977: expected 3 fields, saw 4\\nSkipping line 1978: expected 3 fields, saw 4\\nSkipping line 1979: expected 3 fields, saw 4\\nSkipping line 1980: expected 3 fields, saw 4\\nSkipping line 1981: expected 3 fields, saw 4\\nSkipping line 1982: expected 3 fields, saw 4\\nSkipping line 1983: expected 3 fields, saw 4\\nSkipping line 1984: expected 3 fields, saw 4\\nSkipping line 1985: expected 3 fields, saw 4\\nSkipping line 1986: expected 3 fields, saw 4\\nSkipping line 1987: expected 3 fields, saw 4\\nSkipping line 1988: expected 3 fields, saw 4\\nSkipping line 1989: expected 3 fields, saw 4\\nSkipping line 1990: expected 3 fields, saw 4\\nSkipping line 1991: expected 3 fields, saw 4\\nSkipping line 1992: expected 3 fields, saw 4\\nSkipping line 1993: expected 3 fields, saw 4\\nSkipping line 1994: expected 3 fields, saw 4\\nSkipping line 1995: expected 3 fields, saw 4\\nSkipping line 1996: expected 3 fields, saw 4\\nSkipping line 1997: expected 3 fields, saw 4\\nSkipping line 1998: expected 3 fields, saw 4\\nSkipping line 1999: expected 3 fields, saw 4\\nSkipping line 2000: expected 3 fields, saw 4\\nSkipping line 2001: expected 3 fields, saw 4\\nSkipping line 2002: expected 3 fields, saw 4\\nSkipping line 2003: expected 3 fields, saw 4\\nSkipping line 2004: expected 3 fields, saw 4\\nSkipping line 2005: expected 3 fields, saw 4\\nSkipping line 2006: expected 3 fields, saw 4\\nSkipping line 2007: expected 3 fields, saw 4\\nSkipping line 2008: expected 3 fields, saw 4\\nSkipping line 2009: expected 3 fields, saw 4\\nSkipping line 2010: expected 3 fields, saw 4\\nSkipping line 2011: expected 3 fields, saw 4\\nSkipping line 2012: expected 3 fields, saw 4\\nSkipping line 2013: expected 3 fields, saw 4\\nSkipping line 2014: expected 3 fields, saw 4\\nSkipping line 2015: expected 3 fields, saw 4\\nSkipping line 2016: expected 3 fields, saw 4\\nSkipping line 2017: expected 3 fields, saw 4\\nSkipping line 2018: expected 3 fields, saw 4\\nSkipping line 2019: expected 3 fields, saw 4\\nSkipping line 2020: expected 3 fields, saw 4\\nSkipping line 2021: expected 3 fields, saw 4\\nSkipping line 2022: expected 3 fields, saw 4\\nSkipping line 2023: expected 3 fields, saw 4\\nSkipping line 2024: expected 3 fields, saw 4\\nSkipping line 2025: expected 3 fields, saw 4\\nSkipping line 2026: expected 3 fields, saw 4\\nSkipping line 2027: expected 3 fields, saw 4\\nSkipping line 2028: expected 3 fields, saw 4\\nSkipping line 2029: expected 3 fields, saw 4\\nSkipping line 2030: expected 3 fields, saw 4\\nSkipping line 2031: expected 3 fields, saw 4\\nSkipping line 2032: expected 3 fields, saw 4\\nSkipping line 2033: expected 3 fields, saw 4\\nSkipping line 2034: expected 3 fields, saw 4\\nSkipping line 2035: expected 3 fields, saw 4\\nSkipping line 2036: expected 3 fields, saw 4\\nSkipping line 2037: expected 3 fields, saw 4\\nSkipping line 2038: expected 3 fields, saw 4\\nSkipping line 2039: expected 3 fields, saw 4\\nSkipping line 2040: expected 3 fields, saw 4\\nSkipping line 2041: expected 3 fields, saw 4\\nSkipping line 2042: expected 3 fields, saw 4\\nSkipping line 2043: expected 3 fields, saw 4\\nSkipping line 2044: expected 3 fields, saw 4\\nSkipping line 2045: expected 3 fields, saw 4\\nSkipping line 2046: expected 3 fields, saw 4\\nSkipping line 2047: expected 3 fields, saw 4\\nSkipping line 2048: expected 3 fields, saw 4\\nSkipping line 2049: expected 3 fields, saw 4\\nSkipping line 2050: expected 3 fields, saw 4\\nSkipping line 2051: expected 3 fields, saw 4\\nSkipping line 2052: expected 3 fields, saw 4\\nSkipping line 2053: expected 3 fields, saw 4\\nSkipping line 2054: expected 3 fields, saw 4\\nSkipping line 2055: expected 3 fields, saw 4\\nSkipping line 2056: expected 3 fields, saw 4\\nSkipping line 2057: expected 3 fields, saw 4\\nSkipping line 2058: expected 3 fields, saw 4\\nSkipping line 2059: expected 3 fields, saw 4\\nSkipping line 2060: expected 3 fields, saw 4\\nSkipping line 2061: expected 3 fields, saw 4\\nSkipping line 2062: expected 3 fields, saw 4\\nSkipping line 2063: expected 3 fields, saw 4\\nSkipping line 2064: expected 3 fields, saw 4\\nSkipping line 2065: expected 3 fields, saw 4\\nSkipping line 2066: expected 3 fields, saw 4\\nSkipping line 2067: expected 3 fields, saw 4\\nSkipping line 2068: expected 3 fields, saw 4\\nSkipping line 2069: expected 3 fields, saw 4\\nSkipping line 2070: expected 3 fields, saw 4\\nSkipping line 2071: expected 3 fields, saw 4\\nSkipping line 2072: expected 3 fields, saw 4\\nSkipping line 2073: expected 3 fields, saw 4\\nSkipping line 2074: expected 3 fields, saw 4\\nSkipping line 2075: expected 3 fields, saw 4\\nSkipping line 2076: expected 3 fields, saw 4\\nSkipping line 2077: expected 3 fields, saw 4\\nSkipping line 2078: expected 3 fields, saw 4\\nSkipping line 2079: expected 3 fields, saw 4\\nSkipping line 2080: expected 3 fields, saw 4\\nSkipping line 2081: expected 3 fields, saw 4\\nSkipping line 2082: expected 3 fields, saw 4\\nSkipping line 2083: expected 3 fields, saw 4\\nSkipping line 2084: expected 3 fields, saw 4\\nSkipping line 2085: expected 3 fields, saw 4\\nSkipping line 2086: expected 3 fields, saw 4\\nSkipping line 2087: expected 3 fields, saw 4\\nSkipping line 2088: expected 3 fields, saw 4\\nSkipping line 2089: expected 3 fields, saw 4\\nSkipping line 2090: expected 3 fields, saw 4\\nSkipping line 2091: expected 3 fields, saw 4\\nSkipping line 2092: expected 3 fields, saw 4\\nSkipping line 2093: expected 3 fields, saw 4\\nSkipping line 2094: expected 3 fields, saw 4\\nSkipping line 2095: expected 3 fields, saw 4\\nSkipping line 2096: expected 3 fields, saw 4\\nSkipping line 2097: expected 3 fields, saw 4\\nSkipping line 2098: expected 3 fields, saw 4\\nSkipping line 2099: expected 3 fields, saw 4\\nSkipping line 2100: expected 3 fields, saw 4\\nSkipping line 2101: expected 3 fields, saw 4\\nSkipping line 2102: expected 3 fields, saw 4\\nSkipping line 2103: expected 3 fields, saw 4\\nSkipping line 2104: expected 3 fields, saw 4\\nSkipping line 2105: expected 3 fields, saw 4\\nSkipping line 2106: expected 3 fields, saw 4\\nSkipping line 2107: expected 3 fields, saw 4\\nSkipping line 2108: expected 3 fields, saw 4\\nSkipping line 2109: expected 3 fields, saw 4\\nSkipping line 2110: expected 3 fields, saw 4\\nSkipping line 2111: expected 3 fields, saw 4\\nSkipping line 2112: expected 3 fields, saw 4\\nSkipping line 2113: expected 3 fields, saw 4\\nSkipping line 2114: expected 3 fields, saw 4\\nSkipping line 2115: expected 3 fields, saw 4\\nSkipping line 2116: expected 3 fields, saw 4\\nSkipping line 2117: expected 3 fields, saw 4\\nSkipping line 2118: expected 3 fields, saw 4\\nSkipping line 2119: expected 3 fields, saw 4\\nSkipping line 2120: expected 3 fields, saw 4\\nSkipping line 2121: expected 3 fields, saw 4\\nSkipping line 2122: expected 3 fields, saw 4\\nSkipping line 2123: expected 3 fields, saw 4\\nSkipping line 2124: expected 3 fields, saw 4\\nSkipping line 2125: expected 3 fields, saw 4\\nSkipping line 2126: expected 3 fields, saw 4\\nSkipping line 2127: expected 3 fields, saw 4\\nSkipping line 2128: expected 3 fields, saw 4\\nSkipping line 2129: expected 3 fields, saw 4\\nSkipping line 2130: expected 3 fields, saw 4\\nSkipping line 2131: expected 3 fields, saw 4\\nSkipping line 2132: expected 3 fields, saw 4\\nSkipping line 2133: expected 3 fields, saw 4\\nSkipping line 2134: expected 3 fields, saw 4\\nSkipping line 2135: expected 3 fields, saw 4\\nSkipping line 2136: expected 3 fields, saw 4\\nSkipping line 2137: expected 3 fields, saw 4\\nSkipping line 2138: expected 3 fields, saw 4\\nSkipping line 2139: expected 3 fields, saw 4\\nSkipping line 2140: expected 3 fields, saw 4\\nSkipping line 2141: expected 3 fields, saw 4\\nSkipping line 2142: expected 3 fields, saw 4\\nSkipping line 2143: expected 3 fields, saw 4\\nSkipping line 2144: expected 3 fields, saw 4\\nSkipping line 2145: expected 3 fields, saw 4\\nSkipping line 2146: expected 3 fields, saw 4\\nSkipping line 2147: expected 3 fields, saw 4\\nSkipping line 2148: expected 3 fields, saw 4\\nSkipping line 2149: expected 3 fields, saw 4\\nSkipping line 2150: expected 3 fields, saw 4\\nSkipping line 2151: expected 3 fields, saw 4\\nSkipping line 2152: expected 3 fields, saw 4\\nSkipping line 2153: expected 3 fields, saw 4\\nSkipping line 2154: expected 3 fields, saw 4\\nSkipping line 2155: expected 3 fields, saw 4\\nSkipping line 2156: expected 3 fields, saw 4\\nSkipping line 2157: expected 3 fields, saw 4\\nSkipping line 2158: expected 3 fields, saw 4\\nSkipping line 2159: expected 3 fields, saw 4\\nSkipping line 2160: expected 3 fields, saw 4\\nSkipping line 2161: expected 3 fields, saw 4\\nSkipping line 2162: expected 3 fields, saw 4\\nSkipping line 2163: expected 3 fields, saw 4\\nSkipping line 2164: expected 3 fields, saw 4\\nSkipping line 2165: expected 3 fields, saw 4\\nSkipping line 2166: expected 3 fields, saw 4\\nSkipping line 2167: expected 3 fields, saw 4\\nSkipping line 2168: expected 3 fields, saw 4\\nSkipping line 2169: expected 3 fields, saw 4\\nSkipping line 2170: expected 3 fields, saw 4\\nSkipping line 2171: expected 3 fields, saw 4\\nSkipping line 2172: expected 3 fields, saw 4\\nSkipping line 2173: expected 3 fields, saw 4\\nSkipping line 2174: expected 3 fields, saw 4\\nSkipping line 2175: expected 3 fields, saw 4\\nSkipping line 2176: expected 3 fields, saw 4\\nSkipping line 2177: expected 3 fields, saw 4\\nSkipping line 2178: expected 3 fields, saw 4\\nSkipping line 2179: expected 3 fields, saw 4\\nSkipping line 2180: expected 3 fields, saw 4\\nSkipping line 2181: expected 3 fields, saw 4\\nSkipping line 2182: expected 3 fields, saw 4\\nSkipping line 2183: expected 3 fields, saw 4\\nSkipping line 2184: expected 3 fields, saw 4\\nSkipping line 2185: expected 3 fields, saw 4\\nSkipping line 2186: expected 3 fields, saw 4\\nSkipping line 2187: expected 3 fields, saw 4\\nSkipping line 2188: expected 3 fields, saw 4\\nSkipping line 2189: expected 3 fields, saw 4\\nSkipping line 2190: expected 3 fields, saw 4\\nSkipping line 2191: expected 3 fields, saw 4\\nSkipping line 2192: expected 3 fields, saw 4\\nSkipping line 2193: expected 3 fields, saw 4\\nSkipping line 2194: expected 3 fields, saw 4\\nSkipping line 2195: expected 3 fields, saw 4\\nSkipping line 2196: expected 3 fields, saw 4\\nSkipping line 2197: expected 3 fields, saw 4\\nSkipping line 2198: expected 3 fields, saw 4\\nSkipping line 2199: expected 3 fields, saw 4\\nSkipping line 2200: expected 3 fields, saw 4\\nSkipping line 2201: expected 3 fields, saw 4\\nSkipping line 2202: expected 3 fields, saw 4\\nSkipping line 2203: expected 3 fields, saw 4\\nSkipping line 2204: expected 3 fields, saw 4\\nSkipping line 2205: expected 3 fields, saw 4\\nSkipping line 2206: expected 3 fields, saw 4\\nSkipping line 2207: expected 3 fields, saw 4\\nSkipping line 2208: expected 3 fields, saw 4\\nSkipping line 2209: expected 3 fields, saw 4\\nSkipping line 2210: expected 3 fields, saw 4\\nSkipping line 2211: expected 3 fields, saw 4\\nSkipping line 2212: expected 3 fields, saw 4\\nSkipping line 2213: expected 3 fields, saw 4\\nSkipping line 2214: expected 3 fields, saw 4\\nSkipping line 2215: expected 3 fields, saw 4\\nSkipping line 2216: expected 3 fields, saw 4\\nSkipping line 2217: expected 3 fields, saw 4\\nSkipping line 2218: expected 3 fields, saw 4\\nSkipping line 2219: expected 3 fields, saw 4\\nSkipping line 2220: expected 3 fields, saw 4\\nSkipping line 2221: expected 3 fields, saw 4\\nSkipping line 2222: expected 3 fields, saw 4\\nSkipping line 2223: expected 3 fields, saw 4\\nSkipping line 2224: expected 3 fields, saw 4\\nSkipping line 2225: expected 3 fields, saw 4\\nSkipping line 2226: expected 3 fields, saw 4\\nSkipping line 2227: expected 3 fields, saw 4\\nSkipping line 2228: expected 3 fields, saw 4\\nSkipping line 2229: expected 3 fields, saw 4\\nSkipping line 2230: expected 3 fields, saw 4\\nSkipping line 2231: expected 3 fields, saw 4\\nSkipping line 2232: expected 3 fields, saw 4\\nSkipping line 2233: expected 3 fields, saw 4\\nSkipping line 2234: expected 3 fields, saw 4\\nSkipping line 2235: expected 3 fields, saw 4\\nSkipping line 2236: expected 3 fields, saw 4\\nSkipping line 2237: expected 3 fields, saw 4\\nSkipping line 2238: expected 3 fields, saw 4\\nSkipping line 2239: expected 3 fields, saw 4\\nSkipping line 2240: expected 3 fields, saw 4\\nSkipping line 2241: expected 3 fields, saw 4\\nSkipping line 2242: expected 3 fields, saw 4\\nSkipping line 2243: expected 3 fields, saw 4\\nSkipping line 2244: expected 3 fields, saw 4\\nSkipping line 2245: expected 3 fields, saw 4\\nSkipping line 2246: expected 3 fields, saw 4\\nSkipping line 2247: expected 3 fields, saw 4\\nSkipping line 2248: expected 3 fields, saw 4\\nSkipping line 2249: expected 3 fields, saw 4\\nSkipping line 2250: expected 3 fields, saw 4\\nSkipping line 2251: expected 3 fields, saw 4\\nSkipping line 2252: expected 3 fields, saw 4\\nSkipping line 2253: expected 3 fields, saw 4\\nSkipping line 2254: expected 3 fields, saw 4\\nSkipping line 2255: expected 3 fields, saw 4\\nSkipping line 2256: expected 3 fields, saw 4\\nSkipping line 2257: expected 3 fields, saw 4\\nSkipping line 2258: expected 3 fields, saw 4\\nSkipping line 2259: expected 3 fields, saw 4\\nSkipping line 2260: expected 3 fields, saw 4\\nSkipping line 2261: expected 3 fields, saw 4\\nSkipping line 2262: expected 3 fields, saw 4\\nSkipping line 2263: expected 3 fields, saw 4\\nSkipping line 2264: expected 3 fields, saw 4\\nSkipping line 2265: expected 3 fields, saw 4\\nSkipping line 2266: expected 3 fields, saw 4\\nSkipping line 2267: expected 3 fields, saw 4\\nSkipping line 2268: expected 3 fields, saw 4\\nSkipping line 2269: expected 3 fields, saw 4\\nSkipping line 2270: expected 3 fields, saw 4\\nSkipping line 2271: expected 3 fields, saw 4\\nSkipping line 2272: expected 3 fields, saw 4\\nSkipping line 2273: expected 3 fields, saw 4\\nSkipping line 2274: expected 3 fields, saw 4\\nSkipping line 2275: expected 3 fields, saw 4\\nSkipping line 2276: expected 3 fields, saw 4\\nSkipping line 2277: expected 3 fields, saw 4\\nSkipping line 2278: expected 3 fields, saw 4\\nSkipping line 2279: expected 3 fields, saw 4\\nSkipping line 2280: expected 3 fields, saw 4\\nSkipping line 2281: expected 3 fields, saw 4\\nSkipping line 2282: expected 3 fields, saw 4\\nSkipping line 2283: expected 3 fields, saw 4\\nSkipping line 2284: expected 3 fields, saw 4\\nSkipping line 2285: expected 3 fields, saw 4\\nSkipping line 2286: expected 3 fields, saw 4\\nSkipping line 2287: expected 3 fields, saw 4\\nSkipping line 2288: expected 3 fields, saw 4\\nSkipping line 2289: expected 3 fields, saw 4\\nSkipping line 2290: expected 3 fields, saw 4\\nSkipping line 2291: expected 3 fields, saw 4\\nSkipping line 2292: expected 3 fields, saw 4\\nSkipping line 2293: expected 3 fields, saw 4\\nSkipping line 2294: expected 3 fields, saw 4\\nSkipping line 2295: expected 3 fields, saw 4\\nSkipping line 2296: expected 3 fields, saw 4\\nSkipping line 2297: expected 3 fields, saw 4\\nSkipping line 2298: expected 3 fields, saw 4\\nSkipping line 2299: expected 3 fields, saw 4\\nSkipping line 2300: expected 3 fields, saw 4\\nSkipping line 2301: expected 3 fields, saw 4\\nSkipping line 2302: expected 3 fields, saw 4\\nSkipping line 2303: expected 3 fields, saw 4\\nSkipping line 2304: expected 3 fields, saw 4\\nSkipping line 2305: expected 3 fields, saw 4\\nSkipping line 2306: expected 3 fields, saw 4\\nSkipping line 2307: expected 3 fields, saw 4\\nSkipping line 2308: expected 3 fields, saw 4\\nSkipping line 2309: expected 3 fields, saw 4\\nSkipping line 2310: expected 3 fields, saw 4\\nSkipping line 2311: expected 3 fields, saw 4\\nSkipping line 2312: expected 3 fields, saw 4\\nSkipping line 2313: expected 3 fields, saw 4\\nSkipping line 2314: expected 3 fields, saw 4\\nSkipping line 2315: expected 3 fields, saw 4\\nSkipping line 2316: expected 3 fields, saw 4\\nSkipping line 2317: expected 3 fields, saw 4\\nSkipping line 2318: expected 3 fields, saw 4\\nSkipping line 2319: expected 3 fields, saw 4\\nSkipping line 2320: expected 3 fields, saw 4\\nSkipping line 2321: expected 3 fields, saw 4\\nSkipping line 2322: expected 3 fields, saw 4\\nSkipping line 2323: expected 3 fields, saw 4\\nSkipping line 2324: expected 3 fields, saw 4\\nSkipping line 2325: expected 3 fields, saw 4\\nSkipping line 2326: expected 3 fields, saw 4\\nSkipping line 2327: expected 3 fields, saw 4\\nSkipping line 2328: expected 3 fields, saw 4\\nSkipping line 2329: expected 3 fields, saw 4\\nSkipping line 2330: expected 3 fields, saw 4\\nSkipping line 2331: expected 3 fields, saw 4\\nSkipping line 2332: expected 3 fields, saw 4\\nSkipping line 2333: expected 3 fields, saw 4\\nSkipping line 2334: expected 3 fields, saw 4\\nSkipping line 2335: expected 3 fields, saw 4\\nSkipping line 2336: expected 3 fields, saw 4\\nSkipping line 2337: expected 3 fields, saw 4\\nSkipping line 2338: expected 3 fields, saw 4\\nSkipping line 2339: expected 3 fields, saw 4\\nSkipping line 2340: expected 3 fields, saw 4\\nSkipping line 2341: expected 3 fields, saw 4\\nSkipping line 2342: expected 3 fields, saw 4\\nSkipping line 2343: expected 3 fields, saw 4\\nSkipping line 2344: expected 3 fields, saw 4\\nSkipping line 2345: expected 3 fields, saw 4\\nSkipping line 2346: expected 3 fields, saw 4\\nSkipping line 2347: expected 3 fields, saw 4\\nSkipping line 2348: expected 3 fields, saw 4\\nSkipping line 2349: expected 3 fields, saw 4\\nSkipping line 2350: expected 3 fields, saw 4\\nSkipping line 2351: expected 3 fields, saw 4\\nSkipping line 2352: expected 3 fields, saw 4\\nSkipping line 2353: expected 3 fields, saw 4\\nSkipping line 2354: expected 3 fields, saw 4\\nSkipping line 2355: expected 3 fields, saw 4\\nSkipping line 2356: expected 3 fields, saw 4\\nSkipping line 2357: expected 3 fields, saw 4\\nSkipping line 2358: expected 3 fields, saw 4\\nSkipping line 2359: expected 3 fields, saw 4\\nSkipping line 2360: expected 3 fields, saw 4\\nSkipping line 2361: expected 3 fields, saw 4\\nSkipping line 2362: expected 3 fields, saw 4\\nSkipping line 2363: expected 3 fields, saw 4\\nSkipping line 2364: expected 3 fields, saw 4\\nSkipping line 2365: expected 3 fields, saw 4\\nSkipping line 2366: expected 3 fields, saw 4\\nSkipping line 2367: expected 3 fields, saw 4\\nSkipping line 2368: expected 3 fields, saw 4\\nSkipping line 2369: expected 3 fields, saw 4\\nSkipping line 2370: expected 3 fields, saw 4\\nSkipping line 2371: expected 3 fields, saw 4\\nSkipping line 2372: expected 3 fields, saw 4\\nSkipping line 2373: expected 3 fields, saw 4\\nSkipping line 2374: expected 3 fields, saw 4\\nSkipping line 2375: expected 3 fields, saw 4\\nSkipping line 2376: expected 3 fields, saw 4\\nSkipping line 2377: expected 3 fields, saw 4\\nSkipping line 2378: expected 3 fields, saw 4\\nSkipping line 2379: expected 3 fields, saw 4\\nSkipping line 2380: expected 3 fields, saw 4\\nSkipping line 2381: expected 3 fields, saw 4\\nSkipping line 2382: expected 3 fields, saw 4\\nSkipping line 2383: expected 3 fields, saw 4\\nSkipping line 2384: expected 3 fields, saw 4\\nSkipping line 2385: expected 3 fields, saw 4\\nSkipping line 2386: expected 3 fields, saw 4\\nSkipping line 2387: expected 3 fields, saw 4\\nSkipping line 2388: expected 3 fields, saw 4\\nSkipping line 2389: expected 3 fields, saw 4\\nSkipping line 2390: expected 3 fields, saw 4\\nSkipping line 2391: expected 3 fields, saw 4\\nSkipping line 2392: expected 3 fields, saw 4\\nSkipping line 2393: expected 3 fields, saw 4\\nSkipping line 2394: expected 3 fields, saw 4\\nSkipping line 2395: expected 3 fields, saw 4\\nSkipping line 2396: expected 3 fields, saw 4\\nSkipping line 2397: expected 3 fields, saw 4\\nSkipping line 2398: expected 3 fields, saw 4\\nSkipping line 2399: expected 3 fields, saw 4\\nSkipping line 2400: expected 3 fields, saw 4\\nSkipping line 2401: expected 3 fields, saw 4\\nSkipping line 2402: expected 3 fields, saw 4\\nSkipping line 2403: expected 3 fields, saw 4\\nSkipping line 2404: expected 3 fields, saw 4\\nSkipping line 2405: expected 3 fields, saw 4\\nSkipping line 2406: expected 3 fields, saw 4\\nSkipping line 2407: expected 3 fields, saw 4\\nSkipping line 2408: expected 3 fields, saw 4\\nSkipping line 2409: expected 3 fields, saw 4\\nSkipping line 2410: expected 3 fields, saw 4\\nSkipping line 2411: expected 3 fields, saw 4\\nSkipping line 2412: expected 3 fields, saw 4\\nSkipping line 2413: expected 3 fields, saw 4\\nSkipping line 2414: expected 3 fields, saw 4\\nSkipping line 2415: expected 3 fields, saw 4\\nSkipping line 2416: expected 3 fields, saw 4\\nSkipping line 2417: expected 3 fields, saw 4\\nSkipping line 2418: expected 3 fields, saw 4\\nSkipping line 2419: expected 3 fields, saw 4\\nSkipping line 2420: expected 3 fields, saw 4\\nSkipping line 2421: expected 3 fields, saw 4\\nSkipping line 2422: expected 3 fields, saw 4\\nSkipping line 2423: expected 3 fields, saw 4\\nSkipping line 2424: expected 3 fields, saw 4\\nSkipping line 2425: expected 3 fields, saw 4\\nSkipping line 2426: expected 3 fields, saw 4\\nSkipping line 2427: expected 3 fields, saw 4\\nSkipping line 2428: expected 3 fields, saw 4\\nSkipping line 2429: expected 3 fields, saw 4\\nSkipping line 2430: expected 3 fields, saw 4\\nSkipping line 2431: expected 3 fields, saw 4\\nSkipping line 2432: expected 3 fields, saw 4\\nSkipping line 2433: expected 3 fields, saw 4\\nSkipping line 2434: expected 3 fields, saw 4\\nSkipping line 2435: expected 3 fields, saw 4\\nSkipping line 2436: expected 3 fields, saw 4\\nSkipping line 2437: expected 3 fields, saw 4\\nSkipping line 2438: expected 3 fields, saw 4\\nSkipping line 2439: expected 3 fields, saw 4\\nSkipping line 2440: expected 3 fields, saw 4\\nSkipping line 2441: expected 3 fields, saw 4\\nSkipping line 2442: expected 3 fields, saw 4\\nSkipping line 2443: expected 3 fields, saw 4\\nSkipping line 2444: expected 3 fields, saw 4\\nSkipping line 2445: expected 3 fields, saw 4\\nSkipping line 2446: expected 3 fields, saw 4\\nSkipping line 2447: expected 3 fields, saw 4\\nSkipping line 2448: expected 3 fields, saw 4\\nSkipping line 2449: expected 3 fields, saw 4\\nSkipping line 2450: expected 3 fields, saw 4\\nSkipping line 2451: expected 3 fields, saw 4\\nSkipping line 2452: expected 3 fields, saw 4\\nSkipping line 2453: expected 3 fields, saw 4\\nSkipping line 2454: expected 3 fields, saw 4\\nSkipping line 2455: expected 3 fields, saw 4\\nSkipping line 2456: expected 3 fields, saw 4\\nSkipping line 2457: expected 3 fields, saw 4\\nSkipping line 2458: expected 3 fields, saw 4\\nSkipping line 2459: expected 3 fields, saw 4\\nSkipping line 2460: expected 3 fields, saw 4\\nSkipping line 2461: expected 3 fields, saw 4\\nSkipping line 2462: expected 3 fields, saw 4\\nSkipping line 2463: expected 3 fields, saw 4\\nSkipping line 2464: expected 3 fields, saw 4\\nSkipping line 2465: expected 3 fields, saw 4\\nSkipping line 2466: expected 3 fields, saw 4\\nSkipping line 2467: expected 3 fields, saw 4\\nSkipping line 2468: expected 3 fields, saw 4\\nSkipping line 2469: expected 3 fields, saw 4\\nSkipping line 2470: expected 3 fields, saw 4\\nSkipping line 2471: expected 3 fields, saw 4\\nSkipping line 2472: expected 3 fields, saw 4\\nSkipping line 2473: expected 3 fields, saw 4\\nSkipping line 2474: expected 3 fields, saw 4\\nSkipping line 2475: expected 3 fields, saw 4\\nSkipping line 2476: expected 3 fields, saw 4\\nSkipping line 2477: expected 3 fields, saw 4\\nSkipping line 2478: expected 3 fields, saw 4\\nSkipping line 2479: expected 3 fields, saw 4\\nSkipping line 2480: expected 3 fields, saw 4\\nSkipping line 2481: expected 3 fields, saw 4\\nSkipping line 2482: expected 3 fields, saw 4\\nSkipping line 2483: expected 3 fields, saw 4\\nSkipping line 2484: expected 3 fields, saw 4\\nSkipping line 2485: expected 3 fields, saw 4\\nSkipping line 2486: expected 3 fields, saw 4\\nSkipping line 2487: expected 3 fields, saw 4\\nSkipping line 2488: expected 3 fields, saw 4\\nSkipping line 2489: expected 3 fields, saw 4\\nSkipping line 2490: expected 3 fields, saw 4\\nSkipping line 2491: expected 3 fields, saw 4\\nSkipping line 2492: expected 3 fields, saw 4\\nSkipping line 2493: expected 3 fields, saw 4\\nSkipping line 2494: expected 3 fields, saw 4\\nSkipping line 2495: expected 3 fields, saw 4\\nSkipping line 2496: expected 3 fields, saw 4\\nSkipping line 2497: expected 3 fields, saw 4\\nSkipping line 2498: expected 3 fields, saw 4\\nSkipping line 2499: expected 3 fields, saw 4\\nSkipping line 2500: expected 3 fields, saw 4\\nSkipping line 2501: expected 3 fields, saw 4\\nSkipping line 2502: expected 3 fields, saw 4\\nSkipping line 2503: expected 3 fields, saw 4\\nSkipping line 2504: expected 3 fields, saw 4\\nSkipping line 2505: expected 3 fields, saw 4\\nSkipping line 2506: expected 3 fields, saw 4\\nSkipping line 2507: expected 3 fields, saw 4\\nSkipping line 2508: expected 3 fields, saw 4\\nSkipping line 2509: expected 3 fields, saw 4\\nSkipping line 2510: expected 3 fields, saw 4\\nSkipping line 2511: expected 3 fields, saw 4\\nSkipping line 2512: expected 3 fields, saw 4\\nSkipping line 2513: expected 3 fields, saw 4\\nSkipping line 2514: expected 3 fields, saw 4\\nSkipping line 2515: expected 3 fields, saw 4\\nSkipping line 2516: expected 3 fields, saw 4\\nSkipping line 2517: expected 3 fields, saw 4\\nSkipping line 2518: expected 3 fields, saw 4\\nSkipping line 2519: expected 3 fields, saw 4\\nSkipping line 2520: expected 3 fields, saw 4\\nSkipping line 2521: expected 3 fields, saw 4\\nSkipping line 2522: expected 3 fields, saw 4\\nSkipping line 2523: expected 3 fields, saw 4\\nSkipping line 2524: expected 3 fields, saw 4\\nSkipping line 2525: expected 3 fields, saw 4\\nSkipping line 2526: expected 3 fields, saw 4\\nSkipping line 2527: expected 3 fields, saw 4\\nSkipping line 2528: expected 3 fields, saw 4\\nSkipping line 2529: expected 3 fields, saw 4\\nSkipping line 2530: expected 3 fields, saw 4\\nSkipping line 2531: expected 3 fields, saw 4\\nSkipping line 2532: expected 3 fields, saw 4\\nSkipping line 2533: expected 3 fields, saw 4\\nSkipping line 2534: expected 3 fields, saw 4\\nSkipping line 2535: expected 3 fields, saw 4\\nSkipping line 2536: expected 3 fields, saw 4\\nSkipping line 2537: expected 3 fields, saw 4\\nSkipping line 2538: expected 3 fields, saw 4\\nSkipping line 2539: expected 3 fields, saw 4\\nSkipping line 2540: expected 3 fields, saw 4\\nSkipping line 2541: expected 3 fields, saw 4\\nSkipping line 2542: expected 3 fields, saw 4\\nSkipping line 2543: expected 3 fields, saw 4\\nSkipping line 2544: expected 3 fields, saw 4\\nSkipping line 2545: expected 3 fields, saw 4\\nSkipping line 2546: expected 3 fields, saw 4\\nSkipping line 2547: expected 3 fields, saw 4\\nSkipping line 2548: expected 3 fields, saw 4\\nSkipping line 2549: expected 3 fields, saw 4\\nSkipping line 2550: expected 3 fields, saw 4\\nSkipping line 2551: expected 3 fields, saw 4\\nSkipping line 2552: expected 3 fields, saw 4\\nSkipping line 2553: expected 3 fields, saw 4\\nSkipping line 2554: expected 3 fields, saw 4\\nSkipping line 2555: expected 3 fields, saw 4\\nSkipping line 2556: expected 3 fields, saw 4\\nSkipping line 2557: expected 3 fields, saw 4\\nSkipping line 2558: expected 3 fields, saw 4\\nSkipping line 2559: expected 3 fields, saw 4\\nSkipping line 2560: expected 3 fields, saw 4\\nSkipping line 2561: expected 3 fields, saw 4\\nSkipping line 2562: expected 3 fields, saw 4\\nSkipping line 2563: expected 3 fields, saw 4\\nSkipping line 2564: expected 3 fields, saw 4\\nSkipping line 2565: expected 3 fields, saw 4\\nSkipping line 2566: expected 3 fields, saw 4\\nSkipping line 2567: expected 3 fields, saw 4\\nSkipping line 2568: expected 3 fields, saw 4\\nSkipping line 2569: expected 3 fields, saw 4\\nSkipping line 2570: expected 3 fields, saw 4\\nSkipping line 2571: expected 3 fields, saw 4\\nSkipping line 2572: expected 3 fields, saw 4\\nSkipping line 2573: expected 3 fields, saw 4\\nSkipping line 2574: expected 3 fields, saw 4\\nSkipping line 2575: expected 3 fields, saw 4\\nSkipping line 2576: expected 3 fields, saw 4\\nSkipping line 2577: expected 3 fields, saw 4\\nSkipping line 2578: expected 3 fields, saw 4\\nSkipping line 2579: expected 3 fields, saw 4\\nSkipping line 2580: expected 3 fields, saw 4\\nSkipping line 2581: expected 3 fields, saw 4\\nSkipping line 2582: expected 3 fields, saw 4\\nSkipping line 2583: expected 3 fields, saw 4\\nSkipping line 2584: expected 3 fields, saw 4\\nSkipping line 2585: expected 3 fields, saw 4\\nSkipping line 2586: expected 3 fields, saw 4\\nSkipping line 2587: expected 3 fields, saw 4\\nSkipping line 2588: expected 3 fields, saw 4\\nSkipping line 2589: expected 3 fields, saw 4\\nSkipping line 2590: expected 3 fields, saw 4\\nSkipping line 2591: expected 3 fields, saw 4\\nSkipping line 2592: expected 3 fields, saw 4\\nSkipping line 2593: expected 3 fields, saw 4\\nSkipping line 2594: expected 3 fields, saw 4\\nSkipping line 2595: expected 3 fields, saw 4\\nSkipping line 2596: expected 3 fields, saw 4\\nSkipping line 2597: expected 3 fields, saw 4\\nSkipping line 2598: expected 3 fields, saw 4\\nSkipping line 2599: expected 3 fields, saw 4\\nSkipping line 2600: expected 3 fields, saw 4\\nSkipping line 2601: expected 3 fields, saw 4\\nSkipping line 2602: expected 3 fields, saw 4\\nSkipping line 2603: expected 3 fields, saw 4\\nSkipping line 2604: expected 3 fields, saw 4\\nSkipping line 2605: expected 3 fields, saw 4\\nSkipping line 2606: expected 3 fields, saw 4\\nSkipping line 2607: expected 3 fields, saw 4\\nSkipping line 2608: expected 3 fields, saw 4\\nSkipping line 2609: expected 3 fields, saw 4\\nSkipping line 2610: expected 3 fields, saw 4\\nSkipping line 2611: expected 3 fields, saw 4\\nSkipping line 2612: expected 3 fields, saw 4\\nSkipping line 2613: expected 3 fields, saw 4\\nSkipping line 2614: expected 3 fields, saw 4\\nSkipping line 2615: expected 3 fields, saw 4\\nSkipping line 2616: expected 3 fields, saw 4\\nSkipping line 2617: expected 3 fields, saw 4\\nSkipping line 2618: expected 3 fields, saw 4\\nSkipping line 2619: expected 3 fields, saw 4\\nSkipping line 2620: expected 3 fields, saw 4\\nSkipping line 2621: expected 3 fields, saw 4\\nSkipping line 2622: expected 3 fields, saw 4\\nSkipping line 2623: expected 3 fields, saw 4\\nSkipping line 2624: expected 3 fields, saw 4\\nSkipping line 2625: expected 3 fields, saw 4\\nSkipping line 2626: expected 3 fields, saw 4\\nSkipping line 2627: expected 3 fields, saw 4\\nSkipping line 2628: expected 3 fields, saw 4\\nSkipping line 2629: expected 3 fields, saw 4\\nSkipping line 2630: expected 3 fields, saw 4\\nSkipping line 2631: expected 3 fields, saw 4\\nSkipping line 2632: expected 3 fields, saw 4\\nSkipping line 2633: expected 3 fields, saw 4\\nSkipping line 2634: expected 3 fields, saw 4\\nSkipping line 2635: expected 3 fields, saw 4\\nSkipping line 2636: expected 3 fields, saw 4\\nSkipping line 2637: expected 3 fields, saw 4\\nSkipping line 2638: expected 3 fields, saw 4\\nSkipping line 2639: expected 3 fields, saw 4\\nSkipping line 2640: expected 3 fields, saw 4\\nSkipping line 2641: expected 3 fields, saw 4\\nSkipping line 2642: expected 3 fields, saw 4\\nSkipping line 2643: expected 3 fields, saw 4\\nSkipping line 2644: expected 3 fields, saw 4\\nSkipping line 2645: expected 3 fields, saw 4\\nSkipping line 2646: expected 3 fields, saw 4\\nSkipping line 2647: expected 3 fields, saw 4\\nSkipping line 2648: expected 3 fields, saw 4\\nSkipping line 2649: expected 3 fields, saw 4\\nSkipping line 2650: expected 3 fields, saw 4\\nSkipping line 2651: expected 3 fields, saw 4\\nSkipping line 2652: expected 3 fields, saw 4\\nSkipping line 2653: expected 3 fields, saw 4\\nSkipping line 2654: expected 3 fields, saw 4\\nSkipping line 2655: expected 3 fields, saw 4\\nSkipping line 2656: expected 3 fields, saw 4\\nSkipping line 2657: expected 3 fields, saw 4\\nSkipping line 2658: expected 3 fields, saw 4\\nSkipping line 2659: expected 3 fields, saw 4\\nSkipping line 2660: expected 3 fields, saw 4\\nSkipping line 2661: expected 3 fields, saw 4\\nSkipping line 2662: expected 3 fields, saw 4\\nSkipping line 2663: expected 3 fields, saw 4\\nSkipping line 2664: expected 3 fields, saw 4\\nSkipping line 2665: expected 3 fields, saw 4\\nSkipping line 2666: expected 3 fields, saw 4\\nSkipping line 2667: expected 3 fields, saw 4\\nSkipping line 2668: expected 3 fields, saw 4\\nSkipping line 2669: expected 3 fields, saw 4\\nSkipping line 2670: expected 3 fields, saw 4\\nSkipping line 2671: expected 3 fields, saw 4\\nSkipping line 2672: expected 3 fields, saw 4\\nSkipping line 2673: expected 3 fields, saw 4\\nSkipping line 2674: expected 3 fields, saw 4\\nSkipping line 2675: expected 3 fields, saw 4\\nSkipping line 2676: expected 3 fields, saw 4\\nSkipping line 2677: expected 3 fields, saw 4\\nSkipping line 2678: expected 3 fields, saw 4\\nSkipping line 2679: expected 3 fields, saw 4\\nSkipping line 2680: expected 3 fields, saw 4\\nSkipping line 2681: expected 3 fields, saw 4\\nSkipping line 2682: expected 3 fields, saw 4\\nSkipping line 2683: expected 3 fields, saw 4\\nSkipping line 2684: expected 3 fields, saw 4\\nSkipping line 2685: expected 3 fields, saw 4\\nSkipping line 2686: expected 3 fields, saw 4\\nSkipping line 2687: expected 3 fields, saw 4\\nSkipping line 2688: expected 3 fields, saw 4\\nSkipping line 2689: expected 3 fields, saw 4\\nSkipping line 2690: expected 3 fields, saw 4\\nSkipping line 2691: expected 3 fields, saw 4\\nSkipping line 2692: expected 3 fields, saw 4\\nSkipping line 2693: expected 3 fields, saw 4\\nSkipping line 2694: expected 3 fields, saw 4\\nSkipping line 2695: expected 3 fields, saw 4\\nSkipping line 2696: expected 3 fields, saw 4\\nSkipping line 2697: expected 3 fields, saw 4\\nSkipping line 2698: expected 3 fields, saw 4\\nSkipping line 2699: expected 3 fields, saw 4\\nSkipping line 2700: expected 3 fields, saw 4\\nSkipping line 2701: expected 3 fields, saw 4\\nSkipping line 2702: expected 3 fields, saw 4\\nSkipping line 2703: expected 3 fields, saw 4\\nSkipping line 2704: expected 3 fields, saw 4\\nSkipping line 2705: expected 3 fields, saw 4\\nSkipping line 2706: expected 3 fields, saw 4\\nSkipping line 2707: expected 3 fields, saw 4\\nSkipping line 2708: expected 3 fields, saw 4\\nSkipping line 2709: expected 3 fields, saw 4\\nSkipping line 2710: expected 3 fields, saw 4\\nSkipping line 2711: expected 3 fields, saw 4\\nSkipping line 2712: expected 3 fields, saw 4\\nSkipping line 2713: expected 3 fields, saw 4\\nSkipping line 2714: expected 3 fields, saw 4\\nSkipping line 2715: expected 3 fields, saw 4\\nSkipping line 2716: expected 3 fields, saw 4\\nSkipping line 2717: expected 3 fields, saw 4\\nSkipping line 2718: expected 3 fields, saw 4\\nSkipping line 2719: expected 3 fields, saw 4\\nSkipping line 2720: expected 3 fields, saw 4\\nSkipping line 2721: expected 3 fields, saw 4\\nSkipping line 2722: expected 3 fields, saw 4\\nSkipping line 2723: expected 3 fields, saw 4\\nSkipping line 2724: expected 3 fields, saw 4\\nSkipping line 2725: expected 3 fields, saw 4\\nSkipping line 2726: expected 3 fields, saw 4\\nSkipping line 2727: expected 3 fields, saw 4\\nSkipping line 2728: expected 3 fields, saw 4\\nSkipping line 2729: expected 3 fields, saw 4\\nSkipping line 2730: expected 3 fields, saw 4\\nSkipping line 2731: expected 3 fields, saw 4\\nSkipping line 2732: expected 3 fields, saw 4\\nSkipping line 2733: expected 3 fields, saw 4\\nSkipping line 2734: expected 3 fields, saw 4\\nSkipping line 2735: expected 3 fields, saw 4\\nSkipping line 2736: expected 3 fields, saw 4\\nSkipping line 2737: expected 3 fields, saw 4\\nSkipping line 2738: expected 3 fields, saw 4\\nSkipping line 2739: expected 3 fields, saw 4\\nSkipping line 2740: expected 3 fields, saw 4\\nSkipping line 2741: expected 3 fields, saw 4\\nSkipping line 2742: expected 3 fields, saw 4\\nSkipping line 2743: expected 3 fields, saw 4\\nSkipping line 2744: expected 3 fields, saw 4\\nSkipping line 2745: expected 3 fields, saw 4\\nSkipping line 2746: expected 3 fields, saw 4\\nSkipping line 2747: expected 3 fields, saw 4\\nSkipping line 2748: expected 3 fields, saw 4\\nSkipping line 2749: expected 3 fields, saw 4\\nSkipping line 2750: expected 3 fields, saw 4\\nSkipping line 2751: expected 3 fields, saw 4\\nSkipping line 2752: expected 3 fields, saw 4\\nSkipping line 2753: expected 3 fields, saw 4\\nSkipping line 2754: expected 3 fields, saw 4\\nSkipping line 2755: expected 3 fields, saw 4\\nSkipping line 2756: expected 3 fields, saw 4\\nSkipping line 2757: expected 3 fields, saw 4\\nSkipping line 2758: expected 3 fields, saw 4\\nSkipping line 2759: expected 3 fields, saw 4\\nSkipping line 2760: expected 3 fields, saw 4\\nSkipping line 2761: expected 3 fields, saw 4\\nSkipping line 2762: expected 3 fields, saw 4\\nSkipping line 2763: expected 3 fields, saw 4\\nSkipping line 2764: expected 3 fields, saw 4\\nSkipping line 2765: expected 3 fields, saw 4\\nSkipping line 2766: expected 3 fields, saw 4\\nSkipping line 2767: expected 3 fields, saw 4\\nSkipping line 2768: expected 3 fields, saw 4\\nSkipping line 2769: expected 3 fields, saw 4\\nSkipping line 2770: expected 3 fields, saw 4\\nSkipping line 2771: expected 3 fields, saw 4\\nSkipping line 2772: expected 3 fields, saw 4\\nSkipping line 2773: expected 3 fields, saw 4\\nSkipping line 2774: expected 3 fields, saw 4\\nSkipping line 2775: expected 3 fields, saw 4\\nSkipping line 2776: expected 3 fields, saw 4\\nSkipping line 2777: expected 3 fields, saw 4\\nSkipping line 2778: expected 3 fields, saw 4\\nSkipping line 2779: expected 3 fields, saw 4\\nSkipping line 2780: expected 3 fields, saw 4\\nSkipping line 2781: expected 3 fields, saw 4\\nSkipping line 2782: expected 3 fields, saw 4\\nSkipping line 2783: expected 3 fields, saw 4\\nSkipping line 2784: expected 3 fields, saw 4\\nSkipping line 2785: expected 3 fields, saw 4\\nSkipping line 2786: expected 3 fields, saw 4\\nSkipping line 2787: expected 3 fields, saw 4\\nSkipping line 2788: expected 3 fields, saw 4\\nSkipping line 2789: expected 3 fields, saw 4\\nSkipping line 2790: expected 3 fields, saw 4\\nSkipping line 2791: expected 3 fields, saw 4\\nSkipping line 2792: expected 3 fields, saw 4\\nSkipping line 2793: expected 3 fields, saw 4\\nSkipping line 2794: expected 3 fields, saw 4\\nSkipping line 2795: expected 3 fields, saw 4\\nSkipping line 2796: expected 3 fields, saw 4\\nSkipping line 2797: expected 3 fields, saw 4\\nSkipping line 2798: expected 3 fields, saw 4\\nSkipping line 2799: expected 3 fields, saw 4\\nSkipping line 2800: expected 3 fields, saw 4\\nSkipping line 2801: expected 3 fields, saw 4\\nSkipping line 2802: expected 3 fields, saw 4\\nSkipping line 2803: expected 3 fields, saw 4\\nSkipping line 2804: expected 3 fields, saw 4\\nSkipping line 2805: expected 3 fields, saw 4\\nSkipping line 2806: expected 3 fields, saw 4\\nSkipping line 2807: expected 3 fields, saw 4\\nSkipping line 2808: expected 3 fields, saw 4\\nSkipping line 2809: expected 3 fields, saw 4\\nSkipping line 2810: expected 3 fields, saw 4\\nSkipping line 2811: expected 3 fields, saw 4\\nSkipping line 2812: expected 3 fields, saw 4\\nSkipping line 2813: expected 3 fields, saw 4\\nSkipping line 2814: expected 3 fields, saw 4\\nSkipping line 2815: expected 3 fields, saw 4\\nSkipping line 2816: expected 3 fields, saw 4\\nSkipping line 2817: expected 3 fields, saw 4\\nSkipping line 2818: expected 3 fields, saw 4\\nSkipping line 2819: expected 3 fields, saw 4\\nSkipping line 2820: expected 3 fields, saw 4\\nSkipping line 2821: expected 3 fields, saw 4\\nSkipping line 2822: expected 3 fields, saw 4\\nSkipping line 2823: expected 3 fields, saw 4\\nSkipping line 2824: expected 3 fields, saw 4\\nSkipping line 2825: expected 3 fields, saw 4\\nSkipping line 2826: expected 3 fields, saw 4\\nSkipping line 2827: expected 3 fields, saw 4\\nSkipping line 2828: expected 3 fields, saw 4\\nSkipping line 2829: expected 3 fields, saw 4\\nSkipping line 2830: expected 3 fields, saw 4\\nSkipping line 2831: expected 3 fields, saw 4\\nSkipping line 2832: expected 3 fields, saw 4\\nSkipping line 2833: expected 3 fields, saw 4\\nSkipping line 2834: expected 3 fields, saw 4\\nSkipping line 2835: expected 3 fields, saw 4\\nSkipping line 2836: expected 3 fields, saw 4\\nSkipping line 2837: expected 3 fields, saw 4\\nSkipping line 2838: expected 3 fields, saw 4\\nSkipping line 2839: expected 3 fields, saw 4\\nSkipping line 2840: expected 3 fields, saw 4\\nSkipping line 2841: expected 3 fields, saw 4\\nSkipping line 2842: expected 3 fields, saw 4\\nSkipping line 2843: expected 3 fields, saw 4\\nSkipping line 2844: expected 3 fields, saw 4\\nSkipping line 2845: expected 3 fields, saw 4\\nSkipping line 2846: expected 3 fields, saw 4\\nSkipping line 2847: expected 3 fields, saw 4\\nSkipping line 2848: expected 3 fields, saw 4\\nSkipping line 2849: expected 3 fields, saw 4\\nSkipping line 2850: expected 3 fields, saw 4\\nSkipping line 2851: expected 3 fields, saw 4\\nSkipping line 2852: expected 3 fields, saw 4\\nSkipping line 2853: expected 3 fields, saw 4\\nSkipping line 2854: expected 3 fields, saw 4\\nSkipping line 2855: expected 3 fields, saw 4\\nSkipping line 2856: expected 3 fields, saw 4\\nSkipping line 2857: expected 3 fields, saw 4\\nSkipping line 2858: expected 3 fields, saw 4\\nSkipping line 2859: expected 3 fields, saw 4\\nSkipping line 2860: expected 3 fields, saw 4\\nSkipping line 2861: expected 3 fields, saw 4\\nSkipping line 2862: expected 3 fields, saw 4\\nSkipping line 2863: expected 3 fields, saw 4\\nSkipping line 2864: expected 3 fields, saw 4\\nSkipping line 2865: expected 3 fields, saw 4\\nSkipping line 2866: expected 3 fields, saw 4\\nSkipping line 2867: expected 3 fields, saw 4\\nSkipping line 2868: expected 3 fields, saw 4\\nSkipping line 2869: expected 3 fields, saw 4\\nSkipping line 2870: expected 3 fields, saw 4\\nSkipping line 2871: expected 3 fields, saw 4\\nSkipping line 2872: expected 3 fields, saw 4\\nSkipping line 2873: expected 3 fields, saw 4\\nSkipping line 2874: expected 3 fields, saw 4\\nSkipping line 2875: expected 3 fields, saw 4\\nSkipping line 2876: expected 3 fields, saw 4\\nSkipping line 2877: expected 3 fields, saw 4\\nSkipping line 2878: expected 3 fields, saw 4\\nSkipping line 2879: expected 3 fields, saw 4\\nSkipping line 2880: expected 3 fields, saw 4\\nSkipping line 2881: expected 3 fields, saw 4\\nSkipping line 2882: expected 3 fields, saw 4\\nSkipping line 2883: expected 3 fields, saw 4\\nSkipping line 2884: expected 3 fields, saw 4\\nSkipping line 2885: expected 3 fields, saw 4\\nSkipping line 2886: expected 3 fields, saw 4\\nSkipping line 2887: expected 3 fields, saw 4\\nSkipping line 2888: expected 3 fields, saw 4\\nSkipping line 2889: expected 3 fields, saw 4\\nSkipping line 2890: expected 3 fields, saw 4\\nSkipping line 2891: expected 3 fields, saw 4\\nSkipping line 2892: expected 3 fields, saw 4\\nSkipping line 2893: expected 3 fields, saw 4\\nSkipping line 2894: expected 3 fields, saw 4\\nSkipping line 2895: expected 3 fields, saw 4\\nSkipping line 2896: expected 3 fields, saw 4\\nSkipping line 2897: expected 3 fields, saw 4\\nSkipping line 2898: expected 3 fields, saw 4\\nSkipping line 2899: expected 3 fields, saw 4\\nSkipping line 2900: expected 3 fields, saw 4\\nSkipping line 2901: expected 3 fields, saw 4\\nSkipping line 2902: expected 3 fields, saw 4\\nSkipping line 2903: expected 3 fields, saw 4\\nSkipping line 2904: expected 3 fields, saw 4\\nSkipping line 2905: expected 3 fields, saw 4\\nSkipping line 2906: expected 3 fields, saw 4\\nSkipping line 2907: expected 3 fields, saw 4\\nSkipping line 2908: expected 3 fields, saw 4\\nSkipping line 2909: expected 3 fields, saw 4\\nSkipping line 2910: expected 3 fields, saw 4\\nSkipping line 2911: expected 3 fields, saw 4\\nSkipping line 2912: expected 3 fields, saw 4\\nSkipping line 2913: expected 3 fields, saw 4\\nSkipping line 2914: expected 3 fields, saw 4\\nSkipping line 2915: expected 3 fields, saw 4\\nSkipping line 2916: expected 3 fields, saw 4\\nSkipping line 2917: expected 3 fields, saw 4\\nSkipping line 2918: expected 3 fields, saw 4\\nSkipping line 2919: expected 3 fields, saw 4\\nSkipping line 2920: expected 3 fields, saw 4\\nSkipping line 2921: expected 3 fields, saw 4\\nSkipping line 2922: expected 3 fields, saw 4\\nSkipping line 2923: expected 3 fields, saw 4\\nSkipping line 2924: expected 3 fields, saw 4\\nSkipping line 2925: expected 3 fields, saw 4\\nSkipping line 2926: expected 3 fields, saw 4\\n'\n"
     ]
    }
   ],
   "source": [
    "data = pd.read_csv('UNdata_Univariant_Education.csv',error_bad_lines=False)"
   ]
  },
  {
   "cell_type": "code",
   "execution_count": 10,
   "metadata": {},
   "outputs": [
    {
     "data": {
      "text/html": [
       "<div>\n",
       "<style scoped>\n",
       "    .dataframe tbody tr th:only-of-type {\n",
       "        vertical-align: middle;\n",
       "    }\n",
       "\n",
       "    .dataframe tbody tr th {\n",
       "        vertical-align: top;\n",
       "    }\n",
       "\n",
       "    .dataframe thead th {\n",
       "        text-align: right;\n",
       "    }\n",
       "</style>\n",
       "<table border=\"1\" class=\"dataframe\">\n",
       "  <thead>\n",
       "    <tr style=\"text-align: right;\">\n",
       "      <th></th>\n",
       "      <th>Country</th>\n",
       "      <th>Year</th>\n",
       "      <th>Total Literate</th>\n",
       "    </tr>\n",
       "  </thead>\n",
       "  <tbody>\n",
       "    <tr>\n",
       "      <th>0</th>\n",
       "      <td>Albania</td>\n",
       "      <td>2001</td>\n",
       "      <td>5388246.00</td>\n",
       "    </tr>\n",
       "    <tr>\n",
       "      <th>1</th>\n",
       "      <td>Albania</td>\n",
       "      <td>2011</td>\n",
       "      <td>4774818.00</td>\n",
       "    </tr>\n",
       "    <tr>\n",
       "      <th>2</th>\n",
       "      <td>Algeria</td>\n",
       "      <td>1998</td>\n",
       "      <td>34574646.00</td>\n",
       "    </tr>\n",
       "    <tr>\n",
       "      <th>3</th>\n",
       "      <td>Algeria</td>\n",
       "      <td>2008</td>\n",
       "      <td>43025412.67</td>\n",
       "    </tr>\n",
       "    <tr>\n",
       "      <th>4</th>\n",
       "      <td>Argentina</td>\n",
       "      <td>2001</td>\n",
       "      <td>57345216.00</td>\n",
       "    </tr>\n",
       "  </tbody>\n",
       "</table>\n",
       "</div>"
      ],
      "text/plain": [
       "     Country  Year  Total Literate\n",
       "0    Albania  2001      5388246.00\n",
       "1    Albania  2011      4774818.00\n",
       "2    Algeria  1998     34574646.00\n",
       "3    Algeria  2008     43025412.67\n",
       "4  Argentina  2001     57345216.00"
      ]
     },
     "execution_count": 10,
     "metadata": {},
     "output_type": "execute_result"
    }
   ],
   "source": [
    "data.head()"
   ]
  },
  {
   "cell_type": "code",
   "execution_count": 11,
   "metadata": {},
   "outputs": [
    {
     "data": {
      "text/plain": [
       "(205, 3)"
      ]
     },
     "execution_count": 11,
     "metadata": {},
     "output_type": "execute_result"
    }
   ],
   "source": [
    "data.shape"
   ]
  },
  {
   "cell_type": "markdown",
   "metadata": {},
   "source": [
    "#### Get data insights"
   ]
  },
  {
   "cell_type": "code",
   "execution_count": 12,
   "metadata": {
    "scrolled": true
   },
   "outputs": [
    {
     "name": "stdout",
     "output_type": "stream",
     "text": [
      "<class 'pandas.core.frame.DataFrame'>\n",
      "RangeIndex: 205 entries, 0 to 204\n",
      "Data columns (total 3 columns):\n",
      "Country           205 non-null object\n",
      "Year              205 non-null int64\n",
      "Total Literate    205 non-null float64\n",
      "dtypes: float64(1), int64(1), object(1)\n",
      "memory usage: 4.9+ KB\n"
     ]
    }
   ],
   "source": [
    "data.info()"
   ]
  },
  {
   "cell_type": "code",
   "execution_count": 14,
   "metadata": {},
   "outputs": [
    {
     "data": {
      "text/plain": [
       "127"
      ]
     },
     "execution_count": 14,
     "metadata": {},
     "output_type": "execute_result"
    }
   ],
   "source": [
    "data['Country'].nunique()"
   ]
  },
  {
   "cell_type": "markdown",
   "metadata": {},
   "source": [
    "### Lets normalize data"
   ]
  },
  {
   "cell_type": "code",
   "execution_count": 16,
   "metadata": {},
   "outputs": [],
   "source": [
    "# Normalize the value column and drop old column\n",
    "\n",
    "# Create x, where x the 'Total Men and Women Employed' column's values as floats\n",
    "x = data[['Total Literate']].values.astype(float)\n",
    "\n",
    "# Create a minimum and maximum processor object\n",
    "min_max_scaler = preprocessing.MinMaxScaler()\n",
    "\n",
    "# Create an object to transform the data to fit minmax processor\n",
    "x_scaled = min_max_scaler.fit_transform(x)\n",
    "\n",
    "# Run the normalizer on the dataframe\n",
    "df_normalized = pd.DataFrame(x_scaled)\n",
    "df_normalized['normalized'] = pd.DataFrame(x_scaled)\n",
    "df_normalized.drop(columns=0,inplace=True)\n",
    "\n",
    "data_new = pd.concat([data,df_normalized ], axis=1)\n",
    "data_new.drop(columns='Total Literate',inplace=True)"
   ]
  },
  {
   "cell_type": "code",
   "execution_count": 17,
   "metadata": {},
   "outputs": [
    {
     "data": {
      "text/html": [
       "<div>\n",
       "<style scoped>\n",
       "    .dataframe tbody tr th:only-of-type {\n",
       "        vertical-align: middle;\n",
       "    }\n",
       "\n",
       "    .dataframe tbody tr th {\n",
       "        vertical-align: top;\n",
       "    }\n",
       "\n",
       "    .dataframe thead th {\n",
       "        text-align: right;\n",
       "    }\n",
       "</style>\n",
       "<table border=\"1\" class=\"dataframe\">\n",
       "  <thead>\n",
       "    <tr style=\"text-align: right;\">\n",
       "      <th></th>\n",
       "      <th>Country</th>\n",
       "      <th>Year</th>\n",
       "      <th>normalized</th>\n",
       "    </tr>\n",
       "  </thead>\n",
       "  <tbody>\n",
       "    <tr>\n",
       "      <th>0</th>\n",
       "      <td>Albania</td>\n",
       "      <td>2001</td>\n",
       "      <td>0.002548</td>\n",
       "    </tr>\n",
       "    <tr>\n",
       "      <th>1</th>\n",
       "      <td>Albania</td>\n",
       "      <td>2011</td>\n",
       "      <td>0.002258</td>\n",
       "    </tr>\n",
       "    <tr>\n",
       "      <th>2</th>\n",
       "      <td>Algeria</td>\n",
       "      <td>1998</td>\n",
       "      <td>0.016350</td>\n",
       "    </tr>\n",
       "    <tr>\n",
       "      <th>3</th>\n",
       "      <td>Algeria</td>\n",
       "      <td>2008</td>\n",
       "      <td>0.020347</td>\n",
       "    </tr>\n",
       "    <tr>\n",
       "      <th>4</th>\n",
       "      <td>Argentina</td>\n",
       "      <td>2001</td>\n",
       "      <td>0.027119</td>\n",
       "    </tr>\n",
       "  </tbody>\n",
       "</table>\n",
       "</div>"
      ],
      "text/plain": [
       "     Country  Year  normalized\n",
       "0    Albania  2001    0.002548\n",
       "1    Albania  2011    0.002258\n",
       "2    Algeria  1998    0.016350\n",
       "3    Algeria  2008    0.020347\n",
       "4  Argentina  2001    0.027119"
      ]
     },
     "execution_count": 17,
     "metadata": {},
     "output_type": "execute_result"
    }
   ],
   "source": [
    "# Check new dataframe with normalized value\n",
    "data_new.head()"
   ]
  },
  {
   "cell_type": "code",
   "execution_count": 18,
   "metadata": {},
   "outputs": [
    {
     "data": {
      "text/plain": [
       "127"
      ]
     },
     "execution_count": 18,
     "metadata": {},
     "output_type": "execute_result"
    }
   ],
   "source": [
    "data_new['Country'].nunique()"
   ]
  },
  {
   "cell_type": "markdown",
   "metadata": {},
   "source": [
    "#### Using tsfresh to extract features from data"
   ]
  },
  {
   "cell_type": "code",
   "execution_count": 19,
   "metadata": {},
   "outputs": [
    {
     "name": "stderr",
     "output_type": "stream",
     "text": [
      "Feature Extraction: 100%|██████████| 10/10 [00:05<00:00,  2.00it/s]\n"
     ]
    }
   ],
   "source": [
    "# Use TSFresh library to extract features from data \n",
    "from tsfresh import extract_features\n",
    "extracted_features = extract_features(data_new, column_id=\"Country\", column_sort=\"Year\")"
   ]
  },
  {
   "cell_type": "code",
   "execution_count": 20,
   "metadata": {},
   "outputs": [
    {
     "data": {
      "text/html": [
       "<div>\n",
       "<style scoped>\n",
       "    .dataframe tbody tr th:only-of-type {\n",
       "        vertical-align: middle;\n",
       "    }\n",
       "\n",
       "    .dataframe tbody tr th {\n",
       "        vertical-align: top;\n",
       "    }\n",
       "\n",
       "    .dataframe thead th {\n",
       "        text-align: right;\n",
       "    }\n",
       "</style>\n",
       "<table border=\"1\" class=\"dataframe\">\n",
       "  <thead>\n",
       "    <tr style=\"text-align: right;\">\n",
       "      <th>variable</th>\n",
       "      <th>normalized__abs_energy</th>\n",
       "      <th>normalized__absolute_sum_of_changes</th>\n",
       "      <th>normalized__agg_autocorrelation__f_agg_\"mean\"</th>\n",
       "      <th>normalized__agg_autocorrelation__f_agg_\"median\"</th>\n",
       "      <th>normalized__agg_autocorrelation__f_agg_\"var\"</th>\n",
       "      <th>normalized__agg_linear_trend__f_agg_\"max\"__chunk_len_10__attr_\"intercept\"</th>\n",
       "      <th>normalized__agg_linear_trend__f_agg_\"max\"__chunk_len_10__attr_\"rvalue\"</th>\n",
       "      <th>normalized__agg_linear_trend__f_agg_\"max\"__chunk_len_10__attr_\"slope\"</th>\n",
       "      <th>normalized__agg_linear_trend__f_agg_\"max\"__chunk_len_10__attr_\"stderr\"</th>\n",
       "      <th>normalized__agg_linear_trend__f_agg_\"max\"__chunk_len_50__attr_\"intercept\"</th>\n",
       "      <th>...</th>\n",
       "      <th>normalized__time_reversal_asymmetry_statistic__lag_1</th>\n",
       "      <th>normalized__time_reversal_asymmetry_statistic__lag_2</th>\n",
       "      <th>normalized__time_reversal_asymmetry_statistic__lag_3</th>\n",
       "      <th>normalized__value_count__value_-inf</th>\n",
       "      <th>normalized__value_count__value_0</th>\n",
       "      <th>normalized__value_count__value_1</th>\n",
       "      <th>normalized__value_count__value_inf</th>\n",
       "      <th>normalized__value_count__value_nan</th>\n",
       "      <th>normalized__variance</th>\n",
       "      <th>normalized__variance_larger_than_standard_deviation</th>\n",
       "    </tr>\n",
       "    <tr>\n",
       "      <th>id</th>\n",
       "      <th></th>\n",
       "      <th></th>\n",
       "      <th></th>\n",
       "      <th></th>\n",
       "      <th></th>\n",
       "      <th></th>\n",
       "      <th></th>\n",
       "      <th></th>\n",
       "      <th></th>\n",
       "      <th></th>\n",
       "      <th></th>\n",
       "      <th></th>\n",
       "      <th></th>\n",
       "      <th></th>\n",
       "      <th></th>\n",
       "      <th></th>\n",
       "      <th></th>\n",
       "      <th></th>\n",
       "      <th></th>\n",
       "      <th></th>\n",
       "      <th></th>\n",
       "    </tr>\n",
       "  </thead>\n",
       "  <tbody>\n",
       "    <tr>\n",
       "      <th>Albania</th>\n",
       "      <td>1.159163e-05</td>\n",
       "      <td>0.000290</td>\n",
       "      <td>-1.0</td>\n",
       "      <td>-1.0</td>\n",
       "      <td>0.0</td>\n",
       "      <td>NaN</td>\n",
       "      <td>NaN</td>\n",
       "      <td>NaN</td>\n",
       "      <td>NaN</td>\n",
       "      <td>NaN</td>\n",
       "      <td>...</td>\n",
       "      <td>0.0</td>\n",
       "      <td>0.0</td>\n",
       "      <td>0.0</td>\n",
       "      <td>0.0</td>\n",
       "      <td>0.0</td>\n",
       "      <td>0.0</td>\n",
       "      <td>0.0</td>\n",
       "      <td>0.0</td>\n",
       "      <td>2.103841e-08</td>\n",
       "      <td>0.0</td>\n",
       "    </tr>\n",
       "    <tr>\n",
       "      <th>Algeria</th>\n",
       "      <td>6.813340e-04</td>\n",
       "      <td>0.003996</td>\n",
       "      <td>-1.0</td>\n",
       "      <td>-1.0</td>\n",
       "      <td>0.0</td>\n",
       "      <td>NaN</td>\n",
       "      <td>NaN</td>\n",
       "      <td>NaN</td>\n",
       "      <td>NaN</td>\n",
       "      <td>NaN</td>\n",
       "      <td>...</td>\n",
       "      <td>0.0</td>\n",
       "      <td>0.0</td>\n",
       "      <td>0.0</td>\n",
       "      <td>0.0</td>\n",
       "      <td>0.0</td>\n",
       "      <td>0.0</td>\n",
       "      <td>0.0</td>\n",
       "      <td>0.0</td>\n",
       "      <td>3.992803e-06</td>\n",
       "      <td>0.0</td>\n",
       "    </tr>\n",
       "    <tr>\n",
       "      <th>Argentina</th>\n",
       "      <td>1.695395e-03</td>\n",
       "      <td>0.003865</td>\n",
       "      <td>-1.0</td>\n",
       "      <td>-1.0</td>\n",
       "      <td>0.0</td>\n",
       "      <td>NaN</td>\n",
       "      <td>NaN</td>\n",
       "      <td>NaN</td>\n",
       "      <td>NaN</td>\n",
       "      <td>NaN</td>\n",
       "      <td>...</td>\n",
       "      <td>0.0</td>\n",
       "      <td>0.0</td>\n",
       "      <td>0.0</td>\n",
       "      <td>0.0</td>\n",
       "      <td>0.0</td>\n",
       "      <td>0.0</td>\n",
       "      <td>0.0</td>\n",
       "      <td>0.0</td>\n",
       "      <td>3.733718e-06</td>\n",
       "      <td>0.0</td>\n",
       "    </tr>\n",
       "    <tr>\n",
       "      <th>Armenia</th>\n",
       "      <td>1.287773e-05</td>\n",
       "      <td>0.000115</td>\n",
       "      <td>-1.0</td>\n",
       "      <td>-1.0</td>\n",
       "      <td>0.0</td>\n",
       "      <td>NaN</td>\n",
       "      <td>NaN</td>\n",
       "      <td>NaN</td>\n",
       "      <td>NaN</td>\n",
       "      <td>NaN</td>\n",
       "      <td>...</td>\n",
       "      <td>0.0</td>\n",
       "      <td>0.0</td>\n",
       "      <td>0.0</td>\n",
       "      <td>0.0</td>\n",
       "      <td>0.0</td>\n",
       "      <td>0.0</td>\n",
       "      <td>0.0</td>\n",
       "      <td>0.0</td>\n",
       "      <td>3.326665e-09</td>\n",
       "      <td>0.0</td>\n",
       "    </tr>\n",
       "    <tr>\n",
       "      <th>Aruba</th>\n",
       "      <td>5.567465e-09</td>\n",
       "      <td>0.000027</td>\n",
       "      <td>-1.0</td>\n",
       "      <td>-1.0</td>\n",
       "      <td>0.0</td>\n",
       "      <td>NaN</td>\n",
       "      <td>NaN</td>\n",
       "      <td>NaN</td>\n",
       "      <td>NaN</td>\n",
       "      <td>NaN</td>\n",
       "      <td>...</td>\n",
       "      <td>0.0</td>\n",
       "      <td>0.0</td>\n",
       "      <td>0.0</td>\n",
       "      <td>0.0</td>\n",
       "      <td>0.0</td>\n",
       "      <td>0.0</td>\n",
       "      <td>0.0</td>\n",
       "      <td>0.0</td>\n",
       "      <td>1.856374e-10</td>\n",
       "      <td>0.0</td>\n",
       "    </tr>\n",
       "  </tbody>\n",
       "</table>\n",
       "<p>5 rows × 794 columns</p>\n",
       "</div>"
      ],
      "text/plain": [
       "variable   normalized__abs_energy  normalized__absolute_sum_of_changes  \\\n",
       "id                                                                       \n",
       "Albania              1.159163e-05                             0.000290   \n",
       "Algeria              6.813340e-04                             0.003996   \n",
       "Argentina            1.695395e-03                             0.003865   \n",
       "Armenia              1.287773e-05                             0.000115   \n",
       "Aruba                5.567465e-09                             0.000027   \n",
       "\n",
       "variable   normalized__agg_autocorrelation__f_agg_\"mean\"  \\\n",
       "id                                                         \n",
       "Albania                                             -1.0   \n",
       "Algeria                                             -1.0   \n",
       "Argentina                                           -1.0   \n",
       "Armenia                                             -1.0   \n",
       "Aruba                                               -1.0   \n",
       "\n",
       "variable   normalized__agg_autocorrelation__f_agg_\"median\"  \\\n",
       "id                                                           \n",
       "Albania                                               -1.0   \n",
       "Algeria                                               -1.0   \n",
       "Argentina                                             -1.0   \n",
       "Armenia                                               -1.0   \n",
       "Aruba                                                 -1.0   \n",
       "\n",
       "variable   normalized__agg_autocorrelation__f_agg_\"var\"  \\\n",
       "id                                                        \n",
       "Albania                                             0.0   \n",
       "Algeria                                             0.0   \n",
       "Argentina                                           0.0   \n",
       "Armenia                                             0.0   \n",
       "Aruba                                               0.0   \n",
       "\n",
       "variable   normalized__agg_linear_trend__f_agg_\"max\"__chunk_len_10__attr_\"intercept\"  \\\n",
       "id                                                                                     \n",
       "Albania                                                  NaN                           \n",
       "Algeria                                                  NaN                           \n",
       "Argentina                                                NaN                           \n",
       "Armenia                                                  NaN                           \n",
       "Aruba                                                    NaN                           \n",
       "\n",
       "variable   normalized__agg_linear_trend__f_agg_\"max\"__chunk_len_10__attr_\"rvalue\"  \\\n",
       "id                                                                                  \n",
       "Albania                                                  NaN                        \n",
       "Algeria                                                  NaN                        \n",
       "Argentina                                                NaN                        \n",
       "Armenia                                                  NaN                        \n",
       "Aruba                                                    NaN                        \n",
       "\n",
       "variable   normalized__agg_linear_trend__f_agg_\"max\"__chunk_len_10__attr_\"slope\"  \\\n",
       "id                                                                                 \n",
       "Albania                                                  NaN                       \n",
       "Algeria                                                  NaN                       \n",
       "Argentina                                                NaN                       \n",
       "Armenia                                                  NaN                       \n",
       "Aruba                                                    NaN                       \n",
       "\n",
       "variable   normalized__agg_linear_trend__f_agg_\"max\"__chunk_len_10__attr_\"stderr\"  \\\n",
       "id                                                                                  \n",
       "Albania                                                  NaN                        \n",
       "Algeria                                                  NaN                        \n",
       "Argentina                                                NaN                        \n",
       "Armenia                                                  NaN                        \n",
       "Aruba                                                    NaN                        \n",
       "\n",
       "variable   normalized__agg_linear_trend__f_agg_\"max\"__chunk_len_50__attr_\"intercept\"  \\\n",
       "id                                                                                     \n",
       "Albania                                                  NaN                           \n",
       "Algeria                                                  NaN                           \n",
       "Argentina                                                NaN                           \n",
       "Armenia                                                  NaN                           \n",
       "Aruba                                                    NaN                           \n",
       "\n",
       "variable                          ...                           \\\n",
       "id                                ...                            \n",
       "Albania                           ...                            \n",
       "Algeria                           ...                            \n",
       "Argentina                         ...                            \n",
       "Armenia                           ...                            \n",
       "Aruba                             ...                            \n",
       "\n",
       "variable   normalized__time_reversal_asymmetry_statistic__lag_1  \\\n",
       "id                                                                \n",
       "Albania                                                  0.0      \n",
       "Algeria                                                  0.0      \n",
       "Argentina                                                0.0      \n",
       "Armenia                                                  0.0      \n",
       "Aruba                                                    0.0      \n",
       "\n",
       "variable   normalized__time_reversal_asymmetry_statistic__lag_2  \\\n",
       "id                                                                \n",
       "Albania                                                  0.0      \n",
       "Algeria                                                  0.0      \n",
       "Argentina                                                0.0      \n",
       "Armenia                                                  0.0      \n",
       "Aruba                                                    0.0      \n",
       "\n",
       "variable   normalized__time_reversal_asymmetry_statistic__lag_3  \\\n",
       "id                                                                \n",
       "Albania                                                  0.0      \n",
       "Algeria                                                  0.0      \n",
       "Argentina                                                0.0      \n",
       "Armenia                                                  0.0      \n",
       "Aruba                                                    0.0      \n",
       "\n",
       "variable   normalized__value_count__value_-inf  \\\n",
       "id                                               \n",
       "Albania                                    0.0   \n",
       "Algeria                                    0.0   \n",
       "Argentina                                  0.0   \n",
       "Armenia                                    0.0   \n",
       "Aruba                                      0.0   \n",
       "\n",
       "variable   normalized__value_count__value_0  normalized__value_count__value_1  \\\n",
       "id                                                                              \n",
       "Albania                                 0.0                               0.0   \n",
       "Algeria                                 0.0                               0.0   \n",
       "Argentina                               0.0                               0.0   \n",
       "Armenia                                 0.0                               0.0   \n",
       "Aruba                                   0.0                               0.0   \n",
       "\n",
       "variable   normalized__value_count__value_inf  \\\n",
       "id                                              \n",
       "Albania                                   0.0   \n",
       "Algeria                                   0.0   \n",
       "Argentina                                 0.0   \n",
       "Armenia                                   0.0   \n",
       "Aruba                                     0.0   \n",
       "\n",
       "variable   normalized__value_count__value_nan  normalized__variance  \\\n",
       "id                                                                    \n",
       "Albania                                   0.0          2.103841e-08   \n",
       "Algeria                                   0.0          3.992803e-06   \n",
       "Argentina                                 0.0          3.733718e-06   \n",
       "Armenia                                   0.0          3.326665e-09   \n",
       "Aruba                                     0.0          1.856374e-10   \n",
       "\n",
       "variable   normalized__variance_larger_than_standard_deviation  \n",
       "id                                                              \n",
       "Albania                                                  0.0    \n",
       "Algeria                                                  0.0    \n",
       "Argentina                                                0.0    \n",
       "Armenia                                                  0.0    \n",
       "Aruba                                                    0.0    \n",
       "\n",
       "[5 rows x 794 columns]"
      ]
     },
     "execution_count": 20,
     "metadata": {},
     "output_type": "execute_result"
    }
   ],
   "source": [
    "#Check extracted features\n",
    "extracted_features.head()"
   ]
  },
  {
   "cell_type": "code",
   "execution_count": 21,
   "metadata": {},
   "outputs": [
    {
     "data": {
      "text/plain": [
       "(127, 794)"
      ]
     },
     "execution_count": 21,
     "metadata": {},
     "output_type": "execute_result"
    }
   ],
   "source": [
    "#Check shape of new data with extracted features\n",
    "extracted_features.shape"
   ]
  },
  {
   "cell_type": "code",
   "execution_count": null,
   "metadata": {},
   "outputs": [],
   "source": []
  },
  {
   "cell_type": "code",
   "execution_count": 22,
   "metadata": {},
   "outputs": [
    {
     "data": {
      "text/plain": [
       "568"
      ]
     },
     "execution_count": 22,
     "metadata": {},
     "output_type": "execute_result"
    }
   ],
   "source": [
    "#Check if any columns contains Nan values (null values)\n",
    "list_cols_with_nan = extracted_features.columns[extracted_features.isna().any()].tolist()\n",
    "len(list_cols_with_nan)"
   ]
  },
  {
   "cell_type": "code",
   "execution_count": 23,
   "metadata": {},
   "outputs": [],
   "source": [
    "# it seems 369 columns out of 794 have some null values"
   ]
  },
  {
   "cell_type": "code",
   "execution_count": 24,
   "metadata": {},
   "outputs": [
    {
     "name": "stderr",
     "output_type": "stream",
     "text": [
      "WARNING:tsfresh.utilities.dataframe_functions:The columns ['normalized__agg_linear_trend__f_agg_\"max\"__chunk_len_10__attr_\"intercept\"'\n",
      " 'normalized__agg_linear_trend__f_agg_\"max\"__chunk_len_10__attr_\"rvalue\"'\n",
      " 'normalized__agg_linear_trend__f_agg_\"max\"__chunk_len_10__attr_\"slope\"'\n",
      " 'normalized__agg_linear_trend__f_agg_\"max\"__chunk_len_10__attr_\"stderr\"'\n",
      " 'normalized__agg_linear_trend__f_agg_\"max\"__chunk_len_50__attr_\"intercept\"'\n",
      " 'normalized__agg_linear_trend__f_agg_\"max\"__chunk_len_50__attr_\"rvalue\"'\n",
      " 'normalized__agg_linear_trend__f_agg_\"max\"__chunk_len_50__attr_\"slope\"'\n",
      " 'normalized__agg_linear_trend__f_agg_\"max\"__chunk_len_50__attr_\"stderr\"'\n",
      " 'normalized__agg_linear_trend__f_agg_\"max\"__chunk_len_5__attr_\"intercept\"'\n",
      " 'normalized__agg_linear_trend__f_agg_\"max\"__chunk_len_5__attr_\"rvalue\"'\n",
      " 'normalized__agg_linear_trend__f_agg_\"max\"__chunk_len_5__attr_\"slope\"'\n",
      " 'normalized__agg_linear_trend__f_agg_\"max\"__chunk_len_5__attr_\"stderr\"'\n",
      " 'normalized__agg_linear_trend__f_agg_\"mean\"__chunk_len_10__attr_\"intercept\"'\n",
      " 'normalized__agg_linear_trend__f_agg_\"mean\"__chunk_len_10__attr_\"rvalue\"'\n",
      " 'normalized__agg_linear_trend__f_agg_\"mean\"__chunk_len_10__attr_\"slope\"'\n",
      " 'normalized__agg_linear_trend__f_agg_\"mean\"__chunk_len_10__attr_\"stderr\"'\n",
      " 'normalized__agg_linear_trend__f_agg_\"mean\"__chunk_len_50__attr_\"intercept\"'\n",
      " 'normalized__agg_linear_trend__f_agg_\"mean\"__chunk_len_50__attr_\"rvalue\"'\n",
      " 'normalized__agg_linear_trend__f_agg_\"mean\"__chunk_len_50__attr_\"slope\"'\n",
      " 'normalized__agg_linear_trend__f_agg_\"mean\"__chunk_len_50__attr_\"stderr\"'\n",
      " 'normalized__agg_linear_trend__f_agg_\"mean\"__chunk_len_5__attr_\"intercept\"'\n",
      " 'normalized__agg_linear_trend__f_agg_\"mean\"__chunk_len_5__attr_\"rvalue\"'\n",
      " 'normalized__agg_linear_trend__f_agg_\"mean\"__chunk_len_5__attr_\"slope\"'\n",
      " 'normalized__agg_linear_trend__f_agg_\"mean\"__chunk_len_5__attr_\"stderr\"'\n",
      " 'normalized__agg_linear_trend__f_agg_\"min\"__chunk_len_10__attr_\"intercept\"'\n",
      " 'normalized__agg_linear_trend__f_agg_\"min\"__chunk_len_10__attr_\"rvalue\"'\n",
      " 'normalized__agg_linear_trend__f_agg_\"min\"__chunk_len_10__attr_\"slope\"'\n",
      " 'normalized__agg_linear_trend__f_agg_\"min\"__chunk_len_10__attr_\"stderr\"'\n",
      " 'normalized__agg_linear_trend__f_agg_\"min\"__chunk_len_50__attr_\"intercept\"'\n",
      " 'normalized__agg_linear_trend__f_agg_\"min\"__chunk_len_50__attr_\"rvalue\"'\n",
      " 'normalized__agg_linear_trend__f_agg_\"min\"__chunk_len_50__attr_\"slope\"'\n",
      " 'normalized__agg_linear_trend__f_agg_\"min\"__chunk_len_50__attr_\"stderr\"'\n",
      " 'normalized__agg_linear_trend__f_agg_\"min\"__chunk_len_5__attr_\"intercept\"'\n",
      " 'normalized__agg_linear_trend__f_agg_\"min\"__chunk_len_5__attr_\"rvalue\"'\n",
      " 'normalized__agg_linear_trend__f_agg_\"min\"__chunk_len_5__attr_\"slope\"'\n",
      " 'normalized__agg_linear_trend__f_agg_\"min\"__chunk_len_5__attr_\"stderr\"'\n",
      " 'normalized__agg_linear_trend__f_agg_\"var\"__chunk_len_10__attr_\"intercept\"'\n",
      " 'normalized__agg_linear_trend__f_agg_\"var\"__chunk_len_10__attr_\"rvalue\"'\n",
      " 'normalized__agg_linear_trend__f_agg_\"var\"__chunk_len_10__attr_\"slope\"'\n",
      " 'normalized__agg_linear_trend__f_agg_\"var\"__chunk_len_10__attr_\"stderr\"'\n",
      " 'normalized__agg_linear_trend__f_agg_\"var\"__chunk_len_50__attr_\"intercept\"'\n",
      " 'normalized__agg_linear_trend__f_agg_\"var\"__chunk_len_50__attr_\"rvalue\"'\n",
      " 'normalized__agg_linear_trend__f_agg_\"var\"__chunk_len_50__attr_\"slope\"'\n",
      " 'normalized__agg_linear_trend__f_agg_\"var\"__chunk_len_50__attr_\"stderr\"'\n",
      " 'normalized__agg_linear_trend__f_agg_\"var\"__chunk_len_5__attr_\"intercept\"'\n",
      " 'normalized__agg_linear_trend__f_agg_\"var\"__chunk_len_5__attr_\"rvalue\"'\n",
      " 'normalized__agg_linear_trend__f_agg_\"var\"__chunk_len_5__attr_\"slope\"'\n",
      " 'normalized__agg_linear_trend__f_agg_\"var\"__chunk_len_5__attr_\"stderr\"'\n",
      " 'normalized__ar_coefficient__k_10__coeff_0'\n",
      " 'normalized__ar_coefficient__k_10__coeff_1'\n",
      " 'normalized__ar_coefficient__k_10__coeff_2'\n",
      " 'normalized__ar_coefficient__k_10__coeff_3'\n",
      " 'normalized__ar_coefficient__k_10__coeff_4'\n",
      " 'normalized__augmented_dickey_fuller__attr_\"pvalue\"'\n",
      " 'normalized__augmented_dickey_fuller__attr_\"teststat\"'\n",
      " 'normalized__augmented_dickey_fuller__attr_\"usedlag\"'\n",
      " 'normalized__autocorrelation__lag_4' 'normalized__autocorrelation__lag_5'\n",
      " 'normalized__autocorrelation__lag_6' 'normalized__autocorrelation__lag_7'\n",
      " 'normalized__autocorrelation__lag_8' 'normalized__autocorrelation__lag_9'\n",
      " 'normalized__cwt_coefficients__widths_(2, 5, 10, 20)__coeff_10__w_10'\n",
      " 'normalized__cwt_coefficients__widths_(2, 5, 10, 20)__coeff_10__w_2'\n",
      " 'normalized__cwt_coefficients__widths_(2, 5, 10, 20)__coeff_10__w_20'\n",
      " 'normalized__cwt_coefficients__widths_(2, 5, 10, 20)__coeff_10__w_5'\n",
      " 'normalized__cwt_coefficients__widths_(2, 5, 10, 20)__coeff_11__w_10'\n",
      " 'normalized__cwt_coefficients__widths_(2, 5, 10, 20)__coeff_11__w_2'\n",
      " 'normalized__cwt_coefficients__widths_(2, 5, 10, 20)__coeff_11__w_20'\n",
      " 'normalized__cwt_coefficients__widths_(2, 5, 10, 20)__coeff_11__w_5'\n",
      " 'normalized__cwt_coefficients__widths_(2, 5, 10, 20)__coeff_12__w_10'\n",
      " 'normalized__cwt_coefficients__widths_(2, 5, 10, 20)__coeff_12__w_2'\n",
      " 'normalized__cwt_coefficients__widths_(2, 5, 10, 20)__coeff_12__w_20'\n",
      " 'normalized__cwt_coefficients__widths_(2, 5, 10, 20)__coeff_12__w_5'\n",
      " 'normalized__cwt_coefficients__widths_(2, 5, 10, 20)__coeff_13__w_10'\n",
      " 'normalized__cwt_coefficients__widths_(2, 5, 10, 20)__coeff_13__w_2'\n",
      " 'normalized__cwt_coefficients__widths_(2, 5, 10, 20)__coeff_13__w_20'\n",
      " 'normalized__cwt_coefficients__widths_(2, 5, 10, 20)__coeff_13__w_5'\n",
      " 'normalized__cwt_coefficients__widths_(2, 5, 10, 20)__coeff_14__w_10'\n",
      " 'normalized__cwt_coefficients__widths_(2, 5, 10, 20)__coeff_14__w_2'\n",
      " 'normalized__cwt_coefficients__widths_(2, 5, 10, 20)__coeff_14__w_20'\n",
      " 'normalized__cwt_coefficients__widths_(2, 5, 10, 20)__coeff_14__w_5'\n",
      " 'normalized__cwt_coefficients__widths_(2, 5, 10, 20)__coeff_4__w_10'\n",
      " 'normalized__cwt_coefficients__widths_(2, 5, 10, 20)__coeff_4__w_2'\n",
      " 'normalized__cwt_coefficients__widths_(2, 5, 10, 20)__coeff_4__w_20'\n",
      " 'normalized__cwt_coefficients__widths_(2, 5, 10, 20)__coeff_4__w_5'\n",
      " 'normalized__cwt_coefficients__widths_(2, 5, 10, 20)__coeff_5__w_10'\n",
      " 'normalized__cwt_coefficients__widths_(2, 5, 10, 20)__coeff_5__w_2'\n",
      " 'normalized__cwt_coefficients__widths_(2, 5, 10, 20)__coeff_5__w_20'\n",
      " 'normalized__cwt_coefficients__widths_(2, 5, 10, 20)__coeff_5__w_5'\n",
      " 'normalized__cwt_coefficients__widths_(2, 5, 10, 20)__coeff_6__w_10'\n",
      " 'normalized__cwt_coefficients__widths_(2, 5, 10, 20)__coeff_6__w_2'\n",
      " 'normalized__cwt_coefficients__widths_(2, 5, 10, 20)__coeff_6__w_20'\n",
      " 'normalized__cwt_coefficients__widths_(2, 5, 10, 20)__coeff_6__w_5'\n",
      " 'normalized__cwt_coefficients__widths_(2, 5, 10, 20)__coeff_7__w_10'\n",
      " 'normalized__cwt_coefficients__widths_(2, 5, 10, 20)__coeff_7__w_2'\n",
      " 'normalized__cwt_coefficients__widths_(2, 5, 10, 20)__coeff_7__w_20'\n",
      " 'normalized__cwt_coefficients__widths_(2, 5, 10, 20)__coeff_7__w_5'\n",
      " 'normalized__cwt_coefficients__widths_(2, 5, 10, 20)__coeff_8__w_10'\n",
      " 'normalized__cwt_coefficients__widths_(2, 5, 10, 20)__coeff_8__w_2'\n",
      " 'normalized__cwt_coefficients__widths_(2, 5, 10, 20)__coeff_8__w_20'\n",
      " 'normalized__cwt_coefficients__widths_(2, 5, 10, 20)__coeff_8__w_5'\n",
      " 'normalized__cwt_coefficients__widths_(2, 5, 10, 20)__coeff_9__w_10'\n",
      " 'normalized__cwt_coefficients__widths_(2, 5, 10, 20)__coeff_9__w_2'\n",
      " 'normalized__cwt_coefficients__widths_(2, 5, 10, 20)__coeff_9__w_20'\n",
      " 'normalized__cwt_coefficients__widths_(2, 5, 10, 20)__coeff_9__w_5'\n",
      " 'normalized__fft_aggregated__aggtype_\"kurtosis\"'\n",
      " 'normalized__fft_aggregated__aggtype_\"skew\"'\n",
      " 'normalized__fft_coefficient__coeff_10__attr_\"abs\"'\n",
      " 'normalized__fft_coefficient__coeff_10__attr_\"angle\"'\n",
      " 'normalized__fft_coefficient__coeff_10__attr_\"imag\"'\n",
      " 'normalized__fft_coefficient__coeff_10__attr_\"real\"'\n",
      " 'normalized__fft_coefficient__coeff_11__attr_\"abs\"'\n",
      " 'normalized__fft_coefficient__coeff_11__attr_\"angle\"'\n",
      " 'normalized__fft_coefficient__coeff_11__attr_\"imag\"'\n",
      " 'normalized__fft_coefficient__coeff_11__attr_\"real\"'\n",
      " 'normalized__fft_coefficient__coeff_12__attr_\"abs\"'\n",
      " 'normalized__fft_coefficient__coeff_12__attr_\"angle\"'\n",
      " 'normalized__fft_coefficient__coeff_12__attr_\"imag\"'\n",
      " 'normalized__fft_coefficient__coeff_12__attr_\"real\"'\n",
      " 'normalized__fft_coefficient__coeff_13__attr_\"abs\"'\n",
      " 'normalized__fft_coefficient__coeff_13__attr_\"angle\"'\n",
      " 'normalized__fft_coefficient__coeff_13__attr_\"imag\"'\n",
      " 'normalized__fft_coefficient__coeff_13__attr_\"real\"'\n",
      " 'normalized__fft_coefficient__coeff_14__attr_\"abs\"'\n",
      " 'normalized__fft_coefficient__coeff_14__attr_\"angle\"'\n",
      " 'normalized__fft_coefficient__coeff_14__attr_\"imag\"'\n",
      " 'normalized__fft_coefficient__coeff_14__attr_\"real\"'\n",
      " 'normalized__fft_coefficient__coeff_15__attr_\"abs\"'\n",
      " 'normalized__fft_coefficient__coeff_15__attr_\"angle\"'\n",
      " 'normalized__fft_coefficient__coeff_15__attr_\"imag\"'\n",
      " 'normalized__fft_coefficient__coeff_15__attr_\"real\"'\n",
      " 'normalized__fft_coefficient__coeff_16__attr_\"abs\"'\n",
      " 'normalized__fft_coefficient__coeff_16__attr_\"angle\"'\n",
      " 'normalized__fft_coefficient__coeff_16__attr_\"imag\"'\n",
      " 'normalized__fft_coefficient__coeff_16__attr_\"real\"'\n",
      " 'normalized__fft_coefficient__coeff_17__attr_\"abs\"'\n",
      " 'normalized__fft_coefficient__coeff_17__attr_\"angle\"'\n",
      " 'normalized__fft_coefficient__coeff_17__attr_\"imag\"'\n",
      " 'normalized__fft_coefficient__coeff_17__attr_\"real\"'\n",
      " 'normalized__fft_coefficient__coeff_18__attr_\"abs\"'\n",
      " 'normalized__fft_coefficient__coeff_18__attr_\"angle\"'\n",
      " 'normalized__fft_coefficient__coeff_18__attr_\"imag\"'\n",
      " 'normalized__fft_coefficient__coeff_18__attr_\"real\"'\n",
      " 'normalized__fft_coefficient__coeff_19__attr_\"abs\"'\n",
      " 'normalized__fft_coefficient__coeff_19__attr_\"angle\"'\n",
      " 'normalized__fft_coefficient__coeff_19__attr_\"imag\"'\n",
      " 'normalized__fft_coefficient__coeff_19__attr_\"real\"'\n",
      " 'normalized__fft_coefficient__coeff_20__attr_\"abs\"'\n",
      " 'normalized__fft_coefficient__coeff_20__attr_\"angle\"'\n",
      " 'normalized__fft_coefficient__coeff_20__attr_\"imag\"'\n",
      " 'normalized__fft_coefficient__coeff_20__attr_\"real\"'\n",
      " 'normalized__fft_coefficient__coeff_21__attr_\"abs\"'\n",
      " 'normalized__fft_coefficient__coeff_21__attr_\"angle\"'\n",
      " 'normalized__fft_coefficient__coeff_21__attr_\"imag\"'\n",
      " 'normalized__fft_coefficient__coeff_21__attr_\"real\"'\n",
      " 'normalized__fft_coefficient__coeff_22__attr_\"abs\"'\n",
      " 'normalized__fft_coefficient__coeff_22__attr_\"angle\"'\n",
      " 'normalized__fft_coefficient__coeff_22__attr_\"imag\"'\n",
      " 'normalized__fft_coefficient__coeff_22__attr_\"real\"'\n",
      " 'normalized__fft_coefficient__coeff_23__attr_\"abs\"'\n",
      " 'normalized__fft_coefficient__coeff_23__attr_\"angle\"'\n",
      " 'normalized__fft_coefficient__coeff_23__attr_\"imag\"'\n",
      " 'normalized__fft_coefficient__coeff_23__attr_\"real\"'\n",
      " 'normalized__fft_coefficient__coeff_24__attr_\"abs\"'\n",
      " 'normalized__fft_coefficient__coeff_24__attr_\"angle\"'\n",
      " 'normalized__fft_coefficient__coeff_24__attr_\"imag\"'\n",
      " 'normalized__fft_coefficient__coeff_24__attr_\"real\"'\n",
      " 'normalized__fft_coefficient__coeff_25__attr_\"abs\"'\n",
      " 'normalized__fft_coefficient__coeff_25__attr_\"angle\"'\n",
      " 'normalized__fft_coefficient__coeff_25__attr_\"imag\"'\n",
      " 'normalized__fft_coefficient__coeff_25__attr_\"real\"'\n",
      " 'normalized__fft_coefficient__coeff_26__attr_\"abs\"'\n",
      " 'normalized__fft_coefficient__coeff_26__attr_\"angle\"'\n",
      " 'normalized__fft_coefficient__coeff_26__attr_\"imag\"'\n",
      " 'normalized__fft_coefficient__coeff_26__attr_\"real\"'\n",
      " 'normalized__fft_coefficient__coeff_27__attr_\"abs\"'\n",
      " 'normalized__fft_coefficient__coeff_27__attr_\"angle\"'\n",
      " 'normalized__fft_coefficient__coeff_27__attr_\"imag\"'\n",
      " 'normalized__fft_coefficient__coeff_27__attr_\"real\"'\n",
      " 'normalized__fft_coefficient__coeff_28__attr_\"abs\"'\n",
      " 'normalized__fft_coefficient__coeff_28__attr_\"angle\"'\n",
      " 'normalized__fft_coefficient__coeff_28__attr_\"imag\"'\n",
      " 'normalized__fft_coefficient__coeff_28__attr_\"real\"'\n",
      " 'normalized__fft_coefficient__coeff_29__attr_\"abs\"'\n",
      " 'normalized__fft_coefficient__coeff_29__attr_\"angle\"'\n",
      " 'normalized__fft_coefficient__coeff_29__attr_\"imag\"'\n",
      " 'normalized__fft_coefficient__coeff_29__attr_\"real\"'\n",
      " 'normalized__fft_coefficient__coeff_30__attr_\"abs\"'\n",
      " 'normalized__fft_coefficient__coeff_30__attr_\"angle\"'\n",
      " 'normalized__fft_coefficient__coeff_30__attr_\"imag\"'\n",
      " 'normalized__fft_coefficient__coeff_30__attr_\"real\"'\n",
      " 'normalized__fft_coefficient__coeff_31__attr_\"abs\"'\n",
      " 'normalized__fft_coefficient__coeff_31__attr_\"angle\"'\n",
      " 'normalized__fft_coefficient__coeff_31__attr_\"imag\"'\n",
      " 'normalized__fft_coefficient__coeff_31__attr_\"real\"'\n",
      " 'normalized__fft_coefficient__coeff_32__attr_\"abs\"'\n",
      " 'normalized__fft_coefficient__coeff_32__attr_\"angle\"'\n",
      " 'normalized__fft_coefficient__coeff_32__attr_\"imag\"'\n",
      " 'normalized__fft_coefficient__coeff_32__attr_\"real\"'\n",
      " 'normalized__fft_coefficient__coeff_33__attr_\"abs\"'\n",
      " 'normalized__fft_coefficient__coeff_33__attr_\"angle\"'\n",
      " 'normalized__fft_coefficient__coeff_33__attr_\"imag\"'\n",
      " 'normalized__fft_coefficient__coeff_33__attr_\"real\"'\n",
      " 'normalized__fft_coefficient__coeff_34__attr_\"abs\"'\n",
      " 'normalized__fft_coefficient__coeff_34__attr_\"angle\"'\n",
      " 'normalized__fft_coefficient__coeff_34__attr_\"imag\"'\n",
      " 'normalized__fft_coefficient__coeff_34__attr_\"real\"'\n",
      " 'normalized__fft_coefficient__coeff_35__attr_\"abs\"'\n",
      " 'normalized__fft_coefficient__coeff_35__attr_\"angle\"'\n",
      " 'normalized__fft_coefficient__coeff_35__attr_\"imag\"'\n",
      " 'normalized__fft_coefficient__coeff_35__attr_\"real\"'\n",
      " 'normalized__fft_coefficient__coeff_36__attr_\"abs\"'\n",
      " 'normalized__fft_coefficient__coeff_36__attr_\"angle\"'\n",
      " 'normalized__fft_coefficient__coeff_36__attr_\"imag\"'\n",
      " 'normalized__fft_coefficient__coeff_36__attr_\"real\"'\n",
      " 'normalized__fft_coefficient__coeff_37__attr_\"abs\"'\n",
      " 'normalized__fft_coefficient__coeff_37__attr_\"angle\"'\n",
      " 'normalized__fft_coefficient__coeff_37__attr_\"imag\"'\n",
      " 'normalized__fft_coefficient__coeff_37__attr_\"real\"'\n",
      " 'normalized__fft_coefficient__coeff_38__attr_\"abs\"'\n",
      " 'normalized__fft_coefficient__coeff_38__attr_\"angle\"'\n",
      " 'normalized__fft_coefficient__coeff_38__attr_\"imag\"'\n",
      " 'normalized__fft_coefficient__coeff_38__attr_\"real\"'\n",
      " 'normalized__fft_coefficient__coeff_39__attr_\"abs\"'\n",
      " 'normalized__fft_coefficient__coeff_39__attr_\"angle\"'\n",
      " 'normalized__fft_coefficient__coeff_39__attr_\"imag\"'\n",
      " 'normalized__fft_coefficient__coeff_39__attr_\"real\"'\n",
      " 'normalized__fft_coefficient__coeff_3__attr_\"abs\"'\n",
      " 'normalized__fft_coefficient__coeff_3__attr_\"angle\"'\n",
      " 'normalized__fft_coefficient__coeff_3__attr_\"imag\"'\n",
      " 'normalized__fft_coefficient__coeff_3__attr_\"real\"'\n",
      " 'normalized__fft_coefficient__coeff_40__attr_\"abs\"'\n",
      " 'normalized__fft_coefficient__coeff_40__attr_\"angle\"'\n",
      " 'normalized__fft_coefficient__coeff_40__attr_\"imag\"'\n",
      " 'normalized__fft_coefficient__coeff_40__attr_\"real\"'\n",
      " 'normalized__fft_coefficient__coeff_41__attr_\"abs\"'\n",
      " 'normalized__fft_coefficient__coeff_41__attr_\"angle\"'\n",
      " 'normalized__fft_coefficient__coeff_41__attr_\"imag\"'\n",
      " 'normalized__fft_coefficient__coeff_41__attr_\"real\"'\n",
      " 'normalized__fft_coefficient__coeff_42__attr_\"abs\"'\n",
      " 'normalized__fft_coefficient__coeff_42__attr_\"angle\"'\n",
      " 'normalized__fft_coefficient__coeff_42__attr_\"imag\"'\n",
      " 'normalized__fft_coefficient__coeff_42__attr_\"real\"'\n",
      " 'normalized__fft_coefficient__coeff_43__attr_\"abs\"'\n",
      " 'normalized__fft_coefficient__coeff_43__attr_\"angle\"'\n",
      " 'normalized__fft_coefficient__coeff_43__attr_\"imag\"'\n",
      " 'normalized__fft_coefficient__coeff_43__attr_\"real\"'\n",
      " 'normalized__fft_coefficient__coeff_44__attr_\"abs\"'\n",
      " 'normalized__fft_coefficient__coeff_44__attr_\"angle\"'\n",
      " 'normalized__fft_coefficient__coeff_44__attr_\"imag\"'\n",
      " 'normalized__fft_coefficient__coeff_44__attr_\"real\"'\n",
      " 'normalized__fft_coefficient__coeff_45__attr_\"abs\"'\n",
      " 'normalized__fft_coefficient__coeff_45__attr_\"angle\"'\n",
      " 'normalized__fft_coefficient__coeff_45__attr_\"imag\"'\n",
      " 'normalized__fft_coefficient__coeff_45__attr_\"real\"'\n",
      " 'normalized__fft_coefficient__coeff_46__attr_\"abs\"'\n",
      " 'normalized__fft_coefficient__coeff_46__attr_\"angle\"'\n",
      " 'normalized__fft_coefficient__coeff_46__attr_\"imag\"'\n",
      " 'normalized__fft_coefficient__coeff_46__attr_\"real\"'\n",
      " 'normalized__fft_coefficient__coeff_47__attr_\"abs\"'\n",
      " 'normalized__fft_coefficient__coeff_47__attr_\"angle\"'\n",
      " 'normalized__fft_coefficient__coeff_47__attr_\"imag\"'\n",
      " 'normalized__fft_coefficient__coeff_47__attr_\"real\"'\n",
      " 'normalized__fft_coefficient__coeff_48__attr_\"abs\"'\n",
      " 'normalized__fft_coefficient__coeff_48__attr_\"angle\"'\n",
      " 'normalized__fft_coefficient__coeff_48__attr_\"imag\"'\n",
      " 'normalized__fft_coefficient__coeff_48__attr_\"real\"'\n",
      " 'normalized__fft_coefficient__coeff_49__attr_\"abs\"'\n",
      " 'normalized__fft_coefficient__coeff_49__attr_\"angle\"'\n",
      " 'normalized__fft_coefficient__coeff_49__attr_\"imag\"'\n",
      " 'normalized__fft_coefficient__coeff_49__attr_\"real\"'\n",
      " 'normalized__fft_coefficient__coeff_4__attr_\"abs\"'\n",
      " 'normalized__fft_coefficient__coeff_4__attr_\"angle\"'\n",
      " 'normalized__fft_coefficient__coeff_4__attr_\"imag\"'\n",
      " 'normalized__fft_coefficient__coeff_4__attr_\"real\"'\n",
      " 'normalized__fft_coefficient__coeff_50__attr_\"abs\"'\n",
      " 'normalized__fft_coefficient__coeff_50__attr_\"angle\"'\n",
      " 'normalized__fft_coefficient__coeff_50__attr_\"imag\"'\n",
      " 'normalized__fft_coefficient__coeff_50__attr_\"real\"'\n",
      " 'normalized__fft_coefficient__coeff_51__attr_\"abs\"'\n",
      " 'normalized__fft_coefficient__coeff_51__attr_\"angle\"'\n",
      " 'normalized__fft_coefficient__coeff_51__attr_\"imag\"'\n",
      " 'normalized__fft_coefficient__coeff_51__attr_\"real\"'\n",
      " 'normalized__fft_coefficient__coeff_52__attr_\"abs\"'\n",
      " 'normalized__fft_coefficient__coeff_52__attr_\"angle\"'\n",
      " 'normalized__fft_coefficient__coeff_52__attr_\"imag\"'\n",
      " 'normalized__fft_coefficient__coeff_52__attr_\"real\"'\n",
      " 'normalized__fft_coefficient__coeff_53__attr_\"abs\"'\n",
      " 'normalized__fft_coefficient__coeff_53__attr_\"angle\"'\n",
      " 'normalized__fft_coefficient__coeff_53__attr_\"imag\"'\n",
      " 'normalized__fft_coefficient__coeff_53__attr_\"real\"'\n",
      " 'normalized__fft_coefficient__coeff_54__attr_\"abs\"'\n",
      " 'normalized__fft_coefficient__coeff_54__attr_\"angle\"'\n",
      " 'normalized__fft_coefficient__coeff_54__attr_\"imag\"'\n",
      " 'normalized__fft_coefficient__coeff_54__attr_\"real\"'\n",
      " 'normalized__fft_coefficient__coeff_55__attr_\"abs\"'\n",
      " 'normalized__fft_coefficient__coeff_55__attr_\"angle\"'\n",
      " 'normalized__fft_coefficient__coeff_55__attr_\"imag\"'\n",
      " 'normalized__fft_coefficient__coeff_55__attr_\"real\"'\n",
      " 'normalized__fft_coefficient__coeff_56__attr_\"abs\"'\n",
      " 'normalized__fft_coefficient__coeff_56__attr_\"angle\"'\n",
      " 'normalized__fft_coefficient__coeff_56__attr_\"imag\"'\n",
      " 'normalized__fft_coefficient__coeff_56__attr_\"real\"'\n",
      " 'normalized__fft_coefficient__coeff_57__attr_\"abs\"'\n",
      " 'normalized__fft_coefficient__coeff_57__attr_\"angle\"'\n",
      " 'normalized__fft_coefficient__coeff_57__attr_\"imag\"'\n",
      " 'normalized__fft_coefficient__coeff_57__attr_\"real\"'\n",
      " 'normalized__fft_coefficient__coeff_58__attr_\"abs\"'\n",
      " 'normalized__fft_coefficient__coeff_58__attr_\"angle\"'\n",
      " 'normalized__fft_coefficient__coeff_58__attr_\"imag\"'\n",
      " 'normalized__fft_coefficient__coeff_58__attr_\"real\"'\n",
      " 'normalized__fft_coefficient__coeff_59__attr_\"abs\"'\n",
      " 'normalized__fft_coefficient__coeff_59__attr_\"angle\"'\n",
      " 'normalized__fft_coefficient__coeff_59__attr_\"imag\"'\n",
      " 'normalized__fft_coefficient__coeff_59__attr_\"real\"'\n",
      " 'normalized__fft_coefficient__coeff_5__attr_\"abs\"'\n",
      " 'normalized__fft_coefficient__coeff_5__attr_\"angle\"'\n",
      " 'normalized__fft_coefficient__coeff_5__attr_\"imag\"'\n",
      " 'normalized__fft_coefficient__coeff_5__attr_\"real\"'\n",
      " 'normalized__fft_coefficient__coeff_60__attr_\"abs\"'\n",
      " 'normalized__fft_coefficient__coeff_60__attr_\"angle\"'\n",
      " 'normalized__fft_coefficient__coeff_60__attr_\"imag\"'\n",
      " 'normalized__fft_coefficient__coeff_60__attr_\"real\"'\n",
      " 'normalized__fft_coefficient__coeff_61__attr_\"abs\"'\n",
      " 'normalized__fft_coefficient__coeff_61__attr_\"angle\"'\n",
      " 'normalized__fft_coefficient__coeff_61__attr_\"imag\"'\n",
      " 'normalized__fft_coefficient__coeff_61__attr_\"real\"'\n",
      " 'normalized__fft_coefficient__coeff_62__attr_\"abs\"'\n",
      " 'normalized__fft_coefficient__coeff_62__attr_\"angle\"'\n",
      " 'normalized__fft_coefficient__coeff_62__attr_\"imag\"'\n",
      " 'normalized__fft_coefficient__coeff_62__attr_\"real\"'\n",
      " 'normalized__fft_coefficient__coeff_63__attr_\"abs\"'\n",
      " 'normalized__fft_coefficient__coeff_63__attr_\"angle\"'\n",
      " 'normalized__fft_coefficient__coeff_63__attr_\"imag\"'\n",
      " 'normalized__fft_coefficient__coeff_63__attr_\"real\"'\n",
      " 'normalized__fft_coefficient__coeff_64__attr_\"abs\"'\n",
      " 'normalized__fft_coefficient__coeff_64__attr_\"angle\"'\n",
      " 'normalized__fft_coefficient__coeff_64__attr_\"imag\"'\n",
      " 'normalized__fft_coefficient__coeff_64__attr_\"real\"'\n",
      " 'normalized__fft_coefficient__coeff_65__attr_\"abs\"'\n",
      " 'normalized__fft_coefficient__coeff_65__attr_\"angle\"'\n",
      " 'normalized__fft_coefficient__coeff_65__attr_\"imag\"'\n",
      " 'normalized__fft_coefficient__coeff_65__attr_\"real\"'\n",
      " 'normalized__fft_coefficient__coeff_66__attr_\"abs\"'\n",
      " 'normalized__fft_coefficient__coeff_66__attr_\"angle\"'\n",
      " 'normalized__fft_coefficient__coeff_66__attr_\"imag\"'\n",
      " 'normalized__fft_coefficient__coeff_66__attr_\"real\"'\n",
      " 'normalized__fft_coefficient__coeff_67__attr_\"abs\"'\n",
      " 'normalized__fft_coefficient__coeff_67__attr_\"angle\"'\n",
      " 'normalized__fft_coefficient__coeff_67__attr_\"imag\"'\n",
      " 'normalized__fft_coefficient__coeff_67__attr_\"real\"'\n",
      " 'normalized__fft_coefficient__coeff_68__attr_\"abs\"'\n",
      " 'normalized__fft_coefficient__coeff_68__attr_\"angle\"'\n",
      " 'normalized__fft_coefficient__coeff_68__attr_\"imag\"'\n",
      " 'normalized__fft_coefficient__coeff_68__attr_\"real\"'\n",
      " 'normalized__fft_coefficient__coeff_69__attr_\"abs\"'\n",
      " 'normalized__fft_coefficient__coeff_69__attr_\"angle\"'\n",
      " 'normalized__fft_coefficient__coeff_69__attr_\"imag\"'\n",
      " 'normalized__fft_coefficient__coeff_69__attr_\"real\"'\n",
      " 'normalized__fft_coefficient__coeff_6__attr_\"abs\"'\n",
      " 'normalized__fft_coefficient__coeff_6__attr_\"angle\"'\n",
      " 'normalized__fft_coefficient__coeff_6__attr_\"imag\"'\n",
      " 'normalized__fft_coefficient__coeff_6__attr_\"real\"'\n",
      " 'normalized__fft_coefficient__coeff_70__attr_\"abs\"'\n",
      " 'normalized__fft_coefficient__coeff_70__attr_\"angle\"'\n",
      " 'normalized__fft_coefficient__coeff_70__attr_\"imag\"'\n",
      " 'normalized__fft_coefficient__coeff_70__attr_\"real\"'\n",
      " 'normalized__fft_coefficient__coeff_71__attr_\"abs\"'\n",
      " 'normalized__fft_coefficient__coeff_71__attr_\"angle\"'\n",
      " 'normalized__fft_coefficient__coeff_71__attr_\"imag\"'\n",
      " 'normalized__fft_coefficient__coeff_71__attr_\"real\"'\n",
      " 'normalized__fft_coefficient__coeff_72__attr_\"abs\"'\n",
      " 'normalized__fft_coefficient__coeff_72__attr_\"angle\"'\n",
      " 'normalized__fft_coefficient__coeff_72__attr_\"imag\"'\n",
      " 'normalized__fft_coefficient__coeff_72__attr_\"real\"'\n",
      " 'normalized__fft_coefficient__coeff_73__attr_\"abs\"'\n",
      " 'normalized__fft_coefficient__coeff_73__attr_\"angle\"'\n",
      " 'normalized__fft_coefficient__coeff_73__attr_\"imag\"'\n",
      " 'normalized__fft_coefficient__coeff_73__attr_\"real\"'\n",
      " 'normalized__fft_coefficient__coeff_74__attr_\"abs\"'\n",
      " 'normalized__fft_coefficient__coeff_74__attr_\"angle\"'\n",
      " 'normalized__fft_coefficient__coeff_74__attr_\"imag\"'\n",
      " 'normalized__fft_coefficient__coeff_74__attr_\"real\"'\n",
      " 'normalized__fft_coefficient__coeff_75__attr_\"abs\"'\n",
      " 'normalized__fft_coefficient__coeff_75__attr_\"angle\"'\n",
      " 'normalized__fft_coefficient__coeff_75__attr_\"imag\"'\n",
      " 'normalized__fft_coefficient__coeff_75__attr_\"real\"'\n",
      " 'normalized__fft_coefficient__coeff_76__attr_\"abs\"'\n",
      " 'normalized__fft_coefficient__coeff_76__attr_\"angle\"'\n",
      " 'normalized__fft_coefficient__coeff_76__attr_\"imag\"'\n",
      " 'normalized__fft_coefficient__coeff_76__attr_\"real\"'\n",
      " 'normalized__fft_coefficient__coeff_77__attr_\"abs\"'\n",
      " 'normalized__fft_coefficient__coeff_77__attr_\"angle\"'\n",
      " 'normalized__fft_coefficient__coeff_77__attr_\"imag\"'\n",
      " 'normalized__fft_coefficient__coeff_77__attr_\"real\"'\n",
      " 'normalized__fft_coefficient__coeff_78__attr_\"abs\"'\n",
      " 'normalized__fft_coefficient__coeff_78__attr_\"angle\"'\n",
      " 'normalized__fft_coefficient__coeff_78__attr_\"imag\"'\n",
      " 'normalized__fft_coefficient__coeff_78__attr_\"real\"'\n",
      " 'normalized__fft_coefficient__coeff_79__attr_\"abs\"'\n",
      " 'normalized__fft_coefficient__coeff_79__attr_\"angle\"'\n",
      " 'normalized__fft_coefficient__coeff_79__attr_\"imag\"'\n",
      " 'normalized__fft_coefficient__coeff_79__attr_\"real\"'\n",
      " 'normalized__fft_coefficient__coeff_7__attr_\"abs\"'\n",
      " 'normalized__fft_coefficient__coeff_7__attr_\"angle\"'\n",
      " 'normalized__fft_coefficient__coeff_7__attr_\"imag\"'\n",
      " 'normalized__fft_coefficient__coeff_7__attr_\"real\"'\n",
      " 'normalized__fft_coefficient__coeff_80__attr_\"abs\"'\n",
      " 'normalized__fft_coefficient__coeff_80__attr_\"angle\"'\n",
      " 'normalized__fft_coefficient__coeff_80__attr_\"imag\"'\n",
      " 'normalized__fft_coefficient__coeff_80__attr_\"real\"'\n",
      " 'normalized__fft_coefficient__coeff_81__attr_\"abs\"'\n",
      " 'normalized__fft_coefficient__coeff_81__attr_\"angle\"'\n",
      " 'normalized__fft_coefficient__coeff_81__attr_\"imag\"'\n",
      " 'normalized__fft_coefficient__coeff_81__attr_\"real\"'\n",
      " 'normalized__fft_coefficient__coeff_82__attr_\"abs\"'\n",
      " 'normalized__fft_coefficient__coeff_82__attr_\"angle\"'\n",
      " 'normalized__fft_coefficient__coeff_82__attr_\"imag\"'\n",
      " 'normalized__fft_coefficient__coeff_82__attr_\"real\"'\n",
      " 'normalized__fft_coefficient__coeff_83__attr_\"abs\"'\n",
      " 'normalized__fft_coefficient__coeff_83__attr_\"angle\"'\n",
      " 'normalized__fft_coefficient__coeff_83__attr_\"imag\"'\n",
      " 'normalized__fft_coefficient__coeff_83__attr_\"real\"'\n",
      " 'normalized__fft_coefficient__coeff_84__attr_\"abs\"'\n",
      " 'normalized__fft_coefficient__coeff_84__attr_\"angle\"'\n",
      " 'normalized__fft_coefficient__coeff_84__attr_\"imag\"'\n",
      " 'normalized__fft_coefficient__coeff_84__attr_\"real\"'\n",
      " 'normalized__fft_coefficient__coeff_85__attr_\"abs\"'\n",
      " 'normalized__fft_coefficient__coeff_85__attr_\"angle\"'\n",
      " 'normalized__fft_coefficient__coeff_85__attr_\"imag\"'\n",
      " 'normalized__fft_coefficient__coeff_85__attr_\"real\"'\n",
      " 'normalized__fft_coefficient__coeff_86__attr_\"abs\"'\n",
      " 'normalized__fft_coefficient__coeff_86__attr_\"angle\"'\n",
      " 'normalized__fft_coefficient__coeff_86__attr_\"imag\"'\n",
      " 'normalized__fft_coefficient__coeff_86__attr_\"real\"'\n",
      " 'normalized__fft_coefficient__coeff_87__attr_\"abs\"'\n",
      " 'normalized__fft_coefficient__coeff_87__attr_\"angle\"'\n",
      " 'normalized__fft_coefficient__coeff_87__attr_\"imag\"'\n",
      " 'normalized__fft_coefficient__coeff_87__attr_\"real\"'\n",
      " 'normalized__fft_coefficient__coeff_88__attr_\"abs\"'\n",
      " 'normalized__fft_coefficient__coeff_88__attr_\"angle\"'\n",
      " 'normalized__fft_coefficient__coeff_88__attr_\"imag\"'\n",
      " 'normalized__fft_coefficient__coeff_88__attr_\"real\"'\n",
      " 'normalized__fft_coefficient__coeff_89__attr_\"abs\"'\n",
      " 'normalized__fft_coefficient__coeff_89__attr_\"angle\"'\n",
      " 'normalized__fft_coefficient__coeff_89__attr_\"imag\"'\n",
      " 'normalized__fft_coefficient__coeff_89__attr_\"real\"'\n",
      " 'normalized__fft_coefficient__coeff_8__attr_\"abs\"'\n",
      " 'normalized__fft_coefficient__coeff_8__attr_\"angle\"'\n",
      " 'normalized__fft_coefficient__coeff_8__attr_\"imag\"'\n",
      " 'normalized__fft_coefficient__coeff_8__attr_\"real\"'\n",
      " 'normalized__fft_coefficient__coeff_90__attr_\"abs\"'\n",
      " 'normalized__fft_coefficient__coeff_90__attr_\"angle\"'\n",
      " 'normalized__fft_coefficient__coeff_90__attr_\"imag\"'\n",
      " 'normalized__fft_coefficient__coeff_90__attr_\"real\"'\n",
      " 'normalized__fft_coefficient__coeff_91__attr_\"abs\"'\n",
      " 'normalized__fft_coefficient__coeff_91__attr_\"angle\"'\n",
      " 'normalized__fft_coefficient__coeff_91__attr_\"imag\"'\n",
      " 'normalized__fft_coefficient__coeff_91__attr_\"real\"'\n",
      " 'normalized__fft_coefficient__coeff_92__attr_\"abs\"'\n",
      " 'normalized__fft_coefficient__coeff_92__attr_\"angle\"'\n",
      " 'normalized__fft_coefficient__coeff_92__attr_\"imag\"'\n",
      " 'normalized__fft_coefficient__coeff_92__attr_\"real\"'\n",
      " 'normalized__fft_coefficient__coeff_93__attr_\"abs\"'\n",
      " 'normalized__fft_coefficient__coeff_93__attr_\"angle\"'\n",
      " 'normalized__fft_coefficient__coeff_93__attr_\"imag\"'\n",
      " 'normalized__fft_coefficient__coeff_93__attr_\"real\"'\n",
      " 'normalized__fft_coefficient__coeff_94__attr_\"abs\"'\n",
      " 'normalized__fft_coefficient__coeff_94__attr_\"angle\"'\n",
      " 'normalized__fft_coefficient__coeff_94__attr_\"imag\"'\n",
      " 'normalized__fft_coefficient__coeff_94__attr_\"real\"'\n",
      " 'normalized__fft_coefficient__coeff_95__attr_\"abs\"'\n",
      " 'normalized__fft_coefficient__coeff_95__attr_\"angle\"'\n",
      " 'normalized__fft_coefficient__coeff_95__attr_\"imag\"'\n",
      " 'normalized__fft_coefficient__coeff_95__attr_\"real\"'\n",
      " 'normalized__fft_coefficient__coeff_96__attr_\"abs\"'\n",
      " 'normalized__fft_coefficient__coeff_96__attr_\"angle\"'\n",
      " 'normalized__fft_coefficient__coeff_96__attr_\"imag\"'\n",
      " 'normalized__fft_coefficient__coeff_96__attr_\"real\"'\n",
      " 'normalized__fft_coefficient__coeff_97__attr_\"abs\"'\n",
      " 'normalized__fft_coefficient__coeff_97__attr_\"angle\"'\n",
      " 'normalized__fft_coefficient__coeff_97__attr_\"imag\"'\n",
      " 'normalized__fft_coefficient__coeff_97__attr_\"real\"'\n",
      " 'normalized__fft_coefficient__coeff_98__attr_\"abs\"'\n",
      " 'normalized__fft_coefficient__coeff_98__attr_\"angle\"'\n",
      " 'normalized__fft_coefficient__coeff_98__attr_\"imag\"'\n",
      " 'normalized__fft_coefficient__coeff_98__attr_\"real\"'\n",
      " 'normalized__fft_coefficient__coeff_99__attr_\"abs\"'\n",
      " 'normalized__fft_coefficient__coeff_99__attr_\"angle\"'\n",
      " 'normalized__fft_coefficient__coeff_99__attr_\"imag\"'\n",
      " 'normalized__fft_coefficient__coeff_99__attr_\"real\"'\n",
      " 'normalized__fft_coefficient__coeff_9__attr_\"abs\"'\n",
      " 'normalized__fft_coefficient__coeff_9__attr_\"angle\"'\n",
      " 'normalized__fft_coefficient__coeff_9__attr_\"imag\"'\n",
      " 'normalized__fft_coefficient__coeff_9__attr_\"real\"'\n",
      " 'normalized__partial_autocorrelation__lag_4'\n",
      " 'normalized__partial_autocorrelation__lag_5'\n",
      " 'normalized__partial_autocorrelation__lag_6'\n",
      " 'normalized__partial_autocorrelation__lag_7'\n",
      " 'normalized__partial_autocorrelation__lag_8'\n",
      " 'normalized__partial_autocorrelation__lag_9'\n",
      " 'normalized__spkt_welch_density__coeff_5'\n",
      " 'normalized__spkt_welch_density__coeff_8'] did not have any finite values. Filling with zeros.\n"
     ]
    }
   ],
   "source": [
    "#lets replace nan value with 0.0\n",
    "from tsfresh import select_features\n",
    "from tsfresh.utilities.dataframe_functions import impute\n",
    "data_after_impute = impute(extracted_features)"
   ]
  },
  {
   "cell_type": "code",
   "execution_count": 25,
   "metadata": {},
   "outputs": [
    {
     "data": {
      "text/plain": [
       "0"
      ]
     },
     "execution_count": 25,
     "metadata": {},
     "output_type": "execute_result"
    }
   ],
   "source": [
    "#lets check if any column has any nan value\n",
    "list_cols_with_nan_after_impute = data_after_impute.columns[data_after_impute.isna().any()].tolist()\n",
    "len(list_cols_with_nan_after_impute)"
   ]
  },
  {
   "cell_type": "code",
   "execution_count": 26,
   "metadata": {
    "scrolled": false
   },
   "outputs": [
    {
     "data": {
      "text/plain": [
       "(127, 795)"
      ]
     },
     "execution_count": 26,
     "metadata": {},
     "output_type": "execute_result"
    }
   ],
   "source": [
    "#we dont have any nan values \n",
    "# lets reset the index\n",
    "data_after_impute = data_after_impute.reset_index()\n",
    "data_after_impute.shape"
   ]
  },
  {
   "cell_type": "code",
   "execution_count": 27,
   "metadata": {},
   "outputs": [],
   "source": [
    "# we need to give labels to countries \n",
    "data_countries = pd.read_excel('Developing countries.xlsx')\n",
    "\n",
    "developed_countries = data_countries [data_countries['Value'] == 0]\n",
    "developing_countries = data_countries [data_countries['Value'] == 1] \n",
    "\n",
    "list_developed_countries = developed_countries['Countries']\n",
    "list_developing_countries = developing_countries['Countries']\n",
    "\n",
    "list_developed_countries = list(list_developed_countries)\n",
    "list_developing_countries = list(list_developing_countries)\n",
    "\n",
    "data_after_impute['label'] = -1\n",
    "\n",
    "for i,da in data_after_impute.iterrows():\n",
    "    if da['id'] in list_developed_countries:\n",
    "        val = 0\n",
    "        data_after_impute.at[i,'label'] = val\n",
    "    elif da['id'] not in list_developed_countries:\n",
    "        val = 1\n",
    "        data_after_impute.at[i,'label'] = val"
   ]
  },
  {
   "cell_type": "code",
   "execution_count": 28,
   "metadata": {},
   "outputs": [
    {
     "data": {
      "text/html": [
       "<div>\n",
       "<style scoped>\n",
       "    .dataframe tbody tr th:only-of-type {\n",
       "        vertical-align: middle;\n",
       "    }\n",
       "\n",
       "    .dataframe tbody tr th {\n",
       "        vertical-align: top;\n",
       "    }\n",
       "\n",
       "    .dataframe thead th {\n",
       "        text-align: right;\n",
       "    }\n",
       "</style>\n",
       "<table border=\"1\" class=\"dataframe\">\n",
       "  <thead>\n",
       "    <tr style=\"text-align: right;\">\n",
       "      <th>variable</th>\n",
       "      <th>id</th>\n",
       "      <th>normalized__abs_energy</th>\n",
       "      <th>normalized__absolute_sum_of_changes</th>\n",
       "      <th>normalized__agg_autocorrelation__f_agg_\"mean\"</th>\n",
       "      <th>normalized__agg_autocorrelation__f_agg_\"median\"</th>\n",
       "      <th>normalized__agg_autocorrelation__f_agg_\"var\"</th>\n",
       "      <th>normalized__agg_linear_trend__f_agg_\"max\"__chunk_len_10__attr_\"intercept\"</th>\n",
       "      <th>normalized__agg_linear_trend__f_agg_\"max\"__chunk_len_10__attr_\"rvalue\"</th>\n",
       "      <th>normalized__agg_linear_trend__f_agg_\"max\"__chunk_len_10__attr_\"slope\"</th>\n",
       "      <th>normalized__agg_linear_trend__f_agg_\"max\"__chunk_len_10__attr_\"stderr\"</th>\n",
       "      <th>...</th>\n",
       "      <th>normalized__time_reversal_asymmetry_statistic__lag_2</th>\n",
       "      <th>normalized__time_reversal_asymmetry_statistic__lag_3</th>\n",
       "      <th>normalized__value_count__value_-inf</th>\n",
       "      <th>normalized__value_count__value_0</th>\n",
       "      <th>normalized__value_count__value_1</th>\n",
       "      <th>normalized__value_count__value_inf</th>\n",
       "      <th>normalized__value_count__value_nan</th>\n",
       "      <th>normalized__variance</th>\n",
       "      <th>normalized__variance_larger_than_standard_deviation</th>\n",
       "      <th>label</th>\n",
       "    </tr>\n",
       "  </thead>\n",
       "  <tbody>\n",
       "    <tr>\n",
       "      <th>0</th>\n",
       "      <td>Albania</td>\n",
       "      <td>1.159163e-05</td>\n",
       "      <td>0.000290</td>\n",
       "      <td>-1.0</td>\n",
       "      <td>-1.0</td>\n",
       "      <td>0.0</td>\n",
       "      <td>0.0</td>\n",
       "      <td>0.0</td>\n",
       "      <td>0.0</td>\n",
       "      <td>0.0</td>\n",
       "      <td>...</td>\n",
       "      <td>0.0</td>\n",
       "      <td>0.0</td>\n",
       "      <td>0.0</td>\n",
       "      <td>0.0</td>\n",
       "      <td>0.0</td>\n",
       "      <td>0.0</td>\n",
       "      <td>0.0</td>\n",
       "      <td>2.103841e-08</td>\n",
       "      <td>0.0</td>\n",
       "      <td>1</td>\n",
       "    </tr>\n",
       "    <tr>\n",
       "      <th>1</th>\n",
       "      <td>Algeria</td>\n",
       "      <td>6.813340e-04</td>\n",
       "      <td>0.003996</td>\n",
       "      <td>-1.0</td>\n",
       "      <td>-1.0</td>\n",
       "      <td>0.0</td>\n",
       "      <td>0.0</td>\n",
       "      <td>0.0</td>\n",
       "      <td>0.0</td>\n",
       "      <td>0.0</td>\n",
       "      <td>...</td>\n",
       "      <td>0.0</td>\n",
       "      <td>0.0</td>\n",
       "      <td>0.0</td>\n",
       "      <td>0.0</td>\n",
       "      <td>0.0</td>\n",
       "      <td>0.0</td>\n",
       "      <td>0.0</td>\n",
       "      <td>3.992803e-06</td>\n",
       "      <td>0.0</td>\n",
       "      <td>1</td>\n",
       "    </tr>\n",
       "    <tr>\n",
       "      <th>2</th>\n",
       "      <td>Argentina</td>\n",
       "      <td>1.695395e-03</td>\n",
       "      <td>0.003865</td>\n",
       "      <td>-1.0</td>\n",
       "      <td>-1.0</td>\n",
       "      <td>0.0</td>\n",
       "      <td>0.0</td>\n",
       "      <td>0.0</td>\n",
       "      <td>0.0</td>\n",
       "      <td>0.0</td>\n",
       "      <td>...</td>\n",
       "      <td>0.0</td>\n",
       "      <td>0.0</td>\n",
       "      <td>0.0</td>\n",
       "      <td>0.0</td>\n",
       "      <td>0.0</td>\n",
       "      <td>0.0</td>\n",
       "      <td>0.0</td>\n",
       "      <td>3.733718e-06</td>\n",
       "      <td>0.0</td>\n",
       "      <td>1</td>\n",
       "    </tr>\n",
       "    <tr>\n",
       "      <th>3</th>\n",
       "      <td>Armenia</td>\n",
       "      <td>1.287773e-05</td>\n",
       "      <td>0.000115</td>\n",
       "      <td>-1.0</td>\n",
       "      <td>-1.0</td>\n",
       "      <td>0.0</td>\n",
       "      <td>0.0</td>\n",
       "      <td>0.0</td>\n",
       "      <td>0.0</td>\n",
       "      <td>0.0</td>\n",
       "      <td>...</td>\n",
       "      <td>0.0</td>\n",
       "      <td>0.0</td>\n",
       "      <td>0.0</td>\n",
       "      <td>0.0</td>\n",
       "      <td>0.0</td>\n",
       "      <td>0.0</td>\n",
       "      <td>0.0</td>\n",
       "      <td>3.326665e-09</td>\n",
       "      <td>0.0</td>\n",
       "      <td>1</td>\n",
       "    </tr>\n",
       "    <tr>\n",
       "      <th>4</th>\n",
       "      <td>Aruba</td>\n",
       "      <td>5.567465e-09</td>\n",
       "      <td>0.000027</td>\n",
       "      <td>-1.0</td>\n",
       "      <td>-1.0</td>\n",
       "      <td>0.0</td>\n",
       "      <td>0.0</td>\n",
       "      <td>0.0</td>\n",
       "      <td>0.0</td>\n",
       "      <td>0.0</td>\n",
       "      <td>...</td>\n",
       "      <td>0.0</td>\n",
       "      <td>0.0</td>\n",
       "      <td>0.0</td>\n",
       "      <td>0.0</td>\n",
       "      <td>0.0</td>\n",
       "      <td>0.0</td>\n",
       "      <td>0.0</td>\n",
       "      <td>1.856374e-10</td>\n",
       "      <td>0.0</td>\n",
       "      <td>1</td>\n",
       "    </tr>\n",
       "  </tbody>\n",
       "</table>\n",
       "<p>5 rows × 796 columns</p>\n",
       "</div>"
      ],
      "text/plain": [
       "variable         id  normalized__abs_energy  \\\n",
       "0           Albania            1.159163e-05   \n",
       "1           Algeria            6.813340e-04   \n",
       "2         Argentina            1.695395e-03   \n",
       "3           Armenia            1.287773e-05   \n",
       "4             Aruba            5.567465e-09   \n",
       "\n",
       "variable  normalized__absolute_sum_of_changes  \\\n",
       "0                                    0.000290   \n",
       "1                                    0.003996   \n",
       "2                                    0.003865   \n",
       "3                                    0.000115   \n",
       "4                                    0.000027   \n",
       "\n",
       "variable  normalized__agg_autocorrelation__f_agg_\"mean\"  \\\n",
       "0                                                  -1.0   \n",
       "1                                                  -1.0   \n",
       "2                                                  -1.0   \n",
       "3                                                  -1.0   \n",
       "4                                                  -1.0   \n",
       "\n",
       "variable  normalized__agg_autocorrelation__f_agg_\"median\"  \\\n",
       "0                                                    -1.0   \n",
       "1                                                    -1.0   \n",
       "2                                                    -1.0   \n",
       "3                                                    -1.0   \n",
       "4                                                    -1.0   \n",
       "\n",
       "variable  normalized__agg_autocorrelation__f_agg_\"var\"  \\\n",
       "0                                                  0.0   \n",
       "1                                                  0.0   \n",
       "2                                                  0.0   \n",
       "3                                                  0.0   \n",
       "4                                                  0.0   \n",
       "\n",
       "variable  normalized__agg_linear_trend__f_agg_\"max\"__chunk_len_10__attr_\"intercept\"  \\\n",
       "0                                                       0.0                           \n",
       "1                                                       0.0                           \n",
       "2                                                       0.0                           \n",
       "3                                                       0.0                           \n",
       "4                                                       0.0                           \n",
       "\n",
       "variable  normalized__agg_linear_trend__f_agg_\"max\"__chunk_len_10__attr_\"rvalue\"  \\\n",
       "0                                                       0.0                        \n",
       "1                                                       0.0                        \n",
       "2                                                       0.0                        \n",
       "3                                                       0.0                        \n",
       "4                                                       0.0                        \n",
       "\n",
       "variable  normalized__agg_linear_trend__f_agg_\"max\"__chunk_len_10__attr_\"slope\"  \\\n",
       "0                                                       0.0                       \n",
       "1                                                       0.0                       \n",
       "2                                                       0.0                       \n",
       "3                                                       0.0                       \n",
       "4                                                       0.0                       \n",
       "\n",
       "variable  normalized__agg_linear_trend__f_agg_\"max\"__chunk_len_10__attr_\"stderr\"  \\\n",
       "0                                                       0.0                        \n",
       "1                                                       0.0                        \n",
       "2                                                       0.0                        \n",
       "3                                                       0.0                        \n",
       "4                                                       0.0                        \n",
       "\n",
       "variable  ...    normalized__time_reversal_asymmetry_statistic__lag_2  \\\n",
       "0         ...                                                  0.0      \n",
       "1         ...                                                  0.0      \n",
       "2         ...                                                  0.0      \n",
       "3         ...                                                  0.0      \n",
       "4         ...                                                  0.0      \n",
       "\n",
       "variable  normalized__time_reversal_asymmetry_statistic__lag_3  \\\n",
       "0                                                       0.0      \n",
       "1                                                       0.0      \n",
       "2                                                       0.0      \n",
       "3                                                       0.0      \n",
       "4                                                       0.0      \n",
       "\n",
       "variable  normalized__value_count__value_-inf  \\\n",
       "0                                         0.0   \n",
       "1                                         0.0   \n",
       "2                                         0.0   \n",
       "3                                         0.0   \n",
       "4                                         0.0   \n",
       "\n",
       "variable  normalized__value_count__value_0  normalized__value_count__value_1  \\\n",
       "0                                      0.0                               0.0   \n",
       "1                                      0.0                               0.0   \n",
       "2                                      0.0                               0.0   \n",
       "3                                      0.0                               0.0   \n",
       "4                                      0.0                               0.0   \n",
       "\n",
       "variable  normalized__value_count__value_inf  \\\n",
       "0                                        0.0   \n",
       "1                                        0.0   \n",
       "2                                        0.0   \n",
       "3                                        0.0   \n",
       "4                                        0.0   \n",
       "\n",
       "variable  normalized__value_count__value_nan  normalized__variance  \\\n",
       "0                                        0.0          2.103841e-08   \n",
       "1                                        0.0          3.992803e-06   \n",
       "2                                        0.0          3.733718e-06   \n",
       "3                                        0.0          3.326665e-09   \n",
       "4                                        0.0          1.856374e-10   \n",
       "\n",
       "variable  normalized__variance_larger_than_standard_deviation  label  \n",
       "0                                                       0.0        1  \n",
       "1                                                       0.0        1  \n",
       "2                                                       0.0        1  \n",
       "3                                                       0.0        1  \n",
       "4                                                       0.0        1  \n",
       "\n",
       "[5 rows x 796 columns]"
      ]
     },
     "execution_count": 28,
     "metadata": {},
     "output_type": "execute_result"
    }
   ],
   "source": [
    "# check new df with added column as label \n",
    "data_after_impute.head()"
   ]
  },
  {
   "cell_type": "code",
   "execution_count": 29,
   "metadata": {},
   "outputs": [],
   "source": [
    "#data_after_impute.to_csv('Gdp-output.csv')"
   ]
  },
  {
   "cell_type": "code",
   "execution_count": 30,
   "metadata": {},
   "outputs": [],
   "source": [
    "#Split data into X(features),y \n",
    "y = data_after_impute['label']\n",
    "X = data_after_impute.drop(columns=['id','label'])"
   ]
  },
  {
   "cell_type": "code",
   "execution_count": 31,
   "metadata": {},
   "outputs": [
    {
     "data": {
      "text/plain": [
       "1    113\n",
       "0     14\n",
       "Name: label, dtype: int64"
      ]
     },
     "execution_count": 31,
     "metadata": {},
     "output_type": "execute_result"
    }
   ],
   "source": [
    "y.value_counts()"
   ]
  },
  {
   "cell_type": "code",
   "execution_count": 32,
   "metadata": {},
   "outputs": [],
   "source": [
    "# train and test split\n",
    "X_train, X_test, y_train, y_test = train_test_split(X, y, test_size=0.40, random_state=42)"
   ]
  },
  {
   "cell_type": "code",
   "execution_count": 33,
   "metadata": {},
   "outputs": [
    {
     "data": {
      "text/plain": [
       "1    45\n",
       "0     6\n",
       "Name: label, dtype: int64"
      ]
     },
     "execution_count": 33,
     "metadata": {},
     "output_type": "execute_result"
    }
   ],
   "source": [
    "y_test.value_counts()"
   ]
  },
  {
   "cell_type": "markdown",
   "metadata": {},
   "source": [
    "#### Lets try different classifiers on the data"
   ]
  },
  {
   "cell_type": "markdown",
   "metadata": {},
   "source": [
    "###### KNN with k ranging from 1 to 15"
   ]
  },
  {
   "cell_type": "code",
   "execution_count": 34,
   "metadata": {},
   "outputs": [
    {
     "name": "stdout",
     "output_type": "stream",
     "text": [
      "[0.8672530377751793, 0.8381338742393509, 0.8980431333372509, 0.9215686274509803, 0.9215686274509803, 0.8590971272229823, 0.8590971272229823, 0.8590971272229823, 0.8272058823529411, 0.8272058823529411, 0.8272058823529411, 0.8272058823529411, 0.8272058823529411, 0.8272058823529411, 0.8272058823529411]\n"
     ]
    },
    {
     "data": {
      "image/png": "[encoded data removed]",
      "text/plain": [
       "<matplotlib.figure.Figure at 0x1c1f8fdfd0>"
      ]
     },
     "metadata": {},
     "output_type": "display_data"
    }
   ],
   "source": [
    "#KNN for different k values\n",
    "kVals = [1,2,3,4,5,6,7,8,9,10,11,12,13,14,15]\n",
    "scores = []\n",
    "\n",
    "for k in kVals:\n",
    "    knn = KNeighborsClassifier(n_neighbors=k)\n",
    "    knn.fit(X_train,y_train)\n",
    "    pred = knn.predict(X_test)\n",
    "    scores.append(f1_score(y_test,pred,average='weighted'))\n",
    "    \n",
    "plt.plot(kVals,scores)    \n",
    "print(scores)  "
   ]
  },
  {
   "cell_type": "markdown",
   "metadata": {},
   "source": [
    "#### lets Evaluate KNN Model\n",
    "You can see that we are getting best f1 score ** 0.7647 ** with **k = 5.** Lets set k and check classfication report and Confusion matrix for same."
   ]
  },
  {
   "cell_type": "code",
   "execution_count": 35,
   "metadata": {},
   "outputs": [
    {
     "name": "stdout",
     "output_type": "stream",
     "text": [
      "             precision    recall  f1-score   support\n",
      "\n",
      "          0       0.67      0.67      0.67         6\n",
      "          1       0.96      0.96      0.96        45\n",
      "\n",
      "avg / total       0.92      0.92      0.92        51\n",
      "\n",
      "F1 Score:  0.9215686274509803\n",
      "Accuracy is:  0.9215686274509803\n"
     ]
    },
    {
     "data": {
      "image/png": "[encoded data removed]",
      "text/plain": [
       "<matplotlib.figure.Figure at 0x1c1f8f2128>"
      ]
     },
     "metadata": {},
     "output_type": "display_data"
    }
   ],
   "source": [
    "knn = KNeighborsClassifier(n_neighbors=5)\n",
    "knn.fit(X_train,y_train)\n",
    "pred = knn.predict(X_test)\n",
    "dsf = classification_report(y_test,pred)\n",
    "print(dsf)\n",
    "f1 = f1_score(y_test,pred,average='weighted') \n",
    "print('F1 Score: ',f1)\n",
    "acc = accuracy_score(y_test,pred)\n",
    "print('Accuracy is: ',acc)\n",
    "plotConfusion(confusion_matrix(y_test,pred))"
   ]
  },
  {
   "cell_type": "code",
   "execution_count": null,
   "metadata": {},
   "outputs": [],
   "source": []
  },
  {
   "cell_type": "code",
   "execution_count": null,
   "metadata": {},
   "outputs": [],
   "source": []
  },
  {
   "cell_type": "markdown",
   "metadata": {},
   "source": [
    "#### Random Forest Classifier"
   ]
  },
  {
   "cell_type": "code",
   "execution_count": 36,
   "metadata": {},
   "outputs": [
    {
     "name": "stdout",
     "output_type": "stream",
     "text": [
      "F1 Score:  0.8293253342823732\n",
      "Accuracy Score:  0.8235294117647058\n"
     ]
    }
   ],
   "source": [
    "rf_classifier = RandomForestClassifier(n_estimators=10, random_state = 42)\n",
    "rf_classifier.fit(X_train,y_train)\n",
    "pred = rf_classifier.predict(X_test)\n",
    "print(\"F1 Score: \", metrics.f1_score(y_test,pred, average='weighted'))\n",
    "print(\"Accuracy Score: \", accuracy_score(y_test,pred))"
   ]
  },
  {
   "cell_type": "markdown",
   "metadata": {},
   "source": [
    "#### Fine tuninng Random Forest for different number of estimators"
   ]
  },
  {
   "cell_type": "code",
   "execution_count": 37,
   "metadata": {},
   "outputs": [
    {
     "data": {
      "text/plain": [
       "[0.8420830697870547,\n",
       " 0.8293253342823732,\n",
       " 0.8164776400070518,\n",
       " 0.8431372549019608,\n",
       " 0.8164776400070518,\n",
       " 0.8164776400070518,\n",
       " 0.8164776400070518,\n",
       " 0.7969639468690701,\n",
       " 0.7969639468690701,\n",
       " 0.8164776400070518,\n",
       " 0.8164776400070518,\n",
       " 0.8164776400070518]"
      ]
     },
     "execution_count": 37,
     "metadata": {},
     "output_type": "execute_result"
    },
    {
     "data": {
      "image/png": "[encoded data removed]",
      "text/plain": [
       "<matplotlib.figure.Figure at 0x1c21619c50>"
      ]
     },
     "metadata": {},
     "output_type": "display_data"
    }
   ],
   "source": [
    "#Ensemble Random Forest Classifier Fine Tunning\n",
    "estimators = [5,10,15,20,30,35,40,45,50,100,200,300]\n",
    "f1_scores = []\n",
    "for e in estimators:\n",
    "    rf_classifier = RandomForestClassifier(n_estimators=e, random_state = 42)\n",
    "    rf_classifier.fit(X_train,y_train)\n",
    "    pred = rf_classifier.predict(X_test)\n",
    "    f1_scores.append(f1_score(y_test,pred,average='weighted'))\n",
    "    \n",
    "plt.plot(estimators,f1_scores) \n",
    "f1_scores"
   ]
  },
  {
   "cell_type": "markdown",
   "metadata": {},
   "source": [
    "#### Lets fine tune for number of features with best number of estimator from above analysis"
   ]
  },
  {
   "cell_type": "code",
   "execution_count": 38,
   "metadata": {},
   "outputs": [
    {
     "name": "stdout",
     "output_type": "stream",
     "text": [
      "F1 Score:  0.8420830697870547\n",
      "Accuracy Score:  0.8627450980392157\n"
     ]
    }
   ],
   "source": [
    "rf_classifier = RandomForestClassifier(n_estimators=5, random_state = 42)\n",
    "rf_classifier.fit(X_train,y_train)\n",
    "pred = rf_classifier.predict(X_test)\n",
    "print(\"F1 Score: \", metrics.f1_score(y_test,pred, average='weighted'))\n",
    "print(\"Accuracy Score: \", accuracy_score(y_test,pred))"
   ]
  },
  {
   "cell_type": "code",
   "execution_count": 39,
   "metadata": {},
   "outputs": [
    {
     "name": "stdout",
     "output_type": "stream",
     "text": [
      "[0.8164776400070518, 0.7864450127877238, 0.7969639468690701, 0.8173374613003096, 0.7969639468690701, 0.8431372549019608, 0.8572603866721513, 0.8164776400070518, 0.829156010230179, 0.8164776400070518, 0.829156010230179]\n"
     ]
    },
    {
     "data": {
      "image/png": "[encoded data removed]",
      "text/plain": [
       "<matplotlib.figure.Figure at 0x1c21632da0>"
      ]
     },
     "metadata": {},
     "output_type": "display_data"
    }
   ],
   "source": [
    "no_of_features = [10,20,30,40,50,100,200,300,400,500,600]\n",
    "f1_scores = []\n",
    "for e in no_of_features:\n",
    "    rf_classifier = RandomForestClassifier(max_features = e ,n_estimators=5,random_state = 42)\n",
    "    rf_classifier.fit(X_train,y_train)\n",
    "    pred = rf_classifier.predict(X_test)\n",
    "    f1_scores.append(f1_score(y_test,pred,average='weighted'))\n",
    "    \n",
    "plt.plot(no_of_features,f1_scores) \n",
    "print(f1_scores)"
   ]
  },
  {
   "cell_type": "code",
   "execution_count": 40,
   "metadata": {
    "scrolled": true
   },
   "outputs": [
    {
     "name": "stdout",
     "output_type": "stream",
     "text": [
      "F1 Score:  0.8572603866721513\n",
      "Accuracy Score:  0.8627450980392157\n"
     ]
    }
   ],
   "source": [
    "rf_classifier = RandomForestClassifier(n_estimators=5,max_features=200, random_state = 42)\n",
    "rf_classifier.fit(X_train,y_train)\n",
    "pred = rf_classifier.predict(X_test)\n",
    "print(\"F1 Score: \", metrics.f1_score(y_test,pred, average='weighted'))\n",
    "print(\"Accuracy Score: \", accuracy_score(y_test,pred))\n",
    "cr = classification_report(y_test,pred)\n",
    "cm = confusion_matrix(y_test,pred)\n"
   ]
  },
  {
   "cell_type": "markdown",
   "metadata": {},
   "source": [
    "#### This is the best combination we got for RFC lets evaluate it"
   ]
  },
  {
   "cell_type": "code",
   "execution_count": 41,
   "metadata": {},
   "outputs": [
    {
     "name": "stdout",
     "output_type": "stream",
     "text": [
      "             precision    recall  f1-score   support\n",
      "\n",
      "          0       0.40      0.33      0.36         6\n",
      "          1       0.91      0.93      0.92        45\n",
      "\n",
      "avg / total       0.85      0.86      0.86        51\n",
      "\n"
     ]
    },
    {
     "data": {
      "image/png": "[encoded data removed]",
      "text/plain": [
       "<matplotlib.figure.Figure at 0x1c1f8f2470>"
      ]
     },
     "metadata": {},
     "output_type": "display_data"
    }
   ],
   "source": [
    "print(cr)\n",
    "plotConfusion(cm)"
   ]
  },
  {
   "cell_type": "markdown",
   "metadata": {},
   "source": [
    "#### Logistic regression model"
   ]
  },
  {
   "cell_type": "code",
   "execution_count": 42,
   "metadata": {},
   "outputs": [
    {
     "name": "stdout",
     "output_type": "stream",
     "text": [
      "F1 Score:  0.8723404255319149\n",
      "Accuracy Score:  0.8723404255319149\n"
     ]
    }
   ],
   "source": [
    "#Logistic Regression\n",
    "logmodel = LogisticRegression()\n",
    "logmodel.fit(X_train,y_train)\n",
    "pred = logmodel.predict(X_test)\n",
    "print(\"F1 Score: \", metrics.f1_score(y_test,pred, average='weighted'))\n",
    "print(\"Accuracy Score: \", accuracy_score(y_test,pred))"
   ]
  },
  {
   "cell_type": "markdown",
   "metadata": {},
   "source": [
    "#### Extra tree classifier"
   ]
  },
  {
   "cell_type": "code",
   "execution_count": 43,
   "metadata": {},
   "outputs": [
    {
     "name": "stdout",
     "output_type": "stream",
     "text": [
      "F1 Score:  0.9016763378465505\n",
      "Accuracy Score:  0.9148936170212766\n"
     ]
    }
   ],
   "source": [
    "#ExtraTreeClassifier\n",
    "model = ExtraTreesClassifier(n_estimators=5,random_state=42)\n",
    "model.fit(X_train, y_train)\n",
    "pred = model.predict(X_test)\n",
    "print(\"F1 Score: \", metrics.f1_score(y_test,pred, average='weighted'))\n",
    "print(\"Accuracy Score: \", accuracy_score(y_test,pred))"
   ]
  },
  {
   "cell_type": "code",
   "execution_count": 44,
   "metadata": {},
   "outputs": [
    {
     "name": "stdout",
     "output_type": "stream",
     "text": [
      "[0.9016763378465505, 0.8742316784869977, 0.9180970595266554, 0.8742316784869977, 0.9180970595266554, 0.8742316784869977, 0.9180970595266554, 0.8742316784869977, 0.8742316784869977, 0.9180970595266554, 0.9180970595266554, 0.9180970595266554]\n"
     ]
    },
    {
     "data": {
      "image/png": "[encoded data removed]",
      "text/plain": [
       "<matplotlib.figure.Figure at 0x1c1b132c50>"
      ]
     },
     "metadata": {},
     "output_type": "display_data"
    }
   ],
   "source": [
    "estimators = [5,10,15,20,30,35,40,45,50,100,200,300]\n",
    "f1_scores = []\n",
    "for e in estimators:\n",
    "    model = ExtraTreesClassifier(n_estimators=e,random_state=42)\n",
    "    model.fit(X_train, y_train)\n",
    "    pred = model.predict(X_test)\n",
    "    f1_scores.append(f1_score(y_test,pred,average='weighted'))\n",
    "    \n",
    "plt.plot(estimators,f1_scores) \n",
    "print(f1_scores)"
   ]
  },
  {
   "cell_type": "code",
   "execution_count": 45,
   "metadata": {},
   "outputs": [
    {
     "name": "stdout",
     "output_type": "stream",
     "text": [
      "F1 Score:  0.9180970595266554\n",
      "Accuracy Score:  0.9361702127659575\n"
     ]
    }
   ],
   "source": [
    "model = ExtraTreesClassifier(n_estimators=40,random_state=42)\n",
    "model.fit(X_train, y_train)\n",
    "pred = model.predict(X_test)\n",
    "print(\"F1 Score: \", metrics.f1_score(y_test,pred, average='weighted'))\n",
    "print(\"Accuracy Score: \", accuracy_score(y_test,pred))"
   ]
  },
  {
   "cell_type": "markdown",
   "metadata": {},
   "source": [
    "#### fine tune for max_features"
   ]
  },
  {
   "cell_type": "code",
   "execution_count": 46,
   "metadata": {},
   "outputs": [
    {
     "name": "stdout",
     "output_type": "stream",
     "text": [
      "[0.9180970595266554, 0.9180970595266554, 0.9180970595266554, 0.9180970595266554, 0.9180970595266554, 0.9180970595266554, 0.9180970595266554, 0.9180970595266554, 0.9180970595266554, 0.9180970595266554, 0.9180970595266554, 0.9180970595266554, 0.9180970595266554, 0.9180970595266554]\n"
     ]
    },
    {
     "data": {
      "image/png": "[encoded data removed]",
      "text/plain": [
       "<matplotlib.figure.Figure at 0x1c1b153c18>"
      ]
     },
     "metadata": {},
     "output_type": "display_data"
    }
   ],
   "source": [
    "no_of_features = [10,20,30,40,50,100,200,300,400,500,600,700,750,790]\n",
    "f1_scores = []\n",
    "for e in no_of_features:\n",
    "    model = ExtraTreesClassifier(max_features=e,n_estimators=40,random_state=42)\n",
    "    model.fit(X_train, y_train)\n",
    "    pred = model.predict(X_test)\n",
    "    f1_scores.append(f1_score(y_test,pred,average='weighted'))\n",
    "    \n",
    "plt.plot(no_of_features,f1_scores) \n",
    "print(f1_scores)"
   ]
  },
  {
   "cell_type": "code",
   "execution_count": 47,
   "metadata": {},
   "outputs": [
    {
     "name": "stdout",
     "output_type": "stream",
     "text": [
      "F1 Score:  0.9180970595266554\n",
      "Accuracy Score:  0.9361702127659575\n"
     ]
    }
   ],
   "source": [
    "model = ExtraTreesClassifier(n_estimators=50,max_features=790,random_state=42)\n",
    "model.fit(X_train, y_train)\n",
    "pred = model.predict(X_test)\n",
    "print(\"F1 Score: \", metrics.f1_score(y_test,pred, average='weighted'))\n",
    "print(\"Accuracy Score: \", accuracy_score(y_test,pred))\n",
    "cr = classification_report(y_test,pred)\n",
    "cm = confusion_matrix(y_test,pred)"
   ]
  },
  {
   "cell_type": "code",
   "execution_count": null,
   "metadata": {},
   "outputs": [],
   "source": []
  },
  {
   "cell_type": "code",
   "execution_count": 48,
   "metadata": {},
   "outputs": [
    {
     "name": "stdout",
     "output_type": "stream",
     "text": [
      "             precision    recall  f1-score   support\n",
      "\n",
      "          0       1.00      0.25      0.40         4\n",
      "          1       0.93      1.00      0.97        43\n",
      "\n",
      "avg / total       0.94      0.94      0.92        47\n",
      "\n"
     ]
    },
    {
     "data": {
      "image/png": "[encoded data removed]",
      "text/plain": [
       "<matplotlib.figure.Figure at 0x1c1b0143c8>"
      ]
     },
     "metadata": {},
     "output_type": "display_data"
    }
   ],
   "source": [
    "print(cr)\n",
    "plotConfusion(cm)"
   ]
  },
  {
   "cell_type": "markdown",
   "metadata": {},
   "source": [
    "#### Recursive Feature Elimination "
   ]
  },
  {
   "cell_type": "code",
   "execution_count": null,
   "metadata": {},
   "outputs": [],
   "source": []
  },
  {
   "cell_type": "code",
   "execution_count": 49,
   "metadata": {},
   "outputs": [
    {
     "name": "stdout",
     "output_type": "stream",
     "text": [
      "Optimal number of features : 786\n",
      "Best features : Index(['normalized__agg_linear_trend__f_agg_\"max\"__chunk_len_10__attr_\"stderr\"',\n",
      "       'normalized__agg_linear_trend__f_agg_\"max\"__chunk_len_50__attr_\"intercept\"',\n",
      "       'normalized__agg_linear_trend__f_agg_\"max\"__chunk_len_50__attr_\"rvalue\"',\n",
      "       'normalized__agg_linear_trend__f_agg_\"max\"__chunk_len_50__attr_\"slope\"',\n",
      "       'normalized__agg_linear_trend__f_agg_\"max\"__chunk_len_50__attr_\"stderr\"',\n",
      "       'normalized__agg_linear_trend__f_agg_\"max\"__chunk_len_5__attr_\"intercept\"',\n",
      "       'normalized__agg_linear_trend__f_agg_\"max\"__chunk_len_5__attr_\"rvalue\"',\n",
      "       'normalized__agg_linear_trend__f_agg_\"max\"__chunk_len_5__attr_\"slope\"',\n",
      "       'normalized__agg_linear_trend__f_agg_\"max\"__chunk_len_5__attr_\"stderr\"',\n",
      "       'normalized__agg_linear_trend__f_agg_\"mean\"__chunk_len_10__attr_\"intercept\"',\n",
      "       ...\n",
      "       'normalized__time_reversal_asymmetry_statistic__lag_1',\n",
      "       'normalized__time_reversal_asymmetry_statistic__lag_2',\n",
      "       'normalized__time_reversal_asymmetry_statistic__lag_3',\n",
      "       'normalized__value_count__value_-inf',\n",
      "       'normalized__value_count__value_0', 'normalized__value_count__value_1',\n",
      "       'normalized__value_count__value_inf',\n",
      "       'normalized__value_count__value_nan', 'normalized__variance',\n",
      "       'normalized__variance_larger_than_standard_deviation'],\n",
      "      dtype='object', name='variable', length=786)\n"
     ]
    }
   ],
   "source": [
    "# The \"accuracy\" scoring is proportional to the number of correct classifications\n",
    "clf_rf_4 = RandomForestClassifier() \n",
    "rfecv = RFECV(estimator=clf_rf_4, step=1, cv=5,scoring='accuracy')   #5-fold cross-validation\n",
    "rfecv = rfecv.fit(X_train, y_train)\n",
    "\n",
    "print('Optimal number of features :', rfecv.n_features_)\n",
    "print('Best features :', X_train.columns[rfecv.support_])"
   ]
  },
  {
   "cell_type": "code",
   "execution_count": 69,
   "metadata": {},
   "outputs": [],
   "source": [
    "cols = X_train.columns[rfecv.support_]"
   ]
  },
  {
   "cell_type": "code",
   "execution_count": 70,
   "metadata": {},
   "outputs": [],
   "source": [
    "X = X[cols]"
   ]
  },
  {
   "cell_type": "code",
   "execution_count": 71,
   "metadata": {},
   "outputs": [],
   "source": [
    "X_train, X_test, y_train, y_test = train_test_split(X, y, test_size=0.40, random_state=42)"
   ]
  },
  {
   "cell_type": "code",
   "execution_count": 72,
   "metadata": {},
   "outputs": [
    {
     "name": "stdout",
     "output_type": "stream",
     "text": [
      "             precision    recall  f1-score   support\n",
      "\n",
      "          0       0.67      0.13      0.22        15\n",
      "          1       0.81      0.98      0.89        57\n",
      "\n",
      "avg / total       0.78      0.81      0.75        72\n",
      "\n",
      "Accuracy is:  0.8055555555555556\n"
     ]
    }
   ],
   "source": [
    "knn = KNeighborsClassifier(n_neighbors=10)\n",
    "knn.fit(X_train,y_train)\n",
    "pred = knn.predict(X_test)\n",
    "dsf = classification_report(y_test,pred)\n",
    "acc = accuracy_score(y_test,pred) \n",
    "print(dsf)\n",
    "print('Accuracy is: ',acc)"
   ]
  },
  {
   "cell_type": "code",
   "execution_count": 73,
   "metadata": {},
   "outputs": [
    {
     "name": "stdout",
     "output_type": "stream",
     "text": [
      "[0.75, 0.6666666666666666, 0.7777777777777778, 0.75, 0.8055555555555556, 0.7777777777777778, 0.8055555555555556, 0.7916666666666666, 0.8055555555555556, 0.8055555555555556, 0.8055555555555556, 0.8055555555555556, 0.8055555555555556, 0.7777777777777778, 0.7916666666666666]\n"
     ]
    },
    {
     "data": {
      "image/png": "[encoded data removed]",
      "text/plain": [
       "<matplotlib.figure.Figure at 0x1c209f5400>"
      ]
     },
     "metadata": {},
     "output_type": "display_data"
    }
   ],
   "source": [
    "#KNN for different k values\n",
    "kVals = [1,2,3,4,5,6,7,8,9,10,11,12,13,14,15]\n",
    "scores = []\n",
    "\n",
    "for k in kVals:\n",
    "    knn = KNeighborsClassifier(n_neighbors=k)\n",
    "    knn.fit(X_train,y_train)\n",
    "    pred = knn.predict(X_test)\n",
    "    scores.append(accuracy_score(y_test,pred))\n",
    "    \n",
    "plt.plot(kVals,scores)    \n",
    "print(scores) "
   ]
  },
  {
   "cell_type": "code",
   "execution_count": 74,
   "metadata": {},
   "outputs": [
    {
     "name": "stdout",
     "output_type": "stream",
     "text": [
      "[0.8472222222222223, 0.8651260504201681, 0.8283926218708828, 0.8404123199205166, 0.8200735578784357, 0.8200735578784357, 0.8200735578784357, 0.8319892473118279, 0.852787456445993, 0.8723298559364134, 0.8723298559364134, 0.8723298559364134]\n"
     ]
    },
    {
     "data": {
      "image/png": "[encoded data removed]",
      "text/plain": [
       "<matplotlib.figure.Figure at 0x1c209f5780>"
      ]
     },
     "metadata": {},
     "output_type": "display_data"
    }
   ],
   "source": [
    "#Ensemble Random Forest Classifier Fine Tunning\n",
    "estimators = [5,10,15,20,30,35,40,45,50,100,200,300]\n",
    "f1_scores = []\n",
    "for e in estimators:\n",
    "    rf_classifier = RandomForestClassifier(n_estimators=e, random_state = 42)\n",
    "    rf_classifier.fit(X_train,y_train)\n",
    "    pred = rf_classifier.predict(X_test)\n",
    "    f1_scores.append(f1_score(y_test,pred,average='weighted'))\n",
    "    \n",
    "plt.plot(estimators,f1_scores) \n",
    "print(f1_scores)"
   ]
  },
  {
   "cell_type": "code",
   "execution_count": 50,
   "metadata": {},
   "outputs": [
    {
     "name": "stdout",
     "output_type": "stream",
     "text": [
      "             precision    recall  f1-score   support\n",
      "\n",
      "          0       1.00      0.25      0.40         4\n",
      "          1       0.93      1.00      0.97        43\n",
      "\n",
      "avg / total       0.94      0.94      0.92        47\n",
      "\n",
      "Accuracy is:  0.9361702127659575\n"
     ]
    }
   ],
   "source": [
    "rf_classifier = RandomForestClassifier(n_estimators=150, random_state = 42)\n",
    "rf_classifier.fit(X_train,y_train)\n",
    "pred = rf_classifier.predict(X_test)\n",
    "dsf = classification_report(y_test,pred)\n",
    "acc = accuracy_score(y_test,pred) \n",
    "print(dsf)\n",
    "print('Accuracy is: ',acc)"
   ]
  },
  {
   "cell_type": "code",
   "execution_count": 51,
   "metadata": {},
   "outputs": [],
   "source": [
    "# We obtained best results without Feature selection RFE"
   ]
  },
  {
   "cell_type": "markdown",
   "metadata": {},
   "source": [
    "##### Lets Try Clustering "
   ]
  },
  {
   "cell_type": "code",
   "execution_count": 52,
   "metadata": {},
   "outputs": [],
   "source": [
    "y = data_after_impute['label']\n",
    "X = data_after_impute.drop(columns=['id','label'])"
   ]
  },
  {
   "cell_type": "code",
   "execution_count": 53,
   "metadata": {},
   "outputs": [
    {
     "name": "stdout",
     "output_type": "stream",
     "text": [
      "             precision    recall  f1-score   support\n",
      "\n",
      "          0       0.04      0.83      0.08         6\n",
      "          1       0.67      0.02      0.04       111\n",
      "\n",
      "avg / total       0.63      0.06      0.04       117\n",
      "\n"
     ]
    },
    {
     "data": {
      "image/png": "[encoded data removed]",
      "text/plain": [
       "<matplotlib.figure.Figure at 0x1c1b00b748>"
      ]
     },
     "metadata": {},
     "output_type": "display_data"
    }
   ],
   "source": [
    "model = KMeans(n_clusters=2,n_init=400,random_state=42,max_iter=1000)\n",
    "model.fit(X)\n",
    "y_pred = model.labels_\n",
    "y_arr = np.array(y)\n",
    "accuracy_score(y_arr,y_pred)\n",
    "print(classification_report(y_arr,y_pred))\n",
    "plotConfusion(confusion_matrix(y_arr,y_pred))"
   ]
  },
  {
   "cell_type": "code",
   "execution_count": 54,
   "metadata": {},
   "outputs": [
    {
     "data": {
      "image/png": "[encoded data removed]",
      "text/plain": [
       "<matplotlib.figure.Figure at 0x1c20c54668>"
      ]
     },
     "metadata": {},
     "output_type": "display_data"
    }
   ],
   "source": [
    "from sklearn.preprocessing import MinMaxScaler,StandardScaler\n",
    "scaler = StandardScaler()\n",
    "scaled_df = scaler.fit_transform(X)\n",
    "scaled_df = pd.DataFrame(scaled_df)\n",
    "pca = PCA(n_components=2)  \n",
    "X_pca = pca.fit_transform(scaled_df)  \n",
    "df = pd.DataFrame(X_pca)\n",
    "df.head()\n",
    "a = df[0]\n",
    "b = df [1]\n",
    "plt.scatter(a,b,alpha=0.5,c=y,cmap='viridis')\n",
    "plt.xlabel('x')\n",
    "plt.ylabel('y')\n",
    "plt.show()"
   ]
  },
  {
   "cell_type": "code",
   "execution_count": null,
   "metadata": {},
   "outputs": [],
   "source": []
  },
  {
   "cell_type": "code",
   "execution_count": 55,
   "metadata": {},
   "outputs": [
    {
     "name": "stdout",
     "output_type": "stream",
     "text": [
      "             precision    recall  f1-score   support\n",
      "\n",
      "          0       0.00      0.00      0.00         6\n",
      "          1       0.95      0.98      0.96       111\n",
      "\n",
      "avg / total       0.90      0.93      0.92       117\n",
      "\n"
     ]
    },
    {
     "data": {
      "image/png": "[encoded data removed]",
      "text/plain": [
       "<matplotlib.figure.Figure at 0x1c20e9db00>"
      ]
     },
     "metadata": {},
     "output_type": "display_data"
    }
   ],
   "source": [
    "model = KMeans(n_clusters=2,n_init=100,random_state=42,precompute_distances=True,max_iter=1000)\n",
    "model.fit(X_pca)\n",
    "y_pred = model.labels_\n",
    "accuracy_score(y_arr,y_pred)\n",
    "print(classification_report(y_arr,y_pred))\n",
    "plotConfusion(confusion_matrix(y_arr,y_pred))"
   ]
  },
  {
   "cell_type": "code",
   "execution_count": 56,
   "metadata": {},
   "outputs": [
    {
     "data": {
      "image/png": "[encoded data removed]",
      "text/plain": [
       "<matplotlib.figure.Figure at 0x1c20dfb6d8>"
      ]
     },
     "metadata": {},
     "output_type": "display_data"
    }
   ],
   "source": [
    "plt.scatter(a,b,alpha=0.5,c=y_pred,cmap='viridis')\n",
    "plt.xlabel('x')\n",
    "plt.ylabel('y')\n",
    "plt.show()"
   ]
  },
  {
   "cell_type": "code",
   "execution_count": 57,
   "metadata": {},
   "outputs": [
    {
     "data": {
      "image/png": "[encoded data removed]",
      "text/plain": [
       "<matplotlib.figure.Figure at 0x1c20d7fcf8>"
      ]
     },
     "metadata": {},
     "output_type": "display_data"
    }
   ],
   "source": [
    "scaler = MinMaxScaler()\n",
    "scaled_df = scaler.fit_transform(X)\n",
    "scaled_df = pd.DataFrame(scaled_df)\n",
    "pca = PCA(n_components=2)  \n",
    "X_pca = pca.fit_transform(scaled_df)  \n",
    "df = pd.DataFrame(X_pca)\n",
    "df.head()\n",
    "a = df[0]\n",
    "b = df [1]\n",
    "plt.scatter(a,b,alpha=0.5,c=y,cmap='viridis')\n",
    "plt.xlabel('x')\n",
    "plt.ylabel('y')\n",
    "plt.show()"
   ]
  },
  {
   "cell_type": "code",
   "execution_count": 59,
   "metadata": {},
   "outputs": [
    {
     "name": "stdout",
     "output_type": "stream",
     "text": [
      "             precision    recall  f1-score   support\n",
      "\n",
      "          0       0.00      0.00      0.00         6\n",
      "          1       0.95      0.98      0.96       111\n",
      "\n",
      "avg / total       0.90      0.93      0.92       117\n",
      "\n"
     ]
    },
    {
     "data": {
      "image/png": "[encoded data removed]",
      "text/plain": [
       "<matplotlib.figure.Figure at 0x1c23bea6d8>"
      ]
     },
     "metadata": {},
     "output_type": "display_data"
    }
   ],
   "source": [
    "model = KMeans(n_clusters=2,n_init=100,random_state=42,precompute_distances=True,max_iter=1000)\n",
    "model.fit(X_pca)\n",
    "y_pred = model.labels_\n",
    "accuracy_score(y_arr,y_pred)\n",
    "print(classification_report(y_arr,y_pred))\n",
    "plotConfusion(confusion_matrix(y_arr,y_pred))"
   ]
  },
  {
   "cell_type": "code",
   "execution_count": null,
   "metadata": {},
   "outputs": [],
   "source": []
  },
  {
   "cell_type": "code",
   "execution_count": 60,
   "metadata": {},
   "outputs": [],
   "source": [
    "def testFunctions(dimensions,scaled_df,y_arr):\n",
    "    pca = PCA(n_components=dimensions)  \n",
    "    X_pca = pca.fit_transform(scaled_df)\n",
    "    model = KMeans(n_clusters=2,n_init=100,random_state=42,precompute_distances=True,max_iter=1000)\n",
    "    model.fit(X_pca)\n",
    "    y_pred = model.labels_\n",
    "    score = f1_score(y_pred,y_arr,average='weighted')\n",
    "    return score"
   ]
  },
  {
   "cell_type": "code",
   "execution_count": 61,
   "metadata": {},
   "outputs": [
    {
     "name": "stdout",
     "output_type": "stream",
     "text": [
      "[0.948112850767718, 0.948112850767718, 0.948112850767718, 0.948112850767718, 0.948112850767718, 0.948112850767718, 0.948112850767718, 0.948112850767718, 0.948112850767718, 0.948112850767718, 0.948112850767718, 0.948112850767718, 0.948112850767718, 0.948112850767718, 0.948112850767718]\n"
     ]
    },
    {
     "data": {
      "image/png": "[encoded data removed]",
      "text/plain": [
       "<matplotlib.figure.Figure at 0x1c20d7f128>"
      ]
     },
     "metadata": {},
     "output_type": "display_data"
    }
   ],
   "source": [
    "scaler = StandardScaler()\n",
    "scaled_df = scaler.fit_transform(X)\n",
    "scaled_df = pd.DataFrame(scaled_df)\n",
    "\n",
    "dimensions_ = [1,2,3,4,5,6,7,8,9,10,11,12,13,14,15]\n",
    "scores = []\n",
    "for dim in dimensions_:\n",
    "    scores.append(testFunctions(dim,scaled_df,y_arr))\n",
    "\n",
    "plt.plot(dimensions_,scores)    \n",
    "print(scores)"
   ]
  },
  {
   "cell_type": "code",
   "execution_count": 62,
   "metadata": {},
   "outputs": [
    {
     "name": "stdout",
     "output_type": "stream",
     "text": [
      "             precision    recall  f1-score   support\n",
      "\n",
      "          0       0.00      0.00      0.00         6\n",
      "          1       0.95      0.98      0.96       111\n",
      "\n",
      "avg / total       0.90      0.93      0.92       117\n",
      "\n"
     ]
    },
    {
     "data": {
      "image/png": "[encoded data removed]",
      "text/plain": [
       "<matplotlib.figure.Figure at 0x1c23cb9860>"
      ]
     },
     "metadata": {},
     "output_type": "display_data"
    }
   ],
   "source": [
    "pca = PCA(n_components=14)  \n",
    "X_pca = pca.fit_transform(scaled_df)\n",
    "model = KMeans(n_clusters=2,n_init=100,random_state=42,precompute_distances=True,max_iter=1000)\n",
    "model.fit(X_pca)\n",
    "y_pred = model.labels_\n",
    "print(classification_report(y_arr,y_pred))\n",
    "plotConfusion(confusion_matrix(y_arr,y_pred))"
   ]
  },
  {
   "cell_type": "code",
   "execution_count": null,
   "metadata": {},
   "outputs": [],
   "source": []
  }
 ],
 "metadata": {
  "kernelspec": {
   "display_name": "Python 3",
   "language": "python",
   "name": "python3"
  },
  "language_info": {
   "codemirror_mode": {
    "name": "ipython",
    "version": 3
   },
   "file_extension": ".py",
   "mimetype": "text/x-python",
   "name": "python",
   "nbconvert_exporter": "python",
   "pygments_lexer": "ipython3",
   "version": "3.6.4"
  }
 },
 "nbformat": 4,
 "nbformat_minor": 2
}
