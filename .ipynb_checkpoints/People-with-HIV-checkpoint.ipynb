{
 "cells": [
  {
   "cell_type": "code",
   "execution_count": 103,
   "metadata": {},
   "outputs": [],
   "source": [
    "import pandas as pd\n",
    "import numpy as np\n",
    "from sklearn.model_selection import train_test_split,cross_val_score,KFold\n",
    "from sklearn import metrics\n",
    "from sklearn.metrics import classification_report,confusion_matrix,accuracy_score,f1_score\n",
    "from sklearn.neighbors import KNeighborsClassifier\n",
    "from sklearn.ensemble import RandomForestClassifier\n",
    "from sklearn.ensemble import ExtraTreesClassifier\n",
    "from sklearn import preprocessing\n",
    "from sklearn.preprocessing import MinMaxScaler,StandardScaler,RobustScaler\n",
    "\n",
    "from sklearn.cluster import AgglomerativeClustering\n",
    "#libraries for model performance evaluation\n",
    "from sklearn import metrics\n",
    "from sklearn.metrics import classification_report,confusion_matrix,accuracy_score,f1_score\n",
    "\n",
    "#libraries for visualization\n",
    "import matplotlib.pyplot as plt\n",
    "import seaborn as sns\n",
    "%matplotlib inline\n",
    "from matplotlib.colors import ListedColormap\n",
    "\n",
    "# libraries for computation\n",
    "import pandas as pd\n",
    "import numpy as np\n",
    "from sklearn.decomposition import PCA\n",
    "\n",
    "#library for train test split\n",
    "from sklearn.model_selection import train_test_split,cross_val_score,KFold\n",
    "\n",
    "#library for preprocessing\n",
    "from sklearn.preprocessing import StandardScaler\n",
    "\n",
    "#library for Dimensionality reduction\n",
    "from sklearn.decomposition import PCA\n",
    "from sklearn.decomposition import TruncatedSVD\n",
    "\n",
    "#Library for feature selection techniques\n",
    "from sklearn.feature_selection import RFE\n",
    "from sklearn.feature_selection import RFECV\n",
    "from sklearn.feature_selection import SelectKBest\n",
    "from sklearn.feature_selection import chi2\n",
    "from sklearn.feature_selection import SelectFromModel\n",
    "\n",
    "#libraries for various ML models \n",
    "from sklearn import svm\n",
    "from sklearn.svm import SVC\n",
    "from sklearn.linear_model import LogisticRegression\n",
    "from sklearn.neural_network import MLPClassifier\n",
    "from sklearn.neighbors import KNeighborsClassifier\n",
    "from sklearn.tree import DecisionTreeClassifier\n",
    "#ensemble models\n",
    "from sklearn.ensemble import BaggingClassifier\n",
    "from sklearn.ensemble import AdaBoostClassifier\n",
    "from sklearn.ensemble import GradientBoostingClassifier\n",
    "from sklearn.ensemble import VotingClassifier\n",
    "from sklearn.ensemble import RandomForestClassifier\n",
    "from sklearn.ensemble import ExtraTreesClassifier\n",
    "from sklearn.ensemble import RandomForestRegressor\n",
    "\n",
    "\n",
    "from sklearn.cluster import KMeans\n",
    "\n",
    "#libraries for model performance evaluation\n",
    "from sklearn import metrics\n",
    "from sklearn.metrics import classification_report,confusion_matrix,accuracy_score,f1_score\n",
    "\n",
    "#libraries for visualization\n",
    "import matplotlib.pyplot as plt\n",
    "import seaborn as sns\n",
    "%matplotlib inline\n",
    "from matplotlib.colors import ListedColormap\n",
    "\n",
    "import warnings\n",
    "warnings.filterwarnings('ignore')"
   ]
  },
  {
   "cell_type": "code",
   "execution_count": 104,
   "metadata": {},
   "outputs": [],
   "source": [
    "def plotConfusion(cm):\n",
    "    sns.set_style('white')\n",
    "    plt.clf()\n",
    "    plt.imshow(cm, interpolation='nearest', cmap=plt.cm.Pastel1)\n",
    "    classNames = ['Developed','Developing']\n",
    "    plt.title('Confusion Matrix',fontsize = 15)\n",
    "    plt.ylabel('True label',fontsize=15)\n",
    "    plt.xlabel('Predicted label',fontsize=15)\n",
    "    tick_marks = np.arange(len(classNames))\n",
    "    plt.xticks(tick_marks, classNames,fontsize=12)\n",
    "    plt.yticks(tick_marks, classNames,fontsize=12)\n",
    "    s = [['TP','FN'], ['FP', 'TN']]\n",
    "    for i in range(2):\n",
    "        for j in range(2):\n",
    "            plt.text(j,i, str(s[i][j])+\" = \"+str(cm[i][j]))\n",
    "    plt.show()"
   ]
  },
  {
   "cell_type": "markdown",
   "metadata": {},
   "source": [
    "### Read Data from CSV"
   ]
  },
  {
   "cell_type": "code",
   "execution_count": 4,
   "metadata": {},
   "outputs": [
    {
     "name": "stderr",
     "output_type": "stream",
     "text": [
      "b'Skipping line 6442: expected 3 fields, saw 4\\nSkipping line 6443: expected 3 fields, saw 4\\nSkipping line 6444: expected 3 fields, saw 4\\nSkipping line 6445: expected 3 fields, saw 4\\nSkipping line 6446: expected 3 fields, saw 4\\nSkipping line 6447: expected 3 fields, saw 4\\nSkipping line 6448: expected 3 fields, saw 4\\nSkipping line 6449: expected 3 fields, saw 4\\nSkipping line 6450: expected 3 fields, saw 4\\nSkipping line 6451: expected 3 fields, saw 4\\nSkipping line 6452: expected 3 fields, saw 4\\nSkipping line 6453: expected 3 fields, saw 4\\nSkipping line 6454: expected 3 fields, saw 4\\nSkipping line 6455: expected 3 fields, saw 4\\nSkipping line 6456: expected 3 fields, saw 4\\nSkipping line 6457: expected 3 fields, saw 4\\nSkipping line 6458: expected 3 fields, saw 4\\nSkipping line 6459: expected 3 fields, saw 4\\nSkipping line 6460: expected 3 fields, saw 4\\nSkipping line 6461: expected 3 fields, saw 4\\nSkipping line 6462: expected 3 fields, saw 4\\nSkipping line 6463: expected 3 fields, saw 4\\nSkipping line 6464: expected 3 fields, saw 4\\nSkipping line 6465: expected 3 fields, saw 4\\nSkipping line 6466: expected 3 fields, saw 4\\nSkipping line 6467: expected 3 fields, saw 4\\nSkipping line 6468: expected 3 fields, saw 4\\nSkipping line 6469: expected 3 fields, saw 4\\nSkipping line 6470: expected 3 fields, saw 4\\nSkipping line 6471: expected 3 fields, saw 4\\nSkipping line 6472: expected 3 fields, saw 4\\nSkipping line 6473: expected 3 fields, saw 4\\nSkipping line 6474: expected 3 fields, saw 4\\nSkipping line 6475: expected 3 fields, saw 4\\nSkipping line 6476: expected 3 fields, saw 4\\nSkipping line 6477: expected 3 fields, saw 4\\nSkipping line 6478: expected 3 fields, saw 4\\nSkipping line 6479: expected 3 fields, saw 4\\nSkipping line 6480: expected 3 fields, saw 4\\nSkipping line 6481: expected 3 fields, saw 4\\nSkipping line 6482: expected 3 fields, saw 4\\nSkipping line 6483: expected 3 fields, saw 4\\nSkipping line 6484: expected 3 fields, saw 4\\nSkipping line 6485: expected 3 fields, saw 4\\nSkipping line 6486: expected 3 fields, saw 4\\nSkipping line 6487: expected 3 fields, saw 4\\nSkipping line 6488: expected 3 fields, saw 4\\nSkipping line 6489: expected 3 fields, saw 4\\nSkipping line 6490: expected 3 fields, saw 4\\nSkipping line 6491: expected 3 fields, saw 4\\nSkipping line 6492: expected 3 fields, saw 4\\nSkipping line 6493: expected 3 fields, saw 4\\nSkipping line 6494: expected 3 fields, saw 4\\nSkipping line 6495: expected 3 fields, saw 4\\nSkipping line 6496: expected 3 fields, saw 4\\nSkipping line 6497: expected 3 fields, saw 4\\nSkipping line 6498: expected 3 fields, saw 4\\nSkipping line 6499: expected 3 fields, saw 4\\nSkipping line 6500: expected 3 fields, saw 4\\nSkipping line 6501: expected 3 fields, saw 4\\nSkipping line 6502: expected 3 fields, saw 4\\nSkipping line 6503: expected 3 fields, saw 4\\nSkipping line 6504: expected 3 fields, saw 4\\nSkipping line 6505: expected 3 fields, saw 4\\nSkipping line 6506: expected 3 fields, saw 4\\nSkipping line 6507: expected 3 fields, saw 4\\nSkipping line 6508: expected 3 fields, saw 4\\nSkipping line 6509: expected 3 fields, saw 4\\nSkipping line 6510: expected 3 fields, saw 4\\nSkipping line 6511: expected 3 fields, saw 4\\nSkipping line 6512: expected 3 fields, saw 4\\nSkipping line 6513: expected 3 fields, saw 4\\nSkipping line 6514: expected 3 fields, saw 4\\nSkipping line 6515: expected 3 fields, saw 4\\nSkipping line 6516: expected 3 fields, saw 4\\nSkipping line 6517: expected 3 fields, saw 4\\nSkipping line 6518: expected 3 fields, saw 4\\nSkipping line 6519: expected 3 fields, saw 4\\nSkipping line 6520: expected 3 fields, saw 4\\nSkipping line 6521: expected 3 fields, saw 4\\nSkipping line 6522: expected 3 fields, saw 4\\nSkipping line 6523: expected 3 fields, saw 4\\nSkipping line 6524: expected 3 fields, saw 4\\nSkipping line 6525: expected 3 fields, saw 4\\nSkipping line 6526: expected 3 fields, saw 4\\nSkipping line 6527: expected 3 fields, saw 4\\nSkipping line 6528: expected 3 fields, saw 4\\nSkipping line 6529: expected 3 fields, saw 4\\nSkipping line 6530: expected 3 fields, saw 4\\nSkipping line 6531: expected 3 fields, saw 4\\nSkipping line 6532: expected 3 fields, saw 4\\nSkipping line 6533: expected 3 fields, saw 4\\nSkipping line 6534: expected 3 fields, saw 4\\nSkipping line 6535: expected 3 fields, saw 4\\nSkipping line 6536: expected 3 fields, saw 4\\nSkipping line 6537: expected 3 fields, saw 4\\nSkipping line 6538: expected 3 fields, saw 4\\nSkipping line 6539: expected 3 fields, saw 4\\nSkipping line 6540: expected 3 fields, saw 4\\nSkipping line 6541: expected 3 fields, saw 4\\nSkipping line 6542: expected 3 fields, saw 4\\nSkipping line 6543: expected 3 fields, saw 4\\nSkipping line 6544: expected 3 fields, saw 4\\nSkipping line 6545: expected 3 fields, saw 4\\nSkipping line 6546: expected 3 fields, saw 4\\nSkipping line 6547: expected 3 fields, saw 4\\nSkipping line 6548: expected 3 fields, saw 4\\nSkipping line 6549: expected 3 fields, saw 4\\nSkipping line 6550: expected 3 fields, saw 4\\nSkipping line 6551: expected 3 fields, saw 4\\nSkipping line 6552: expected 3 fields, saw 4\\nSkipping line 6553: expected 3 fields, saw 4\\nSkipping line 6554: expected 3 fields, saw 4\\nSkipping line 6555: expected 3 fields, saw 4\\nSkipping line 6556: expected 3 fields, saw 4\\nSkipping line 6557: expected 3 fields, saw 4\\nSkipping line 6558: expected 3 fields, saw 4\\nSkipping line 6559: expected 3 fields, saw 4\\nSkipping line 6560: expected 3 fields, saw 4\\nSkipping line 6561: expected 3 fields, saw 4\\nSkipping line 6562: expected 3 fields, saw 4\\nSkipping line 6563: expected 3 fields, saw 4\\nSkipping line 6564: expected 3 fields, saw 4\\nSkipping line 6565: expected 3 fields, saw 4\\nSkipping line 6566: expected 3 fields, saw 4\\nSkipping line 6567: expected 3 fields, saw 4\\nSkipping line 6568: expected 3 fields, saw 4\\nSkipping line 6569: expected 3 fields, saw 4\\nSkipping line 6570: expected 3 fields, saw 4\\nSkipping line 6571: expected 3 fields, saw 4\\nSkipping line 6572: expected 3 fields, saw 4\\nSkipping line 6573: expected 3 fields, saw 4\\nSkipping line 6574: expected 3 fields, saw 4\\nSkipping line 6575: expected 3 fields, saw 4\\nSkipping line 6576: expected 3 fields, saw 4\\nSkipping line 6577: expected 3 fields, saw 4\\nSkipping line 6578: expected 3 fields, saw 4\\nSkipping line 6579: expected 3 fields, saw 4\\nSkipping line 6580: expected 3 fields, saw 4\\nSkipping line 6581: expected 3 fields, saw 4\\nSkipping line 6582: expected 3 fields, saw 4\\nSkipping line 6583: expected 3 fields, saw 4\\nSkipping line 6584: expected 3 fields, saw 4\\nSkipping line 6585: expected 3 fields, saw 4\\nSkipping line 6586: expected 3 fields, saw 4\\nSkipping line 6587: expected 3 fields, saw 4\\nSkipping line 6588: expected 3 fields, saw 4\\nSkipping line 6589: expected 3 fields, saw 4\\nSkipping line 6590: expected 3 fields, saw 4\\nSkipping line 6591: expected 3 fields, saw 4\\nSkipping line 6592: expected 3 fields, saw 4\\nSkipping line 6593: expected 3 fields, saw 4\\nSkipping line 6594: expected 3 fields, saw 4\\nSkipping line 6595: expected 3 fields, saw 4\\nSkipping line 6596: expected 3 fields, saw 4\\nSkipping line 6597: expected 3 fields, saw 4\\nSkipping line 6598: expected 3 fields, saw 4\\nSkipping line 6599: expected 3 fields, saw 4\\nSkipping line 6600: expected 3 fields, saw 4\\nSkipping line 6601: expected 3 fields, saw 4\\nSkipping line 6602: expected 3 fields, saw 4\\nSkipping line 6603: expected 3 fields, saw 4\\nSkipping line 6604: expected 3 fields, saw 4\\nSkipping line 6605: expected 3 fields, saw 4\\nSkipping line 6606: expected 3 fields, saw 4\\nSkipping line 6607: expected 3 fields, saw 4\\nSkipping line 6608: expected 3 fields, saw 4\\nSkipping line 6609: expected 3 fields, saw 4\\nSkipping line 6610: expected 3 fields, saw 4\\nSkipping line 6611: expected 3 fields, saw 4\\nSkipping line 6612: expected 3 fields, saw 4\\nSkipping line 6613: expected 3 fields, saw 4\\nSkipping line 6614: expected 3 fields, saw 4\\nSkipping line 6615: expected 3 fields, saw 4\\nSkipping line 6616: expected 3 fields, saw 4\\nSkipping line 6617: expected 3 fields, saw 4\\nSkipping line 6618: expected 3 fields, saw 4\\nSkipping line 6619: expected 3 fields, saw 4\\nSkipping line 6620: expected 3 fields, saw 4\\nSkipping line 6621: expected 3 fields, saw 4\\nSkipping line 6622: expected 3 fields, saw 4\\nSkipping line 6623: expected 3 fields, saw 4\\nSkipping line 6624: expected 3 fields, saw 4\\nSkipping line 6625: expected 3 fields, saw 4\\nSkipping line 6626: expected 3 fields, saw 4\\nSkipping line 6627: expected 3 fields, saw 4\\nSkipping line 6628: expected 3 fields, saw 4\\nSkipping line 6629: expected 3 fields, saw 4\\nSkipping line 6630: expected 3 fields, saw 4\\nSkipping line 6631: expected 3 fields, saw 4\\nSkipping line 6632: expected 3 fields, saw 4\\nSkipping line 6633: expected 3 fields, saw 4\\nSkipping line 6634: expected 3 fields, saw 4\\nSkipping line 6635: expected 3 fields, saw 4\\nSkipping line 6636: expected 3 fields, saw 4\\nSkipping line 6637: expected 3 fields, saw 4\\nSkipping line 6638: expected 3 fields, saw 4\\nSkipping line 6639: expected 3 fields, saw 4\\nSkipping line 6640: expected 3 fields, saw 4\\nSkipping line 6641: expected 3 fields, saw 4\\nSkipping line 6642: expected 3 fields, saw 4\\nSkipping line 6643: expected 3 fields, saw 4\\nSkipping line 6644: expected 3 fields, saw 4\\nSkipping line 6645: expected 3 fields, saw 4\\nSkipping line 6646: expected 3 fields, saw 4\\nSkipping line 6647: expected 3 fields, saw 4\\nSkipping line 6648: expected 3 fields, saw 4\\nSkipping line 6649: expected 3 fields, saw 4\\nSkipping line 6650: expected 3 fields, saw 4\\nSkipping line 6651: expected 3 fields, saw 4\\nSkipping line 6652: expected 3 fields, saw 4\\nSkipping line 6653: expected 3 fields, saw 4\\nSkipping line 6654: expected 3 fields, saw 4\\nSkipping line 6655: expected 3 fields, saw 4\\nSkipping line 6656: expected 3 fields, saw 4\\nSkipping line 6657: expected 3 fields, saw 4\\nSkipping line 6658: expected 3 fields, saw 4\\nSkipping line 6659: expected 3 fields, saw 4\\nSkipping line 6660: expected 3 fields, saw 4\\nSkipping line 6661: expected 3 fields, saw 4\\nSkipping line 6662: expected 3 fields, saw 4\\nSkipping line 6663: expected 3 fields, saw 4\\nSkipping line 6664: expected 3 fields, saw 4\\nSkipping line 6665: expected 3 fields, saw 4\\nSkipping line 6666: expected 3 fields, saw 4\\nSkipping line 6667: expected 3 fields, saw 4\\nSkipping line 6668: expected 3 fields, saw 4\\nSkipping line 6669: expected 3 fields, saw 4\\nSkipping line 6670: expected 3 fields, saw 4\\nSkipping line 6671: expected 3 fields, saw 4\\nSkipping line 6672: expected 3 fields, saw 4\\nSkipping line 6673: expected 3 fields, saw 4\\nSkipping line 6674: expected 3 fields, saw 4\\nSkipping line 6675: expected 3 fields, saw 4\\nSkipping line 6676: expected 3 fields, saw 4\\nSkipping line 6677: expected 3 fields, saw 4\\nSkipping line 6678: expected 3 fields, saw 4\\nSkipping line 6679: expected 3 fields, saw 4\\nSkipping line 6680: expected 3 fields, saw 4\\nSkipping line 6681: expected 3 fields, saw 4\\nSkipping line 6682: expected 3 fields, saw 4\\nSkipping line 6683: expected 3 fields, saw 4\\nSkipping line 6684: expected 3 fields, saw 4\\nSkipping line 6685: expected 3 fields, saw 4\\nSkipping line 6686: expected 3 fields, saw 4\\nSkipping line 6687: expected 3 fields, saw 4\\nSkipping line 6688: expected 3 fields, saw 4\\nSkipping line 6689: expected 3 fields, saw 4\\nSkipping line 6690: expected 3 fields, saw 4\\nSkipping line 6691: expected 3 fields, saw 4\\nSkipping line 6692: expected 3 fields, saw 4\\nSkipping line 6693: expected 3 fields, saw 4\\nSkipping line 6694: expected 3 fields, saw 4\\nSkipping line 6695: expected 3 fields, saw 4\\nSkipping line 6696: expected 3 fields, saw 4\\nSkipping line 6697: expected 3 fields, saw 4\\nSkipping line 6698: expected 3 fields, saw 4\\nSkipping line 6699: expected 3 fields, saw 4\\nSkipping line 6700: expected 3 fields, saw 4\\nSkipping line 6701: expected 3 fields, saw 4\\nSkipping line 6702: expected 3 fields, saw 4\\nSkipping line 6703: expected 3 fields, saw 4\\nSkipping line 6704: expected 3 fields, saw 4\\nSkipping line 6705: expected 3 fields, saw 4\\nSkipping line 6706: expected 3 fields, saw 4\\nSkipping line 6707: expected 3 fields, saw 4\\nSkipping line 6708: expected 3 fields, saw 4\\nSkipping line 6709: expected 3 fields, saw 4\\nSkipping line 6710: expected 3 fields, saw 4\\nSkipping line 6711: expected 3 fields, saw 4\\nSkipping line 6712: expected 3 fields, saw 4\\nSkipping line 6713: expected 3 fields, saw 4\\nSkipping line 6714: expected 3 fields, saw 4\\nSkipping line 6715: expected 3 fields, saw 4\\nSkipping line 6716: expected 3 fields, saw 4\\nSkipping line 6717: expected 3 fields, saw 4\\nSkipping line 6718: expected 3 fields, saw 4\\nSkipping line 6719: expected 3 fields, saw 4\\nSkipping line 6720: expected 3 fields, saw 4\\nSkipping line 6721: expected 3 fields, saw 4\\nSkipping line 6722: expected 3 fields, saw 4\\nSkipping line 6723: expected 3 fields, saw 4\\nSkipping line 6724: expected 3 fields, saw 4\\nSkipping line 6725: expected 3 fields, saw 4\\nSkipping line 6726: expected 3 fields, saw 4\\nSkipping line 6727: expected 3 fields, saw 4\\nSkipping line 6728: expected 3 fields, saw 4\\nSkipping line 6729: expected 3 fields, saw 4\\nSkipping line 6730: expected 3 fields, saw 4\\nSkipping line 6731: expected 3 fields, saw 4\\nSkipping line 6732: expected 3 fields, saw 4\\nSkipping line 6733: expected 3 fields, saw 4\\nSkipping line 6734: expected 3 fields, saw 4\\nSkipping line 6735: expected 3 fields, saw 4\\nSkipping line 6736: expected 3 fields, saw 4\\nSkipping line 6737: expected 3 fields, saw 4\\nSkipping line 6738: expected 3 fields, saw 4\\nSkipping line 6739: expected 3 fields, saw 4\\nSkipping line 6740: expected 3 fields, saw 4\\nSkipping line 6741: expected 3 fields, saw 4\\nSkipping line 6742: expected 3 fields, saw 4\\nSkipping line 6743: expected 3 fields, saw 4\\nSkipping line 6744: expected 3 fields, saw 4\\nSkipping line 6745: expected 3 fields, saw 4\\nSkipping line 6746: expected 3 fields, saw 4\\nSkipping line 6747: expected 3 fields, saw 4\\nSkipping line 6748: expected 3 fields, saw 4\\nSkipping line 6749: expected 3 fields, saw 4\\nSkipping line 6750: expected 3 fields, saw 4\\nSkipping line 6751: expected 3 fields, saw 4\\nSkipping line 6752: expected 3 fields, saw 4\\nSkipping line 6753: expected 3 fields, saw 4\\nSkipping line 6754: expected 3 fields, saw 4\\nSkipping line 6755: expected 3 fields, saw 4\\nSkipping line 6756: expected 3 fields, saw 4\\nSkipping line 6757: expected 3 fields, saw 4\\nSkipping line 6758: expected 3 fields, saw 4\\nSkipping line 6759: expected 3 fields, saw 4\\nSkipping line 6760: expected 3 fields, saw 4\\nSkipping line 6761: expected 3 fields, saw 4\\nSkipping line 6762: expected 3 fields, saw 4\\nSkipping line 6763: expected 3 fields, saw 4\\nSkipping line 6764: expected 3 fields, saw 4\\nSkipping line 6765: expected 3 fields, saw 4\\nSkipping line 6766: expected 3 fields, saw 4\\nSkipping line 6767: expected 3 fields, saw 4\\nSkipping line 6768: expected 3 fields, saw 4\\nSkipping line 6769: expected 3 fields, saw 4\\nSkipping line 6770: expected 3 fields, saw 4\\nSkipping line 6771: expected 3 fields, saw 4\\nSkipping line 6772: expected 3 fields, saw 4\\nSkipping line 6773: expected 3 fields, saw 4\\nSkipping line 6774: expected 3 fields, saw 4\\nSkipping line 6775: expected 3 fields, saw 4\\nSkipping line 6776: expected 3 fields, saw 4\\nSkipping line 6777: expected 3 fields, saw 4\\nSkipping line 6778: expected 3 fields, saw 4\\nSkipping line 6779: expected 3 fields, saw 4\\nSkipping line 6780: expected 3 fields, saw 4\\nSkipping line 6781: expected 3 fields, saw 4\\nSkipping line 6782: expected 3 fields, saw 4\\nSkipping line 6783: expected 3 fields, saw 4\\nSkipping line 6784: expected 3 fields, saw 4\\nSkipping line 6785: expected 3 fields, saw 4\\nSkipping line 6786: expected 3 fields, saw 4\\nSkipping line 6787: expected 3 fields, saw 4\\nSkipping line 6788: expected 3 fields, saw 4\\nSkipping line 6789: expected 3 fields, saw 4\\nSkipping line 6790: expected 3 fields, saw 4\\nSkipping line 6791: expected 3 fields, saw 4\\nSkipping line 6792: expected 3 fields, saw 4\\nSkipping line 6793: expected 3 fields, saw 4\\nSkipping line 6794: expected 3 fields, saw 4\\nSkipping line 6795: expected 3 fields, saw 4\\nSkipping line 6796: expected 3 fields, saw 4\\nSkipping line 6797: expected 3 fields, saw 4\\nSkipping line 6798: expected 3 fields, saw 4\\nSkipping line 6799: expected 3 fields, saw 4\\nSkipping line 6800: expected 3 fields, saw 4\\nSkipping line 6801: expected 3 fields, saw 4\\nSkipping line 6802: expected 3 fields, saw 4\\nSkipping line 6803: expected 3 fields, saw 4\\nSkipping line 6804: expected 3 fields, saw 4\\nSkipping line 6805: expected 3 fields, saw 4\\nSkipping line 6806: expected 3 fields, saw 4\\nSkipping line 6807: expected 3 fields, saw 4\\nSkipping line 6808: expected 3 fields, saw 4\\nSkipping line 6809: expected 3 fields, saw 4\\nSkipping line 6810: expected 3 fields, saw 4\\nSkipping line 6811: expected 3 fields, saw 4\\nSkipping line 6812: expected 3 fields, saw 4\\nSkipping line 6813: expected 3 fields, saw 4\\nSkipping line 6814: expected 3 fields, saw 4\\nSkipping line 6815: expected 3 fields, saw 4\\nSkipping line 6816: expected 3 fields, saw 4\\nSkipping line 6817: expected 3 fields, saw 4\\nSkipping line 6818: expected 3 fields, saw 4\\nSkipping line 6819: expected 3 fields, saw 4\\nSkipping line 6820: expected 3 fields, saw 4\\nSkipping line 6821: expected 3 fields, saw 4\\nSkipping line 6822: expected 3 fields, saw 4\\nSkipping line 6823: expected 3 fields, saw 4\\nSkipping line 6824: expected 3 fields, saw 4\\nSkipping line 6825: expected 3 fields, saw 4\\nSkipping line 6826: expected 3 fields, saw 4\\nSkipping line 6827: expected 3 fields, saw 4\\nSkipping line 6828: expected 3 fields, saw 4\\nSkipping line 6829: expected 3 fields, saw 4\\nSkipping line 6830: expected 3 fields, saw 4\\nSkipping line 6831: expected 3 fields, saw 4\\nSkipping line 6832: expected 3 fields, saw 4\\nSkipping line 6833: expected 3 fields, saw 4\\nSkipping line 6834: expected 3 fields, saw 4\\nSkipping line 6835: expected 3 fields, saw 4\\nSkipping line 6836: expected 3 fields, saw 4\\nSkipping line 6837: expected 3 fields, saw 4\\nSkipping line 6838: expected 3 fields, saw 4\\nSkipping line 6839: expected 3 fields, saw 4\\nSkipping line 6840: expected 3 fields, saw 4\\nSkipping line 6841: expected 3 fields, saw 4\\nSkipping line 6842: expected 3 fields, saw 4\\nSkipping line 6843: expected 3 fields, saw 4\\nSkipping line 6844: expected 3 fields, saw 4\\nSkipping line 6845: expected 3 fields, saw 4\\nSkipping line 6846: expected 3 fields, saw 4\\nSkipping line 6847: expected 3 fields, saw 4\\nSkipping line 6848: expected 3 fields, saw 4\\nSkipping line 6849: expected 3 fields, saw 4\\nSkipping line 6850: expected 3 fields, saw 4\\nSkipping line 6851: expected 3 fields, saw 4\\nSkipping line 6852: expected 3 fields, saw 4\\nSkipping line 6853: expected 3 fields, saw 4\\nSkipping line 6854: expected 3 fields, saw 4\\nSkipping line 6855: expected 3 fields, saw 4\\nSkipping line 6856: expected 3 fields, saw 4\\nSkipping line 6857: expected 3 fields, saw 4\\nSkipping line 6858: expected 3 fields, saw 4\\nSkipping line 6859: expected 3 fields, saw 4\\nSkipping line 6860: expected 3 fields, saw 4\\nSkipping line 6861: expected 3 fields, saw 4\\nSkipping line 6862: expected 3 fields, saw 4\\nSkipping line 6863: expected 3 fields, saw 4\\nSkipping line 6864: expected 3 fields, saw 4\\nSkipping line 6865: expected 3 fields, saw 4\\nSkipping line 6866: expected 3 fields, saw 4\\nSkipping line 6867: expected 3 fields, saw 4\\nSkipping line 6868: expected 3 fields, saw 4\\nSkipping line 6869: expected 3 fields, saw 4\\nSkipping line 6870: expected 3 fields, saw 4\\nSkipping line 6871: expected 3 fields, saw 4\\nSkipping line 6872: expected 3 fields, saw 4\\nSkipping line 6873: expected 3 fields, saw 4\\nSkipping line 6874: expected 3 fields, saw 4\\nSkipping line 6875: expected 3 fields, saw 4\\nSkipping line 6876: expected 3 fields, saw 4\\nSkipping line 6877: expected 3 fields, saw 4\\nSkipping line 6878: expected 3 fields, saw 4\\nSkipping line 6879: expected 3 fields, saw 4\\nSkipping line 6880: expected 3 fields, saw 4\\nSkipping line 6881: expected 3 fields, saw 4\\nSkipping line 6882: expected 3 fields, saw 4\\nSkipping line 6883: expected 3 fields, saw 4\\nSkipping line 6884: expected 3 fields, saw 4\\nSkipping line 6885: expected 3 fields, saw 4\\nSkipping line 6886: expected 3 fields, saw 4\\nSkipping line 6887: expected 3 fields, saw 4\\nSkipping line 6888: expected 3 fields, saw 4\\nSkipping line 6889: expected 3 fields, saw 4\\nSkipping line 6890: expected 3 fields, saw 4\\nSkipping line 6891: expected 3 fields, saw 4\\nSkipping line 6892: expected 3 fields, saw 4\\nSkipping line 6893: expected 3 fields, saw 4\\nSkipping line 6894: expected 3 fields, saw 4\\nSkipping line 6895: expected 3 fields, saw 4\\nSkipping line 6896: expected 3 fields, saw 4\\nSkipping line 6897: expected 3 fields, saw 4\\nSkipping line 6898: expected 3 fields, saw 4\\nSkipping line 6899: expected 3 fields, saw 4\\nSkipping line 6900: expected 3 fields, saw 4\\nSkipping line 6901: expected 3 fields, saw 4\\nSkipping line 6902: expected 3 fields, saw 4\\nSkipping line 6903: expected 3 fields, saw 4\\nSkipping line 6904: expected 3 fields, saw 4\\nSkipping line 6905: expected 3 fields, saw 4\\nSkipping line 6906: expected 3 fields, saw 4\\nSkipping line 6907: expected 3 fields, saw 4\\nSkipping line 6908: expected 3 fields, saw 4\\nSkipping line 6909: expected 3 fields, saw 4\\nSkipping line 6910: expected 3 fields, saw 4\\nSkipping line 6911: expected 3 fields, saw 4\\nSkipping line 6912: expected 3 fields, saw 4\\nSkipping line 6913: expected 3 fields, saw 4\\nSkipping line 6914: expected 3 fields, saw 4\\nSkipping line 6915: expected 3 fields, saw 4\\nSkipping line 6916: expected 3 fields, saw 4\\nSkipping line 6917: expected 3 fields, saw 4\\nSkipping line 6918: expected 3 fields, saw 4\\nSkipping line 6919: expected 3 fields, saw 4\\nSkipping line 6920: expected 3 fields, saw 4\\nSkipping line 6921: expected 3 fields, saw 4\\nSkipping line 6922: expected 3 fields, saw 4\\nSkipping line 6923: expected 3 fields, saw 4\\nSkipping line 6924: expected 3 fields, saw 4\\nSkipping line 6925: expected 3 fields, saw 4\\nSkipping line 6926: expected 3 fields, saw 4\\nSkipping line 6927: expected 3 fields, saw 4\\nSkipping line 6928: expected 3 fields, saw 4\\nSkipping line 6929: expected 3 fields, saw 4\\nSkipping line 6930: expected 3 fields, saw 4\\nSkipping line 6931: expected 3 fields, saw 4\\nSkipping line 6932: expected 3 fields, saw 4\\nSkipping line 6933: expected 3 fields, saw 4\\nSkipping line 6934: expected 3 fields, saw 4\\nSkipping line 6935: expected 3 fields, saw 4\\nSkipping line 6936: expected 3 fields, saw 4\\nSkipping line 6937: expected 3 fields, saw 4\\nSkipping line 6938: expected 3 fields, saw 4\\nSkipping line 6939: expected 3 fields, saw 4\\nSkipping line 6940: expected 3 fields, saw 4\\nSkipping line 6941: expected 3 fields, saw 4\\nSkipping line 6942: expected 3 fields, saw 4\\nSkipping line 6943: expected 3 fields, saw 4\\nSkipping line 6944: expected 3 fields, saw 4\\nSkipping line 6945: expected 3 fields, saw 4\\nSkipping line 6946: expected 3 fields, saw 4\\nSkipping line 6947: expected 3 fields, saw 4\\nSkipping line 6948: expected 3 fields, saw 4\\nSkipping line 6949: expected 3 fields, saw 4\\nSkipping line 6950: expected 3 fields, saw 4\\nSkipping line 6951: expected 3 fields, saw 4\\nSkipping line 6952: expected 3 fields, saw 4\\nSkipping line 6953: expected 3 fields, saw 4\\nSkipping line 6954: expected 3 fields, saw 4\\nSkipping line 6955: expected 3 fields, saw 4\\nSkipping line 6956: expected 3 fields, saw 4\\nSkipping line 6957: expected 3 fields, saw 4\\nSkipping line 6958: expected 3 fields, saw 4\\nSkipping line 6959: expected 3 fields, saw 4\\nSkipping line 6960: expected 3 fields, saw 4\\nSkipping line 6961: expected 3 fields, saw 4\\nSkipping line 6962: expected 3 fields, saw 4\\nSkipping line 6963: expected 3 fields, saw 4\\nSkipping line 6964: expected 3 fields, saw 4\\nSkipping line 6965: expected 3 fields, saw 4\\nSkipping line 6966: expected 3 fields, saw 4\\nSkipping line 6967: expected 3 fields, saw 4\\nSkipping line 6968: expected 3 fields, saw 4\\nSkipping line 6969: expected 3 fields, saw 4\\nSkipping line 6970: expected 3 fields, saw 4\\nSkipping line 6971: expected 3 fields, saw 4\\nSkipping line 6972: expected 3 fields, saw 4\\nSkipping line 6973: expected 3 fields, saw 4\\nSkipping line 6974: expected 3 fields, saw 4\\nSkipping line 6975: expected 3 fields, saw 4\\nSkipping line 6976: expected 3 fields, saw 4\\nSkipping line 6977: expected 3 fields, saw 4\\nSkipping line 6978: expected 3 fields, saw 4\\nSkipping line 6979: expected 3 fields, saw 4\\nSkipping line 6980: expected 3 fields, saw 4\\nSkipping line 6981: expected 3 fields, saw 4\\nSkipping line 6982: expected 3 fields, saw 4\\nSkipping line 6983: expected 3 fields, saw 4\\nSkipping line 6984: expected 3 fields, saw 4\\nSkipping line 6985: expected 3 fields, saw 4\\nSkipping line 6986: expected 3 fields, saw 4\\nSkipping line 6987: expected 3 fields, saw 4\\nSkipping line 6988: expected 3 fields, saw 4\\nSkipping line 6989: expected 3 fields, saw 4\\nSkipping line 6990: expected 3 fields, saw 4\\nSkipping line 6991: expected 3 fields, saw 4\\nSkipping line 6992: expected 3 fields, saw 4\\nSkipping line 6993: expected 3 fields, saw 4\\nSkipping line 6994: expected 3 fields, saw 4\\nSkipping line 6995: expected 3 fields, saw 4\\nSkipping line 6996: expected 3 fields, saw 4\\nSkipping line 6997: expected 3 fields, saw 4\\nSkipping line 6998: expected 3 fields, saw 4\\nSkipping line 6999: expected 3 fields, saw 4\\nSkipping line 7000: expected 3 fields, saw 4\\nSkipping line 7001: expected 3 fields, saw 4\\nSkipping line 7002: expected 3 fields, saw 4\\nSkipping line 7003: expected 3 fields, saw 4\\nSkipping line 7004: expected 3 fields, saw 4\\nSkipping line 7005: expected 3 fields, saw 4\\nSkipping line 7006: expected 3 fields, saw 4\\nSkipping line 7007: expected 3 fields, saw 4\\nSkipping line 7008: expected 3 fields, saw 4\\nSkipping line 7009: expected 3 fields, saw 4\\nSkipping line 7010: expected 3 fields, saw 4\\nSkipping line 7011: expected 3 fields, saw 4\\nSkipping line 7012: expected 3 fields, saw 4\\nSkipping line 7013: expected 3 fields, saw 4\\nSkipping line 7014: expected 3 fields, saw 4\\nSkipping line 7015: expected 3 fields, saw 4\\nSkipping line 7016: expected 3 fields, saw 4\\nSkipping line 7017: expected 3 fields, saw 4\\nSkipping line 7018: expected 3 fields, saw 4\\nSkipping line 7019: expected 3 fields, saw 4\\nSkipping line 7020: expected 3 fields, saw 4\\nSkipping line 7021: expected 3 fields, saw 4\\nSkipping line 7022: expected 3 fields, saw 4\\nSkipping line 7023: expected 3 fields, saw 4\\nSkipping line 7024: expected 3 fields, saw 4\\nSkipping line 7025: expected 3 fields, saw 4\\nSkipping line 7026: expected 3 fields, saw 4\\nSkipping line 7027: expected 3 fields, saw 4\\nSkipping line 7028: expected 3 fields, saw 4\\nSkipping line 7029: expected 3 fields, saw 4\\nSkipping line 7030: expected 3 fields, saw 4\\nSkipping line 7031: expected 3 fields, saw 4\\nSkipping line 7032: expected 3 fields, saw 4\\nSkipping line 7033: expected 3 fields, saw 4\\nSkipping line 7034: expected 3 fields, saw 4\\nSkipping line 7035: expected 3 fields, saw 4\\nSkipping line 7036: expected 3 fields, saw 4\\nSkipping line 7037: expected 3 fields, saw 4\\nSkipping line 7038: expected 3 fields, saw 4\\nSkipping line 7039: expected 3 fields, saw 4\\nSkipping line 7040: expected 3 fields, saw 4\\nSkipping line 7041: expected 3 fields, saw 4\\nSkipping line 7042: expected 3 fields, saw 4\\nSkipping line 7043: expected 3 fields, saw 4\\nSkipping line 7044: expected 3 fields, saw 4\\nSkipping line 7045: expected 3 fields, saw 4\\nSkipping line 7046: expected 3 fields, saw 4\\nSkipping line 7047: expected 3 fields, saw 4\\nSkipping line 7048: expected 3 fields, saw 4\\nSkipping line 7049: expected 3 fields, saw 4\\nSkipping line 7050: expected 3 fields, saw 4\\nSkipping line 7051: expected 3 fields, saw 4\\nSkipping line 7052: expected 3 fields, saw 4\\nSkipping line 7053: expected 3 fields, saw 4\\nSkipping line 7054: expected 3 fields, saw 4\\nSkipping line 7055: expected 3 fields, saw 4\\nSkipping line 7056: expected 3 fields, saw 4\\nSkipping line 7057: expected 3 fields, saw 4\\nSkipping line 7058: expected 3 fields, saw 4\\nSkipping line 7059: expected 3 fields, saw 4\\nSkipping line 7060: expected 3 fields, saw 4\\nSkipping line 7061: expected 3 fields, saw 4\\nSkipping line 7062: expected 3 fields, saw 4\\nSkipping line 7063: expected 3 fields, saw 4\\nSkipping line 7064: expected 3 fields, saw 4\\nSkipping line 7065: expected 3 fields, saw 4\\nSkipping line 7066: expected 3 fields, saw 4\\nSkipping line 7067: expected 3 fields, saw 4\\nSkipping line 7068: expected 3 fields, saw 4\\nSkipping line 7069: expected 3 fields, saw 4\\nSkipping line 7070: expected 3 fields, saw 4\\nSkipping line 7071: expected 3 fields, saw 4\\nSkipping line 7072: expected 3 fields, saw 4\\nSkipping line 7073: expected 3 fields, saw 4\\nSkipping line 7074: expected 3 fields, saw 4\\nSkipping line 7075: expected 3 fields, saw 4\\nSkipping line 7076: expected 3 fields, saw 4\\nSkipping line 7077: expected 3 fields, saw 4\\nSkipping line 7078: expected 3 fields, saw 4\\nSkipping line 7079: expected 3 fields, saw 4\\nSkipping line 7080: expected 3 fields, saw 4\\nSkipping line 7081: expected 3 fields, saw 4\\nSkipping line 7082: expected 3 fields, saw 4\\nSkipping line 7083: expected 3 fields, saw 4\\nSkipping line 7084: expected 3 fields, saw 4\\nSkipping line 7085: expected 3 fields, saw 4\\nSkipping line 7086: expected 3 fields, saw 4\\nSkipping line 7087: expected 3 fields, saw 4\\nSkipping line 7088: expected 3 fields, saw 4\\nSkipping line 7089: expected 3 fields, saw 4\\nSkipping line 7090: expected 3 fields, saw 4\\nSkipping line 7091: expected 3 fields, saw 4\\nSkipping line 7092: expected 3 fields, saw 4\\nSkipping line 7093: expected 3 fields, saw 4\\nSkipping line 7094: expected 3 fields, saw 4\\nSkipping line 7095: expected 3 fields, saw 4\\nSkipping line 7096: expected 3 fields, saw 4\\nSkipping line 7097: expected 3 fields, saw 4\\nSkipping line 7098: expected 3 fields, saw 4\\nSkipping line 7099: expected 3 fields, saw 4\\nSkipping line 7100: expected 3 fields, saw 4\\nSkipping line 7101: expected 3 fields, saw 4\\nSkipping line 7102: expected 3 fields, saw 4\\nSkipping line 7103: expected 3 fields, saw 4\\nSkipping line 7104: expected 3 fields, saw 4\\nSkipping line 7105: expected 3 fields, saw 4\\nSkipping line 7106: expected 3 fields, saw 4\\nSkipping line 7107: expected 3 fields, saw 4\\nSkipping line 7108: expected 3 fields, saw 4\\nSkipping line 7109: expected 3 fields, saw 4\\nSkipping line 7110: expected 3 fields, saw 4\\nSkipping line 7111: expected 3 fields, saw 4\\nSkipping line 7112: expected 3 fields, saw 4\\nSkipping line 7113: expected 3 fields, saw 4\\nSkipping line 7114: expected 3 fields, saw 4\\nSkipping line 7115: expected 3 fields, saw 4\\nSkipping line 7116: expected 3 fields, saw 4\\nSkipping line 7117: expected 3 fields, saw 4\\nSkipping line 7118: expected 3 fields, saw 4\\nSkipping line 7119: expected 3 fields, saw 4\\nSkipping line 7120: expected 3 fields, saw 4\\nSkipping line 7121: expected 3 fields, saw 4\\nSkipping line 7122: expected 3 fields, saw 4\\nSkipping line 7123: expected 3 fields, saw 4\\nSkipping line 7124: expected 3 fields, saw 4\\nSkipping line 7125: expected 3 fields, saw 4\\nSkipping line 7126: expected 3 fields, saw 4\\nSkipping line 7127: expected 3 fields, saw 4\\nSkipping line 7128: expected 3 fields, saw 4\\nSkipping line 7129: expected 3 fields, saw 4\\nSkipping line 7130: expected 3 fields, saw 4\\nSkipping line 7131: expected 3 fields, saw 4\\nSkipping line 7132: expected 3 fields, saw 4\\nSkipping line 7133: expected 3 fields, saw 4\\nSkipping line 7134: expected 3 fields, saw 4\\nSkipping line 7135: expected 3 fields, saw 4\\nSkipping line 7136: expected 3 fields, saw 4\\nSkipping line 7137: expected 3 fields, saw 4\\nSkipping line 7138: expected 3 fields, saw 4\\nSkipping line 7139: expected 3 fields, saw 4\\nSkipping line 7140: expected 3 fields, saw 4\\nSkipping line 7141: expected 3 fields, saw 4\\nSkipping line 7142: expected 3 fields, saw 4\\nSkipping line 7143: expected 3 fields, saw 4\\nSkipping line 7144: expected 3 fields, saw 4\\nSkipping line 7145: expected 3 fields, saw 4\\nSkipping line 7146: expected 3 fields, saw 4\\nSkipping line 7147: expected 3 fields, saw 4\\nSkipping line 7148: expected 3 fields, saw 4\\nSkipping line 7149: expected 3 fields, saw 4\\nSkipping line 7150: expected 3 fields, saw 4\\nSkipping line 7151: expected 3 fields, saw 4\\nSkipping line 7152: expected 3 fields, saw 4\\nSkipping line 7153: expected 3 fields, saw 4\\nSkipping line 7154: expected 3 fields, saw 4\\nSkipping line 7155: expected 3 fields, saw 4\\nSkipping line 7156: expected 3 fields, saw 4\\nSkipping line 7157: expected 3 fields, saw 4\\nSkipping line 7158: expected 3 fields, saw 4\\nSkipping line 7159: expected 3 fields, saw 4\\nSkipping line 7160: expected 3 fields, saw 4\\nSkipping line 7161: expected 3 fields, saw 4\\nSkipping line 7162: expected 3 fields, saw 4\\nSkipping line 7163: expected 3 fields, saw 4\\nSkipping line 7164: expected 3 fields, saw 4\\nSkipping line 7165: expected 3 fields, saw 4\\nSkipping line 7166: expected 3 fields, saw 4\\nSkipping line 7167: expected 3 fields, saw 4\\nSkipping line 7168: expected 3 fields, saw 4\\nSkipping line 7169: expected 3 fields, saw 4\\nSkipping line 7170: expected 3 fields, saw 4\\nSkipping line 7171: expected 3 fields, saw 4\\nSkipping line 7172: expected 3 fields, saw 4\\nSkipping line 7173: expected 3 fields, saw 4\\nSkipping line 7174: expected 3 fields, saw 4\\nSkipping line 7175: expected 3 fields, saw 4\\nSkipping line 7176: expected 3 fields, saw 4\\nSkipping line 7177: expected 3 fields, saw 4\\nSkipping line 7178: expected 3 fields, saw 4\\nSkipping line 7179: expected 3 fields, saw 4\\nSkipping line 7180: expected 3 fields, saw 4\\nSkipping line 7181: expected 3 fields, saw 4\\nSkipping line 7182: expected 3 fields, saw 4\\nSkipping line 7183: expected 3 fields, saw 4\\nSkipping line 7184: expected 3 fields, saw 4\\nSkipping line 7185: expected 3 fields, saw 4\\nSkipping line 7186: expected 3 fields, saw 4\\nSkipping line 7187: expected 3 fields, saw 4\\nSkipping line 7188: expected 3 fields, saw 4\\nSkipping line 7189: expected 3 fields, saw 4\\nSkipping line 7190: expected 3 fields, saw 4\\nSkipping line 7191: expected 3 fields, saw 4\\nSkipping line 7192: expected 3 fields, saw 4\\nSkipping line 7193: expected 3 fields, saw 4\\nSkipping line 7194: expected 3 fields, saw 4\\nSkipping line 7195: expected 3 fields, saw 4\\nSkipping line 7196: expected 3 fields, saw 4\\nSkipping line 7197: expected 3 fields, saw 4\\nSkipping line 7198: expected 3 fields, saw 4\\nSkipping line 7199: expected 3 fields, saw 4\\nSkipping line 7200: expected 3 fields, saw 4\\nSkipping line 7201: expected 3 fields, saw 4\\nSkipping line 7202: expected 3 fields, saw 4\\nSkipping line 7203: expected 3 fields, saw 4\\nSkipping line 7204: expected 3 fields, saw 4\\nSkipping line 7205: expected 3 fields, saw 4\\nSkipping line 7206: expected 3 fields, saw 4\\nSkipping line 7207: expected 3 fields, saw 4\\nSkipping line 7208: expected 3 fields, saw 4\\nSkipping line 7209: expected 3 fields, saw 4\\nSkipping line 7210: expected 3 fields, saw 4\\nSkipping line 7211: expected 3 fields, saw 4\\nSkipping line 7212: expected 3 fields, saw 4\\nSkipping line 7213: expected 3 fields, saw 4\\nSkipping line 7214: expected 3 fields, saw 4\\nSkipping line 7215: expected 3 fields, saw 4\\nSkipping line 7216: expected 3 fields, saw 4\\nSkipping line 7217: expected 3 fields, saw 4\\nSkipping line 7218: expected 3 fields, saw 4\\nSkipping line 7219: expected 3 fields, saw 4\\nSkipping line 7220: expected 3 fields, saw 4\\nSkipping line 7221: expected 3 fields, saw 4\\nSkipping line 7222: expected 3 fields, saw 4\\nSkipping line 7223: expected 3 fields, saw 4\\nSkipping line 7224: expected 3 fields, saw 4\\nSkipping line 7225: expected 3 fields, saw 4\\nSkipping line 7226: expected 3 fields, saw 4\\nSkipping line 7227: expected 3 fields, saw 4\\nSkipping line 7228: expected 3 fields, saw 4\\nSkipping line 7229: expected 3 fields, saw 4\\nSkipping line 7230: expected 3 fields, saw 4\\nSkipping line 7231: expected 3 fields, saw 4\\nSkipping line 7232: expected 3 fields, saw 4\\nSkipping line 7233: expected 3 fields, saw 4\\nSkipping line 7234: expected 3 fields, saw 4\\nSkipping line 7235: expected 3 fields, saw 4\\nSkipping line 7236: expected 3 fields, saw 4\\nSkipping line 7237: expected 3 fields, saw 4\\nSkipping line 7238: expected 3 fields, saw 4\\nSkipping line 7239: expected 3 fields, saw 4\\nSkipping line 7240: expected 3 fields, saw 4\\nSkipping line 7241: expected 3 fields, saw 4\\nSkipping line 7242: expected 3 fields, saw 4\\nSkipping line 7243: expected 3 fields, saw 4\\nSkipping line 7244: expected 3 fields, saw 4\\nSkipping line 7245: expected 3 fields, saw 4\\nSkipping line 7246: expected 3 fields, saw 4\\nSkipping line 7247: expected 3 fields, saw 4\\nSkipping line 7248: expected 3 fields, saw 4\\nSkipping line 7249: expected 3 fields, saw 4\\nSkipping line 7250: expected 3 fields, saw 4\\nSkipping line 7251: expected 3 fields, saw 4\\nSkipping line 7252: expected 3 fields, saw 4\\nSkipping line 7253: expected 3 fields, saw 4\\nSkipping line 7254: expected 3 fields, saw 4\\nSkipping line 7255: expected 3 fields, saw 4\\nSkipping line 7256: expected 3 fields, saw 4\\nSkipping line 7257: expected 3 fields, saw 4\\nSkipping line 7258: expected 3 fields, saw 4\\nSkipping line 7259: expected 3 fields, saw 4\\nSkipping line 7260: expected 3 fields, saw 4\\nSkipping line 7261: expected 3 fields, saw 4\\nSkipping line 7262: expected 3 fields, saw 4\\nSkipping line 7263: expected 3 fields, saw 4\\nSkipping line 7264: expected 3 fields, saw 4\\nSkipping line 7265: expected 3 fields, saw 4\\nSkipping line 7266: expected 3 fields, saw 4\\nSkipping line 7267: expected 3 fields, saw 4\\nSkipping line 7268: expected 3 fields, saw 4\\nSkipping line 7269: expected 3 fields, saw 4\\nSkipping line 7270: expected 3 fields, saw 4\\nSkipping line 7271: expected 3 fields, saw 4\\nSkipping line 7272: expected 3 fields, saw 4\\nSkipping line 7273: expected 3 fields, saw 4\\nSkipping line 7274: expected 3 fields, saw 4\\nSkipping line 7275: expected 3 fields, saw 4\\nSkipping line 7276: expected 3 fields, saw 4\\nSkipping line 7277: expected 3 fields, saw 4\\nSkipping line 7278: expected 3 fields, saw 4\\nSkipping line 7279: expected 3 fields, saw 4\\nSkipping line 7280: expected 3 fields, saw 4\\nSkipping line 7281: expected 3 fields, saw 4\\nSkipping line 7282: expected 3 fields, saw 4\\nSkipping line 7283: expected 3 fields, saw 4\\nSkipping line 7284: expected 3 fields, saw 4\\nSkipping line 7285: expected 3 fields, saw 4\\nSkipping line 7286: expected 3 fields, saw 4\\nSkipping line 7287: expected 3 fields, saw 4\\nSkipping line 7288: expected 3 fields, saw 4\\nSkipping line 7289: expected 3 fields, saw 4\\nSkipping line 7290: expected 3 fields, saw 4\\nSkipping line 7291: expected 3 fields, saw 4\\nSkipping line 7292: expected 3 fields, saw 4\\nSkipping line 7293: expected 3 fields, saw 4\\nSkipping line 7294: expected 3 fields, saw 4\\nSkipping line 7295: expected 3 fields, saw 4\\nSkipping line 7296: expected 3 fields, saw 4\\nSkipping line 7297: expected 3 fields, saw 4\\nSkipping line 7298: expected 3 fields, saw 4\\nSkipping line 7299: expected 3 fields, saw 4\\nSkipping line 7300: expected 3 fields, saw 4\\nSkipping line 7301: expected 3 fields, saw 4\\nSkipping line 7302: expected 3 fields, saw 4\\nSkipping line 7303: expected 3 fields, saw 4\\nSkipping line 7304: expected 3 fields, saw 4\\nSkipping line 7305: expected 3 fields, saw 4\\nSkipping line 7306: expected 3 fields, saw 4\\nSkipping line 7307: expected 3 fields, saw 4\\nSkipping line 7308: expected 3 fields, saw 4\\nSkipping line 7309: expected 3 fields, saw 4\\nSkipping line 7310: expected 3 fields, saw 4\\nSkipping line 7311: expected 3 fields, saw 4\\nSkipping line 7312: expected 3 fields, saw 4\\nSkipping line 7313: expected 3 fields, saw 4\\nSkipping line 7314: expected 3 fields, saw 4\\nSkipping line 7315: expected 3 fields, saw 4\\nSkipping line 7316: expected 3 fields, saw 4\\nSkipping line 7317: expected 3 fields, saw 4\\nSkipping line 7318: expected 3 fields, saw 4\\nSkipping line 7319: expected 3 fields, saw 4\\nSkipping line 7320: expected 3 fields, saw 4\\nSkipping line 7321: expected 3 fields, saw 4\\nSkipping line 7322: expected 3 fields, saw 4\\nSkipping line 7323: expected 3 fields, saw 4\\nSkipping line 7324: expected 3 fields, saw 4\\nSkipping line 7325: expected 3 fields, saw 4\\nSkipping line 7326: expected 3 fields, saw 4\\nSkipping line 7327: expected 3 fields, saw 4\\nSkipping line 7328: expected 3 fields, saw 4\\nSkipping line 7329: expected 3 fields, saw 4\\nSkipping line 7330: expected 3 fields, saw 4\\nSkipping line 7331: expected 3 fields, saw 4\\nSkipping line 7332: expected 3 fields, saw 4\\nSkipping line 7333: expected 3 fields, saw 4\\nSkipping line 7334: expected 3 fields, saw 4\\nSkipping line 7335: expected 3 fields, saw 4\\nSkipping line 7336: expected 3 fields, saw 4\\nSkipping line 7337: expected 3 fields, saw 4\\nSkipping line 7338: expected 3 fields, saw 4\\nSkipping line 7339: expected 3 fields, saw 4\\nSkipping line 7340: expected 3 fields, saw 4\\nSkipping line 7341: expected 3 fields, saw 4\\nSkipping line 7342: expected 3 fields, saw 4\\nSkipping line 7343: expected 3 fields, saw 4\\nSkipping line 7344: expected 3 fields, saw 4\\nSkipping line 7345: expected 3 fields, saw 4\\nSkipping line 7346: expected 3 fields, saw 4\\nSkipping line 7347: expected 3 fields, saw 4\\nSkipping line 7348: expected 3 fields, saw 4\\nSkipping line 7349: expected 3 fields, saw 4\\nSkipping line 7350: expected 3 fields, saw 4\\nSkipping line 7351: expected 3 fields, saw 4\\nSkipping line 7352: expected 3 fields, saw 4\\nSkipping line 7353: expected 3 fields, saw 4\\nSkipping line 7354: expected 3 fields, saw 4\\nSkipping line 7355: expected 3 fields, saw 4\\nSkipping line 7356: expected 3 fields, saw 4\\nSkipping line 7357: expected 3 fields, saw 4\\nSkipping line 7358: expected 3 fields, saw 4\\nSkipping line 7359: expected 3 fields, saw 4\\nSkipping line 7360: expected 3 fields, saw 4\\nSkipping line 7361: expected 3 fields, saw 4\\nSkipping line 7362: expected 3 fields, saw 4\\nSkipping line 7363: expected 3 fields, saw 4\\nSkipping line 7364: expected 3 fields, saw 4\\nSkipping line 7365: expected 3 fields, saw 4\\nSkipping line 7366: expected 3 fields, saw 4\\nSkipping line 7367: expected 3 fields, saw 4\\nSkipping line 7368: expected 3 fields, saw 4\\nSkipping line 7369: expected 3 fields, saw 4\\nSkipping line 7370: expected 3 fields, saw 4\\nSkipping line 7371: expected 3 fields, saw 4\\nSkipping line 7372: expected 3 fields, saw 4\\nSkipping line 7373: expected 3 fields, saw 4\\nSkipping line 7374: expected 3 fields, saw 4\\nSkipping line 7375: expected 3 fields, saw 4\\nSkipping line 7376: expected 3 fields, saw 4\\nSkipping line 7377: expected 3 fields, saw 4\\nSkipping line 7378: expected 3 fields, saw 4\\nSkipping line 7379: expected 3 fields, saw 4\\nSkipping line 7380: expected 3 fields, saw 4\\nSkipping line 7381: expected 3 fields, saw 4\\nSkipping line 7382: expected 3 fields, saw 4\\nSkipping line 7383: expected 3 fields, saw 4\\nSkipping line 7384: expected 3 fields, saw 4\\nSkipping line 7385: expected 3 fields, saw 4\\nSkipping line 7386: expected 3 fields, saw 4\\nSkipping line 7387: expected 3 fields, saw 4\\nSkipping line 7388: expected 3 fields, saw 4\\nSkipping line 7389: expected 3 fields, saw 4\\nSkipping line 7390: expected 3 fields, saw 4\\nSkipping line 7391: expected 3 fields, saw 4\\nSkipping line 7392: expected 3 fields, saw 4\\nSkipping line 7393: expected 3 fields, saw 4\\nSkipping line 7394: expected 3 fields, saw 4\\nSkipping line 7395: expected 3 fields, saw 4\\nSkipping line 7396: expected 3 fields, saw 4\\nSkipping line 7397: expected 3 fields, saw 4\\nSkipping line 7398: expected 3 fields, saw 4\\nSkipping line 7399: expected 3 fields, saw 4\\nSkipping line 7400: expected 3 fields, saw 4\\nSkipping line 7401: expected 3 fields, saw 4\\nSkipping line 7402: expected 3 fields, saw 4\\nSkipping line 7403: expected 3 fields, saw 4\\nSkipping line 7404: expected 3 fields, saw 4\\nSkipping line 7405: expected 3 fields, saw 4\\nSkipping line 7406: expected 3 fields, saw 4\\nSkipping line 7407: expected 3 fields, saw 4\\nSkipping line 7408: expected 3 fields, saw 4\\nSkipping line 7409: expected 3 fields, saw 4\\nSkipping line 7410: expected 3 fields, saw 4\\nSkipping line 7411: expected 3 fields, saw 4\\nSkipping line 7412: expected 3 fields, saw 4\\nSkipping line 7413: expected 3 fields, saw 4\\nSkipping line 7414: expected 3 fields, saw 4\\nSkipping line 7415: expected 3 fields, saw 4\\nSkipping line 7416: expected 3 fields, saw 4\\nSkipping line 7417: expected 3 fields, saw 4\\nSkipping line 7418: expected 3 fields, saw 4\\nSkipping line 7419: expected 3 fields, saw 4\\nSkipping line 7420: expected 3 fields, saw 4\\nSkipping line 7421: expected 3 fields, saw 4\\nSkipping line 7422: expected 3 fields, saw 4\\nSkipping line 7423: expected 3 fields, saw 4\\nSkipping line 7424: expected 3 fields, saw 4\\nSkipping line 7425: expected 3 fields, saw 4\\nSkipping line 7426: expected 3 fields, saw 4\\nSkipping line 7427: expected 3 fields, saw 4\\nSkipping line 7428: expected 3 fields, saw 4\\nSkipping line 7429: expected 3 fields, saw 4\\nSkipping line 7430: expected 3 fields, saw 4\\nSkipping line 7431: expected 3 fields, saw 4\\nSkipping line 7432: expected 3 fields, saw 4\\nSkipping line 7433: expected 3 fields, saw 4\\nSkipping line 7434: expected 3 fields, saw 4\\nSkipping line 7435: expected 3 fields, saw 4\\nSkipping line 7436: expected 3 fields, saw 4\\nSkipping line 7437: expected 3 fields, saw 4\\nSkipping line 7438: expected 3 fields, saw 4\\nSkipping line 7439: expected 3 fields, saw 4\\nSkipping line 7440: expected 3 fields, saw 4\\nSkipping line 7441: expected 3 fields, saw 4\\nSkipping line 7442: expected 3 fields, saw 4\\nSkipping line 7443: expected 3 fields, saw 4\\nSkipping line 7444: expected 3 fields, saw 4\\nSkipping line 7445: expected 3 fields, saw 4\\nSkipping line 7446: expected 3 fields, saw 4\\nSkipping line 7447: expected 3 fields, saw 4\\nSkipping line 7448: expected 3 fields, saw 4\\nSkipping line 7449: expected 3 fields, saw 4\\nSkipping line 7450: expected 3 fields, saw 4\\nSkipping line 7451: expected 3 fields, saw 4\\nSkipping line 7452: expected 3 fields, saw 4\\nSkipping line 7453: expected 3 fields, saw 4\\nSkipping line 7454: expected 3 fields, saw 4\\nSkipping line 7455: expected 3 fields, saw 4\\nSkipping line 7456: expected 3 fields, saw 4\\nSkipping line 7457: expected 3 fields, saw 4\\nSkipping line 7458: expected 3 fields, saw 4\\nSkipping line 7459: expected 3 fields, saw 4\\nSkipping line 7460: expected 3 fields, saw 4\\nSkipping line 7461: expected 3 fields, saw 4\\nSkipping line 7462: expected 3 fields, saw 4\\nSkipping line 7463: expected 3 fields, saw 4\\nSkipping line 7464: expected 3 fields, saw 4\\nSkipping line 7465: expected 3 fields, saw 4\\nSkipping line 7466: expected 3 fields, saw 4\\nSkipping line 7467: expected 3 fields, saw 4\\nSkipping line 7468: expected 3 fields, saw 4\\nSkipping line 7469: expected 3 fields, saw 4\\nSkipping line 7470: expected 3 fields, saw 4\\nSkipping line 7471: expected 3 fields, saw 4\\nSkipping line 7472: expected 3 fields, saw 4\\nSkipping line 7473: expected 3 fields, saw 4\\nSkipping line 7474: expected 3 fields, saw 4\\nSkipping line 7475: expected 3 fields, saw 4\\nSkipping line 7476: expected 3 fields, saw 4\\nSkipping line 7477: expected 3 fields, saw 4\\nSkipping line 7478: expected 3 fields, saw 4\\nSkipping line 7479: expected 3 fields, saw 4\\nSkipping line 7480: expected 3 fields, saw 4\\nSkipping line 7481: expected 3 fields, saw 4\\nSkipping line 7482: expected 3 fields, saw 4\\nSkipping line 7483: expected 3 fields, saw 4\\nSkipping line 7484: expected 3 fields, saw 4\\nSkipping line 7485: expected 3 fields, saw 4\\nSkipping line 7486: expected 3 fields, saw 4\\nSkipping line 7487: expected 3 fields, saw 4\\nSkipping line 7488: expected 3 fields, saw 4\\nSkipping line 7489: expected 3 fields, saw 4\\nSkipping line 7490: expected 3 fields, saw 4\\nSkipping line 7491: expected 3 fields, saw 4\\nSkipping line 7492: expected 3 fields, saw 4\\nSkipping line 7493: expected 3 fields, saw 4\\nSkipping line 7494: expected 3 fields, saw 4\\nSkipping line 7495: expected 3 fields, saw 4\\nSkipping line 7496: expected 3 fields, saw 4\\nSkipping line 7497: expected 3 fields, saw 4\\nSkipping line 7498: expected 3 fields, saw 4\\nSkipping line 7499: expected 3 fields, saw 4\\nSkipping line 7500: expected 3 fields, saw 4\\nSkipping line 7501: expected 3 fields, saw 4\\nSkipping line 7502: expected 3 fields, saw 4\\nSkipping line 7503: expected 3 fields, saw 4\\nSkipping line 7504: expected 3 fields, saw 4\\nSkipping line 7505: expected 3 fields, saw 4\\nSkipping line 7506: expected 3 fields, saw 4\\nSkipping line 7507: expected 3 fields, saw 4\\nSkipping line 7508: expected 3 fields, saw 4\\nSkipping line 7509: expected 3 fields, saw 4\\nSkipping line 7510: expected 3 fields, saw 4\\nSkipping line 7511: expected 3 fields, saw 4\\nSkipping line 7512: expected 3 fields, saw 4\\nSkipping line 7513: expected 3 fields, saw 4\\nSkipping line 7514: expected 3 fields, saw 4\\nSkipping line 7515: expected 3 fields, saw 4\\nSkipping line 7516: expected 3 fields, saw 4\\nSkipping line 7517: expected 3 fields, saw 4\\nSkipping line 7518: expected 3 fields, saw 4\\nSkipping line 7519: expected 3 fields, saw 4\\nSkipping line 7520: expected 3 fields, saw 4\\nSkipping line 7521: expected 3 fields, saw 4\\nSkipping line 7522: expected 3 fields, saw 4\\nSkipping line 7523: expected 3 fields, saw 4\\nSkipping line 7524: expected 3 fields, saw 4\\nSkipping line 7525: expected 3 fields, saw 4\\nSkipping line 7526: expected 3 fields, saw 4\\nSkipping line 7527: expected 3 fields, saw 4\\nSkipping line 7528: expected 3 fields, saw 4\\nSkipping line 7529: expected 3 fields, saw 4\\nSkipping line 7530: expected 3 fields, saw 4\\nSkipping line 7531: expected 3 fields, saw 4\\nSkipping line 7532: expected 3 fields, saw 4\\nSkipping line 7533: expected 3 fields, saw 4\\nSkipping line 7534: expected 3 fields, saw 4\\nSkipping line 7535: expected 3 fields, saw 4\\nSkipping line 7536: expected 3 fields, saw 4\\nSkipping line 7537: expected 3 fields, saw 4\\nSkipping line 7538: expected 3 fields, saw 4\\nSkipping line 7539: expected 3 fields, saw 4\\nSkipping line 7540: expected 3 fields, saw 4\\nSkipping line 7541: expected 3 fields, saw 4\\nSkipping line 7542: expected 3 fields, saw 4\\nSkipping line 7543: expected 3 fields, saw 4\\nSkipping line 7544: expected 3 fields, saw 4\\nSkipping line 7545: expected 3 fields, saw 4\\nSkipping line 7546: expected 3 fields, saw 4\\nSkipping line 7547: expected 3 fields, saw 4\\nSkipping line 7548: expected 3 fields, saw 4\\nSkipping line 7549: expected 3 fields, saw 4\\nSkipping line 7550: expected 3 fields, saw 4\\nSkipping line 7551: expected 3 fields, saw 4\\nSkipping line 7552: expected 3 fields, saw 4\\nSkipping line 7553: expected 3 fields, saw 4\\nSkipping line 7554: expected 3 fields, saw 4\\nSkipping line 7555: expected 3 fields, saw 4\\nSkipping line 7556: expected 3 fields, saw 4\\nSkipping line 7557: expected 3 fields, saw 4\\nSkipping line 7558: expected 3 fields, saw 4\\nSkipping line 7559: expected 3 fields, saw 4\\nSkipping line 7560: expected 3 fields, saw 4\\nSkipping line 7561: expected 3 fields, saw 4\\nSkipping line 7562: expected 3 fields, saw 4\\nSkipping line 7563: expected 3 fields, saw 4\\nSkipping line 7564: expected 3 fields, saw 4\\nSkipping line 7565: expected 3 fields, saw 4\\nSkipping line 7566: expected 3 fields, saw 4\\nSkipping line 7567: expected 3 fields, saw 4\\nSkipping line 7568: expected 3 fields, saw 4\\nSkipping line 7569: expected 3 fields, saw 4\\nSkipping line 7570: expected 3 fields, saw 4\\nSkipping line 7571: expected 3 fields, saw 4\\nSkipping line 7572: expected 3 fields, saw 4\\nSkipping line 7573: expected 3 fields, saw 4\\nSkipping line 7574: expected 3 fields, saw 4\\nSkipping line 7575: expected 3 fields, saw 4\\nSkipping line 7576: expected 3 fields, saw 4\\nSkipping line 7577: expected 3 fields, saw 4\\nSkipping line 7578: expected 3 fields, saw 4\\nSkipping line 7579: expected 3 fields, saw 4\\nSkipping line 7580: expected 3 fields, saw 4\\nSkipping line 7581: expected 3 fields, saw 4\\nSkipping line 7582: expected 3 fields, saw 4\\nSkipping line 7583: expected 3 fields, saw 4\\nSkipping line 7584: expected 3 fields, saw 4\\nSkipping line 7585: expected 3 fields, saw 4\\nSkipping line 7586: expected 3 fields, saw 4\\nSkipping line 7587: expected 3 fields, saw 4\\nSkipping line 7588: expected 3 fields, saw 4\\nSkipping line 7589: expected 3 fields, saw 4\\nSkipping line 7590: expected 3 fields, saw 4\\nSkipping line 7591: expected 3 fields, saw 4\\nSkipping line 7592: expected 3 fields, saw 4\\nSkipping line 7593: expected 3 fields, saw 4\\nSkipping line 7594: expected 3 fields, saw 4\\nSkipping line 7595: expected 3 fields, saw 4\\nSkipping line 7596: expected 3 fields, saw 4\\nSkipping line 7597: expected 3 fields, saw 4\\nSkipping line 7598: expected 3 fields, saw 4\\nSkipping line 7599: expected 3 fields, saw 4\\nSkipping line 7600: expected 3 fields, saw 4\\nSkipping line 7601: expected 3 fields, saw 4\\nSkipping line 7602: expected 3 fields, saw 4\\nSkipping line 7603: expected 3 fields, saw 4\\nSkipping line 7604: expected 3 fields, saw 4\\nSkipping line 7605: expected 3 fields, saw 4\\nSkipping line 7606: expected 3 fields, saw 4\\nSkipping line 7607: expected 3 fields, saw 4\\nSkipping line 7608: expected 3 fields, saw 4\\nSkipping line 7609: expected 3 fields, saw 4\\nSkipping line 7610: expected 3 fields, saw 4\\nSkipping line 7611: expected 3 fields, saw 4\\nSkipping line 7612: expected 3 fields, saw 4\\nSkipping line 7613: expected 3 fields, saw 4\\nSkipping line 7614: expected 3 fields, saw 4\\nSkipping line 7615: expected 3 fields, saw 4\\nSkipping line 7616: expected 3 fields, saw 4\\nSkipping line 7617: expected 3 fields, saw 4\\nSkipping line 7618: expected 3 fields, saw 4\\nSkipping line 7619: expected 3 fields, saw 4\\nSkipping line 7620: expected 3 fields, saw 4\\nSkipping line 7621: expected 3 fields, saw 4\\nSkipping line 7622: expected 3 fields, saw 4\\nSkipping line 7623: expected 3 fields, saw 4\\nSkipping line 7624: expected 3 fields, saw 4\\nSkipping line 7625: expected 3 fields, saw 4\\nSkipping line 7626: expected 3 fields, saw 4\\nSkipping line 7627: expected 3 fields, saw 4\\nSkipping line 7628: expected 3 fields, saw 4\\nSkipping line 7629: expected 3 fields, saw 4\\nSkipping line 7630: expected 3 fields, saw 4\\nSkipping line 7631: expected 3 fields, saw 4\\nSkipping line 7632: expected 3 fields, saw 4\\nSkipping line 7633: expected 3 fields, saw 4\\nSkipping line 7634: expected 3 fields, saw 4\\nSkipping line 7635: expected 3 fields, saw 4\\nSkipping line 7636: expected 3 fields, saw 4\\nSkipping line 7637: expected 3 fields, saw 4\\nSkipping line 7638: expected 3 fields, saw 4\\nSkipping line 7639: expected 3 fields, saw 4\\nSkipping line 7640: expected 3 fields, saw 4\\nSkipping line 7641: expected 3 fields, saw 4\\nSkipping line 7642: expected 3 fields, saw 4\\nSkipping line 7643: expected 3 fields, saw 4\\nSkipping line 7644: expected 3 fields, saw 4\\nSkipping line 7645: expected 3 fields, saw 4\\nSkipping line 7646: expected 3 fields, saw 4\\nSkipping line 7647: expected 3 fields, saw 4\\nSkipping line 7648: expected 3 fields, saw 4\\nSkipping line 7649: expected 3 fields, saw 4\\nSkipping line 7650: expected 3 fields, saw 4\\nSkipping line 7651: expected 3 fields, saw 4\\nSkipping line 7652: expected 3 fields, saw 4\\nSkipping line 7653: expected 3 fields, saw 4\\n'\n"
     ]
    }
   ],
   "source": [
    "data = pd.read_csv('UNdata_Univariant_Infact Deaths.csv', error_bad_lines=False)"
   ]
  },
  {
   "cell_type": "code",
   "execution_count": 5,
   "metadata": {},
   "outputs": [
    {
     "data": {
      "text/html": [
       "<div>\n",
       "<style scoped>\n",
       "    .dataframe tbody tr th:only-of-type {\n",
       "        vertical-align: middle;\n",
       "    }\n",
       "\n",
       "    .dataframe tbody tr th {\n",
       "        vertical-align: top;\n",
       "    }\n",
       "\n",
       "    .dataframe thead th {\n",
       "        text-align: right;\n",
       "    }\n",
       "</style>\n",
       "<table border=\"1\" class=\"dataframe\">\n",
       "  <thead>\n",
       "    <tr style=\"text-align: right;\">\n",
       "      <th></th>\n",
       "      <th>Country</th>\n",
       "      <th>Year</th>\n",
       "      <th>All Sexes</th>\n",
       "    </tr>\n",
       "  </thead>\n",
       "  <tbody>\n",
       "    <tr>\n",
       "      <th>0</th>\n",
       "      <td>Åland Islands</td>\n",
       "      <td>1999</td>\n",
       "      <td>1.0</td>\n",
       "    </tr>\n",
       "    <tr>\n",
       "      <th>1</th>\n",
       "      <td>Åland Islands</td>\n",
       "      <td>2000</td>\n",
       "      <td>1.0</td>\n",
       "    </tr>\n",
       "    <tr>\n",
       "      <th>2</th>\n",
       "      <td>Åland Islands</td>\n",
       "      <td>2001</td>\n",
       "      <td>1.0</td>\n",
       "    </tr>\n",
       "    <tr>\n",
       "      <th>3</th>\n",
       "      <td>Åland Islands</td>\n",
       "      <td>2002</td>\n",
       "      <td>1.0</td>\n",
       "    </tr>\n",
       "    <tr>\n",
       "      <th>4</th>\n",
       "      <td>Åland Islands</td>\n",
       "      <td>2003</td>\n",
       "      <td>2.0</td>\n",
       "    </tr>\n",
       "  </tbody>\n",
       "</table>\n",
       "</div>"
      ],
      "text/plain": [
       "         Country  Year  All Sexes\n",
       "0  Åland Islands  1999        1.0\n",
       "1  Åland Islands  2000        1.0\n",
       "2  Åland Islands  2001        1.0\n",
       "3  Åland Islands  2002        1.0\n",
       "4  Åland Islands  2003        2.0"
      ]
     },
     "execution_count": 5,
     "metadata": {},
     "output_type": "execute_result"
    }
   ],
   "source": [
    "data.head()"
   ]
  },
  {
   "cell_type": "code",
   "execution_count": 6,
   "metadata": {},
   "outputs": [
    {
     "data": {
      "text/plain": [
       "(6440, 3)"
      ]
     },
     "execution_count": 6,
     "metadata": {},
     "output_type": "execute_result"
    }
   ],
   "source": [
    "data.shape"
   ]
  },
  {
   "cell_type": "markdown",
   "metadata": {},
   "source": [
    "#### Get data insights"
   ]
  },
  {
   "cell_type": "code",
   "execution_count": 7,
   "metadata": {
    "scrolled": true
   },
   "outputs": [
    {
     "name": "stdout",
     "output_type": "stream",
     "text": [
      "<class 'pandas.core.frame.DataFrame'>\n",
      "RangeIndex: 6440 entries, 0 to 6439\n",
      "Data columns (total 3 columns):\n",
      "Country      6440 non-null object\n",
      "Year         6440 non-null int64\n",
      "All Sexes    6440 non-null float64\n",
      "dtypes: float64(1), int64(1), object(1)\n",
      "memory usage: 151.0+ KB\n"
     ]
    }
   ],
   "source": [
    "data.info()"
   ]
  },
  {
   "cell_type": "code",
   "execution_count": null,
   "metadata": {},
   "outputs": [],
   "source": []
  },
  {
   "cell_type": "markdown",
   "metadata": {},
   "source": [
    "### Lets normalize data"
   ]
  },
  {
   "cell_type": "code",
   "execution_count": 8,
   "metadata": {},
   "outputs": [],
   "source": [
    "# Normalize the value column and drop old column\n",
    "\n",
    "# Create x, where x the 'Total Men and Women Employed' column's values as floats\n",
    "x = data[['All Sexes']].values.astype(float)\n",
    "\n",
    "# Create a minimum and maximum processor object\n",
    "min_max_scaler = preprocessing.MinMaxScaler()\n",
    "\n",
    "# Create an object to transform the data to fit minmax processor\n",
    "x_scaled = min_max_scaler.fit_transform(x)\n",
    "\n",
    "# Run the normalizer on the dataframe\n",
    "df_normalized = pd.DataFrame(x_scaled)\n",
    "df_normalized['normalized'] = pd.DataFrame(x_scaled)\n",
    "df_normalized.drop(columns=0,inplace=True)\n",
    "\n",
    "data_new = pd.concat([data,df_normalized ], axis=1)\n",
    "data_new.drop(columns='All Sexes',inplace=True)"
   ]
  },
  {
   "cell_type": "code",
   "execution_count": 9,
   "metadata": {},
   "outputs": [
    {
     "data": {
      "text/html": [
       "<div>\n",
       "<style scoped>\n",
       "    .dataframe tbody tr th:only-of-type {\n",
       "        vertical-align: middle;\n",
       "    }\n",
       "\n",
       "    .dataframe tbody tr th {\n",
       "        vertical-align: top;\n",
       "    }\n",
       "\n",
       "    .dataframe thead th {\n",
       "        text-align: right;\n",
       "    }\n",
       "</style>\n",
       "<table border=\"1\" class=\"dataframe\">\n",
       "  <thead>\n",
       "    <tr style=\"text-align: right;\">\n",
       "      <th></th>\n",
       "      <th>Country</th>\n",
       "      <th>Year</th>\n",
       "      <th>normalized</th>\n",
       "    </tr>\n",
       "  </thead>\n",
       "  <tbody>\n",
       "    <tr>\n",
       "      <th>0</th>\n",
       "      <td>Åland Islands</td>\n",
       "      <td>1999</td>\n",
       "      <td>0.000002</td>\n",
       "    </tr>\n",
       "    <tr>\n",
       "      <th>1</th>\n",
       "      <td>Åland Islands</td>\n",
       "      <td>2000</td>\n",
       "      <td>0.000002</td>\n",
       "    </tr>\n",
       "    <tr>\n",
       "      <th>2</th>\n",
       "      <td>Åland Islands</td>\n",
       "      <td>2001</td>\n",
       "      <td>0.000002</td>\n",
       "    </tr>\n",
       "    <tr>\n",
       "      <th>3</th>\n",
       "      <td>Åland Islands</td>\n",
       "      <td>2002</td>\n",
       "      <td>0.000002</td>\n",
       "    </tr>\n",
       "    <tr>\n",
       "      <th>4</th>\n",
       "      <td>Åland Islands</td>\n",
       "      <td>2003</td>\n",
       "      <td>0.000005</td>\n",
       "    </tr>\n",
       "  </tbody>\n",
       "</table>\n",
       "</div>"
      ],
      "text/plain": [
       "         Country  Year  normalized\n",
       "0  Åland Islands  1999    0.000002\n",
       "1  Åland Islands  2000    0.000002\n",
       "2  Åland Islands  2001    0.000002\n",
       "3  Åland Islands  2002    0.000002\n",
       "4  Åland Islands  2003    0.000005"
      ]
     },
     "execution_count": 9,
     "metadata": {},
     "output_type": "execute_result"
    }
   ],
   "source": [
    "# Check new dataframe with normalized value\n",
    "data_new.head()"
   ]
  },
  {
   "cell_type": "code",
   "execution_count": 10,
   "metadata": {},
   "outputs": [
    {
     "data": {
      "text/plain": [
       "165"
      ]
     },
     "execution_count": 10,
     "metadata": {},
     "output_type": "execute_result"
    }
   ],
   "source": [
    "data_new['Country'].nunique()"
   ]
  },
  {
   "cell_type": "markdown",
   "metadata": {},
   "source": [
    "#### Using tsfresh to extract features from data"
   ]
  },
  {
   "cell_type": "code",
   "execution_count": 11,
   "metadata": {},
   "outputs": [
    {
     "name": "stderr",
     "output_type": "stream",
     "text": [
      "Feature Extraction: 100%|██████████| 10/10 [00:16<00:00,  1.54s/it]\n"
     ]
    }
   ],
   "source": [
    "# Use TSFresh library to extract features from data \n",
    "from tsfresh import extract_features\n",
    "extracted_features = extract_features(data_new, column_id=\"Country\", column_sort=\"Year\")"
   ]
  },
  {
   "cell_type": "code",
   "execution_count": 12,
   "metadata": {},
   "outputs": [
    {
     "data": {
      "text/html": [
       "<div>\n",
       "<style scoped>\n",
       "    .dataframe tbody tr th:only-of-type {\n",
       "        vertical-align: middle;\n",
       "    }\n",
       "\n",
       "    .dataframe tbody tr th {\n",
       "        vertical-align: top;\n",
       "    }\n",
       "\n",
       "    .dataframe thead th {\n",
       "        text-align: right;\n",
       "    }\n",
       "</style>\n",
       "<table border=\"1\" class=\"dataframe\">\n",
       "  <thead>\n",
       "    <tr style=\"text-align: right;\">\n",
       "      <th>variable</th>\n",
       "      <th>normalized__abs_energy</th>\n",
       "      <th>normalized__absolute_sum_of_changes</th>\n",
       "      <th>normalized__agg_autocorrelation__f_agg_\"mean\"</th>\n",
       "      <th>normalized__agg_autocorrelation__f_agg_\"median\"</th>\n",
       "      <th>normalized__agg_autocorrelation__f_agg_\"var\"</th>\n",
       "      <th>normalized__agg_linear_trend__f_agg_\"max\"__chunk_len_10__attr_\"intercept\"</th>\n",
       "      <th>normalized__agg_linear_trend__f_agg_\"max\"__chunk_len_10__attr_\"rvalue\"</th>\n",
       "      <th>normalized__agg_linear_trend__f_agg_\"max\"__chunk_len_10__attr_\"slope\"</th>\n",
       "      <th>normalized__agg_linear_trend__f_agg_\"max\"__chunk_len_10__attr_\"stderr\"</th>\n",
       "      <th>normalized__agg_linear_trend__f_agg_\"max\"__chunk_len_50__attr_\"intercept\"</th>\n",
       "      <th>...</th>\n",
       "      <th>normalized__time_reversal_asymmetry_statistic__lag_1</th>\n",
       "      <th>normalized__time_reversal_asymmetry_statistic__lag_2</th>\n",
       "      <th>normalized__time_reversal_asymmetry_statistic__lag_3</th>\n",
       "      <th>normalized__value_count__value_-inf</th>\n",
       "      <th>normalized__value_count__value_0</th>\n",
       "      <th>normalized__value_count__value_1</th>\n",
       "      <th>normalized__value_count__value_inf</th>\n",
       "      <th>normalized__value_count__value_nan</th>\n",
       "      <th>normalized__variance</th>\n",
       "      <th>normalized__variance_larger_than_standard_deviation</th>\n",
       "    </tr>\n",
       "    <tr>\n",
       "      <th>id</th>\n",
       "      <th></th>\n",
       "      <th></th>\n",
       "      <th></th>\n",
       "      <th></th>\n",
       "      <th></th>\n",
       "      <th></th>\n",
       "      <th></th>\n",
       "      <th></th>\n",
       "      <th></th>\n",
       "      <th></th>\n",
       "      <th></th>\n",
       "      <th></th>\n",
       "      <th></th>\n",
       "      <th></th>\n",
       "      <th></th>\n",
       "      <th></th>\n",
       "      <th></th>\n",
       "      <th></th>\n",
       "      <th></th>\n",
       "      <th></th>\n",
       "      <th></th>\n",
       "    </tr>\n",
       "  </thead>\n",
       "  <tbody>\n",
       "    <tr>\n",
       "      <th>Albania</th>\n",
       "      <td>3.764226e-03</td>\n",
       "      <td>0.045511</td>\n",
       "      <td>-0.343681</td>\n",
       "      <td>-0.464636</td>\n",
       "      <td>0.658720</td>\n",
       "      <td>0.016729</td>\n",
       "      <td>-0.958425</td>\n",
       "      <td>-0.004164</td>\n",
       "      <td>0.000716</td>\n",
       "      <td>NaN</td>\n",
       "      <td>...</td>\n",
       "      <td>-4.425084e-08</td>\n",
       "      <td>-1.347663e-07</td>\n",
       "      <td>-1.945332e-07</td>\n",
       "      <td>0.0</td>\n",
       "      <td>0.0</td>\n",
       "      <td>0.0</td>\n",
       "      <td>0.0</td>\n",
       "      <td>0.0</td>\n",
       "      <td>2.834268e-05</td>\n",
       "      <td>0.0</td>\n",
       "    </tr>\n",
       "    <tr>\n",
       "      <th>American Samoa</th>\n",
       "      <td>3.137745e-07</td>\n",
       "      <td>0.001344</td>\n",
       "      <td>0.055717</td>\n",
       "      <td>0.047968</td>\n",
       "      <td>0.063794</td>\n",
       "      <td>0.000144</td>\n",
       "      <td>-0.794141</td>\n",
       "      <td>-0.000019</td>\n",
       "      <td>0.000006</td>\n",
       "      <td>0.000198</td>\n",
       "      <td>...</td>\n",
       "      <td>-2.718160e-14</td>\n",
       "      <td>-4.181770e-14</td>\n",
       "      <td>-1.055605e-13</td>\n",
       "      <td>0.0</td>\n",
       "      <td>0.0</td>\n",
       "      <td>0.0</td>\n",
       "      <td>0.0</td>\n",
       "      <td>0.0</td>\n",
       "      <td>1.099397e-09</td>\n",
       "      <td>0.0</td>\n",
       "    </tr>\n",
       "    <tr>\n",
       "      <th>Andorra</th>\n",
       "      <td>6.882637e-10</td>\n",
       "      <td>0.000084</td>\n",
       "      <td>0.000000</td>\n",
       "      <td>0.000000</td>\n",
       "      <td>0.000000</td>\n",
       "      <td>0.000012</td>\n",
       "      <td>-1.000000</td>\n",
       "      <td>-0.000002</td>\n",
       "      <td>0.000000</td>\n",
       "      <td>NaN</td>\n",
       "      <td>...</td>\n",
       "      <td>-2.688299e-17</td>\n",
       "      <td>-3.859203e-17</td>\n",
       "      <td>-9.960492e-17</td>\n",
       "      <td>0.0</td>\n",
       "      <td>4.0</td>\n",
       "      <td>0.0</td>\n",
       "      <td>0.0</td>\n",
       "      <td>0.0</td>\n",
       "      <td>1.416292e-11</td>\n",
       "      <td>0.0</td>\n",
       "    </tr>\n",
       "    <tr>\n",
       "      <th>Anguilla</th>\n",
       "      <td>6.698280e-10</td>\n",
       "      <td>0.000097</td>\n",
       "      <td>0.000000</td>\n",
       "      <td>0.000000</td>\n",
       "      <td>0.000000</td>\n",
       "      <td>0.000014</td>\n",
       "      <td>-0.866025</td>\n",
       "      <td>-0.000004</td>\n",
       "      <td>0.000002</td>\n",
       "      <td>NaN</td>\n",
       "      <td>...</td>\n",
       "      <td>-3.300634e-17</td>\n",
       "      <td>-3.046739e-17</td>\n",
       "      <td>-2.589728e-17</td>\n",
       "      <td>0.0</td>\n",
       "      <td>6.0</td>\n",
       "      <td>0.0</td>\n",
       "      <td>0.0</td>\n",
       "      <td>0.0</td>\n",
       "      <td>1.193589e-11</td>\n",
       "      <td>0.0</td>\n",
       "    </tr>\n",
       "    <tr>\n",
       "      <th>Antigua and Barbuda</th>\n",
       "      <td>1.801923e-06</td>\n",
       "      <td>0.001698</td>\n",
       "      <td>-0.330914</td>\n",
       "      <td>-0.394072</td>\n",
       "      <td>0.540359</td>\n",
       "      <td>0.000443</td>\n",
       "      <td>-0.938284</td>\n",
       "      <td>-0.000110</td>\n",
       "      <td>0.000023</td>\n",
       "      <td>NaN</td>\n",
       "      <td>...</td>\n",
       "      <td>-1.373632e-12</td>\n",
       "      <td>-2.683857e-12</td>\n",
       "      <td>-4.137990e-12</td>\n",
       "      <td>0.0</td>\n",
       "      <td>0.0</td>\n",
       "      <td>0.0</td>\n",
       "      <td>0.0</td>\n",
       "      <td>0.0</td>\n",
       "      <td>1.558318e-08</td>\n",
       "      <td>0.0</td>\n",
       "    </tr>\n",
       "  </tbody>\n",
       "</table>\n",
       "<p>5 rows × 794 columns</p>\n",
       "</div>"
      ],
      "text/plain": [
       "variable             normalized__abs_energy  \\\n",
       "id                                            \n",
       "Albania                        3.764226e-03   \n",
       "American Samoa                 3.137745e-07   \n",
       "Andorra                        6.882637e-10   \n",
       "Anguilla                       6.698280e-10   \n",
       "Antigua and Barbuda            1.801923e-06   \n",
       "\n",
       "variable             normalized__absolute_sum_of_changes  \\\n",
       "id                                                         \n",
       "Albania                                         0.045511   \n",
       "American Samoa                                  0.001344   \n",
       "Andorra                                         0.000084   \n",
       "Anguilla                                        0.000097   \n",
       "Antigua and Barbuda                             0.001698   \n",
       "\n",
       "variable             normalized__agg_autocorrelation__f_agg_\"mean\"  \\\n",
       "id                                                                   \n",
       "Albania                                                  -0.343681   \n",
       "American Samoa                                            0.055717   \n",
       "Andorra                                                   0.000000   \n",
       "Anguilla                                                  0.000000   \n",
       "Antigua and Barbuda                                      -0.330914   \n",
       "\n",
       "variable             normalized__agg_autocorrelation__f_agg_\"median\"  \\\n",
       "id                                                                     \n",
       "Albania                                                    -0.464636   \n",
       "American Samoa                                              0.047968   \n",
       "Andorra                                                     0.000000   \n",
       "Anguilla                                                    0.000000   \n",
       "Antigua and Barbuda                                        -0.394072   \n",
       "\n",
       "variable             normalized__agg_autocorrelation__f_agg_\"var\"  \\\n",
       "id                                                                  \n",
       "Albania                                                  0.658720   \n",
       "American Samoa                                           0.063794   \n",
       "Andorra                                                  0.000000   \n",
       "Anguilla                                                 0.000000   \n",
       "Antigua and Barbuda                                      0.540359   \n",
       "\n",
       "variable             normalized__agg_linear_trend__f_agg_\"max\"__chunk_len_10__attr_\"intercept\"  \\\n",
       "id                                                                                               \n",
       "Albania                                                       0.016729                           \n",
       "American Samoa                                                0.000144                           \n",
       "Andorra                                                       0.000012                           \n",
       "Anguilla                                                      0.000014                           \n",
       "Antigua and Barbuda                                           0.000443                           \n",
       "\n",
       "variable             normalized__agg_linear_trend__f_agg_\"max\"__chunk_len_10__attr_\"rvalue\"  \\\n",
       "id                                                                                            \n",
       "Albania                                                      -0.958425                        \n",
       "American Samoa                                               -0.794141                        \n",
       "Andorra                                                      -1.000000                        \n",
       "Anguilla                                                     -0.866025                        \n",
       "Antigua and Barbuda                                          -0.938284                        \n",
       "\n",
       "variable             normalized__agg_linear_trend__f_agg_\"max\"__chunk_len_10__attr_\"slope\"  \\\n",
       "id                                                                                           \n",
       "Albania                                                      -0.004164                       \n",
       "American Samoa                                               -0.000019                       \n",
       "Andorra                                                      -0.000002                       \n",
       "Anguilla                                                     -0.000004                       \n",
       "Antigua and Barbuda                                          -0.000110                       \n",
       "\n",
       "variable             normalized__agg_linear_trend__f_agg_\"max\"__chunk_len_10__attr_\"stderr\"  \\\n",
       "id                                                                                            \n",
       "Albania                                                       0.000716                        \n",
       "American Samoa                                                0.000006                        \n",
       "Andorra                                                       0.000000                        \n",
       "Anguilla                                                      0.000002                        \n",
       "Antigua and Barbuda                                           0.000023                        \n",
       "\n",
       "variable             normalized__agg_linear_trend__f_agg_\"max\"__chunk_len_50__attr_\"intercept\"  \\\n",
       "id                                                                                               \n",
       "Albania                                                            NaN                           \n",
       "American Samoa                                                0.000198                           \n",
       "Andorra                                                            NaN                           \n",
       "Anguilla                                                           NaN                           \n",
       "Antigua and Barbuda                                                NaN                           \n",
       "\n",
       "variable                                    ...                           \\\n",
       "id                                          ...                            \n",
       "Albania                                     ...                            \n",
       "American Samoa                              ...                            \n",
       "Andorra                                     ...                            \n",
       "Anguilla                                    ...                            \n",
       "Antigua and Barbuda                         ...                            \n",
       "\n",
       "variable             normalized__time_reversal_asymmetry_statistic__lag_1  \\\n",
       "id                                                                          \n",
       "Albania                                                  -4.425084e-08      \n",
       "American Samoa                                           -2.718160e-14      \n",
       "Andorra                                                  -2.688299e-17      \n",
       "Anguilla                                                 -3.300634e-17      \n",
       "Antigua and Barbuda                                      -1.373632e-12      \n",
       "\n",
       "variable             normalized__time_reversal_asymmetry_statistic__lag_2  \\\n",
       "id                                                                          \n",
       "Albania                                                  -1.347663e-07      \n",
       "American Samoa                                           -4.181770e-14      \n",
       "Andorra                                                  -3.859203e-17      \n",
       "Anguilla                                                 -3.046739e-17      \n",
       "Antigua and Barbuda                                      -2.683857e-12      \n",
       "\n",
       "variable             normalized__time_reversal_asymmetry_statistic__lag_3  \\\n",
       "id                                                                          \n",
       "Albania                                                  -1.945332e-07      \n",
       "American Samoa                                           -1.055605e-13      \n",
       "Andorra                                                  -9.960492e-17      \n",
       "Anguilla                                                 -2.589728e-17      \n",
       "Antigua and Barbuda                                      -4.137990e-12      \n",
       "\n",
       "variable             normalized__value_count__value_-inf  \\\n",
       "id                                                         \n",
       "Albania                                              0.0   \n",
       "American Samoa                                       0.0   \n",
       "Andorra                                              0.0   \n",
       "Anguilla                                             0.0   \n",
       "Antigua and Barbuda                                  0.0   \n",
       "\n",
       "variable             normalized__value_count__value_0  \\\n",
       "id                                                      \n",
       "Albania                                           0.0   \n",
       "American Samoa                                    0.0   \n",
       "Andorra                                           4.0   \n",
       "Anguilla                                          6.0   \n",
       "Antigua and Barbuda                               0.0   \n",
       "\n",
       "variable             normalized__value_count__value_1  \\\n",
       "id                                                      \n",
       "Albania                                           0.0   \n",
       "American Samoa                                    0.0   \n",
       "Andorra                                           0.0   \n",
       "Anguilla                                          0.0   \n",
       "Antigua and Barbuda                               0.0   \n",
       "\n",
       "variable             normalized__value_count__value_inf  \\\n",
       "id                                                        \n",
       "Albania                                             0.0   \n",
       "American Samoa                                      0.0   \n",
       "Andorra                                             0.0   \n",
       "Anguilla                                            0.0   \n",
       "Antigua and Barbuda                                 0.0   \n",
       "\n",
       "variable             normalized__value_count__value_nan  normalized__variance  \\\n",
       "id                                                                              \n",
       "Albania                                             0.0          2.834268e-05   \n",
       "American Samoa                                      0.0          1.099397e-09   \n",
       "Andorra                                             0.0          1.416292e-11   \n",
       "Anguilla                                            0.0          1.193589e-11   \n",
       "Antigua and Barbuda                                 0.0          1.558318e-08   \n",
       "\n",
       "variable             normalized__variance_larger_than_standard_deviation  \n",
       "id                                                                        \n",
       "Albania                                                            0.0    \n",
       "American Samoa                                                     0.0    \n",
       "Andorra                                                            0.0    \n",
       "Anguilla                                                           0.0    \n",
       "Antigua and Barbuda                                                0.0    \n",
       "\n",
       "[5 rows x 794 columns]"
      ]
     },
     "execution_count": 12,
     "metadata": {},
     "output_type": "execute_result"
    }
   ],
   "source": [
    "#Check extracted features\n",
    "extracted_features.head()"
   ]
  },
  {
   "cell_type": "code",
   "execution_count": 13,
   "metadata": {},
   "outputs": [
    {
     "data": {
      "text/plain": [
       "(165, 794)"
      ]
     },
     "execution_count": 13,
     "metadata": {},
     "output_type": "execute_result"
    }
   ],
   "source": [
    "#Check shape of new data with extracted features\n",
    "extracted_features.shape"
   ]
  },
  {
   "cell_type": "code",
   "execution_count": null,
   "metadata": {},
   "outputs": [],
   "source": []
  },
  {
   "cell_type": "code",
   "execution_count": 14,
   "metadata": {},
   "outputs": [
    {
     "data": {
      "text/plain": [
       "568"
      ]
     },
     "execution_count": 14,
     "metadata": {},
     "output_type": "execute_result"
    }
   ],
   "source": [
    "#Check if any columns contains Nan values (null values)\n",
    "list_cols_with_nan = extracted_features.columns[extracted_features.isna().any()].tolist()\n",
    "len(list_cols_with_nan)"
   ]
  },
  {
   "cell_type": "code",
   "execution_count": 17,
   "metadata": {},
   "outputs": [],
   "source": [
    "# it seems 568 columns out of 794 have some null values"
   ]
  },
  {
   "cell_type": "code",
   "execution_count": 18,
   "metadata": {},
   "outputs": [],
   "source": [
    "#lets replace nan value with 0.0\n",
    "from tsfresh import select_features\n",
    "from tsfresh.utilities.dataframe_functions import impute\n",
    "data_after_impute = impute(extracted_features)"
   ]
  },
  {
   "cell_type": "code",
   "execution_count": 19,
   "metadata": {},
   "outputs": [
    {
     "data": {
      "text/plain": [
       "0"
      ]
     },
     "execution_count": 19,
     "metadata": {},
     "output_type": "execute_result"
    }
   ],
   "source": [
    "#lets check if any column has any nan value\n",
    "list_cols_with_nan_after_impute = data_after_impute.columns[data_after_impute.isna().any()].tolist()\n",
    "len(list_cols_with_nan_after_impute)"
   ]
  },
  {
   "cell_type": "code",
   "execution_count": 20,
   "metadata": {
    "scrolled": false
   },
   "outputs": [
    {
     "data": {
      "text/plain": [
       "(165, 795)"
      ]
     },
     "execution_count": 20,
     "metadata": {},
     "output_type": "execute_result"
    }
   ],
   "source": [
    "#we dont have any nan values \n",
    "# lets reset the index\n",
    "data_after_impute = data_after_impute.reset_index()\n",
    "data_after_impute.shape"
   ]
  },
  {
   "cell_type": "code",
   "execution_count": 21,
   "metadata": {},
   "outputs": [],
   "source": [
    "# we need to give labels to countries \n",
    "data_countries = pd.read_excel('Developing countries.xlsx')\n",
    "\n",
    "developed_countries = data_countries [data_countries['Value'] == 0]\n",
    "developing_countries = data_countries [data_countries['Value'] == 1] \n",
    "\n",
    "list_developed_countries = developed_countries['Countries']\n",
    "list_developing_countries = developing_countries['Countries']\n",
    "\n",
    "list_developed_countries = list(list_developed_countries)\n",
    "list_developing_countries = list(list_developing_countries)\n",
    "\n",
    "data_after_impute['label'] = -1\n",
    "\n",
    "for i,da in data_after_impute.iterrows():\n",
    "    if da['id'] in list_developed_countries:\n",
    "        val = 0\n",
    "        data_after_impute.at[i,'label'] = val\n",
    "    elif da['id'] not in list_developed_countries:\n",
    "        val = 1\n",
    "        data_after_impute.at[i,'label'] = val"
   ]
  },
  {
   "cell_type": "code",
   "execution_count": 22,
   "metadata": {},
   "outputs": [
    {
     "data": {
      "text/html": [
       "<div>\n",
       "<style scoped>\n",
       "    .dataframe tbody tr th:only-of-type {\n",
       "        vertical-align: middle;\n",
       "    }\n",
       "\n",
       "    .dataframe tbody tr th {\n",
       "        vertical-align: top;\n",
       "    }\n",
       "\n",
       "    .dataframe thead th {\n",
       "        text-align: right;\n",
       "    }\n",
       "</style>\n",
       "<table border=\"1\" class=\"dataframe\">\n",
       "  <thead>\n",
       "    <tr style=\"text-align: right;\">\n",
       "      <th>variable</th>\n",
       "      <th>id</th>\n",
       "      <th>normalized__abs_energy</th>\n",
       "      <th>normalized__absolute_sum_of_changes</th>\n",
       "      <th>normalized__agg_autocorrelation__f_agg_\"mean\"</th>\n",
       "      <th>normalized__agg_autocorrelation__f_agg_\"median\"</th>\n",
       "      <th>normalized__agg_autocorrelation__f_agg_\"var\"</th>\n",
       "      <th>normalized__agg_linear_trend__f_agg_\"max\"__chunk_len_10__attr_\"intercept\"</th>\n",
       "      <th>normalized__agg_linear_trend__f_agg_\"max\"__chunk_len_10__attr_\"rvalue\"</th>\n",
       "      <th>normalized__agg_linear_trend__f_agg_\"max\"__chunk_len_10__attr_\"slope\"</th>\n",
       "      <th>normalized__agg_linear_trend__f_agg_\"max\"__chunk_len_10__attr_\"stderr\"</th>\n",
       "      <th>...</th>\n",
       "      <th>normalized__time_reversal_asymmetry_statistic__lag_2</th>\n",
       "      <th>normalized__time_reversal_asymmetry_statistic__lag_3</th>\n",
       "      <th>normalized__value_count__value_-inf</th>\n",
       "      <th>normalized__value_count__value_0</th>\n",
       "      <th>normalized__value_count__value_1</th>\n",
       "      <th>normalized__value_count__value_inf</th>\n",
       "      <th>normalized__value_count__value_nan</th>\n",
       "      <th>normalized__variance</th>\n",
       "      <th>normalized__variance_larger_than_standard_deviation</th>\n",
       "      <th>label</th>\n",
       "    </tr>\n",
       "  </thead>\n",
       "  <tbody>\n",
       "    <tr>\n",
       "      <th>0</th>\n",
       "      <td>Albania</td>\n",
       "      <td>3.764226e-03</td>\n",
       "      <td>0.045511</td>\n",
       "      <td>-0.343681</td>\n",
       "      <td>-0.464636</td>\n",
       "      <td>0.658720</td>\n",
       "      <td>0.016729</td>\n",
       "      <td>-0.958425</td>\n",
       "      <td>-0.004164</td>\n",
       "      <td>0.000716</td>\n",
       "      <td>...</td>\n",
       "      <td>-1.347663e-07</td>\n",
       "      <td>-1.945332e-07</td>\n",
       "      <td>0.0</td>\n",
       "      <td>0.0</td>\n",
       "      <td>0.0</td>\n",
       "      <td>0.0</td>\n",
       "      <td>0.0</td>\n",
       "      <td>2.834268e-05</td>\n",
       "      <td>0.0</td>\n",
       "      <td>1</td>\n",
       "    </tr>\n",
       "    <tr>\n",
       "      <th>1</th>\n",
       "      <td>American Samoa</td>\n",
       "      <td>3.137745e-07</td>\n",
       "      <td>0.001344</td>\n",
       "      <td>0.055717</td>\n",
       "      <td>0.047968</td>\n",
       "      <td>0.063794</td>\n",
       "      <td>0.000144</td>\n",
       "      <td>-0.794141</td>\n",
       "      <td>-0.000019</td>\n",
       "      <td>0.000006</td>\n",
       "      <td>...</td>\n",
       "      <td>-4.181770e-14</td>\n",
       "      <td>-1.055605e-13</td>\n",
       "      <td>0.0</td>\n",
       "      <td>0.0</td>\n",
       "      <td>0.0</td>\n",
       "      <td>0.0</td>\n",
       "      <td>0.0</td>\n",
       "      <td>1.099397e-09</td>\n",
       "      <td>0.0</td>\n",
       "      <td>1</td>\n",
       "    </tr>\n",
       "    <tr>\n",
       "      <th>2</th>\n",
       "      <td>Andorra</td>\n",
       "      <td>6.882637e-10</td>\n",
       "      <td>0.000084</td>\n",
       "      <td>0.000000</td>\n",
       "      <td>0.000000</td>\n",
       "      <td>0.000000</td>\n",
       "      <td>0.000012</td>\n",
       "      <td>-1.000000</td>\n",
       "      <td>-0.000002</td>\n",
       "      <td>0.000000</td>\n",
       "      <td>...</td>\n",
       "      <td>-3.859203e-17</td>\n",
       "      <td>-9.960492e-17</td>\n",
       "      <td>0.0</td>\n",
       "      <td>4.0</td>\n",
       "      <td>0.0</td>\n",
       "      <td>0.0</td>\n",
       "      <td>0.0</td>\n",
       "      <td>1.416292e-11</td>\n",
       "      <td>0.0</td>\n",
       "      <td>1</td>\n",
       "    </tr>\n",
       "    <tr>\n",
       "      <th>3</th>\n",
       "      <td>Anguilla</td>\n",
       "      <td>6.698280e-10</td>\n",
       "      <td>0.000097</td>\n",
       "      <td>0.000000</td>\n",
       "      <td>0.000000</td>\n",
       "      <td>0.000000</td>\n",
       "      <td>0.000014</td>\n",
       "      <td>-0.866025</td>\n",
       "      <td>-0.000004</td>\n",
       "      <td>0.000002</td>\n",
       "      <td>...</td>\n",
       "      <td>-3.046739e-17</td>\n",
       "      <td>-2.589728e-17</td>\n",
       "      <td>0.0</td>\n",
       "      <td>6.0</td>\n",
       "      <td>0.0</td>\n",
       "      <td>0.0</td>\n",
       "      <td>0.0</td>\n",
       "      <td>1.193589e-11</td>\n",
       "      <td>0.0</td>\n",
       "      <td>1</td>\n",
       "    </tr>\n",
       "    <tr>\n",
       "      <th>4</th>\n",
       "      <td>Antigua and Barbuda</td>\n",
       "      <td>1.801923e-06</td>\n",
       "      <td>0.001698</td>\n",
       "      <td>-0.330914</td>\n",
       "      <td>-0.394072</td>\n",
       "      <td>0.540359</td>\n",
       "      <td>0.000443</td>\n",
       "      <td>-0.938284</td>\n",
       "      <td>-0.000110</td>\n",
       "      <td>0.000023</td>\n",
       "      <td>...</td>\n",
       "      <td>-2.683857e-12</td>\n",
       "      <td>-4.137990e-12</td>\n",
       "      <td>0.0</td>\n",
       "      <td>0.0</td>\n",
       "      <td>0.0</td>\n",
       "      <td>0.0</td>\n",
       "      <td>0.0</td>\n",
       "      <td>1.558318e-08</td>\n",
       "      <td>0.0</td>\n",
       "      <td>1</td>\n",
       "    </tr>\n",
       "  </tbody>\n",
       "</table>\n",
       "<p>5 rows × 796 columns</p>\n",
       "</div>"
      ],
      "text/plain": [
       "variable                   id  normalized__abs_energy  \\\n",
       "0                     Albania            3.764226e-03   \n",
       "1              American Samoa            3.137745e-07   \n",
       "2                     Andorra            6.882637e-10   \n",
       "3                    Anguilla            6.698280e-10   \n",
       "4         Antigua and Barbuda            1.801923e-06   \n",
       "\n",
       "variable  normalized__absolute_sum_of_changes  \\\n",
       "0                                    0.045511   \n",
       "1                                    0.001344   \n",
       "2                                    0.000084   \n",
       "3                                    0.000097   \n",
       "4                                    0.001698   \n",
       "\n",
       "variable  normalized__agg_autocorrelation__f_agg_\"mean\"  \\\n",
       "0                                             -0.343681   \n",
       "1                                              0.055717   \n",
       "2                                              0.000000   \n",
       "3                                              0.000000   \n",
       "4                                             -0.330914   \n",
       "\n",
       "variable  normalized__agg_autocorrelation__f_agg_\"median\"  \\\n",
       "0                                               -0.464636   \n",
       "1                                                0.047968   \n",
       "2                                                0.000000   \n",
       "3                                                0.000000   \n",
       "4                                               -0.394072   \n",
       "\n",
       "variable  normalized__agg_autocorrelation__f_agg_\"var\"  \\\n",
       "0                                             0.658720   \n",
       "1                                             0.063794   \n",
       "2                                             0.000000   \n",
       "3                                             0.000000   \n",
       "4                                             0.540359   \n",
       "\n",
       "variable  normalized__agg_linear_trend__f_agg_\"max\"__chunk_len_10__attr_\"intercept\"  \\\n",
       "0                                                  0.016729                           \n",
       "1                                                  0.000144                           \n",
       "2                                                  0.000012                           \n",
       "3                                                  0.000014                           \n",
       "4                                                  0.000443                           \n",
       "\n",
       "variable  normalized__agg_linear_trend__f_agg_\"max\"__chunk_len_10__attr_\"rvalue\"  \\\n",
       "0                                                 -0.958425                        \n",
       "1                                                 -0.794141                        \n",
       "2                                                 -1.000000                        \n",
       "3                                                 -0.866025                        \n",
       "4                                                 -0.938284                        \n",
       "\n",
       "variable  normalized__agg_linear_trend__f_agg_\"max\"__chunk_len_10__attr_\"slope\"  \\\n",
       "0                                                 -0.004164                       \n",
       "1                                                 -0.000019                       \n",
       "2                                                 -0.000002                       \n",
       "3                                                 -0.000004                       \n",
       "4                                                 -0.000110                       \n",
       "\n",
       "variable  normalized__agg_linear_trend__f_agg_\"max\"__chunk_len_10__attr_\"stderr\"  \\\n",
       "0                                                  0.000716                        \n",
       "1                                                  0.000006                        \n",
       "2                                                  0.000000                        \n",
       "3                                                  0.000002                        \n",
       "4                                                  0.000023                        \n",
       "\n",
       "variable  ...    normalized__time_reversal_asymmetry_statistic__lag_2  \\\n",
       "0         ...                                        -1.347663e-07      \n",
       "1         ...                                        -4.181770e-14      \n",
       "2         ...                                        -3.859203e-17      \n",
       "3         ...                                        -3.046739e-17      \n",
       "4         ...                                        -2.683857e-12      \n",
       "\n",
       "variable  normalized__time_reversal_asymmetry_statistic__lag_3  \\\n",
       "0                                             -1.945332e-07      \n",
       "1                                             -1.055605e-13      \n",
       "2                                             -9.960492e-17      \n",
       "3                                             -2.589728e-17      \n",
       "4                                             -4.137990e-12      \n",
       "\n",
       "variable  normalized__value_count__value_-inf  \\\n",
       "0                                         0.0   \n",
       "1                                         0.0   \n",
       "2                                         0.0   \n",
       "3                                         0.0   \n",
       "4                                         0.0   \n",
       "\n",
       "variable  normalized__value_count__value_0  normalized__value_count__value_1  \\\n",
       "0                                      0.0                               0.0   \n",
       "1                                      0.0                               0.0   \n",
       "2                                      4.0                               0.0   \n",
       "3                                      6.0                               0.0   \n",
       "4                                      0.0                               0.0   \n",
       "\n",
       "variable  normalized__value_count__value_inf  \\\n",
       "0                                        0.0   \n",
       "1                                        0.0   \n",
       "2                                        0.0   \n",
       "3                                        0.0   \n",
       "4                                        0.0   \n",
       "\n",
       "variable  normalized__value_count__value_nan  normalized__variance  \\\n",
       "0                                        0.0          2.834268e-05   \n",
       "1                                        0.0          1.099397e-09   \n",
       "2                                        0.0          1.416292e-11   \n",
       "3                                        0.0          1.193589e-11   \n",
       "4                                        0.0          1.558318e-08   \n",
       "\n",
       "variable  normalized__variance_larger_than_standard_deviation  label  \n",
       "0                                                       0.0        1  \n",
       "1                                                       0.0        1  \n",
       "2                                                       0.0        1  \n",
       "3                                                       0.0        1  \n",
       "4                                                       0.0        1  \n",
       "\n",
       "[5 rows x 796 columns]"
      ]
     },
     "execution_count": 22,
     "metadata": {},
     "output_type": "execute_result"
    }
   ],
   "source": [
    "# check new df with added column as label \n",
    "data_after_impute.head()"
   ]
  },
  {
   "cell_type": "code",
   "execution_count": 23,
   "metadata": {},
   "outputs": [],
   "source": [
    "#data_after_impute.to_csv('Gdp-output.csv')"
   ]
  },
  {
   "cell_type": "code",
   "execution_count": 70,
   "metadata": {},
   "outputs": [],
   "source": [
    "#Split data into X(features),y \n",
    "y = data_after_impute['label']\n",
    "X = data_after_impute.drop(columns=['id','label'])"
   ]
  },
  {
   "cell_type": "code",
   "execution_count": 71,
   "metadata": {},
   "outputs": [
    {
     "data": {
      "text/plain": [
       "1    132\n",
       "0     33\n",
       "Name: label, dtype: int64"
      ]
     },
     "execution_count": 71,
     "metadata": {},
     "output_type": "execute_result"
    }
   ],
   "source": [
    "y.value_counts()"
   ]
  },
  {
   "cell_type": "code",
   "execution_count": 72,
   "metadata": {},
   "outputs": [],
   "source": [
    "# train and test split\n",
    "X_train, X_test, y_train, y_test = train_test_split(X, y, test_size=0.40, random_state=42)"
   ]
  },
  {
   "cell_type": "code",
   "execution_count": 73,
   "metadata": {},
   "outputs": [
    {
     "data": {
      "text/plain": [
       "1    50\n",
       "0    16\n",
       "Name: label, dtype: int64"
      ]
     },
     "execution_count": 73,
     "metadata": {},
     "output_type": "execute_result"
    }
   ],
   "source": [
    "y_test.value_counts()"
   ]
  },
  {
   "cell_type": "markdown",
   "metadata": {},
   "source": [
    "#### Lets try different classifiers on the data"
   ]
  },
  {
   "cell_type": "markdown",
   "metadata": {},
   "source": [
    "###### KNN with k ranging from 1 to 15"
   ]
  },
  {
   "cell_type": "code",
   "execution_count": 28,
   "metadata": {},
   "outputs": [
    {
     "name": "stdout",
     "output_type": "stream",
     "text": [
      "[0.7494800731914134, 0.7162097162097162, 0.7208556149732619, 0.7027902069918875, 0.7570947570947572, 0.7208556149732619, 0.8076053716261135, 0.7328524616773696, 0.7244647244647244, 0.7244647244647244, 0.6455862977602108, 0.6455862977602108, 0.6530825496342737, 0.6530825496342737, 0.6530825496342737]\n"
     ]
    },
    {
     "data": {
      "image/png": "[encoded data removed]",
      "text/plain": [
       "<matplotlib.figure.Figure at 0x1c16da1278>"
      ]
     },
     "metadata": {},
     "output_type": "display_data"
    }
   ],
   "source": [
    "#KNN for different k values\n",
    "kVals = [1,2,3,4,5,6,7,8,9,10,11,12,13,14,15]\n",
    "scores = []\n",
    "\n",
    "for k in kVals:\n",
    "    knn = KNeighborsClassifier(n_neighbors=k)\n",
    "    knn.fit(X_train,y_train)\n",
    "    pred = knn.predict(X_test)\n",
    "    scores.append(f1_score(y_test,pred,average='weighted'))\n",
    "    \n",
    "plt.plot(kVals,scores)    \n",
    "print(scores)  "
   ]
  },
  {
   "cell_type": "markdown",
   "metadata": {},
   "source": [
    "#### lets Evaluate KNN Model\n",
    "You can see that we are getting best f1 score ** 0.8076 ** with **k = 7.** Lets set k and check classfication report and Confusion matrix for same."
   ]
  },
  {
   "cell_type": "code",
   "execution_count": 31,
   "metadata": {},
   "outputs": [
    {
     "name": "stdout",
     "output_type": "stream",
     "text": [
      "             precision    recall  f1-score   support\n",
      "\n",
      "          0       0.86      0.38      0.52        16\n",
      "          1       0.83      0.98      0.90        50\n",
      "\n",
      "avg / total       0.84      0.83      0.81        66\n",
      "\n",
      "F1 Score:  0.8076053716261135\n",
      "Accuracy is:  0.8333333333333334\n"
     ]
    },
    {
     "data": {
      "image/png": "[encoded data removed]",
      "text/plain": [
       "<matplotlib.figure.Figure at 0x1c16d6ffd0>"
      ]
     },
     "metadata": {},
     "output_type": "display_data"
    }
   ],
   "source": [
    "knn = KNeighborsClassifier(n_neighbors=7)\n",
    "knn.fit(X_train,y_train)\n",
    "pred = knn.predict(X_test)\n",
    "dsf = classification_report(y_test,pred)\n",
    "print(dsf)\n",
    "f1 = f1_score(y_test,pred,average='weighted') \n",
    "print('F1 Score: ',f1)\n",
    "acc = accuracy_score(y_test,pred)\n",
    "print('Accuracy is: ',acc)\n",
    "plotConfusion(confusion_matrix(y_test,pred))"
   ]
  },
  {
   "cell_type": "code",
   "execution_count": null,
   "metadata": {},
   "outputs": [],
   "source": []
  },
  {
   "cell_type": "code",
   "execution_count": null,
   "metadata": {},
   "outputs": [],
   "source": []
  },
  {
   "cell_type": "markdown",
   "metadata": {},
   "source": [
    "#### Random Forest Classifier"
   ]
  },
  {
   "cell_type": "code",
   "execution_count": 32,
   "metadata": {},
   "outputs": [
    {
     "name": "stdout",
     "output_type": "stream",
     "text": [
      "F1 Score:  0.8086913086913087\n",
      "Accuracy Score:  0.8181818181818182\n"
     ]
    }
   ],
   "source": [
    "rf_classifier = RandomForestClassifier(n_estimators=10, random_state = 42)\n",
    "rf_classifier.fit(X_train,y_train)\n",
    "pred = rf_classifier.predict(X_test)\n",
    "print(\"F1 Score: \", metrics.f1_score(y_test,pred, average='weighted'))\n",
    "print(\"Accuracy Score: \", accuracy_score(y_test,pred))"
   ]
  },
  {
   "cell_type": "markdown",
   "metadata": {},
   "source": [
    "#### Fine tuninng Random Forest for different number of estimators"
   ]
  },
  {
   "cell_type": "code",
   "execution_count": 33,
   "metadata": {},
   "outputs": [
    {
     "data": {
      "text/plain": [
       "[0.8271398281441804,\n",
       " 0.8086913086913087,\n",
       " 0.8271398281441804,\n",
       " 0.8449197860962567,\n",
       " 0.8314702437985734,\n",
       " 0.8405760905760906,\n",
       " 0.8542568542568543,\n",
       " 0.8682323965342833,\n",
       " 0.858568950299784,\n",
       " 0.8724608724608724,\n",
       " 0.8682323965342833,\n",
       " 0.8682323965342833]"
      ]
     },
     "execution_count": 33,
     "metadata": {},
     "output_type": "execute_result"
    },
    {
     "data": {
      "image/png": "[encoded data removed]",
      "text/plain": [
       "<matplotlib.figure.Figure at 0x1a165b9a58>"
      ]
     },
     "metadata": {},
     "output_type": "display_data"
    }
   ],
   "source": [
    "#Ensemble Random Forest Classifier Fine Tunning\n",
    "estimators = [5,10,15,20,30,35,40,45,50,100,200,300]\n",
    "f1_scores = []\n",
    "for e in estimators:\n",
    "    rf_classifier = RandomForestClassifier(n_estimators=e, random_state = 42)\n",
    "    rf_classifier.fit(X_train,y_train)\n",
    "    pred = rf_classifier.predict(X_test)\n",
    "    f1_scores.append(f1_score(y_test,pred,average='weighted'))\n",
    "    \n",
    "plt.plot(estimators,f1_scores) \n",
    "f1_scores"
   ]
  },
  {
   "cell_type": "markdown",
   "metadata": {},
   "source": [
    "#### Lets fine tune for number of features with best number of estimator from above analysis"
   ]
  },
  {
   "cell_type": "code",
   "execution_count": 34,
   "metadata": {},
   "outputs": [
    {
     "name": "stdout",
     "output_type": "stream",
     "text": [
      "F1 Score:  0.8724608724608724\n",
      "Accuracy Score:  0.8787878787878788\n"
     ]
    }
   ],
   "source": [
    "rf_classifier = RandomForestClassifier(n_estimators=100, random_state = 42)\n",
    "rf_classifier.fit(X_train,y_train)\n",
    "pred = rf_classifier.predict(X_test)\n",
    "print(\"F1 Score: \", metrics.f1_score(y_test,pred, average='weighted'))\n",
    "print(\"Accuracy Score: \", accuracy_score(y_test,pred))"
   ]
  },
  {
   "cell_type": "code",
   "execution_count": 35,
   "metadata": {},
   "outputs": [
    {
     "name": "stdout",
     "output_type": "stream",
     "text": [
      "[0.8405760905760906, 0.8405760905760906, 0.8724608724608724, 0.8086913086913087, 0.8271398281441804, 0.8139037433155082, 0.7919531448943214, 0.76223216559351, 0.76223216559351, 0.7367424242424242, 0.7494800731914134]\n"
     ]
    },
    {
     "data": {
      "image/png": "[encoded data removed]",
      "text/plain": [
       "<matplotlib.figure.Figure at 0x1c19d7b2b0>"
      ]
     },
     "metadata": {},
     "output_type": "display_data"
    }
   ],
   "source": [
    "no_of_features = [10,20,30,40,50,100,200,300,400,500,600]\n",
    "f1_scores = []\n",
    "for e in no_of_features:\n",
    "    rf_classifier = RandomForestClassifier(max_features = e ,n_estimators=100,random_state = 42)\n",
    "    rf_classifier.fit(X_train,y_train)\n",
    "    pred = rf_classifier.predict(X_test)\n",
    "    f1_scores.append(f1_score(y_test,pred,average='weighted'))\n",
    "    \n",
    "plt.plot(no_of_features,f1_scores) \n",
    "print(f1_scores)"
   ]
  },
  {
   "cell_type": "code",
   "execution_count": 36,
   "metadata": {
    "scrolled": true
   },
   "outputs": [
    {
     "name": "stdout",
     "output_type": "stream",
     "text": [
      "F1 Score:  0.8724608724608724\n",
      "Accuracy Score:  0.8787878787878788\n"
     ]
    }
   ],
   "source": [
    "rf_classifier = RandomForestClassifier(n_estimators=100,max_features=30, random_state = 42)\n",
    "rf_classifier.fit(X_train,y_train)\n",
    "pred = rf_classifier.predict(X_test)\n",
    "print(\"F1 Score: \", metrics.f1_score(y_test,pred, average='weighted'))\n",
    "print(\"Accuracy Score: \", accuracy_score(y_test,pred))\n",
    "cr = classification_report(y_test,pred)\n",
    "cm = confusion_matrix(y_test,pred)\n"
   ]
  },
  {
   "cell_type": "markdown",
   "metadata": {},
   "source": [
    "#### This is the best combination we got for RFC lets evaluate it"
   ]
  },
  {
   "cell_type": "code",
   "execution_count": 37,
   "metadata": {},
   "outputs": [
    {
     "name": "stdout",
     "output_type": "stream",
     "text": [
      "             precision    recall  f1-score   support\n",
      "\n",
      "          0       0.83      0.62      0.71        16\n",
      "          1       0.89      0.96      0.92        50\n",
      "\n",
      "avg / total       0.88      0.88      0.87        66\n",
      "\n"
     ]
    },
    {
     "data": {
      "image/png": "[encoded data removed]",
      "text/plain": [
       "<matplotlib.figure.Figure at 0x1c199755f8>"
      ]
     },
     "metadata": {},
     "output_type": "display_data"
    }
   ],
   "source": [
    "print(cr)\n",
    "plotConfusion(cm)"
   ]
  },
  {
   "cell_type": "markdown",
   "metadata": {},
   "source": [
    "#### Logistic regression model"
   ]
  },
  {
   "cell_type": "code",
   "execution_count": 38,
   "metadata": {},
   "outputs": [
    {
     "name": "stdout",
     "output_type": "stream",
     "text": [
      "F1 Score:  0.6222943722943722\n",
      "Accuracy Score:  0.696969696969697\n"
     ]
    }
   ],
   "source": [
    "#Logistic Regression\n",
    "logmodel = LogisticRegression()\n",
    "logmodel.fit(X_train,y_train)\n",
    "pred = logmodel.predict(X_test)\n",
    "print(\"F1 Score: \", metrics.f1_score(y_test,pred, average='weighted'))\n",
    "print(\"Accuracy Score: \", accuracy_score(y_test,pred))"
   ]
  },
  {
   "cell_type": "markdown",
   "metadata": {},
   "source": [
    "#### Extra tree classifier"
   ]
  },
  {
   "cell_type": "code",
   "execution_count": 39,
   "metadata": {},
   "outputs": [
    {
     "name": "stdout",
     "output_type": "stream",
     "text": [
      "F1 Score:  0.8314702437985734\n",
      "Accuracy Score:  0.8333333333333334\n"
     ]
    }
   ],
   "source": [
    "#ExtraTreeClassifier\n",
    "model = ExtraTreesClassifier(n_estimators=5,random_state=42)\n",
    "model.fit(X_train, y_train)\n",
    "pred = model.predict(X_test)\n",
    "print(\"F1 Score: \", metrics.f1_score(y_test,pred, average='weighted'))\n",
    "print(\"Accuracy Score: \", accuracy_score(y_test,pred))"
   ]
  },
  {
   "cell_type": "code",
   "execution_count": 40,
   "metadata": {},
   "outputs": [
    {
     "name": "stdout",
     "output_type": "stream",
     "text": [
      "[0.8314702437985734, 0.8484848484848485, 0.8314702437985734, 0.8650137741046832, 0.8621120176533783, 0.8621120176533783, 0.8449197860962567, 0.8449197860962567, 0.8449197860962567, 0.8314702437985734, 0.8449197860962567, 0.8621120176533783]\n"
     ]
    },
    {
     "data": {
      "image/png": "[encoded data removed]",
      "text/plain": [
       "<matplotlib.figure.Figure at 0x1c19d82208>"
      ]
     },
     "metadata": {},
     "output_type": "display_data"
    }
   ],
   "source": [
    "estimators = [5,10,15,20,30,35,40,45,50,100,200,300]\n",
    "f1_scores = []\n",
    "for e in estimators:\n",
    "    model = ExtraTreesClassifier(n_estimators=e,random_state=42)\n",
    "    model.fit(X_train, y_train)\n",
    "    pred = model.predict(X_test)\n",
    "    f1_scores.append(f1_score(y_test,pred,average='weighted'))\n",
    "    \n",
    "plt.plot(estimators,f1_scores) \n",
    "print(f1_scores)"
   ]
  },
  {
   "cell_type": "code",
   "execution_count": 41,
   "metadata": {},
   "outputs": [
    {
     "name": "stdout",
     "output_type": "stream",
     "text": [
      "F1 Score:  0.8650137741046832\n",
      "Accuracy Score:  0.8636363636363636\n"
     ]
    }
   ],
   "source": [
    "model = ExtraTreesClassifier(n_estimators=20,random_state=42)\n",
    "model.fit(X_train, y_train)\n",
    "pred = model.predict(X_test)\n",
    "print(\"F1 Score: \", metrics.f1_score(y_test,pred, average='weighted'))\n",
    "print(\"Accuracy Score: \", accuracy_score(y_test,pred))"
   ]
  },
  {
   "cell_type": "markdown",
   "metadata": {},
   "source": [
    "#### fine tune for max_features"
   ]
  },
  {
   "cell_type": "code",
   "execution_count": 42,
   "metadata": {},
   "outputs": [
    {
     "name": "stdout",
     "output_type": "stream",
     "text": [
      "[0.858568950299784, 0.8050198959289868, 0.8787878787878788, 0.8314702437985734, 0.8759358288770054, 0.8927537915081831, 0.9069518716577539, 0.8621120176533783, 0.8759358288770054, 0.8314702437985734, 0.8405760905760906, 0.858568950299784, 0.858568950299784, 0.9090909090909091]\n"
     ]
    },
    {
     "data": {
      "image/png": "[encoded data removed]",
      "text/plain": [
       "<matplotlib.figure.Figure at 0x1c19bfdc50>"
      ]
     },
     "metadata": {},
     "output_type": "display_data"
    }
   ],
   "source": [
    "no_of_features = [10,20,30,40,50,100,200,300,400,500,600,700,750,790]\n",
    "f1_scores = []\n",
    "for e in no_of_features:\n",
    "    model = ExtraTreesClassifier(max_features=e,n_estimators=20,random_state=42)\n",
    "    model.fit(X_train, y_train)\n",
    "    pred = model.predict(X_test)\n",
    "    f1_scores.append(f1_score(y_test,pred,average='weighted'))\n",
    "    \n",
    "plt.plot(no_of_features,f1_scores) \n",
    "print(f1_scores)"
   ]
  },
  {
   "cell_type": "code",
   "execution_count": 43,
   "metadata": {},
   "outputs": [
    {
     "name": "stdout",
     "output_type": "stream",
     "text": [
      "F1 Score:  0.9090909090909091\n",
      "Accuracy Score:  0.9090909090909091\n"
     ]
    }
   ],
   "source": [
    "model = ExtraTreesClassifier(n_estimators=20,max_features=790,random_state=42)\n",
    "model.fit(X_train, y_train)\n",
    "pred = model.predict(X_test)\n",
    "print(\"F1 Score: \", metrics.f1_score(y_test,pred, average='weighted'))\n",
    "print(\"Accuracy Score: \", accuracy_score(y_test,pred))\n",
    "cr = classification_report(y_test,pred)\n",
    "cm = confusion_matrix(y_test,pred)"
   ]
  },
  {
   "cell_type": "code",
   "execution_count": null,
   "metadata": {},
   "outputs": [],
   "source": []
  },
  {
   "cell_type": "code",
   "execution_count": 44,
   "metadata": {},
   "outputs": [
    {
     "name": "stdout",
     "output_type": "stream",
     "text": [
      "             precision    recall  f1-score   support\n",
      "\n",
      "          0       0.81      0.81      0.81        16\n",
      "          1       0.94      0.94      0.94        50\n",
      "\n",
      "avg / total       0.91      0.91      0.91        66\n",
      "\n"
     ]
    },
    {
     "data": {
      "image/png": "[encoded data removed]",
      "text/plain": [
       "<matplotlib.figure.Figure at 0x1c1990e240>"
      ]
     },
     "metadata": {},
     "output_type": "display_data"
    }
   ],
   "source": [
    "print(cr)\n",
    "plotConfusion(cm)"
   ]
  },
  {
   "cell_type": "markdown",
   "metadata": {},
   "source": [
    "#### Recursive Feature Elimination "
   ]
  },
  {
   "cell_type": "code",
   "execution_count": null,
   "metadata": {},
   "outputs": [],
   "source": []
  },
  {
   "cell_type": "code",
   "execution_count": 45,
   "metadata": {},
   "outputs": [
    {
     "name": "stdout",
     "output_type": "stream",
     "text": [
      "Optimal number of features : 374\n",
      "Best features : Index(['normalized__fft_coefficient__coeff_25__attr_\"abs\"',\n",
      "       'normalized__fft_coefficient__coeff_25__attr_\"angle\"',\n",
      "       'normalized__fft_coefficient__coeff_25__attr_\"imag\"',\n",
      "       'normalized__fft_coefficient__coeff_25__attr_\"real\"',\n",
      "       'normalized__fft_coefficient__coeff_26__attr_\"abs\"',\n",
      "       'normalized__fft_coefficient__coeff_26__attr_\"angle\"',\n",
      "       'normalized__fft_coefficient__coeff_26__attr_\"imag\"',\n",
      "       'normalized__fft_coefficient__coeff_26__attr_\"real\"',\n",
      "       'normalized__fft_coefficient__coeff_27__attr_\"abs\"',\n",
      "       'normalized__fft_coefficient__coeff_27__attr_\"angle\"',\n",
      "       ...\n",
      "       'normalized__symmetry_looking__r_0.9500000000000001',\n",
      "       'normalized__time_reversal_asymmetry_statistic__lag_1',\n",
      "       'normalized__time_reversal_asymmetry_statistic__lag_2',\n",
      "       'normalized__time_reversal_asymmetry_statistic__lag_3',\n",
      "       'normalized__value_count__value_-inf',\n",
      "       'normalized__value_count__value_0', 'normalized__value_count__value_1',\n",
      "       'normalized__value_count__value_inf',\n",
      "       'normalized__value_count__value_nan', 'normalized__variance'],\n",
      "      dtype='object', name='variable', length=374)\n"
     ]
    }
   ],
   "source": [
    "# The \"accuracy\" scoring is proportional to the number of correct classifications\n",
    "clf_rf_4 = RandomForestClassifier() \n",
    "rfecv = RFECV(estimator=clf_rf_4, step=1, cv=5,scoring='accuracy')   #5-fold cross-validation\n",
    "rfecv = rfecv.fit(X_train, y_train)\n",
    "\n",
    "print('Optimal number of features :', rfecv.n_features_)\n",
    "print('Best features :', X_train.columns[rfecv.support_])"
   ]
  },
  {
   "cell_type": "code",
   "execution_count": 46,
   "metadata": {},
   "outputs": [],
   "source": [
    "cols = X_train.columns[rfecv.support_]"
   ]
  },
  {
   "cell_type": "code",
   "execution_count": 47,
   "metadata": {},
   "outputs": [],
   "source": [
    "X = X[cols]"
   ]
  },
  {
   "cell_type": "code",
   "execution_count": 48,
   "metadata": {},
   "outputs": [],
   "source": [
    "X_train, X_test, y_train, y_test = train_test_split(X, y, test_size=0.40, random_state=42)"
   ]
  },
  {
   "cell_type": "code",
   "execution_count": 49,
   "metadata": {},
   "outputs": [
    {
     "name": "stdout",
     "output_type": "stream",
     "text": [
      "             precision    recall  f1-score   support\n",
      "\n",
      "          0       0.50      0.06      0.11        16\n",
      "          1       0.77      0.98      0.86        50\n",
      "\n",
      "avg / total       0.70      0.76      0.68        66\n",
      "\n",
      "Accuracy is:  0.7575757575757576\n"
     ]
    }
   ],
   "source": [
    "knn = KNeighborsClassifier(n_neighbors=10)\n",
    "knn.fit(X_train,y_train)\n",
    "pred = knn.predict(X_test)\n",
    "dsf = classification_report(y_test,pred)\n",
    "acc = accuracy_score(y_test,pred) \n",
    "print(dsf)\n",
    "print('Accuracy is: ',acc)"
   ]
  },
  {
   "cell_type": "code",
   "execution_count": 50,
   "metadata": {},
   "outputs": [
    {
     "name": "stdout",
     "output_type": "stream",
     "text": [
      "[0.7424242424242424, 0.7272727272727273, 0.7575757575757576, 0.7272727272727273, 0.7878787878787878, 0.7424242424242424, 0.8181818181818182, 0.7727272727272727, 0.7424242424242424, 0.7575757575757576, 0.7424242424242424, 0.7424242424242424, 0.7575757575757576, 0.7575757575757576, 0.7575757575757576]\n"
     ]
    },
    {
     "data": {
      "image/png": "[encoded data removed]",
      "text/plain": [
       "<matplotlib.figure.Figure at 0x1c19d729b0>"
      ]
     },
     "metadata": {},
     "output_type": "display_data"
    }
   ],
   "source": [
    "#KNN for different k values\n",
    "kVals = [1,2,3,4,5,6,7,8,9,10,11,12,13,14,15]\n",
    "scores = []\n",
    "\n",
    "for k in kVals:\n",
    "    knn = KNeighborsClassifier(n_neighbors=k)\n",
    "    knn.fit(X_train,y_train)\n",
    "    pred = knn.predict(X_test)\n",
    "    scores.append(accuracy_score(y_test,pred))\n",
    "    \n",
    "plt.plot(kVals,scores)    \n",
    "print(scores) "
   ]
  },
  {
   "cell_type": "code",
   "execution_count": 51,
   "metadata": {},
   "outputs": [
    {
     "name": "stdout",
     "output_type": "stream",
     "text": [
      "[0.8271398281441804, 0.858568950299784, 0.8405760905760906, 0.8405760905760906, 0.835290495667854, 0.835290495667854, 0.8542568542568543, 0.8542568542568543, 0.8542568542568543, 0.835290495667854, 0.835290495667854, 0.835290495667854]\n"
     ]
    },
    {
     "data": {
      "image/png": "[encoded data removed]",
      "text/plain": [
       "<matplotlib.figure.Figure at 0x1a1672bcc0>"
      ]
     },
     "metadata": {},
     "output_type": "display_data"
    }
   ],
   "source": [
    "#Ensemble Random Forest Classifier Fine Tunning\n",
    "estimators = [5,10,15,20,30,35,40,45,50,100,200,300]\n",
    "f1_scores = []\n",
    "for e in estimators:\n",
    "    rf_classifier = RandomForestClassifier(n_estimators=e, random_state = 42)\n",
    "    rf_classifier.fit(X_train,y_train)\n",
    "    pred = rf_classifier.predict(X_test)\n",
    "    f1_scores.append(f1_score(y_test,pred,average='weighted'))\n",
    "    \n",
    "plt.plot(estimators,f1_scores) \n",
    "print(f1_scores)"
   ]
  },
  {
   "cell_type": "code",
   "execution_count": 53,
   "metadata": {},
   "outputs": [
    {
     "name": "stdout",
     "output_type": "stream",
     "text": [
      "             precision    recall  f1-score   support\n",
      "\n",
      "          0       0.77      0.62      0.69        16\n",
      "          1       0.89      0.94      0.91        50\n",
      "\n",
      "avg / total       0.86      0.86      0.86        66\n",
      "\n",
      "Accuracy is:  0.8636363636363636\n"
     ]
    }
   ],
   "source": [
    "rf_classifier = RandomForestClassifier(n_estimators=10, random_state = 42)\n",
    "rf_classifier.fit(X_train,y_train)\n",
    "pred = rf_classifier.predict(X_test)\n",
    "dsf = classification_report(y_test,pred)\n",
    "acc = accuracy_score(y_test,pred) \n",
    "print(dsf)\n",
    "print('Accuracy is: ',acc)"
   ]
  },
  {
   "cell_type": "code",
   "execution_count": 54,
   "metadata": {},
   "outputs": [],
   "source": [
    "# We obtained best results without Feature selection RFE"
   ]
  },
  {
   "cell_type": "markdown",
   "metadata": {},
   "source": [
    "##### Lets Try Clustering "
   ]
  },
  {
   "cell_type": "code",
   "execution_count": 90,
   "metadata": {},
   "outputs": [],
   "source": [
    "y = data_after_impute['label']\n",
    "X = data_after_impute.drop(columns=['id','label'])"
   ]
  },
  {
   "cell_type": "code",
   "execution_count": 91,
   "metadata": {},
   "outputs": [
    {
     "name": "stdout",
     "output_type": "stream",
     "text": [
      "             precision    recall  f1-score   support\n",
      "\n",
      "          0       0.20      1.00      0.34        33\n",
      "          1       1.00      0.01      0.02       132\n",
      "\n",
      "avg / total       0.84      0.21      0.08       165\n",
      "\n"
     ]
    },
    {
     "data": {
      "image/png": "[encoded data removed]",
      "text/plain": [
       "<matplotlib.figure.Figure at 0x1c19c050f0>"
      ]
     },
     "metadata": {},
     "output_type": "display_data"
    }
   ],
   "source": [
    "model = KMeans(n_clusters=2,n_init=400,random_state=42,max_iter=1000)\n",
    "model.fit(X)\n",
    "y_pred = model.labels_\n",
    "y_arr = np.array(y)\n",
    "accuracy_score(y_arr,y_pred)\n",
    "print(classification_report(y_arr,y_pred))\n",
    "plotConfusion(confusion_matrix(y_arr,y_pred))"
   ]
  },
  {
   "cell_type": "code",
   "execution_count": 101,
   "metadata": {},
   "outputs": [
    {
     "name": "stdout",
     "output_type": "stream",
     "text": [
      "             precision    recall  f1-score   support\n",
      "\n",
      "          0       0.20      1.00      0.34        33\n",
      "          1       1.00      0.01      0.02       132\n",
      "\n",
      "avg / total       0.84      0.21      0.08       165\n",
      "\n"
     ]
    },
    {
     "data": {
      "image/png": "[encoded data removed]",
      "text/plain": [
       "<matplotlib.figure.Figure at 0x1a16740240>"
      ]
     },
     "metadata": {},
     "output_type": "display_data"
    }
   ],
   "source": [
    "\n",
    "model = AgglomerativeClustering(n_clusters=2, affinity='euclidean', linkage='ward')  \n",
    "model = model.fit(X)\n",
    "y_pred = model.labels_\n",
    "y_arr = np.array(y)\n",
    "accuracy_score(y_arr,y_pred)\n",
    "print(classification_report(y_arr,y_pred))\n",
    "plotConfusion(confusion_matrix(y_arr,y_pred))"
   ]
  },
  {
   "cell_type": "code",
   "execution_count": 102,
   "metadata": {},
   "outputs": [
    {
     "data": {
      "image/png": "[encoded data removed]",
      "text/plain": [
       "<matplotlib.figure.Figure at 0x1c19d60cc0>"
      ]
     },
     "metadata": {},
     "output_type": "display_data"
    }
   ],
   "source": [
    "from sklearn.preprocessing import MinMaxScaler,StandardScaler\n",
    "scaler = StandardScaler()\n",
    "scaled_df = scaler.fit_transform(X)\n",
    "scaled_df = pd.DataFrame(scaled_df)\n",
    "pca = PCA(n_components=2)  \n",
    "X_pca = pca.fit_transform(scaled_df)  \n",
    "df = pd.DataFrame(X_pca)\n",
    "df.head()\n",
    "a = df[0]\n",
    "b = df [1]\n",
    "plt.scatter(a,b,alpha=0.5,c=y,cmap='viridis')\n",
    "plt.xlabel('x')\n",
    "plt.ylabel('y')\n",
    "plt.show()"
   ]
  },
  {
   "cell_type": "code",
   "execution_count": null,
   "metadata": {},
   "outputs": [],
   "source": []
  },
  {
   "cell_type": "code",
   "execution_count": 94,
   "metadata": {},
   "outputs": [
    {
     "name": "stdout",
     "output_type": "stream",
     "text": [
      "             precision    recall  f1-score   support\n",
      "\n",
      "          0       0.19      0.91      0.31        33\n",
      "          1       0.57      0.03      0.06       132\n",
      "\n",
      "avg / total       0.50      0.21      0.11       165\n",
      "\n"
     ]
    },
    {
     "data": {
      "image/png": "[encoded data removed]",
      "text/plain": [
       "<matplotlib.figure.Figure at 0x1c18896cc0>"
      ]
     },
     "metadata": {},
     "output_type": "display_data"
    }
   ],
   "source": [
    "model = KMeans(n_clusters=2,n_init=100,random_state=42,precompute_distances=True,max_iter=1000)\n",
    "model.fit(X_pca)\n",
    "y_pred = model.labels_\n",
    "accuracy_score(y_arr,y_pred)\n",
    "print(classification_report(y_arr,y_pred))\n",
    "plotConfusion(confusion_matrix(y_arr,y_pred))"
   ]
  },
  {
   "cell_type": "code",
   "execution_count": 95,
   "metadata": {},
   "outputs": [
    {
     "data": {
      "image/png": "[encoded data removed]",
      "text/plain": [
       "<matplotlib.figure.Figure at 0x1c18cd5198>"
      ]
     },
     "metadata": {},
     "output_type": "display_data"
    }
   ],
   "source": [
    "plt.scatter(a,b,alpha=0.5,c=y_pred,cmap='viridis')\n",
    "plt.xlabel('x')\n",
    "plt.ylabel('y')\n",
    "plt.show()"
   ]
  },
  {
   "cell_type": "code",
   "execution_count": 96,
   "metadata": {},
   "outputs": [
    {
     "name": "stdout",
     "output_type": "stream",
     "text": [
      "             precision    recall  f1-score   support\n",
      "\n",
      "          0       0.43      0.09      0.15        33\n",
      "          1       0.81      0.97      0.88       132\n",
      "\n",
      "avg / total       0.73      0.79      0.74       165\n",
      "\n"
     ]
    },
    {
     "data": {
      "image/png": "[encoded data removed]",
      "text/plain": [
       "<matplotlib.figure.Figure at 0x1c18cd0828>"
      ]
     },
     "metadata": {},
     "output_type": "display_data"
    }
   ],
   "source": [
    "model = AgglomerativeClustering(n_clusters=2, affinity='euclidean', linkage='ward')  \n",
    "model = model.fit(X_pca)\n",
    "y_pred = model.labels_\n",
    "accuracy_score(y_arr,y_pred)\n",
    "print(classification_report(y_arr,y_pred))\n",
    "plotConfusion(confusion_matrix(y_arr,y_pred))"
   ]
  },
  {
   "cell_type": "code",
   "execution_count": 97,
   "metadata": {},
   "outputs": [
    {
     "data": {
      "image/png": "[encoded data removed]",
      "text/plain": [
       "<matplotlib.figure.Figure at 0x1c185fdf28>"
      ]
     },
     "metadata": {},
     "output_type": "display_data"
    }
   ],
   "source": [
    "plt.scatter(a,b,alpha=0.5,c=y_pred,cmap='viridis')\n",
    "plt.xlabel('x')\n",
    "plt.ylabel('y')\n",
    "plt.show()"
   ]
  },
  {
   "cell_type": "code",
   "execution_count": null,
   "metadata": {},
   "outputs": [],
   "source": []
  },
  {
   "cell_type": "code",
   "execution_count": 98,
   "metadata": {},
   "outputs": [
    {
     "data": {
      "image/png": "[encoded data removed]",
      "text/plain": [
       "<matplotlib.figure.Figure at 0x1a165b96a0>"
      ]
     },
     "metadata": {},
     "output_type": "display_data"
    }
   ],
   "source": [
    "scaler = MinMaxScaler()\n",
    "scaled_df = scaler.fit_transform(X)\n",
    "scaled_df = pd.DataFrame(scaled_df)\n",
    "pca = PCA(n_components=2)  \n",
    "X_pca = pca.fit_transform(scaled_df)  \n",
    "df = pd.DataFrame(X_pca)\n",
    "df.head()\n",
    "a = df[0]\n",
    "b = df [1]\n",
    "plt.scatter(a,b,alpha=0.5,c=y,cmap='viridis')\n",
    "plt.xlabel('x')\n",
    "plt.ylabel('y')\n",
    "plt.show()"
   ]
  },
  {
   "cell_type": "code",
   "execution_count": 99,
   "metadata": {},
   "outputs": [
    {
     "name": "stdout",
     "output_type": "stream",
     "text": [
      "             precision    recall  f1-score   support\n",
      "\n",
      "          0       0.00      0.00      0.00        33\n",
      "          1       0.78      0.88      0.83       132\n",
      "\n",
      "avg / total       0.62      0.70      0.66       165\n",
      "\n"
     ]
    },
    {
     "data": {
      "image/png": "[encoded data removed]",
      "text/plain": [
       "<matplotlib.figure.Figure at 0x1c19d729e8>"
      ]
     },
     "metadata": {},
     "output_type": "display_data"
    }
   ],
   "source": [
    "model = KMeans(n_clusters=2,n_init=100,random_state=42,precompute_distances=True,max_iter=1000)\n",
    "model.fit(X_pca)\n",
    "y_pred = model.labels_\n",
    "accuracy_score(y_arr,y_pred)\n",
    "print(classification_report(y_arr,y_pred))\n",
    "plotConfusion(confusion_matrix(y_arr,y_pred))"
   ]
  },
  {
   "cell_type": "code",
   "execution_count": 100,
   "metadata": {},
   "outputs": [
    {
     "name": "stdout",
     "output_type": "stream",
     "text": [
      "             precision    recall  f1-score   support\n",
      "\n",
      "          0       0.22      1.00      0.36        33\n",
      "          1       1.00      0.12      0.22       132\n",
      "\n",
      "avg / total       0.84      0.30      0.25       165\n",
      "\n"
     ]
    },
    {
     "data": {
      "image/png": "[encoded data removed]",
      "text/plain": [
       "<matplotlib.figure.Figure at 0x1c199a5b70>"
      ]
     },
     "metadata": {},
     "output_type": "display_data"
    }
   ],
   "source": [
    "model = AgglomerativeClustering(n_clusters=2, affinity='euclidean', linkage='ward')  \n",
    "model = model.fit(X_pca)\n",
    "y_pred = model.labels_\n",
    "y_arr = np.array(y)\n",
    "accuracy_score(y_arr,y_pred)\n",
    "print(classification_report(y_arr,y_pred))\n",
    "plotConfusion(confusion_matrix(y_arr,y_pred))"
   ]
  },
  {
   "cell_type": "code",
   "execution_count": null,
   "metadata": {},
   "outputs": [],
   "source": []
  },
  {
   "cell_type": "code",
   "execution_count": 62,
   "metadata": {},
   "outputs": [],
   "source": [
    "def testFunctions(dimensions,scaled_df,y_arr):\n",
    "    pca = PCA(n_components=dimensions)  \n",
    "    X_pca = pca.fit_transform(scaled_df)\n",
    "    model = KMeans(n_clusters=2,n_init=100,random_state=42,precompute_distances=True,max_iter=1000)\n",
    "    model.fit(X_pca)\n",
    "    y_pred = model.labels_\n",
    "    score = f1_score(y_pred,y_arr,average='weighted')\n",
    "    return score"
   ]
  },
  {
   "cell_type": "code",
   "execution_count": 63,
   "metadata": {},
   "outputs": [
    {
     "name": "stdout",
     "output_type": "stream",
     "text": [
      "[0.8514646865162329, 0.3032508215226961, 0.3032508215226961, 0.8516718913270638, 0.8516718913270638, 0.8516718913270638, 0.8516718913270638, 0.8516718913270638, 0.8516718913270638, 0.8516718913270638, 0.8516718913270638, 0.8516718913270638, 0.8516718913270638, 0.8516718913270638, 0.8516718913270638]\n"
     ]
    },
    {
     "data": {
      "image/png": "[encoded data removed]",
      "text/plain": [
       "<matplotlib.figure.Figure at 0x1c19be2128>"
      ]
     },
     "metadata": {},
     "output_type": "display_data"
    }
   ],
   "source": [
    "scaler = StandardScaler()\n",
    "scaled_df = scaler.fit_transform(X)\n",
    "scaled_df = pd.DataFrame(scaled_df)\n",
    "\n",
    "dimensions_ = [1,2,3,4,5,6,7,8,9,10,11,12,13,14,15]\n",
    "scores = []\n",
    "for dim in dimensions_:\n",
    "    scores.append(testFunctions(dim,scaled_df,y_arr))\n",
    "\n",
    "plt.plot(dimensions_,scores)    \n",
    "print(scores)"
   ]
  },
  {
   "cell_type": "code",
   "execution_count": 64,
   "metadata": {},
   "outputs": [
    {
     "name": "stdout",
     "output_type": "stream",
     "text": [
      "             precision    recall  f1-score   support\n",
      "\n",
      "          0       0.43      0.09      0.15        33\n",
      "          1       0.81      0.97      0.88       132\n",
      "\n",
      "avg / total       0.73      0.79      0.74       165\n",
      "\n"
     ]
    },
    {
     "data": {
      "image/png": "[encoded data removed]",
      "text/plain": [
       "<matplotlib.figure.Figure at 0x1c16d90c50>"
      ]
     },
     "metadata": {},
     "output_type": "display_data"
    }
   ],
   "source": [
    "pca = PCA(n_components=14)  \n",
    "X_pca = pca.fit_transform(scaled_df)\n",
    "model = KMeans(n_clusters=2,n_init=100,random_state=42,precompute_distances=True,max_iter=1000)\n",
    "model.fit(X_pca)\n",
    "y_pred = model.labels_\n",
    "print(classification_report(y_arr,y_pred))\n",
    "plotConfusion(confusion_matrix(y_arr,y_pred))"
   ]
  }
 ],
 "metadata": {
  "kernelspec": {
   "display_name": "Python 3",
   "language": "python",
   "name": "python3"
  },
  "language_info": {
   "codemirror_mode": {
    "name": "ipython",
    "version": 3
   },
   "file_extension": ".py",
   "mimetype": "text/x-python",
   "name": "python",
   "nbconvert_exporter": "python",
   "pygments_lexer": "ipython3",
   "version": "3.6.4"
  }
 },
 "nbformat": 4,
 "nbformat_minor": 2
}
