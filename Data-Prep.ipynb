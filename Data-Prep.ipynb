{
 "cells": [
  {
   "cell_type": "code",
   "execution_count": 24,
   "metadata": {},
   "outputs": [],
   "source": [
    "import numpy as np\n",
    "import pandas as pd"
   ]
  },
  {
   "cell_type": "code",
   "execution_count": 25,
   "metadata": {},
   "outputs": [
    {
     "name": "stderr",
     "output_type": "stream",
     "text": [
      "/anaconda3/lib/python3.6/site-packages/IPython/core/interactiveshell.py:2728: DtypeWarning: Columns (1) have mixed types. Specify dtype option on import or set low_memory=False.\n",
      "  interactivity=interactivity, compiler=compiler, result=result)\n"
     ]
    }
   ],
   "source": [
    "data = pd.read_csv('Total-Employment.csv')"
   ]
  },
  {
   "cell_type": "code",
   "execution_count": 26,
   "metadata": {},
   "outputs": [
    {
     "data": {
      "text/html": [
       "<div>\n",
       "<style scoped>\n",
       "    .dataframe tbody tr th:only-of-type {\n",
       "        vertical-align: middle;\n",
       "    }\n",
       "\n",
       "    .dataframe tbody tr th {\n",
       "        vertical-align: top;\n",
       "    }\n",
       "\n",
       "    .dataframe thead th {\n",
       "        text-align: right;\n",
       "    }\n",
       "</style>\n",
       "<table border=\"1\" class=\"dataframe\">\n",
       "  <thead>\n",
       "    <tr style=\"text-align: right;\">\n",
       "      <th></th>\n",
       "      <th>Country or Area</th>\n",
       "      <th>Year</th>\n",
       "      <th>Sex</th>\n",
       "      <th>Classification</th>\n",
       "      <th>Subclassification</th>\n",
       "      <th>Source</th>\n",
       "      <th>SourceID</th>\n",
       "      <th>Value</th>\n",
       "      <th>Value Footnotes</th>\n",
       "    </tr>\n",
       "  </thead>\n",
       "  <tbody>\n",
       "    <tr>\n",
       "      <th>0</th>\n",
       "      <td>Albania</td>\n",
       "      <td>2006</td>\n",
       "      <td>Total men and women</td>\n",
       "      <td>ISIC-Rev.3</td>\n",
       "      <td>Total.</td>\n",
       "      <td>Official estimates</td>\n",
       "      <td># 0</td>\n",
       "      <td>935.0</td>\n",
       "      <td>NaN</td>\n",
       "    </tr>\n",
       "    <tr>\n",
       "      <th>1</th>\n",
       "      <td>Albania</td>\n",
       "      <td>2006</td>\n",
       "      <td>Total men and women</td>\n",
       "      <td>ISIC-Rev.3</td>\n",
       "      <td>A-B.</td>\n",
       "      <td>Official estimates</td>\n",
       "      <td># 0</td>\n",
       "      <td>542.0</td>\n",
       "      <td>NaN</td>\n",
       "    </tr>\n",
       "    <tr>\n",
       "      <th>2</th>\n",
       "      <td>Albania</td>\n",
       "      <td>2006</td>\n",
       "      <td>Total men and women</td>\n",
       "      <td>ISIC-Rev.3</td>\n",
       "      <td>C. Mining and Quarrying</td>\n",
       "      <td>Official estimates</td>\n",
       "      <td># 0</td>\n",
       "      <td>5.0</td>\n",
       "      <td>NaN</td>\n",
       "    </tr>\n",
       "    <tr>\n",
       "      <th>3</th>\n",
       "      <td>Albania</td>\n",
       "      <td>2006</td>\n",
       "      <td>Total men and women</td>\n",
       "      <td>ISIC-Rev.3</td>\n",
       "      <td>D. Manufacturing</td>\n",
       "      <td>Official estimates</td>\n",
       "      <td># 0</td>\n",
       "      <td>58.0</td>\n",
       "      <td>NaN</td>\n",
       "    </tr>\n",
       "    <tr>\n",
       "      <th>4</th>\n",
       "      <td>Albania</td>\n",
       "      <td>2006</td>\n",
       "      <td>Total men and women</td>\n",
       "      <td>ISIC-Rev.3</td>\n",
       "      <td>E. Electricity, Gas and Water Supply</td>\n",
       "      <td>Official estimates</td>\n",
       "      <td># 0</td>\n",
       "      <td>10.0</td>\n",
       "      <td>NaN</td>\n",
       "    </tr>\n",
       "  </tbody>\n",
       "</table>\n",
       "</div>"
      ],
      "text/plain": [
       "  Country or Area  Year                  Sex Classification  \\\n",
       "0         Albania  2006  Total men and women     ISIC-Rev.3   \n",
       "1         Albania  2006  Total men and women     ISIC-Rev.3   \n",
       "2         Albania  2006  Total men and women     ISIC-Rev.3   \n",
       "3         Albania  2006  Total men and women     ISIC-Rev.3   \n",
       "4         Albania  2006  Total men and women     ISIC-Rev.3   \n",
       "\n",
       "                      Subclassification              Source SourceID  Value  \\\n",
       "0                                Total.  Official estimates      # 0  935.0   \n",
       "1                                  A-B.  Official estimates      # 0  542.0   \n",
       "2               C. Mining and Quarrying  Official estimates      # 0    5.0   \n",
       "3                      D. Manufacturing  Official estimates      # 0   58.0   \n",
       "4  E. Electricity, Gas and Water Supply  Official estimates      # 0   10.0   \n",
       "\n",
       "  Value Footnotes  \n",
       "0             NaN  \n",
       "1             NaN  \n",
       "2             NaN  \n",
       "3             NaN  \n",
       "4             NaN  "
      ]
     },
     "execution_count": 26,
     "metadata": {},
     "output_type": "execute_result"
    }
   ],
   "source": [
    "data.head()"
   ]
  },
  {
   "cell_type": "code",
   "execution_count": 27,
   "metadata": {},
   "outputs": [
    {
     "name": "stdout",
     "output_type": "stream",
     "text": [
      "<class 'pandas.core.frame.DataFrame'>\n",
      "RangeIndex: 100253 entries, 0 to 100252\n",
      "Data columns (total 9 columns):\n",
      "Country or Area      100253 non-null object\n",
      "Year                 100253 non-null object\n",
      "Sex                  100000 non-null object\n",
      "Classification       100000 non-null object\n",
      "Subclassification    100000 non-null object\n",
      "Source               100000 non-null object\n",
      "SourceID             100000 non-null object\n",
      "Value                100000 non-null float64\n",
      "Value Footnotes      97419 non-null object\n",
      "dtypes: float64(1), object(8)\n",
      "memory usage: 6.9+ MB\n"
     ]
    }
   ],
   "source": [
    "data.info()"
   ]
  },
  {
   "cell_type": "code",
   "execution_count": 28,
   "metadata": {},
   "outputs": [
    {
     "data": {
      "text/plain": [
       "Country or Area        411\n",
       "Year                   331\n",
       "Sex                      3\n",
       "Classification           5\n",
       "Subclassification      109\n",
       "Source                   7\n",
       "SourceID                 4\n",
       "Value                40167\n",
       "Value Footnotes        463\n",
       "dtype: int64"
      ]
     },
     "execution_count": 28,
     "metadata": {},
     "output_type": "execute_result"
    }
   ],
   "source": [
    "data.nunique()"
   ]
  },
  {
   "cell_type": "code",
   "execution_count": 29,
   "metadata": {},
   "outputs": [
    {
     "data": {
      "text/plain": [
       "411"
      ]
     },
     "execution_count": 29,
     "metadata": {},
     "output_type": "execute_result"
    }
   ],
   "source": [
    "data['Country or Area'].nunique()"
   ]
  },
  {
   "cell_type": "code",
   "execution_count": 30,
   "metadata": {},
   "outputs": [],
   "source": [
    "vals = data['Value']"
   ]
  },
  {
   "cell_type": "code",
   "execution_count": 31,
   "metadata": {},
   "outputs": [],
   "source": [
    "da = data[vals.isna()]"
   ]
  },
  {
   "cell_type": "code",
   "execution_count": 32,
   "metadata": {},
   "outputs": [
    {
     "data": {
      "text/html": [
       "<div>\n",
       "<style scoped>\n",
       "    .dataframe tbody tr th:only-of-type {\n",
       "        vertical-align: middle;\n",
       "    }\n",
       "\n",
       "    .dataframe tbody tr th {\n",
       "        vertical-align: top;\n",
       "    }\n",
       "\n",
       "    .dataframe thead th {\n",
       "        text-align: right;\n",
       "    }\n",
       "</style>\n",
       "<table border=\"1\" class=\"dataframe\">\n",
       "  <thead>\n",
       "    <tr style=\"text-align: right;\">\n",
       "      <th></th>\n",
       "      <th>Country or Area</th>\n",
       "      <th>Year</th>\n",
       "      <th>Sex</th>\n",
       "      <th>Classification</th>\n",
       "      <th>Subclassification</th>\n",
       "      <th>Source</th>\n",
       "      <th>SourceID</th>\n",
       "      <th>Value</th>\n",
       "      <th>Value Footnotes</th>\n",
       "    </tr>\n",
       "  </thead>\n",
       "  <tbody>\n",
       "    <tr>\n",
       "      <th>100000</th>\n",
       "      <td>footnoteSeqID</td>\n",
       "      <td>Footnote</td>\n",
       "      <td>NaN</td>\n",
       "      <td>NaN</td>\n",
       "      <td>NaN</td>\n",
       "      <td>NaN</td>\n",
       "      <td>NaN</td>\n",
       "      <td>NaN</td>\n",
       "      <td>NaN</td>\n",
       "    </tr>\n",
       "    <tr>\n",
       "      <th>100001</th>\n",
       "      <td>1</td>\n",
       "      <td>Sep. of each year.</td>\n",
       "      <td>NaN</td>\n",
       "      <td>NaN</td>\n",
       "      <td>NaN</td>\n",
       "      <td>NaN</td>\n",
       "      <td>NaN</td>\n",
       "      <td>NaN</td>\n",
       "      <td>NaN</td>\n",
       "    </tr>\n",
       "  </tbody>\n",
       "</table>\n",
       "</div>"
      ],
      "text/plain": [
       "       Country or Area                Year  Sex Classification  \\\n",
       "100000   footnoteSeqID            Footnote  NaN            NaN   \n",
       "100001               1  Sep. of each year.  NaN            NaN   \n",
       "\n",
       "       Subclassification Source SourceID  Value Value Footnotes  \n",
       "100000               NaN    NaN      NaN    NaN             NaN  \n",
       "100001               NaN    NaN      NaN    NaN             NaN  "
      ]
     },
     "execution_count": 32,
     "metadata": {},
     "output_type": "execute_result"
    }
   ],
   "source": [
    "da.head(2)"
   ]
  },
  {
   "cell_type": "code",
   "execution_count": 33,
   "metadata": {},
   "outputs": [],
   "source": [
    "data = data[0:100000]"
   ]
  },
  {
   "cell_type": "code",
   "execution_count": 34,
   "metadata": {},
   "outputs": [
    {
     "name": "stdout",
     "output_type": "stream",
     "text": [
      "<class 'pandas.core.frame.DataFrame'>\n",
      "RangeIndex: 100000 entries, 0 to 99999\n",
      "Data columns (total 9 columns):\n",
      "Country or Area      100000 non-null object\n",
      "Year                 100000 non-null object\n",
      "Sex                  100000 non-null object\n",
      "Classification       100000 non-null object\n",
      "Subclassification    100000 non-null object\n",
      "Source               100000 non-null object\n",
      "SourceID             100000 non-null object\n",
      "Value                100000 non-null float64\n",
      "Value Footnotes      97419 non-null object\n",
      "dtypes: float64(1), object(8)\n",
      "memory usage: 6.9+ MB\n"
     ]
    }
   ],
   "source": [
    "data.info()"
   ]
  },
  {
   "cell_type": "code",
   "execution_count": 35,
   "metadata": {},
   "outputs": [],
   "source": [
    "data.drop(columns=['Value Footnotes'],inplace=True)"
   ]
  },
  {
   "cell_type": "code",
   "execution_count": 36,
   "metadata": {},
   "outputs": [
    {
     "data": {
      "text/html": [
       "<div>\n",
       "<style scoped>\n",
       "    .dataframe tbody tr th:only-of-type {\n",
       "        vertical-align: middle;\n",
       "    }\n",
       "\n",
       "    .dataframe tbody tr th {\n",
       "        vertical-align: top;\n",
       "    }\n",
       "\n",
       "    .dataframe thead th {\n",
       "        text-align: right;\n",
       "    }\n",
       "</style>\n",
       "<table border=\"1\" class=\"dataframe\">\n",
       "  <thead>\n",
       "    <tr style=\"text-align: right;\">\n",
       "      <th></th>\n",
       "      <th>Country or Area</th>\n",
       "      <th>Year</th>\n",
       "      <th>Sex</th>\n",
       "      <th>Classification</th>\n",
       "      <th>Subclassification</th>\n",
       "      <th>Source</th>\n",
       "      <th>SourceID</th>\n",
       "      <th>Value</th>\n",
       "    </tr>\n",
       "  </thead>\n",
       "  <tbody>\n",
       "    <tr>\n",
       "      <th>0</th>\n",
       "      <td>Albania</td>\n",
       "      <td>2006</td>\n",
       "      <td>Total men and women</td>\n",
       "      <td>ISIC-Rev.3</td>\n",
       "      <td>Total.</td>\n",
       "      <td>Official estimates</td>\n",
       "      <td># 0</td>\n",
       "      <td>935.0</td>\n",
       "    </tr>\n",
       "    <tr>\n",
       "      <th>1</th>\n",
       "      <td>Albania</td>\n",
       "      <td>2006</td>\n",
       "      <td>Total men and women</td>\n",
       "      <td>ISIC-Rev.3</td>\n",
       "      <td>A-B.</td>\n",
       "      <td>Official estimates</td>\n",
       "      <td># 0</td>\n",
       "      <td>542.0</td>\n",
       "    </tr>\n",
       "    <tr>\n",
       "      <th>2</th>\n",
       "      <td>Albania</td>\n",
       "      <td>2006</td>\n",
       "      <td>Total men and women</td>\n",
       "      <td>ISIC-Rev.3</td>\n",
       "      <td>C. Mining and Quarrying</td>\n",
       "      <td>Official estimates</td>\n",
       "      <td># 0</td>\n",
       "      <td>5.0</td>\n",
       "    </tr>\n",
       "    <tr>\n",
       "      <th>3</th>\n",
       "      <td>Albania</td>\n",
       "      <td>2006</td>\n",
       "      <td>Total men and women</td>\n",
       "      <td>ISIC-Rev.3</td>\n",
       "      <td>D. Manufacturing</td>\n",
       "      <td>Official estimates</td>\n",
       "      <td># 0</td>\n",
       "      <td>58.0</td>\n",
       "    </tr>\n",
       "    <tr>\n",
       "      <th>4</th>\n",
       "      <td>Albania</td>\n",
       "      <td>2006</td>\n",
       "      <td>Total men and women</td>\n",
       "      <td>ISIC-Rev.3</td>\n",
       "      <td>E. Electricity, Gas and Water Supply</td>\n",
       "      <td>Official estimates</td>\n",
       "      <td># 0</td>\n",
       "      <td>10.0</td>\n",
       "    </tr>\n",
       "  </tbody>\n",
       "</table>\n",
       "</div>"
      ],
      "text/plain": [
       "  Country or Area  Year                  Sex Classification  \\\n",
       "0         Albania  2006  Total men and women     ISIC-Rev.3   \n",
       "1         Albania  2006  Total men and women     ISIC-Rev.3   \n",
       "2         Albania  2006  Total men and women     ISIC-Rev.3   \n",
       "3         Albania  2006  Total men and women     ISIC-Rev.3   \n",
       "4         Albania  2006  Total men and women     ISIC-Rev.3   \n",
       "\n",
       "                      Subclassification              Source SourceID  Value  \n",
       "0                                Total.  Official estimates      # 0  935.0  \n",
       "1                                  A-B.  Official estimates      # 0  542.0  \n",
       "2               C. Mining and Quarrying  Official estimates      # 0    5.0  \n",
       "3                      D. Manufacturing  Official estimates      # 0   58.0  \n",
       "4  E. Electricity, Gas and Water Supply  Official estimates      # 0   10.0  "
      ]
     },
     "execution_count": 36,
     "metadata": {},
     "output_type": "execute_result"
    }
   ],
   "source": [
    "data.head()"
   ]
  },
  {
   "cell_type": "code",
   "execution_count": 37,
   "metadata": {},
   "outputs": [
    {
     "data": {
      "text/plain": [
       "Country or Area        158\n",
       "Year                    80\n",
       "Sex                      3\n",
       "Classification           5\n",
       "Subclassification      109\n",
       "Source                   7\n",
       "SourceID                 4\n",
       "Value                40167\n",
       "dtype: int64"
      ]
     },
     "execution_count": 37,
     "metadata": {},
     "output_type": "execute_result"
    }
   ],
   "source": [
    "data.nunique()"
   ]
  },
  {
   "cell_type": "code",
   "execution_count": 40,
   "metadata": {},
   "outputs": [],
   "source": [
    "list_unique_countries = data['Country or Area'].unique()"
   ]
  },
  {
   "cell_type": "code",
   "execution_count": 62,
   "metadata": {},
   "outputs": [
    {
     "data": {
      "text/plain": [
       "array(['Albania', 'Algeria', 'American Samoa', 'Angola', 'Anguilla',\n",
       "       'Antigua and Barbuda', 'Argentina', 'Armenia', 'Aruba',\n",
       "       'Australia', 'Austria', 'Azerbaijan', 'Bahamas', 'Bahrain',\n",
       "       'Bangladesh', 'Barbados', 'Belarus', 'Belgium', 'Belize',\n",
       "       'Bermuda', 'Bhutan', 'Bolivia', 'Botswana', 'Brazil',\n",
       "       'Brunei Darussalam', 'Bulgaria', 'Cambodia', 'Cameroon', 'Canada',\n",
       "       'Cayman Islands', 'Chile', 'China', 'Colombia', 'Costa Rica',\n",
       "       'Croatia', 'Cuba', 'Cyprus', 'Czech Republic', 'Czechoslovakia',\n",
       "       'Denmark', 'Dominica', 'Dominican Republic', 'Ecuador', 'Egypt',\n",
       "       'El Salvador', 'Equatorial Guinea', 'Estonia', 'Ethiopia',\n",
       "       'Faeroe Islands', 'Fiji', 'Finland', 'France', 'French Polynesia',\n",
       "       'Gabon', 'Georgia', 'Germany',\n",
       "       'Germany, Fed. Rep. of before 3.10.1990',\n",
       "       'Germany, The former German Dem. Rep.', 'Gibraltar', 'Greece',\n",
       "       'Grenada', 'Guadeloupe', 'Guatemala', 'Guyana', 'Haiti',\n",
       "       'Honduras', 'Hong Kong, China', 'Hungary', 'Iceland', 'Indonesia',\n",
       "       'Iran, Islamic Rep. of', 'Ireland', 'Isle of Man', 'Israel',\n",
       "       'Italy', 'Jamaica', 'Japan', 'Jersey', 'Kazakhstan', 'Kiribati',\n",
       "       'Korea, Republic of', 'Kuwait', 'Kyrgyzstan', 'Latvia', 'Lesotho',\n",
       "       'Libyan Arab Jamahiriya', 'Lithuania', 'Luxembourg',\n",
       "       'Macau, China', 'Macedonia, The former Yugoslav Rep. of',\n",
       "       'Madagascar', 'Malaysia', 'Malaysia: Peninsular Malaysia',\n",
       "       'Maldives', 'Mali', 'Malta', 'Marshall Islands', 'Martinique',\n",
       "       'Mauritius', 'Mexico', 'Moldova, Republic of', 'Mongolia',\n",
       "       'Montenegro', 'Montserrat', 'Morocco', 'Myanmar', 'Namibia',\n",
       "       'Nepal', 'Netherlands', 'Netherlands Antilles', 'New Caledonia',\n",
       "       'New Zealand', 'Nicaragua', 'Nigeria', 'Niue',\n",
       "       'Northern Mariana Islands', 'Norway', 'Oman', 'Pakistan', 'Palau',\n",
       "       'Panama', 'Papua New Guinea', 'Paraguay', 'Peru', 'Philippines',\n",
       "       'Poland', 'Portugal', 'Puerto Rico', 'Qatar', 'Romania',\n",
       "       'Russian Federation', 'Saint Helena', 'Saint Kitts and Nevis',\n",
       "       'Saint Lucia', 'Saint Pierre and Miquelon', 'Samoa', 'San Marino',\n",
       "       'Sao Tome and Principe', 'Saudi Arabia', 'Senegal', 'Serbia',\n",
       "       'Sierra Leone', 'Singapore', 'Slovakia', 'Slovenia',\n",
       "       'South Africa', 'Spain', 'Sri Lanka', 'Suriname', 'Sweden',\n",
       "       'Switzerland', 'Syrian Arab Republic', 'Tajikistan',\n",
       "       'Tanzania (Tanganyika)', 'Tanzania, United Republic of',\n",
       "       'Thailand', 'Tonga', 'Trinidad and Tobago'], dtype=object)"
      ]
     },
     "execution_count": 62,
     "metadata": {},
     "output_type": "execute_result"
    }
   ],
   "source": [
    "list_unique_countries"
   ]
  },
  {
   "cell_type": "code",
   "execution_count": 41,
   "metadata": {},
   "outputs": [
    {
     "data": {
      "text/plain": [
       "158"
      ]
     },
     "execution_count": 41,
     "metadata": {},
     "output_type": "execute_result"
    }
   ],
   "source": [
    "len(list_unique_countries)"
   ]
  },
  {
   "cell_type": "code",
   "execution_count": 42,
   "metadata": {},
   "outputs": [],
   "source": [
    "list_years =data['Year'].unique()"
   ]
  },
  {
   "cell_type": "code",
   "execution_count": 43,
   "metadata": {},
   "outputs": [
    {
     "data": {
      "text/plain": [
       "80"
      ]
     },
     "execution_count": 43,
     "metadata": {},
     "output_type": "execute_result"
    }
   ],
   "source": [
    "len(list_years)"
   ]
  },
  {
   "cell_type": "code",
   "execution_count": 44,
   "metadata": {},
   "outputs": [
    {
     "data": {
      "text/plain": [
       "array([2006, 2005, 2004, 2003, 2002, 2001, 2000, 1999, 1998, 1997, 1996,\n",
       "       1995, 1994, 1993, 1987, 1985, 1984, 1983, 1982, 1981, 1980, 1979,\n",
       "       1978, 1977, 1976, 1975, 1974, 1973, 1972, 1971, 1990, 1992, 2008,\n",
       "       2007, 1970, 1991, 1989, 1988, 1986, 1969, '2003', '2002', '2001',\n",
       "       '2000', '1999', '1998', '1997', '1996', '1995', '1994', '1993',\n",
       "       '1992', '1991', '1990', '1989', '1988', '1987', '1986', '1985',\n",
       "       '1984', '1983', '1982', '1981', '1980', '1979', '1978', '1977',\n",
       "       '1976', '1975', '1974', '1973', '1972', '1971', '1970', '1969',\n",
       "       '2008', '2007', '2006', '2005', '2004'], dtype=object)"
      ]
     },
     "execution_count": 44,
     "metadata": {},
     "output_type": "execute_result"
    }
   ],
   "source": [
    "list_years"
   ]
  },
  {
   "cell_type": "code",
   "execution_count": 54,
   "metadata": {},
   "outputs": [
    {
     "data": {
      "text/plain": [
       "dtype('O')"
      ]
     },
     "execution_count": 54,
     "metadata": {},
     "output_type": "execute_result"
    }
   ],
   "source": [
    "data_2006['Year'].dtype"
   ]
  },
  {
   "cell_type": "code",
   "execution_count": 55,
   "metadata": {},
   "outputs": [],
   "source": [
    "data['Year'] = pd.to_numeric(data['Year'])"
   ]
  },
  {
   "cell_type": "code",
   "execution_count": 56,
   "metadata": {},
   "outputs": [
    {
     "data": {
      "text/plain": [
       "dtype('int64')"
      ]
     },
     "execution_count": 56,
     "metadata": {},
     "output_type": "execute_result"
    }
   ],
   "source": [
    "data['Year'].dtype"
   ]
  },
  {
   "cell_type": "code",
   "execution_count": 58,
   "metadata": {},
   "outputs": [],
   "source": [
    "fgfd = data['Year'].unique()"
   ]
  },
  {
   "cell_type": "code",
   "execution_count": 59,
   "metadata": {},
   "outputs": [
    {
     "data": {
      "text/plain": [
       "40"
      ]
     },
     "execution_count": 59,
     "metadata": {},
     "output_type": "execute_result"
    }
   ],
   "source": [
    "len(fgfd)"
   ]
  },
  {
   "cell_type": "code",
   "execution_count": 60,
   "metadata": {},
   "outputs": [
    {
     "name": "stdout",
     "output_type": "stream",
     "text": [
      "<class 'pandas.core.frame.DataFrame'>\n",
      "RangeIndex: 100000 entries, 0 to 99999\n",
      "Data columns (total 8 columns):\n",
      "Country or Area      100000 non-null object\n",
      "Year                 100000 non-null int64\n",
      "Sex                  100000 non-null object\n",
      "Classification       100000 non-null object\n",
      "Subclassification    100000 non-null object\n",
      "Source               100000 non-null object\n",
      "SourceID             100000 non-null object\n",
      "Value                100000 non-null float64\n",
      "dtypes: float64(1), int64(1), object(6)\n",
      "memory usage: 6.1+ MB\n"
     ]
    }
   ],
   "source": [
    "data.info()"
   ]
  },
  {
   "cell_type": "code",
   "execution_count": 61,
   "metadata": {},
   "outputs": [
    {
     "data": {
      "text/plain": [
       "Country or Area        158\n",
       "Year                    40\n",
       "Sex                      3\n",
       "Classification           5\n",
       "Subclassification      109\n",
       "Source                   7\n",
       "SourceID                 4\n",
       "Value                40167\n",
       "dtype: int64"
      ]
     },
     "execution_count": 61,
     "metadata": {},
     "output_type": "execute_result"
    }
   ],
   "source": [
    "data.nunique()"
   ]
  },
  {
   "cell_type": "code",
   "execution_count": 63,
   "metadata": {},
   "outputs": [],
   "source": [
    "subclass = data.Subclassification.unique()"
   ]
  },
  {
   "cell_type": "code",
   "execution_count": 65,
   "metadata": {},
   "outputs": [
    {
     "data": {
      "text/plain": [
       "array(['Total.', 'A-B.', 'C. Mining and Quarrying', 'D. Manufacturing',\n",
       "       'E. Electricity, Gas and Water Supply', 'F. Construction',\n",
       "       'G. Wholesale and Retail Trade; Repair of Motor Vehicles, Motorcycles and Personal and Household Goods',\n",
       "       'H. Hotels and Restaurants',\n",
       "       'I. Transport, Storage and Communications', 'J-L,O-Q.',\n",
       "       'M. Education', 'N. Health and Social Work',\n",
       "       'A. Agriculture, Hunting and Forestry', 'B. Fishing',\n",
       "       'J. Financial Intermediation',\n",
       "       'K. Real Estate, Renting and Business Activities',\n",
       "       'L. Public Administration and Defence; Compulsory Social Security',\n",
       "       'P. Households with Employed Persons',\n",
       "       'Q. Extra-Territorial Organizations and Bodies',\n",
       "       'X. Not classifiable by economic activity',\n",
       "       'O. Other Community,Social and Personal Service Activities',\n",
       "       '2-9.', '1.', '3.', '5.', '6.', '7.', '9.', '0.',\n",
       "       '1. Agriculture, Hunting, Forestry and Fishing',\n",
       "       '2. Mining and Quarrying', '3. Manufacturing',\n",
       "       '4. Electricity, Gas and Water', '5. Construction',\n",
       "       '6. Wholesale and Retail Trade and Restaurants and Hotels',\n",
       "       '7. Transport, Storage and Communication',\n",
       "       '8. Financing, Insurance, Real Estate and Business Services',\n",
       "       '9. Community, Social and Personal Services',\n",
       "       '0. Activities not Adequately Defined', 'A-C.', 'J-K.', 'M-N.',\n",
       "       'C-Q.', 'C,E.', 'L-P.', 'L-O.', 'P-Q.', 'Q-X.', 'O-X.', 'O-P.',\n",
       "       'A. Agriculture, forestry and fishing', 'B. Mining and quarrying',\n",
       "       'C. Manufacturing',\n",
       "       'D. Electricity, gas, steam and air conditioning supply',\n",
       "       'E. Water supply; sewerage, waste management and remediation activities',\n",
       "       'G. Wholesale and retail trade; repair of motor vehicles and motorcycles',\n",
       "       'H. Transportation and storage',\n",
       "       'I. Accommodation and food service activities',\n",
       "       'J. Information and communication',\n",
       "       'K. Financial and insurance activities',\n",
       "       'L. Real estate activities',\n",
       "       'M. Professional, scientific and technical activities',\n",
       "       'N. Administrative and support service activities',\n",
       "       'O. Public administration and defence; compulsory social security',\n",
       "       'P. Education', 'Q. Human health and social work activities',\n",
       "       'R. Arts, entertainment and recreation', 'S-U.', 'O-Q.', 'C-D.',\n",
       "       'L,O.', 'K,M-N.', 'G-H.', 'N-O.', '2-4.', '2.', '4.', '8.',\n",
       "       'S. Other service activities',\n",
       "       'T. Activities of households as employers; undifferentiated goods- and services-producing activities of households for own use',\n",
       "       'U. Activities of extraterritorial organizations and bodies',\n",
       "       '1-9.', '0. Agriculture, forestry, hunting and fishing',\n",
       "       '1. Mining and quarrying', '2-3. Manufacturing',\n",
       "       '5. Electricity, gas, water and sanitary services', '6. Commerce',\n",
       "       '7. Transport, storage and communication', '8. Services',\n",
       "       '9. Activities not adequately described', 'C,F.', 'M-O.', 'C-E.',\n",
       "       'G-I.', '4. Construction', 'L-Q.', '6-8.', 'J-Q.', 'M-Q.', '9-0.',\n",
       "       'P-X.', 'L-N.', 'A,B,D,E.', 'R-U.', 'A-C,E,X.', 'L,M.', 'O,Q.',\n",
       "       'L,Q.', '8-9.'], dtype=object)"
      ]
     },
     "execution_count": 65,
     "metadata": {},
     "output_type": "execute_result"
    }
   ],
   "source": [
    "subclass"
   ]
  },
  {
   "cell_type": "code",
   "execution_count": 66,
   "metadata": {},
   "outputs": [],
   "source": [
    "data['Subclassification'] = data['Subclassification'].str.lower()"
   ]
  },
  {
   "cell_type": "code",
   "execution_count": 67,
   "metadata": {},
   "outputs": [
    {
     "data": {
      "text/plain": [
       "Country or Area        158\n",
       "Year                    40\n",
       "Sex                      3\n",
       "Classification           5\n",
       "Subclassification      108\n",
       "Source                   7\n",
       "SourceID                 4\n",
       "Value                40167\n",
       "dtype: int64"
      ]
     },
     "execution_count": 67,
     "metadata": {},
     "output_type": "execute_result"
    }
   ],
   "source": [
    "data.nunique()"
   ]
  },
  {
   "cell_type": "code",
   "execution_count": 68,
   "metadata": {},
   "outputs": [],
   "source": [
    "subclass = data.Subclassification.unique()"
   ]
  },
  {
   "cell_type": "code",
   "execution_count": 69,
   "metadata": {},
   "outputs": [
    {
     "data": {
      "text/plain": [
       "array(['total.', 'a-b.', 'c. mining and quarrying', 'd. manufacturing',\n",
       "       'e. electricity, gas and water supply', 'f. construction',\n",
       "       'g. wholesale and retail trade; repair of motor vehicles, motorcycles and personal and household goods',\n",
       "       'h. hotels and restaurants',\n",
       "       'i. transport, storage and communications', 'j-l,o-q.',\n",
       "       'm. education', 'n. health and social work',\n",
       "       'a. agriculture, hunting and forestry', 'b. fishing',\n",
       "       'j. financial intermediation',\n",
       "       'k. real estate, renting and business activities',\n",
       "       'l. public administration and defence; compulsory social security',\n",
       "       'p. households with employed persons',\n",
       "       'q. extra-territorial organizations and bodies',\n",
       "       'x. not classifiable by economic activity',\n",
       "       'o. other community,social and personal service activities',\n",
       "       '2-9.', '1.', '3.', '5.', '6.', '7.', '9.', '0.',\n",
       "       '1. agriculture, hunting, forestry and fishing',\n",
       "       '2. mining and quarrying', '3. manufacturing',\n",
       "       '4. electricity, gas and water', '5. construction',\n",
       "       '6. wholesale and retail trade and restaurants and hotels',\n",
       "       '7. transport, storage and communication',\n",
       "       '8. financing, insurance, real estate and business services',\n",
       "       '9. community, social and personal services',\n",
       "       '0. activities not adequately defined', 'a-c.', 'j-k.', 'm-n.',\n",
       "       'c-q.', 'c,e.', 'l-p.', 'l-o.', 'p-q.', 'q-x.', 'o-x.', 'o-p.',\n",
       "       'a. agriculture, forestry and fishing', 'b. mining and quarrying',\n",
       "       'c. manufacturing',\n",
       "       'd. electricity, gas, steam and air conditioning supply',\n",
       "       'e. water supply; sewerage, waste management and remediation activities',\n",
       "       'g. wholesale and retail trade; repair of motor vehicles and motorcycles',\n",
       "       'h. transportation and storage',\n",
       "       'i. accommodation and food service activities',\n",
       "       'j. information and communication',\n",
       "       'k. financial and insurance activities',\n",
       "       'l. real estate activities',\n",
       "       'm. professional, scientific and technical activities',\n",
       "       'n. administrative and support service activities',\n",
       "       'o. public administration and defence; compulsory social security',\n",
       "       'p. education', 'q. human health and social work activities',\n",
       "       'r. arts, entertainment and recreation', 's-u.', 'o-q.', 'c-d.',\n",
       "       'l,o.', 'k,m-n.', 'g-h.', 'n-o.', '2-4.', '2.', '4.', '8.',\n",
       "       's. other service activities',\n",
       "       't. activities of households as employers; undifferentiated goods- and services-producing activities of households for own use',\n",
       "       'u. activities of extraterritorial organizations and bodies',\n",
       "       '1-9.', '0. agriculture, forestry, hunting and fishing',\n",
       "       '1. mining and quarrying', '2-3. manufacturing',\n",
       "       '5. electricity, gas, water and sanitary services', '6. commerce',\n",
       "       '8. services', '9. activities not adequately described', 'c,f.',\n",
       "       'm-o.', 'c-e.', 'g-i.', '4. construction', 'l-q.', '6-8.', 'j-q.',\n",
       "       'm-q.', '9-0.', 'p-x.', 'l-n.', 'a,b,d,e.', 'r-u.', 'a-c,e,x.',\n",
       "       'l,m.', 'o,q.', 'l,q.', '8-9.'], dtype=object)"
      ]
     },
     "execution_count": 69,
     "metadata": {},
     "output_type": "execute_result"
    }
   ],
   "source": [
    "subclass"
   ]
  },
  {
   "cell_type": "code",
   "execution_count": null,
   "metadata": {},
   "outputs": [],
   "source": []
  }
 ],
 "metadata": {
  "kernelspec": {
   "display_name": "Python 3",
   "language": "python",
   "name": "python3"
  },
  "language_info": {
   "codemirror_mode": {
    "name": "ipython",
    "version": 3
   },
   "file_extension": ".py",
   "mimetype": "text/x-python",
   "name": "python",
   "nbconvert_exporter": "python",
   "pygments_lexer": "ipython3",
   "version": "3.6.4"
  }
 },
 "nbformat": 4,
 "nbformat_minor": 2
}
